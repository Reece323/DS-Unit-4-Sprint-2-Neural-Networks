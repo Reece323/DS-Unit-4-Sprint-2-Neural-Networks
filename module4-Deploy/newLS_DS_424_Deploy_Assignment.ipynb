{
 "cells": [
  {
   "cell_type": "markdown",
   "metadata": {
    "id": "NGGrt9EYlCqY"
   },
   "source": [
    "<img align=\"left\" src=\"https://lever-client-logos.s3.amazonaws.com/864372b1-534c-480e-acd5-9711f850815c-1524247202159.png\" width=200>\n",
    "<br></br>\n",
    "<br></br>\n",
    "\n",
    "# Train Practice\n",
    "\n",
    "## *Data Science Unit 4 Sprint 2 Assignment 4*\n",
    "\n",
    "Continue to use TensorFlow Keras & a sample of the [Quickdraw dataset](https://github.com/googlecreativelab/quickdraw-dataset) to build a sketch classification model. The dataset has been sampled to only 10 classes and 10000 observations per class. Apply regularization techniques to your model. \n",
    "\n",
    "*Don't forgot to switch to GPU on Colab!*"
   ]
  },
  {
   "cell_type": "markdown",
   "metadata": {
    "id": "ptJ2b3wk62Ud"
   },
   "source": [
    "## Regularization\n",
    "\n",
    "Using your best performing model from the previous module, apply each of the following regularization strategies: \n",
    "* Early Stopping\n",
    "* Dropout\n",
    "* Weight Decay\n",
    "* Weight Constraint\n"
   ]
  },
  {
   "cell_type": "code",
   "execution_count": 22,
   "metadata": {
    "colab": {
     "base_uri": "https://localhost:8080/"
    },
    "id": "eAfMVRVwNANA",
    "outputId": "6e6b7cdc-b324-4c42-ae55-40d7a65ac924"
   },
   "outputs": [
    {
     "name": "stdout",
     "output_type": "stream",
     "text": [
      "WARNING: Error parsing requirements for nltk: [Errno 2] No such file or directory: '/opt/anaconda3/envs/U4-S1-NLP/lib/python3.8/site-packages/nltk-3.5.dist-info/METADATA'\n",
      "WARNING: Error parsing requirements for catalogue: [Errno 2] No such file or directory: '/opt/anaconda3/envs/U4-S1-NLP/lib/python3.8/site-packages/catalogue-1.0.0.dist-info/METADATA'\n",
      "Requirement already satisfied: opencv-python in /opt/anaconda3/envs/U4-S1-NLP/lib/python3.8/site-packages (4.4.0.46)\n",
      "Requirement already satisfied: numpy>=1.17.3 in /opt/anaconda3/envs/U4-S1-NLP/lib/python3.8/site-packages (from opencv-python) (1.19.4)\n",
      "WARNING: Error parsing requirements for nltk: [Errno 2] No such file or directory: '/opt/anaconda3/envs/U4-S1-NLP/lib/python3.8/site-packages/nltk-3.5.dist-info/METADATA'\n",
      "WARNING: Error parsing requirements for catalogue: [Errno 2] No such file or directory: '/opt/anaconda3/envs/U4-S1-NLP/lib/python3.8/site-packages/catalogue-1.0.0.dist-info/METADATA'\n",
      "The tensorboard extension is already loaded. To reload it, use:\n",
      "  %reload_ext tensorboard\n",
      "Requirement already up-to-date: keras-tuner in /opt/anaconda3/envs/U4-S1-NLP/lib/python3.8/site-packages (1.0.1)\n",
      "Requirement already satisfied, skipping upgrade: requests in /opt/anaconda3/envs/U4-S1-NLP/lib/python3.8/site-packages (from keras-tuner) (2.25.0)\n",
      "Requirement already satisfied, skipping upgrade: numpy in /opt/anaconda3/envs/U4-S1-NLP/lib/python3.8/site-packages (from keras-tuner) (1.19.4)\n",
      "Requirement already satisfied, skipping upgrade: terminaltables in /opt/anaconda3/envs/U4-S1-NLP/lib/python3.8/site-packages (from keras-tuner) (3.1.0)\n",
      "Requirement already satisfied, skipping upgrade: scikit-learn in /opt/anaconda3/envs/U4-S1-NLP/lib/python3.8/site-packages (from keras-tuner) (0.23.2)\n",
      "Requirement already satisfied, skipping upgrade: colorama in /opt/anaconda3/envs/U4-S1-NLP/lib/python3.8/site-packages (from keras-tuner) (0.4.4)\n",
      "Requirement already satisfied, skipping upgrade: tabulate in /opt/anaconda3/envs/U4-S1-NLP/lib/python3.8/site-packages (from keras-tuner) (0.8.7)\n",
      "Requirement already satisfied, skipping upgrade: tqdm in /opt/anaconda3/envs/U4-S1-NLP/lib/python3.8/site-packages (from keras-tuner) (4.52.0)\n",
      "Requirement already satisfied, skipping upgrade: scipy in /opt/anaconda3/envs/U4-S1-NLP/lib/python3.8/site-packages (from keras-tuner) (1.5.4)\n",
      "Requirement already satisfied, skipping upgrade: future in /opt/anaconda3/envs/U4-S1-NLP/lib/python3.8/site-packages (from keras-tuner) (0.16.0)\n",
      "Requirement already satisfied, skipping upgrade: urllib3<1.27,>=1.21.1 in /opt/anaconda3/envs/U4-S1-NLP/lib/python3.8/site-packages (from requests->keras-tuner) (1.25.11)\n",
      "Requirement already satisfied, skipping upgrade: certifi>=2017.4.17 in /opt/anaconda3/envs/U4-S1-NLP/lib/python3.8/site-packages (from requests->keras-tuner) (2020.11.8)\n",
      "Requirement already satisfied, skipping upgrade: chardet<4,>=3.0.2 in /opt/anaconda3/envs/U4-S1-NLP/lib/python3.8/site-packages (from requests->keras-tuner) (3.0.4)\n",
      "Requirement already satisfied, skipping upgrade: idna<3,>=2.5 in /opt/anaconda3/envs/U4-S1-NLP/lib/python3.8/site-packages (from requests->keras-tuner) (2.10)\n",
      "Requirement already satisfied, skipping upgrade: joblib>=0.11 in /opt/anaconda3/envs/U4-S1-NLP/lib/python3.8/site-packages (from scikit-learn->keras-tuner) (0.17.0)\n",
      "Requirement already satisfied, skipping upgrade: threadpoolctl>=2.0.0 in /opt/anaconda3/envs/U4-S1-NLP/lib/python3.8/site-packages (from scikit-learn->keras-tuner) (2.1.0)\n",
      "WARNING: Error parsing requirements for nltk: [Errno 2] No such file or directory: '/opt/anaconda3/envs/U4-S1-NLP/lib/python3.8/site-packages/nltk-3.5.dist-info/METADATA'\n",
      "WARNING: Error parsing requirements for catalogue: [Errno 2] No such file or directory: '/opt/anaconda3/envs/U4-S1-NLP/lib/python3.8/site-packages/catalogue-1.0.0.dist-info/METADATA'\n",
      "Requirement already up-to-date: wandb in /opt/anaconda3/envs/U4-S1-NLP/lib/python3.8/site-packages (0.10.11)\n",
      "Requirement already satisfied, skipping upgrade: configparser>=3.8.1 in /opt/anaconda3/envs/U4-S1-NLP/lib/python3.8/site-packages (from wandb) (5.0.1)\n",
      "Requirement already satisfied, skipping upgrade: GitPython>=1.0.0 in /opt/anaconda3/envs/U4-S1-NLP/lib/python3.8/site-packages (from wandb) (3.1.11)\n",
      "Requirement already satisfied, skipping upgrade: Click>=7.0 in /opt/anaconda3/envs/U4-S1-NLP/lib/python3.8/site-packages (from wandb) (7.1.2)\n",
      "Requirement already satisfied, skipping upgrade: promise<3,>=2.0 in /opt/anaconda3/envs/U4-S1-NLP/lib/python3.8/site-packages (from wandb) (2.3)\n",
      "Requirement already satisfied, skipping upgrade: psutil>=5.0.0 in /opt/anaconda3/envs/U4-S1-NLP/lib/python3.8/site-packages (from wandb) (5.7.3)\n",
      "Requirement already satisfied, skipping upgrade: subprocess32>=3.5.3 in /opt/anaconda3/envs/U4-S1-NLP/lib/python3.8/site-packages (from wandb) (3.5.4)\n",
      "Requirement already satisfied, skipping upgrade: sentry-sdk>=0.4.0 in /opt/anaconda3/envs/U4-S1-NLP/lib/python3.8/site-packages (from wandb) (0.19.3)\n",
      "Requirement already satisfied, skipping upgrade: shortuuid>=0.5.0 in /opt/anaconda3/envs/U4-S1-NLP/lib/python3.8/site-packages (from wandb) (1.0.1)\n",
      "Requirement already satisfied, skipping upgrade: watchdog>=0.8.3 in /opt/anaconda3/envs/U4-S1-NLP/lib/python3.8/site-packages (from wandb) (0.10.3)\n",
      "Requirement already satisfied, skipping upgrade: docker-pycreds>=0.4.0 in /opt/anaconda3/envs/U4-S1-NLP/lib/python3.8/site-packages (from wandb) (0.4.0)\n",
      "Requirement already satisfied, skipping upgrade: protobuf>=3.12.0 in /opt/anaconda3/envs/U4-S1-NLP/lib/python3.8/site-packages (from wandb) (3.13.0)\n",
      "Requirement already satisfied, skipping upgrade: requests<3,>=2.0.0 in /opt/anaconda3/envs/U4-S1-NLP/lib/python3.8/site-packages (from wandb) (2.25.0)\n",
      "Requirement already satisfied, skipping upgrade: python-dateutil>=2.6.1 in /opt/anaconda3/envs/U4-S1-NLP/lib/python3.8/site-packages (from wandb) (2.8.1)\n",
      "Requirement already satisfied, skipping upgrade: six>=1.13.0 in /opt/anaconda3/envs/U4-S1-NLP/lib/python3.8/site-packages (from wandb) (1.15.0)\n",
      "Requirement already satisfied, skipping upgrade: PyYAML in /opt/anaconda3/envs/U4-S1-NLP/lib/python3.8/site-packages (from wandb) (5.3.1)\n",
      "Requirement already satisfied, skipping upgrade: gitdb<5,>=4.0.1 in /opt/anaconda3/envs/U4-S1-NLP/lib/python3.8/site-packages (from GitPython>=1.0.0->wandb) (4.0.5)\n",
      "Requirement already satisfied, skipping upgrade: certifi in /opt/anaconda3/envs/U4-S1-NLP/lib/python3.8/site-packages (from sentry-sdk>=0.4.0->wandb) (2020.11.8)\n",
      "Requirement already satisfied, skipping upgrade: urllib3>=1.10.0 in /opt/anaconda3/envs/U4-S1-NLP/lib/python3.8/site-packages (from sentry-sdk>=0.4.0->wandb) (1.25.11)\n",
      "Requirement already satisfied, skipping upgrade: pathtools>=0.1.1 in /opt/anaconda3/envs/U4-S1-NLP/lib/python3.8/site-packages (from watchdog>=0.8.3->wandb) (0.1.2)\n",
      "Requirement already satisfied, skipping upgrade: setuptools in /opt/anaconda3/envs/U4-S1-NLP/lib/python3.8/site-packages (from protobuf>=3.12.0->wandb) (49.6.0.post20201009)\n",
      "Requirement already satisfied, skipping upgrade: idna<3,>=2.5 in /opt/anaconda3/envs/U4-S1-NLP/lib/python3.8/site-packages (from requests<3,>=2.0.0->wandb) (2.10)\n",
      "Requirement already satisfied, skipping upgrade: chardet<4,>=3.0.2 in /opt/anaconda3/envs/U4-S1-NLP/lib/python3.8/site-packages (from requests<3,>=2.0.0->wandb) (3.0.4)\n",
      "Requirement already satisfied, skipping upgrade: smmap<4,>=3.0.1 in /opt/anaconda3/envs/U4-S1-NLP/lib/python3.8/site-packages (from gitdb<5,>=4.0.1->GitPython>=1.0.0->wandb) (3.0.4)\n",
      "WARNING: Error parsing requirements for nltk: [Errno 2] No such file or directory: '/opt/anaconda3/envs/U4-S1-NLP/lib/python3.8/site-packages/nltk-3.5.dist-info/METADATA'\n",
      "WARNING: Error parsing requirements for catalogue: [Errno 2] No such file or directory: '/opt/anaconda3/envs/U4-S1-NLP/lib/python3.8/site-packages/catalogue-1.0.0.dist-info/METADATA'\n",
      "wandb: Appending key for api.wandb.ai to your netrc file: /Users/codyreece/.netrc\n",
      "(100000, 784)\n",
      "(100000,)\n",
      "(60000, 784) (40000, 784) (60000,) (40000,)\n",
      "Requirement already satisfied: keras-tuner in /opt/anaconda3/envs/U4-S1-NLP/lib/python3.8/site-packages (1.0.1)\n",
      "Requirement already satisfied: colorama in /opt/anaconda3/envs/U4-S1-NLP/lib/python3.8/site-packages (from keras-tuner) (0.4.4)\n",
      "Requirement already satisfied: tqdm in /opt/anaconda3/envs/U4-S1-NLP/lib/python3.8/site-packages (from keras-tuner) (4.52.0)\n",
      "Requirement already satisfied: requests in /opt/anaconda3/envs/U4-S1-NLP/lib/python3.8/site-packages (from keras-tuner) (2.25.0)\n",
      "Requirement already satisfied: future in /opt/anaconda3/envs/U4-S1-NLP/lib/python3.8/site-packages (from keras-tuner) (0.16.0)\n",
      "Requirement already satisfied: scipy in /opt/anaconda3/envs/U4-S1-NLP/lib/python3.8/site-packages (from keras-tuner) (1.5.4)\n",
      "Requirement already satisfied: numpy in /opt/anaconda3/envs/U4-S1-NLP/lib/python3.8/site-packages (from keras-tuner) (1.19.4)\n",
      "Requirement already satisfied: tabulate in /opt/anaconda3/envs/U4-S1-NLP/lib/python3.8/site-packages (from keras-tuner) (0.8.7)\n",
      "Requirement already satisfied: scikit-learn in /opt/anaconda3/envs/U4-S1-NLP/lib/python3.8/site-packages (from keras-tuner) (0.23.2)\n",
      "Requirement already satisfied: terminaltables in /opt/anaconda3/envs/U4-S1-NLP/lib/python3.8/site-packages (from keras-tuner) (3.1.0)\n"
     ]
    },
    {
     "name": "stdout",
     "output_type": "stream",
     "text": [
      "Requirement already satisfied: urllib3<1.27,>=1.21.1 in /opt/anaconda3/envs/U4-S1-NLP/lib/python3.8/site-packages (from requests->keras-tuner) (1.25.11)\n",
      "Requirement already satisfied: idna<3,>=2.5 in /opt/anaconda3/envs/U4-S1-NLP/lib/python3.8/site-packages (from requests->keras-tuner) (2.10)\n",
      "Requirement already satisfied: chardet<4,>=3.0.2 in /opt/anaconda3/envs/U4-S1-NLP/lib/python3.8/site-packages (from requests->keras-tuner) (3.0.4)\n",
      "Requirement already satisfied: certifi>=2017.4.17 in /opt/anaconda3/envs/U4-S1-NLP/lib/python3.8/site-packages (from requests->keras-tuner) (2020.11.8)\n",
      "Requirement already satisfied: threadpoolctl>=2.0.0 in /opt/anaconda3/envs/U4-S1-NLP/lib/python3.8/site-packages (from scikit-learn->keras-tuner) (2.1.0)\n",
      "Requirement already satisfied: joblib>=0.11 in /opt/anaconda3/envs/U4-S1-NLP/lib/python3.8/site-packages (from scikit-learn->keras-tuner) (0.17.0)\n",
      "WARNING: Error parsing requirements for nltk: [Errno 2] No such file or directory: '/opt/anaconda3/envs/U4-S1-NLP/lib/python3.8/site-packages/nltk-3.5.dist-info/METADATA'\n",
      "WARNING: Error parsing requirements for catalogue: [Errno 2] No such file or directory: '/opt/anaconda3/envs/U4-S1-NLP/lib/python3.8/site-packages/catalogue-1.0.0.dist-info/METADATA'\n"
     ]
    }
   ],
   "source": [
    "!pip install wandb -q\n",
    "!pip install opencv-python\n",
    "import wandb\n",
    "from wandb.keras import WandbCallback\n",
    "%load_ext tensorboard\n",
    "\n",
    "import os\n",
    "import seaborn as sns\n",
    "\n",
    "import numpy as np\n",
    "import pandas as pd\n",
    "\n",
    "from sklearn.model_selection import GridSearchCV, RandomizedSearchCV\n",
    "from sklearn import model_selection\n",
    "from sklearn.model_selection import train_test_split, learning_curve, KFold, cross_val_score, StratifiedKFold\n",
    "\n",
    "import keras\n",
    "import tensorflow as tf\n",
    "from tensorflow.keras.models import Sequential\n",
    "from tensorflow.keras.wrappers.scikit_learn import KerasClassifier\n",
    "from tensorflow.keras.callbacks import EarlyStopping, TensorBoard\n",
    "from tensorflow.keras import layers\n",
    "from tensorflow.keras.layers import Flatten, Dense, Conv2D, MaxPooling2D, Dropout, Flatten\n",
    "from tensorflow.keras.layers import ReLU\n",
    "from keras.utils import np_utils\n",
    "from keras.optimizers import SGD\n",
    "from keras.optimizers import RMSprop, SGD, Adam, Nadam\n",
    "from keras.callbacks import ReduceLROnPlateau, ModelCheckpoint, Callback, EarlyStopping\n",
    "import tensorflow as tf\n",
    "from tensorflow import keras\n",
    "\n",
    "import IPython\n",
    "# Install and import the Keras Tuner.\n",
    "!pip install -U keras-tuner\n",
    "import kerastuner as kt\n",
    "\n",
    "import os\n",
    "import itertools\n",
    "import matplotlib.pyplot as plt\n",
    "from mpl_toolkits.axes_grid1 import AxesGrid\n",
    "import random\n",
    "random.seed(42)\n",
    "%matplotlib inline\n",
    "!pip install --upgrade wandb\n",
    "!wandb login 351c7f296c88cd03681b3eaa2b3400ba29ad130b\n",
    "wandb_project = 'ass-4'\n",
    "\n",
    "# Ignore excessive warnings\n",
    "os.environ['TF_CPP_MIN_LOG_LEVEL'] = '3'\n",
    "import tensorflow as tf\n",
    "tf.compat.v1.logging.set_verbosity(tf.compat.v1.logging.ERROR)\n",
    "\n",
    "URL_ = \"https://github.com/LambdaSchool/DS-Unit-4-Sprint-2-Neural-Networks/blob/main/quickdraw10.npz?raw=true\"\n",
    "\n",
    "path_to_zip = tf.keras.utils.get_file('./quickdraw10.npz', origin=URL_, extract=False)\n",
    "data = np.load(path_to_zip)\n",
    "\n",
    "X = data['arr_0']\n",
    "y = data['arr_1']\n",
    "\n",
    "print(X.shape)\n",
    "print(y.shape)\n",
    "\n",
    "from sklearn.model_selection import train_test_split\n",
    "X_train, X_test, y_train, y_test = train_test_split(X, y, test_size=0.40)\n",
    "print(X_train.shape, X_test.shape, y_train.shape, y_test.shape)\n",
    "\n",
    "class_names = ['apple',\n",
    " 'anvil',\n",
    " 'airplane',\n",
    " 'banana',\n",
    " 'The Eiffel Tower',\n",
    " 'The Mona Lisa',\n",
    " 'The Great Wall of China',\n",
    " 'alarm clock',\n",
    " 'ant',\n",
    " 'asparagus']\n",
    "\n",
    "img_width=28\n",
    "img_height=28\n",
    "\n",
    "X_train = X_train.astype('float32') / 255.\n",
    "X_test = X_test.astype('float32') / 255.\n",
    "\n",
    "# # reshape input data\n",
    "# X_train = X_train.reshape(X_train.shape[0], img_width, img_height, 1)\n",
    "# X_test = X_test.reshape(X_test.shape[0], img_width, img_height, 1)\n",
    "\n",
    "# # one hot encode outputs\n",
    "# y_train = np_utils.to_categorical(y_train)\n",
    "# y_test = np_utils.to_categorical(y_test)\n",
    "# num_classes = y_test.shape[1]\n",
    "!pip install keras-tuner"
   ]
  },
  {
   "cell_type": "code",
   "execution_count": 23,
   "metadata": {
    "id": "YbKf0WvfJO_G"
   },
   "outputs": [],
   "source": [
    "def tune_optimizer_model(hp):\n",
    "    logdir = os.path.join(\"logs\", \"EarlyStopping-Loss\")\n",
    "\n",
    "    tensorboard_callback = tf.keras.callbacks.TensorBoard(logdir, histogram_freq=1)\n",
    "    stop = EarlyStopping(monitor='val_loss', min_delta=0.001, patience=3)\n",
    "\n",
    "    model = tf.keras.Sequential([\n",
    "        Flatten(input_shape=(28,28)),\n",
    "        Dense(128),\n",
    "        ReLU(negative_slope=.01),\n",
    "        Dense(128),\n",
    "        ReLU(negative_slope=.01),\n",
    "        Dense(128),\n",
    "        ReLU(negative_slope=.01),\n",
    "        Dense(10, activation='softmax')\n",
    "    ])\n",
    "\n",
    "    optimizer = hp.Choice('optimizer', ['adam', 'sgd', 'rmsprop', 'nadam'])\n",
    "\n",
    "    model.compile(\n",
    "            optimizer=optimizer,\n",
    "            loss = 'sparse_categorical_crossentropy', \n",
    "            metrics = ['accuracy'])\n",
    "    return model"
   ]
  },
  {
   "cell_type": "code",
   "execution_count": 24,
   "metadata": {
    "colab": {
     "base_uri": "https://localhost:8080/",
     "height": 159
    },
    "id": "9Cup93cYONBY",
    "outputId": "afecc315-9ddb-4594-e1fb-07c84a35d284"
   },
   "outputs": [
    {
     "data": {
      "text/html": [
       "<span style=\"color:#4527A0\"><h1 style=\"font-size:18px\">Search space summary</h1></span>"
      ],
      "text/plain": [
       "<IPython.core.display.HTML object>"
      ]
     },
     "metadata": {},
     "output_type": "display_data"
    },
    {
     "data": {
      "text/html": [
       "<span style=\"color:cyan\"> |-Default search space size: 1</span>"
      ],
      "text/plain": [
       "<IPython.core.display.HTML object>"
      ]
     },
     "metadata": {},
     "output_type": "display_data"
    },
    {
     "data": {
      "text/html": [
       "<span style=\"color:#7E57C2\"><h2 style=\"font-size:16px\">optimizer (Choice)</h2></span>"
      ],
      "text/plain": [
       "<IPython.core.display.HTML object>"
      ]
     },
     "metadata": {},
     "output_type": "display_data"
    },
    {
     "data": {
      "text/html": [
       "<span style=\"color:cyan\"> |-default: adam</span>"
      ],
      "text/plain": [
       "<IPython.core.display.HTML object>"
      ]
     },
     "metadata": {},
     "output_type": "display_data"
    },
    {
     "data": {
      "text/html": [
       "<span style=\"color:blue\"> |-ordered: False</span>"
      ],
      "text/plain": [
       "<IPython.core.display.HTML object>"
      ]
     },
     "metadata": {},
     "output_type": "display_data"
    },
    {
     "data": {
      "text/html": [
       "<span style=\"color:cyan\"> |-values: ['adam', 'sgd', 'rmsprop', 'nadam']</span>"
      ],
      "text/plain": [
       "<IPython.core.display.HTML object>"
      ]
     },
     "metadata": {},
     "output_type": "display_data"
    }
   ],
   "source": [
    "from pprint import pprint\n",
    "from kerastuner.tuners import RandomSearch, BayesianOptimization\n",
    "\n",
    "MAX_TRIALS = 2\n",
    "EXECUTIONS_PER_TRIAL = 2\n",
    "RANDOM_SEED=42\n",
    "\n",
    "tuner = RandomSearch(\n",
    "    tune_optimizer_model,\n",
    "    objective='val_accuracy',\n",
    "    max_trials=MAX_TRIALS,\n",
    "    executions_per_trial=EXECUTIONS_PER_TRIAL,\n",
    "    directory='test_dir', \n",
    "    project_name='tune_optimizer',\n",
    "    seed=RANDOM_SEED\n",
    ")\n",
    "\n",
    "tuner.search_space_summary()"
   ]
  },
  {
   "cell_type": "code",
   "execution_count": 25,
   "metadata": {
    "colab": {
     "base_uri": "https://localhost:8080/"
    },
    "id": "kVmHdiR3OOX5",
    "outputId": "0919b0bd-029e-4d22-96d6-b87b784992a5"
   },
   "outputs": [],
   "source": [
    "TRAIN_EPOCHS = 20\n",
    "\n",
    "tuner.search(x=X_train,\n",
    "             y=y_train,\n",
    "             epochs=TRAIN_EPOCHS,\n",
    "             validation_data=(X_test, y_test))"
   ]
  },
  {
   "cell_type": "code",
   "execution_count": 26,
   "metadata": {
    "id": "96SHxoWaOVmJ"
   },
   "outputs": [
    {
     "data": {
      "text/html": [
       "<span style=\"color:#4527A0\"><h1 style=\"font-size:18px\">Results summary</h1></span>"
      ],
      "text/plain": [
       "<IPython.core.display.HTML object>"
      ]
     },
     "metadata": {},
     "output_type": "display_data"
    },
    {
     "data": {
      "text/html": [
       "<span style=\"color:cyan\"> |-Results in test_dir/tune_optimizer</span>"
      ],
      "text/plain": [
       "<IPython.core.display.HTML object>"
      ]
     },
     "metadata": {},
     "output_type": "display_data"
    },
    {
     "data": {
      "text/html": [
       "<span style=\"color:cyan\"> |-Showing 10 best trials</span>"
      ],
      "text/plain": [
       "<IPython.core.display.HTML object>"
      ]
     },
     "metadata": {},
     "output_type": "display_data"
    },
    {
     "data": {
      "text/html": [
       "<span style=\"color:cyan\"> |-Objective(name='val_accuracy', direction='max')</span>"
      ],
      "text/plain": [
       "<IPython.core.display.HTML object>"
      ]
     },
     "metadata": {},
     "output_type": "display_data"
    },
    {
     "data": {
      "text/html": [
       "<span style=\"color:#4527A0\"><h1 style=\"font-size:18px\">Trial summary</h1></span>"
      ],
      "text/plain": [
       "<IPython.core.display.HTML object>"
      ]
     },
     "metadata": {},
     "output_type": "display_data"
    },
    {
     "data": {
      "text/html": [
       "<span style=\"color:cyan\"> |-Trial ID: e4e82fc58fe0714c425e0ba9ffd1f8d8</span>"
      ],
      "text/plain": [
       "<IPython.core.display.HTML object>"
      ]
     },
     "metadata": {},
     "output_type": "display_data"
    },
    {
     "data": {
      "text/html": [
       "<span style=\"color:cyan\"> |-Score: 0.8655050158500671</span>"
      ],
      "text/plain": [
       "<IPython.core.display.HTML object>"
      ]
     },
     "metadata": {},
     "output_type": "display_data"
    },
    {
     "data": {
      "text/html": [
       "<span style=\"color:cyan\"> |-Best step: 0</span>"
      ],
      "text/plain": [
       "<IPython.core.display.HTML object>"
      ]
     },
     "metadata": {},
     "output_type": "display_data"
    },
    {
     "data": {
      "text/html": [
       "<span style=\"color:#7E57C2\"><h2 style=\"font-size:16px\">Hyperparameters:</h2></span>"
      ],
      "text/plain": [
       "<IPython.core.display.HTML object>"
      ]
     },
     "metadata": {},
     "output_type": "display_data"
    },
    {
     "data": {
      "text/html": [
       "<span style=\"color:cyan\"> |-optimizer: adam</span>"
      ],
      "text/plain": [
       "<IPython.core.display.HTML object>"
      ]
     },
     "metadata": {},
     "output_type": "display_data"
    },
    {
     "data": {
      "text/html": [
       "<span style=\"color:#4527A0\"><h1 style=\"font-size:18px\">Trial summary</h1></span>"
      ],
      "text/plain": [
       "<IPython.core.display.HTML object>"
      ]
     },
     "metadata": {},
     "output_type": "display_data"
    },
    {
     "data": {
      "text/html": [
       "<span style=\"color:cyan\"> |-Trial ID: 6aeae0c42caf0536d3397073ece0a29c</span>"
      ],
      "text/plain": [
       "<IPython.core.display.HTML object>"
      ]
     },
     "metadata": {},
     "output_type": "display_data"
    },
    {
     "data": {
      "text/html": [
       "<span style=\"color:cyan\"> |-Score: 0.8655050039291382</span>"
      ],
      "text/plain": [
       "<IPython.core.display.HTML object>"
      ]
     },
     "metadata": {},
     "output_type": "display_data"
    },
    {
     "data": {
      "text/html": [
       "<span style=\"color:cyan\"> |-Best step: 0</span>"
      ],
      "text/plain": [
       "<IPython.core.display.HTML object>"
      ]
     },
     "metadata": {},
     "output_type": "display_data"
    },
    {
     "data": {
      "text/html": [
       "<span style=\"color:#7E57C2\"><h2 style=\"font-size:16px\">Hyperparameters:</h2></span>"
      ],
      "text/plain": [
       "<IPython.core.display.HTML object>"
      ]
     },
     "metadata": {},
     "output_type": "display_data"
    },
    {
     "data": {
      "text/html": [
       "<span style=\"color:cyan\"> |-optimizer: nadam</span>"
      ],
      "text/plain": [
       "<IPython.core.display.HTML object>"
      ]
     },
     "metadata": {},
     "output_type": "display_data"
    },
    {
     "data": {
      "text/html": [
       "<span style=\"color:#4527A0\"><h1 style=\"font-size:18px\">Trial summary</h1></span>"
      ],
      "text/plain": [
       "<IPython.core.display.HTML object>"
      ]
     },
     "metadata": {},
     "output_type": "display_data"
    },
    {
     "data": {
      "text/html": [
       "<span style=\"color:cyan\"> |-Trial ID: 5b58e986a78d9c20e2f963533714777d</span>"
      ],
      "text/plain": [
       "<IPython.core.display.HTML object>"
      ]
     },
     "metadata": {},
     "output_type": "display_data"
    },
    {
     "data": {
      "text/html": [
       "<span style=\"color:cyan\"> |-Score: 0.8637600064277648</span>"
      ],
      "text/plain": [
       "<IPython.core.display.HTML object>"
      ]
     },
     "metadata": {},
     "output_type": "display_data"
    },
    {
     "data": {
      "text/html": [
       "<span style=\"color:cyan\"> |-Best step: 0</span>"
      ],
      "text/plain": [
       "<IPython.core.display.HTML object>"
      ]
     },
     "metadata": {},
     "output_type": "display_data"
    },
    {
     "data": {
      "text/html": [
       "<span style=\"color:#7E57C2\"><h2 style=\"font-size:16px\">Hyperparameters:</h2></span>"
      ],
      "text/plain": [
       "<IPython.core.display.HTML object>"
      ]
     },
     "metadata": {},
     "output_type": "display_data"
    },
    {
     "data": {
      "text/html": [
       "<span style=\"color:cyan\"> |-optimizer: sgd</span>"
      ],
      "text/plain": [
       "<IPython.core.display.HTML object>"
      ]
     },
     "metadata": {},
     "output_type": "display_data"
    },
    {
     "data": {
      "text/html": [
       "<span style=\"color:#4527A0\"><h1 style=\"font-size:18px\">Trial summary</h1></span>"
      ],
      "text/plain": [
       "<IPython.core.display.HTML object>"
      ]
     },
     "metadata": {},
     "output_type": "display_data"
    },
    {
     "data": {
      "text/html": [
       "<span style=\"color:cyan\"> |-Trial ID: d06435295866685c7091635287aece0b</span>"
      ],
      "text/plain": [
       "<IPython.core.display.HTML object>"
      ]
     },
     "metadata": {},
     "output_type": "display_data"
    },
    {
     "data": {
      "text/html": [
       "<span style=\"color:cyan\"> |-Score: 0.8626350045204163</span>"
      ],
      "text/plain": [
       "<IPython.core.display.HTML object>"
      ]
     },
     "metadata": {},
     "output_type": "display_data"
    },
    {
     "data": {
      "text/html": [
       "<span style=\"color:cyan\"> |-Best step: 0</span>"
      ],
      "text/plain": [
       "<IPython.core.display.HTML object>"
      ]
     },
     "metadata": {},
     "output_type": "display_data"
    },
    {
     "data": {
      "text/html": [
       "<span style=\"color:#7E57C2\"><h2 style=\"font-size:16px\">Hyperparameters:</h2></span>"
      ],
      "text/plain": [
       "<IPython.core.display.HTML object>"
      ]
     },
     "metadata": {},
     "output_type": "display_data"
    },
    {
     "data": {
      "text/html": [
       "<span style=\"color:cyan\"> |-optimizer: rmsprop</span>"
      ],
      "text/plain": [
       "<IPython.core.display.HTML object>"
      ]
     },
     "metadata": {},
     "output_type": "display_data"
    }
   ],
   "source": [
    "tuner.results_summary()"
   ]
  },
  {
   "cell_type": "code",
   "execution_count": 27,
   "metadata": {
    "colab": {
     "base_uri": "https://localhost:8080/"
    },
    "id": "wx_mjZMbdk2Y",
    "outputId": "d6489a39-f11b-4de4-de97-de553a9b5c62"
   },
   "outputs": [
    {
     "data": {
      "text/plain": [
       "{'optimizer': 'adam'}"
      ]
     },
     "execution_count": 27,
     "metadata": {},
     "output_type": "execute_result"
    }
   ],
   "source": [
    "tuner.oracle.get_best_trials(num_trials=1)[0].hyperparameters.values"
   ]
  },
  {
   "cell_type": "code",
   "execution_count": 28,
   "metadata": {
    "id": "ali5UfvsfBCi"
   },
   "outputs": [],
   "source": [
    "best_model = tuner.get_best_models()[0]"
   ]
  },
  {
   "cell_type": "code",
   "execution_count": 29,
   "metadata": {
    "colab": {
     "base_uri": "https://localhost:8080/"
    },
    "id": "yiL8XZn_fCo6",
    "outputId": "501a0299-419f-4109-aea6-dee9fcc3abe5"
   },
   "outputs": [
    {
     "name": "stdout",
     "output_type": "stream",
     "text": [
      "Model: \"sequential\"\n",
      "_________________________________________________________________\n",
      "Layer (type)                 Output Shape              Param #   \n",
      "=================================================================\n",
      "flatten (Flatten)            (None, 784)               0         \n",
      "_________________________________________________________________\n",
      "dense (Dense)                (None, 128)               100480    \n",
      "_________________________________________________________________\n",
      "re_lu (ReLU)                 (None, 128)               0         \n",
      "_________________________________________________________________\n",
      "dense_1 (Dense)              (None, 128)               16512     \n",
      "_________________________________________________________________\n",
      "re_lu_1 (ReLU)               (None, 128)               0         \n",
      "_________________________________________________________________\n",
      "dense_2 (Dense)              (None, 128)               16512     \n",
      "_________________________________________________________________\n",
      "re_lu_2 (ReLU)               (None, 128)               0         \n",
      "_________________________________________________________________\n",
      "dense_3 (Dense)              (None, 10)                1290      \n",
      "=================================================================\n",
      "Total params: 134,794\n",
      "Trainable params: 134,794\n",
      "Non-trainable params: 0\n",
      "_________________________________________________________________\n"
     ]
    }
   ],
   "source": [
    "best_model.summary()"
   ]
  },
  {
   "cell_type": "code",
   "execution_count": 42,
   "metadata": {
    "id": "qUVT39kDPpWV"
   },
   "outputs": [],
   "source": [
    "def tune_rl_momentum_model(hp):\n",
    "    model = keras.Sequential()\n",
    "    model.add(keras.layers.Dense(units=18, activation=\"relu\", input_shape=[X_train.shape[1]]))\n",
    "\n",
    "    model.add(keras.layers.Dense(10, activation='sigmoid'))\n",
    "\n",
    "    lr = hp.Choice('learning_rate', [1e-2, 1e-3, 1e-4])\n",
    "    momentum = hp.Choice('momentum', [0.0, 0.2, 0.4, 0.6, 0.8, 0.9])\n",
    "\n",
    "    model.compile(\n",
    "        optimizer=keras.optimizers.SGD(lr, momentum=momentum),\n",
    "        loss = 'sparse_categorical_crossentropy', \n",
    "        metrics = ['accuracy'])\n",
    "    return model"
   ]
  },
  {
   "cell_type": "code",
   "execution_count": 43,
   "metadata": {
    "id": "LXEoZn_w2Qam"
   },
   "outputs": [],
   "source": [
    "def create_random_tuner(model_builder, project_name):\n",
    "  tuner = RandomSearch(\n",
    "    model_builder,\n",
    "    objective='val_accuracy',\n",
    "    max_trials=MAX_TRIALS,\n",
    "    executions_per_trial=EXECUTIONS_PER_TRIAL,\n",
    "    directory='test_dir', \n",
    "    project_name=project_name,\n",
    "    seed=RANDOM_SEED\n",
    "  )\n",
    "\n",
    "  tuner.search_space_summary()\n",
    "  return tuner"
   ]
  },
  {
   "cell_type": "code",
   "execution_count": 44,
   "metadata": {
    "id": "IL2mpWP3eyyO"
   },
   "outputs": [],
   "source": [
    "def random_search_params(model_builder, project_name):\n",
    "  tuner = create_random_tuner(model_builder, project_name)\n",
    "  tuner.search(x=X_train,\n",
    "             y=y_train,\n",
    "             epochs=TRAIN_EPOCHS,\n",
    "             validation_data=(X_test, y_test))\n",
    "  \n",
    "  tuner.results_summary()\n",
    "\n",
    "  pprint(tuner.oracle.get_best_trials(num_trials=1)[0].hyperparameters.values)"
   ]
  },
  {
   "cell_type": "code",
   "execution_count": 45,
   "metadata": {
    "colab": {
     "base_uri": "https://localhost:8080/",
     "height": 1000
    },
    "id": "7GOglVy5CzSv",
    "outputId": "1d4de7e2-308e-46d1-8cd8-c576326098ef"
   },
   "outputs": [
    {
     "data": {
      "text/html": [
       "<span style=\"color:#4527A0\"><h1 style=\"font-size:18px\">Search space summary</h1></span>"
      ],
      "text/plain": [
       "<IPython.core.display.HTML object>"
      ]
     },
     "metadata": {},
     "output_type": "display_data"
    },
    {
     "data": {
      "text/html": [
       "<span style=\"color:cyan\"> |-Default search space size: 2</span>"
      ],
      "text/plain": [
       "<IPython.core.display.HTML object>"
      ]
     },
     "metadata": {},
     "output_type": "display_data"
    },
    {
     "data": {
      "text/html": [
       "<span style=\"color:#7E57C2\"><h2 style=\"font-size:16px\">learning_rate (Choice)</h2></span>"
      ],
      "text/plain": [
       "<IPython.core.display.HTML object>"
      ]
     },
     "metadata": {},
     "output_type": "display_data"
    },
    {
     "data": {
      "text/html": [
       "<span style=\"color:cyan\"> |-default: 0.01</span>"
      ],
      "text/plain": [
       "<IPython.core.display.HTML object>"
      ]
     },
     "metadata": {},
     "output_type": "display_data"
    },
    {
     "data": {
      "text/html": [
       "<span style=\"color:blue\"> |-ordered: True</span>"
      ],
      "text/plain": [
       "<IPython.core.display.HTML object>"
      ]
     },
     "metadata": {},
     "output_type": "display_data"
    },
    {
     "data": {
      "text/html": [
       "<span style=\"color:cyan\"> |-values: [0.01, 0.001, 0.0001]</span>"
      ],
      "text/plain": [
       "<IPython.core.display.HTML object>"
      ]
     },
     "metadata": {},
     "output_type": "display_data"
    },
    {
     "data": {
      "text/html": [
       "<span style=\"color:#7E57C2\"><h2 style=\"font-size:16px\">momentum (Choice)</h2></span>"
      ],
      "text/plain": [
       "<IPython.core.display.HTML object>"
      ]
     },
     "metadata": {},
     "output_type": "display_data"
    },
    {
     "data": {
      "text/html": [
       "<span style=\"color:cyan\"> |-default: 0.0</span>"
      ],
      "text/plain": [
       "<IPython.core.display.HTML object>"
      ]
     },
     "metadata": {},
     "output_type": "display_data"
    },
    {
     "data": {
      "text/html": [
       "<span style=\"color:blue\"> |-ordered: True</span>"
      ],
      "text/plain": [
       "<IPython.core.display.HTML object>"
      ]
     },
     "metadata": {},
     "output_type": "display_data"
    },
    {
     "data": {
      "text/html": [
       "<span style=\"color:cyan\"> |-values: [0.0, 0.2, 0.4, 0.6, 0.8, 0.9]</span>"
      ],
      "text/plain": [
       "<IPython.core.display.HTML object>"
      ]
     },
     "metadata": {},
     "output_type": "display_data"
    },
    {
     "name": "stdout",
     "output_type": "stream",
     "text": [
      "Epoch 1/20\n",
      "1875/1875 [==============================] - ETA: 0s - loss: 2.3381 - accuracy: 0.12 - ETA: 1s - loss: 2.3122 - accuracy: 0.09 - ETA: 1s - loss: 2.3100 - accuracy: 0.09 - ETA: 1s - loss: 2.3098 - accuracy: 0.09 - ETA: 0s - loss: 2.3099 - accuracy: 0.09 - ETA: 0s - loss: 2.3088 - accuracy: 0.09 - ETA: 0s - loss: 2.3094 - accuracy: 0.09 - ETA: 0s - loss: 2.3092 - accuracy: 0.09 - ETA: 0s - loss: 2.3088 - accuracy: 0.09 - ETA: 0s - loss: 2.3089 - accuracy: 0.09 - ETA: 0s - loss: 2.3085 - accuracy: 0.09 - ETA: 0s - loss: 2.3079 - accuracy: 0.09 - ETA: 0s - loss: 2.3070 - accuracy: 0.09 - ETA: 0s - loss: 2.3066 - accuracy: 0.09 - ETA: 0s - loss: 2.3054 - accuracy: 0.10 - ETA: 0s - loss: 2.3047 - accuracy: 0.10 - ETA: 0s - loss: 2.3041 - accuracy: 0.10 - ETA: 0s - loss: 2.3040 - accuracy: 0.10 - ETA: 0s - loss: 2.3034 - accuracy: 0.10 - ETA: 0s - loss: 2.3031 - accuracy: 0.10 - ETA: 0s - loss: 2.3024 - accuracy: 0.10 - ETA: 0s - loss: 2.3017 - accuracy: 0.10 - ETA: 0s - loss: 2.3012 - accuracy: 0.10 - ETA: 0s - loss: 2.3006 - accuracy: 0.10 - ETA: 0s - loss: 2.3002 - accuracy: 0.10 - ETA: 0s - loss: 2.2996 - accuracy: 0.10 - 2s 992us/step - loss: 2.2996 - accuracy: 0.1063 - val_loss: 2.2875 - val_accuracy: 0.1190\n",
      "Epoch 2/20\n",
      "1875/1875 [==============================] - ETA: 0s - loss: 2.2372 - accuracy: 0.12 - ETA: 1s - loss: 2.2811 - accuracy: 0.12 - ETA: 1s - loss: 2.2816 - accuracy: 0.12 - ETA: 1s - loss: 2.2802 - accuracy: 0.12 - ETA: 1s - loss: 2.2818 - accuracy: 0.12 - ETA: 1s - loss: 2.2828 - accuracy: 0.12 - ETA: 1s - loss: 2.2818 - accuracy: 0.12 - ETA: 1s - loss: 2.2814 - accuracy: 0.12 - ETA: 0s - loss: 2.2810 - accuracy: 0.12 - ETA: 0s - loss: 2.2806 - accuracy: 0.12 - ETA: 0s - loss: 2.2803 - accuracy: 0.12 - ETA: 0s - loss: 2.2810 - accuracy: 0.12 - ETA: 0s - loss: 2.2809 - accuracy: 0.12 - ETA: 0s - loss: 2.2802 - accuracy: 0.12 - ETA: 0s - loss: 2.2803 - accuracy: 0.12 - ETA: 0s - loss: 2.2793 - accuracy: 0.12 - ETA: 0s - loss: 2.2794 - accuracy: 0.13 - ETA: 0s - loss: 2.2788 - accuracy: 0.13 - ETA: 0s - loss: 2.2788 - accuracy: 0.13 - ETA: 0s - loss: 2.2785 - accuracy: 0.13 - ETA: 0s - loss: 2.2783 - accuracy: 0.13 - ETA: 0s - loss: 2.2777 - accuracy: 0.13 - ETA: 0s - loss: 2.2771 - accuracy: 0.13 - ETA: 0s - loss: 2.2765 - accuracy: 0.13 - ETA: 0s - loss: 2.2761 - accuracy: 0.13 - ETA: 0s - loss: 2.2755 - accuracy: 0.13 - 2s 1ms/step - loss: 2.2753 - accuracy: 0.1342 - val_loss: 2.2648 - val_accuracy: 0.1447\n",
      "Epoch 3/20\n",
      "1875/1875 [==============================] - ETA: 0s - loss: 2.2995 - accuracy: 0.09 - ETA: 1s - loss: 2.2687 - accuracy: 0.14 - ETA: 1s - loss: 2.2631 - accuracy: 0.14 - ETA: 1s - loss: 2.2626 - accuracy: 0.14 - ETA: 1s - loss: 2.2617 - accuracy: 0.15 - ETA: 1s - loss: 2.2613 - accuracy: 0.15 - ETA: 0s - loss: 2.2609 - accuracy: 0.15 - ETA: 0s - loss: 2.2604 - accuracy: 0.15 - ETA: 0s - loss: 2.2606 - accuracy: 0.15 - ETA: 0s - loss: 2.2608 - accuracy: 0.15 - ETA: 0s - loss: 2.2603 - accuracy: 0.15 - ETA: 0s - loss: 2.2597 - accuracy: 0.15 - ETA: 0s - loss: 2.2592 - accuracy: 0.15 - ETA: 0s - loss: 2.2588 - accuracy: 0.15 - ETA: 0s - loss: 2.2583 - accuracy: 0.15 - ETA: 0s - loss: 2.2577 - accuracy: 0.15 - ETA: 0s - loss: 2.2572 - accuracy: 0.15 - ETA: 0s - loss: 2.2567 - accuracy: 0.15 - ETA: 0s - loss: 2.2563 - accuracy: 0.15 - ETA: 0s - loss: 2.2558 - accuracy: 0.15 - ETA: 0s - loss: 2.2554 - accuracy: 0.15 - ETA: 0s - loss: 2.2550 - accuracy: 0.15 - ETA: 0s - loss: 2.2547 - accuracy: 0.15 - ETA: 0s - loss: 2.2545 - accuracy: 0.15 - ETA: 0s - loss: 2.2542 - accuracy: 0.15 - 2s 971us/step - loss: 2.2539 - accuracy: 0.1579 - val_loss: 2.2441 - val_accuracy: 0.1656\n",
      "Epoch 4/20\n",
      "1875/1875 [==============================] - ETA: 0s - loss: 2.2780 - accuracy: 0.18 - ETA: 1s - loss: 2.2439 - accuracy: 0.16 - ETA: 1s - loss: 2.2419 - accuracy: 0.17 - ETA: 1s - loss: 2.2433 - accuracy: 0.16 - ETA: 1s - loss: 2.2417 - accuracy: 0.17 - ETA: 1s - loss: 2.2409 - accuracy: 0.17 - ETA: 1s - loss: 2.2399 - accuracy: 0.17 - ETA: 0s - loss: 2.2393 - accuracy: 0.17 - ETA: 0s - loss: 2.2391 - accuracy: 0.17 - ETA: 0s - loss: 2.2381 - accuracy: 0.17 - ETA: 0s - loss: 2.2378 - accuracy: 0.17 - ETA: 0s - loss: 2.2381 - accuracy: 0.17 - ETA: 0s - loss: 2.2381 - accuracy: 0.17 - ETA: 0s - loss: 2.2375 - accuracy: 0.17 - ETA: 0s - loss: 2.2369 - accuracy: 0.17 - ETA: 0s - loss: 2.2365 - accuracy: 0.17 - ETA: 0s - loss: 2.2366 - accuracy: 0.17 - ETA: 0s - loss: 2.2360 - accuracy: 0.17 - ETA: 0s - loss: 2.2362 - accuracy: 0.17 - ETA: 0s - loss: 2.2359 - accuracy: 0.17 - ETA: 0s - loss: 2.2358 - accuracy: 0.17 - ETA: 0s - loss: 2.2353 - accuracy: 0.17 - ETA: 0s - loss: 2.2349 - accuracy: 0.17 - ETA: 0s - loss: 2.2345 - accuracy: 0.17 - ETA: 0s - loss: 2.2341 - accuracy: 0.17 - ETA: 0s - loss: 2.2339 - accuracy: 0.17 - 2s 993us/step - loss: 2.2339 - accuracy: 0.1768 - val_loss: 2.2245 - val_accuracy: 0.1858\n",
      "Epoch 5/20\n",
      "1875/1875 [==============================] - ETA: 0s - loss: 2.2688 - accuracy: 0.12 - ETA: 1s - loss: 2.2259 - accuracy: 0.18 - ETA: 1s - loss: 2.2260 - accuracy: 0.19 - ETA: 1s - loss: 2.2236 - accuracy: 0.19 - ETA: 1s - loss: 2.2226 - accuracy: 0.19 - ETA: 1s - loss: 2.2223 - accuracy: 0.19 - ETA: 1s - loss: 2.2214 - accuracy: 0.19 - ETA: 0s - loss: 2.2219 - accuracy: 0.19 - ETA: 0s - loss: 2.2216 - accuracy: 0.19 - ETA: 0s - loss: 2.2214 - accuracy: 0.19 - ETA: 0s - loss: 2.2210 - accuracy: 0.19 - ETA: 0s - loss: 2.2205 - accuracy: 0.19 - ETA: 0s - loss: 2.2199 - accuracy: 0.19 - ETA: 0s - loss: 2.2193 - accuracy: 0.19 - ETA: 0s - loss: 2.2188 - accuracy: 0.19 - ETA: 0s - loss: 2.2183 - accuracy: 0.19 - ETA: 0s - loss: 2.2181 - accuracy: 0.19 - ETA: 0s - loss: 2.2179 - accuracy: 0.19 - ETA: 0s - loss: 2.2170 - accuracy: 0.19 - ETA: 0s - loss: 2.2169 - accuracy: 0.19 - ETA: 0s - loss: 2.2166 - accuracy: 0.19 - ETA: 0s - loss: 2.2162 - accuracy: 0.19 - ETA: 0s - loss: 2.2162 - accuracy: 0.19 - ETA: 0s - loss: 2.2159 - accuracy: 0.19 - ETA: 0s - loss: 2.2157 - accuracy: 0.19 - ETA: 0s - loss: 2.2152 - accuracy: 0.19 - 2s 992us/step - loss: 2.2148 - accuracy: 0.1955 - val_loss: 2.2055 - val_accuracy: 0.2026\n",
      "Epoch 6/20\n",
      "1875/1875 [==============================] - ETA: 0s - loss: 2.1538 - accuracy: 0.37 - ETA: 1s - loss: 2.1985 - accuracy: 0.21 - ETA: 1s - loss: 2.2048 - accuracy: 0.20 - ETA: 1s - loss: 2.2032 - accuracy: 0.20 - ETA: 1s - loss: 2.2050 - accuracy: 0.20 - ETA: 1s - loss: 2.2051 - accuracy: 0.20 - ETA: 1s - loss: 2.2045 - accuracy: 0.20 - ETA: 1s - loss: 2.2039 - accuracy: 0.20 - ETA: 0s - loss: 2.2028 - accuracy: 0.20 - ETA: 0s - loss: 2.2032 - accuracy: 0.20 - ETA: 0s - loss: 2.2033 - accuracy: 0.20 - ETA: 0s - loss: 2.2023 - accuracy: 0.20 - ETA: 0s - loss: 2.2018 - accuracy: 0.20 - ETA: 0s - loss: 2.2012 - accuracy: 0.20 - ETA: 0s - loss: 2.2002 - accuracy: 0.20 - ETA: 0s - loss: 2.1995 - accuracy: 0.20 - ETA: 0s - loss: 2.1995 - accuracy: 0.20 - ETA: 0s - loss: 2.1989 - accuracy: 0.20 - ETA: 0s - loss: 2.1987 - accuracy: 0.20 - ETA: 0s - loss: 2.1981 - accuracy: 0.20 - ETA: 0s - loss: 2.1979 - accuracy: 0.21 - ETA: 0s - loss: 2.1976 - accuracy: 0.21 - ETA: 0s - loss: 2.1975 - accuracy: 0.20 - ETA: 0s - loss: 2.1973 - accuracy: 0.20 - ETA: 0s - loss: 2.1972 - accuracy: 0.21 - ETA: 0s - loss: 2.1968 - accuracy: 0.21 - ETA: 0s - loss: 2.1966 - accuracy: 0.21 - 2s 999us/step - loss: 2.1962 - accuracy: 0.2119 - val_loss: 2.1870 - val_accuracy: 0.2198\n",
      "Epoch 7/20\n",
      "1875/1875 [==============================] - ETA: 0s - loss: 2.1680 - accuracy: 0.21 - ETA: 1s - loss: 2.1889 - accuracy: 0.22 - ETA: 1s - loss: 2.1875 - accuracy: 0.22 - ETA: 1s - loss: 2.1855 - accuracy: 0.22 - ETA: 1s - loss: 2.1858 - accuracy: 0.22 - ETA: 0s - loss: 2.1846 - accuracy: 0.22 - ETA: 0s - loss: 2.1844 - accuracy: 0.22 - ETA: 0s - loss: 2.1847 - accuracy: 0.22 - ETA: 0s - loss: 2.1839 - accuracy: 0.22 - ETA: 0s - loss: 2.1834 - accuracy: 0.22 - ETA: 0s - loss: 2.1828 - accuracy: 0.22 - ETA: 0s - loss: 2.1831 - accuracy: 0.22 - ETA: 0s - loss: 2.1829 - accuracy: 0.22 - ETA: 0s - loss: 2.1824 - accuracy: 0.22 - ETA: 0s - loss: 2.1824 - accuracy: 0.22 - ETA: 0s - loss: 2.1825 - accuracy: 0.22 - ETA: 0s - loss: 2.1822 - accuracy: 0.22 - ETA: 0s - loss: 2.1821 - accuracy: 0.22 - ETA: 0s - loss: 2.1811 - accuracy: 0.22 - ETA: 0s - loss: 2.1807 - accuracy: 0.22 - ETA: 0s - loss: 2.1802 - accuracy: 0.22 - ETA: 0s - loss: 2.1796 - accuracy: 0.22 - ETA: 0s - loss: 2.1793 - accuracy: 0.22 - ETA: 0s - loss: 2.1790 - accuracy: 0.22 - ETA: 0s - loss: 2.1785 - accuracy: 0.22 - ETA: 0s - loss: 2.1782 - accuracy: 0.22 - ETA: 0s - loss: 2.1781 - accuracy: 0.22 - 2s 999us/step - loss: 2.1779 - accuracy: 0.2280 - val_loss: 2.1686 - val_accuracy: 0.2338\n",
      "Epoch 8/20\n",
      "1875/1875 [==============================] - ETA: 0s - loss: 2.1034 - accuracy: 0.28 - ETA: 1s - loss: 2.1675 - accuracy: 0.23 - ETA: 1s - loss: 2.1732 - accuracy: 0.22 - ETA: 1s - loss: 2.1723 - accuracy: 0.22 - ETA: 0s - loss: 2.1695 - accuracy: 0.22 - ETA: 0s - loss: 2.1681 - accuracy: 0.23 - ETA: 0s - loss: 2.1678 - accuracy: 0.23 - ETA: 0s - loss: 2.1675 - accuracy: 0.23 - ETA: 0s - loss: 2.1658 - accuracy: 0.23 - ETA: 0s - loss: 2.1651 - accuracy: 0.23 - ETA: 0s - loss: 2.1652 - accuracy: 0.23 - ETA: 0s - loss: 2.1651 - accuracy: 0.23 - ETA: 0s - loss: 2.1651 - accuracy: 0.23 - ETA: 0s - loss: 2.1649 - accuracy: 0.23 - ETA: 0s - loss: 2.1645 - accuracy: 0.23 - ETA: 0s - loss: 2.1649 - accuracy: 0.23 - ETA: 0s - loss: 2.1640 - accuracy: 0.23 - ETA: 0s - loss: 2.1638 - accuracy: 0.23 - ETA: 0s - loss: 2.1632 - accuracy: 0.23 - ETA: 0s - loss: 2.1623 - accuracy: 0.23 - ETA: 0s - loss: 2.1623 - accuracy: 0.23 - ETA: 0s - loss: 2.1615 - accuracy: 0.23 - ETA: 0s - loss: 2.1607 - accuracy: 0.24 - ETA: 0s - loss: 2.1602 - accuracy: 0.24 - ETA: 0s - loss: 2.1600 - accuracy: 0.24 - 2s 987us/step - loss: 2.1596 - accuracy: 0.2408 - val_loss: 2.1503 - val_accuracy: 0.2477\n",
      "Epoch 9/20\n",
      "1875/1875 [==============================] - ETA: 0s - loss: 2.1555 - accuracy: 0.28 - ETA: 1s - loss: 2.1422 - accuracy: 0.25 - ETA: 1s - loss: 2.1434 - accuracy: 0.25 - ETA: 1s - loss: 2.1435 - accuracy: 0.25 - ETA: 1s - loss: 2.1450 - accuracy: 0.25 - ETA: 1s - loss: 2.1438 - accuracy: 0.25 - ETA: 1s - loss: 2.1423 - accuracy: 0.25 - ETA: 1s - loss: 2.1439 - accuracy: 0.25 - ETA: 0s - loss: 2.1437 - accuracy: 0.25 - ETA: 0s - loss: 2.1445 - accuracy: 0.25 - ETA: 0s - loss: 2.1449 - accuracy: 0.25 - ETA: 0s - loss: 2.1456 - accuracy: 0.25 - ETA: 0s - loss: 2.1448 - accuracy: 0.25 - ETA: 0s - loss: 2.1446 - accuracy: 0.25 - ETA: 0s - loss: 2.1440 - accuracy: 0.25 - ETA: 0s - loss: 2.1431 - accuracy: 0.25 - ETA: 0s - loss: 2.1434 - accuracy: 0.25 - ETA: 0s - loss: 2.1429 - accuracy: 0.25 - ETA: 0s - loss: 2.1427 - accuracy: 0.25 - ETA: 0s - loss: 2.1430 - accuracy: 0.25 - ETA: 0s - loss: 2.1426 - accuracy: 0.25 - ETA: 0s - loss: 2.1422 - accuracy: 0.25 - ETA: 0s - loss: 2.1422 - accuracy: 0.25 - ETA: 0s - loss: 2.1420 - accuracy: 0.25 - ETA: 0s - loss: 2.1414 - accuracy: 0.25 - 2s 922us/step - loss: 2.1413 - accuracy: 0.2531 - val_loss: 2.1318 - val_accuracy: 0.2615\n",
      "Epoch 10/20\n",
      "1875/1875 [==============================] - ETA: 0s - loss: 2.0673 - accuracy: 0.34 - ETA: 1s - loss: 2.1296 - accuracy: 0.26 - ETA: 1s - loss: 2.1242 - accuracy: 0.27 - ETA: 1s - loss: 2.1258 - accuracy: 0.26 - ETA: 0s - loss: 2.1277 - accuracy: 0.26 - ETA: 0s - loss: 2.1286 - accuracy: 0.26 - ETA: 0s - loss: 2.1291 - accuracy: 0.26 - ETA: 0s - loss: 2.1288 - accuracy: 0.26 - ETA: 0s - loss: 2.1289 - accuracy: 0.26 - ETA: 0s - loss: 2.1291 - accuracy: 0.26 - ETA: 0s - loss: 2.1291 - accuracy: 0.26 - ETA: 0s - loss: 2.1285 - accuracy: 0.26 - ETA: 0s - loss: 2.1284 - accuracy: 0.26 - ETA: 0s - loss: 2.1280 - accuracy: 0.26 - ETA: 0s - loss: 2.1275 - accuracy: 0.26 - ETA: 0s - loss: 2.1271 - accuracy: 0.26 - ETA: 0s - loss: 2.1265 - accuracy: 0.26 - ETA: 0s - loss: 2.1258 - accuracy: 0.26 - ETA: 0s - loss: 2.1257 - accuracy: 0.26 - ETA: 0s - loss: 2.1250 - accuracy: 0.26 - ETA: 0s - loss: 2.1242 - accuracy: 0.26 - ETA: 0s - loss: 2.1240 - accuracy: 0.26 - ETA: 0s - loss: 2.1231 - accuracy: 0.26 - 2s 881us/step - loss: 2.1229 - accuracy: 0.2670 - val_loss: 2.1131 - val_accuracy: 0.2738\n",
      "Epoch 11/20\n",
      "1875/1875 [==============================] - ETA: 0s - loss: 2.0790 - accuracy: 0.31 - ETA: 1s - loss: 2.1077 - accuracy: 0.27 - ETA: 1s - loss: 2.1140 - accuracy: 0.27 - ETA: 1s - loss: 2.1133 - accuracy: 0.28 - ETA: 0s - loss: 2.1114 - accuracy: 0.27 - ETA: 0s - loss: 2.1104 - accuracy: 0.28 - ETA: 0s - loss: 2.1098 - accuracy: 0.28 - ETA: 0s - loss: 2.1078 - accuracy: 0.28 - ETA: 0s - loss: 2.1094 - accuracy: 0.28 - ETA: 0s - loss: 2.1096 - accuracy: 0.27 - ETA: 0s - loss: 2.1086 - accuracy: 0.28 - ETA: 0s - loss: 2.1087 - accuracy: 0.27 - ETA: 0s - loss: 2.1090 - accuracy: 0.27 - ETA: 0s - loss: 2.1083 - accuracy: 0.27 - ETA: 0s - loss: 2.1076 - accuracy: 0.27 - ETA: 0s - loss: 2.1070 - accuracy: 0.27 - ETA: 0s - loss: 2.1067 - accuracy: 0.27 - ETA: 0s - loss: 2.1066 - accuracy: 0.27 - ETA: 0s - loss: 2.1066 - accuracy: 0.27 - ETA: 0s - loss: 2.1066 - accuracy: 0.27 - ETA: 0s - loss: 2.1057 - accuracy: 0.27 - ETA: 0s - loss: 2.1051 - accuracy: 0.27 - ETA: 0s - loss: 2.1048 - accuracy: 0.27 - ETA: 0s - loss: 2.1044 - accuracy: 0.27 - 2s 895us/step - loss: 2.1042 - accuracy: 0.2788 - val_loss: 2.0943 - val_accuracy: 0.2856\n",
      "Epoch 12/20\n",
      "1875/1875 [==============================] - ETA: 0s - loss: 2.1065 - accuracy: 0.28 - ETA: 1s - loss: 2.0978 - accuracy: 0.27 - ETA: 1s - loss: 2.0952 - accuracy: 0.28 - ETA: 1s - loss: 2.0952 - accuracy: 0.28 - ETA: 0s - loss: 2.0958 - accuracy: 0.28 - ETA: 0s - loss: 2.0946 - accuracy: 0.28 - ETA: 0s - loss: 2.0948 - accuracy: 0.28 - ETA: 0s - loss: 2.0938 - accuracy: 0.28 - ETA: 0s - loss: 2.0931 - accuracy: 0.28 - ETA: 0s - loss: 2.0934 - accuracy: 0.28 - ETA: 0s - loss: 2.0923 - accuracy: 0.28 - ETA: 0s - loss: 2.0920 - accuracy: 0.28 - ETA: 0s - loss: 2.0914 - accuracy: 0.28 - ETA: 0s - loss: 2.0905 - accuracy: 0.28 - ETA: 0s - loss: 2.0904 - accuracy: 0.28 - ETA: 0s - loss: 2.0900 - accuracy: 0.28 - ETA: 0s - loss: 2.0893 - accuracy: 0.28 - ETA: 0s - loss: 2.0885 - accuracy: 0.29 - ETA: 0s - loss: 2.0883 - accuracy: 0.29 - ETA: 0s - loss: 2.0880 - accuracy: 0.29 - ETA: 0s - loss: 2.0875 - accuracy: 0.28 - ETA: 0s - loss: 2.0869 - accuracy: 0.29 - ETA: 0s - loss: 2.0865 - accuracy: 0.29 - ETA: 0s - loss: 2.0857 - accuracy: 0.29 - 2s 895us/step - loss: 2.0854 - accuracy: 0.2912 - val_loss: 2.0752 - val_accuracy: 0.2967\n",
      "Epoch 13/20\n",
      "1875/1875 [==============================] - ETA: 0s - loss: 2.0973 - accuracy: 0.21 - ETA: 1s - loss: 2.0825 - accuracy: 0.28 - ETA: 1s - loss: 2.0737 - accuracy: 0.29 - ETA: 1s - loss: 2.0734 - accuracy: 0.29 - ETA: 0s - loss: 2.0732 - accuracy: 0.29 - ETA: 0s - loss: 2.0733 - accuracy: 0.29 - ETA: 0s - loss: 2.0739 - accuracy: 0.29 - ETA: 0s - loss: 2.0732 - accuracy: 0.29 - ETA: 0s - loss: 2.0728 - accuracy: 0.29 - ETA: 0s - loss: 2.0718 - accuracy: 0.29 - ETA: 0s - loss: 2.0710 - accuracy: 0.30 - ETA: 0s - loss: 2.0703 - accuracy: 0.29 - ETA: 0s - loss: 2.0699 - accuracy: 0.29 - ETA: 0s - loss: 2.0699 - accuracy: 0.29 - ETA: 0s - loss: 2.0689 - accuracy: 0.30 - ETA: 0s - loss: 2.0684 - accuracy: 0.30 - ETA: 0s - loss: 2.0680 - accuracy: 0.30 - ETA: 0s - loss: 2.0679 - accuracy: 0.30 - ETA: 0s - loss: 2.0677 - accuracy: 0.30 - ETA: 0s - loss: 2.0675 - accuracy: 0.30 - ETA: 0s - loss: 2.0671 - accuracy: 0.30 - ETA: 0s - loss: 2.0670 - accuracy: 0.30 - ETA: 0s - loss: 2.0666 - accuracy: 0.30 - 2s 890us/step - loss: 2.0662 - accuracy: 0.3022 - val_loss: 2.0559 - val_accuracy: 0.3086\n"
     ]
    },
    {
     "name": "stdout",
     "output_type": "stream",
     "text": [
      "Epoch 14/20\n",
      "1875/1875 [==============================] - ETA: 0s - loss: 1.9908 - accuracy: 0.37 - ETA: 1s - loss: 2.0536 - accuracy: 0.30 - ETA: 1s - loss: 2.0588 - accuracy: 0.30 - ETA: 1s - loss: 2.0583 - accuracy: 0.30 - ETA: 0s - loss: 2.0595 - accuracy: 0.30 - ETA: 0s - loss: 2.0564 - accuracy: 0.30 - ETA: 0s - loss: 2.0546 - accuracy: 0.31 - ETA: 0s - loss: 2.0543 - accuracy: 0.31 - ETA: 0s - loss: 2.0524 - accuracy: 0.31 - ETA: 0s - loss: 2.0521 - accuracy: 0.31 - ETA: 0s - loss: 2.0521 - accuracy: 0.31 - ETA: 0s - loss: 2.0517 - accuracy: 0.31 - ETA: 0s - loss: 2.0510 - accuracy: 0.31 - ETA: 0s - loss: 2.0506 - accuracy: 0.31 - ETA: 0s - loss: 2.0506 - accuracy: 0.31 - ETA: 0s - loss: 2.0497 - accuracy: 0.31 - ETA: 0s - loss: 2.0489 - accuracy: 0.31 - ETA: 0s - loss: 2.0485 - accuracy: 0.31 - ETA: 0s - loss: 2.0484 - accuracy: 0.31 - ETA: 0s - loss: 2.0483 - accuracy: 0.31 - ETA: 0s - loss: 2.0478 - accuracy: 0.31 - ETA: 0s - loss: 2.0474 - accuracy: 0.31 - ETA: 0s - loss: 2.0468 - accuracy: 0.31 - 2s 890us/step - loss: 2.0467 - accuracy: 0.3140 - val_loss: 2.0361 - val_accuracy: 0.3207\n",
      "Epoch 15/20\n",
      "1875/1875 [==============================] - ETA: 0s - loss: 2.0112 - accuracy: 0.21 - ETA: 1s - loss: 2.0453 - accuracy: 0.31 - ETA: 1s - loss: 2.0364 - accuracy: 0.31 - ETA: 0s - loss: 2.0352 - accuracy: 0.31 - ETA: 0s - loss: 2.0358 - accuracy: 0.31 - ETA: 0s - loss: 2.0348 - accuracy: 0.32 - ETA: 0s - loss: 2.0347 - accuracy: 0.32 - ETA: 0s - loss: 2.0338 - accuracy: 0.32 - ETA: 0s - loss: 2.0332 - accuracy: 0.32 - ETA: 0s - loss: 2.0326 - accuracy: 0.32 - ETA: 0s - loss: 2.0325 - accuracy: 0.32 - ETA: 0s - loss: 2.0316 - accuracy: 0.32 - ETA: 0s - loss: 2.0318 - accuracy: 0.32 - ETA: 0s - loss: 2.0316 - accuracy: 0.32 - ETA: 0s - loss: 2.0307 - accuracy: 0.32 - ETA: 0s - loss: 2.0299 - accuracy: 0.32 - ETA: 0s - loss: 2.0296 - accuracy: 0.32 - ETA: 0s - loss: 2.0288 - accuracy: 0.32 - ETA: 0s - loss: 2.0284 - accuracy: 0.32 - ETA: 0s - loss: 2.0276 - accuracy: 0.32 - ETA: 0s - loss: 2.0268 - accuracy: 0.32 - ETA: 0s - loss: 2.0267 - accuracy: 0.32 - ETA: 0s - loss: 2.0268 - accuracy: 0.32 - 2s 867us/step - loss: 2.0268 - accuracy: 0.3263 - val_loss: 2.0158 - val_accuracy: 0.3345\n",
      "Epoch 16/20\n",
      "1875/1875 [==============================] - ETA: 0s - loss: 1.9326 - accuracy: 0.43 - ETA: 1s - loss: 2.0203 - accuracy: 0.32 - ETA: 1s - loss: 2.0197 - accuracy: 0.33 - ETA: 0s - loss: 2.0169 - accuracy: 0.33 - ETA: 0s - loss: 2.0132 - accuracy: 0.33 - ETA: 0s - loss: 2.0129 - accuracy: 0.33 - ETA: 0s - loss: 2.0129 - accuracy: 0.33 - ETA: 0s - loss: 2.0126 - accuracy: 0.33 - ETA: 0s - loss: 2.0133 - accuracy: 0.33 - ETA: 0s - loss: 2.0124 - accuracy: 0.33 - ETA: 0s - loss: 2.0119 - accuracy: 0.33 - ETA: 0s - loss: 2.0120 - accuracy: 0.33 - ETA: 0s - loss: 2.0118 - accuracy: 0.33 - ETA: 0s - loss: 2.0114 - accuracy: 0.33 - ETA: 0s - loss: 2.0100 - accuracy: 0.33 - ETA: 0s - loss: 2.0092 - accuracy: 0.33 - ETA: 0s - loss: 2.0089 - accuracy: 0.33 - ETA: 0s - loss: 2.0086 - accuracy: 0.33 - ETA: 0s - loss: 2.0078 - accuracy: 0.33 - ETA: 0s - loss: 2.0076 - accuracy: 0.33 - ETA: 0s - loss: 2.0069 - accuracy: 0.33 - ETA: 0s - loss: 2.0068 - accuracy: 0.33 - ETA: 0s - loss: 2.0065 - accuracy: 0.33 - 2s 869us/step - loss: 2.0062 - accuracy: 0.3379 - val_loss: 1.9948 - val_accuracy: 0.3470\n",
      "Epoch 17/20\n",
      "1875/1875 [==============================] - ETA: 0s - loss: 2.0357 - accuracy: 0.21 - ETA: 1s - loss: 1.9965 - accuracy: 0.34 - ETA: 1s - loss: 1.9960 - accuracy: 0.33 - ETA: 1s - loss: 1.9950 - accuracy: 0.34 - ETA: 1s - loss: 1.9948 - accuracy: 0.34 - ETA: 1s - loss: 1.9953 - accuracy: 0.34 - ETA: 1s - loss: 1.9951 - accuracy: 0.34 - ETA: 1s - loss: 1.9951 - accuracy: 0.34 - ETA: 0s - loss: 1.9932 - accuracy: 0.34 - ETA: 0s - loss: 1.9934 - accuracy: 0.34 - ETA: 0s - loss: 1.9929 - accuracy: 0.34 - ETA: 0s - loss: 1.9933 - accuracy: 0.34 - ETA: 0s - loss: 1.9932 - accuracy: 0.34 - ETA: 0s - loss: 1.9925 - accuracy: 0.34 - ETA: 0s - loss: 1.9911 - accuracy: 0.34 - ETA: 0s - loss: 1.9897 - accuracy: 0.34 - ETA: 0s - loss: 1.9888 - accuracy: 0.34 - ETA: 0s - loss: 1.9886 - accuracy: 0.34 - ETA: 0s - loss: 1.9879 - accuracy: 0.34 - ETA: 0s - loss: 1.9873 - accuracy: 0.34 - ETA: 0s - loss: 1.9873 - accuracy: 0.34 - ETA: 0s - loss: 1.9871 - accuracy: 0.34 - ETA: 0s - loss: 1.9867 - accuracy: 0.34 - ETA: 0s - loss: 1.9863 - accuracy: 0.34 - ETA: 0s - loss: 1.9859 - accuracy: 0.34 - ETA: 0s - loss: 1.9853 - accuracy: 0.35 - ETA: 0s - loss: 1.9851 - accuracy: 0.35 - 2s 1ms/step - loss: 1.9849 - accuracy: 0.3500 - val_loss: 1.9729 - val_accuracy: 0.3598\n",
      "Epoch 18/20\n",
      "1875/1875 [==============================] - ETA: 0s - loss: 1.8921 - accuracy: 0.46 - ETA: 1s - loss: 1.9706 - accuracy: 0.36 - ETA: 1s - loss: 1.9753 - accuracy: 0.35 - ETA: 1s - loss: 1.9759 - accuracy: 0.35 - ETA: 1s - loss: 1.9723 - accuracy: 0.35 - ETA: 1s - loss: 1.9738 - accuracy: 0.35 - ETA: 1s - loss: 1.9734 - accuracy: 0.35 - ETA: 1s - loss: 1.9725 - accuracy: 0.35 - ETA: 1s - loss: 1.9711 - accuracy: 0.35 - ETA: 1s - loss: 1.9700 - accuracy: 0.35 - ETA: 0s - loss: 1.9682 - accuracy: 0.36 - ETA: 0s - loss: 1.9677 - accuracy: 0.36 - ETA: 0s - loss: 1.9683 - accuracy: 0.36 - ETA: 0s - loss: 1.9686 - accuracy: 0.36 - ETA: 0s - loss: 1.9680 - accuracy: 0.36 - ETA: 0s - loss: 1.9685 - accuracy: 0.36 - ETA: 0s - loss: 1.9673 - accuracy: 0.36 - ETA: 0s - loss: 1.9667 - accuracy: 0.36 - ETA: 0s - loss: 1.9666 - accuracy: 0.36 - ETA: 0s - loss: 1.9661 - accuracy: 0.36 - ETA: 0s - loss: 1.9656 - accuracy: 0.36 - ETA: 0s - loss: 1.9655 - accuracy: 0.36 - ETA: 0s - loss: 1.9650 - accuracy: 0.36 - ETA: 0s - loss: 1.9647 - accuracy: 0.36 - ETA: 0s - loss: 1.9643 - accuracy: 0.36 - ETA: 0s - loss: 1.9638 - accuracy: 0.36 - ETA: 0s - loss: 1.9631 - accuracy: 0.36 - ETA: 0s - loss: 1.9625 - accuracy: 0.36 - 2s 1ms/step - loss: 1.9625 - accuracy: 0.3646 - val_loss: 1.9498 - val_accuracy: 0.3743\n",
      "Epoch 19/20\n",
      "1875/1875 [==============================] - ETA: 0s - loss: 1.9399 - accuracy: 0.37 - ETA: 1s - loss: 1.9573 - accuracy: 0.37 - ETA: 1s - loss: 1.9534 - accuracy: 0.36 - ETA: 1s - loss: 1.9528 - accuracy: 0.37 - ETA: 1s - loss: 1.9525 - accuracy: 0.37 - ETA: 1s - loss: 1.9526 - accuracy: 0.36 - ETA: 1s - loss: 1.9538 - accuracy: 0.36 - ETA: 1s - loss: 1.9521 - accuracy: 0.36 - ETA: 0s - loss: 1.9503 - accuracy: 0.37 - ETA: 0s - loss: 1.9486 - accuracy: 0.37 - ETA: 0s - loss: 1.9474 - accuracy: 0.37 - ETA: 0s - loss: 1.9466 - accuracy: 0.37 - ETA: 0s - loss: 1.9462 - accuracy: 0.37 - ETA: 0s - loss: 1.9457 - accuracy: 0.37 - ETA: 0s - loss: 1.9456 - accuracy: 0.37 - ETA: 0s - loss: 1.9456 - accuracy: 0.37 - ETA: 0s - loss: 1.9440 - accuracy: 0.37 - ETA: 0s - loss: 1.9437 - accuracy: 0.37 - ETA: 0s - loss: 1.9433 - accuracy: 0.37 - ETA: 0s - loss: 1.9424 - accuracy: 0.37 - ETA: 0s - loss: 1.9426 - accuracy: 0.37 - ETA: 0s - loss: 1.9419 - accuracy: 0.37 - ETA: 0s - loss: 1.9418 - accuracy: 0.37 - ETA: 0s - loss: 1.9408 - accuracy: 0.37 - ETA: 0s - loss: 1.9407 - accuracy: 0.37 - ETA: 0s - loss: 1.9404 - accuracy: 0.37 - ETA: 0s - loss: 1.9394 - accuracy: 0.38 - ETA: 0s - loss: 1.9389 - accuracy: 0.38 - ETA: 0s - loss: 1.9388 - accuracy: 0.38 - 2s 1ms/step - loss: 1.9387 - accuracy: 0.3806 - val_loss: 1.9249 - val_accuracy: 0.3918\n",
      "Epoch 20/20\n",
      "1875/1875 [==============================] - ETA: 0s - loss: 1.9762 - accuracy: 0.46 - ETA: 1s - loss: 1.9165 - accuracy: 0.39 - ETA: 1s - loss: 1.9231 - accuracy: 0.38 - ETA: 1s - loss: 1.9230 - accuracy: 0.38 - ETA: 1s - loss: 1.9237 - accuracy: 0.39 - ETA: 1s - loss: 1.9242 - accuracy: 0.39 - ETA: 1s - loss: 1.9238 - accuracy: 0.39 - ETA: 0s - loss: 1.9225 - accuracy: 0.39 - ETA: 0s - loss: 1.9212 - accuracy: 0.39 - ETA: 0s - loss: 1.9199 - accuracy: 0.39 - ETA: 0s - loss: 1.9194 - accuracy: 0.39 - ETA: 0s - loss: 1.9206 - accuracy: 0.39 - ETA: 0s - loss: 1.9199 - accuracy: 0.39 - ETA: 0s - loss: 1.9193 - accuracy: 0.39 - ETA: 0s - loss: 1.9196 - accuracy: 0.39 - ETA: 0s - loss: 1.9193 - accuracy: 0.39 - ETA: 0s - loss: 1.9190 - accuracy: 0.39 - ETA: 0s - loss: 1.9184 - accuracy: 0.39 - ETA: 0s - loss: 1.9176 - accuracy: 0.39 - ETA: 0s - loss: 1.9173 - accuracy: 0.39 - ETA: 0s - loss: 1.9174 - accuracy: 0.39 - ETA: 0s - loss: 1.9172 - accuracy: 0.39 - ETA: 0s - loss: 1.9164 - accuracy: 0.39 - ETA: 0s - loss: 1.9154 - accuracy: 0.39 - ETA: 0s - loss: 1.9151 - accuracy: 0.39 - ETA: 0s - loss: 1.9147 - accuracy: 0.39 - ETA: 0s - loss: 1.9136 - accuracy: 0.39 - ETA: 0s - loss: 1.9134 - accuracy: 0.39 - ETA: 0s - loss: 1.9131 - accuracy: 0.39 - ETA: 0s - loss: 1.9129 - accuracy: 0.39 - 2s 1ms/step - loss: 1.9131 - accuracy: 0.3979 - val_loss: 1.8983 - val_accuracy: 0.4095\n",
      "Epoch 1/20\n",
      "1875/1875 [==============================] - ETA: 0s - loss: 2.3766 - accuracy: 0.09 - ETA: 1s - loss: 2.3379 - accuracy: 0.08 - ETA: 1s - loss: 2.3377 - accuracy: 0.09 - ETA: 1s - loss: 2.3373 - accuracy: 0.09 - ETA: 1s - loss: 2.3365 - accuracy: 0.09 - ETA: 1s - loss: 2.3366 - accuracy: 0.09 - ETA: 1s - loss: 2.3355 - accuracy: 0.09 - ETA: 1s - loss: 2.3345 - accuracy: 0.09 - ETA: 0s - loss: 2.3341 - accuracy: 0.09 - ETA: 0s - loss: 2.3341 - accuracy: 0.09 - ETA: 0s - loss: 2.3336 - accuracy: 0.09 - ETA: 0s - loss: 2.3328 - accuracy: 0.09 - ETA: 0s - loss: 2.3324 - accuracy: 0.09 - ETA: 0s - loss: 2.3325 - accuracy: 0.09 - ETA: 0s - loss: 2.3324 - accuracy: 0.09 - ETA: 0s - loss: 2.3324 - accuracy: 0.09 - ETA: 0s - loss: 2.3319 - accuracy: 0.09 - ETA: 0s - loss: 2.3318 - accuracy: 0.09 - ETA: 0s - loss: 2.3313 - accuracy: 0.09 - ETA: 0s - loss: 2.3312 - accuracy: 0.09 - ETA: 0s - loss: 2.3306 - accuracy: 0.09 - ETA: 0s - loss: 2.3301 - accuracy: 0.09 - ETA: 0s - loss: 2.3298 - accuracy: 0.09 - ETA: 0s - loss: 2.3292 - accuracy: 0.09 - ETA: 0s - loss: 2.3288 - accuracy: 0.10 - ETA: 0s - loss: 2.3285 - accuracy: 0.10 - ETA: 0s - loss: 2.3280 - accuracy: 0.10 - ETA: 0s - loss: 2.3277 - accuracy: 0.10 - 2s 1ms/step - loss: 2.3276 - accuracy: 0.1007 - val_loss: 2.3184 - val_accuracy: 0.1108\n",
      "Epoch 2/20\n",
      "1875/1875 [==============================] - ETA: 0s - loss: 2.3103 - accuracy: 0.09 - ETA: 1s - loss: 2.3222 - accuracy: 0.11 - ETA: 1s - loss: 2.3217 - accuracy: 0.10 - ETA: 1s - loss: 2.3192 - accuracy: 0.11 - ETA: 1s - loss: 2.3198 - accuracy: 0.10 - ETA: 1s - loss: 2.3185 - accuracy: 0.10 - ETA: 1s - loss: 2.3183 - accuracy: 0.11 - ETA: 1s - loss: 2.3179 - accuracy: 0.11 - ETA: 0s - loss: 2.3171 - accuracy: 0.11 - ETA: 0s - loss: 2.3164 - accuracy: 0.11 - ETA: 0s - loss: 2.3159 - accuracy: 0.11 - ETA: 0s - loss: 2.3159 - accuracy: 0.11 - ETA: 0s - loss: 2.3157 - accuracy: 0.11 - ETA: 0s - loss: 2.3148 - accuracy: 0.11 - ETA: 0s - loss: 2.3142 - accuracy: 0.11 - ETA: 0s - loss: 2.3139 - accuracy: 0.11 - ETA: 0s - loss: 2.3131 - accuracy: 0.11 - ETA: 0s - loss: 2.3131 - accuracy: 0.11 - ETA: 0s - loss: 2.3126 - accuracy: 0.11 - ETA: 0s - loss: 2.3122 - accuracy: 0.11 - ETA: 0s - loss: 2.3120 - accuracy: 0.11 - ETA: 0s - loss: 2.3116 - accuracy: 0.11 - ETA: 0s - loss: 2.3113 - accuracy: 0.11 - ETA: 0s - loss: 2.3110 - accuracy: 0.11 - ETA: 0s - loss: 2.3107 - accuracy: 0.11 - ETA: 0s - loss: 2.3105 - accuracy: 0.11 - ETA: 0s - loss: 2.3102 - accuracy: 0.11 - 2s 994us/step - loss: 2.3102 - accuracy: 0.1174 - val_loss: 2.3017 - val_accuracy: 0.1269\n",
      "Epoch 3/20\n",
      "1875/1875 [==============================] - ETA: 0s - loss: 2.2556 - accuracy: 0.12 - ETA: 1s - loss: 2.2992 - accuracy: 0.12 - ETA: 1s - loss: 2.2977 - accuracy: 0.12 - ETA: 1s - loss: 2.3004 - accuracy: 0.12 - ETA: 1s - loss: 2.2998 - accuracy: 0.13 - ETA: 1s - loss: 2.2996 - accuracy: 0.12 - ETA: 1s - loss: 2.2992 - accuracy: 0.12 - ETA: 0s - loss: 2.2985 - accuracy: 0.12 - ETA: 0s - loss: 2.2982 - accuracy: 0.12 - ETA: 0s - loss: 2.2981 - accuracy: 0.12 - ETA: 0s - loss: 2.2979 - accuracy: 0.13 - ETA: 0s - loss: 2.2976 - accuracy: 0.13 - ETA: 0s - loss: 2.2974 - accuracy: 0.13 - ETA: 0s - loss: 2.2970 - accuracy: 0.13 - ETA: 0s - loss: 2.2966 - accuracy: 0.13 - ETA: 0s - loss: 2.2965 - accuracy: 0.13 - ETA: 0s - loss: 2.2964 - accuracy: 0.13 - ETA: 0s - loss: 2.2961 - accuracy: 0.13 - ETA: 0s - loss: 2.2959 - accuracy: 0.13 - ETA: 0s - loss: 2.2958 - accuracy: 0.13 - ETA: 0s - loss: 2.2957 - accuracy: 0.13 - ETA: 0s - loss: 2.2954 - accuracy: 0.13 - ETA: 0s - loss: 2.2953 - accuracy: 0.13 - ETA: 0s - loss: 2.2951 - accuracy: 0.13 - ETA: 0s - loss: 2.2946 - accuracy: 0.13 - ETA: 0s - loss: 2.2944 - accuracy: 0.13 - ETA: 0s - loss: 2.2942 - accuracy: 0.13 - 2s 1ms/step - loss: 2.2941 - accuracy: 0.1332 - val_loss: 2.2863 - val_accuracy: 0.1426\n",
      "Epoch 4/20\n",
      "1875/1875 [==============================] - ETA: 0s - loss: 2.2626 - accuracy: 0.09 - ETA: 1s - loss: 2.2827 - accuracy: 0.15 - ETA: 1s - loss: 2.2858 - accuracy: 0.14 - ETA: 1s - loss: 2.2864 - accuracy: 0.13 - ETA: 1s - loss: 2.2858 - accuracy: 0.13 - ETA: 1s - loss: 2.2846 - accuracy: 0.14 - ETA: 0s - loss: 2.2849 - accuracy: 0.14 - ETA: 0s - loss: 2.2846 - accuracy: 0.14 - ETA: 0s - loss: 2.2835 - accuracy: 0.14 - ETA: 0s - loss: 2.2830 - accuracy: 0.14 - ETA: 0s - loss: 2.2832 - accuracy: 0.14 - ETA: 0s - loss: 2.2829 - accuracy: 0.14 - ETA: 0s - loss: 2.2826 - accuracy: 0.14 - ETA: 0s - loss: 2.2826 - accuracy: 0.14 - ETA: 0s - loss: 2.2826 - accuracy: 0.14 - ETA: 0s - loss: 2.2820 - accuracy: 0.14 - ETA: 0s - loss: 2.2814 - accuracy: 0.14 - ETA: 0s - loss: 2.2813 - accuracy: 0.14 - ETA: 0s - loss: 2.2811 - accuracy: 0.14 - ETA: 0s - loss: 2.2811 - accuracy: 0.14 - ETA: 0s - loss: 2.2809 - accuracy: 0.14 - ETA: 0s - loss: 2.2807 - accuracy: 0.14 - ETA: 0s - loss: 2.2804 - accuracy: 0.14 - ETA: 0s - loss: 2.2803 - accuracy: 0.14 - ETA: 0s - loss: 2.2799 - accuracy: 0.14 - ETA: 0s - loss: 2.2798 - accuracy: 0.14 - ETA: 0s - loss: 2.2793 - accuracy: 0.14 - 2s 1ms/step - loss: 2.2793 - accuracy: 0.1476 - val_loss: 2.2721 - val_accuracy: 0.1562\n",
      "Epoch 5/20\n",
      "1875/1875 [==============================] - ETA: 0s - loss: 2.2416 - accuracy: 0.18 - ETA: 1s - loss: 2.2695 - accuracy: 0.16 - ETA: 1s - loss: 2.2692 - accuracy: 0.16 - ETA: 1s - loss: 2.2702 - accuracy: 0.15 - ETA: 1s - loss: 2.2710 - accuracy: 0.15 - ETA: 1s - loss: 2.2704 - accuracy: 0.15 - ETA: 1s - loss: 2.2713 - accuracy: 0.15 - ETA: 1s - loss: 2.2722 - accuracy: 0.15 - ETA: 1s - loss: 2.2711 - accuracy: 0.15 - ETA: 0s - loss: 2.2710 - accuracy: 0.15 - ETA: 0s - loss: 2.2706 - accuracy: 0.15 - ETA: 0s - loss: 2.2711 - accuracy: 0.15 - ETA: 0s - loss: 2.2711 - accuracy: 0.15 - ETA: 0s - loss: 2.2705 - accuracy: 0.15 - ETA: 0s - loss: 2.2698 - accuracy: 0.15 - ETA: 0s - loss: 2.2695 - accuracy: 0.15 - ETA: 0s - loss: 2.2688 - accuracy: 0.15 - ETA: 0s - loss: 2.2682 - accuracy: 0.15 - ETA: 0s - loss: 2.2680 - accuracy: 0.15 - ETA: 0s - loss: 2.2676 - accuracy: 0.15 - ETA: 0s - loss: 2.2674 - accuracy: 0.15 - ETA: 0s - loss: 2.2674 - accuracy: 0.15 - ETA: 0s - loss: 2.2671 - accuracy: 0.15 - ETA: 0s - loss: 2.2667 - accuracy: 0.15 - ETA: 0s - loss: 2.2665 - accuracy: 0.15 - ETA: 0s - loss: 2.2661 - accuracy: 0.15 - ETA: 0s - loss: 2.2659 - accuracy: 0.15 - ETA: 0s - loss: 2.2656 - accuracy: 0.15 - 2s 1ms/step - loss: 2.2655 - accuracy: 0.1600 - val_loss: 2.2589 - val_accuracy: 0.1676\n",
      "Epoch 6/20\n"
     ]
    },
    {
     "name": "stdout",
     "output_type": "stream",
     "text": [
      "1875/1875 [==============================] - ETA: 0s - loss: 2.2678 - accuracy: 0.12 - ETA: 1s - loss: 2.2583 - accuracy: 0.15 - ETA: 1s - loss: 2.2580 - accuracy: 0.15 - ETA: 1s - loss: 2.2577 - accuracy: 0.16 - ETA: 1s - loss: 2.2576 - accuracy: 0.15 - ETA: 1s - loss: 2.2561 - accuracy: 0.16 - ETA: 1s - loss: 2.2567 - accuracy: 0.16 - ETA: 1s - loss: 2.2561 - accuracy: 0.16 - ETA: 0s - loss: 2.2564 - accuracy: 0.16 - ETA: 0s - loss: 2.2560 - accuracy: 0.16 - ETA: 0s - loss: 2.2555 - accuracy: 0.16 - ETA: 0s - loss: 2.2548 - accuracy: 0.16 - ETA: 0s - loss: 2.2550 - accuracy: 0.16 - ETA: 0s - loss: 2.2553 - accuracy: 0.16 - ETA: 0s - loss: 2.2554 - accuracy: 0.16 - ETA: 0s - loss: 2.2554 - accuracy: 0.16 - ETA: 0s - loss: 2.2551 - accuracy: 0.16 - ETA: 0s - loss: 2.2552 - accuracy: 0.16 - ETA: 0s - loss: 2.2551 - accuracy: 0.16 - ETA: 0s - loss: 2.2546 - accuracy: 0.16 - ETA: 0s - loss: 2.2546 - accuracy: 0.16 - ETA: 0s - loss: 2.2543 - accuracy: 0.16 - ETA: 0s - loss: 2.2542 - accuracy: 0.16 - ETA: 0s - loss: 2.2541 - accuracy: 0.16 - ETA: 0s - loss: 2.2538 - accuracy: 0.16 - ETA: 0s - loss: 2.2535 - accuracy: 0.16 - ETA: 0s - loss: 2.2531 - accuracy: 0.16 - ETA: 0s - loss: 2.2529 - accuracy: 0.17 - ETA: 0s - loss: 2.2529 - accuracy: 0.17 - 2s 1ms/step - loss: 2.2528 - accuracy: 0.1703 - val_loss: 2.2467 - val_accuracy: 0.1766\n",
      "Epoch 7/20\n",
      "1875/1875 [==============================] - ETA: 0s - loss: 2.2007 - accuracy: 0.25 - ETA: 1s - loss: 2.2451 - accuracy: 0.18 - ETA: 1s - loss: 2.2476 - accuracy: 0.17 - ETA: 1s - loss: 2.2452 - accuracy: 0.17 - ETA: 1s - loss: 2.2457 - accuracy: 0.17 - ETA: 1s - loss: 2.2446 - accuracy: 0.17 - ETA: 1s - loss: 2.2450 - accuracy: 0.17 - ETA: 0s - loss: 2.2456 - accuracy: 0.17 - ETA: 0s - loss: 2.2450 - accuracy: 0.17 - ETA: 0s - loss: 2.2449 - accuracy: 0.17 - ETA: 0s - loss: 2.2446 - accuracy: 0.17 - ETA: 0s - loss: 2.2439 - accuracy: 0.17 - ETA: 0s - loss: 2.2435 - accuracy: 0.17 - ETA: 0s - loss: 2.2433 - accuracy: 0.17 - ETA: 0s - loss: 2.2430 - accuracy: 0.17 - ETA: 0s - loss: 2.2428 - accuracy: 0.17 - ETA: 0s - loss: 2.2423 - accuracy: 0.17 - ETA: 0s - loss: 2.2424 - accuracy: 0.17 - ETA: 0s - loss: 2.2420 - accuracy: 0.17 - ETA: 0s - loss: 2.2418 - accuracy: 0.17 - ETA: 0s - loss: 2.2417 - accuracy: 0.17 - ETA: 0s - loss: 2.2418 - accuracy: 0.17 - ETA: 0s - loss: 2.2417 - accuracy: 0.17 - ETA: 0s - loss: 2.2415 - accuracy: 0.17 - ETA: 0s - loss: 2.2414 - accuracy: 0.17 - ETA: 0s - loss: 2.2412 - accuracy: 0.17 - ETA: 0s - loss: 2.2410 - accuracy: 0.17 - ETA: 0s - loss: 2.2409 - accuracy: 0.17 - 2s 1ms/step - loss: 2.2409 - accuracy: 0.1792 - val_loss: 2.2350 - val_accuracy: 0.1848\n",
      "Epoch 8/20\n",
      "1875/1875 [==============================] - ETA: 0s - loss: 2.2442 - accuracy: 0.21 - ETA: 1s - loss: 2.2388 - accuracy: 0.17 - ETA: 1s - loss: 2.2377 - accuracy: 0.17 - ETA: 1s - loss: 2.2377 - accuracy: 0.18 - ETA: 1s - loss: 2.2376 - accuracy: 0.18 - ETA: 1s - loss: 2.2370 - accuracy: 0.18 - ETA: 1s - loss: 2.2353 - accuracy: 0.18 - ETA: 0s - loss: 2.2347 - accuracy: 0.18 - ETA: 0s - loss: 2.2339 - accuracy: 0.18 - ETA: 0s - loss: 2.2338 - accuracy: 0.18 - ETA: 0s - loss: 2.2336 - accuracy: 0.18 - ETA: 0s - loss: 2.2333 - accuracy: 0.18 - ETA: 0s - loss: 2.2330 - accuracy: 0.18 - ETA: 0s - loss: 2.2327 - accuracy: 0.18 - ETA: 0s - loss: 2.2325 - accuracy: 0.18 - ETA: 0s - loss: 2.2323 - accuracy: 0.18 - ETA: 0s - loss: 2.2320 - accuracy: 0.18 - ETA: 0s - loss: 2.2320 - accuracy: 0.18 - ETA: 0s - loss: 2.2317 - accuracy: 0.18 - ETA: 0s - loss: 2.2315 - accuracy: 0.18 - ETA: 0s - loss: 2.2313 - accuracy: 0.18 - ETA: 0s - loss: 2.2310 - accuracy: 0.18 - ETA: 0s - loss: 2.2307 - accuracy: 0.18 - ETA: 0s - loss: 2.2304 - accuracy: 0.18 - ETA: 0s - loss: 2.2302 - accuracy: 0.18 - ETA: 0s - loss: 2.2299 - accuracy: 0.18 - 2s 1ms/step - loss: 2.2295 - accuracy: 0.1870 - val_loss: 2.2239 - val_accuracy: 0.1919\n",
      "Epoch 9/20\n",
      "1875/1875 [==============================] - ETA: 0s - loss: 2.1946 - accuracy: 0.25 - ETA: 1s - loss: 2.2234 - accuracy: 0.19 - ETA: 1s - loss: 2.2244 - accuracy: 0.19 - ETA: 1s - loss: 2.2241 - accuracy: 0.19 - ETA: 1s - loss: 2.2232 - accuracy: 0.19 - ETA: 1s - loss: 2.2233 - accuracy: 0.19 - ETA: 1s - loss: 2.2231 - accuracy: 0.19 - ETA: 1s - loss: 2.2237 - accuracy: 0.19 - ETA: 1s - loss: 2.2235 - accuracy: 0.19 - ETA: 0s - loss: 2.2232 - accuracy: 0.19 - ETA: 0s - loss: 2.2225 - accuracy: 0.19 - ETA: 0s - loss: 2.2216 - accuracy: 0.19 - ETA: 0s - loss: 2.2210 - accuracy: 0.19 - ETA: 0s - loss: 2.2205 - accuracy: 0.19 - ETA: 0s - loss: 2.2204 - accuracy: 0.19 - ETA: 0s - loss: 2.2201 - accuracy: 0.19 - ETA: 0s - loss: 2.2200 - accuracy: 0.19 - ETA: 0s - loss: 2.2201 - accuracy: 0.19 - ETA: 0s - loss: 2.2199 - accuracy: 0.19 - ETA: 0s - loss: 2.2199 - accuracy: 0.19 - ETA: 0s - loss: 2.2199 - accuracy: 0.19 - ETA: 0s - loss: 2.2200 - accuracy: 0.19 - ETA: 0s - loss: 2.2198 - accuracy: 0.19 - ETA: 0s - loss: 2.2196 - accuracy: 0.19 - ETA: 0s - loss: 2.2193 - accuracy: 0.19 - ETA: 0s - loss: 2.2191 - accuracy: 0.19 - ETA: 0s - loss: 2.2189 - accuracy: 0.19 - ETA: 0s - loss: 2.2188 - accuracy: 0.19 - 2s 1ms/step - loss: 2.2185 - accuracy: 0.1929 - val_loss: 2.2130 - val_accuracy: 0.1970\n",
      "Epoch 10/20\n",
      "1875/1875 [==============================] - ETA: 0s - loss: 2.2248 - accuracy: 0.15 - ETA: 1s - loss: 2.2143 - accuracy: 0.19 - ETA: 1s - loss: 2.2157 - accuracy: 0.19 - ETA: 1s - loss: 2.2135 - accuracy: 0.19 - ETA: 1s - loss: 2.2138 - accuracy: 0.19 - ETA: 1s - loss: 2.2130 - accuracy: 0.19 - ETA: 1s - loss: 2.2119 - accuracy: 0.19 - ETA: 0s - loss: 2.2116 - accuracy: 0.19 - ETA: 0s - loss: 2.2104 - accuracy: 0.19 - ETA: 0s - loss: 2.2104 - accuracy: 0.19 - ETA: 0s - loss: 2.2105 - accuracy: 0.19 - ETA: 0s - loss: 2.2108 - accuracy: 0.19 - ETA: 0s - loss: 2.2103 - accuracy: 0.19 - ETA: 0s - loss: 2.2100 - accuracy: 0.19 - ETA: 0s - loss: 2.2101 - accuracy: 0.19 - ETA: 0s - loss: 2.2098 - accuracy: 0.19 - ETA: 0s - loss: 2.2097 - accuracy: 0.19 - ETA: 0s - loss: 2.2095 - accuracy: 0.19 - ETA: 0s - loss: 2.2095 - accuracy: 0.19 - ETA: 0s - loss: 2.2094 - accuracy: 0.19 - ETA: 0s - loss: 2.2091 - accuracy: 0.19 - ETA: 0s - loss: 2.2088 - accuracy: 0.19 - ETA: 0s - loss: 2.2085 - accuracy: 0.19 - ETA: 0s - loss: 2.2083 - accuracy: 0.19 - ETA: 0s - loss: 2.2082 - accuracy: 0.19 - ETA: 0s - loss: 2.2082 - accuracy: 0.19 - ETA: 0s - loss: 2.2081 - accuracy: 0.19 - ETA: 0s - loss: 2.2078 - accuracy: 0.19 - 2s 1ms/step - loss: 2.2078 - accuracy: 0.1986 - val_loss: 2.2024 - val_accuracy: 0.2035\n",
      "Epoch 11/20\n",
      "1875/1875 [==============================] - ETA: 0s - loss: 2.1982 - accuracy: 0.18 - ETA: 1s - loss: 2.2100 - accuracy: 0.18 - ETA: 1s - loss: 2.2060 - accuracy: 0.19 - ETA: 1s - loss: 2.2034 - accuracy: 0.19 - ETA: 1s - loss: 2.2013 - accuracy: 0.19 - ETA: 1s - loss: 2.2009 - accuracy: 0.19 - ETA: 1s - loss: 2.2004 - accuracy: 0.20 - ETA: 0s - loss: 2.2007 - accuracy: 0.20 - ETA: 0s - loss: 2.2009 - accuracy: 0.19 - ETA: 0s - loss: 2.2011 - accuracy: 0.19 - ETA: 0s - loss: 2.2017 - accuracy: 0.19 - ETA: 0s - loss: 2.2010 - accuracy: 0.19 - ETA: 0s - loss: 2.2005 - accuracy: 0.19 - ETA: 0s - loss: 2.2003 - accuracy: 0.19 - ETA: 0s - loss: 2.2001 - accuracy: 0.19 - ETA: 0s - loss: 2.1999 - accuracy: 0.20 - ETA: 0s - loss: 2.1995 - accuracy: 0.20 - ETA: 0s - loss: 2.1996 - accuracy: 0.20 - ETA: 0s - loss: 2.1994 - accuracy: 0.20 - ETA: 0s - loss: 2.1992 - accuracy: 0.20 - ETA: 0s - loss: 2.1989 - accuracy: 0.20 - ETA: 0s - loss: 2.1988 - accuracy: 0.20 - ETA: 0s - loss: 2.1984 - accuracy: 0.20 - ETA: 0s - loss: 2.1981 - accuracy: 0.20 - ETA: 0s - loss: 2.1979 - accuracy: 0.20 - ETA: 0s - loss: 2.1976 - accuracy: 0.20 - ETA: 0s - loss: 2.1973 - accuracy: 0.20 - 2s 1ms/step - loss: 2.1972 - accuracy: 0.2040 - val_loss: 2.1918 - val_accuracy: 0.2081\n",
      "Epoch 12/20\n",
      "1875/1875 [==============================] - ETA: 0s - loss: 2.1873 - accuracy: 0.15 - ETA: 1s - loss: 2.1933 - accuracy: 0.19 - ETA: 1s - loss: 2.1912 - accuracy: 0.20 - ETA: 1s - loss: 2.1905 - accuracy: 0.20 - ETA: 1s - loss: 2.1909 - accuracy: 0.20 - ETA: 1s - loss: 2.1915 - accuracy: 0.20 - ETA: 1s - loss: 2.1917 - accuracy: 0.20 - ETA: 1s - loss: 2.1914 - accuracy: 0.20 - ETA: 1s - loss: 2.1916 - accuracy: 0.20 - ETA: 0s - loss: 2.1915 - accuracy: 0.20 - ETA: 0s - loss: 2.1912 - accuracy: 0.20 - ETA: 0s - loss: 2.1913 - accuracy: 0.20 - ETA: 0s - loss: 2.1908 - accuracy: 0.20 - ETA: 0s - loss: 2.1906 - accuracy: 0.20 - ETA: 0s - loss: 2.1905 - accuracy: 0.20 - ETA: 0s - loss: 2.1906 - accuracy: 0.20 - ETA: 0s - loss: 2.1904 - accuracy: 0.20 - ETA: 0s - loss: 2.1900 - accuracy: 0.20 - ETA: 0s - loss: 2.1899 - accuracy: 0.20 - ETA: 0s - loss: 2.1897 - accuracy: 0.20 - ETA: 0s - loss: 2.1897 - accuracy: 0.20 - ETA: 0s - loss: 2.1892 - accuracy: 0.20 - ETA: 0s - loss: 2.1889 - accuracy: 0.20 - ETA: 0s - loss: 2.1883 - accuracy: 0.20 - ETA: 0s - loss: 2.1883 - accuracy: 0.20 - ETA: 0s - loss: 2.1879 - accuracy: 0.20 - ETA: 0s - loss: 2.1875 - accuracy: 0.20 - ETA: 0s - loss: 2.1875 - accuracy: 0.20 - ETA: 0s - loss: 2.1872 - accuracy: 0.20 - ETA: 0s - loss: 2.1870 - accuracy: 0.20 - 2s 1ms/step - loss: 2.1867 - accuracy: 0.2091 - val_loss: 2.1813 - val_accuracy: 0.2128\n",
      "Epoch 13/20\n",
      "1875/1875 [==============================] - ETA: 0s - loss: 2.1746 - accuracy: 0.09 - ETA: 1s - loss: 2.1792 - accuracy: 0.21 - ETA: 1s - loss: 2.1819 - accuracy: 0.20 - ETA: 1s - loss: 2.1797 - accuracy: 0.20 - ETA: 1s - loss: 2.1794 - accuracy: 0.20 - ETA: 1s - loss: 2.1795 - accuracy: 0.20 - ETA: 1s - loss: 2.1792 - accuracy: 0.20 - ETA: 0s - loss: 2.1783 - accuracy: 0.21 - ETA: 0s - loss: 2.1785 - accuracy: 0.21 - ETA: 0s - loss: 2.1782 - accuracy: 0.21 - ETA: 0s - loss: 2.1782 - accuracy: 0.21 - ETA: 0s - loss: 2.1780 - accuracy: 0.21 - ETA: 0s - loss: 2.1783 - accuracy: 0.21 - ETA: 0s - loss: 2.1788 - accuracy: 0.21 - ETA: 0s - loss: 2.1788 - accuracy: 0.21 - ETA: 0s - loss: 2.1789 - accuracy: 0.21 - ETA: 0s - loss: 2.1787 - accuracy: 0.21 - ETA: 0s - loss: 2.1782 - accuracy: 0.21 - ETA: 0s - loss: 2.1779 - accuracy: 0.21 - ETA: 0s - loss: 2.1776 - accuracy: 0.21 - ETA: 0s - loss: 2.1777 - accuracy: 0.21 - ETA: 0s - loss: 2.1774 - accuracy: 0.21 - ETA: 0s - loss: 2.1773 - accuracy: 0.21 - ETA: 0s - loss: 2.1771 - accuracy: 0.21 - ETA: 0s - loss: 2.1768 - accuracy: 0.21 - ETA: 0s - loss: 2.1765 - accuracy: 0.21 - ETA: 0s - loss: 2.1763 - accuracy: 0.21 - 2s 1ms/step - loss: 2.1761 - accuracy: 0.2139 - val_loss: 2.1706 - val_accuracy: 0.2174\n",
      "Epoch 14/20\n",
      "1875/1875 [==============================] - ETA: 0s - loss: 2.1149 - accuracy: 0.25 - ETA: 1s - loss: 2.1699 - accuracy: 0.21 - ETA: 1s - loss: 2.1696 - accuracy: 0.21 - ETA: 1s - loss: 2.1686 - accuracy: 0.21 - ETA: 1s - loss: 2.1695 - accuracy: 0.21 - ETA: 1s - loss: 2.1686 - accuracy: 0.21 - ETA: 1s - loss: 2.1695 - accuracy: 0.21 - ETA: 0s - loss: 2.1693 - accuracy: 0.21 - ETA: 0s - loss: 2.1683 - accuracy: 0.21 - ETA: 0s - loss: 2.1683 - accuracy: 0.21 - ETA: 0s - loss: 2.1687 - accuracy: 0.21 - ETA: 0s - loss: 2.1690 - accuracy: 0.21 - ETA: 0s - loss: 2.1691 - accuracy: 0.21 - ETA: 0s - loss: 2.1692 - accuracy: 0.21 - ETA: 0s - loss: 2.1686 - accuracy: 0.21 - ETA: 0s - loss: 2.1685 - accuracy: 0.21 - ETA: 0s - loss: 2.1684 - accuracy: 0.21 - ETA: 0s - loss: 2.1684 - accuracy: 0.21 - ETA: 0s - loss: 2.1680 - accuracy: 0.21 - ETA: 0s - loss: 2.1680 - accuracy: 0.21 - ETA: 0s - loss: 2.1680 - accuracy: 0.21 - ETA: 0s - loss: 2.1674 - accuracy: 0.21 - ETA: 0s - loss: 2.1672 - accuracy: 0.21 - ETA: 0s - loss: 2.1668 - accuracy: 0.21 - ETA: 0s - loss: 2.1664 - accuracy: 0.21 - ETA: 0s - loss: 2.1663 - accuracy: 0.21 - ETA: 0s - loss: 2.1663 - accuracy: 0.21 - ETA: 0s - loss: 2.1662 - accuracy: 0.21 - ETA: 0s - loss: 2.1658 - accuracy: 0.21 - 2s 1ms/step - loss: 2.1655 - accuracy: 0.2183 - val_loss: 2.1599 - val_accuracy: 0.2227\n",
      "Epoch 15/20\n",
      "1875/1875 [==============================] - ETA: 0s - loss: 2.1548 - accuracy: 0.21 - ETA: 2s - loss: 2.1580 - accuracy: 0.21 - ETA: 1s - loss: 2.1625 - accuracy: 0.21 - ETA: 1s - loss: 2.1622 - accuracy: 0.21 - ETA: 1s - loss: 2.1616 - accuracy: 0.21 - ETA: 1s - loss: 2.1613 - accuracy: 0.21 - ETA: 1s - loss: 2.1609 - accuracy: 0.21 - ETA: 1s - loss: 2.1597 - accuracy: 0.21 - ETA: 1s - loss: 2.1592 - accuracy: 0.21 - ETA: 0s - loss: 2.1582 - accuracy: 0.21 - ETA: 0s - loss: 2.1576 - accuracy: 0.22 - ETA: 0s - loss: 2.1579 - accuracy: 0.21 - ETA: 0s - loss: 2.1577 - accuracy: 0.22 - ETA: 0s - loss: 2.1573 - accuracy: 0.22 - ETA: 0s - loss: 2.1572 - accuracy: 0.22 - ETA: 0s - loss: 2.1566 - accuracy: 0.22 - ETA: 0s - loss: 2.1569 - accuracy: 0.22 - ETA: 0s - loss: 2.1574 - accuracy: 0.22 - ETA: 0s - loss: 2.1567 - accuracy: 0.22 - ETA: 0s - loss: 2.1565 - accuracy: 0.22 - ETA: 0s - loss: 2.1561 - accuracy: 0.22 - ETA: 0s - loss: 2.1561 - accuracy: 0.22 - ETA: 0s - loss: 2.1555 - accuracy: 0.22 - ETA: 0s - loss: 2.1554 - accuracy: 0.22 - ETA: 0s - loss: 2.1552 - accuracy: 0.22 - ETA: 0s - loss: 2.1550 - accuracy: 0.22 - ETA: 0s - loss: 2.1550 - accuracy: 0.22 - 2s 1ms/step - loss: 2.1548 - accuracy: 0.2228 - val_loss: 2.1491 - val_accuracy: 0.2279\n",
      "Epoch 16/20\n",
      "1875/1875 [==============================] - ETA: 0s - loss: 2.1338 - accuracy: 0.28 - ETA: 1s - loss: 2.1551 - accuracy: 0.22 - ETA: 1s - loss: 2.1546 - accuracy: 0.22 - ETA: 1s - loss: 2.1515 - accuracy: 0.22 - ETA: 1s - loss: 2.1497 - accuracy: 0.22 - ETA: 1s - loss: 2.1482 - accuracy: 0.22 - ETA: 1s - loss: 2.1479 - accuracy: 0.22 - ETA: 1s - loss: 2.1476 - accuracy: 0.22 - ETA: 1s - loss: 2.1476 - accuracy: 0.22 - ETA: 1s - loss: 2.1481 - accuracy: 0.22 - ETA: 1s - loss: 2.1485 - accuracy: 0.22 - ETA: 0s - loss: 2.1484 - accuracy: 0.22 - ETA: 0s - loss: 2.1479 - accuracy: 0.22 - ETA: 0s - loss: 2.1477 - accuracy: 0.22 - ETA: 0s - loss: 2.1469 - accuracy: 0.22 - ETA: 0s - loss: 2.1470 - accuracy: 0.22 - ETA: 0s - loss: 2.1467 - accuracy: 0.22 - ETA: 0s - loss: 2.1463 - accuracy: 0.22 - ETA: 0s - loss: 2.1464 - accuracy: 0.22 - ETA: 0s - loss: 2.1464 - accuracy: 0.22 - ETA: 0s - loss: 2.1464 - accuracy: 0.22 - ETA: 0s - loss: 2.1460 - accuracy: 0.22 - ETA: 0s - loss: 2.1457 - accuracy: 0.22 - ETA: 0s - loss: 2.1455 - accuracy: 0.22 - ETA: 0s - loss: 2.1455 - accuracy: 0.22 - ETA: 0s - loss: 2.1452 - accuracy: 0.22 - ETA: 0s - loss: 2.1446 - accuracy: 0.22 - ETA: 0s - loss: 2.1441 - accuracy: 0.22 - ETA: 0s - loss: 2.1440 - accuracy: 0.22 - 2s 1ms/step - loss: 2.1439 - accuracy: 0.2283 - val_loss: 2.1381 - val_accuracy: 0.2335\n",
      "Epoch 17/20\n",
      "1875/1875 [==============================] - ETA: 0s - loss: 2.1752 - accuracy: 0.15 - ETA: 1s - loss: 2.1406 - accuracy: 0.22 - ETA: 1s - loss: 2.1371 - accuracy: 0.22 - ETA: 1s - loss: 2.1375 - accuracy: 0.22 - ETA: 1s - loss: 2.1369 - accuracy: 0.22 - ETA: 0s - loss: 2.1380 - accuracy: 0.23 - ETA: 0s - loss: 2.1369 - accuracy: 0.23 - ETA: 0s - loss: 2.1356 - accuracy: 0.23 - ETA: 0s - loss: 2.1354 - accuracy: 0.23 - ETA: 0s - loss: 2.1348 - accuracy: 0.23 - ETA: 0s - loss: 2.1351 - accuracy: 0.23 - ETA: 0s - loss: 2.1357 - accuracy: 0.23 - ETA: 0s - loss: 2.1359 - accuracy: 0.23 - ETA: 0s - loss: 2.1358 - accuracy: 0.23 - ETA: 0s - loss: 2.1352 - accuracy: 0.23 - ETA: 0s - loss: 2.1348 - accuracy: 0.23 - ETA: 0s - loss: 2.1342 - accuracy: 0.23 - ETA: 0s - loss: 2.1340 - accuracy: 0.23 - ETA: 0s - loss: 2.1339 - accuracy: 0.23 - ETA: 0s - loss: 2.1336 - accuracy: 0.23 - ETA: 0s - loss: 2.1334 - accuracy: 0.23 - ETA: 0s - loss: 2.1335 - accuracy: 0.23 - ETA: 0s - loss: 2.1333 - accuracy: 0.23 - ETA: 0s - loss: 2.1331 - accuracy: 0.23 - ETA: 0s - loss: 2.1330 - accuracy: 0.23 - ETA: 0s - loss: 2.1328 - accuracy: 0.23 - 2s 1ms/step - loss: 2.1329 - accuracy: 0.2340 - val_loss: 2.1269 - val_accuracy: 0.2378\n",
      "Epoch 18/20\n"
     ]
    },
    {
     "name": "stdout",
     "output_type": "stream",
     "text": [
      "1875/1875 [==============================] - ETA: 0s - loss: 2.0733 - accuracy: 0.28 - ETA: 1s - loss: 2.1242 - accuracy: 0.23 - ETA: 1s - loss: 2.1252 - accuracy: 0.23 - ETA: 1s - loss: 2.1262 - accuracy: 0.23 - ETA: 1s - loss: 2.1265 - accuracy: 0.23 - ETA: 1s - loss: 2.1267 - accuracy: 0.23 - ETA: 0s - loss: 2.1267 - accuracy: 0.23 - ETA: 0s - loss: 2.1268 - accuracy: 0.23 - ETA: 0s - loss: 2.1270 - accuracy: 0.23 - ETA: 0s - loss: 2.1265 - accuracy: 0.23 - ETA: 0s - loss: 2.1264 - accuracy: 0.23 - ETA: 0s - loss: 2.1263 - accuracy: 0.23 - ETA: 0s - loss: 2.1258 - accuracy: 0.23 - ETA: 0s - loss: 2.1256 - accuracy: 0.23 - ETA: 0s - loss: 2.1256 - accuracy: 0.23 - ETA: 0s - loss: 2.1252 - accuracy: 0.23 - ETA: 0s - loss: 2.1246 - accuracy: 0.23 - ETA: 0s - loss: 2.1243 - accuracy: 0.23 - ETA: 0s - loss: 2.1237 - accuracy: 0.23 - ETA: 0s - loss: 2.1235 - accuracy: 0.23 - ETA: 0s - loss: 2.1234 - accuracy: 0.23 - ETA: 0s - loss: 2.1233 - accuracy: 0.23 - ETA: 0s - loss: 2.1228 - accuracy: 0.23 - ETA: 0s - loss: 2.1226 - accuracy: 0.23 - ETA: 0s - loss: 2.1224 - accuracy: 0.23 - ETA: 0s - loss: 2.1221 - accuracy: 0.23 - ETA: 0s - loss: 2.1218 - accuracy: 0.23 - 2s 1ms/step - loss: 2.1216 - accuracy: 0.2393 - val_loss: 2.1155 - val_accuracy: 0.2435\n",
      "Epoch 19/20\n",
      "1875/1875 [==============================] - ETA: 0s - loss: 2.1338 - accuracy: 0.25 - ETA: 1s - loss: 2.1159 - accuracy: 0.23 - ETA: 1s - loss: 2.1145 - accuracy: 0.24 - ETA: 1s - loss: 2.1173 - accuracy: 0.23 - ETA: 1s - loss: 2.1177 - accuracy: 0.23 - ETA: 0s - loss: 2.1157 - accuracy: 0.23 - ETA: 0s - loss: 2.1162 - accuracy: 0.23 - ETA: 0s - loss: 2.1156 - accuracy: 0.23 - ETA: 0s - loss: 2.1149 - accuracy: 0.23 - ETA: 0s - loss: 2.1150 - accuracy: 0.24 - ETA: 0s - loss: 2.1142 - accuracy: 0.24 - ETA: 0s - loss: 2.1141 - accuracy: 0.24 - ETA: 0s - loss: 2.1142 - accuracy: 0.24 - ETA: 0s - loss: 2.1136 - accuracy: 0.24 - ETA: 0s - loss: 2.1125 - accuracy: 0.24 - ETA: 0s - loss: 2.1125 - accuracy: 0.24 - ETA: 0s - loss: 2.1123 - accuracy: 0.24 - ETA: 0s - loss: 2.1123 - accuracy: 0.24 - ETA: 0s - loss: 2.1113 - accuracy: 0.24 - ETA: 0s - loss: 2.1112 - accuracy: 0.24 - ETA: 0s - loss: 2.1109 - accuracy: 0.24 - ETA: 0s - loss: 2.1104 - accuracy: 0.24 - ETA: 0s - loss: 2.1102 - accuracy: 0.24 - ETA: 0s - loss: 2.1102 - accuracy: 0.24 - ETA: 0s - loss: 2.1101 - accuracy: 0.24 - ETA: 0s - loss: 2.1102 - accuracy: 0.24 - 2s 993us/step - loss: 2.1102 - accuracy: 0.2452 - val_loss: 2.1039 - val_accuracy: 0.2495\n",
      "Epoch 20/20\n",
      "1875/1875 [==============================] - ETA: 0s - loss: 2.0769 - accuracy: 0.18 - ETA: 1s - loss: 2.1026 - accuracy: 0.25 - ETA: 1s - loss: 2.1054 - accuracy: 0.25 - ETA: 1s - loss: 2.1057 - accuracy: 0.25 - ETA: 1s - loss: 2.1039 - accuracy: 0.24 - ETA: 1s - loss: 2.1042 - accuracy: 0.24 - ETA: 0s - loss: 2.1043 - accuracy: 0.24 - ETA: 0s - loss: 2.1044 - accuracy: 0.24 - ETA: 0s - loss: 2.1031 - accuracy: 0.24 - ETA: 0s - loss: 2.1036 - accuracy: 0.24 - ETA: 0s - loss: 2.1027 - accuracy: 0.24 - ETA: 0s - loss: 2.1029 - accuracy: 0.24 - ETA: 0s - loss: 2.1027 - accuracy: 0.24 - ETA: 0s - loss: 2.1024 - accuracy: 0.24 - ETA: 0s - loss: 2.1023 - accuracy: 0.24 - ETA: 0s - loss: 2.1019 - accuracy: 0.24 - ETA: 0s - loss: 2.1017 - accuracy: 0.24 - ETA: 0s - loss: 2.1009 - accuracy: 0.24 - ETA: 0s - loss: 2.1011 - accuracy: 0.24 - ETA: 0s - loss: 2.1006 - accuracy: 0.24 - ETA: 0s - loss: 2.1004 - accuracy: 0.24 - ETA: 0s - loss: 2.0997 - accuracy: 0.24 - ETA: 0s - loss: 2.0995 - accuracy: 0.24 - ETA: 0s - loss: 2.0991 - accuracy: 0.25 - ETA: 0s - loss: 2.0988 - accuracy: 0.25 - ETA: 0s - loss: 2.0985 - accuracy: 0.25 - ETA: 0s - loss: 2.0986 - accuracy: 0.25 - ETA: 0s - loss: 2.0984 - accuracy: 0.25 - ETA: 0s - loss: 2.0985 - accuracy: 0.25 - 2s 1ms/step - loss: 2.0985 - accuracy: 0.2508 - val_loss: 2.0920 - val_accuracy: 0.2551\n"
     ]
    },
    {
     "data": {
      "text/html": [
       "<span style=\"color:#4527A0\"><h1 style=\"font-size:18px\">Trial complete</h1></span>"
      ],
      "text/plain": [
       "<IPython.core.display.HTML object>"
      ]
     },
     "metadata": {},
     "output_type": "display_data"
    },
    {
     "data": {
      "text/html": [
       "<span style=\"color:#4527A0\"><h1 style=\"font-size:18px\">Trial summary</h1></span>"
      ],
      "text/plain": [
       "<IPython.core.display.HTML object>"
      ]
     },
     "metadata": {},
     "output_type": "display_data"
    },
    {
     "data": {
      "text/html": [
       "<span style=\"color:cyan\"> |-Trial ID: 80d66f35e070af5c9ac0ff3db7d11f90</span>"
      ],
      "text/plain": [
       "<IPython.core.display.HTML object>"
      ]
     },
     "metadata": {},
     "output_type": "display_data"
    },
    {
     "data": {
      "text/html": [
       "<span style=\"color:cyan\"> |-Score: 0.33230000734329224</span>"
      ],
      "text/plain": [
       "<IPython.core.display.HTML object>"
      ]
     },
     "metadata": {},
     "output_type": "display_data"
    },
    {
     "data": {
      "text/html": [
       "<span style=\"color:cyan\"> |-Best step: 0</span>"
      ],
      "text/plain": [
       "<IPython.core.display.HTML object>"
      ]
     },
     "metadata": {},
     "output_type": "display_data"
    },
    {
     "data": {
      "text/html": [
       "<span style=\"color:#7E57C2\"><h2 style=\"font-size:16px\">Hyperparameters:</h2></span>"
      ],
      "text/plain": [
       "<IPython.core.display.HTML object>"
      ]
     },
     "metadata": {},
     "output_type": "display_data"
    },
    {
     "data": {
      "text/html": [
       "<span style=\"color:cyan\"> |-learning_rate: 0.0001</span>"
      ],
      "text/plain": [
       "<IPython.core.display.HTML object>"
      ]
     },
     "metadata": {},
     "output_type": "display_data"
    },
    {
     "data": {
      "text/html": [
       "<span style=\"color:blue\"> |-momentum: 0.0</span>"
      ],
      "text/plain": [
       "<IPython.core.display.HTML object>"
      ]
     },
     "metadata": {},
     "output_type": "display_data"
    },
    {
     "name": "stdout",
     "output_type": "stream",
     "text": [
      "Epoch 1/20\n",
      "1875/1875 [==============================] - ETA: 0s - loss: 2.2521 - accuracy: 0.15 - ETA: 1s - loss: 2.2865 - accuracy: 0.09 - ETA: 1s - loss: 2.2831 - accuracy: 0.10 - ETA: 1s - loss: 2.2798 - accuracy: 0.10 - ETA: 1s - loss: 2.2759 - accuracy: 0.11 - ETA: 1s - loss: 2.2704 - accuracy: 0.12 - ETA: 1s - loss: 2.2650 - accuracy: 0.12 - ETA: 1s - loss: 2.2601 - accuracy: 0.12 - ETA: 0s - loss: 2.2552 - accuracy: 0.13 - ETA: 0s - loss: 2.2501 - accuracy: 0.13 - ETA: 0s - loss: 2.2444 - accuracy: 0.14 - ETA: 0s - loss: 2.2396 - accuracy: 0.14 - ETA: 0s - loss: 2.2352 - accuracy: 0.14 - ETA: 0s - loss: 2.2303 - accuracy: 0.15 - ETA: 0s - loss: 2.2255 - accuracy: 0.15 - ETA: 0s - loss: 2.2202 - accuracy: 0.15 - ETA: 0s - loss: 2.2157 - accuracy: 0.16 - ETA: 0s - loss: 2.2112 - accuracy: 0.16 - ETA: 0s - loss: 2.2069 - accuracy: 0.16 - ETA: 0s - loss: 2.2018 - accuracy: 0.16 - ETA: 0s - loss: 2.1975 - accuracy: 0.17 - ETA: 0s - loss: 2.1935 - accuracy: 0.17 - ETA: 0s - loss: 2.1891 - accuracy: 0.17 - ETA: 0s - loss: 2.1847 - accuracy: 0.18 - ETA: 0s - loss: 2.1806 - accuracy: 0.18 - ETA: 0s - loss: 2.1758 - accuracy: 0.18 - ETA: 0s - loss: 2.1717 - accuracy: 0.18 - ETA: 0s - loss: 2.1683 - accuracy: 0.19 - 2s 1ms/step - loss: 2.1680 - accuracy: 0.1917 - val_loss: 2.0515 - val_accuracy: 0.2709\n",
      "Epoch 2/20\n",
      "1875/1875 [==============================] - ETA: 0s - loss: 2.0641 - accuracy: 0.18 - ETA: 1s - loss: 2.0513 - accuracy: 0.27 - ETA: 1s - loss: 2.0452 - accuracy: 0.27 - ETA: 1s - loss: 2.0409 - accuracy: 0.27 - ETA: 1s - loss: 2.0373 - accuracy: 0.28 - ETA: 1s - loss: 2.0346 - accuracy: 0.28 - ETA: 1s - loss: 2.0316 - accuracy: 0.28 - ETA: 1s - loss: 2.0293 - accuracy: 0.28 - ETA: 1s - loss: 2.0245 - accuracy: 0.29 - ETA: 1s - loss: 2.0205 - accuracy: 0.29 - ETA: 0s - loss: 2.0169 - accuracy: 0.29 - ETA: 0s - loss: 2.0128 - accuracy: 0.29 - ETA: 0s - loss: 2.0098 - accuracy: 0.30 - ETA: 0s - loss: 2.0058 - accuracy: 0.30 - ETA: 0s - loss: 2.0018 - accuracy: 0.30 - ETA: 0s - loss: 1.9986 - accuracy: 0.31 - ETA: 0s - loss: 1.9932 - accuracy: 0.31 - ETA: 0s - loss: 1.9891 - accuracy: 0.31 - ETA: 0s - loss: 1.9839 - accuracy: 0.32 - ETA: 0s - loss: 1.9799 - accuracy: 0.32 - ETA: 0s - loss: 1.9754 - accuracy: 0.33 - ETA: 0s - loss: 1.9716 - accuracy: 0.33 - ETA: 0s - loss: 1.9676 - accuracy: 0.33 - ETA: 0s - loss: 1.9629 - accuracy: 0.34 - ETA: 0s - loss: 1.9587 - accuracy: 0.34 - ETA: 0s - loss: 1.9539 - accuracy: 0.34 - ETA: 0s - loss: 1.9490 - accuracy: 0.35 - 2s 1ms/step - loss: 1.9453 - accuracy: 0.3544 - val_loss: 1.8268 - val_accuracy: 0.4446\n",
      "Epoch 3/20\n",
      "1875/1875 [==============================] - ETA: 0s - loss: 1.7462 - accuracy: 0.62 - ETA: 1s - loss: 1.8053 - accuracy: 0.45 - ETA: 1s - loss: 1.8125 - accuracy: 0.45 - ETA: 1s - loss: 1.8071 - accuracy: 0.46 - ETA: 1s - loss: 1.8064 - accuracy: 0.46 - ETA: 1s - loss: 1.7999 - accuracy: 0.46 - ETA: 1s - loss: 1.7943 - accuracy: 0.46 - ETA: 0s - loss: 1.7888 - accuracy: 0.47 - ETA: 0s - loss: 1.7794 - accuracy: 0.47 - ETA: 0s - loss: 1.7735 - accuracy: 0.48 - ETA: 0s - loss: 1.7658 - accuracy: 0.48 - ETA: 0s - loss: 1.7590 - accuracy: 0.48 - ETA: 0s - loss: 1.7513 - accuracy: 0.49 - ETA: 0s - loss: 1.7458 - accuracy: 0.49 - ETA: 0s - loss: 1.7351 - accuracy: 0.50 - ETA: 0s - loss: 1.7279 - accuracy: 0.50 - ETA: 0s - loss: 1.7196 - accuracy: 0.50 - ETA: 0s - loss: 1.7094 - accuracy: 0.51 - ETA: 0s - loss: 1.7005 - accuracy: 0.51 - ETA: 0s - loss: 1.6918 - accuracy: 0.51 - ETA: 0s - loss: 1.6832 - accuracy: 0.52 - ETA: 0s - loss: 1.6751 - accuracy: 0.52 - ETA: 0s - loss: 1.6673 - accuracy: 0.52 - ETA: 0s - loss: 1.6586 - accuracy: 0.52 - ETA: 0s - loss: 1.6509 - accuracy: 0.53 - ETA: 0s - loss: 1.6424 - accuracy: 0.53 - ETA: 0s - loss: 1.6327 - accuracy: 0.53 - 2s 1ms/step - loss: 1.6308 - accuracy: 0.5371 - val_loss: 1.4109 - val_accuracy: 0.6068\n",
      "Epoch 4/20\n",
      "1875/1875 [==============================] - ETA: 0s - loss: 1.5202 - accuracy: 0.62 - ETA: 1s - loss: 1.4125 - accuracy: 0.62 - ETA: 1s - loss: 1.4102 - accuracy: 0.61 - ETA: 1s - loss: 1.3965 - accuracy: 0.61 - ETA: 1s - loss: 1.3907 - accuracy: 0.61 - ETA: 1s - loss: 1.3868 - accuracy: 0.61 - ETA: 1s - loss: 1.3767 - accuracy: 0.61 - ETA: 1s - loss: 1.3678 - accuracy: 0.61 - ETA: 0s - loss: 1.3647 - accuracy: 0.61 - ETA: 0s - loss: 1.3548 - accuracy: 0.62 - ETA: 0s - loss: 1.3477 - accuracy: 0.62 - ETA: 0s - loss: 1.3432 - accuracy: 0.62 - ETA: 0s - loss: 1.3370 - accuracy: 0.62 - ETA: 0s - loss: 1.3328 - accuracy: 0.62 - ETA: 0s - loss: 1.3266 - accuracy: 0.62 - ETA: 0s - loss: 1.3203 - accuracy: 0.62 - ETA: 0s - loss: 1.3125 - accuracy: 0.62 - ETA: 0s - loss: 1.3091 - accuracy: 0.62 - ETA: 0s - loss: 1.3048 - accuracy: 0.62 - ETA: 0s - loss: 1.3020 - accuracy: 0.62 - ETA: 0s - loss: 1.2985 - accuracy: 0.62 - ETA: 0s - loss: 1.2942 - accuracy: 0.63 - ETA: 0s - loss: 1.2912 - accuracy: 0.63 - ETA: 0s - loss: 1.2876 - accuracy: 0.63 - ETA: 0s - loss: 1.2825 - accuracy: 0.63 - ETA: 0s - loss: 1.2788 - accuracy: 0.63 - ETA: 0s - loss: 1.2739 - accuracy: 0.63 - 2s 1ms/step - loss: 1.2706 - accuracy: 0.6356 - val_loss: 1.1703 - val_accuracy: 0.6594\n",
      "Epoch 5/20\n",
      "1875/1875 [==============================] - ETA: 0s - loss: 1.2216 - accuracy: 0.65 - ETA: 1s - loss: 1.1750 - accuracy: 0.66 - ETA: 1s - loss: 1.1864 - accuracy: 0.64 - ETA: 1s - loss: 1.1745 - accuracy: 0.65 - ETA: 1s - loss: 1.1665 - accuracy: 0.66 - ETA: 1s - loss: 1.1608 - accuracy: 0.66 - ETA: 1s - loss: 1.1553 - accuracy: 0.66 - ETA: 0s - loss: 1.1541 - accuracy: 0.66 - ETA: 0s - loss: 1.1533 - accuracy: 0.66 - ETA: 0s - loss: 1.1471 - accuracy: 0.66 - ETA: 0s - loss: 1.1510 - accuracy: 0.66 - ETA: 0s - loss: 1.1451 - accuracy: 0.66 - ETA: 0s - loss: 1.1433 - accuracy: 0.66 - ETA: 0s - loss: 1.1397 - accuracy: 0.66 - ETA: 0s - loss: 1.1399 - accuracy: 0.66 - ETA: 0s - loss: 1.1390 - accuracy: 0.66 - ETA: 0s - loss: 1.1367 - accuracy: 0.66 - ETA: 0s - loss: 1.1343 - accuracy: 0.66 - ETA: 0s - loss: 1.1299 - accuracy: 0.66 - ETA: 0s - loss: 1.1288 - accuracy: 0.66 - ETA: 0s - loss: 1.1276 - accuracy: 0.66 - ETA: 0s - loss: 1.1264 - accuracy: 0.66 - ETA: 0s - loss: 1.1257 - accuracy: 0.66 - ETA: 0s - loss: 1.1235 - accuracy: 0.66 - ETA: 0s - loss: 1.1194 - accuracy: 0.66 - ETA: 0s - loss: 1.1182 - accuracy: 0.66 - ETA: 0s - loss: 1.1158 - accuracy: 0.67 - 2s 1ms/step - loss: 1.1136 - accuracy: 0.6712 - val_loss: 1.0717 - val_accuracy: 0.6831\n",
      "Epoch 6/20\n",
      "1875/1875 [==============================] - ETA: 0s - loss: 0.8241 - accuracy: 0.78 - ETA: 1s - loss: 1.0661 - accuracy: 0.67 - ETA: 1s - loss: 1.0765 - accuracy: 0.67 - ETA: 1s - loss: 1.0786 - accuracy: 0.67 - ETA: 1s - loss: 1.0606 - accuracy: 0.68 - ETA: 1s - loss: 1.0569 - accuracy: 0.68 - ETA: 0s - loss: 1.0557 - accuracy: 0.68 - ETA: 0s - loss: 1.0564 - accuracy: 0.68 - ETA: 0s - loss: 1.0590 - accuracy: 0.68 - ETA: 0s - loss: 1.0516 - accuracy: 0.68 - ETA: 0s - loss: 1.0492 - accuracy: 0.68 - ETA: 0s - loss: 1.0447 - accuracy: 0.68 - ETA: 0s - loss: 1.0465 - accuracy: 0.68 - ETA: 0s - loss: 1.0469 - accuracy: 0.68 - ETA: 0s - loss: 1.0452 - accuracy: 0.68 - ETA: 0s - loss: 1.0452 - accuracy: 0.68 - ETA: 0s - loss: 1.0463 - accuracy: 0.68 - ETA: 0s - loss: 1.0470 - accuracy: 0.68 - ETA: 0s - loss: 1.0459 - accuracy: 0.68 - ETA: 0s - loss: 1.0436 - accuracy: 0.68 - ETA: 0s - loss: 1.0437 - accuracy: 0.68 - ETA: 0s - loss: 1.0421 - accuracy: 0.69 - ETA: 0s - loss: 1.0419 - accuracy: 0.69 - ETA: 0s - loss: 1.0401 - accuracy: 0.69 - ETA: 0s - loss: 1.0400 - accuracy: 0.69 - ETA: 0s - loss: 1.0374 - accuracy: 0.69 - ETA: 0s - loss: 1.0366 - accuracy: 0.69 - 2s 1ms/step - loss: 1.0371 - accuracy: 0.6919 - val_loss: 1.0142 - val_accuracy: 0.7034\n",
      "Epoch 7/20\n",
      "1875/1875 [==============================] - ETA: 0s - loss: 1.1030 - accuracy: 0.65 - ETA: 1s - loss: 1.0579 - accuracy: 0.68 - ETA: 1s - loss: 1.0259 - accuracy: 0.69 - ETA: 1s - loss: 1.0117 - accuracy: 0.69 - ETA: 1s - loss: 1.0199 - accuracy: 0.69 - ETA: 1s - loss: 1.0141 - accuracy: 0.69 - ETA: 1s - loss: 1.0129 - accuracy: 0.69 - ETA: 0s - loss: 1.0154 - accuracy: 0.69 - ETA: 0s - loss: 1.0112 - accuracy: 0.70 - ETA: 0s - loss: 1.0093 - accuracy: 0.70 - ETA: 0s - loss: 1.0071 - accuracy: 0.70 - ETA: 0s - loss: 1.0078 - accuracy: 0.70 - ETA: 0s - loss: 1.0050 - accuracy: 0.70 - ETA: 0s - loss: 1.0029 - accuracy: 0.70 - ETA: 0s - loss: 0.9995 - accuracy: 0.70 - ETA: 0s - loss: 1.0004 - accuracy: 0.70 - ETA: 0s - loss: 0.9988 - accuracy: 0.70 - ETA: 0s - loss: 0.9963 - accuracy: 0.70 - ETA: 0s - loss: 0.9954 - accuracy: 0.70 - ETA: 0s - loss: 0.9945 - accuracy: 0.70 - ETA: 0s - loss: 0.9950 - accuracy: 0.70 - ETA: 0s - loss: 0.9958 - accuracy: 0.70 - ETA: 0s - loss: 0.9923 - accuracy: 0.70 - ETA: 0s - loss: 0.9909 - accuracy: 0.70 - ETA: 0s - loss: 0.9899 - accuracy: 0.70 - ETA: 0s - loss: 0.9889 - accuracy: 0.70 - ETA: 0s - loss: 0.9897 - accuracy: 0.70 - 2s 1ms/step - loss: 0.9894 - accuracy: 0.7074 - val_loss: 0.9763 - val_accuracy: 0.7124\n",
      "Epoch 8/20\n",
      "1875/1875 [==============================] - ETA: 0s - loss: 0.7053 - accuracy: 0.81 - ETA: 1s - loss: 0.9937 - accuracy: 0.69 - ETA: 1s - loss: 0.9740 - accuracy: 0.71 - ETA: 1s - loss: 0.9649 - accuracy: 0.71 - ETA: 1s - loss: 0.9619 - accuracy: 0.71 - ETA: 1s - loss: 0.9594 - accuracy: 0.71 - ETA: 1s - loss: 0.9644 - accuracy: 0.71 - ETA: 1s - loss: 0.9621 - accuracy: 0.71 - ETA: 1s - loss: 0.9567 - accuracy: 0.71 - ETA: 1s - loss: 0.9569 - accuracy: 0.71 - ETA: 1s - loss: 0.9632 - accuracy: 0.71 - ETA: 0s - loss: 0.9643 - accuracy: 0.71 - ETA: 0s - loss: 0.9642 - accuracy: 0.71 - ETA: 0s - loss: 0.9596 - accuracy: 0.71 - ETA: 0s - loss: 0.9587 - accuracy: 0.71 - ETA: 0s - loss: 0.9604 - accuracy: 0.71 - ETA: 0s - loss: 0.9605 - accuracy: 0.71 - ETA: 0s - loss: 0.9573 - accuracy: 0.71 - ETA: 0s - loss: 0.9569 - accuracy: 0.71 - ETA: 0s - loss: 0.9579 - accuracy: 0.71 - ETA: 0s - loss: 0.9577 - accuracy: 0.71 - ETA: 0s - loss: 0.9570 - accuracy: 0.71 - ETA: 0s - loss: 0.9562 - accuracy: 0.71 - ETA: 0s - loss: 0.9564 - accuracy: 0.71 - ETA: 0s - loss: 0.9553 - accuracy: 0.71 - ETA: 0s - loss: 0.9544 - accuracy: 0.71 - ETA: 0s - loss: 0.9533 - accuracy: 0.71 - ETA: 0s - loss: 0.9555 - accuracy: 0.71 - ETA: 0s - loss: 0.9555 - accuracy: 0.71 - 2s 1ms/step - loss: 0.9556 - accuracy: 0.7181 - val_loss: 0.9496 - val_accuracy: 0.7217\n",
      "Epoch 9/20\n",
      "1875/1875 [==============================] - ETA: 0s - loss: 1.0840 - accuracy: 0.56 - ETA: 1s - loss: 0.9154 - accuracy: 0.73 - ETA: 1s - loss: 0.9148 - accuracy: 0.73 - ETA: 1s - loss: 0.9203 - accuracy: 0.73 - ETA: 1s - loss: 0.9292 - accuracy: 0.72 - ETA: 1s - loss: 0.9313 - accuracy: 0.72 - ETA: 0s - loss: 0.9309 - accuracy: 0.72 - ETA: 0s - loss: 0.9359 - accuracy: 0.72 - ETA: 0s - loss: 0.9366 - accuracy: 0.72 - ETA: 0s - loss: 0.9359 - accuracy: 0.72 - ETA: 0s - loss: 0.9342 - accuracy: 0.72 - ETA: 0s - loss: 0.9350 - accuracy: 0.72 - ETA: 0s - loss: 0.9372 - accuracy: 0.72 - ETA: 0s - loss: 0.9370 - accuracy: 0.72 - ETA: 0s - loss: 0.9392 - accuracy: 0.72 - ETA: 0s - loss: 0.9395 - accuracy: 0.72 - ETA: 0s - loss: 0.9375 - accuracy: 0.72 - ETA: 0s - loss: 0.9350 - accuracy: 0.72 - ETA: 0s - loss: 0.9344 - accuracy: 0.72 - ETA: 0s - loss: 0.9320 - accuracy: 0.72 - ETA: 0s - loss: 0.9314 - accuracy: 0.72 - ETA: 0s - loss: 0.9307 - accuracy: 0.72 - ETA: 0s - loss: 0.9290 - accuracy: 0.72 - ETA: 0s - loss: 0.9282 - accuracy: 0.72 - ETA: 0s - loss: 0.9305 - accuracy: 0.72 - ETA: 0s - loss: 0.9303 - accuracy: 0.72 - ETA: 0s - loss: 0.9306 - accuracy: 0.72 - 2s 1ms/step - loss: 0.9312 - accuracy: 0.7270 - val_loss: 0.9280 - val_accuracy: 0.7295\n",
      "Epoch 10/20\n",
      "1875/1875 [==============================] - ETA: 0s - loss: 0.5470 - accuracy: 0.90 - ETA: 1s - loss: 0.9050 - accuracy: 0.72 - ETA: 1s - loss: 0.9005 - accuracy: 0.73 - ETA: 1s - loss: 0.9067 - accuracy: 0.73 - ETA: 1s - loss: 0.9074 - accuracy: 0.73 - ETA: 1s - loss: 0.9167 - accuracy: 0.73 - ETA: 1s - loss: 0.9167 - accuracy: 0.73 - ETA: 1s - loss: 0.9152 - accuracy: 0.73 - ETA: 1s - loss: 0.9190 - accuracy: 0.73 - ETA: 0s - loss: 0.9172 - accuracy: 0.73 - ETA: 0s - loss: 0.9146 - accuracy: 0.73 - ETA: 0s - loss: 0.9174 - accuracy: 0.73 - ETA: 0s - loss: 0.9200 - accuracy: 0.72 - ETA: 0s - loss: 0.9188 - accuracy: 0.72 - ETA: 0s - loss: 0.9167 - accuracy: 0.72 - ETA: 0s - loss: 0.9166 - accuracy: 0.73 - ETA: 0s - loss: 0.9132 - accuracy: 0.73 - ETA: 0s - loss: 0.9152 - accuracy: 0.73 - ETA: 0s - loss: 0.9142 - accuracy: 0.73 - ETA: 0s - loss: 0.9139 - accuracy: 0.73 - ETA: 0s - loss: 0.9127 - accuracy: 0.73 - ETA: 0s - loss: 0.9110 - accuracy: 0.73 - ETA: 0s - loss: 0.9104 - accuracy: 0.73 - ETA: 0s - loss: 0.9093 - accuracy: 0.73 - ETA: 0s - loss: 0.9115 - accuracy: 0.73 - ETA: 0s - loss: 0.9120 - accuracy: 0.73 - ETA: 0s - loss: 0.9138 - accuracy: 0.73 - ETA: 0s - loss: 0.9137 - accuracy: 0.73 - 2s 1ms/step - loss: 0.9128 - accuracy: 0.7325 - val_loss: 0.9139 - val_accuracy: 0.7335\n",
      "Epoch 11/20\n",
      "1875/1875 [==============================] - ETA: 0s - loss: 0.5437 - accuracy: 0.87 - ETA: 1s - loss: 0.8782 - accuracy: 0.73 - ETA: 1s - loss: 0.8854 - accuracy: 0.74 - ETA: 1s - loss: 0.8862 - accuracy: 0.73 - ETA: 1s - loss: 0.8950 - accuracy: 0.73 - ETA: 1s - loss: 0.9054 - accuracy: 0.73 - ETA: 1s - loss: 0.8950 - accuracy: 0.73 - ETA: 1s - loss: 0.8974 - accuracy: 0.73 - ETA: 0s - loss: 0.9010 - accuracy: 0.73 - ETA: 0s - loss: 0.9000 - accuracy: 0.73 - ETA: 0s - loss: 0.8987 - accuracy: 0.73 - ETA: 0s - loss: 0.8958 - accuracy: 0.73 - ETA: 0s - loss: 0.8973 - accuracy: 0.73 - ETA: 0s - loss: 0.8979 - accuracy: 0.73 - ETA: 0s - loss: 0.8999 - accuracy: 0.73 - ETA: 0s - loss: 0.9022 - accuracy: 0.73 - ETA: 0s - loss: 0.9026 - accuracy: 0.73 - ETA: 0s - loss: 0.9034 - accuracy: 0.73 - ETA: 0s - loss: 0.9035 - accuracy: 0.73 - ETA: 0s - loss: 0.9029 - accuracy: 0.73 - ETA: 0s - loss: 0.9014 - accuracy: 0.73 - ETA: 0s - loss: 0.9009 - accuracy: 0.73 - ETA: 0s - loss: 0.9003 - accuracy: 0.73 - ETA: 0s - loss: 0.9000 - accuracy: 0.73 - ETA: 0s - loss: 0.8989 - accuracy: 0.73 - ETA: 0s - loss: 0.8986 - accuracy: 0.73 - ETA: 0s - loss: 0.8982 - accuracy: 0.73 - 2s 1ms/step - loss: 0.8979 - accuracy: 0.7375 - val_loss: 0.8994 - val_accuracy: 0.7399\n",
      "Epoch 12/20\n",
      "1875/1875 [==============================] - ETA: 0s - loss: 0.7290 - accuracy: 0.78 - ETA: 1s - loss: 0.9016 - accuracy: 0.73 - ETA: 1s - loss: 0.8865 - accuracy: 0.73 - ETA: 1s - loss: 0.8792 - accuracy: 0.73 - ETA: 1s - loss: 0.8711 - accuracy: 0.74 - ETA: 1s - loss: 0.8687 - accuracy: 0.74 - ETA: 1s - loss: 0.8764 - accuracy: 0.74 - ETA: 1s - loss: 0.8824 - accuracy: 0.74 - ETA: 0s - loss: 0.8804 - accuracy: 0.74 - ETA: 0s - loss: 0.8806 - accuracy: 0.74 - ETA: 0s - loss: 0.8864 - accuracy: 0.74 - ETA: 0s - loss: 0.8853 - accuracy: 0.74 - ETA: 0s - loss: 0.8866 - accuracy: 0.74 - ETA: 0s - loss: 0.8871 - accuracy: 0.74 - ETA: 0s - loss: 0.8869 - accuracy: 0.73 - ETA: 0s - loss: 0.8866 - accuracy: 0.74 - ETA: 0s - loss: 0.8867 - accuracy: 0.74 - ETA: 0s - loss: 0.8881 - accuracy: 0.74 - ETA: 0s - loss: 0.8869 - accuracy: 0.74 - ETA: 0s - loss: 0.8861 - accuracy: 0.74 - ETA: 0s - loss: 0.8860 - accuracy: 0.74 - ETA: 0s - loss: 0.8860 - accuracy: 0.74 - ETA: 0s - loss: 0.8861 - accuracy: 0.74 - ETA: 0s - loss: 0.8848 - accuracy: 0.74 - ETA: 0s - loss: 0.8849 - accuracy: 0.74 - ETA: 0s - loss: 0.8860 - accuracy: 0.74 - ETA: 0s - loss: 0.8851 - accuracy: 0.74 - 2s 1ms/step - loss: 0.8852 - accuracy: 0.7423 - val_loss: 0.8886 - val_accuracy: 0.7430\n",
      "Epoch 13/20\n"
     ]
    },
    {
     "name": "stdout",
     "output_type": "stream",
     "text": [
      "1875/1875 [==============================] - ETA: 0s - loss: 1.2489 - accuracy: 0.71 - ETA: 1s - loss: 0.8478 - accuracy: 0.75 - ETA: 1s - loss: 0.8673 - accuracy: 0.74 - ETA: 1s - loss: 0.8749 - accuracy: 0.73 - ETA: 1s - loss: 0.8672 - accuracy: 0.74 - ETA: 1s - loss: 0.8732 - accuracy: 0.74 - ETA: 1s - loss: 0.8778 - accuracy: 0.74 - ETA: 0s - loss: 0.8773 - accuracy: 0.74 - ETA: 0s - loss: 0.8768 - accuracy: 0.74 - ETA: 0s - loss: 0.8809 - accuracy: 0.74 - ETA: 0s - loss: 0.8812 - accuracy: 0.74 - ETA: 0s - loss: 0.8800 - accuracy: 0.74 - ETA: 0s - loss: 0.8786 - accuracy: 0.74 - ETA: 0s - loss: 0.8781 - accuracy: 0.74 - ETA: 0s - loss: 0.8759 - accuracy: 0.74 - ETA: 0s - loss: 0.8770 - accuracy: 0.74 - ETA: 0s - loss: 0.8795 - accuracy: 0.74 - ETA: 0s - loss: 0.8798 - accuracy: 0.74 - ETA: 0s - loss: 0.8791 - accuracy: 0.74 - ETA: 0s - loss: 0.8776 - accuracy: 0.74 - ETA: 0s - loss: 0.8763 - accuracy: 0.74 - ETA: 0s - loss: 0.8757 - accuracy: 0.74 - ETA: 0s - loss: 0.8762 - accuracy: 0.74 - ETA: 0s - loss: 0.8747 - accuracy: 0.74 - ETA: 0s - loss: 0.8747 - accuracy: 0.74 - ETA: 0s - loss: 0.8743 - accuracy: 0.74 - ETA: 0s - loss: 0.8747 - accuracy: 0.74 - ETA: 0s - loss: 0.8744 - accuracy: 0.74 - 2s 1ms/step - loss: 0.8740 - accuracy: 0.7454 - val_loss: 0.8782 - val_accuracy: 0.7470\n",
      "Epoch 14/20\n",
      "1875/1875 [==============================] - ETA: 0s - loss: 0.8112 - accuracy: 0.71 - ETA: 1s - loss: 0.8153 - accuracy: 0.76 - ETA: 1s - loss: 0.8566 - accuracy: 0.75 - ETA: 1s - loss: 0.8479 - accuracy: 0.75 - ETA: 1s - loss: 0.8399 - accuracy: 0.75 - ETA: 1s - loss: 0.8456 - accuracy: 0.75 - ETA: 0s - loss: 0.8494 - accuracy: 0.75 - ETA: 0s - loss: 0.8494 - accuracy: 0.75 - ETA: 0s - loss: 0.8521 - accuracy: 0.75 - ETA: 0s - loss: 0.8510 - accuracy: 0.75 - ETA: 0s - loss: 0.8566 - accuracy: 0.75 - ETA: 0s - loss: 0.8600 - accuracy: 0.74 - ETA: 0s - loss: 0.8601 - accuracy: 0.74 - ETA: 0s - loss: 0.8609 - accuracy: 0.74 - ETA: 0s - loss: 0.8639 - accuracy: 0.74 - ETA: 0s - loss: 0.8667 - accuracy: 0.74 - ETA: 0s - loss: 0.8673 - accuracy: 0.74 - ETA: 0s - loss: 0.8688 - accuracy: 0.74 - ETA: 0s - loss: 0.8679 - accuracy: 0.74 - ETA: 0s - loss: 0.8665 - accuracy: 0.74 - ETA: 0s - loss: 0.8645 - accuracy: 0.74 - ETA: 0s - loss: 0.8648 - accuracy: 0.74 - ETA: 0s - loss: 0.8657 - accuracy: 0.74 - ETA: 0s - loss: 0.8649 - accuracy: 0.74 - ETA: 0s - loss: 0.8628 - accuracy: 0.74 - ETA: 0s - loss: 0.8628 - accuracy: 0.74 - ETA: 0s - loss: 0.8624 - accuracy: 0.74 - ETA: 0s - loss: 0.8643 - accuracy: 0.74 - ETA: 0s - loss: 0.8644 - accuracy: 0.74 - 2s 1ms/step - loss: 0.8645 - accuracy: 0.7484 - val_loss: 0.8689 - val_accuracy: 0.7505\n",
      "Epoch 15/20\n",
      "1875/1875 [==============================] - ETA: 0s - loss: 0.9118 - accuracy: 0.71 - ETA: 1s - loss: 0.8685 - accuracy: 0.74 - ETA: 1s - loss: 0.8598 - accuracy: 0.74 - ETA: 1s - loss: 0.8511 - accuracy: 0.75 - ETA: 1s - loss: 0.8492 - accuracy: 0.75 - ETA: 1s - loss: 0.8442 - accuracy: 0.75 - ETA: 1s - loss: 0.8539 - accuracy: 0.75 - ETA: 1s - loss: 0.8542 - accuracy: 0.75 - ETA: 1s - loss: 0.8531 - accuracy: 0.75 - ETA: 1s - loss: 0.8514 - accuracy: 0.75 - ETA: 1s - loss: 0.8502 - accuracy: 0.75 - ETA: 0s - loss: 0.8550 - accuracy: 0.75 - ETA: 0s - loss: 0.8574 - accuracy: 0.75 - ETA: 0s - loss: 0.8583 - accuracy: 0.75 - ETA: 0s - loss: 0.8595 - accuracy: 0.75 - ETA: 0s - loss: 0.8611 - accuracy: 0.75 - ETA: 0s - loss: 0.8606 - accuracy: 0.75 - ETA: 0s - loss: 0.8587 - accuracy: 0.75 - ETA: 0s - loss: 0.8578 - accuracy: 0.75 - ETA: 0s - loss: 0.8580 - accuracy: 0.75 - ETA: 0s - loss: 0.8582 - accuracy: 0.75 - ETA: 0s - loss: 0.8569 - accuracy: 0.75 - ETA: 0s - loss: 0.8557 - accuracy: 0.75 - ETA: 0s - loss: 0.8557 - accuracy: 0.75 - ETA: 0s - loss: 0.8563 - accuracy: 0.75 - ETA: 0s - loss: 0.8567 - accuracy: 0.75 - ETA: 0s - loss: 0.8555 - accuracy: 0.75 - ETA: 0s - loss: 0.8563 - accuracy: 0.75 - ETA: 0s - loss: 0.8545 - accuracy: 0.75 - ETA: 0s - loss: 0.8552 - accuracy: 0.75 - 2s 1ms/step - loss: 0.8554 - accuracy: 0.7516 - val_loss: 0.8619 - val_accuracy: 0.7515\n",
      "Epoch 16/20\n",
      "1875/1875 [==============================] - ETA: 0s - loss: 0.7592 - accuracy: 0.75 - ETA: 1s - loss: 0.8666 - accuracy: 0.75 - ETA: 1s - loss: 0.8694 - accuracy: 0.75 - ETA: 1s - loss: 0.8656 - accuracy: 0.74 - ETA: 1s - loss: 0.8635 - accuracy: 0.74 - ETA: 1s - loss: 0.8576 - accuracy: 0.74 - ETA: 1s - loss: 0.8580 - accuracy: 0.74 - ETA: 1s - loss: 0.8583 - accuracy: 0.75 - ETA: 0s - loss: 0.8552 - accuracy: 0.75 - ETA: 0s - loss: 0.8526 - accuracy: 0.75 - ETA: 0s - loss: 0.8533 - accuracy: 0.75 - ETA: 0s - loss: 0.8567 - accuracy: 0.75 - ETA: 0s - loss: 0.8563 - accuracy: 0.75 - ETA: 0s - loss: 0.8563 - accuracy: 0.75 - ETA: 0s - loss: 0.8535 - accuracy: 0.75 - ETA: 0s - loss: 0.8530 - accuracy: 0.75 - ETA: 0s - loss: 0.8530 - accuracy: 0.75 - ETA: 0s - loss: 0.8514 - accuracy: 0.75 - ETA: 0s - loss: 0.8517 - accuracy: 0.75 - ETA: 0s - loss: 0.8481 - accuracy: 0.75 - ETA: 0s - loss: 0.8471 - accuracy: 0.75 - ETA: 0s - loss: 0.8466 - accuracy: 0.75 - ETA: 0s - loss: 0.8454 - accuracy: 0.75 - ETA: 0s - loss: 0.8455 - accuracy: 0.75 - ETA: 0s - loss: 0.8460 - accuracy: 0.75 - ETA: 0s - loss: 0.8463 - accuracy: 0.75 - ETA: 0s - loss: 0.8463 - accuracy: 0.75 - ETA: 0s - loss: 0.8475 - accuracy: 0.75 - 2s 1ms/step - loss: 0.8473 - accuracy: 0.7541 - val_loss: 0.8544 - val_accuracy: 0.7554\n",
      "Epoch 17/20\n",
      "1875/1875 [==============================] - ETA: 0s - loss: 0.7963 - accuracy: 0.81 - ETA: 1s - loss: 0.8334 - accuracy: 0.76 - ETA: 1s - loss: 0.8212 - accuracy: 0.76 - ETA: 1s - loss: 0.8385 - accuracy: 0.75 - ETA: 1s - loss: 0.8387 - accuracy: 0.75 - ETA: 1s - loss: 0.8370 - accuracy: 0.75 - ETA: 1s - loss: 0.8367 - accuracy: 0.75 - ETA: 1s - loss: 0.8425 - accuracy: 0.75 - ETA: 1s - loss: 0.8408 - accuracy: 0.75 - ETA: 1s - loss: 0.8373 - accuracy: 0.75 - ETA: 1s - loss: 0.8356 - accuracy: 0.75 - ETA: 0s - loss: 0.8387 - accuracy: 0.75 - ETA: 0s - loss: 0.8394 - accuracy: 0.75 - ETA: 0s - loss: 0.8415 - accuracy: 0.75 - ETA: 0s - loss: 0.8435 - accuracy: 0.75 - ETA: 0s - loss: 0.8436 - accuracy: 0.75 - ETA: 0s - loss: 0.8431 - accuracy: 0.75 - ETA: 0s - loss: 0.8429 - accuracy: 0.75 - ETA: 0s - loss: 0.8433 - accuracy: 0.75 - ETA: 0s - loss: 0.8428 - accuracy: 0.75 - ETA: 0s - loss: 0.8429 - accuracy: 0.75 - ETA: 0s - loss: 0.8450 - accuracy: 0.75 - ETA: 0s - loss: 0.8445 - accuracy: 0.75 - ETA: 0s - loss: 0.8445 - accuracy: 0.75 - ETA: 0s - loss: 0.8437 - accuracy: 0.75 - ETA: 0s - loss: 0.8425 - accuracy: 0.75 - ETA: 0s - loss: 0.8412 - accuracy: 0.75 - ETA: 0s - loss: 0.8407 - accuracy: 0.75 - ETA: 0s - loss: 0.8425 - accuracy: 0.75 - 2s 1ms/step - loss: 0.8397 - accuracy: 0.7563 - val_loss: 0.8477 - val_accuracy: 0.7555\n",
      "Epoch 18/20\n",
      "1875/1875 [==============================] - ETA: 0s - loss: 0.7948 - accuracy: 0.78 - ETA: 1s - loss: 0.8623 - accuracy: 0.74 - ETA: 1s - loss: 0.8477 - accuracy: 0.75 - ETA: 1s - loss: 0.8388 - accuracy: 0.75 - ETA: 1s - loss: 0.8336 - accuracy: 0.75 - ETA: 1s - loss: 0.8313 - accuracy: 0.75 - ETA: 0s - loss: 0.8329 - accuracy: 0.75 - ETA: 0s - loss: 0.8338 - accuracy: 0.75 - ETA: 0s - loss: 0.8344 - accuracy: 0.75 - ETA: 0s - loss: 0.8344 - accuracy: 0.75 - ETA: 0s - loss: 0.8359 - accuracy: 0.75 - ETA: 0s - loss: 0.8391 - accuracy: 0.75 - ETA: 0s - loss: 0.8350 - accuracy: 0.75 - ETA: 0s - loss: 0.8345 - accuracy: 0.75 - ETA: 0s - loss: 0.8339 - accuracy: 0.75 - ETA: 0s - loss: 0.8366 - accuracy: 0.75 - ETA: 0s - loss: 0.8363 - accuracy: 0.75 - ETA: 0s - loss: 0.8356 - accuracy: 0.75 - ETA: 0s - loss: 0.8366 - accuracy: 0.75 - ETA: 0s - loss: 0.8360 - accuracy: 0.75 - ETA: 0s - loss: 0.8381 - accuracy: 0.75 - ETA: 0s - loss: 0.8366 - accuracy: 0.75 - ETA: 0s - loss: 0.8334 - accuracy: 0.75 - ETA: 0s - loss: 0.8321 - accuracy: 0.75 - ETA: 0s - loss: 0.8331 - accuracy: 0.75 - ETA: 0s - loss: 0.8321 - accuracy: 0.75 - 2s 1ms/step - loss: 0.8325 - accuracy: 0.7585 - val_loss: 0.8405 - val_accuracy: 0.7585\n",
      "Epoch 19/20\n",
      "1875/1875 [==============================] - ETA: 0s - loss: 0.9332 - accuracy: 0.65 - ETA: 1s - loss: 0.8186 - accuracy: 0.76 - ETA: 1s - loss: 0.7988 - accuracy: 0.76 - ETA: 1s - loss: 0.8088 - accuracy: 0.76 - ETA: 1s - loss: 0.8165 - accuracy: 0.76 - ETA: 1s - loss: 0.8189 - accuracy: 0.76 - ETA: 1s - loss: 0.8232 - accuracy: 0.76 - ETA: 1s - loss: 0.8227 - accuracy: 0.76 - ETA: 0s - loss: 0.8285 - accuracy: 0.75 - ETA: 0s - loss: 0.8288 - accuracy: 0.75 - ETA: 0s - loss: 0.8269 - accuracy: 0.75 - ETA: 0s - loss: 0.8311 - accuracy: 0.75 - ETA: 0s - loss: 0.8330 - accuracy: 0.75 - ETA: 0s - loss: 0.8298 - accuracy: 0.75 - ETA: 0s - loss: 0.8303 - accuracy: 0.75 - ETA: 0s - loss: 0.8297 - accuracy: 0.76 - ETA: 0s - loss: 0.8267 - accuracy: 0.76 - ETA: 0s - loss: 0.8223 - accuracy: 0.76 - ETA: 0s - loss: 0.8221 - accuracy: 0.76 - ETA: 0s - loss: 0.8227 - accuracy: 0.76 - ETA: 0s - loss: 0.8221 - accuracy: 0.76 - ETA: 0s - loss: 0.8227 - accuracy: 0.76 - ETA: 0s - loss: 0.8232 - accuracy: 0.76 - ETA: 0s - loss: 0.8240 - accuracy: 0.76 - ETA: 0s - loss: 0.8251 - accuracy: 0.76 - ETA: 0s - loss: 0.8262 - accuracy: 0.76 - 2s 1ms/step - loss: 0.8255 - accuracy: 0.7608 - val_loss: 0.8357 - val_accuracy: 0.7606\n",
      "Epoch 20/20\n",
      "1875/1875 [==============================] - ETA: 0s - loss: 1.2757 - accuracy: 0.59 - ETA: 1s - loss: 0.8389 - accuracy: 0.75 - ETA: 1s - loss: 0.8467 - accuracy: 0.75 - ETA: 1s - loss: 0.8382 - accuracy: 0.75 - ETA: 1s - loss: 0.8331 - accuracy: 0.75 - ETA: 1s - loss: 0.8249 - accuracy: 0.75 - ETA: 1s - loss: 0.8223 - accuracy: 0.75 - ETA: 0s - loss: 0.8214 - accuracy: 0.76 - ETA: 0s - loss: 0.8206 - accuracy: 0.76 - ETA: 0s - loss: 0.8183 - accuracy: 0.76 - ETA: 0s - loss: 0.8195 - accuracy: 0.76 - ETA: 0s - loss: 0.8217 - accuracy: 0.76 - ETA: 0s - loss: 0.8220 - accuracy: 0.76 - ETA: 0s - loss: 0.8230 - accuracy: 0.76 - ETA: 0s - loss: 0.8230 - accuracy: 0.76 - ETA: 0s - loss: 0.8234 - accuracy: 0.76 - ETA: 0s - loss: 0.8272 - accuracy: 0.76 - ETA: 0s - loss: 0.8285 - accuracy: 0.76 - ETA: 0s - loss: 0.8280 - accuracy: 0.76 - ETA: 0s - loss: 0.8259 - accuracy: 0.76 - ETA: 0s - loss: 0.8229 - accuracy: 0.76 - ETA: 0s - loss: 0.8221 - accuracy: 0.76 - ETA: 0s - loss: 0.8219 - accuracy: 0.76 - ETA: 0s - loss: 0.8212 - accuracy: 0.76 - ETA: 0s - loss: 0.8209 - accuracy: 0.76 - ETA: 0s - loss: 0.8192 - accuracy: 0.76 - ETA: 0s - loss: 0.8201 - accuracy: 0.76 - ETA: 0s - loss: 0.8194 - accuracy: 0.76 - 2s 1ms/step - loss: 0.8190 - accuracy: 0.7631 - val_loss: 0.8280 - val_accuracy: 0.7623\n",
      "Epoch 1/20\n",
      "1875/1875 [==============================] - ETA: 0s - loss: 2.3220 - accuracy: 0.0000e+ - ETA: 1s - loss: 2.3116 - accuracy: 0.1002   - ETA: 1s - loss: 2.3042 - accuracy: 0.10 - ETA: 1s - loss: 2.2988 - accuracy: 0.11 - ETA: 1s - loss: 2.2941 - accuracy: 0.11 - ETA: 1s - loss: 2.2888 - accuracy: 0.12 - ETA: 0s - loss: 2.2843 - accuracy: 0.12 - ETA: 0s - loss: 2.2806 - accuracy: 0.13 - ETA: 0s - loss: 2.2763 - accuracy: 0.13 - ETA: 0s - loss: 2.2732 - accuracy: 0.14 - ETA: 0s - loss: 2.2692 - accuracy: 0.14 - ETA: 0s - loss: 2.2648 - accuracy: 0.15 - ETA: 0s - loss: 2.2614 - accuracy: 0.15 - ETA: 0s - loss: 2.2567 - accuracy: 0.16 - ETA: 0s - loss: 2.2531 - accuracy: 0.16 - ETA: 0s - loss: 2.2493 - accuracy: 0.17 - ETA: 0s - loss: 2.2448 - accuracy: 0.17 - ETA: 0s - loss: 2.2414 - accuracy: 0.18 - ETA: 0s - loss: 2.2377 - accuracy: 0.18 - ETA: 0s - loss: 2.2340 - accuracy: 0.18 - ETA: 0s - loss: 2.2301 - accuracy: 0.19 - ETA: 0s - loss: 2.2257 - accuracy: 0.19 - ETA: 0s - loss: 2.2220 - accuracy: 0.20 - ETA: 0s - loss: 2.2174 - accuracy: 0.20 - ETA: 0s - loss: 2.2134 - accuracy: 0.20 - ETA: 0s - loss: 2.2094 - accuracy: 0.21 - 2s 1ms/step - loss: 2.2071 - accuracy: 0.2136 - val_loss: 2.1014 - val_accuracy: 0.3056\n",
      "Epoch 2/20\n",
      "1875/1875 [==============================] - ETA: 0s - loss: 2.1461 - accuracy: 0.15 - ETA: 1s - loss: 2.0902 - accuracy: 0.30 - ETA: 1s - loss: 2.0932 - accuracy: 0.30 - ETA: 1s - loss: 2.0895 - accuracy: 0.30 - ETA: 1s - loss: 2.0822 - accuracy: 0.31 - ETA: 1s - loss: 2.0776 - accuracy: 0.31 - ETA: 0s - loss: 2.0740 - accuracy: 0.31 - ETA: 0s - loss: 2.0682 - accuracy: 0.32 - ETA: 0s - loss: 2.0640 - accuracy: 0.32 - ETA: 0s - loss: 2.0586 - accuracy: 0.32 - ETA: 0s - loss: 2.0531 - accuracy: 0.33 - ETA: 0s - loss: 2.0479 - accuracy: 0.33 - ETA: 0s - loss: 2.0424 - accuracy: 0.33 - ETA: 0s - loss: 2.0374 - accuracy: 0.33 - ETA: 0s - loss: 2.0326 - accuracy: 0.34 - ETA: 0s - loss: 2.0274 - accuracy: 0.34 - ETA: 0s - loss: 2.0226 - accuracy: 0.34 - ETA: 0s - loss: 2.0172 - accuracy: 0.34 - ETA: 0s - loss: 2.0124 - accuracy: 0.35 - ETA: 0s - loss: 2.0084 - accuracy: 0.35 - ETA: 0s - loss: 2.0046 - accuracy: 0.35 - ETA: 0s - loss: 1.9994 - accuracy: 0.35 - ETA: 0s - loss: 1.9939 - accuracy: 0.35 - ETA: 0s - loss: 1.9895 - accuracy: 0.35 - ETA: 0s - loss: 1.9841 - accuracy: 0.36 - ETA: 0s - loss: 1.9782 - accuracy: 0.36 - ETA: 0s - loss: 1.9728 - accuracy: 0.36 - ETA: 0s - loss: 1.9670 - accuracy: 0.36 - 2s 1ms/step - loss: 1.9636 - accuracy: 0.3683 - val_loss: 1.8019 - val_accuracy: 0.4242\n",
      "Epoch 3/20\n",
      "1875/1875 [==============================] - ETA: 0s - loss: 1.9941 - accuracy: 0.53 - ETA: 1s - loss: 1.8132 - accuracy: 0.41 - ETA: 1s - loss: 1.7864 - accuracy: 0.43 - ETA: 1s - loss: 1.7781 - accuracy: 0.43 - ETA: 1s - loss: 1.7691 - accuracy: 0.44 - ETA: 1s - loss: 1.7583 - accuracy: 0.44 - ETA: 1s - loss: 1.7511 - accuracy: 0.44 - ETA: 0s - loss: 1.7439 - accuracy: 0.45 - ETA: 0s - loss: 1.7363 - accuracy: 0.45 - ETA: 0s - loss: 1.7296 - accuracy: 0.45 - ETA: 0s - loss: 1.7198 - accuracy: 0.45 - ETA: 0s - loss: 1.7131 - accuracy: 0.45 - ETA: 0s - loss: 1.7035 - accuracy: 0.46 - ETA: 0s - loss: 1.6949 - accuracy: 0.46 - ETA: 0s - loss: 1.6868 - accuracy: 0.46 - ETA: 0s - loss: 1.6779 - accuracy: 0.47 - ETA: 0s - loss: 1.6730 - accuracy: 0.47 - ETA: 0s - loss: 1.6629 - accuracy: 0.47 - ETA: 0s - loss: 1.6539 - accuracy: 0.47 - ETA: 0s - loss: 1.6455 - accuracy: 0.48 - ETA: 0s - loss: 1.6373 - accuracy: 0.48 - ETA: 0s - loss: 1.6299 - accuracy: 0.48 - ETA: 0s - loss: 1.6219 - accuracy: 0.49 - ETA: 0s - loss: 1.6135 - accuracy: 0.49 - ETA: 0s - loss: 1.6055 - accuracy: 0.49 - ETA: 0s - loss: 1.5991 - accuracy: 0.49 - ETA: 0s - loss: 1.5927 - accuracy: 0.49 - 2s 1ms/step - loss: 1.5913 - accuracy: 0.5000 - val_loss: 1.4022 - val_accuracy: 0.5679\n",
      "Epoch 4/20\n",
      "1875/1875 [==============================] - ETA: 0s - loss: 1.4430 - accuracy: 0.56 - ETA: 1s - loss: 1.4216 - accuracy: 0.56 - ETA: 1s - loss: 1.4055 - accuracy: 0.56 - ETA: 1s - loss: 1.3990 - accuracy: 0.56 - ETA: 1s - loss: 1.3901 - accuracy: 0.56 - ETA: 1s - loss: 1.3872 - accuracy: 0.56 - ETA: 1s - loss: 1.3842 - accuracy: 0.56 - ETA: 1s - loss: 1.3760 - accuracy: 0.57 - ETA: 1s - loss: 1.3729 - accuracy: 0.57 - ETA: 1s - loss: 1.3675 - accuracy: 0.57 - ETA: 1s - loss: 1.3610 - accuracy: 0.57 - ETA: 0s - loss: 1.3603 - accuracy: 0.57 - ETA: 0s - loss: 1.3579 - accuracy: 0.57 - ETA: 0s - loss: 1.3549 - accuracy: 0.58 - ETA: 0s - loss: 1.3508 - accuracy: 0.58 - ETA: 0s - loss: 1.3448 - accuracy: 0.58 - ETA: 0s - loss: 1.3418 - accuracy: 0.58 - ETA: 0s - loss: 1.3381 - accuracy: 0.58 - ETA: 0s - loss: 1.3342 - accuracy: 0.58 - ETA: 0s - loss: 1.3295 - accuracy: 0.59 - ETA: 0s - loss: 1.3260 - accuracy: 0.59 - ETA: 0s - loss: 1.3246 - accuracy: 0.59 - ETA: 0s - loss: 1.3196 - accuracy: 0.59 - ETA: 0s - loss: 1.3166 - accuracy: 0.59 - ETA: 0s - loss: 1.3133 - accuracy: 0.59 - ETA: 0s - loss: 1.3106 - accuracy: 0.59 - ETA: 0s - loss: 1.3074 - accuracy: 0.59 - ETA: 0s - loss: 1.3033 - accuracy: 0.60 - ETA: 0s - loss: 1.3004 - accuracy: 0.60 - 2s 1ms/step - loss: 1.2976 - accuracy: 0.6029 - val_loss: 1.2120 - val_accuracy: 0.6345\n",
      "Epoch 5/20\n"
     ]
    },
    {
     "name": "stdout",
     "output_type": "stream",
     "text": [
      "1875/1875 [==============================] - ETA: 0s - loss: 1.1542 - accuracy: 0.59 - ETA: 1s - loss: 1.2326 - accuracy: 0.62 - ETA: 1s - loss: 1.2226 - accuracy: 0.62 - ETA: 1s - loss: 1.2104 - accuracy: 0.63 - ETA: 1s - loss: 1.2011 - accuracy: 0.63 - ETA: 1s - loss: 1.2026 - accuracy: 0.64 - ETA: 1s - loss: 1.1953 - accuracy: 0.64 - ETA: 1s - loss: 1.1932 - accuracy: 0.64 - ETA: 0s - loss: 1.1916 - accuracy: 0.64 - ETA: 0s - loss: 1.1915 - accuracy: 0.64 - ETA: 0s - loss: 1.1908 - accuracy: 0.64 - ETA: 0s - loss: 1.1886 - accuracy: 0.64 - ETA: 0s - loss: 1.1886 - accuracy: 0.64 - ETA: 0s - loss: 1.1866 - accuracy: 0.64 - ETA: 0s - loss: 1.1870 - accuracy: 0.64 - ETA: 0s - loss: 1.1835 - accuracy: 0.64 - ETA: 0s - loss: 1.1819 - accuracy: 0.64 - ETA: 0s - loss: 1.1768 - accuracy: 0.64 - ETA: 0s - loss: 1.1762 - accuracy: 0.64 - ETA: 0s - loss: 1.1740 - accuracy: 0.65 - ETA: 0s - loss: 1.1712 - accuracy: 0.65 - ETA: 0s - loss: 1.1707 - accuracy: 0.65 - ETA: 0s - loss: 1.1678 - accuracy: 0.65 - ETA: 0s - loss: 1.1662 - accuracy: 0.65 - ETA: 0s - loss: 1.1642 - accuracy: 0.65 - ETA: 0s - loss: 1.1622 - accuracy: 0.65 - ETA: 0s - loss: 1.1600 - accuracy: 0.65 - ETA: 0s - loss: 1.1575 - accuracy: 0.65 - 2s 1ms/step - loss: 1.1567 - accuracy: 0.6561 - val_loss: 1.1095 - val_accuracy: 0.6749\n",
      "Epoch 6/20\n",
      "1875/1875 [==============================] - ETA: 0s - loss: 0.9033 - accuracy: 0.71 - ETA: 1s - loss: 1.1284 - accuracy: 0.65 - ETA: 1s - loss: 1.1251 - accuracy: 0.66 - ETA: 1s - loss: 1.1071 - accuracy: 0.67 - ETA: 1s - loss: 1.1019 - accuracy: 0.67 - ETA: 1s - loss: 1.1044 - accuracy: 0.67 - ETA: 0s - loss: 1.1026 - accuracy: 0.67 - ETA: 0s - loss: 1.0993 - accuracy: 0.67 - ETA: 0s - loss: 1.0986 - accuracy: 0.67 - ETA: 0s - loss: 1.0955 - accuracy: 0.67 - ETA: 0s - loss: 1.0946 - accuracy: 0.67 - ETA: 0s - loss: 1.0935 - accuracy: 0.67 - ETA: 0s - loss: 1.0905 - accuracy: 0.67 - ETA: 0s - loss: 1.0885 - accuracy: 0.67 - ETA: 0s - loss: 1.0868 - accuracy: 0.68 - ETA: 0s - loss: 1.0832 - accuracy: 0.68 - ETA: 0s - loss: 1.0806 - accuracy: 0.68 - ETA: 0s - loss: 1.0794 - accuracy: 0.68 - ETA: 0s - loss: 1.0791 - accuracy: 0.68 - ETA: 0s - loss: 1.0776 - accuracy: 0.68 - ETA: 0s - loss: 1.0766 - accuracy: 0.68 - ETA: 0s - loss: 1.0753 - accuracy: 0.68 - ETA: 0s - loss: 1.0747 - accuracy: 0.68 - ETA: 0s - loss: 1.0738 - accuracy: 0.68 - ETA: 0s - loss: 1.0734 - accuracy: 0.68 - ETA: 0s - loss: 1.0719 - accuracy: 0.68 - 2s 1ms/step - loss: 1.0714 - accuracy: 0.6843 - val_loss: 1.0408 - val_accuracy: 0.6948\n",
      "Epoch 7/20\n",
      "1875/1875 [==============================] - ETA: 0s - loss: 1.2603 - accuracy: 0.65 - ETA: 1s - loss: 1.0607 - accuracy: 0.69 - ETA: 1s - loss: 1.0545 - accuracy: 0.69 - ETA: 1s - loss: 1.0506 - accuracy: 0.69 - ETA: 1s - loss: 1.0447 - accuracy: 0.69 - ETA: 1s - loss: 1.0433 - accuracy: 0.69 - ETA: 1s - loss: 1.0413 - accuracy: 0.69 - ETA: 0s - loss: 1.0359 - accuracy: 0.69 - ETA: 0s - loss: 1.0370 - accuracy: 0.69 - ETA: 0s - loss: 1.0365 - accuracy: 0.69 - ETA: 0s - loss: 1.0383 - accuracy: 0.69 - ETA: 0s - loss: 1.0372 - accuracy: 0.69 - ETA: 0s - loss: 1.0324 - accuracy: 0.69 - ETA: 0s - loss: 1.0283 - accuracy: 0.69 - ETA: 0s - loss: 1.0253 - accuracy: 0.70 - ETA: 0s - loss: 1.0221 - accuracy: 0.70 - ETA: 0s - loss: 1.0198 - accuracy: 0.70 - ETA: 0s - loss: 1.0198 - accuracy: 0.70 - ETA: 0s - loss: 1.0200 - accuracy: 0.70 - ETA: 0s - loss: 1.0202 - accuracy: 0.70 - ETA: 0s - loss: 1.0196 - accuracy: 0.70 - ETA: 0s - loss: 1.0185 - accuracy: 0.70 - ETA: 0s - loss: 1.0166 - accuracy: 0.70 - ETA: 0s - loss: 1.0154 - accuracy: 0.70 - ETA: 0s - loss: 1.0147 - accuracy: 0.70 - ETA: 0s - loss: 1.0143 - accuracy: 0.70 - 2s 999us/step - loss: 1.0131 - accuracy: 0.7024 - val_loss: 0.9937 - val_accuracy: 0.7093\n",
      "Epoch 8/20\n",
      "1875/1875 [==============================] - ETA: 0s - loss: 0.9345 - accuracy: 0.71 - ETA: 1s - loss: 1.0450 - accuracy: 0.69 - ETA: 1s - loss: 0.9974 - accuracy: 0.70 - ETA: 1s - loss: 0.9936 - accuracy: 0.70 - ETA: 1s - loss: 0.9880 - accuracy: 0.70 - ETA: 1s - loss: 0.9816 - accuracy: 0.71 - ETA: 1s - loss: 0.9778 - accuracy: 0.71 - ETA: 1s - loss: 0.9782 - accuracy: 0.71 - ETA: 0s - loss: 0.9740 - accuracy: 0.71 - ETA: 0s - loss: 0.9746 - accuracy: 0.71 - ETA: 0s - loss: 0.9762 - accuracy: 0.71 - ETA: 0s - loss: 0.9805 - accuracy: 0.71 - ETA: 0s - loss: 0.9808 - accuracy: 0.71 - ETA: 0s - loss: 0.9829 - accuracy: 0.71 - ETA: 0s - loss: 0.9800 - accuracy: 0.71 - ETA: 0s - loss: 0.9790 - accuracy: 0.71 - ETA: 0s - loss: 0.9777 - accuracy: 0.71 - ETA: 0s - loss: 0.9800 - accuracy: 0.71 - ETA: 0s - loss: 0.9796 - accuracy: 0.71 - ETA: 0s - loss: 0.9796 - accuracy: 0.71 - ETA: 0s - loss: 0.9794 - accuracy: 0.71 - ETA: 0s - loss: 0.9798 - accuracy: 0.71 - ETA: 0s - loss: 0.9786 - accuracy: 0.71 - ETA: 0s - loss: 0.9759 - accuracy: 0.71 - ETA: 0s - loss: 0.9738 - accuracy: 0.71 - ETA: 0s - loss: 0.9722 - accuracy: 0.71 - ETA: 0s - loss: 0.9724 - accuracy: 0.71 - ETA: 0s - loss: 0.9713 - accuracy: 0.71 - ETA: 0s - loss: 0.9717 - accuracy: 0.71 - 2s 1ms/step - loss: 0.9712 - accuracy: 0.7146 - val_loss: 0.9596 - val_accuracy: 0.7208\n",
      "Epoch 9/20\n",
      "1875/1875 [==============================] - ETA: 0s - loss: 0.9441 - accuracy: 0.65 - ETA: 1s - loss: 0.9571 - accuracy: 0.70 - ETA: 1s - loss: 0.9582 - accuracy: 0.71 - ETA: 1s - loss: 0.9517 - accuracy: 0.71 - ETA: 1s - loss: 0.9526 - accuracy: 0.72 - ETA: 1s - loss: 0.9580 - accuracy: 0.72 - ETA: 1s - loss: 0.9497 - accuracy: 0.72 - ETA: 0s - loss: 0.9504 - accuracy: 0.72 - ETA: 0s - loss: 0.9526 - accuracy: 0.72 - ETA: 0s - loss: 0.9529 - accuracy: 0.72 - ETA: 0s - loss: 0.9529 - accuracy: 0.72 - ETA: 0s - loss: 0.9541 - accuracy: 0.72 - ETA: 0s - loss: 0.9500 - accuracy: 0.72 - ETA: 0s - loss: 0.9496 - accuracy: 0.72 - ETA: 0s - loss: 0.9482 - accuracy: 0.72 - ETA: 0s - loss: 0.9465 - accuracy: 0.72 - ETA: 0s - loss: 0.9455 - accuracy: 0.72 - ETA: 0s - loss: 0.9420 - accuracy: 0.72 - ETA: 0s - loss: 0.9413 - accuracy: 0.72 - ETA: 0s - loss: 0.9402 - accuracy: 0.72 - ETA: 0s - loss: 0.9415 - accuracy: 0.72 - ETA: 0s - loss: 0.9390 - accuracy: 0.72 - ETA: 0s - loss: 0.9397 - accuracy: 0.72 - ETA: 0s - loss: 0.9426 - accuracy: 0.72 - ETA: 0s - loss: 0.9410 - accuracy: 0.72 - ETA: 0s - loss: 0.9411 - accuracy: 0.72 - ETA: 0s - loss: 0.9397 - accuracy: 0.72 - 2s 1ms/step - loss: 0.9399 - accuracy: 0.7246 - val_loss: 0.9345 - val_accuracy: 0.7251\n",
      "Epoch 10/20\n",
      "1875/1875 [==============================] - ETA: 0s - loss: 0.8022 - accuracy: 0.71 - ETA: 1s - loss: 0.9547 - accuracy: 0.71 - ETA: 1s - loss: 0.9565 - accuracy: 0.71 - ETA: 1s - loss: 0.9256 - accuracy: 0.72 - ETA: 1s - loss: 0.9201 - accuracy: 0.72 - ETA: 1s - loss: 0.9163 - accuracy: 0.72 - ETA: 1s - loss: 0.9104 - accuracy: 0.73 - ETA: 1s - loss: 0.9167 - accuracy: 0.73 - ETA: 1s - loss: 0.9181 - accuracy: 0.73 - ETA: 1s - loss: 0.9200 - accuracy: 0.72 - ETA: 1s - loss: 0.9215 - accuracy: 0.73 - ETA: 1s - loss: 0.9215 - accuracy: 0.73 - ETA: 0s - loss: 0.9231 - accuracy: 0.73 - ETA: 0s - loss: 0.9205 - accuracy: 0.72 - ETA: 0s - loss: 0.9182 - accuracy: 0.73 - ETA: 0s - loss: 0.9171 - accuracy: 0.73 - ETA: 0s - loss: 0.9173 - accuracy: 0.73 - ETA: 0s - loss: 0.9214 - accuracy: 0.73 - ETA: 0s - loss: 0.9201 - accuracy: 0.73 - ETA: 0s - loss: 0.9196 - accuracy: 0.73 - ETA: 0s - loss: 0.9200 - accuracy: 0.73 - ETA: 0s - loss: 0.9205 - accuracy: 0.73 - ETA: 0s - loss: 0.9199 - accuracy: 0.73 - ETA: 0s - loss: 0.9166 - accuracy: 0.73 - ETA: 0s - loss: 0.9177 - accuracy: 0.73 - ETA: 0s - loss: 0.9168 - accuracy: 0.73 - ETA: 0s - loss: 0.9157 - accuracy: 0.73 - ETA: 0s - loss: 0.9161 - accuracy: 0.73 - ETA: 0s - loss: 0.9160 - accuracy: 0.73 - 2s 1ms/step - loss: 0.9165 - accuracy: 0.7310 - val_loss: 0.9129 - val_accuracy: 0.7336\n",
      "Epoch 11/20\n",
      "1875/1875 [==============================] - ETA: 0s - loss: 0.9409 - accuracy: 0.78 - ETA: 1s - loss: 0.8789 - accuracy: 0.73 - ETA: 1s - loss: 0.8988 - accuracy: 0.73 - ETA: 1s - loss: 0.9123 - accuracy: 0.73 - ETA: 1s - loss: 0.8972 - accuracy: 0.73 - ETA: 1s - loss: 0.8950 - accuracy: 0.73 - ETA: 1s - loss: 0.8979 - accuracy: 0.73 - ETA: 0s - loss: 0.8986 - accuracy: 0.73 - ETA: 0s - loss: 0.8999 - accuracy: 0.73 - ETA: 0s - loss: 0.8963 - accuracy: 0.73 - ETA: 0s - loss: 0.8908 - accuracy: 0.74 - ETA: 0s - loss: 0.8964 - accuracy: 0.73 - ETA: 0s - loss: 0.8981 - accuracy: 0.73 - ETA: 0s - loss: 0.8960 - accuracy: 0.73 - ETA: 0s - loss: 0.8940 - accuracy: 0.73 - ETA: 0s - loss: 0.8964 - accuracy: 0.73 - ETA: 0s - loss: 0.8966 - accuracy: 0.73 - ETA: 0s - loss: 0.8971 - accuracy: 0.73 - ETA: 0s - loss: 0.8957 - accuracy: 0.73 - ETA: 0s - loss: 0.8968 - accuracy: 0.73 - ETA: 0s - loss: 0.8973 - accuracy: 0.73 - ETA: 0s - loss: 0.8975 - accuracy: 0.73 - ETA: 0s - loss: 0.8968 - accuracy: 0.73 - ETA: 0s - loss: 0.8985 - accuracy: 0.73 - ETA: 0s - loss: 0.8978 - accuracy: 0.73 - ETA: 0s - loss: 0.8987 - accuracy: 0.73 - 2s 1ms/step - loss: 0.8983 - accuracy: 0.7373 - val_loss: 0.8963 - val_accuracy: 0.7401\n",
      "Epoch 12/20\n",
      "1875/1875 [==============================] - ETA: 0s - loss: 1.0395 - accuracy: 0.68 - ETA: 1s - loss: 0.8937 - accuracy: 0.73 - ETA: 1s - loss: 0.8811 - accuracy: 0.74 - ETA: 1s - loss: 0.8844 - accuracy: 0.74 - ETA: 1s - loss: 0.8745 - accuracy: 0.74 - ETA: 1s - loss: 0.8782 - accuracy: 0.74 - ETA: 1s - loss: 0.8822 - accuracy: 0.74 - ETA: 1s - loss: 0.8853 - accuracy: 0.74 - ETA: 1s - loss: 0.8913 - accuracy: 0.73 - ETA: 1s - loss: 0.8933 - accuracy: 0.73 - ETA: 0s - loss: 0.8913 - accuracy: 0.74 - ETA: 0s - loss: 0.8950 - accuracy: 0.73 - ETA: 0s - loss: 0.8941 - accuracy: 0.73 - ETA: 0s - loss: 0.8927 - accuracy: 0.74 - ETA: 0s - loss: 0.8909 - accuracy: 0.74 - ETA: 0s - loss: 0.8892 - accuracy: 0.74 - ETA: 0s - loss: 0.8863 - accuracy: 0.74 - ETA: 0s - loss: 0.8872 - accuracy: 0.74 - ETA: 0s - loss: 0.8845 - accuracy: 0.74 - ETA: 0s - loss: 0.8823 - accuracy: 0.74 - ETA: 0s - loss: 0.8826 - accuracy: 0.74 - ETA: 0s - loss: 0.8834 - accuracy: 0.74 - ETA: 0s - loss: 0.8838 - accuracy: 0.74 - ETA: 0s - loss: 0.8851 - accuracy: 0.74 - ETA: 0s - loss: 0.8828 - accuracy: 0.74 - ETA: 0s - loss: 0.8835 - accuracy: 0.74 - ETA: 0s - loss: 0.8836 - accuracy: 0.74 - 2s 1ms/step - loss: 0.8835 - accuracy: 0.7414 - val_loss: 0.8826 - val_accuracy: 0.7426\n",
      "Epoch 13/20\n",
      "1875/1875 [==============================] - ETA: 0s - loss: 1.0154 - accuracy: 0.68 - ETA: 1s - loss: 0.8778 - accuracy: 0.74 - ETA: 1s - loss: 0.8752 - accuracy: 0.74 - ETA: 1s - loss: 0.8697 - accuracy: 0.75 - ETA: 1s - loss: 0.8571 - accuracy: 0.75 - ETA: 1s - loss: 0.8587 - accuracy: 0.75 - ETA: 1s - loss: 0.8682 - accuracy: 0.74 - ETA: 1s - loss: 0.8726 - accuracy: 0.74 - ETA: 1s - loss: 0.8679 - accuracy: 0.74 - ETA: 1s - loss: 0.8644 - accuracy: 0.74 - ETA: 1s - loss: 0.8738 - accuracy: 0.74 - ETA: 1s - loss: 0.8701 - accuracy: 0.74 - ETA: 0s - loss: 0.8712 - accuracy: 0.74 - ETA: 0s - loss: 0.8692 - accuracy: 0.74 - ETA: 0s - loss: 0.8665 - accuracy: 0.74 - ETA: 0s - loss: 0.8688 - accuracy: 0.74 - ETA: 0s - loss: 0.8695 - accuracy: 0.74 - ETA: 0s - loss: 0.8677 - accuracy: 0.74 - ETA: 0s - loss: 0.8668 - accuracy: 0.74 - ETA: 0s - loss: 0.8672 - accuracy: 0.74 - ETA: 0s - loss: 0.8683 - accuracy: 0.74 - ETA: 0s - loss: 0.8700 - accuracy: 0.74 - ETA: 0s - loss: 0.8696 - accuracy: 0.74 - ETA: 0s - loss: 0.8710 - accuracy: 0.74 - ETA: 0s - loss: 0.8702 - accuracy: 0.74 - ETA: 0s - loss: 0.8699 - accuracy: 0.74 - ETA: 0s - loss: 0.8713 - accuracy: 0.74 - ETA: 0s - loss: 0.8722 - accuracy: 0.74 - ETA: 0s - loss: 0.8717 - accuracy: 0.74 - ETA: 0s - loss: 0.8717 - accuracy: 0.74 - ETA: 0s - loss: 0.8720 - accuracy: 0.74 - ETA: 0s - loss: 0.8709 - accuracy: 0.74 - 2s 1ms/step - loss: 0.8708 - accuracy: 0.7454 - val_loss: 0.8717 - val_accuracy: 0.7475\n",
      "Epoch 14/20\n",
      "1875/1875 [==============================] - ETA: 0s - loss: 0.5048 - accuracy: 0.90 - ETA: 1s - loss: 0.8695 - accuracy: 0.74 - ETA: 1s - loss: 0.8531 - accuracy: 0.75 - ETA: 1s - loss: 0.8472 - accuracy: 0.75 - ETA: 1s - loss: 0.8463 - accuracy: 0.74 - ETA: 1s - loss: 0.8496 - accuracy: 0.74 - ETA: 1s - loss: 0.8507 - accuracy: 0.74 - ETA: 1s - loss: 0.8598 - accuracy: 0.74 - ETA: 1s - loss: 0.8628 - accuracy: 0.74 - ETA: 1s - loss: 0.8657 - accuracy: 0.74 - ETA: 1s - loss: 0.8660 - accuracy: 0.74 - ETA: 1s - loss: 0.8662 - accuracy: 0.74 - ETA: 1s - loss: 0.8644 - accuracy: 0.74 - ETA: 0s - loss: 0.8687 - accuracy: 0.74 - ETA: 0s - loss: 0.8705 - accuracy: 0.74 - ETA: 0s - loss: 0.8700 - accuracy: 0.74 - ETA: 0s - loss: 0.8668 - accuracy: 0.74 - ETA: 0s - loss: 0.8654 - accuracy: 0.74 - ETA: 0s - loss: 0.8645 - accuracy: 0.74 - ETA: 0s - loss: 0.8644 - accuracy: 0.74 - ETA: 0s - loss: 0.8619 - accuracy: 0.74 - ETA: 0s - loss: 0.8594 - accuracy: 0.74 - ETA: 0s - loss: 0.8587 - accuracy: 0.74 - ETA: 0s - loss: 0.8612 - accuracy: 0.74 - ETA: 0s - loss: 0.8589 - accuracy: 0.74 - ETA: 0s - loss: 0.8585 - accuracy: 0.74 - ETA: 0s - loss: 0.8580 - accuracy: 0.74 - ETA: 0s - loss: 0.8584 - accuracy: 0.74 - ETA: 0s - loss: 0.8588 - accuracy: 0.74 - ETA: 0s - loss: 0.8588 - accuracy: 0.74 - 2s 1ms/step - loss: 0.8593 - accuracy: 0.7493 - val_loss: 0.8637 - val_accuracy: 0.7512\n",
      "Epoch 15/20\n",
      "1875/1875 [==============================] - ETA: 0s - loss: 0.9844 - accuracy: 0.71 - ETA: 1s - loss: 0.8709 - accuracy: 0.75 - ETA: 1s - loss: 0.8752 - accuracy: 0.74 - ETA: 1s - loss: 0.8603 - accuracy: 0.74 - ETA: 1s - loss: 0.8506 - accuracy: 0.75 - ETA: 1s - loss: 0.8403 - accuracy: 0.75 - ETA: 1s - loss: 0.8395 - accuracy: 0.75 - ETA: 1s - loss: 0.8379 - accuracy: 0.75 - ETA: 1s - loss: 0.8420 - accuracy: 0.75 - ETA: 1s - loss: 0.8501 - accuracy: 0.75 - ETA: 1s - loss: 0.8474 - accuracy: 0.75 - ETA: 1s - loss: 0.8475 - accuracy: 0.75 - ETA: 0s - loss: 0.8447 - accuracy: 0.75 - ETA: 0s - loss: 0.8452 - accuracy: 0.75 - ETA: 0s - loss: 0.8452 - accuracy: 0.75 - ETA: 0s - loss: 0.8473 - accuracy: 0.75 - ETA: 0s - loss: 0.8458 - accuracy: 0.75 - ETA: 0s - loss: 0.8456 - accuracy: 0.75 - ETA: 0s - loss: 0.8493 - accuracy: 0.75 - ETA: 0s - loss: 0.8484 - accuracy: 0.75 - ETA: 0s - loss: 0.8515 - accuracy: 0.75 - ETA: 0s - loss: 0.8508 - accuracy: 0.75 - ETA: 0s - loss: 0.8514 - accuracy: 0.75 - ETA: 0s - loss: 0.8510 - accuracy: 0.75 - ETA: 0s - loss: 0.8511 - accuracy: 0.75 - ETA: 0s - loss: 0.8505 - accuracy: 0.75 - ETA: 0s - loss: 0.8503 - accuracy: 0.75 - ETA: 0s - loss: 0.8507 - accuracy: 0.75 - ETA: 0s - loss: 0.8511 - accuracy: 0.75 - ETA: 0s - loss: 0.8494 - accuracy: 0.75 - ETA: 0s - loss: 0.8498 - accuracy: 0.75 - 2s 1ms/step - loss: 0.8497 - accuracy: 0.7522 - val_loss: 0.8540 - val_accuracy: 0.7535\n",
      "Epoch 16/20\n",
      "1875/1875 [==============================] - ETA: 0s - loss: 0.6078 - accuracy: 0.87 - ETA: 1s - loss: 0.8590 - accuracy: 0.74 - ETA: 1s - loss: 0.8549 - accuracy: 0.74 - ETA: 1s - loss: 0.8456 - accuracy: 0.75 - ETA: 1s - loss: 0.8449 - accuracy: 0.75 - ETA: 1s - loss: 0.8466 - accuracy: 0.75 - ETA: 1s - loss: 0.8482 - accuracy: 0.75 - ETA: 0s - loss: 0.8450 - accuracy: 0.75 - ETA: 0s - loss: 0.8503 - accuracy: 0.75 - ETA: 0s - loss: 0.8538 - accuracy: 0.75 - ETA: 0s - loss: 0.8495 - accuracy: 0.75 - ETA: 0s - loss: 0.8458 - accuracy: 0.75 - ETA: 0s - loss: 0.8445 - accuracy: 0.75 - ETA: 0s - loss: 0.8434 - accuracy: 0.75 - ETA: 0s - loss: 0.8406 - accuracy: 0.75 - ETA: 0s - loss: 0.8418 - accuracy: 0.75 - ETA: 0s - loss: 0.8416 - accuracy: 0.75 - ETA: 0s - loss: 0.8416 - accuracy: 0.75 - ETA: 0s - loss: 0.8418 - accuracy: 0.75 - ETA: 0s - loss: 0.8412 - accuracy: 0.75 - ETA: 0s - loss: 0.8399 - accuracy: 0.75 - ETA: 0s - loss: 0.8409 - accuracy: 0.75 - ETA: 0s - loss: 0.8418 - accuracy: 0.75 - ETA: 0s - loss: 0.8416 - accuracy: 0.75 - ETA: 0s - loss: 0.8402 - accuracy: 0.75 - ETA: 0s - loss: 0.8398 - accuracy: 0.75 - ETA: 0s - loss: 0.8405 - accuracy: 0.75 - 2s 1ms/step - loss: 0.8405 - accuracy: 0.7552 - val_loss: 0.8453 - val_accuracy: 0.7563\n",
      "Epoch 17/20\n"
     ]
    },
    {
     "name": "stdout",
     "output_type": "stream",
     "text": [
      "1875/1875 [==============================] - ETA: 0s - loss: 0.7499 - accuracy: 0.71 - ETA: 1s - loss: 0.8803 - accuracy: 0.74 - ETA: 1s - loss: 0.8537 - accuracy: 0.75 - ETA: 1s - loss: 0.8448 - accuracy: 0.75 - ETA: 1s - loss: 0.8337 - accuracy: 0.75 - ETA: 1s - loss: 0.8363 - accuracy: 0.75 - ETA: 1s - loss: 0.8426 - accuracy: 0.75 - ETA: 1s - loss: 0.8442 - accuracy: 0.75 - ETA: 1s - loss: 0.8407 - accuracy: 0.75 - ETA: 1s - loss: 0.8394 - accuracy: 0.75 - ETA: 0s - loss: 0.8369 - accuracy: 0.75 - ETA: 0s - loss: 0.8373 - accuracy: 0.75 - ETA: 0s - loss: 0.8376 - accuracy: 0.75 - ETA: 0s - loss: 0.8342 - accuracy: 0.75 - ETA: 0s - loss: 0.8354 - accuracy: 0.75 - ETA: 0s - loss: 0.8359 - accuracy: 0.75 - ETA: 0s - loss: 0.8355 - accuracy: 0.75 - ETA: 0s - loss: 0.8343 - accuracy: 0.75 - ETA: 0s - loss: 0.8334 - accuracy: 0.75 - ETA: 0s - loss: 0.8334 - accuracy: 0.75 - ETA: 0s - loss: 0.8326 - accuracy: 0.75 - ETA: 0s - loss: 0.8327 - accuracy: 0.75 - ETA: 0s - loss: 0.8319 - accuracy: 0.75 - ETA: 0s - loss: 0.8324 - accuracy: 0.75 - ETA: 0s - loss: 0.8307 - accuracy: 0.75 - ETA: 0s - loss: 0.8302 - accuracy: 0.75 - ETA: 0s - loss: 0.8303 - accuracy: 0.75 - ETA: 0s - loss: 0.8325 - accuracy: 0.75 - ETA: 0s - loss: 0.8321 - accuracy: 0.75 - 2s 1ms/step - loss: 0.8324 - accuracy: 0.7582 - val_loss: 0.8380 - val_accuracy: 0.7589\n",
      "Epoch 18/20\n",
      "1875/1875 [==============================] - ETA: 0s - loss: 0.6686 - accuracy: 0.81 - ETA: 1s - loss: 0.8358 - accuracy: 0.75 - ETA: 1s - loss: 0.8301 - accuracy: 0.75 - ETA: 1s - loss: 0.8340 - accuracy: 0.75 - ETA: 1s - loss: 0.8351 - accuracy: 0.75 - ETA: 1s - loss: 0.8334 - accuracy: 0.75 - ETA: 0s - loss: 0.8314 - accuracy: 0.75 - ETA: 0s - loss: 0.8353 - accuracy: 0.75 - ETA: 0s - loss: 0.8347 - accuracy: 0.75 - ETA: 0s - loss: 0.8404 - accuracy: 0.75 - ETA: 0s - loss: 0.8369 - accuracy: 0.75 - ETA: 0s - loss: 0.8335 - accuracy: 0.75 - ETA: 0s - loss: 0.8341 - accuracy: 0.75 - ETA: 0s - loss: 0.8313 - accuracy: 0.75 - ETA: 0s - loss: 0.8294 - accuracy: 0.75 - ETA: 0s - loss: 0.8276 - accuracy: 0.75 - ETA: 0s - loss: 0.8315 - accuracy: 0.75 - ETA: 0s - loss: 0.8295 - accuracy: 0.75 - ETA: 0s - loss: 0.8300 - accuracy: 0.75 - ETA: 0s - loss: 0.8290 - accuracy: 0.75 - ETA: 0s - loss: 0.8285 - accuracy: 0.75 - ETA: 0s - loss: 0.8282 - accuracy: 0.75 - ETA: 0s - loss: 0.8283 - accuracy: 0.75 - ETA: 0s - loss: 0.8281 - accuracy: 0.75 - ETA: 0s - loss: 0.8279 - accuracy: 0.75 - ETA: 0s - loss: 0.8275 - accuracy: 0.75 - ETA: 0s - loss: 0.8251 - accuracy: 0.76 - 2s 1ms/step - loss: 0.8248 - accuracy: 0.7602 - val_loss: 0.8317 - val_accuracy: 0.7599\n",
      "Epoch 19/20\n",
      "1875/1875 [==============================] - ETA: 0s - loss: 0.8120 - accuracy: 0.75 - ETA: 1s - loss: 0.7704 - accuracy: 0.77 - ETA: 1s - loss: 0.8066 - accuracy: 0.76 - ETA: 1s - loss: 0.8163 - accuracy: 0.76 - ETA: 1s - loss: 0.8152 - accuracy: 0.76 - ETA: 1s - loss: 0.8212 - accuracy: 0.76 - ETA: 1s - loss: 0.8234 - accuracy: 0.76 - ETA: 1s - loss: 0.8250 - accuracy: 0.76 - ETA: 1s - loss: 0.8251 - accuracy: 0.76 - ETA: 1s - loss: 0.8232 - accuracy: 0.76 - ETA: 1s - loss: 0.8178 - accuracy: 0.76 - ETA: 0s - loss: 0.8175 - accuracy: 0.76 - ETA: 0s - loss: 0.8161 - accuracy: 0.76 - ETA: 0s - loss: 0.8164 - accuracy: 0.76 - ETA: 0s - loss: 0.8172 - accuracy: 0.76 - ETA: 0s - loss: 0.8154 - accuracy: 0.76 - ETA: 0s - loss: 0.8175 - accuracy: 0.76 - ETA: 0s - loss: 0.8185 - accuracy: 0.76 - ETA: 0s - loss: 0.8182 - accuracy: 0.76 - ETA: 0s - loss: 0.8163 - accuracy: 0.76 - ETA: 0s - loss: 0.8161 - accuracy: 0.76 - ETA: 0s - loss: 0.8173 - accuracy: 0.76 - ETA: 0s - loss: 0.8176 - accuracy: 0.76 - ETA: 0s - loss: 0.8180 - accuracy: 0.76 - ETA: 0s - loss: 0.8171 - accuracy: 0.76 - ETA: 0s - loss: 0.8170 - accuracy: 0.76 - ETA: 0s - loss: 0.8184 - accuracy: 0.76 - ETA: 0s - loss: 0.8172 - accuracy: 0.76 - 2s 1ms/step - loss: 0.8177 - accuracy: 0.7620 - val_loss: 0.8258 - val_accuracy: 0.7613\n",
      "Epoch 20/20\n",
      "1875/1875 [==============================] - ETA: 0s - loss: 0.9302 - accuracy: 0.65 - ETA: 1s - loss: 0.8027 - accuracy: 0.76 - ETA: 1s - loss: 0.7845 - accuracy: 0.77 - ETA: 1s - loss: 0.7897 - accuracy: 0.77 - ETA: 1s - loss: 0.7944 - accuracy: 0.77 - ETA: 1s - loss: 0.7996 - accuracy: 0.77 - ETA: 1s - loss: 0.8062 - accuracy: 0.76 - ETA: 0s - loss: 0.8150 - accuracy: 0.76 - ETA: 0s - loss: 0.8106 - accuracy: 0.76 - ETA: 0s - loss: 0.8119 - accuracy: 0.76 - ETA: 0s - loss: 0.8103 - accuracy: 0.76 - ETA: 0s - loss: 0.8118 - accuracy: 0.76 - ETA: 0s - loss: 0.8120 - accuracy: 0.76 - ETA: 0s - loss: 0.8138 - accuracy: 0.76 - ETA: 0s - loss: 0.8149 - accuracy: 0.76 - ETA: 0s - loss: 0.8128 - accuracy: 0.76 - ETA: 0s - loss: 0.8124 - accuracy: 0.76 - ETA: 0s - loss: 0.8111 - accuracy: 0.76 - ETA: 0s - loss: 0.8121 - accuracy: 0.76 - ETA: 0s - loss: 0.8120 - accuracy: 0.76 - ETA: 0s - loss: 0.8114 - accuracy: 0.76 - ETA: 0s - loss: 0.8085 - accuracy: 0.76 - ETA: 0s - loss: 0.8086 - accuracy: 0.76 - ETA: 0s - loss: 0.8094 - accuracy: 0.76 - ETA: 0s - loss: 0.8104 - accuracy: 0.76 - ETA: 0s - loss: 0.8116 - accuracy: 0.76 - 2s 993us/step - loss: 0.8108 - accuracy: 0.7645 - val_loss: 0.8208 - val_accuracy: 0.7615\n"
     ]
    },
    {
     "data": {
      "text/html": [
       "<span style=\"color:#4527A0\"><h1 style=\"font-size:18px\">Trial complete</h1></span>"
      ],
      "text/plain": [
       "<IPython.core.display.HTML object>"
      ]
     },
     "metadata": {},
     "output_type": "display_data"
    },
    {
     "data": {
      "text/html": [
       "<span style=\"color:#4527A0\"><h1 style=\"font-size:18px\">Trial summary</h1></span>"
      ],
      "text/plain": [
       "<IPython.core.display.HTML object>"
      ]
     },
     "metadata": {},
     "output_type": "display_data"
    },
    {
     "data": {
      "text/html": [
       "<span style=\"color:cyan\"> |-Trial ID: e17a74af7270ec7db88a4d5a3e8cd326</span>"
      ],
      "text/plain": [
       "<IPython.core.display.HTML object>"
      ]
     },
     "metadata": {},
     "output_type": "display_data"
    },
    {
     "data": {
      "text/html": [
       "<span style=\"color:cyan\"> |-Score: 0.7618874907493591</span>"
      ],
      "text/plain": [
       "<IPython.core.display.HTML object>"
      ]
     },
     "metadata": {},
     "output_type": "display_data"
    },
    {
     "data": {
      "text/html": [
       "<span style=\"color:cyan\"> |-Best step: 0</span>"
      ],
      "text/plain": [
       "<IPython.core.display.HTML object>"
      ]
     },
     "metadata": {},
     "output_type": "display_data"
    },
    {
     "data": {
      "text/html": [
       "<span style=\"color:#7E57C2\"><h2 style=\"font-size:16px\">Hyperparameters:</h2></span>"
      ],
      "text/plain": [
       "<IPython.core.display.HTML object>"
      ]
     },
     "metadata": {},
     "output_type": "display_data"
    },
    {
     "data": {
      "text/html": [
       "<span style=\"color:cyan\"> |-learning_rate: 0.001</span>"
      ],
      "text/plain": [
       "<IPython.core.display.HTML object>"
      ]
     },
     "metadata": {},
     "output_type": "display_data"
    },
    {
     "data": {
      "text/html": [
       "<span style=\"color:blue\"> |-momentum: 0.4</span>"
      ],
      "text/plain": [
       "<IPython.core.display.HTML object>"
      ]
     },
     "metadata": {},
     "output_type": "display_data"
    },
    {
     "data": {
      "text/html": [
       "<span style=\"color:#4527A0\"><h1 style=\"font-size:18px\">Results summary</h1></span>"
      ],
      "text/plain": [
       "<IPython.core.display.HTML object>"
      ]
     },
     "metadata": {},
     "output_type": "display_data"
    },
    {
     "data": {
      "text/html": [
       "<span style=\"color:cyan\"> |-Results in test_dir/tune_lr_momentum</span>"
      ],
      "text/plain": [
       "<IPython.core.display.HTML object>"
      ]
     },
     "metadata": {},
     "output_type": "display_data"
    },
    {
     "data": {
      "text/html": [
       "<span style=\"color:cyan\"> |-Showing 10 best trials</span>"
      ],
      "text/plain": [
       "<IPython.core.display.HTML object>"
      ]
     },
     "metadata": {},
     "output_type": "display_data"
    },
    {
     "data": {
      "text/html": [
       "<span style=\"color:cyan\"> |-Objective(name='val_accuracy', direction='max')</span>"
      ],
      "text/plain": [
       "<IPython.core.display.HTML object>"
      ]
     },
     "metadata": {},
     "output_type": "display_data"
    },
    {
     "data": {
      "text/html": [
       "<span style=\"color:#4527A0\"><h1 style=\"font-size:18px\">Trial summary</h1></span>"
      ],
      "text/plain": [
       "<IPython.core.display.HTML object>"
      ]
     },
     "metadata": {},
     "output_type": "display_data"
    },
    {
     "data": {
      "text/html": [
       "<span style=\"color:cyan\"> |-Trial ID: e17a74af7270ec7db88a4d5a3e8cd326</span>"
      ],
      "text/plain": [
       "<IPython.core.display.HTML object>"
      ]
     },
     "metadata": {},
     "output_type": "display_data"
    },
    {
     "data": {
      "text/html": [
       "<span style=\"color:cyan\"> |-Score: 0.7618874907493591</span>"
      ],
      "text/plain": [
       "<IPython.core.display.HTML object>"
      ]
     },
     "metadata": {},
     "output_type": "display_data"
    },
    {
     "data": {
      "text/html": [
       "<span style=\"color:cyan\"> |-Best step: 0</span>"
      ],
      "text/plain": [
       "<IPython.core.display.HTML object>"
      ]
     },
     "metadata": {},
     "output_type": "display_data"
    },
    {
     "data": {
      "text/html": [
       "<span style=\"color:#7E57C2\"><h2 style=\"font-size:16px\">Hyperparameters:</h2></span>"
      ],
      "text/plain": [
       "<IPython.core.display.HTML object>"
      ]
     },
     "metadata": {},
     "output_type": "display_data"
    },
    {
     "data": {
      "text/html": [
       "<span style=\"color:cyan\"> |-learning_rate: 0.001</span>"
      ],
      "text/plain": [
       "<IPython.core.display.HTML object>"
      ]
     },
     "metadata": {},
     "output_type": "display_data"
    },
    {
     "data": {
      "text/html": [
       "<span style=\"color:blue\"> |-momentum: 0.4</span>"
      ],
      "text/plain": [
       "<IPython.core.display.HTML object>"
      ]
     },
     "metadata": {},
     "output_type": "display_data"
    },
    {
     "data": {
      "text/html": [
       "<span style=\"color:#4527A0\"><h1 style=\"font-size:18px\">Trial summary</h1></span>"
      ],
      "text/plain": [
       "<IPython.core.display.HTML object>"
      ]
     },
     "metadata": {},
     "output_type": "display_data"
    },
    {
     "data": {
      "text/html": [
       "<span style=\"color:cyan\"> |-Trial ID: 80d66f35e070af5c9ac0ff3db7d11f90</span>"
      ],
      "text/plain": [
       "<IPython.core.display.HTML object>"
      ]
     },
     "metadata": {},
     "output_type": "display_data"
    },
    {
     "data": {
      "text/html": [
       "<span style=\"color:cyan\"> |-Score: 0.33230000734329224</span>"
      ],
      "text/plain": [
       "<IPython.core.display.HTML object>"
      ]
     },
     "metadata": {},
     "output_type": "display_data"
    },
    {
     "data": {
      "text/html": [
       "<span style=\"color:cyan\"> |-Best step: 0</span>"
      ],
      "text/plain": [
       "<IPython.core.display.HTML object>"
      ]
     },
     "metadata": {},
     "output_type": "display_data"
    },
    {
     "data": {
      "text/html": [
       "<span style=\"color:#7E57C2\"><h2 style=\"font-size:16px\">Hyperparameters:</h2></span>"
      ],
      "text/plain": [
       "<IPython.core.display.HTML object>"
      ]
     },
     "metadata": {},
     "output_type": "display_data"
    },
    {
     "data": {
      "text/html": [
       "<span style=\"color:cyan\"> |-learning_rate: 0.0001</span>"
      ],
      "text/plain": [
       "<IPython.core.display.HTML object>"
      ]
     },
     "metadata": {},
     "output_type": "display_data"
    },
    {
     "data": {
      "text/html": [
       "<span style=\"color:blue\"> |-momentum: 0.0</span>"
      ],
      "text/plain": [
       "<IPython.core.display.HTML object>"
      ]
     },
     "metadata": {},
     "output_type": "display_data"
    },
    {
     "name": "stdout",
     "output_type": "stream",
     "text": [
      "{'learning_rate': 0.001, 'momentum': 0.4}\n"
     ]
    }
   ],
   "source": [
    "random_search_params(tune_rl_momentum_model, project_name=\"tune_lr_momentum\")"
   ]
  },
  {
   "cell_type": "code",
   "execution_count": 46,
   "metadata": {
    "id": "YNiI9XKL3ot8"
   },
   "outputs": [],
   "source": [
    "def tune_neurons_model(hp):\n",
    "    model = keras.Sequential()\n",
    "    model.add(keras.layers.Dense(units=hp.Int('units',\n",
    "                                        min_value=8,\n",
    "                                        max_value=128,\n",
    "                                        step=16),\n",
    "                                 activation=\"relu\", \n",
    "                                 input_shape=[X_train.shape[1]]))\n",
    "\n",
    "    model.add(keras.layers.Dense(1, activation='sigmoid'))\n",
    "\n",
    "    model.compile(\n",
    "        optimizer=\"adam\",\n",
    "        loss = 'sparse_categorical_crossentropy', \n",
    "        metrics = ['accuracy'])\n",
    "    return model"
   ]
  },
  {
   "cell_type": "code",
   "execution_count": 47,
   "metadata": {
    "id": "SQxs8Zvx4SZf"
   },
   "outputs": [
    {
     "data": {
      "text/html": [
       "<span style=\"color:#4527A0\"><h1 style=\"font-size:18px\">Search space summary</h1></span>"
      ],
      "text/plain": [
       "<IPython.core.display.HTML object>"
      ]
     },
     "metadata": {},
     "output_type": "display_data"
    },
    {
     "data": {
      "text/html": [
       "<span style=\"color:cyan\"> |-Default search space size: 1</span>"
      ],
      "text/plain": [
       "<IPython.core.display.HTML object>"
      ]
     },
     "metadata": {},
     "output_type": "display_data"
    },
    {
     "data": {
      "text/html": [
       "<span style=\"color:#7E57C2\"><h2 style=\"font-size:16px\">units (Int)</h2></span>"
      ],
      "text/plain": [
       "<IPython.core.display.HTML object>"
      ]
     },
     "metadata": {},
     "output_type": "display_data"
    },
    {
     "data": {
      "text/html": [
       "<span style=\"color:cyan\"> |-default: None</span>"
      ],
      "text/plain": [
       "<IPython.core.display.HTML object>"
      ]
     },
     "metadata": {},
     "output_type": "display_data"
    },
    {
     "data": {
      "text/html": [
       "<span style=\"color:blue\"> |-max_value: 128</span>"
      ],
      "text/plain": [
       "<IPython.core.display.HTML object>"
      ]
     },
     "metadata": {},
     "output_type": "display_data"
    },
    {
     "data": {
      "text/html": [
       "<span style=\"color:cyan\"> |-min_value: 8</span>"
      ],
      "text/plain": [
       "<IPython.core.display.HTML object>"
      ]
     },
     "metadata": {},
     "output_type": "display_data"
    },
    {
     "data": {
      "text/html": [
       "<span style=\"color:blue\"> |-sampling: None</span>"
      ],
      "text/plain": [
       "<IPython.core.display.HTML object>"
      ]
     },
     "metadata": {},
     "output_type": "display_data"
    },
    {
     "data": {
      "text/html": [
       "<span style=\"color:cyan\"> |-step: 16</span>"
      ],
      "text/plain": [
       "<IPython.core.display.HTML object>"
      ]
     },
     "metadata": {},
     "output_type": "display_data"
    },
    {
     "name": "stdout",
     "output_type": "stream",
     "text": [
      "Epoch 1/20\n"
     ]
    },
    {
     "ename": "InvalidArgumentError",
     "evalue": " Received a label value of 9 which is outside the valid range of [0, 1).  Label values: 3 0 9 7 7 7 1 9 7 5 1 1 7 4 7 0 4 4 5 0 6 0 0 4 0 7 2 2 5 5 7 2\n\t [[node sparse_categorical_crossentropy/SparseSoftmaxCrossEntropyWithLogits/SparseSoftmaxCrossEntropyWithLogits (defined at /opt/anaconda3/envs/U4-S1-NLP/lib/python3.8/site-packages/wandb/integration/keras/keras.py:120) ]] [Op:__inference_train_function_3271959]\n\nFunction call stack:\ntrain_function\n",
     "output_type": "error",
     "traceback": [
      "\u001b[0;31m---------------------------------------------------------------------------\u001b[0m",
      "\u001b[0;31mInvalidArgumentError\u001b[0m                      Traceback (most recent call last)",
      "\u001b[0;32m<ipython-input-47-9e40c4d62c28>\u001b[0m in \u001b[0;36m<module>\u001b[0;34m\u001b[0m\n\u001b[0;32m----> 1\u001b[0;31m \u001b[0mrandom_search_params\u001b[0m\u001b[0;34m(\u001b[0m\u001b[0mtune_neurons_model\u001b[0m\u001b[0;34m,\u001b[0m \u001b[0mproject_name\u001b[0m\u001b[0;34m=\u001b[0m\u001b[0;34m\"tune_neurons\"\u001b[0m\u001b[0;34m)\u001b[0m\u001b[0;34m\u001b[0m\u001b[0;34m\u001b[0m\u001b[0m\n\u001b[0m",
      "\u001b[0;32m<ipython-input-44-95dad3b360f7>\u001b[0m in \u001b[0;36mrandom_search_params\u001b[0;34m(model_builder, project_name)\u001b[0m\n\u001b[1;32m      1\u001b[0m \u001b[0;32mdef\u001b[0m \u001b[0mrandom_search_params\u001b[0m\u001b[0;34m(\u001b[0m\u001b[0mmodel_builder\u001b[0m\u001b[0;34m,\u001b[0m \u001b[0mproject_name\u001b[0m\u001b[0;34m)\u001b[0m\u001b[0;34m:\u001b[0m\u001b[0;34m\u001b[0m\u001b[0;34m\u001b[0m\u001b[0m\n\u001b[1;32m      2\u001b[0m   \u001b[0mtuner\u001b[0m \u001b[0;34m=\u001b[0m \u001b[0mcreate_random_tuner\u001b[0m\u001b[0;34m(\u001b[0m\u001b[0mmodel_builder\u001b[0m\u001b[0;34m,\u001b[0m \u001b[0mproject_name\u001b[0m\u001b[0;34m)\u001b[0m\u001b[0;34m\u001b[0m\u001b[0;34m\u001b[0m\u001b[0m\n\u001b[0;32m----> 3\u001b[0;31m   tuner.search(x=X_train,\n\u001b[0m\u001b[1;32m      4\u001b[0m              \u001b[0my\u001b[0m\u001b[0;34m=\u001b[0m\u001b[0my_train\u001b[0m\u001b[0;34m,\u001b[0m\u001b[0;34m\u001b[0m\u001b[0;34m\u001b[0m\u001b[0m\n\u001b[1;32m      5\u001b[0m              \u001b[0mepochs\u001b[0m\u001b[0;34m=\u001b[0m\u001b[0mTRAIN_EPOCHS\u001b[0m\u001b[0;34m,\u001b[0m\u001b[0;34m\u001b[0m\u001b[0;34m\u001b[0m\u001b[0m\n",
      "\u001b[0;32m/opt/anaconda3/envs/U4-S1-NLP/lib/python3.8/site-packages/kerastuner/engine/base_tuner.py\u001b[0m in \u001b[0;36msearch\u001b[0;34m(self, *fit_args, **fit_kwargs)\u001b[0m\n\u001b[1;32m    128\u001b[0m \u001b[0;34m\u001b[0m\u001b[0m\n\u001b[1;32m    129\u001b[0m             \u001b[0mself\u001b[0m\u001b[0;34m.\u001b[0m\u001b[0mon_trial_begin\u001b[0m\u001b[0;34m(\u001b[0m\u001b[0mtrial\u001b[0m\u001b[0;34m)\u001b[0m\u001b[0;34m\u001b[0m\u001b[0;34m\u001b[0m\u001b[0m\n\u001b[0;32m--> 130\u001b[0;31m             \u001b[0mself\u001b[0m\u001b[0;34m.\u001b[0m\u001b[0mrun_trial\u001b[0m\u001b[0;34m(\u001b[0m\u001b[0mtrial\u001b[0m\u001b[0;34m,\u001b[0m \u001b[0;34m*\u001b[0m\u001b[0mfit_args\u001b[0m\u001b[0;34m,\u001b[0m \u001b[0;34m**\u001b[0m\u001b[0mfit_kwargs\u001b[0m\u001b[0;34m)\u001b[0m\u001b[0;34m\u001b[0m\u001b[0;34m\u001b[0m\u001b[0m\n\u001b[0m\u001b[1;32m    131\u001b[0m             \u001b[0mself\u001b[0m\u001b[0;34m.\u001b[0m\u001b[0mon_trial_end\u001b[0m\u001b[0;34m(\u001b[0m\u001b[0mtrial\u001b[0m\u001b[0;34m)\u001b[0m\u001b[0;34m\u001b[0m\u001b[0;34m\u001b[0m\u001b[0m\n\u001b[1;32m    132\u001b[0m         \u001b[0mself\u001b[0m\u001b[0;34m.\u001b[0m\u001b[0mon_search_end\u001b[0m\u001b[0;34m(\u001b[0m\u001b[0;34m)\u001b[0m\u001b[0;34m\u001b[0m\u001b[0;34m\u001b[0m\u001b[0m\n",
      "\u001b[0;32m/opt/anaconda3/envs/U4-S1-NLP/lib/python3.8/site-packages/kerastuner/engine/multi_execution_tuner.py\u001b[0m in \u001b[0;36mrun_trial\u001b[0;34m(self, trial, *fit_args, **fit_kwargs)\u001b[0m\n\u001b[1;32m     94\u001b[0m \u001b[0;34m\u001b[0m\u001b[0m\n\u001b[1;32m     95\u001b[0m             \u001b[0mmodel\u001b[0m \u001b[0;34m=\u001b[0m \u001b[0mself\u001b[0m\u001b[0;34m.\u001b[0m\u001b[0mhypermodel\u001b[0m\u001b[0;34m.\u001b[0m\u001b[0mbuild\u001b[0m\u001b[0;34m(\u001b[0m\u001b[0mtrial\u001b[0m\u001b[0;34m.\u001b[0m\u001b[0mhyperparameters\u001b[0m\u001b[0;34m)\u001b[0m\u001b[0;34m\u001b[0m\u001b[0;34m\u001b[0m\u001b[0m\n\u001b[0;32m---> 96\u001b[0;31m             \u001b[0mhistory\u001b[0m \u001b[0;34m=\u001b[0m \u001b[0mmodel\u001b[0m\u001b[0;34m.\u001b[0m\u001b[0mfit\u001b[0m\u001b[0;34m(\u001b[0m\u001b[0;34m*\u001b[0m\u001b[0mfit_args\u001b[0m\u001b[0;34m,\u001b[0m \u001b[0;34m**\u001b[0m\u001b[0mcopied_fit_kwargs\u001b[0m\u001b[0;34m)\u001b[0m\u001b[0;34m\u001b[0m\u001b[0;34m\u001b[0m\u001b[0m\n\u001b[0m\u001b[1;32m     97\u001b[0m             \u001b[0;32mfor\u001b[0m \u001b[0mmetric\u001b[0m\u001b[0;34m,\u001b[0m \u001b[0mepoch_values\u001b[0m \u001b[0;32min\u001b[0m \u001b[0mhistory\u001b[0m\u001b[0;34m.\u001b[0m\u001b[0mhistory\u001b[0m\u001b[0;34m.\u001b[0m\u001b[0mitems\u001b[0m\u001b[0;34m(\u001b[0m\u001b[0;34m)\u001b[0m\u001b[0;34m:\u001b[0m\u001b[0;34m\u001b[0m\u001b[0;34m\u001b[0m\u001b[0m\n\u001b[1;32m     98\u001b[0m                 \u001b[0;32mif\u001b[0m \u001b[0mself\u001b[0m\u001b[0;34m.\u001b[0m\u001b[0moracle\u001b[0m\u001b[0;34m.\u001b[0m\u001b[0mobjective\u001b[0m\u001b[0;34m.\u001b[0m\u001b[0mdirection\u001b[0m \u001b[0;34m==\u001b[0m \u001b[0;34m'min'\u001b[0m\u001b[0;34m:\u001b[0m\u001b[0;34m\u001b[0m\u001b[0;34m\u001b[0m\u001b[0m\n",
      "\u001b[0;32m/opt/anaconda3/envs/U4-S1-NLP/lib/python3.8/site-packages/wandb/integration/keras/keras.py\u001b[0m in \u001b[0;36mnew_v2\u001b[0;34m(*args, **kwargs)\u001b[0m\n\u001b[1;32m    118\u001b[0m             \u001b[0;32mfor\u001b[0m \u001b[0mcbk\u001b[0m \u001b[0;32min\u001b[0m \u001b[0mcbks\u001b[0m\u001b[0;34m:\u001b[0m\u001b[0;34m\u001b[0m\u001b[0;34m\u001b[0m\u001b[0m\n\u001b[1;32m    119\u001b[0m                 \u001b[0mset_wandb_attrs\u001b[0m\u001b[0;34m(\u001b[0m\u001b[0mcbk\u001b[0m\u001b[0;34m,\u001b[0m \u001b[0mval_data\u001b[0m\u001b[0;34m)\u001b[0m\u001b[0;34m\u001b[0m\u001b[0;34m\u001b[0m\u001b[0m\n\u001b[0;32m--> 120\u001b[0;31m         \u001b[0;32mreturn\u001b[0m \u001b[0mold_v2\u001b[0m\u001b[0;34m(\u001b[0m\u001b[0;34m*\u001b[0m\u001b[0margs\u001b[0m\u001b[0;34m,\u001b[0m \u001b[0;34m**\u001b[0m\u001b[0mkwargs\u001b[0m\u001b[0;34m)\u001b[0m\u001b[0;34m\u001b[0m\u001b[0;34m\u001b[0m\u001b[0m\n\u001b[0m\u001b[1;32m    121\u001b[0m \u001b[0;34m\u001b[0m\u001b[0m\n\u001b[1;32m    122\u001b[0m     \u001b[0mtraining_arrays\u001b[0m\u001b[0;34m.\u001b[0m\u001b[0morig_fit_loop\u001b[0m \u001b[0;34m=\u001b[0m \u001b[0mold_arrays\u001b[0m\u001b[0;34m\u001b[0m\u001b[0;34m\u001b[0m\u001b[0m\n",
      "\u001b[0;32m/opt/anaconda3/envs/U4-S1-NLP/lib/python3.8/site-packages/tensorflow/python/keras/engine/training.py\u001b[0m in \u001b[0;36m_method_wrapper\u001b[0;34m(self, *args, **kwargs)\u001b[0m\n\u001b[1;32m    106\u001b[0m   \u001b[0;32mdef\u001b[0m \u001b[0m_method_wrapper\u001b[0m\u001b[0;34m(\u001b[0m\u001b[0mself\u001b[0m\u001b[0;34m,\u001b[0m \u001b[0;34m*\u001b[0m\u001b[0margs\u001b[0m\u001b[0;34m,\u001b[0m \u001b[0;34m**\u001b[0m\u001b[0mkwargs\u001b[0m\u001b[0;34m)\u001b[0m\u001b[0;34m:\u001b[0m\u001b[0;34m\u001b[0m\u001b[0;34m\u001b[0m\u001b[0m\n\u001b[1;32m    107\u001b[0m     \u001b[0;32mif\u001b[0m \u001b[0;32mnot\u001b[0m \u001b[0mself\u001b[0m\u001b[0;34m.\u001b[0m\u001b[0m_in_multi_worker_mode\u001b[0m\u001b[0;34m(\u001b[0m\u001b[0;34m)\u001b[0m\u001b[0;34m:\u001b[0m  \u001b[0;31m# pylint: disable=protected-access\u001b[0m\u001b[0;34m\u001b[0m\u001b[0;34m\u001b[0m\u001b[0m\n\u001b[0;32m--> 108\u001b[0;31m       \u001b[0;32mreturn\u001b[0m \u001b[0mmethod\u001b[0m\u001b[0;34m(\u001b[0m\u001b[0mself\u001b[0m\u001b[0;34m,\u001b[0m \u001b[0;34m*\u001b[0m\u001b[0margs\u001b[0m\u001b[0;34m,\u001b[0m \u001b[0;34m**\u001b[0m\u001b[0mkwargs\u001b[0m\u001b[0;34m)\u001b[0m\u001b[0;34m\u001b[0m\u001b[0;34m\u001b[0m\u001b[0m\n\u001b[0m\u001b[1;32m    109\u001b[0m \u001b[0;34m\u001b[0m\u001b[0m\n\u001b[1;32m    110\u001b[0m     \u001b[0;31m# Running inside `run_distribute_coordinator` already.\u001b[0m\u001b[0;34m\u001b[0m\u001b[0;34m\u001b[0m\u001b[0;34m\u001b[0m\u001b[0m\n",
      "\u001b[0;32m/opt/anaconda3/envs/U4-S1-NLP/lib/python3.8/site-packages/tensorflow/python/keras/engine/training.py\u001b[0m in \u001b[0;36mfit\u001b[0;34m(self, x, y, batch_size, epochs, verbose, callbacks, validation_split, validation_data, shuffle, class_weight, sample_weight, initial_epoch, steps_per_epoch, validation_steps, validation_batch_size, validation_freq, max_queue_size, workers, use_multiprocessing)\u001b[0m\n\u001b[1;32m   1096\u001b[0m                 batch_size=batch_size):\n\u001b[1;32m   1097\u001b[0m               \u001b[0mcallbacks\u001b[0m\u001b[0;34m.\u001b[0m\u001b[0mon_train_batch_begin\u001b[0m\u001b[0;34m(\u001b[0m\u001b[0mstep\u001b[0m\u001b[0;34m)\u001b[0m\u001b[0;34m\u001b[0m\u001b[0;34m\u001b[0m\u001b[0m\n\u001b[0;32m-> 1098\u001b[0;31m               \u001b[0mtmp_logs\u001b[0m \u001b[0;34m=\u001b[0m \u001b[0mtrain_function\u001b[0m\u001b[0;34m(\u001b[0m\u001b[0miterator\u001b[0m\u001b[0;34m)\u001b[0m\u001b[0;34m\u001b[0m\u001b[0;34m\u001b[0m\u001b[0m\n\u001b[0m\u001b[1;32m   1099\u001b[0m               \u001b[0;32mif\u001b[0m \u001b[0mdata_handler\u001b[0m\u001b[0;34m.\u001b[0m\u001b[0mshould_sync\u001b[0m\u001b[0;34m:\u001b[0m\u001b[0;34m\u001b[0m\u001b[0;34m\u001b[0m\u001b[0m\n\u001b[1;32m   1100\u001b[0m                 \u001b[0mcontext\u001b[0m\u001b[0;34m.\u001b[0m\u001b[0masync_wait\u001b[0m\u001b[0;34m(\u001b[0m\u001b[0;34m)\u001b[0m\u001b[0;34m\u001b[0m\u001b[0;34m\u001b[0m\u001b[0m\n",
      "\u001b[0;32m/opt/anaconda3/envs/U4-S1-NLP/lib/python3.8/site-packages/tensorflow/python/eager/def_function.py\u001b[0m in \u001b[0;36m__call__\u001b[0;34m(self, *args, **kwds)\u001b[0m\n\u001b[1;32m    778\u001b[0m       \u001b[0;32melse\u001b[0m\u001b[0;34m:\u001b[0m\u001b[0;34m\u001b[0m\u001b[0;34m\u001b[0m\u001b[0m\n\u001b[1;32m    779\u001b[0m         \u001b[0mcompiler\u001b[0m \u001b[0;34m=\u001b[0m \u001b[0;34m\"nonXla\"\u001b[0m\u001b[0;34m\u001b[0m\u001b[0;34m\u001b[0m\u001b[0m\n\u001b[0;32m--> 780\u001b[0;31m         \u001b[0mresult\u001b[0m \u001b[0;34m=\u001b[0m \u001b[0mself\u001b[0m\u001b[0;34m.\u001b[0m\u001b[0m_call\u001b[0m\u001b[0;34m(\u001b[0m\u001b[0;34m*\u001b[0m\u001b[0margs\u001b[0m\u001b[0;34m,\u001b[0m \u001b[0;34m**\u001b[0m\u001b[0mkwds\u001b[0m\u001b[0;34m)\u001b[0m\u001b[0;34m\u001b[0m\u001b[0;34m\u001b[0m\u001b[0m\n\u001b[0m\u001b[1;32m    781\u001b[0m \u001b[0;34m\u001b[0m\u001b[0m\n\u001b[1;32m    782\u001b[0m       \u001b[0mnew_tracing_count\u001b[0m \u001b[0;34m=\u001b[0m \u001b[0mself\u001b[0m\u001b[0;34m.\u001b[0m\u001b[0m_get_tracing_count\u001b[0m\u001b[0;34m(\u001b[0m\u001b[0;34m)\u001b[0m\u001b[0;34m\u001b[0m\u001b[0;34m\u001b[0m\u001b[0m\n",
      "\u001b[0;32m/opt/anaconda3/envs/U4-S1-NLP/lib/python3.8/site-packages/tensorflow/python/eager/def_function.py\u001b[0m in \u001b[0;36m_call\u001b[0;34m(self, *args, **kwds)\u001b[0m\n\u001b[1;32m    838\u001b[0m         \u001b[0;31m# Lifting succeeded, so variables are initialized and we can run the\u001b[0m\u001b[0;34m\u001b[0m\u001b[0;34m\u001b[0m\u001b[0;34m\u001b[0m\u001b[0m\n\u001b[1;32m    839\u001b[0m         \u001b[0;31m# stateless function.\u001b[0m\u001b[0;34m\u001b[0m\u001b[0;34m\u001b[0m\u001b[0;34m\u001b[0m\u001b[0m\n\u001b[0;32m--> 840\u001b[0;31m         \u001b[0;32mreturn\u001b[0m \u001b[0mself\u001b[0m\u001b[0;34m.\u001b[0m\u001b[0m_stateless_fn\u001b[0m\u001b[0;34m(\u001b[0m\u001b[0;34m*\u001b[0m\u001b[0margs\u001b[0m\u001b[0;34m,\u001b[0m \u001b[0;34m**\u001b[0m\u001b[0mkwds\u001b[0m\u001b[0;34m)\u001b[0m\u001b[0;34m\u001b[0m\u001b[0;34m\u001b[0m\u001b[0m\n\u001b[0m\u001b[1;32m    841\u001b[0m     \u001b[0;32melse\u001b[0m\u001b[0;34m:\u001b[0m\u001b[0;34m\u001b[0m\u001b[0;34m\u001b[0m\u001b[0m\n\u001b[1;32m    842\u001b[0m       \u001b[0mcanon_args\u001b[0m\u001b[0;34m,\u001b[0m \u001b[0mcanon_kwds\u001b[0m \u001b[0;34m=\u001b[0m\u001b[0;31m \u001b[0m\u001b[0;31m\\\u001b[0m\u001b[0;34m\u001b[0m\u001b[0;34m\u001b[0m\u001b[0m\n",
      "\u001b[0;32m/opt/anaconda3/envs/U4-S1-NLP/lib/python3.8/site-packages/tensorflow/python/eager/function.py\u001b[0m in \u001b[0;36m__call__\u001b[0;34m(self, *args, **kwargs)\u001b[0m\n\u001b[1;32m   2827\u001b[0m     \u001b[0;32mwith\u001b[0m \u001b[0mself\u001b[0m\u001b[0;34m.\u001b[0m\u001b[0m_lock\u001b[0m\u001b[0;34m:\u001b[0m\u001b[0;34m\u001b[0m\u001b[0;34m\u001b[0m\u001b[0m\n\u001b[1;32m   2828\u001b[0m       \u001b[0mgraph_function\u001b[0m\u001b[0;34m,\u001b[0m \u001b[0margs\u001b[0m\u001b[0;34m,\u001b[0m \u001b[0mkwargs\u001b[0m \u001b[0;34m=\u001b[0m \u001b[0mself\u001b[0m\u001b[0;34m.\u001b[0m\u001b[0m_maybe_define_function\u001b[0m\u001b[0;34m(\u001b[0m\u001b[0margs\u001b[0m\u001b[0;34m,\u001b[0m \u001b[0mkwargs\u001b[0m\u001b[0;34m)\u001b[0m\u001b[0;34m\u001b[0m\u001b[0;34m\u001b[0m\u001b[0m\n\u001b[0;32m-> 2829\u001b[0;31m     \u001b[0;32mreturn\u001b[0m \u001b[0mgraph_function\u001b[0m\u001b[0;34m.\u001b[0m\u001b[0m_filtered_call\u001b[0m\u001b[0;34m(\u001b[0m\u001b[0margs\u001b[0m\u001b[0;34m,\u001b[0m \u001b[0mkwargs\u001b[0m\u001b[0;34m)\u001b[0m  \u001b[0;31m# pylint: disable=protected-access\u001b[0m\u001b[0;34m\u001b[0m\u001b[0;34m\u001b[0m\u001b[0m\n\u001b[0m\u001b[1;32m   2830\u001b[0m \u001b[0;34m\u001b[0m\u001b[0m\n\u001b[1;32m   2831\u001b[0m   \u001b[0;34m@\u001b[0m\u001b[0mproperty\u001b[0m\u001b[0;34m\u001b[0m\u001b[0;34m\u001b[0m\u001b[0m\n",
      "\u001b[0;32m/opt/anaconda3/envs/U4-S1-NLP/lib/python3.8/site-packages/tensorflow/python/eager/function.py\u001b[0m in \u001b[0;36m_filtered_call\u001b[0;34m(self, args, kwargs, cancellation_manager)\u001b[0m\n\u001b[1;32m   1841\u001b[0m       \u001b[0;31m`\u001b[0m\u001b[0margs\u001b[0m\u001b[0;31m`\u001b[0m \u001b[0;32mand\u001b[0m\u001b[0;31m \u001b[0m\u001b[0;31m`\u001b[0m\u001b[0mkwargs\u001b[0m\u001b[0;31m`\u001b[0m\u001b[0;34m.\u001b[0m\u001b[0;34m\u001b[0m\u001b[0;34m\u001b[0m\u001b[0m\n\u001b[1;32m   1842\u001b[0m     \"\"\"\n\u001b[0;32m-> 1843\u001b[0;31m     return self._call_flat(\n\u001b[0m\u001b[1;32m   1844\u001b[0m         [t for t in nest.flatten((args, kwargs), expand_composites=True)\n\u001b[1;32m   1845\u001b[0m          if isinstance(t, (ops.Tensor,\n",
      "\u001b[0;32m/opt/anaconda3/envs/U4-S1-NLP/lib/python3.8/site-packages/tensorflow/python/eager/function.py\u001b[0m in \u001b[0;36m_call_flat\u001b[0;34m(self, args, captured_inputs, cancellation_manager)\u001b[0m\n\u001b[1;32m   1921\u001b[0m         and executing_eagerly):\n\u001b[1;32m   1922\u001b[0m       \u001b[0;31m# No tape is watching; skip to running the function.\u001b[0m\u001b[0;34m\u001b[0m\u001b[0;34m\u001b[0m\u001b[0;34m\u001b[0m\u001b[0m\n\u001b[0;32m-> 1923\u001b[0;31m       return self._build_call_outputs(self._inference_function.call(\n\u001b[0m\u001b[1;32m   1924\u001b[0m           ctx, args, cancellation_manager=cancellation_manager))\n\u001b[1;32m   1925\u001b[0m     forward_backward = self._select_forward_and_backward_functions(\n",
      "\u001b[0;32m/opt/anaconda3/envs/U4-S1-NLP/lib/python3.8/site-packages/tensorflow/python/eager/function.py\u001b[0m in \u001b[0;36mcall\u001b[0;34m(self, ctx, args, cancellation_manager)\u001b[0m\n\u001b[1;32m    543\u001b[0m       \u001b[0;32mwith\u001b[0m \u001b[0m_InterpolateFunctionError\u001b[0m\u001b[0;34m(\u001b[0m\u001b[0mself\u001b[0m\u001b[0;34m)\u001b[0m\u001b[0;34m:\u001b[0m\u001b[0;34m\u001b[0m\u001b[0;34m\u001b[0m\u001b[0m\n\u001b[1;32m    544\u001b[0m         \u001b[0;32mif\u001b[0m \u001b[0mcancellation_manager\u001b[0m \u001b[0;32mis\u001b[0m \u001b[0;32mNone\u001b[0m\u001b[0;34m:\u001b[0m\u001b[0;34m\u001b[0m\u001b[0;34m\u001b[0m\u001b[0m\n\u001b[0;32m--> 545\u001b[0;31m           outputs = execute.execute(\n\u001b[0m\u001b[1;32m    546\u001b[0m               \u001b[0mstr\u001b[0m\u001b[0;34m(\u001b[0m\u001b[0mself\u001b[0m\u001b[0;34m.\u001b[0m\u001b[0msignature\u001b[0m\u001b[0;34m.\u001b[0m\u001b[0mname\u001b[0m\u001b[0;34m)\u001b[0m\u001b[0;34m,\u001b[0m\u001b[0;34m\u001b[0m\u001b[0;34m\u001b[0m\u001b[0m\n\u001b[1;32m    547\u001b[0m               \u001b[0mnum_outputs\u001b[0m\u001b[0;34m=\u001b[0m\u001b[0mself\u001b[0m\u001b[0;34m.\u001b[0m\u001b[0m_num_outputs\u001b[0m\u001b[0;34m,\u001b[0m\u001b[0;34m\u001b[0m\u001b[0;34m\u001b[0m\u001b[0m\n",
      "\u001b[0;32m/opt/anaconda3/envs/U4-S1-NLP/lib/python3.8/site-packages/tensorflow/python/eager/execute.py\u001b[0m in \u001b[0;36mquick_execute\u001b[0;34m(op_name, num_outputs, inputs, attrs, ctx, name)\u001b[0m\n\u001b[1;32m     57\u001b[0m   \u001b[0;32mtry\u001b[0m\u001b[0;34m:\u001b[0m\u001b[0;34m\u001b[0m\u001b[0;34m\u001b[0m\u001b[0m\n\u001b[1;32m     58\u001b[0m     \u001b[0mctx\u001b[0m\u001b[0;34m.\u001b[0m\u001b[0mensure_initialized\u001b[0m\u001b[0;34m(\u001b[0m\u001b[0;34m)\u001b[0m\u001b[0;34m\u001b[0m\u001b[0;34m\u001b[0m\u001b[0m\n\u001b[0;32m---> 59\u001b[0;31m     tensors = pywrap_tfe.TFE_Py_Execute(ctx._handle, device_name, op_name,\n\u001b[0m\u001b[1;32m     60\u001b[0m                                         inputs, attrs, num_outputs)\n\u001b[1;32m     61\u001b[0m   \u001b[0;32mexcept\u001b[0m \u001b[0mcore\u001b[0m\u001b[0;34m.\u001b[0m\u001b[0m_NotOkStatusException\u001b[0m \u001b[0;32mas\u001b[0m \u001b[0me\u001b[0m\u001b[0;34m:\u001b[0m\u001b[0;34m\u001b[0m\u001b[0;34m\u001b[0m\u001b[0m\n",
      "\u001b[0;31mInvalidArgumentError\u001b[0m:  Received a label value of 9 which is outside the valid range of [0, 1).  Label values: 3 0 9 7 7 7 1 9 7 5 1 1 7 4 7 0 4 4 5 0 6 0 0 4 0 7 2 2 5 5 7 2\n\t [[node sparse_categorical_crossentropy/SparseSoftmaxCrossEntropyWithLogits/SparseSoftmaxCrossEntropyWithLogits (defined at /opt/anaconda3/envs/U4-S1-NLP/lib/python3.8/site-packages/wandb/integration/keras/keras.py:120) ]] [Op:__inference_train_function_3271959]\n\nFunction call stack:\ntrain_function\n"
     ]
    }
   ],
   "source": [
    "random_search_params(tune_neurons_model, project_name=\"tune_neurons\")"
   ]
  },
  {
   "cell_type": "code",
   "execution_count": 48,
   "metadata": {
    "id": "0Sk5IK2YbAJM"
   },
   "outputs": [],
   "source": [
    "def tune_layers_model(hp):\n",
    "    model = keras.Sequential()\n",
    "\n",
    "    model.add(keras.layers.Dense(units=128,\n",
    "                                 activation=\"relu\", \n",
    "                                 input_shape=[X_train.shape[1]]))\n",
    "\n",
    "    for i in range(hp.Int('num_layers', 1, 6)):\n",
    "      model.add(keras.layers.Dense(units=hp.Int('units_' + str(i),\n",
    "                                            min_value=8,\n",
    "                                            max_value=64,\n",
    "                                            step=8),\n",
    "                               activation='relu'))\n",
    "\n",
    "    model.add(keras.layers.Dense(1, activation='sigmoid'))\n",
    "\n",
    "    model.compile(\n",
    "        optimizer=\"adam\",\n",
    "        loss = 'sparse_categorical_crossentropy', \n",
    "        metrics = ['accuracy'])\n",
    "    return model"
   ]
  },
  {
   "cell_type": "code",
   "execution_count": 49,
   "metadata": {
    "id": "w_sFshyibNOd"
   },
   "outputs": [
    {
     "data": {
      "text/html": [
       "<span style=\"color:#4527A0\"><h1 style=\"font-size:18px\">Search space summary</h1></span>"
      ],
      "text/plain": [
       "<IPython.core.display.HTML object>"
      ]
     },
     "metadata": {},
     "output_type": "display_data"
    },
    {
     "data": {
      "text/html": [
       "<span style=\"color:cyan\"> |-Default search space size: 2</span>"
      ],
      "text/plain": [
       "<IPython.core.display.HTML object>"
      ]
     },
     "metadata": {},
     "output_type": "display_data"
    },
    {
     "data": {
      "text/html": [
       "<span style=\"color:#7E57C2\"><h2 style=\"font-size:16px\">num_layers (Int)</h2></span>"
      ],
      "text/plain": [
       "<IPython.core.display.HTML object>"
      ]
     },
     "metadata": {},
     "output_type": "display_data"
    },
    {
     "data": {
      "text/html": [
       "<span style=\"color:cyan\"> |-default: None</span>"
      ],
      "text/plain": [
       "<IPython.core.display.HTML object>"
      ]
     },
     "metadata": {},
     "output_type": "display_data"
    },
    {
     "data": {
      "text/html": [
       "<span style=\"color:blue\"> |-max_value: 6</span>"
      ],
      "text/plain": [
       "<IPython.core.display.HTML object>"
      ]
     },
     "metadata": {},
     "output_type": "display_data"
    },
    {
     "data": {
      "text/html": [
       "<span style=\"color:cyan\"> |-min_value: 1</span>"
      ],
      "text/plain": [
       "<IPython.core.display.HTML object>"
      ]
     },
     "metadata": {},
     "output_type": "display_data"
    },
    {
     "data": {
      "text/html": [
       "<span style=\"color:blue\"> |-sampling: None</span>"
      ],
      "text/plain": [
       "<IPython.core.display.HTML object>"
      ]
     },
     "metadata": {},
     "output_type": "display_data"
    },
    {
     "data": {
      "text/html": [
       "<span style=\"color:cyan\"> |-step: 1</span>"
      ],
      "text/plain": [
       "<IPython.core.display.HTML object>"
      ]
     },
     "metadata": {},
     "output_type": "display_data"
    },
    {
     "data": {
      "text/html": [
       "<span style=\"color:#7E57C2\"><h2 style=\"font-size:16px\">units_0 (Int)</h2></span>"
      ],
      "text/plain": [
       "<IPython.core.display.HTML object>"
      ]
     },
     "metadata": {},
     "output_type": "display_data"
    },
    {
     "data": {
      "text/html": [
       "<span style=\"color:cyan\"> |-default: None</span>"
      ],
      "text/plain": [
       "<IPython.core.display.HTML object>"
      ]
     },
     "metadata": {},
     "output_type": "display_data"
    },
    {
     "data": {
      "text/html": [
       "<span style=\"color:blue\"> |-max_value: 64</span>"
      ],
      "text/plain": [
       "<IPython.core.display.HTML object>"
      ]
     },
     "metadata": {},
     "output_type": "display_data"
    },
    {
     "data": {
      "text/html": [
       "<span style=\"color:cyan\"> |-min_value: 8</span>"
      ],
      "text/plain": [
       "<IPython.core.display.HTML object>"
      ]
     },
     "metadata": {},
     "output_type": "display_data"
    },
    {
     "data": {
      "text/html": [
       "<span style=\"color:blue\"> |-sampling: None</span>"
      ],
      "text/plain": [
       "<IPython.core.display.HTML object>"
      ]
     },
     "metadata": {},
     "output_type": "display_data"
    },
    {
     "data": {
      "text/html": [
       "<span style=\"color:cyan\"> |-step: 8</span>"
      ],
      "text/plain": [
       "<IPython.core.display.HTML object>"
      ]
     },
     "metadata": {},
     "output_type": "display_data"
    },
    {
     "name": "stdout",
     "output_type": "stream",
     "text": [
      "Epoch 1/20\n"
     ]
    },
    {
     "ename": "InvalidArgumentError",
     "evalue": " Received a label value of 9 which is outside the valid range of [0, 1).  Label values: 9 0 7 1 1 2 6 2 9 3 8 8 2 9 5 1 6 7 4 2 5 4 1 0 1 2 2 6 2 7 8 4\n\t [[node sparse_categorical_crossentropy/SparseSoftmaxCrossEntropyWithLogits/SparseSoftmaxCrossEntropyWithLogits (defined at /opt/anaconda3/envs/U4-S1-NLP/lib/python3.8/site-packages/wandb/integration/keras/keras.py:120) ]] [Op:__inference_train_function_3273016]\n\nFunction call stack:\ntrain_function\n",
     "output_type": "error",
     "traceback": [
      "\u001b[0;31m---------------------------------------------------------------------------\u001b[0m",
      "\u001b[0;31mInvalidArgumentError\u001b[0m                      Traceback (most recent call last)",
      "\u001b[0;32m<ipython-input-49-3b8a29e8df3f>\u001b[0m in \u001b[0;36m<module>\u001b[0;34m\u001b[0m\n\u001b[0;32m----> 1\u001b[0;31m \u001b[0mrandom_search_params\u001b[0m\u001b[0;34m(\u001b[0m\u001b[0mtune_layers_model\u001b[0m\u001b[0;34m,\u001b[0m \u001b[0mproject_name\u001b[0m\u001b[0;34m=\u001b[0m\u001b[0;34m\"tune_layers\"\u001b[0m\u001b[0;34m)\u001b[0m\u001b[0;34m\u001b[0m\u001b[0;34m\u001b[0m\u001b[0m\n\u001b[0m",
      "\u001b[0;32m<ipython-input-44-95dad3b360f7>\u001b[0m in \u001b[0;36mrandom_search_params\u001b[0;34m(model_builder, project_name)\u001b[0m\n\u001b[1;32m      1\u001b[0m \u001b[0;32mdef\u001b[0m \u001b[0mrandom_search_params\u001b[0m\u001b[0;34m(\u001b[0m\u001b[0mmodel_builder\u001b[0m\u001b[0;34m,\u001b[0m \u001b[0mproject_name\u001b[0m\u001b[0;34m)\u001b[0m\u001b[0;34m:\u001b[0m\u001b[0;34m\u001b[0m\u001b[0;34m\u001b[0m\u001b[0m\n\u001b[1;32m      2\u001b[0m   \u001b[0mtuner\u001b[0m \u001b[0;34m=\u001b[0m \u001b[0mcreate_random_tuner\u001b[0m\u001b[0;34m(\u001b[0m\u001b[0mmodel_builder\u001b[0m\u001b[0;34m,\u001b[0m \u001b[0mproject_name\u001b[0m\u001b[0;34m)\u001b[0m\u001b[0;34m\u001b[0m\u001b[0;34m\u001b[0m\u001b[0m\n\u001b[0;32m----> 3\u001b[0;31m   tuner.search(x=X_train,\n\u001b[0m\u001b[1;32m      4\u001b[0m              \u001b[0my\u001b[0m\u001b[0;34m=\u001b[0m\u001b[0my_train\u001b[0m\u001b[0;34m,\u001b[0m\u001b[0;34m\u001b[0m\u001b[0;34m\u001b[0m\u001b[0m\n\u001b[1;32m      5\u001b[0m              \u001b[0mepochs\u001b[0m\u001b[0;34m=\u001b[0m\u001b[0mTRAIN_EPOCHS\u001b[0m\u001b[0;34m,\u001b[0m\u001b[0;34m\u001b[0m\u001b[0;34m\u001b[0m\u001b[0m\n",
      "\u001b[0;32m/opt/anaconda3/envs/U4-S1-NLP/lib/python3.8/site-packages/kerastuner/engine/base_tuner.py\u001b[0m in \u001b[0;36msearch\u001b[0;34m(self, *fit_args, **fit_kwargs)\u001b[0m\n\u001b[1;32m    128\u001b[0m \u001b[0;34m\u001b[0m\u001b[0m\n\u001b[1;32m    129\u001b[0m             \u001b[0mself\u001b[0m\u001b[0;34m.\u001b[0m\u001b[0mon_trial_begin\u001b[0m\u001b[0;34m(\u001b[0m\u001b[0mtrial\u001b[0m\u001b[0;34m)\u001b[0m\u001b[0;34m\u001b[0m\u001b[0;34m\u001b[0m\u001b[0m\n\u001b[0;32m--> 130\u001b[0;31m             \u001b[0mself\u001b[0m\u001b[0;34m.\u001b[0m\u001b[0mrun_trial\u001b[0m\u001b[0;34m(\u001b[0m\u001b[0mtrial\u001b[0m\u001b[0;34m,\u001b[0m \u001b[0;34m*\u001b[0m\u001b[0mfit_args\u001b[0m\u001b[0;34m,\u001b[0m \u001b[0;34m**\u001b[0m\u001b[0mfit_kwargs\u001b[0m\u001b[0;34m)\u001b[0m\u001b[0;34m\u001b[0m\u001b[0;34m\u001b[0m\u001b[0m\n\u001b[0m\u001b[1;32m    131\u001b[0m             \u001b[0mself\u001b[0m\u001b[0;34m.\u001b[0m\u001b[0mon_trial_end\u001b[0m\u001b[0;34m(\u001b[0m\u001b[0mtrial\u001b[0m\u001b[0;34m)\u001b[0m\u001b[0;34m\u001b[0m\u001b[0;34m\u001b[0m\u001b[0m\n\u001b[1;32m    132\u001b[0m         \u001b[0mself\u001b[0m\u001b[0;34m.\u001b[0m\u001b[0mon_search_end\u001b[0m\u001b[0;34m(\u001b[0m\u001b[0;34m)\u001b[0m\u001b[0;34m\u001b[0m\u001b[0;34m\u001b[0m\u001b[0m\n",
      "\u001b[0;32m/opt/anaconda3/envs/U4-S1-NLP/lib/python3.8/site-packages/kerastuner/engine/multi_execution_tuner.py\u001b[0m in \u001b[0;36mrun_trial\u001b[0;34m(self, trial, *fit_args, **fit_kwargs)\u001b[0m\n\u001b[1;32m     94\u001b[0m \u001b[0;34m\u001b[0m\u001b[0m\n\u001b[1;32m     95\u001b[0m             \u001b[0mmodel\u001b[0m \u001b[0;34m=\u001b[0m \u001b[0mself\u001b[0m\u001b[0;34m.\u001b[0m\u001b[0mhypermodel\u001b[0m\u001b[0;34m.\u001b[0m\u001b[0mbuild\u001b[0m\u001b[0;34m(\u001b[0m\u001b[0mtrial\u001b[0m\u001b[0;34m.\u001b[0m\u001b[0mhyperparameters\u001b[0m\u001b[0;34m)\u001b[0m\u001b[0;34m\u001b[0m\u001b[0;34m\u001b[0m\u001b[0m\n\u001b[0;32m---> 96\u001b[0;31m             \u001b[0mhistory\u001b[0m \u001b[0;34m=\u001b[0m \u001b[0mmodel\u001b[0m\u001b[0;34m.\u001b[0m\u001b[0mfit\u001b[0m\u001b[0;34m(\u001b[0m\u001b[0;34m*\u001b[0m\u001b[0mfit_args\u001b[0m\u001b[0;34m,\u001b[0m \u001b[0;34m**\u001b[0m\u001b[0mcopied_fit_kwargs\u001b[0m\u001b[0;34m)\u001b[0m\u001b[0;34m\u001b[0m\u001b[0;34m\u001b[0m\u001b[0m\n\u001b[0m\u001b[1;32m     97\u001b[0m             \u001b[0;32mfor\u001b[0m \u001b[0mmetric\u001b[0m\u001b[0;34m,\u001b[0m \u001b[0mepoch_values\u001b[0m \u001b[0;32min\u001b[0m \u001b[0mhistory\u001b[0m\u001b[0;34m.\u001b[0m\u001b[0mhistory\u001b[0m\u001b[0;34m.\u001b[0m\u001b[0mitems\u001b[0m\u001b[0;34m(\u001b[0m\u001b[0;34m)\u001b[0m\u001b[0;34m:\u001b[0m\u001b[0;34m\u001b[0m\u001b[0;34m\u001b[0m\u001b[0m\n\u001b[1;32m     98\u001b[0m                 \u001b[0;32mif\u001b[0m \u001b[0mself\u001b[0m\u001b[0;34m.\u001b[0m\u001b[0moracle\u001b[0m\u001b[0;34m.\u001b[0m\u001b[0mobjective\u001b[0m\u001b[0;34m.\u001b[0m\u001b[0mdirection\u001b[0m \u001b[0;34m==\u001b[0m \u001b[0;34m'min'\u001b[0m\u001b[0;34m:\u001b[0m\u001b[0;34m\u001b[0m\u001b[0;34m\u001b[0m\u001b[0m\n",
      "\u001b[0;32m/opt/anaconda3/envs/U4-S1-NLP/lib/python3.8/site-packages/wandb/integration/keras/keras.py\u001b[0m in \u001b[0;36mnew_v2\u001b[0;34m(*args, **kwargs)\u001b[0m\n\u001b[1;32m    118\u001b[0m             \u001b[0;32mfor\u001b[0m \u001b[0mcbk\u001b[0m \u001b[0;32min\u001b[0m \u001b[0mcbks\u001b[0m\u001b[0;34m:\u001b[0m\u001b[0;34m\u001b[0m\u001b[0;34m\u001b[0m\u001b[0m\n\u001b[1;32m    119\u001b[0m                 \u001b[0mset_wandb_attrs\u001b[0m\u001b[0;34m(\u001b[0m\u001b[0mcbk\u001b[0m\u001b[0;34m,\u001b[0m \u001b[0mval_data\u001b[0m\u001b[0;34m)\u001b[0m\u001b[0;34m\u001b[0m\u001b[0;34m\u001b[0m\u001b[0m\n\u001b[0;32m--> 120\u001b[0;31m         \u001b[0;32mreturn\u001b[0m \u001b[0mold_v2\u001b[0m\u001b[0;34m(\u001b[0m\u001b[0;34m*\u001b[0m\u001b[0margs\u001b[0m\u001b[0;34m,\u001b[0m \u001b[0;34m**\u001b[0m\u001b[0mkwargs\u001b[0m\u001b[0;34m)\u001b[0m\u001b[0;34m\u001b[0m\u001b[0;34m\u001b[0m\u001b[0m\n\u001b[0m\u001b[1;32m    121\u001b[0m \u001b[0;34m\u001b[0m\u001b[0m\n\u001b[1;32m    122\u001b[0m     \u001b[0mtraining_arrays\u001b[0m\u001b[0;34m.\u001b[0m\u001b[0morig_fit_loop\u001b[0m \u001b[0;34m=\u001b[0m \u001b[0mold_arrays\u001b[0m\u001b[0;34m\u001b[0m\u001b[0;34m\u001b[0m\u001b[0m\n",
      "\u001b[0;32m/opt/anaconda3/envs/U4-S1-NLP/lib/python3.8/site-packages/tensorflow/python/keras/engine/training.py\u001b[0m in \u001b[0;36m_method_wrapper\u001b[0;34m(self, *args, **kwargs)\u001b[0m\n\u001b[1;32m    106\u001b[0m   \u001b[0;32mdef\u001b[0m \u001b[0m_method_wrapper\u001b[0m\u001b[0;34m(\u001b[0m\u001b[0mself\u001b[0m\u001b[0;34m,\u001b[0m \u001b[0;34m*\u001b[0m\u001b[0margs\u001b[0m\u001b[0;34m,\u001b[0m \u001b[0;34m**\u001b[0m\u001b[0mkwargs\u001b[0m\u001b[0;34m)\u001b[0m\u001b[0;34m:\u001b[0m\u001b[0;34m\u001b[0m\u001b[0;34m\u001b[0m\u001b[0m\n\u001b[1;32m    107\u001b[0m     \u001b[0;32mif\u001b[0m \u001b[0;32mnot\u001b[0m \u001b[0mself\u001b[0m\u001b[0;34m.\u001b[0m\u001b[0m_in_multi_worker_mode\u001b[0m\u001b[0;34m(\u001b[0m\u001b[0;34m)\u001b[0m\u001b[0;34m:\u001b[0m  \u001b[0;31m# pylint: disable=protected-access\u001b[0m\u001b[0;34m\u001b[0m\u001b[0;34m\u001b[0m\u001b[0m\n\u001b[0;32m--> 108\u001b[0;31m       \u001b[0;32mreturn\u001b[0m \u001b[0mmethod\u001b[0m\u001b[0;34m(\u001b[0m\u001b[0mself\u001b[0m\u001b[0;34m,\u001b[0m \u001b[0;34m*\u001b[0m\u001b[0margs\u001b[0m\u001b[0;34m,\u001b[0m \u001b[0;34m**\u001b[0m\u001b[0mkwargs\u001b[0m\u001b[0;34m)\u001b[0m\u001b[0;34m\u001b[0m\u001b[0;34m\u001b[0m\u001b[0m\n\u001b[0m\u001b[1;32m    109\u001b[0m \u001b[0;34m\u001b[0m\u001b[0m\n\u001b[1;32m    110\u001b[0m     \u001b[0;31m# Running inside `run_distribute_coordinator` already.\u001b[0m\u001b[0;34m\u001b[0m\u001b[0;34m\u001b[0m\u001b[0;34m\u001b[0m\u001b[0m\n",
      "\u001b[0;32m/opt/anaconda3/envs/U4-S1-NLP/lib/python3.8/site-packages/tensorflow/python/keras/engine/training.py\u001b[0m in \u001b[0;36mfit\u001b[0;34m(self, x, y, batch_size, epochs, verbose, callbacks, validation_split, validation_data, shuffle, class_weight, sample_weight, initial_epoch, steps_per_epoch, validation_steps, validation_batch_size, validation_freq, max_queue_size, workers, use_multiprocessing)\u001b[0m\n\u001b[1;32m   1096\u001b[0m                 batch_size=batch_size):\n\u001b[1;32m   1097\u001b[0m               \u001b[0mcallbacks\u001b[0m\u001b[0;34m.\u001b[0m\u001b[0mon_train_batch_begin\u001b[0m\u001b[0;34m(\u001b[0m\u001b[0mstep\u001b[0m\u001b[0;34m)\u001b[0m\u001b[0;34m\u001b[0m\u001b[0;34m\u001b[0m\u001b[0m\n\u001b[0;32m-> 1098\u001b[0;31m               \u001b[0mtmp_logs\u001b[0m \u001b[0;34m=\u001b[0m \u001b[0mtrain_function\u001b[0m\u001b[0;34m(\u001b[0m\u001b[0miterator\u001b[0m\u001b[0;34m)\u001b[0m\u001b[0;34m\u001b[0m\u001b[0;34m\u001b[0m\u001b[0m\n\u001b[0m\u001b[1;32m   1099\u001b[0m               \u001b[0;32mif\u001b[0m \u001b[0mdata_handler\u001b[0m\u001b[0;34m.\u001b[0m\u001b[0mshould_sync\u001b[0m\u001b[0;34m:\u001b[0m\u001b[0;34m\u001b[0m\u001b[0;34m\u001b[0m\u001b[0m\n\u001b[1;32m   1100\u001b[0m                 \u001b[0mcontext\u001b[0m\u001b[0;34m.\u001b[0m\u001b[0masync_wait\u001b[0m\u001b[0;34m(\u001b[0m\u001b[0;34m)\u001b[0m\u001b[0;34m\u001b[0m\u001b[0;34m\u001b[0m\u001b[0m\n",
      "\u001b[0;32m/opt/anaconda3/envs/U4-S1-NLP/lib/python3.8/site-packages/tensorflow/python/eager/def_function.py\u001b[0m in \u001b[0;36m__call__\u001b[0;34m(self, *args, **kwds)\u001b[0m\n\u001b[1;32m    778\u001b[0m       \u001b[0;32melse\u001b[0m\u001b[0;34m:\u001b[0m\u001b[0;34m\u001b[0m\u001b[0;34m\u001b[0m\u001b[0m\n\u001b[1;32m    779\u001b[0m         \u001b[0mcompiler\u001b[0m \u001b[0;34m=\u001b[0m \u001b[0;34m\"nonXla\"\u001b[0m\u001b[0;34m\u001b[0m\u001b[0;34m\u001b[0m\u001b[0m\n\u001b[0;32m--> 780\u001b[0;31m         \u001b[0mresult\u001b[0m \u001b[0;34m=\u001b[0m \u001b[0mself\u001b[0m\u001b[0;34m.\u001b[0m\u001b[0m_call\u001b[0m\u001b[0;34m(\u001b[0m\u001b[0;34m*\u001b[0m\u001b[0margs\u001b[0m\u001b[0;34m,\u001b[0m \u001b[0;34m**\u001b[0m\u001b[0mkwds\u001b[0m\u001b[0;34m)\u001b[0m\u001b[0;34m\u001b[0m\u001b[0;34m\u001b[0m\u001b[0m\n\u001b[0m\u001b[1;32m    781\u001b[0m \u001b[0;34m\u001b[0m\u001b[0m\n\u001b[1;32m    782\u001b[0m       \u001b[0mnew_tracing_count\u001b[0m \u001b[0;34m=\u001b[0m \u001b[0mself\u001b[0m\u001b[0;34m.\u001b[0m\u001b[0m_get_tracing_count\u001b[0m\u001b[0;34m(\u001b[0m\u001b[0;34m)\u001b[0m\u001b[0;34m\u001b[0m\u001b[0;34m\u001b[0m\u001b[0m\n",
      "\u001b[0;32m/opt/anaconda3/envs/U4-S1-NLP/lib/python3.8/site-packages/tensorflow/python/eager/def_function.py\u001b[0m in \u001b[0;36m_call\u001b[0;34m(self, *args, **kwds)\u001b[0m\n\u001b[1;32m    838\u001b[0m         \u001b[0;31m# Lifting succeeded, so variables are initialized and we can run the\u001b[0m\u001b[0;34m\u001b[0m\u001b[0;34m\u001b[0m\u001b[0;34m\u001b[0m\u001b[0m\n\u001b[1;32m    839\u001b[0m         \u001b[0;31m# stateless function.\u001b[0m\u001b[0;34m\u001b[0m\u001b[0;34m\u001b[0m\u001b[0;34m\u001b[0m\u001b[0m\n\u001b[0;32m--> 840\u001b[0;31m         \u001b[0;32mreturn\u001b[0m \u001b[0mself\u001b[0m\u001b[0;34m.\u001b[0m\u001b[0m_stateless_fn\u001b[0m\u001b[0;34m(\u001b[0m\u001b[0;34m*\u001b[0m\u001b[0margs\u001b[0m\u001b[0;34m,\u001b[0m \u001b[0;34m**\u001b[0m\u001b[0mkwds\u001b[0m\u001b[0;34m)\u001b[0m\u001b[0;34m\u001b[0m\u001b[0;34m\u001b[0m\u001b[0m\n\u001b[0m\u001b[1;32m    841\u001b[0m     \u001b[0;32melse\u001b[0m\u001b[0;34m:\u001b[0m\u001b[0;34m\u001b[0m\u001b[0;34m\u001b[0m\u001b[0m\n\u001b[1;32m    842\u001b[0m       \u001b[0mcanon_args\u001b[0m\u001b[0;34m,\u001b[0m \u001b[0mcanon_kwds\u001b[0m \u001b[0;34m=\u001b[0m\u001b[0;31m \u001b[0m\u001b[0;31m\\\u001b[0m\u001b[0;34m\u001b[0m\u001b[0;34m\u001b[0m\u001b[0m\n",
      "\u001b[0;32m/opt/anaconda3/envs/U4-S1-NLP/lib/python3.8/site-packages/tensorflow/python/eager/function.py\u001b[0m in \u001b[0;36m__call__\u001b[0;34m(self, *args, **kwargs)\u001b[0m\n\u001b[1;32m   2827\u001b[0m     \u001b[0;32mwith\u001b[0m \u001b[0mself\u001b[0m\u001b[0;34m.\u001b[0m\u001b[0m_lock\u001b[0m\u001b[0;34m:\u001b[0m\u001b[0;34m\u001b[0m\u001b[0;34m\u001b[0m\u001b[0m\n\u001b[1;32m   2828\u001b[0m       \u001b[0mgraph_function\u001b[0m\u001b[0;34m,\u001b[0m \u001b[0margs\u001b[0m\u001b[0;34m,\u001b[0m \u001b[0mkwargs\u001b[0m \u001b[0;34m=\u001b[0m \u001b[0mself\u001b[0m\u001b[0;34m.\u001b[0m\u001b[0m_maybe_define_function\u001b[0m\u001b[0;34m(\u001b[0m\u001b[0margs\u001b[0m\u001b[0;34m,\u001b[0m \u001b[0mkwargs\u001b[0m\u001b[0;34m)\u001b[0m\u001b[0;34m\u001b[0m\u001b[0;34m\u001b[0m\u001b[0m\n\u001b[0;32m-> 2829\u001b[0;31m     \u001b[0;32mreturn\u001b[0m \u001b[0mgraph_function\u001b[0m\u001b[0;34m.\u001b[0m\u001b[0m_filtered_call\u001b[0m\u001b[0;34m(\u001b[0m\u001b[0margs\u001b[0m\u001b[0;34m,\u001b[0m \u001b[0mkwargs\u001b[0m\u001b[0;34m)\u001b[0m  \u001b[0;31m# pylint: disable=protected-access\u001b[0m\u001b[0;34m\u001b[0m\u001b[0;34m\u001b[0m\u001b[0m\n\u001b[0m\u001b[1;32m   2830\u001b[0m \u001b[0;34m\u001b[0m\u001b[0m\n\u001b[1;32m   2831\u001b[0m   \u001b[0;34m@\u001b[0m\u001b[0mproperty\u001b[0m\u001b[0;34m\u001b[0m\u001b[0;34m\u001b[0m\u001b[0m\n",
      "\u001b[0;32m/opt/anaconda3/envs/U4-S1-NLP/lib/python3.8/site-packages/tensorflow/python/eager/function.py\u001b[0m in \u001b[0;36m_filtered_call\u001b[0;34m(self, args, kwargs, cancellation_manager)\u001b[0m\n\u001b[1;32m   1841\u001b[0m       \u001b[0;31m`\u001b[0m\u001b[0margs\u001b[0m\u001b[0;31m`\u001b[0m \u001b[0;32mand\u001b[0m\u001b[0;31m \u001b[0m\u001b[0;31m`\u001b[0m\u001b[0mkwargs\u001b[0m\u001b[0;31m`\u001b[0m\u001b[0;34m.\u001b[0m\u001b[0;34m\u001b[0m\u001b[0;34m\u001b[0m\u001b[0m\n\u001b[1;32m   1842\u001b[0m     \"\"\"\n\u001b[0;32m-> 1843\u001b[0;31m     return self._call_flat(\n\u001b[0m\u001b[1;32m   1844\u001b[0m         [t for t in nest.flatten((args, kwargs), expand_composites=True)\n\u001b[1;32m   1845\u001b[0m          if isinstance(t, (ops.Tensor,\n",
      "\u001b[0;32m/opt/anaconda3/envs/U4-S1-NLP/lib/python3.8/site-packages/tensorflow/python/eager/function.py\u001b[0m in \u001b[0;36m_call_flat\u001b[0;34m(self, args, captured_inputs, cancellation_manager)\u001b[0m\n\u001b[1;32m   1921\u001b[0m         and executing_eagerly):\n\u001b[1;32m   1922\u001b[0m       \u001b[0;31m# No tape is watching; skip to running the function.\u001b[0m\u001b[0;34m\u001b[0m\u001b[0;34m\u001b[0m\u001b[0;34m\u001b[0m\u001b[0m\n\u001b[0;32m-> 1923\u001b[0;31m       return self._build_call_outputs(self._inference_function.call(\n\u001b[0m\u001b[1;32m   1924\u001b[0m           ctx, args, cancellation_manager=cancellation_manager))\n\u001b[1;32m   1925\u001b[0m     forward_backward = self._select_forward_and_backward_functions(\n",
      "\u001b[0;32m/opt/anaconda3/envs/U4-S1-NLP/lib/python3.8/site-packages/tensorflow/python/eager/function.py\u001b[0m in \u001b[0;36mcall\u001b[0;34m(self, ctx, args, cancellation_manager)\u001b[0m\n\u001b[1;32m    543\u001b[0m       \u001b[0;32mwith\u001b[0m \u001b[0m_InterpolateFunctionError\u001b[0m\u001b[0;34m(\u001b[0m\u001b[0mself\u001b[0m\u001b[0;34m)\u001b[0m\u001b[0;34m:\u001b[0m\u001b[0;34m\u001b[0m\u001b[0;34m\u001b[0m\u001b[0m\n\u001b[1;32m    544\u001b[0m         \u001b[0;32mif\u001b[0m \u001b[0mcancellation_manager\u001b[0m \u001b[0;32mis\u001b[0m \u001b[0;32mNone\u001b[0m\u001b[0;34m:\u001b[0m\u001b[0;34m\u001b[0m\u001b[0;34m\u001b[0m\u001b[0m\n\u001b[0;32m--> 545\u001b[0;31m           outputs = execute.execute(\n\u001b[0m\u001b[1;32m    546\u001b[0m               \u001b[0mstr\u001b[0m\u001b[0;34m(\u001b[0m\u001b[0mself\u001b[0m\u001b[0;34m.\u001b[0m\u001b[0msignature\u001b[0m\u001b[0;34m.\u001b[0m\u001b[0mname\u001b[0m\u001b[0;34m)\u001b[0m\u001b[0;34m,\u001b[0m\u001b[0;34m\u001b[0m\u001b[0;34m\u001b[0m\u001b[0m\n\u001b[1;32m    547\u001b[0m               \u001b[0mnum_outputs\u001b[0m\u001b[0;34m=\u001b[0m\u001b[0mself\u001b[0m\u001b[0;34m.\u001b[0m\u001b[0m_num_outputs\u001b[0m\u001b[0;34m,\u001b[0m\u001b[0;34m\u001b[0m\u001b[0;34m\u001b[0m\u001b[0m\n",
      "\u001b[0;32m/opt/anaconda3/envs/U4-S1-NLP/lib/python3.8/site-packages/tensorflow/python/eager/execute.py\u001b[0m in \u001b[0;36mquick_execute\u001b[0;34m(op_name, num_outputs, inputs, attrs, ctx, name)\u001b[0m\n\u001b[1;32m     57\u001b[0m   \u001b[0;32mtry\u001b[0m\u001b[0;34m:\u001b[0m\u001b[0;34m\u001b[0m\u001b[0;34m\u001b[0m\u001b[0m\n\u001b[1;32m     58\u001b[0m     \u001b[0mctx\u001b[0m\u001b[0;34m.\u001b[0m\u001b[0mensure_initialized\u001b[0m\u001b[0;34m(\u001b[0m\u001b[0;34m)\u001b[0m\u001b[0;34m\u001b[0m\u001b[0;34m\u001b[0m\u001b[0m\n\u001b[0;32m---> 59\u001b[0;31m     tensors = pywrap_tfe.TFE_Py_Execute(ctx._handle, device_name, op_name,\n\u001b[0m\u001b[1;32m     60\u001b[0m                                         inputs, attrs, num_outputs)\n\u001b[1;32m     61\u001b[0m   \u001b[0;32mexcept\u001b[0m \u001b[0mcore\u001b[0m\u001b[0;34m.\u001b[0m\u001b[0m_NotOkStatusException\u001b[0m \u001b[0;32mas\u001b[0m \u001b[0me\u001b[0m\u001b[0;34m:\u001b[0m\u001b[0;34m\u001b[0m\u001b[0;34m\u001b[0m\u001b[0m\n",
      "\u001b[0;31mInvalidArgumentError\u001b[0m:  Received a label value of 9 which is outside the valid range of [0, 1).  Label values: 9 0 7 1 1 2 6 2 9 3 8 8 2 9 5 1 6 7 4 2 5 4 1 0 1 2 2 6 2 7 8 4\n\t [[node sparse_categorical_crossentropy/SparseSoftmaxCrossEntropyWithLogits/SparseSoftmaxCrossEntropyWithLogits (defined at /opt/anaconda3/envs/U4-S1-NLP/lib/python3.8/site-packages/wandb/integration/keras/keras.py:120) ]] [Op:__inference_train_function_3273016]\n\nFunction call stack:\ntrain_function\n"
     ]
    }
   ],
   "source": [
    "random_search_params(tune_layers_model, project_name=\"tune_layers\")"
   ]
  },
  {
   "cell_type": "code",
   "execution_count": 50,
   "metadata": {
    "id": "2ZSe5GSNc4Nx"
   },
   "outputs": [],
   "source": [
    "def tune_weight_init_model(hp):\n",
    "    model = keras.Sequential()\n",
    "\n",
    "    weight_init = hp.Choice('weight_init', \n",
    "                            ['uniform', 'lecun_uniform', 'normal', 'zero', 'glorot_normal', 'glorot_uniform', 'he_normal', 'he_uniform'])\n",
    "\n",
    "    model.add(keras.layers.Dense(units=32,\n",
    "                                 activation=\"relu\",\n",
    "                                 kernel_initializer=weight_init,\n",
    "                                 input_shape=[X_train.shape[1]]))\n",
    "\n",
    "    model.add(keras.layers.Dense(1, activation='sigmoid'))\n",
    "\n",
    "    model.compile(\n",
    "        optimizer=\"adam\",\n",
    "        loss = 'sparse_categorical_crossentropy', \n",
    "        metrics = ['accuracy'])\n",
    "    return model"
   ]
  },
  {
   "cell_type": "code",
   "execution_count": 51,
   "metadata": {
    "id": "sf8BJC21dnqR"
   },
   "outputs": [
    {
     "data": {
      "text/html": [
       "<span style=\"color:#4527A0\"><h1 style=\"font-size:18px\">Search space summary</h1></span>"
      ],
      "text/plain": [
       "<IPython.core.display.HTML object>"
      ]
     },
     "metadata": {},
     "output_type": "display_data"
    },
    {
     "data": {
      "text/html": [
       "<span style=\"color:cyan\"> |-Default search space size: 1</span>"
      ],
      "text/plain": [
       "<IPython.core.display.HTML object>"
      ]
     },
     "metadata": {},
     "output_type": "display_data"
    },
    {
     "data": {
      "text/html": [
       "<span style=\"color:#7E57C2\"><h2 style=\"font-size:16px\">weight_init (Choice)</h2></span>"
      ],
      "text/plain": [
       "<IPython.core.display.HTML object>"
      ]
     },
     "metadata": {},
     "output_type": "display_data"
    },
    {
     "data": {
      "text/html": [
       "<span style=\"color:cyan\"> |-default: uniform</span>"
      ],
      "text/plain": [
       "<IPython.core.display.HTML object>"
      ]
     },
     "metadata": {},
     "output_type": "display_data"
    },
    {
     "data": {
      "text/html": [
       "<span style=\"color:blue\"> |-ordered: False</span>"
      ],
      "text/plain": [
       "<IPython.core.display.HTML object>"
      ]
     },
     "metadata": {},
     "output_type": "display_data"
    },
    {
     "data": {
      "text/html": [
       "<span style=\"color:cyan\"> |-values: ['uniform', 'lecun_uniform', 'normal', 'zero', 'glorot_normal', 'glorot_uniform', 'he_normal', 'he_uniform']</span>"
      ],
      "text/plain": [
       "<IPython.core.display.HTML object>"
      ]
     },
     "metadata": {},
     "output_type": "display_data"
    },
    {
     "name": "stdout",
     "output_type": "stream",
     "text": [
      "Epoch 1/20\n"
     ]
    },
    {
     "ename": "InvalidArgumentError",
     "evalue": " Received a label value of 9 which is outside the valid range of [0, 1).  Label values: 0 1 5 8 6 3 4 7 7 0 7 3 9 1 1 5 6 5 2 3 1 2 8 4 5 6 1 5 3 9 7 1\n\t [[node sparse_categorical_crossentropy/SparseSoftmaxCrossEntropyWithLogits/SparseSoftmaxCrossEntropyWithLogits (defined at /opt/anaconda3/envs/U4-S1-NLP/lib/python3.8/site-packages/wandb/integration/keras/keras.py:120) ]] [Op:__inference_train_function_3273700]\n\nFunction call stack:\ntrain_function\n",
     "output_type": "error",
     "traceback": [
      "\u001b[0;31m---------------------------------------------------------------------------\u001b[0m",
      "\u001b[0;31mInvalidArgumentError\u001b[0m                      Traceback (most recent call last)",
      "\u001b[0;32m<ipython-input-51-caef6b5b8007>\u001b[0m in \u001b[0;36m<module>\u001b[0;34m\u001b[0m\n\u001b[0;32m----> 1\u001b[0;31m \u001b[0mrandom_search_params\u001b[0m\u001b[0;34m(\u001b[0m\u001b[0mtune_weight_init_model\u001b[0m\u001b[0;34m,\u001b[0m \u001b[0mproject_name\u001b[0m\u001b[0;34m=\u001b[0m\u001b[0;34m\"tune_weight_init\"\u001b[0m\u001b[0;34m)\u001b[0m\u001b[0;34m\u001b[0m\u001b[0;34m\u001b[0m\u001b[0m\n\u001b[0m",
      "\u001b[0;32m<ipython-input-44-95dad3b360f7>\u001b[0m in \u001b[0;36mrandom_search_params\u001b[0;34m(model_builder, project_name)\u001b[0m\n\u001b[1;32m      1\u001b[0m \u001b[0;32mdef\u001b[0m \u001b[0mrandom_search_params\u001b[0m\u001b[0;34m(\u001b[0m\u001b[0mmodel_builder\u001b[0m\u001b[0;34m,\u001b[0m \u001b[0mproject_name\u001b[0m\u001b[0;34m)\u001b[0m\u001b[0;34m:\u001b[0m\u001b[0;34m\u001b[0m\u001b[0;34m\u001b[0m\u001b[0m\n\u001b[1;32m      2\u001b[0m   \u001b[0mtuner\u001b[0m \u001b[0;34m=\u001b[0m \u001b[0mcreate_random_tuner\u001b[0m\u001b[0;34m(\u001b[0m\u001b[0mmodel_builder\u001b[0m\u001b[0;34m,\u001b[0m \u001b[0mproject_name\u001b[0m\u001b[0;34m)\u001b[0m\u001b[0;34m\u001b[0m\u001b[0;34m\u001b[0m\u001b[0m\n\u001b[0;32m----> 3\u001b[0;31m   tuner.search(x=X_train,\n\u001b[0m\u001b[1;32m      4\u001b[0m              \u001b[0my\u001b[0m\u001b[0;34m=\u001b[0m\u001b[0my_train\u001b[0m\u001b[0;34m,\u001b[0m\u001b[0;34m\u001b[0m\u001b[0;34m\u001b[0m\u001b[0m\n\u001b[1;32m      5\u001b[0m              \u001b[0mepochs\u001b[0m\u001b[0;34m=\u001b[0m\u001b[0mTRAIN_EPOCHS\u001b[0m\u001b[0;34m,\u001b[0m\u001b[0;34m\u001b[0m\u001b[0;34m\u001b[0m\u001b[0m\n",
      "\u001b[0;32m/opt/anaconda3/envs/U4-S1-NLP/lib/python3.8/site-packages/kerastuner/engine/base_tuner.py\u001b[0m in \u001b[0;36msearch\u001b[0;34m(self, *fit_args, **fit_kwargs)\u001b[0m\n\u001b[1;32m    128\u001b[0m \u001b[0;34m\u001b[0m\u001b[0m\n\u001b[1;32m    129\u001b[0m             \u001b[0mself\u001b[0m\u001b[0;34m.\u001b[0m\u001b[0mon_trial_begin\u001b[0m\u001b[0;34m(\u001b[0m\u001b[0mtrial\u001b[0m\u001b[0;34m)\u001b[0m\u001b[0;34m\u001b[0m\u001b[0;34m\u001b[0m\u001b[0m\n\u001b[0;32m--> 130\u001b[0;31m             \u001b[0mself\u001b[0m\u001b[0;34m.\u001b[0m\u001b[0mrun_trial\u001b[0m\u001b[0;34m(\u001b[0m\u001b[0mtrial\u001b[0m\u001b[0;34m,\u001b[0m \u001b[0;34m*\u001b[0m\u001b[0mfit_args\u001b[0m\u001b[0;34m,\u001b[0m \u001b[0;34m**\u001b[0m\u001b[0mfit_kwargs\u001b[0m\u001b[0;34m)\u001b[0m\u001b[0;34m\u001b[0m\u001b[0;34m\u001b[0m\u001b[0m\n\u001b[0m\u001b[1;32m    131\u001b[0m             \u001b[0mself\u001b[0m\u001b[0;34m.\u001b[0m\u001b[0mon_trial_end\u001b[0m\u001b[0;34m(\u001b[0m\u001b[0mtrial\u001b[0m\u001b[0;34m)\u001b[0m\u001b[0;34m\u001b[0m\u001b[0;34m\u001b[0m\u001b[0m\n\u001b[1;32m    132\u001b[0m         \u001b[0mself\u001b[0m\u001b[0;34m.\u001b[0m\u001b[0mon_search_end\u001b[0m\u001b[0;34m(\u001b[0m\u001b[0;34m)\u001b[0m\u001b[0;34m\u001b[0m\u001b[0;34m\u001b[0m\u001b[0m\n",
      "\u001b[0;32m/opt/anaconda3/envs/U4-S1-NLP/lib/python3.8/site-packages/kerastuner/engine/multi_execution_tuner.py\u001b[0m in \u001b[0;36mrun_trial\u001b[0;34m(self, trial, *fit_args, **fit_kwargs)\u001b[0m\n\u001b[1;32m     94\u001b[0m \u001b[0;34m\u001b[0m\u001b[0m\n\u001b[1;32m     95\u001b[0m             \u001b[0mmodel\u001b[0m \u001b[0;34m=\u001b[0m \u001b[0mself\u001b[0m\u001b[0;34m.\u001b[0m\u001b[0mhypermodel\u001b[0m\u001b[0;34m.\u001b[0m\u001b[0mbuild\u001b[0m\u001b[0;34m(\u001b[0m\u001b[0mtrial\u001b[0m\u001b[0;34m.\u001b[0m\u001b[0mhyperparameters\u001b[0m\u001b[0;34m)\u001b[0m\u001b[0;34m\u001b[0m\u001b[0;34m\u001b[0m\u001b[0m\n\u001b[0;32m---> 96\u001b[0;31m             \u001b[0mhistory\u001b[0m \u001b[0;34m=\u001b[0m \u001b[0mmodel\u001b[0m\u001b[0;34m.\u001b[0m\u001b[0mfit\u001b[0m\u001b[0;34m(\u001b[0m\u001b[0;34m*\u001b[0m\u001b[0mfit_args\u001b[0m\u001b[0;34m,\u001b[0m \u001b[0;34m**\u001b[0m\u001b[0mcopied_fit_kwargs\u001b[0m\u001b[0;34m)\u001b[0m\u001b[0;34m\u001b[0m\u001b[0;34m\u001b[0m\u001b[0m\n\u001b[0m\u001b[1;32m     97\u001b[0m             \u001b[0;32mfor\u001b[0m \u001b[0mmetric\u001b[0m\u001b[0;34m,\u001b[0m \u001b[0mepoch_values\u001b[0m \u001b[0;32min\u001b[0m \u001b[0mhistory\u001b[0m\u001b[0;34m.\u001b[0m\u001b[0mhistory\u001b[0m\u001b[0;34m.\u001b[0m\u001b[0mitems\u001b[0m\u001b[0;34m(\u001b[0m\u001b[0;34m)\u001b[0m\u001b[0;34m:\u001b[0m\u001b[0;34m\u001b[0m\u001b[0;34m\u001b[0m\u001b[0m\n\u001b[1;32m     98\u001b[0m                 \u001b[0;32mif\u001b[0m \u001b[0mself\u001b[0m\u001b[0;34m.\u001b[0m\u001b[0moracle\u001b[0m\u001b[0;34m.\u001b[0m\u001b[0mobjective\u001b[0m\u001b[0;34m.\u001b[0m\u001b[0mdirection\u001b[0m \u001b[0;34m==\u001b[0m \u001b[0;34m'min'\u001b[0m\u001b[0;34m:\u001b[0m\u001b[0;34m\u001b[0m\u001b[0;34m\u001b[0m\u001b[0m\n",
      "\u001b[0;32m/opt/anaconda3/envs/U4-S1-NLP/lib/python3.8/site-packages/wandb/integration/keras/keras.py\u001b[0m in \u001b[0;36mnew_v2\u001b[0;34m(*args, **kwargs)\u001b[0m\n\u001b[1;32m    118\u001b[0m             \u001b[0;32mfor\u001b[0m \u001b[0mcbk\u001b[0m \u001b[0;32min\u001b[0m \u001b[0mcbks\u001b[0m\u001b[0;34m:\u001b[0m\u001b[0;34m\u001b[0m\u001b[0;34m\u001b[0m\u001b[0m\n\u001b[1;32m    119\u001b[0m                 \u001b[0mset_wandb_attrs\u001b[0m\u001b[0;34m(\u001b[0m\u001b[0mcbk\u001b[0m\u001b[0;34m,\u001b[0m \u001b[0mval_data\u001b[0m\u001b[0;34m)\u001b[0m\u001b[0;34m\u001b[0m\u001b[0;34m\u001b[0m\u001b[0m\n\u001b[0;32m--> 120\u001b[0;31m         \u001b[0;32mreturn\u001b[0m \u001b[0mold_v2\u001b[0m\u001b[0;34m(\u001b[0m\u001b[0;34m*\u001b[0m\u001b[0margs\u001b[0m\u001b[0;34m,\u001b[0m \u001b[0;34m**\u001b[0m\u001b[0mkwargs\u001b[0m\u001b[0;34m)\u001b[0m\u001b[0;34m\u001b[0m\u001b[0;34m\u001b[0m\u001b[0m\n\u001b[0m\u001b[1;32m    121\u001b[0m \u001b[0;34m\u001b[0m\u001b[0m\n\u001b[1;32m    122\u001b[0m     \u001b[0mtraining_arrays\u001b[0m\u001b[0;34m.\u001b[0m\u001b[0morig_fit_loop\u001b[0m \u001b[0;34m=\u001b[0m \u001b[0mold_arrays\u001b[0m\u001b[0;34m\u001b[0m\u001b[0;34m\u001b[0m\u001b[0m\n",
      "\u001b[0;32m/opt/anaconda3/envs/U4-S1-NLP/lib/python3.8/site-packages/tensorflow/python/keras/engine/training.py\u001b[0m in \u001b[0;36m_method_wrapper\u001b[0;34m(self, *args, **kwargs)\u001b[0m\n\u001b[1;32m    106\u001b[0m   \u001b[0;32mdef\u001b[0m \u001b[0m_method_wrapper\u001b[0m\u001b[0;34m(\u001b[0m\u001b[0mself\u001b[0m\u001b[0;34m,\u001b[0m \u001b[0;34m*\u001b[0m\u001b[0margs\u001b[0m\u001b[0;34m,\u001b[0m \u001b[0;34m**\u001b[0m\u001b[0mkwargs\u001b[0m\u001b[0;34m)\u001b[0m\u001b[0;34m:\u001b[0m\u001b[0;34m\u001b[0m\u001b[0;34m\u001b[0m\u001b[0m\n\u001b[1;32m    107\u001b[0m     \u001b[0;32mif\u001b[0m \u001b[0;32mnot\u001b[0m \u001b[0mself\u001b[0m\u001b[0;34m.\u001b[0m\u001b[0m_in_multi_worker_mode\u001b[0m\u001b[0;34m(\u001b[0m\u001b[0;34m)\u001b[0m\u001b[0;34m:\u001b[0m  \u001b[0;31m# pylint: disable=protected-access\u001b[0m\u001b[0;34m\u001b[0m\u001b[0;34m\u001b[0m\u001b[0m\n\u001b[0;32m--> 108\u001b[0;31m       \u001b[0;32mreturn\u001b[0m \u001b[0mmethod\u001b[0m\u001b[0;34m(\u001b[0m\u001b[0mself\u001b[0m\u001b[0;34m,\u001b[0m \u001b[0;34m*\u001b[0m\u001b[0margs\u001b[0m\u001b[0;34m,\u001b[0m \u001b[0;34m**\u001b[0m\u001b[0mkwargs\u001b[0m\u001b[0;34m)\u001b[0m\u001b[0;34m\u001b[0m\u001b[0;34m\u001b[0m\u001b[0m\n\u001b[0m\u001b[1;32m    109\u001b[0m \u001b[0;34m\u001b[0m\u001b[0m\n\u001b[1;32m    110\u001b[0m     \u001b[0;31m# Running inside `run_distribute_coordinator` already.\u001b[0m\u001b[0;34m\u001b[0m\u001b[0;34m\u001b[0m\u001b[0;34m\u001b[0m\u001b[0m\n",
      "\u001b[0;32m/opt/anaconda3/envs/U4-S1-NLP/lib/python3.8/site-packages/tensorflow/python/keras/engine/training.py\u001b[0m in \u001b[0;36mfit\u001b[0;34m(self, x, y, batch_size, epochs, verbose, callbacks, validation_split, validation_data, shuffle, class_weight, sample_weight, initial_epoch, steps_per_epoch, validation_steps, validation_batch_size, validation_freq, max_queue_size, workers, use_multiprocessing)\u001b[0m\n\u001b[1;32m   1096\u001b[0m                 batch_size=batch_size):\n\u001b[1;32m   1097\u001b[0m               \u001b[0mcallbacks\u001b[0m\u001b[0;34m.\u001b[0m\u001b[0mon_train_batch_begin\u001b[0m\u001b[0;34m(\u001b[0m\u001b[0mstep\u001b[0m\u001b[0;34m)\u001b[0m\u001b[0;34m\u001b[0m\u001b[0;34m\u001b[0m\u001b[0m\n\u001b[0;32m-> 1098\u001b[0;31m               \u001b[0mtmp_logs\u001b[0m \u001b[0;34m=\u001b[0m \u001b[0mtrain_function\u001b[0m\u001b[0;34m(\u001b[0m\u001b[0miterator\u001b[0m\u001b[0;34m)\u001b[0m\u001b[0;34m\u001b[0m\u001b[0;34m\u001b[0m\u001b[0m\n\u001b[0m\u001b[1;32m   1099\u001b[0m               \u001b[0;32mif\u001b[0m \u001b[0mdata_handler\u001b[0m\u001b[0;34m.\u001b[0m\u001b[0mshould_sync\u001b[0m\u001b[0;34m:\u001b[0m\u001b[0;34m\u001b[0m\u001b[0;34m\u001b[0m\u001b[0m\n\u001b[1;32m   1100\u001b[0m                 \u001b[0mcontext\u001b[0m\u001b[0;34m.\u001b[0m\u001b[0masync_wait\u001b[0m\u001b[0;34m(\u001b[0m\u001b[0;34m)\u001b[0m\u001b[0;34m\u001b[0m\u001b[0;34m\u001b[0m\u001b[0m\n",
      "\u001b[0;32m/opt/anaconda3/envs/U4-S1-NLP/lib/python3.8/site-packages/tensorflow/python/eager/def_function.py\u001b[0m in \u001b[0;36m__call__\u001b[0;34m(self, *args, **kwds)\u001b[0m\n\u001b[1;32m    778\u001b[0m       \u001b[0;32melse\u001b[0m\u001b[0;34m:\u001b[0m\u001b[0;34m\u001b[0m\u001b[0;34m\u001b[0m\u001b[0m\n\u001b[1;32m    779\u001b[0m         \u001b[0mcompiler\u001b[0m \u001b[0;34m=\u001b[0m \u001b[0;34m\"nonXla\"\u001b[0m\u001b[0;34m\u001b[0m\u001b[0;34m\u001b[0m\u001b[0m\n\u001b[0;32m--> 780\u001b[0;31m         \u001b[0mresult\u001b[0m \u001b[0;34m=\u001b[0m \u001b[0mself\u001b[0m\u001b[0;34m.\u001b[0m\u001b[0m_call\u001b[0m\u001b[0;34m(\u001b[0m\u001b[0;34m*\u001b[0m\u001b[0margs\u001b[0m\u001b[0;34m,\u001b[0m \u001b[0;34m**\u001b[0m\u001b[0mkwds\u001b[0m\u001b[0;34m)\u001b[0m\u001b[0;34m\u001b[0m\u001b[0;34m\u001b[0m\u001b[0m\n\u001b[0m\u001b[1;32m    781\u001b[0m \u001b[0;34m\u001b[0m\u001b[0m\n\u001b[1;32m    782\u001b[0m       \u001b[0mnew_tracing_count\u001b[0m \u001b[0;34m=\u001b[0m \u001b[0mself\u001b[0m\u001b[0;34m.\u001b[0m\u001b[0m_get_tracing_count\u001b[0m\u001b[0;34m(\u001b[0m\u001b[0;34m)\u001b[0m\u001b[0;34m\u001b[0m\u001b[0;34m\u001b[0m\u001b[0m\n",
      "\u001b[0;32m/opt/anaconda3/envs/U4-S1-NLP/lib/python3.8/site-packages/tensorflow/python/eager/def_function.py\u001b[0m in \u001b[0;36m_call\u001b[0;34m(self, *args, **kwds)\u001b[0m\n\u001b[1;32m    838\u001b[0m         \u001b[0;31m# Lifting succeeded, so variables are initialized and we can run the\u001b[0m\u001b[0;34m\u001b[0m\u001b[0;34m\u001b[0m\u001b[0;34m\u001b[0m\u001b[0m\n\u001b[1;32m    839\u001b[0m         \u001b[0;31m# stateless function.\u001b[0m\u001b[0;34m\u001b[0m\u001b[0;34m\u001b[0m\u001b[0;34m\u001b[0m\u001b[0m\n\u001b[0;32m--> 840\u001b[0;31m         \u001b[0;32mreturn\u001b[0m \u001b[0mself\u001b[0m\u001b[0;34m.\u001b[0m\u001b[0m_stateless_fn\u001b[0m\u001b[0;34m(\u001b[0m\u001b[0;34m*\u001b[0m\u001b[0margs\u001b[0m\u001b[0;34m,\u001b[0m \u001b[0;34m**\u001b[0m\u001b[0mkwds\u001b[0m\u001b[0;34m)\u001b[0m\u001b[0;34m\u001b[0m\u001b[0;34m\u001b[0m\u001b[0m\n\u001b[0m\u001b[1;32m    841\u001b[0m     \u001b[0;32melse\u001b[0m\u001b[0;34m:\u001b[0m\u001b[0;34m\u001b[0m\u001b[0;34m\u001b[0m\u001b[0m\n\u001b[1;32m    842\u001b[0m       \u001b[0mcanon_args\u001b[0m\u001b[0;34m,\u001b[0m \u001b[0mcanon_kwds\u001b[0m \u001b[0;34m=\u001b[0m\u001b[0;31m \u001b[0m\u001b[0;31m\\\u001b[0m\u001b[0;34m\u001b[0m\u001b[0;34m\u001b[0m\u001b[0m\n",
      "\u001b[0;32m/opt/anaconda3/envs/U4-S1-NLP/lib/python3.8/site-packages/tensorflow/python/eager/function.py\u001b[0m in \u001b[0;36m__call__\u001b[0;34m(self, *args, **kwargs)\u001b[0m\n\u001b[1;32m   2827\u001b[0m     \u001b[0;32mwith\u001b[0m \u001b[0mself\u001b[0m\u001b[0;34m.\u001b[0m\u001b[0m_lock\u001b[0m\u001b[0;34m:\u001b[0m\u001b[0;34m\u001b[0m\u001b[0;34m\u001b[0m\u001b[0m\n\u001b[1;32m   2828\u001b[0m       \u001b[0mgraph_function\u001b[0m\u001b[0;34m,\u001b[0m \u001b[0margs\u001b[0m\u001b[0;34m,\u001b[0m \u001b[0mkwargs\u001b[0m \u001b[0;34m=\u001b[0m \u001b[0mself\u001b[0m\u001b[0;34m.\u001b[0m\u001b[0m_maybe_define_function\u001b[0m\u001b[0;34m(\u001b[0m\u001b[0margs\u001b[0m\u001b[0;34m,\u001b[0m \u001b[0mkwargs\u001b[0m\u001b[0;34m)\u001b[0m\u001b[0;34m\u001b[0m\u001b[0;34m\u001b[0m\u001b[0m\n\u001b[0;32m-> 2829\u001b[0;31m     \u001b[0;32mreturn\u001b[0m \u001b[0mgraph_function\u001b[0m\u001b[0;34m.\u001b[0m\u001b[0m_filtered_call\u001b[0m\u001b[0;34m(\u001b[0m\u001b[0margs\u001b[0m\u001b[0;34m,\u001b[0m \u001b[0mkwargs\u001b[0m\u001b[0;34m)\u001b[0m  \u001b[0;31m# pylint: disable=protected-access\u001b[0m\u001b[0;34m\u001b[0m\u001b[0;34m\u001b[0m\u001b[0m\n\u001b[0m\u001b[1;32m   2830\u001b[0m \u001b[0;34m\u001b[0m\u001b[0m\n\u001b[1;32m   2831\u001b[0m   \u001b[0;34m@\u001b[0m\u001b[0mproperty\u001b[0m\u001b[0;34m\u001b[0m\u001b[0;34m\u001b[0m\u001b[0m\n",
      "\u001b[0;32m/opt/anaconda3/envs/U4-S1-NLP/lib/python3.8/site-packages/tensorflow/python/eager/function.py\u001b[0m in \u001b[0;36m_filtered_call\u001b[0;34m(self, args, kwargs, cancellation_manager)\u001b[0m\n\u001b[1;32m   1841\u001b[0m       \u001b[0;31m`\u001b[0m\u001b[0margs\u001b[0m\u001b[0;31m`\u001b[0m \u001b[0;32mand\u001b[0m\u001b[0;31m \u001b[0m\u001b[0;31m`\u001b[0m\u001b[0mkwargs\u001b[0m\u001b[0;31m`\u001b[0m\u001b[0;34m.\u001b[0m\u001b[0;34m\u001b[0m\u001b[0;34m\u001b[0m\u001b[0m\n\u001b[1;32m   1842\u001b[0m     \"\"\"\n\u001b[0;32m-> 1843\u001b[0;31m     return self._call_flat(\n\u001b[0m\u001b[1;32m   1844\u001b[0m         [t for t in nest.flatten((args, kwargs), expand_composites=True)\n\u001b[1;32m   1845\u001b[0m          if isinstance(t, (ops.Tensor,\n",
      "\u001b[0;32m/opt/anaconda3/envs/U4-S1-NLP/lib/python3.8/site-packages/tensorflow/python/eager/function.py\u001b[0m in \u001b[0;36m_call_flat\u001b[0;34m(self, args, captured_inputs, cancellation_manager)\u001b[0m\n\u001b[1;32m   1921\u001b[0m         and executing_eagerly):\n\u001b[1;32m   1922\u001b[0m       \u001b[0;31m# No tape is watching; skip to running the function.\u001b[0m\u001b[0;34m\u001b[0m\u001b[0;34m\u001b[0m\u001b[0;34m\u001b[0m\u001b[0m\n\u001b[0;32m-> 1923\u001b[0;31m       return self._build_call_outputs(self._inference_function.call(\n\u001b[0m\u001b[1;32m   1924\u001b[0m           ctx, args, cancellation_manager=cancellation_manager))\n\u001b[1;32m   1925\u001b[0m     forward_backward = self._select_forward_and_backward_functions(\n",
      "\u001b[0;32m/opt/anaconda3/envs/U4-S1-NLP/lib/python3.8/site-packages/tensorflow/python/eager/function.py\u001b[0m in \u001b[0;36mcall\u001b[0;34m(self, ctx, args, cancellation_manager)\u001b[0m\n\u001b[1;32m    543\u001b[0m       \u001b[0;32mwith\u001b[0m \u001b[0m_InterpolateFunctionError\u001b[0m\u001b[0;34m(\u001b[0m\u001b[0mself\u001b[0m\u001b[0;34m)\u001b[0m\u001b[0;34m:\u001b[0m\u001b[0;34m\u001b[0m\u001b[0;34m\u001b[0m\u001b[0m\n\u001b[1;32m    544\u001b[0m         \u001b[0;32mif\u001b[0m \u001b[0mcancellation_manager\u001b[0m \u001b[0;32mis\u001b[0m \u001b[0;32mNone\u001b[0m\u001b[0;34m:\u001b[0m\u001b[0;34m\u001b[0m\u001b[0;34m\u001b[0m\u001b[0m\n\u001b[0;32m--> 545\u001b[0;31m           outputs = execute.execute(\n\u001b[0m\u001b[1;32m    546\u001b[0m               \u001b[0mstr\u001b[0m\u001b[0;34m(\u001b[0m\u001b[0mself\u001b[0m\u001b[0;34m.\u001b[0m\u001b[0msignature\u001b[0m\u001b[0;34m.\u001b[0m\u001b[0mname\u001b[0m\u001b[0;34m)\u001b[0m\u001b[0;34m,\u001b[0m\u001b[0;34m\u001b[0m\u001b[0;34m\u001b[0m\u001b[0m\n\u001b[1;32m    547\u001b[0m               \u001b[0mnum_outputs\u001b[0m\u001b[0;34m=\u001b[0m\u001b[0mself\u001b[0m\u001b[0;34m.\u001b[0m\u001b[0m_num_outputs\u001b[0m\u001b[0;34m,\u001b[0m\u001b[0;34m\u001b[0m\u001b[0;34m\u001b[0m\u001b[0m\n",
      "\u001b[0;32m/opt/anaconda3/envs/U4-S1-NLP/lib/python3.8/site-packages/tensorflow/python/eager/execute.py\u001b[0m in \u001b[0;36mquick_execute\u001b[0;34m(op_name, num_outputs, inputs, attrs, ctx, name)\u001b[0m\n\u001b[1;32m     57\u001b[0m   \u001b[0;32mtry\u001b[0m\u001b[0;34m:\u001b[0m\u001b[0;34m\u001b[0m\u001b[0;34m\u001b[0m\u001b[0m\n\u001b[1;32m     58\u001b[0m     \u001b[0mctx\u001b[0m\u001b[0;34m.\u001b[0m\u001b[0mensure_initialized\u001b[0m\u001b[0;34m(\u001b[0m\u001b[0;34m)\u001b[0m\u001b[0;34m\u001b[0m\u001b[0;34m\u001b[0m\u001b[0m\n\u001b[0;32m---> 59\u001b[0;31m     tensors = pywrap_tfe.TFE_Py_Execute(ctx._handle, device_name, op_name,\n\u001b[0m\u001b[1;32m     60\u001b[0m                                         inputs, attrs, num_outputs)\n\u001b[1;32m     61\u001b[0m   \u001b[0;32mexcept\u001b[0m \u001b[0mcore\u001b[0m\u001b[0;34m.\u001b[0m\u001b[0m_NotOkStatusException\u001b[0m \u001b[0;32mas\u001b[0m \u001b[0me\u001b[0m\u001b[0;34m:\u001b[0m\u001b[0;34m\u001b[0m\u001b[0;34m\u001b[0m\u001b[0m\n",
      "\u001b[0;31mInvalidArgumentError\u001b[0m:  Received a label value of 9 which is outside the valid range of [0, 1).  Label values: 0 1 5 8 6 3 4 7 7 0 7 3 9 1 1 5 6 5 2 3 1 2 8 4 5 6 1 5 3 9 7 1\n\t [[node sparse_categorical_crossentropy/SparseSoftmaxCrossEntropyWithLogits/SparseSoftmaxCrossEntropyWithLogits (defined at /opt/anaconda3/envs/U4-S1-NLP/lib/python3.8/site-packages/wandb/integration/keras/keras.py:120) ]] [Op:__inference_train_function_3273700]\n\nFunction call stack:\ntrain_function\n"
     ]
    }
   ],
   "source": [
    "random_search_params(tune_weight_init_model, project_name=\"tune_weight_init\")"
   ]
  },
  {
   "cell_type": "markdown",
   "metadata": {
    "id": "3RdadQlBbDQ5"
   },
   "source": [
    "# Activation function"
   ]
  },
  {
   "cell_type": "code",
   "execution_count": 52,
   "metadata": {
    "id": "jO7eMq4AeiO2"
   },
   "outputs": [],
   "source": [
    "def tune_act_model(hp):\n",
    "    model = keras.Sequential()\n",
    "\n",
    "    activation = hp.Choice('activation', \n",
    "                            ['softmax', 'softplus', 'softsign', 'relu', 'tanh', 'sigmoid', 'hard_sigmoid', 'linear'])\n",
    "\n",
    "    model.add(keras.layers.Dense(units=32,\n",
    "                                 activation=activation,\n",
    "                                 input_shape=[X_train.shape[1]]))\n",
    "\n",
    "    model.add(keras.layers.Dense(1, activation='sigmoid'))\n",
    "\n",
    "    model.compile(\n",
    "        optimizer=\"adam\",\n",
    "        loss = 'sparse_categorical_crossentropy', \n",
    "        metrics = ['accuracy'])\n",
    "    return model"
   ]
  },
  {
   "cell_type": "code",
   "execution_count": 53,
   "metadata": {
    "id": "uZw1nimGfNaF"
   },
   "outputs": [
    {
     "data": {
      "text/html": [
       "<span style=\"color:#4527A0\"><h1 style=\"font-size:18px\">Search space summary</h1></span>"
      ],
      "text/plain": [
       "<IPython.core.display.HTML object>"
      ]
     },
     "metadata": {},
     "output_type": "display_data"
    },
    {
     "data": {
      "text/html": [
       "<span style=\"color:cyan\"> |-Default search space size: 1</span>"
      ],
      "text/plain": [
       "<IPython.core.display.HTML object>"
      ]
     },
     "metadata": {},
     "output_type": "display_data"
    },
    {
     "data": {
      "text/html": [
       "<span style=\"color:#7E57C2\"><h2 style=\"font-size:16px\">activation (Choice)</h2></span>"
      ],
      "text/plain": [
       "<IPython.core.display.HTML object>"
      ]
     },
     "metadata": {},
     "output_type": "display_data"
    },
    {
     "data": {
      "text/html": [
       "<span style=\"color:cyan\"> |-default: softmax</span>"
      ],
      "text/plain": [
       "<IPython.core.display.HTML object>"
      ]
     },
     "metadata": {},
     "output_type": "display_data"
    },
    {
     "data": {
      "text/html": [
       "<span style=\"color:blue\"> |-ordered: False</span>"
      ],
      "text/plain": [
       "<IPython.core.display.HTML object>"
      ]
     },
     "metadata": {},
     "output_type": "display_data"
    },
    {
     "data": {
      "text/html": [
       "<span style=\"color:cyan\"> |-values: ['softmax', 'softplus', 'softsign', 'relu', 'tanh', 'sigmoid', 'hard_sigmoid', 'linear']</span>"
      ],
      "text/plain": [
       "<IPython.core.display.HTML object>"
      ]
     },
     "metadata": {},
     "output_type": "display_data"
    },
    {
     "name": "stdout",
     "output_type": "stream",
     "text": [
      "Epoch 1/20\n"
     ]
    },
    {
     "ename": "InvalidArgumentError",
     "evalue": " Received a label value of 9 which is outside the valid range of [0, 1).  Label values: 9 6 7 0 5 6 4 6 0 1 3 8 2 6 3 3 5 6 7 0 0 7 2 0 8 7 4 6 1 3 7 6\n\t [[node sparse_categorical_crossentropy/SparseSoftmaxCrossEntropyWithLogits/SparseSoftmaxCrossEntropyWithLogits (defined at /opt/anaconda3/envs/U4-S1-NLP/lib/python3.8/site-packages/wandb/integration/keras/keras.py:120) ]] [Op:__inference_train_function_3274386]\n\nFunction call stack:\ntrain_function\n",
     "output_type": "error",
     "traceback": [
      "\u001b[0;31m---------------------------------------------------------------------------\u001b[0m",
      "\u001b[0;31mInvalidArgumentError\u001b[0m                      Traceback (most recent call last)",
      "\u001b[0;32m<ipython-input-53-120c5207f478>\u001b[0m in \u001b[0;36m<module>\u001b[0;34m\u001b[0m\n\u001b[0;32m----> 1\u001b[0;31m \u001b[0mrandom_search_params\u001b[0m\u001b[0;34m(\u001b[0m\u001b[0mtune_act_model\u001b[0m\u001b[0;34m,\u001b[0m \u001b[0;34m\"tune_activation\"\u001b[0m\u001b[0;34m)\u001b[0m\u001b[0;34m\u001b[0m\u001b[0;34m\u001b[0m\u001b[0m\n\u001b[0m",
      "\u001b[0;32m<ipython-input-44-95dad3b360f7>\u001b[0m in \u001b[0;36mrandom_search_params\u001b[0;34m(model_builder, project_name)\u001b[0m\n\u001b[1;32m      1\u001b[0m \u001b[0;32mdef\u001b[0m \u001b[0mrandom_search_params\u001b[0m\u001b[0;34m(\u001b[0m\u001b[0mmodel_builder\u001b[0m\u001b[0;34m,\u001b[0m \u001b[0mproject_name\u001b[0m\u001b[0;34m)\u001b[0m\u001b[0;34m:\u001b[0m\u001b[0;34m\u001b[0m\u001b[0;34m\u001b[0m\u001b[0m\n\u001b[1;32m      2\u001b[0m   \u001b[0mtuner\u001b[0m \u001b[0;34m=\u001b[0m \u001b[0mcreate_random_tuner\u001b[0m\u001b[0;34m(\u001b[0m\u001b[0mmodel_builder\u001b[0m\u001b[0;34m,\u001b[0m \u001b[0mproject_name\u001b[0m\u001b[0;34m)\u001b[0m\u001b[0;34m\u001b[0m\u001b[0;34m\u001b[0m\u001b[0m\n\u001b[0;32m----> 3\u001b[0;31m   tuner.search(x=X_train,\n\u001b[0m\u001b[1;32m      4\u001b[0m              \u001b[0my\u001b[0m\u001b[0;34m=\u001b[0m\u001b[0my_train\u001b[0m\u001b[0;34m,\u001b[0m\u001b[0;34m\u001b[0m\u001b[0;34m\u001b[0m\u001b[0m\n\u001b[1;32m      5\u001b[0m              \u001b[0mepochs\u001b[0m\u001b[0;34m=\u001b[0m\u001b[0mTRAIN_EPOCHS\u001b[0m\u001b[0;34m,\u001b[0m\u001b[0;34m\u001b[0m\u001b[0;34m\u001b[0m\u001b[0m\n",
      "\u001b[0;32m/opt/anaconda3/envs/U4-S1-NLP/lib/python3.8/site-packages/kerastuner/engine/base_tuner.py\u001b[0m in \u001b[0;36msearch\u001b[0;34m(self, *fit_args, **fit_kwargs)\u001b[0m\n\u001b[1;32m    128\u001b[0m \u001b[0;34m\u001b[0m\u001b[0m\n\u001b[1;32m    129\u001b[0m             \u001b[0mself\u001b[0m\u001b[0;34m.\u001b[0m\u001b[0mon_trial_begin\u001b[0m\u001b[0;34m(\u001b[0m\u001b[0mtrial\u001b[0m\u001b[0;34m)\u001b[0m\u001b[0;34m\u001b[0m\u001b[0;34m\u001b[0m\u001b[0m\n\u001b[0;32m--> 130\u001b[0;31m             \u001b[0mself\u001b[0m\u001b[0;34m.\u001b[0m\u001b[0mrun_trial\u001b[0m\u001b[0;34m(\u001b[0m\u001b[0mtrial\u001b[0m\u001b[0;34m,\u001b[0m \u001b[0;34m*\u001b[0m\u001b[0mfit_args\u001b[0m\u001b[0;34m,\u001b[0m \u001b[0;34m**\u001b[0m\u001b[0mfit_kwargs\u001b[0m\u001b[0;34m)\u001b[0m\u001b[0;34m\u001b[0m\u001b[0;34m\u001b[0m\u001b[0m\n\u001b[0m\u001b[1;32m    131\u001b[0m             \u001b[0mself\u001b[0m\u001b[0;34m.\u001b[0m\u001b[0mon_trial_end\u001b[0m\u001b[0;34m(\u001b[0m\u001b[0mtrial\u001b[0m\u001b[0;34m)\u001b[0m\u001b[0;34m\u001b[0m\u001b[0;34m\u001b[0m\u001b[0m\n\u001b[1;32m    132\u001b[0m         \u001b[0mself\u001b[0m\u001b[0;34m.\u001b[0m\u001b[0mon_search_end\u001b[0m\u001b[0;34m(\u001b[0m\u001b[0;34m)\u001b[0m\u001b[0;34m\u001b[0m\u001b[0;34m\u001b[0m\u001b[0m\n",
      "\u001b[0;32m/opt/anaconda3/envs/U4-S1-NLP/lib/python3.8/site-packages/kerastuner/engine/multi_execution_tuner.py\u001b[0m in \u001b[0;36mrun_trial\u001b[0;34m(self, trial, *fit_args, **fit_kwargs)\u001b[0m\n\u001b[1;32m     94\u001b[0m \u001b[0;34m\u001b[0m\u001b[0m\n\u001b[1;32m     95\u001b[0m             \u001b[0mmodel\u001b[0m \u001b[0;34m=\u001b[0m \u001b[0mself\u001b[0m\u001b[0;34m.\u001b[0m\u001b[0mhypermodel\u001b[0m\u001b[0;34m.\u001b[0m\u001b[0mbuild\u001b[0m\u001b[0;34m(\u001b[0m\u001b[0mtrial\u001b[0m\u001b[0;34m.\u001b[0m\u001b[0mhyperparameters\u001b[0m\u001b[0;34m)\u001b[0m\u001b[0;34m\u001b[0m\u001b[0;34m\u001b[0m\u001b[0m\n\u001b[0;32m---> 96\u001b[0;31m             \u001b[0mhistory\u001b[0m \u001b[0;34m=\u001b[0m \u001b[0mmodel\u001b[0m\u001b[0;34m.\u001b[0m\u001b[0mfit\u001b[0m\u001b[0;34m(\u001b[0m\u001b[0;34m*\u001b[0m\u001b[0mfit_args\u001b[0m\u001b[0;34m,\u001b[0m \u001b[0;34m**\u001b[0m\u001b[0mcopied_fit_kwargs\u001b[0m\u001b[0;34m)\u001b[0m\u001b[0;34m\u001b[0m\u001b[0;34m\u001b[0m\u001b[0m\n\u001b[0m\u001b[1;32m     97\u001b[0m             \u001b[0;32mfor\u001b[0m \u001b[0mmetric\u001b[0m\u001b[0;34m,\u001b[0m \u001b[0mepoch_values\u001b[0m \u001b[0;32min\u001b[0m \u001b[0mhistory\u001b[0m\u001b[0;34m.\u001b[0m\u001b[0mhistory\u001b[0m\u001b[0;34m.\u001b[0m\u001b[0mitems\u001b[0m\u001b[0;34m(\u001b[0m\u001b[0;34m)\u001b[0m\u001b[0;34m:\u001b[0m\u001b[0;34m\u001b[0m\u001b[0;34m\u001b[0m\u001b[0m\n\u001b[1;32m     98\u001b[0m                 \u001b[0;32mif\u001b[0m \u001b[0mself\u001b[0m\u001b[0;34m.\u001b[0m\u001b[0moracle\u001b[0m\u001b[0;34m.\u001b[0m\u001b[0mobjective\u001b[0m\u001b[0;34m.\u001b[0m\u001b[0mdirection\u001b[0m \u001b[0;34m==\u001b[0m \u001b[0;34m'min'\u001b[0m\u001b[0;34m:\u001b[0m\u001b[0;34m\u001b[0m\u001b[0;34m\u001b[0m\u001b[0m\n",
      "\u001b[0;32m/opt/anaconda3/envs/U4-S1-NLP/lib/python3.8/site-packages/wandb/integration/keras/keras.py\u001b[0m in \u001b[0;36mnew_v2\u001b[0;34m(*args, **kwargs)\u001b[0m\n\u001b[1;32m    118\u001b[0m             \u001b[0;32mfor\u001b[0m \u001b[0mcbk\u001b[0m \u001b[0;32min\u001b[0m \u001b[0mcbks\u001b[0m\u001b[0;34m:\u001b[0m\u001b[0;34m\u001b[0m\u001b[0;34m\u001b[0m\u001b[0m\n\u001b[1;32m    119\u001b[0m                 \u001b[0mset_wandb_attrs\u001b[0m\u001b[0;34m(\u001b[0m\u001b[0mcbk\u001b[0m\u001b[0;34m,\u001b[0m \u001b[0mval_data\u001b[0m\u001b[0;34m)\u001b[0m\u001b[0;34m\u001b[0m\u001b[0;34m\u001b[0m\u001b[0m\n\u001b[0;32m--> 120\u001b[0;31m         \u001b[0;32mreturn\u001b[0m \u001b[0mold_v2\u001b[0m\u001b[0;34m(\u001b[0m\u001b[0;34m*\u001b[0m\u001b[0margs\u001b[0m\u001b[0;34m,\u001b[0m \u001b[0;34m**\u001b[0m\u001b[0mkwargs\u001b[0m\u001b[0;34m)\u001b[0m\u001b[0;34m\u001b[0m\u001b[0;34m\u001b[0m\u001b[0m\n\u001b[0m\u001b[1;32m    121\u001b[0m \u001b[0;34m\u001b[0m\u001b[0m\n\u001b[1;32m    122\u001b[0m     \u001b[0mtraining_arrays\u001b[0m\u001b[0;34m.\u001b[0m\u001b[0morig_fit_loop\u001b[0m \u001b[0;34m=\u001b[0m \u001b[0mold_arrays\u001b[0m\u001b[0;34m\u001b[0m\u001b[0;34m\u001b[0m\u001b[0m\n",
      "\u001b[0;32m/opt/anaconda3/envs/U4-S1-NLP/lib/python3.8/site-packages/tensorflow/python/keras/engine/training.py\u001b[0m in \u001b[0;36m_method_wrapper\u001b[0;34m(self, *args, **kwargs)\u001b[0m\n\u001b[1;32m    106\u001b[0m   \u001b[0;32mdef\u001b[0m \u001b[0m_method_wrapper\u001b[0m\u001b[0;34m(\u001b[0m\u001b[0mself\u001b[0m\u001b[0;34m,\u001b[0m \u001b[0;34m*\u001b[0m\u001b[0margs\u001b[0m\u001b[0;34m,\u001b[0m \u001b[0;34m**\u001b[0m\u001b[0mkwargs\u001b[0m\u001b[0;34m)\u001b[0m\u001b[0;34m:\u001b[0m\u001b[0;34m\u001b[0m\u001b[0;34m\u001b[0m\u001b[0m\n\u001b[1;32m    107\u001b[0m     \u001b[0;32mif\u001b[0m \u001b[0;32mnot\u001b[0m \u001b[0mself\u001b[0m\u001b[0;34m.\u001b[0m\u001b[0m_in_multi_worker_mode\u001b[0m\u001b[0;34m(\u001b[0m\u001b[0;34m)\u001b[0m\u001b[0;34m:\u001b[0m  \u001b[0;31m# pylint: disable=protected-access\u001b[0m\u001b[0;34m\u001b[0m\u001b[0;34m\u001b[0m\u001b[0m\n\u001b[0;32m--> 108\u001b[0;31m       \u001b[0;32mreturn\u001b[0m \u001b[0mmethod\u001b[0m\u001b[0;34m(\u001b[0m\u001b[0mself\u001b[0m\u001b[0;34m,\u001b[0m \u001b[0;34m*\u001b[0m\u001b[0margs\u001b[0m\u001b[0;34m,\u001b[0m \u001b[0;34m**\u001b[0m\u001b[0mkwargs\u001b[0m\u001b[0;34m)\u001b[0m\u001b[0;34m\u001b[0m\u001b[0;34m\u001b[0m\u001b[0m\n\u001b[0m\u001b[1;32m    109\u001b[0m \u001b[0;34m\u001b[0m\u001b[0m\n\u001b[1;32m    110\u001b[0m     \u001b[0;31m# Running inside `run_distribute_coordinator` already.\u001b[0m\u001b[0;34m\u001b[0m\u001b[0;34m\u001b[0m\u001b[0;34m\u001b[0m\u001b[0m\n",
      "\u001b[0;32m/opt/anaconda3/envs/U4-S1-NLP/lib/python3.8/site-packages/tensorflow/python/keras/engine/training.py\u001b[0m in \u001b[0;36mfit\u001b[0;34m(self, x, y, batch_size, epochs, verbose, callbacks, validation_split, validation_data, shuffle, class_weight, sample_weight, initial_epoch, steps_per_epoch, validation_steps, validation_batch_size, validation_freq, max_queue_size, workers, use_multiprocessing)\u001b[0m\n\u001b[1;32m   1096\u001b[0m                 batch_size=batch_size):\n\u001b[1;32m   1097\u001b[0m               \u001b[0mcallbacks\u001b[0m\u001b[0;34m.\u001b[0m\u001b[0mon_train_batch_begin\u001b[0m\u001b[0;34m(\u001b[0m\u001b[0mstep\u001b[0m\u001b[0;34m)\u001b[0m\u001b[0;34m\u001b[0m\u001b[0;34m\u001b[0m\u001b[0m\n\u001b[0;32m-> 1098\u001b[0;31m               \u001b[0mtmp_logs\u001b[0m \u001b[0;34m=\u001b[0m \u001b[0mtrain_function\u001b[0m\u001b[0;34m(\u001b[0m\u001b[0miterator\u001b[0m\u001b[0;34m)\u001b[0m\u001b[0;34m\u001b[0m\u001b[0;34m\u001b[0m\u001b[0m\n\u001b[0m\u001b[1;32m   1099\u001b[0m               \u001b[0;32mif\u001b[0m \u001b[0mdata_handler\u001b[0m\u001b[0;34m.\u001b[0m\u001b[0mshould_sync\u001b[0m\u001b[0;34m:\u001b[0m\u001b[0;34m\u001b[0m\u001b[0;34m\u001b[0m\u001b[0m\n\u001b[1;32m   1100\u001b[0m                 \u001b[0mcontext\u001b[0m\u001b[0;34m.\u001b[0m\u001b[0masync_wait\u001b[0m\u001b[0;34m(\u001b[0m\u001b[0;34m)\u001b[0m\u001b[0;34m\u001b[0m\u001b[0;34m\u001b[0m\u001b[0m\n",
      "\u001b[0;32m/opt/anaconda3/envs/U4-S1-NLP/lib/python3.8/site-packages/tensorflow/python/eager/def_function.py\u001b[0m in \u001b[0;36m__call__\u001b[0;34m(self, *args, **kwds)\u001b[0m\n\u001b[1;32m    778\u001b[0m       \u001b[0;32melse\u001b[0m\u001b[0;34m:\u001b[0m\u001b[0;34m\u001b[0m\u001b[0;34m\u001b[0m\u001b[0m\n\u001b[1;32m    779\u001b[0m         \u001b[0mcompiler\u001b[0m \u001b[0;34m=\u001b[0m \u001b[0;34m\"nonXla\"\u001b[0m\u001b[0;34m\u001b[0m\u001b[0;34m\u001b[0m\u001b[0m\n\u001b[0;32m--> 780\u001b[0;31m         \u001b[0mresult\u001b[0m \u001b[0;34m=\u001b[0m \u001b[0mself\u001b[0m\u001b[0;34m.\u001b[0m\u001b[0m_call\u001b[0m\u001b[0;34m(\u001b[0m\u001b[0;34m*\u001b[0m\u001b[0margs\u001b[0m\u001b[0;34m,\u001b[0m \u001b[0;34m**\u001b[0m\u001b[0mkwds\u001b[0m\u001b[0;34m)\u001b[0m\u001b[0;34m\u001b[0m\u001b[0;34m\u001b[0m\u001b[0m\n\u001b[0m\u001b[1;32m    781\u001b[0m \u001b[0;34m\u001b[0m\u001b[0m\n\u001b[1;32m    782\u001b[0m       \u001b[0mnew_tracing_count\u001b[0m \u001b[0;34m=\u001b[0m \u001b[0mself\u001b[0m\u001b[0;34m.\u001b[0m\u001b[0m_get_tracing_count\u001b[0m\u001b[0;34m(\u001b[0m\u001b[0;34m)\u001b[0m\u001b[0;34m\u001b[0m\u001b[0;34m\u001b[0m\u001b[0m\n",
      "\u001b[0;32m/opt/anaconda3/envs/U4-S1-NLP/lib/python3.8/site-packages/tensorflow/python/eager/def_function.py\u001b[0m in \u001b[0;36m_call\u001b[0;34m(self, *args, **kwds)\u001b[0m\n\u001b[1;32m    838\u001b[0m         \u001b[0;31m# Lifting succeeded, so variables are initialized and we can run the\u001b[0m\u001b[0;34m\u001b[0m\u001b[0;34m\u001b[0m\u001b[0;34m\u001b[0m\u001b[0m\n\u001b[1;32m    839\u001b[0m         \u001b[0;31m# stateless function.\u001b[0m\u001b[0;34m\u001b[0m\u001b[0;34m\u001b[0m\u001b[0;34m\u001b[0m\u001b[0m\n\u001b[0;32m--> 840\u001b[0;31m         \u001b[0;32mreturn\u001b[0m \u001b[0mself\u001b[0m\u001b[0;34m.\u001b[0m\u001b[0m_stateless_fn\u001b[0m\u001b[0;34m(\u001b[0m\u001b[0;34m*\u001b[0m\u001b[0margs\u001b[0m\u001b[0;34m,\u001b[0m \u001b[0;34m**\u001b[0m\u001b[0mkwds\u001b[0m\u001b[0;34m)\u001b[0m\u001b[0;34m\u001b[0m\u001b[0;34m\u001b[0m\u001b[0m\n\u001b[0m\u001b[1;32m    841\u001b[0m     \u001b[0;32melse\u001b[0m\u001b[0;34m:\u001b[0m\u001b[0;34m\u001b[0m\u001b[0;34m\u001b[0m\u001b[0m\n\u001b[1;32m    842\u001b[0m       \u001b[0mcanon_args\u001b[0m\u001b[0;34m,\u001b[0m \u001b[0mcanon_kwds\u001b[0m \u001b[0;34m=\u001b[0m\u001b[0;31m \u001b[0m\u001b[0;31m\\\u001b[0m\u001b[0;34m\u001b[0m\u001b[0;34m\u001b[0m\u001b[0m\n",
      "\u001b[0;32m/opt/anaconda3/envs/U4-S1-NLP/lib/python3.8/site-packages/tensorflow/python/eager/function.py\u001b[0m in \u001b[0;36m__call__\u001b[0;34m(self, *args, **kwargs)\u001b[0m\n\u001b[1;32m   2827\u001b[0m     \u001b[0;32mwith\u001b[0m \u001b[0mself\u001b[0m\u001b[0;34m.\u001b[0m\u001b[0m_lock\u001b[0m\u001b[0;34m:\u001b[0m\u001b[0;34m\u001b[0m\u001b[0;34m\u001b[0m\u001b[0m\n\u001b[1;32m   2828\u001b[0m       \u001b[0mgraph_function\u001b[0m\u001b[0;34m,\u001b[0m \u001b[0margs\u001b[0m\u001b[0;34m,\u001b[0m \u001b[0mkwargs\u001b[0m \u001b[0;34m=\u001b[0m \u001b[0mself\u001b[0m\u001b[0;34m.\u001b[0m\u001b[0m_maybe_define_function\u001b[0m\u001b[0;34m(\u001b[0m\u001b[0margs\u001b[0m\u001b[0;34m,\u001b[0m \u001b[0mkwargs\u001b[0m\u001b[0;34m)\u001b[0m\u001b[0;34m\u001b[0m\u001b[0;34m\u001b[0m\u001b[0m\n\u001b[0;32m-> 2829\u001b[0;31m     \u001b[0;32mreturn\u001b[0m \u001b[0mgraph_function\u001b[0m\u001b[0;34m.\u001b[0m\u001b[0m_filtered_call\u001b[0m\u001b[0;34m(\u001b[0m\u001b[0margs\u001b[0m\u001b[0;34m,\u001b[0m \u001b[0mkwargs\u001b[0m\u001b[0;34m)\u001b[0m  \u001b[0;31m# pylint: disable=protected-access\u001b[0m\u001b[0;34m\u001b[0m\u001b[0;34m\u001b[0m\u001b[0m\n\u001b[0m\u001b[1;32m   2830\u001b[0m \u001b[0;34m\u001b[0m\u001b[0m\n\u001b[1;32m   2831\u001b[0m   \u001b[0;34m@\u001b[0m\u001b[0mproperty\u001b[0m\u001b[0;34m\u001b[0m\u001b[0;34m\u001b[0m\u001b[0m\n",
      "\u001b[0;32m/opt/anaconda3/envs/U4-S1-NLP/lib/python3.8/site-packages/tensorflow/python/eager/function.py\u001b[0m in \u001b[0;36m_filtered_call\u001b[0;34m(self, args, kwargs, cancellation_manager)\u001b[0m\n\u001b[1;32m   1841\u001b[0m       \u001b[0;31m`\u001b[0m\u001b[0margs\u001b[0m\u001b[0;31m`\u001b[0m \u001b[0;32mand\u001b[0m\u001b[0;31m \u001b[0m\u001b[0;31m`\u001b[0m\u001b[0mkwargs\u001b[0m\u001b[0;31m`\u001b[0m\u001b[0;34m.\u001b[0m\u001b[0;34m\u001b[0m\u001b[0;34m\u001b[0m\u001b[0m\n\u001b[1;32m   1842\u001b[0m     \"\"\"\n\u001b[0;32m-> 1843\u001b[0;31m     return self._call_flat(\n\u001b[0m\u001b[1;32m   1844\u001b[0m         [t for t in nest.flatten((args, kwargs), expand_composites=True)\n\u001b[1;32m   1845\u001b[0m          if isinstance(t, (ops.Tensor,\n",
      "\u001b[0;32m/opt/anaconda3/envs/U4-S1-NLP/lib/python3.8/site-packages/tensorflow/python/eager/function.py\u001b[0m in \u001b[0;36m_call_flat\u001b[0;34m(self, args, captured_inputs, cancellation_manager)\u001b[0m\n\u001b[1;32m   1921\u001b[0m         and executing_eagerly):\n\u001b[1;32m   1922\u001b[0m       \u001b[0;31m# No tape is watching; skip to running the function.\u001b[0m\u001b[0;34m\u001b[0m\u001b[0;34m\u001b[0m\u001b[0;34m\u001b[0m\u001b[0m\n\u001b[0;32m-> 1923\u001b[0;31m       return self._build_call_outputs(self._inference_function.call(\n\u001b[0m\u001b[1;32m   1924\u001b[0m           ctx, args, cancellation_manager=cancellation_manager))\n\u001b[1;32m   1925\u001b[0m     forward_backward = self._select_forward_and_backward_functions(\n",
      "\u001b[0;32m/opt/anaconda3/envs/U4-S1-NLP/lib/python3.8/site-packages/tensorflow/python/eager/function.py\u001b[0m in \u001b[0;36mcall\u001b[0;34m(self, ctx, args, cancellation_manager)\u001b[0m\n\u001b[1;32m    543\u001b[0m       \u001b[0;32mwith\u001b[0m \u001b[0m_InterpolateFunctionError\u001b[0m\u001b[0;34m(\u001b[0m\u001b[0mself\u001b[0m\u001b[0;34m)\u001b[0m\u001b[0;34m:\u001b[0m\u001b[0;34m\u001b[0m\u001b[0;34m\u001b[0m\u001b[0m\n\u001b[1;32m    544\u001b[0m         \u001b[0;32mif\u001b[0m \u001b[0mcancellation_manager\u001b[0m \u001b[0;32mis\u001b[0m \u001b[0;32mNone\u001b[0m\u001b[0;34m:\u001b[0m\u001b[0;34m\u001b[0m\u001b[0;34m\u001b[0m\u001b[0m\n\u001b[0;32m--> 545\u001b[0;31m           outputs = execute.execute(\n\u001b[0m\u001b[1;32m    546\u001b[0m               \u001b[0mstr\u001b[0m\u001b[0;34m(\u001b[0m\u001b[0mself\u001b[0m\u001b[0;34m.\u001b[0m\u001b[0msignature\u001b[0m\u001b[0;34m.\u001b[0m\u001b[0mname\u001b[0m\u001b[0;34m)\u001b[0m\u001b[0;34m,\u001b[0m\u001b[0;34m\u001b[0m\u001b[0;34m\u001b[0m\u001b[0m\n\u001b[1;32m    547\u001b[0m               \u001b[0mnum_outputs\u001b[0m\u001b[0;34m=\u001b[0m\u001b[0mself\u001b[0m\u001b[0;34m.\u001b[0m\u001b[0m_num_outputs\u001b[0m\u001b[0;34m,\u001b[0m\u001b[0;34m\u001b[0m\u001b[0;34m\u001b[0m\u001b[0m\n",
      "\u001b[0;32m/opt/anaconda3/envs/U4-S1-NLP/lib/python3.8/site-packages/tensorflow/python/eager/execute.py\u001b[0m in \u001b[0;36mquick_execute\u001b[0;34m(op_name, num_outputs, inputs, attrs, ctx, name)\u001b[0m\n\u001b[1;32m     57\u001b[0m   \u001b[0;32mtry\u001b[0m\u001b[0;34m:\u001b[0m\u001b[0;34m\u001b[0m\u001b[0;34m\u001b[0m\u001b[0m\n\u001b[1;32m     58\u001b[0m     \u001b[0mctx\u001b[0m\u001b[0;34m.\u001b[0m\u001b[0mensure_initialized\u001b[0m\u001b[0;34m(\u001b[0m\u001b[0;34m)\u001b[0m\u001b[0;34m\u001b[0m\u001b[0;34m\u001b[0m\u001b[0m\n\u001b[0;32m---> 59\u001b[0;31m     tensors = pywrap_tfe.TFE_Py_Execute(ctx._handle, device_name, op_name,\n\u001b[0m\u001b[1;32m     60\u001b[0m                                         inputs, attrs, num_outputs)\n\u001b[1;32m     61\u001b[0m   \u001b[0;32mexcept\u001b[0m \u001b[0mcore\u001b[0m\u001b[0;34m.\u001b[0m\u001b[0m_NotOkStatusException\u001b[0m \u001b[0;32mas\u001b[0m \u001b[0me\u001b[0m\u001b[0;34m:\u001b[0m\u001b[0;34m\u001b[0m\u001b[0;34m\u001b[0m\u001b[0m\n",
      "\u001b[0;31mInvalidArgumentError\u001b[0m:  Received a label value of 9 which is outside the valid range of [0, 1).  Label values: 9 6 7 0 5 6 4 6 0 1 3 8 2 6 3 3 5 6 7 0 0 7 2 0 8 7 4 6 1 3 7 6\n\t [[node sparse_categorical_crossentropy/SparseSoftmaxCrossEntropyWithLogits/SparseSoftmaxCrossEntropyWithLogits (defined at /opt/anaconda3/envs/U4-S1-NLP/lib/python3.8/site-packages/wandb/integration/keras/keras.py:120) ]] [Op:__inference_train_function_3274386]\n\nFunction call stack:\ntrain_function\n"
     ]
    }
   ],
   "source": [
    "random_search_params(tune_act_model, \"tune_activation\")"
   ]
  },
  {
   "cell_type": "markdown",
   "metadata": {
    "id": "Rz76tYGybIrC"
   },
   "source": [
    "# Dropout rate"
   ]
  },
  {
   "cell_type": "code",
   "execution_count": 54,
   "metadata": {
    "id": "V8e5E3K8hNw2"
   },
   "outputs": [],
   "source": [
    "def tune_dropout_model(hp):\n",
    "    model = keras.Sequential()\n",
    "\n",
    "    drop_rate = hp.Choice('drop_rate', \n",
    "                            [0.0, 0.1, 0.2, 0.3, 0.4, 0.5, 0.6, 0.7, 0.8, 0.9])\n",
    "\n",
    "    model.add(keras.layers.Dense(units=32,\n",
    "                                 activation=\"relu\",\n",
    "                                 input_shape=[X_train.shape[1]]))\n",
    "    model.add(keras.layers.Dropout(rate=drop_rate))\n",
    "\n",
    "    model.add(keras.layers.Dense(1, activation='sigmoid'))\n",
    "\n",
    "    model.compile(\n",
    "        optimizer=\"adam\",\n",
    "        loss = 'sparse_categorical_crossentropy', \n",
    "        metrics = ['accuracy'])\n",
    "    return model"
   ]
  },
  {
   "cell_type": "code",
   "execution_count": 55,
   "metadata": {
    "id": "RBylw9Qjhb0V"
   },
   "outputs": [
    {
     "data": {
      "text/html": [
       "<span style=\"color:#4527A0\"><h1 style=\"font-size:18px\">Search space summary</h1></span>"
      ],
      "text/plain": [
       "<IPython.core.display.HTML object>"
      ]
     },
     "metadata": {},
     "output_type": "display_data"
    },
    {
     "data": {
      "text/html": [
       "<span style=\"color:cyan\"> |-Default search space size: 1</span>"
      ],
      "text/plain": [
       "<IPython.core.display.HTML object>"
      ]
     },
     "metadata": {},
     "output_type": "display_data"
    },
    {
     "data": {
      "text/html": [
       "<span style=\"color:#7E57C2\"><h2 style=\"font-size:16px\">drop_rate (Choice)</h2></span>"
      ],
      "text/plain": [
       "<IPython.core.display.HTML object>"
      ]
     },
     "metadata": {},
     "output_type": "display_data"
    },
    {
     "data": {
      "text/html": [
       "<span style=\"color:cyan\"> |-default: 0.0</span>"
      ],
      "text/plain": [
       "<IPython.core.display.HTML object>"
      ]
     },
     "metadata": {},
     "output_type": "display_data"
    },
    {
     "data": {
      "text/html": [
       "<span style=\"color:blue\"> |-ordered: True</span>"
      ],
      "text/plain": [
       "<IPython.core.display.HTML object>"
      ]
     },
     "metadata": {},
     "output_type": "display_data"
    },
    {
     "data": {
      "text/html": [
       "<span style=\"color:cyan\"> |-values: [0.0, 0.1, 0.2, 0.3, 0.4, 0.5, 0.6, 0.7, 0.8, 0.9]</span>"
      ],
      "text/plain": [
       "<IPython.core.display.HTML object>"
      ]
     },
     "metadata": {},
     "output_type": "display_data"
    },
    {
     "name": "stdout",
     "output_type": "stream",
     "text": [
      "Epoch 1/20\n"
     ]
    },
    {
     "ename": "InvalidArgumentError",
     "evalue": " Received a label value of 9 which is outside the valid range of [0, 1).  Label values: 3 7 0 2 4 9 7 3 6 6 4 2 0 2 9 9 0 4 2 5 7 9 3 9 3 1 2 0 3 9 4 2\n\t [[node sparse_categorical_crossentropy/SparseSoftmaxCrossEntropyWithLogits/SparseSoftmaxCrossEntropyWithLogits (defined at /opt/anaconda3/envs/U4-S1-NLP/lib/python3.8/site-packages/wandb/integration/keras/keras.py:120) ]] [Op:__inference_train_function_3275126]\n\nFunction call stack:\ntrain_function\n",
     "output_type": "error",
     "traceback": [
      "\u001b[0;31m---------------------------------------------------------------------------\u001b[0m",
      "\u001b[0;31mInvalidArgumentError\u001b[0m                      Traceback (most recent call last)",
      "\u001b[0;32m<ipython-input-55-bc6cbd750ea8>\u001b[0m in \u001b[0;36m<module>\u001b[0;34m\u001b[0m\n\u001b[0;32m----> 1\u001b[0;31m \u001b[0mrandom_search_params\u001b[0m\u001b[0;34m(\u001b[0m\u001b[0mtune_dropout_model\u001b[0m\u001b[0;34m,\u001b[0m \u001b[0;34m\"tune_dropout\"\u001b[0m\u001b[0;34m)\u001b[0m\u001b[0;34m\u001b[0m\u001b[0;34m\u001b[0m\u001b[0m\n\u001b[0m",
      "\u001b[0;32m<ipython-input-44-95dad3b360f7>\u001b[0m in \u001b[0;36mrandom_search_params\u001b[0;34m(model_builder, project_name)\u001b[0m\n\u001b[1;32m      1\u001b[0m \u001b[0;32mdef\u001b[0m \u001b[0mrandom_search_params\u001b[0m\u001b[0;34m(\u001b[0m\u001b[0mmodel_builder\u001b[0m\u001b[0;34m,\u001b[0m \u001b[0mproject_name\u001b[0m\u001b[0;34m)\u001b[0m\u001b[0;34m:\u001b[0m\u001b[0;34m\u001b[0m\u001b[0;34m\u001b[0m\u001b[0m\n\u001b[1;32m      2\u001b[0m   \u001b[0mtuner\u001b[0m \u001b[0;34m=\u001b[0m \u001b[0mcreate_random_tuner\u001b[0m\u001b[0;34m(\u001b[0m\u001b[0mmodel_builder\u001b[0m\u001b[0;34m,\u001b[0m \u001b[0mproject_name\u001b[0m\u001b[0;34m)\u001b[0m\u001b[0;34m\u001b[0m\u001b[0;34m\u001b[0m\u001b[0m\n\u001b[0;32m----> 3\u001b[0;31m   tuner.search(x=X_train,\n\u001b[0m\u001b[1;32m      4\u001b[0m              \u001b[0my\u001b[0m\u001b[0;34m=\u001b[0m\u001b[0my_train\u001b[0m\u001b[0;34m,\u001b[0m\u001b[0;34m\u001b[0m\u001b[0;34m\u001b[0m\u001b[0m\n\u001b[1;32m      5\u001b[0m              \u001b[0mepochs\u001b[0m\u001b[0;34m=\u001b[0m\u001b[0mTRAIN_EPOCHS\u001b[0m\u001b[0;34m,\u001b[0m\u001b[0;34m\u001b[0m\u001b[0;34m\u001b[0m\u001b[0m\n",
      "\u001b[0;32m/opt/anaconda3/envs/U4-S1-NLP/lib/python3.8/site-packages/kerastuner/engine/base_tuner.py\u001b[0m in \u001b[0;36msearch\u001b[0;34m(self, *fit_args, **fit_kwargs)\u001b[0m\n\u001b[1;32m    128\u001b[0m \u001b[0;34m\u001b[0m\u001b[0m\n\u001b[1;32m    129\u001b[0m             \u001b[0mself\u001b[0m\u001b[0;34m.\u001b[0m\u001b[0mon_trial_begin\u001b[0m\u001b[0;34m(\u001b[0m\u001b[0mtrial\u001b[0m\u001b[0;34m)\u001b[0m\u001b[0;34m\u001b[0m\u001b[0;34m\u001b[0m\u001b[0m\n\u001b[0;32m--> 130\u001b[0;31m             \u001b[0mself\u001b[0m\u001b[0;34m.\u001b[0m\u001b[0mrun_trial\u001b[0m\u001b[0;34m(\u001b[0m\u001b[0mtrial\u001b[0m\u001b[0;34m,\u001b[0m \u001b[0;34m*\u001b[0m\u001b[0mfit_args\u001b[0m\u001b[0;34m,\u001b[0m \u001b[0;34m**\u001b[0m\u001b[0mfit_kwargs\u001b[0m\u001b[0;34m)\u001b[0m\u001b[0;34m\u001b[0m\u001b[0;34m\u001b[0m\u001b[0m\n\u001b[0m\u001b[1;32m    131\u001b[0m             \u001b[0mself\u001b[0m\u001b[0;34m.\u001b[0m\u001b[0mon_trial_end\u001b[0m\u001b[0;34m(\u001b[0m\u001b[0mtrial\u001b[0m\u001b[0;34m)\u001b[0m\u001b[0;34m\u001b[0m\u001b[0;34m\u001b[0m\u001b[0m\n\u001b[1;32m    132\u001b[0m         \u001b[0mself\u001b[0m\u001b[0;34m.\u001b[0m\u001b[0mon_search_end\u001b[0m\u001b[0;34m(\u001b[0m\u001b[0;34m)\u001b[0m\u001b[0;34m\u001b[0m\u001b[0;34m\u001b[0m\u001b[0m\n",
      "\u001b[0;32m/opt/anaconda3/envs/U4-S1-NLP/lib/python3.8/site-packages/kerastuner/engine/multi_execution_tuner.py\u001b[0m in \u001b[0;36mrun_trial\u001b[0;34m(self, trial, *fit_args, **fit_kwargs)\u001b[0m\n\u001b[1;32m     94\u001b[0m \u001b[0;34m\u001b[0m\u001b[0m\n\u001b[1;32m     95\u001b[0m             \u001b[0mmodel\u001b[0m \u001b[0;34m=\u001b[0m \u001b[0mself\u001b[0m\u001b[0;34m.\u001b[0m\u001b[0mhypermodel\u001b[0m\u001b[0;34m.\u001b[0m\u001b[0mbuild\u001b[0m\u001b[0;34m(\u001b[0m\u001b[0mtrial\u001b[0m\u001b[0;34m.\u001b[0m\u001b[0mhyperparameters\u001b[0m\u001b[0;34m)\u001b[0m\u001b[0;34m\u001b[0m\u001b[0;34m\u001b[0m\u001b[0m\n\u001b[0;32m---> 96\u001b[0;31m             \u001b[0mhistory\u001b[0m \u001b[0;34m=\u001b[0m \u001b[0mmodel\u001b[0m\u001b[0;34m.\u001b[0m\u001b[0mfit\u001b[0m\u001b[0;34m(\u001b[0m\u001b[0;34m*\u001b[0m\u001b[0mfit_args\u001b[0m\u001b[0;34m,\u001b[0m \u001b[0;34m**\u001b[0m\u001b[0mcopied_fit_kwargs\u001b[0m\u001b[0;34m)\u001b[0m\u001b[0;34m\u001b[0m\u001b[0;34m\u001b[0m\u001b[0m\n\u001b[0m\u001b[1;32m     97\u001b[0m             \u001b[0;32mfor\u001b[0m \u001b[0mmetric\u001b[0m\u001b[0;34m,\u001b[0m \u001b[0mepoch_values\u001b[0m \u001b[0;32min\u001b[0m \u001b[0mhistory\u001b[0m\u001b[0;34m.\u001b[0m\u001b[0mhistory\u001b[0m\u001b[0;34m.\u001b[0m\u001b[0mitems\u001b[0m\u001b[0;34m(\u001b[0m\u001b[0;34m)\u001b[0m\u001b[0;34m:\u001b[0m\u001b[0;34m\u001b[0m\u001b[0;34m\u001b[0m\u001b[0m\n\u001b[1;32m     98\u001b[0m                 \u001b[0;32mif\u001b[0m \u001b[0mself\u001b[0m\u001b[0;34m.\u001b[0m\u001b[0moracle\u001b[0m\u001b[0;34m.\u001b[0m\u001b[0mobjective\u001b[0m\u001b[0;34m.\u001b[0m\u001b[0mdirection\u001b[0m \u001b[0;34m==\u001b[0m \u001b[0;34m'min'\u001b[0m\u001b[0;34m:\u001b[0m\u001b[0;34m\u001b[0m\u001b[0;34m\u001b[0m\u001b[0m\n",
      "\u001b[0;32m/opt/anaconda3/envs/U4-S1-NLP/lib/python3.8/site-packages/wandb/integration/keras/keras.py\u001b[0m in \u001b[0;36mnew_v2\u001b[0;34m(*args, **kwargs)\u001b[0m\n\u001b[1;32m    118\u001b[0m             \u001b[0;32mfor\u001b[0m \u001b[0mcbk\u001b[0m \u001b[0;32min\u001b[0m \u001b[0mcbks\u001b[0m\u001b[0;34m:\u001b[0m\u001b[0;34m\u001b[0m\u001b[0;34m\u001b[0m\u001b[0m\n\u001b[1;32m    119\u001b[0m                 \u001b[0mset_wandb_attrs\u001b[0m\u001b[0;34m(\u001b[0m\u001b[0mcbk\u001b[0m\u001b[0;34m,\u001b[0m \u001b[0mval_data\u001b[0m\u001b[0;34m)\u001b[0m\u001b[0;34m\u001b[0m\u001b[0;34m\u001b[0m\u001b[0m\n\u001b[0;32m--> 120\u001b[0;31m         \u001b[0;32mreturn\u001b[0m \u001b[0mold_v2\u001b[0m\u001b[0;34m(\u001b[0m\u001b[0;34m*\u001b[0m\u001b[0margs\u001b[0m\u001b[0;34m,\u001b[0m \u001b[0;34m**\u001b[0m\u001b[0mkwargs\u001b[0m\u001b[0;34m)\u001b[0m\u001b[0;34m\u001b[0m\u001b[0;34m\u001b[0m\u001b[0m\n\u001b[0m\u001b[1;32m    121\u001b[0m \u001b[0;34m\u001b[0m\u001b[0m\n\u001b[1;32m    122\u001b[0m     \u001b[0mtraining_arrays\u001b[0m\u001b[0;34m.\u001b[0m\u001b[0morig_fit_loop\u001b[0m \u001b[0;34m=\u001b[0m \u001b[0mold_arrays\u001b[0m\u001b[0;34m\u001b[0m\u001b[0;34m\u001b[0m\u001b[0m\n",
      "\u001b[0;32m/opt/anaconda3/envs/U4-S1-NLP/lib/python3.8/site-packages/tensorflow/python/keras/engine/training.py\u001b[0m in \u001b[0;36m_method_wrapper\u001b[0;34m(self, *args, **kwargs)\u001b[0m\n\u001b[1;32m    106\u001b[0m   \u001b[0;32mdef\u001b[0m \u001b[0m_method_wrapper\u001b[0m\u001b[0;34m(\u001b[0m\u001b[0mself\u001b[0m\u001b[0;34m,\u001b[0m \u001b[0;34m*\u001b[0m\u001b[0margs\u001b[0m\u001b[0;34m,\u001b[0m \u001b[0;34m**\u001b[0m\u001b[0mkwargs\u001b[0m\u001b[0;34m)\u001b[0m\u001b[0;34m:\u001b[0m\u001b[0;34m\u001b[0m\u001b[0;34m\u001b[0m\u001b[0m\n\u001b[1;32m    107\u001b[0m     \u001b[0;32mif\u001b[0m \u001b[0;32mnot\u001b[0m \u001b[0mself\u001b[0m\u001b[0;34m.\u001b[0m\u001b[0m_in_multi_worker_mode\u001b[0m\u001b[0;34m(\u001b[0m\u001b[0;34m)\u001b[0m\u001b[0;34m:\u001b[0m  \u001b[0;31m# pylint: disable=protected-access\u001b[0m\u001b[0;34m\u001b[0m\u001b[0;34m\u001b[0m\u001b[0m\n\u001b[0;32m--> 108\u001b[0;31m       \u001b[0;32mreturn\u001b[0m \u001b[0mmethod\u001b[0m\u001b[0;34m(\u001b[0m\u001b[0mself\u001b[0m\u001b[0;34m,\u001b[0m \u001b[0;34m*\u001b[0m\u001b[0margs\u001b[0m\u001b[0;34m,\u001b[0m \u001b[0;34m**\u001b[0m\u001b[0mkwargs\u001b[0m\u001b[0;34m)\u001b[0m\u001b[0;34m\u001b[0m\u001b[0;34m\u001b[0m\u001b[0m\n\u001b[0m\u001b[1;32m    109\u001b[0m \u001b[0;34m\u001b[0m\u001b[0m\n\u001b[1;32m    110\u001b[0m     \u001b[0;31m# Running inside `run_distribute_coordinator` already.\u001b[0m\u001b[0;34m\u001b[0m\u001b[0;34m\u001b[0m\u001b[0;34m\u001b[0m\u001b[0m\n",
      "\u001b[0;32m/opt/anaconda3/envs/U4-S1-NLP/lib/python3.8/site-packages/tensorflow/python/keras/engine/training.py\u001b[0m in \u001b[0;36mfit\u001b[0;34m(self, x, y, batch_size, epochs, verbose, callbacks, validation_split, validation_data, shuffle, class_weight, sample_weight, initial_epoch, steps_per_epoch, validation_steps, validation_batch_size, validation_freq, max_queue_size, workers, use_multiprocessing)\u001b[0m\n\u001b[1;32m   1096\u001b[0m                 batch_size=batch_size):\n\u001b[1;32m   1097\u001b[0m               \u001b[0mcallbacks\u001b[0m\u001b[0;34m.\u001b[0m\u001b[0mon_train_batch_begin\u001b[0m\u001b[0;34m(\u001b[0m\u001b[0mstep\u001b[0m\u001b[0;34m)\u001b[0m\u001b[0;34m\u001b[0m\u001b[0;34m\u001b[0m\u001b[0m\n\u001b[0;32m-> 1098\u001b[0;31m               \u001b[0mtmp_logs\u001b[0m \u001b[0;34m=\u001b[0m \u001b[0mtrain_function\u001b[0m\u001b[0;34m(\u001b[0m\u001b[0miterator\u001b[0m\u001b[0;34m)\u001b[0m\u001b[0;34m\u001b[0m\u001b[0;34m\u001b[0m\u001b[0m\n\u001b[0m\u001b[1;32m   1099\u001b[0m               \u001b[0;32mif\u001b[0m \u001b[0mdata_handler\u001b[0m\u001b[0;34m.\u001b[0m\u001b[0mshould_sync\u001b[0m\u001b[0;34m:\u001b[0m\u001b[0;34m\u001b[0m\u001b[0;34m\u001b[0m\u001b[0m\n\u001b[1;32m   1100\u001b[0m                 \u001b[0mcontext\u001b[0m\u001b[0;34m.\u001b[0m\u001b[0masync_wait\u001b[0m\u001b[0;34m(\u001b[0m\u001b[0;34m)\u001b[0m\u001b[0;34m\u001b[0m\u001b[0;34m\u001b[0m\u001b[0m\n",
      "\u001b[0;32m/opt/anaconda3/envs/U4-S1-NLP/lib/python3.8/site-packages/tensorflow/python/eager/def_function.py\u001b[0m in \u001b[0;36m__call__\u001b[0;34m(self, *args, **kwds)\u001b[0m\n\u001b[1;32m    778\u001b[0m       \u001b[0;32melse\u001b[0m\u001b[0;34m:\u001b[0m\u001b[0;34m\u001b[0m\u001b[0;34m\u001b[0m\u001b[0m\n\u001b[1;32m    779\u001b[0m         \u001b[0mcompiler\u001b[0m \u001b[0;34m=\u001b[0m \u001b[0;34m\"nonXla\"\u001b[0m\u001b[0;34m\u001b[0m\u001b[0;34m\u001b[0m\u001b[0m\n\u001b[0;32m--> 780\u001b[0;31m         \u001b[0mresult\u001b[0m \u001b[0;34m=\u001b[0m \u001b[0mself\u001b[0m\u001b[0;34m.\u001b[0m\u001b[0m_call\u001b[0m\u001b[0;34m(\u001b[0m\u001b[0;34m*\u001b[0m\u001b[0margs\u001b[0m\u001b[0;34m,\u001b[0m \u001b[0;34m**\u001b[0m\u001b[0mkwds\u001b[0m\u001b[0;34m)\u001b[0m\u001b[0;34m\u001b[0m\u001b[0;34m\u001b[0m\u001b[0m\n\u001b[0m\u001b[1;32m    781\u001b[0m \u001b[0;34m\u001b[0m\u001b[0m\n\u001b[1;32m    782\u001b[0m       \u001b[0mnew_tracing_count\u001b[0m \u001b[0;34m=\u001b[0m \u001b[0mself\u001b[0m\u001b[0;34m.\u001b[0m\u001b[0m_get_tracing_count\u001b[0m\u001b[0;34m(\u001b[0m\u001b[0;34m)\u001b[0m\u001b[0;34m\u001b[0m\u001b[0;34m\u001b[0m\u001b[0m\n",
      "\u001b[0;32m/opt/anaconda3/envs/U4-S1-NLP/lib/python3.8/site-packages/tensorflow/python/eager/def_function.py\u001b[0m in \u001b[0;36m_call\u001b[0;34m(self, *args, **kwds)\u001b[0m\n\u001b[1;32m    838\u001b[0m         \u001b[0;31m# Lifting succeeded, so variables are initialized and we can run the\u001b[0m\u001b[0;34m\u001b[0m\u001b[0;34m\u001b[0m\u001b[0;34m\u001b[0m\u001b[0m\n\u001b[1;32m    839\u001b[0m         \u001b[0;31m# stateless function.\u001b[0m\u001b[0;34m\u001b[0m\u001b[0;34m\u001b[0m\u001b[0;34m\u001b[0m\u001b[0m\n\u001b[0;32m--> 840\u001b[0;31m         \u001b[0;32mreturn\u001b[0m \u001b[0mself\u001b[0m\u001b[0;34m.\u001b[0m\u001b[0m_stateless_fn\u001b[0m\u001b[0;34m(\u001b[0m\u001b[0;34m*\u001b[0m\u001b[0margs\u001b[0m\u001b[0;34m,\u001b[0m \u001b[0;34m**\u001b[0m\u001b[0mkwds\u001b[0m\u001b[0;34m)\u001b[0m\u001b[0;34m\u001b[0m\u001b[0;34m\u001b[0m\u001b[0m\n\u001b[0m\u001b[1;32m    841\u001b[0m     \u001b[0;32melse\u001b[0m\u001b[0;34m:\u001b[0m\u001b[0;34m\u001b[0m\u001b[0;34m\u001b[0m\u001b[0m\n\u001b[1;32m    842\u001b[0m       \u001b[0mcanon_args\u001b[0m\u001b[0;34m,\u001b[0m \u001b[0mcanon_kwds\u001b[0m \u001b[0;34m=\u001b[0m\u001b[0;31m \u001b[0m\u001b[0;31m\\\u001b[0m\u001b[0;34m\u001b[0m\u001b[0;34m\u001b[0m\u001b[0m\n",
      "\u001b[0;32m/opt/anaconda3/envs/U4-S1-NLP/lib/python3.8/site-packages/tensorflow/python/eager/function.py\u001b[0m in \u001b[0;36m__call__\u001b[0;34m(self, *args, **kwargs)\u001b[0m\n\u001b[1;32m   2827\u001b[0m     \u001b[0;32mwith\u001b[0m \u001b[0mself\u001b[0m\u001b[0;34m.\u001b[0m\u001b[0m_lock\u001b[0m\u001b[0;34m:\u001b[0m\u001b[0;34m\u001b[0m\u001b[0;34m\u001b[0m\u001b[0m\n\u001b[1;32m   2828\u001b[0m       \u001b[0mgraph_function\u001b[0m\u001b[0;34m,\u001b[0m \u001b[0margs\u001b[0m\u001b[0;34m,\u001b[0m \u001b[0mkwargs\u001b[0m \u001b[0;34m=\u001b[0m \u001b[0mself\u001b[0m\u001b[0;34m.\u001b[0m\u001b[0m_maybe_define_function\u001b[0m\u001b[0;34m(\u001b[0m\u001b[0margs\u001b[0m\u001b[0;34m,\u001b[0m \u001b[0mkwargs\u001b[0m\u001b[0;34m)\u001b[0m\u001b[0;34m\u001b[0m\u001b[0;34m\u001b[0m\u001b[0m\n\u001b[0;32m-> 2829\u001b[0;31m     \u001b[0;32mreturn\u001b[0m \u001b[0mgraph_function\u001b[0m\u001b[0;34m.\u001b[0m\u001b[0m_filtered_call\u001b[0m\u001b[0;34m(\u001b[0m\u001b[0margs\u001b[0m\u001b[0;34m,\u001b[0m \u001b[0mkwargs\u001b[0m\u001b[0;34m)\u001b[0m  \u001b[0;31m# pylint: disable=protected-access\u001b[0m\u001b[0;34m\u001b[0m\u001b[0;34m\u001b[0m\u001b[0m\n\u001b[0m\u001b[1;32m   2830\u001b[0m \u001b[0;34m\u001b[0m\u001b[0m\n\u001b[1;32m   2831\u001b[0m   \u001b[0;34m@\u001b[0m\u001b[0mproperty\u001b[0m\u001b[0;34m\u001b[0m\u001b[0;34m\u001b[0m\u001b[0m\n",
      "\u001b[0;32m/opt/anaconda3/envs/U4-S1-NLP/lib/python3.8/site-packages/tensorflow/python/eager/function.py\u001b[0m in \u001b[0;36m_filtered_call\u001b[0;34m(self, args, kwargs, cancellation_manager)\u001b[0m\n\u001b[1;32m   1841\u001b[0m       \u001b[0;31m`\u001b[0m\u001b[0margs\u001b[0m\u001b[0;31m`\u001b[0m \u001b[0;32mand\u001b[0m\u001b[0;31m \u001b[0m\u001b[0;31m`\u001b[0m\u001b[0mkwargs\u001b[0m\u001b[0;31m`\u001b[0m\u001b[0;34m.\u001b[0m\u001b[0;34m\u001b[0m\u001b[0;34m\u001b[0m\u001b[0m\n\u001b[1;32m   1842\u001b[0m     \"\"\"\n\u001b[0;32m-> 1843\u001b[0;31m     return self._call_flat(\n\u001b[0m\u001b[1;32m   1844\u001b[0m         [t for t in nest.flatten((args, kwargs), expand_composites=True)\n\u001b[1;32m   1845\u001b[0m          if isinstance(t, (ops.Tensor,\n",
      "\u001b[0;32m/opt/anaconda3/envs/U4-S1-NLP/lib/python3.8/site-packages/tensorflow/python/eager/function.py\u001b[0m in \u001b[0;36m_call_flat\u001b[0;34m(self, args, captured_inputs, cancellation_manager)\u001b[0m\n\u001b[1;32m   1921\u001b[0m         and executing_eagerly):\n\u001b[1;32m   1922\u001b[0m       \u001b[0;31m# No tape is watching; skip to running the function.\u001b[0m\u001b[0;34m\u001b[0m\u001b[0;34m\u001b[0m\u001b[0;34m\u001b[0m\u001b[0m\n\u001b[0;32m-> 1923\u001b[0;31m       return self._build_call_outputs(self._inference_function.call(\n\u001b[0m\u001b[1;32m   1924\u001b[0m           ctx, args, cancellation_manager=cancellation_manager))\n\u001b[1;32m   1925\u001b[0m     forward_backward = self._select_forward_and_backward_functions(\n",
      "\u001b[0;32m/opt/anaconda3/envs/U4-S1-NLP/lib/python3.8/site-packages/tensorflow/python/eager/function.py\u001b[0m in \u001b[0;36mcall\u001b[0;34m(self, ctx, args, cancellation_manager)\u001b[0m\n\u001b[1;32m    543\u001b[0m       \u001b[0;32mwith\u001b[0m \u001b[0m_InterpolateFunctionError\u001b[0m\u001b[0;34m(\u001b[0m\u001b[0mself\u001b[0m\u001b[0;34m)\u001b[0m\u001b[0;34m:\u001b[0m\u001b[0;34m\u001b[0m\u001b[0;34m\u001b[0m\u001b[0m\n\u001b[1;32m    544\u001b[0m         \u001b[0;32mif\u001b[0m \u001b[0mcancellation_manager\u001b[0m \u001b[0;32mis\u001b[0m \u001b[0;32mNone\u001b[0m\u001b[0;34m:\u001b[0m\u001b[0;34m\u001b[0m\u001b[0;34m\u001b[0m\u001b[0m\n\u001b[0;32m--> 545\u001b[0;31m           outputs = execute.execute(\n\u001b[0m\u001b[1;32m    546\u001b[0m               \u001b[0mstr\u001b[0m\u001b[0;34m(\u001b[0m\u001b[0mself\u001b[0m\u001b[0;34m.\u001b[0m\u001b[0msignature\u001b[0m\u001b[0;34m.\u001b[0m\u001b[0mname\u001b[0m\u001b[0;34m)\u001b[0m\u001b[0;34m,\u001b[0m\u001b[0;34m\u001b[0m\u001b[0;34m\u001b[0m\u001b[0m\n\u001b[1;32m    547\u001b[0m               \u001b[0mnum_outputs\u001b[0m\u001b[0;34m=\u001b[0m\u001b[0mself\u001b[0m\u001b[0;34m.\u001b[0m\u001b[0m_num_outputs\u001b[0m\u001b[0;34m,\u001b[0m\u001b[0;34m\u001b[0m\u001b[0;34m\u001b[0m\u001b[0m\n",
      "\u001b[0;32m/opt/anaconda3/envs/U4-S1-NLP/lib/python3.8/site-packages/tensorflow/python/eager/execute.py\u001b[0m in \u001b[0;36mquick_execute\u001b[0;34m(op_name, num_outputs, inputs, attrs, ctx, name)\u001b[0m\n\u001b[1;32m     57\u001b[0m   \u001b[0;32mtry\u001b[0m\u001b[0;34m:\u001b[0m\u001b[0;34m\u001b[0m\u001b[0;34m\u001b[0m\u001b[0m\n\u001b[1;32m     58\u001b[0m     \u001b[0mctx\u001b[0m\u001b[0;34m.\u001b[0m\u001b[0mensure_initialized\u001b[0m\u001b[0;34m(\u001b[0m\u001b[0;34m)\u001b[0m\u001b[0;34m\u001b[0m\u001b[0;34m\u001b[0m\u001b[0m\n\u001b[0;32m---> 59\u001b[0;31m     tensors = pywrap_tfe.TFE_Py_Execute(ctx._handle, device_name, op_name,\n\u001b[0m\u001b[1;32m     60\u001b[0m                                         inputs, attrs, num_outputs)\n\u001b[1;32m     61\u001b[0m   \u001b[0;32mexcept\u001b[0m \u001b[0mcore\u001b[0m\u001b[0;34m.\u001b[0m\u001b[0m_NotOkStatusException\u001b[0m \u001b[0;32mas\u001b[0m \u001b[0me\u001b[0m\u001b[0;34m:\u001b[0m\u001b[0;34m\u001b[0m\u001b[0;34m\u001b[0m\u001b[0m\n",
      "\u001b[0;31mInvalidArgumentError\u001b[0m:  Received a label value of 9 which is outside the valid range of [0, 1).  Label values: 3 7 0 2 4 9 7 3 6 6 4 2 0 2 9 9 0 4 2 5 7 9 3 9 3 1 2 0 3 9 4 2\n\t [[node sparse_categorical_crossentropy/SparseSoftmaxCrossEntropyWithLogits/SparseSoftmaxCrossEntropyWithLogits (defined at /opt/anaconda3/envs/U4-S1-NLP/lib/python3.8/site-packages/wandb/integration/keras/keras.py:120) ]] [Op:__inference_train_function_3275126]\n\nFunction call stack:\ntrain_function\n"
     ]
    }
   ],
   "source": [
    "random_search_params(tune_dropout_model, \"tune_dropout\")"
   ]
  },
  {
   "cell_type": "code",
   "execution_count": 60,
   "metadata": {
    "id": "3afYrIljlLOm"
   },
   "outputs": [],
   "source": [
    "def tune_nn_model(hp):\n",
    "    model = keras.Sequential()\n",
    "\n",
    "    model.add(keras.layers.Dense(units=128,\n",
    "                                 activation=\"relu\", \n",
    "                                 input_shape=[X_train.shape[1]]))\n",
    "\n",
    "    for i in range(hp.Int('num_layers', 1, 6)):\n",
    "      units = hp.Int(\n",
    "          'units_' + str(i), \n",
    "          min_value=8,\n",
    "          max_value=64,\n",
    "          step=8\n",
    "      )\n",
    "      model.add(keras.layers.Dense(units=units, activation='relu'))\n",
    "      drop_rate = hp.Choice('drop_rate_' + str(i), \n",
    "                            [0.0, 0.1, 0.2, 0.3, 0.4, 0.5, 0.6, 0.7, 0.8, 0.9])\n",
    "      model.add(keras.layers.Dropout(rate=drop_rate))\n",
    "\n",
    "    model.add(keras.layers.Dense(10, activation='sigmoid'))\n",
    "\n",
    "    model.compile(\n",
    "        optimizer=\"adam\",\n",
    "        loss = 'sparse_categorical_crossentropy', \n",
    "        metrics = ['accuracy'])\n",
    "    return model"
   ]
  },
  {
   "cell_type": "code",
   "execution_count": 61,
   "metadata": {
    "id": "8L080nqZltMp"
   },
   "outputs": [
    {
     "data": {
      "text/html": [
       "<span style=\"color:#4527A0\"><h1 style=\"font-size:18px\">Search space summary</h1></span>"
      ],
      "text/plain": [
       "<IPython.core.display.HTML object>"
      ]
     },
     "metadata": {},
     "output_type": "display_data"
    },
    {
     "data": {
      "text/html": [
       "<span style=\"color:cyan\"> |-Default search space size: 3</span>"
      ],
      "text/plain": [
       "<IPython.core.display.HTML object>"
      ]
     },
     "metadata": {},
     "output_type": "display_data"
    },
    {
     "data": {
      "text/html": [
       "<span style=\"color:#7E57C2\"><h2 style=\"font-size:16px\">num_layers (Int)</h2></span>"
      ],
      "text/plain": [
       "<IPython.core.display.HTML object>"
      ]
     },
     "metadata": {},
     "output_type": "display_data"
    },
    {
     "data": {
      "text/html": [
       "<span style=\"color:cyan\"> |-default: None</span>"
      ],
      "text/plain": [
       "<IPython.core.display.HTML object>"
      ]
     },
     "metadata": {},
     "output_type": "display_data"
    },
    {
     "data": {
      "text/html": [
       "<span style=\"color:blue\"> |-max_value: 6</span>"
      ],
      "text/plain": [
       "<IPython.core.display.HTML object>"
      ]
     },
     "metadata": {},
     "output_type": "display_data"
    },
    {
     "data": {
      "text/html": [
       "<span style=\"color:cyan\"> |-min_value: 1</span>"
      ],
      "text/plain": [
       "<IPython.core.display.HTML object>"
      ]
     },
     "metadata": {},
     "output_type": "display_data"
    },
    {
     "data": {
      "text/html": [
       "<span style=\"color:blue\"> |-sampling: None</span>"
      ],
      "text/plain": [
       "<IPython.core.display.HTML object>"
      ]
     },
     "metadata": {},
     "output_type": "display_data"
    },
    {
     "data": {
      "text/html": [
       "<span style=\"color:cyan\"> |-step: 1</span>"
      ],
      "text/plain": [
       "<IPython.core.display.HTML object>"
      ]
     },
     "metadata": {},
     "output_type": "display_data"
    },
    {
     "data": {
      "text/html": [
       "<span style=\"color:#7E57C2\"><h2 style=\"font-size:16px\">units_0 (Int)</h2></span>"
      ],
      "text/plain": [
       "<IPython.core.display.HTML object>"
      ]
     },
     "metadata": {},
     "output_type": "display_data"
    },
    {
     "data": {
      "text/html": [
       "<span style=\"color:cyan\"> |-default: None</span>"
      ],
      "text/plain": [
       "<IPython.core.display.HTML object>"
      ]
     },
     "metadata": {},
     "output_type": "display_data"
    },
    {
     "data": {
      "text/html": [
       "<span style=\"color:blue\"> |-max_value: 64</span>"
      ],
      "text/plain": [
       "<IPython.core.display.HTML object>"
      ]
     },
     "metadata": {},
     "output_type": "display_data"
    },
    {
     "data": {
      "text/html": [
       "<span style=\"color:cyan\"> |-min_value: 8</span>"
      ],
      "text/plain": [
       "<IPython.core.display.HTML object>"
      ]
     },
     "metadata": {},
     "output_type": "display_data"
    },
    {
     "data": {
      "text/html": [
       "<span style=\"color:blue\"> |-sampling: None</span>"
      ],
      "text/plain": [
       "<IPython.core.display.HTML object>"
      ]
     },
     "metadata": {},
     "output_type": "display_data"
    },
    {
     "data": {
      "text/html": [
       "<span style=\"color:cyan\"> |-step: 8</span>"
      ],
      "text/plain": [
       "<IPython.core.display.HTML object>"
      ]
     },
     "metadata": {},
     "output_type": "display_data"
    },
    {
     "data": {
      "text/html": [
       "<span style=\"color:#7E57C2\"><h2 style=\"font-size:16px\">drop_rate_0 (Choice)</h2></span>"
      ],
      "text/plain": [
       "<IPython.core.display.HTML object>"
      ]
     },
     "metadata": {},
     "output_type": "display_data"
    },
    {
     "data": {
      "text/html": [
       "<span style=\"color:cyan\"> |-default: 0.0</span>"
      ],
      "text/plain": [
       "<IPython.core.display.HTML object>"
      ]
     },
     "metadata": {},
     "output_type": "display_data"
    },
    {
     "data": {
      "text/html": [
       "<span style=\"color:blue\"> |-ordered: True</span>"
      ],
      "text/plain": [
       "<IPython.core.display.HTML object>"
      ]
     },
     "metadata": {},
     "output_type": "display_data"
    },
    {
     "data": {
      "text/html": [
       "<span style=\"color:cyan\"> |-values: [0.0, 0.1, 0.2, 0.3, 0.4, 0.5, 0.6, 0.7, 0.8, 0.9]</span>"
      ],
      "text/plain": [
       "<IPython.core.display.HTML object>"
      ]
     },
     "metadata": {},
     "output_type": "display_data"
    },
    {
     "name": "stdout",
     "output_type": "stream",
     "text": [
      "Epoch 1/20\n",
      "1875/1875 [==============================] - ETA: 0s - loss: 2.3034 - accuracy: 0.09 - ETA: 2s - loss: 2.3020 - accuracy: 0.09 - ETA: 2s - loss: 2.2943 - accuracy: 0.10 - ETA: 1s - loss: 2.2735 - accuracy: 0.11 - ETA: 1s - loss: 2.2496 - accuracy: 0.12 - ETA: 1s - loss: 2.2278 - accuracy: 0.12 - ETA: 1s - loss: 2.2086 - accuracy: 0.13 - ETA: 1s - loss: 2.1941 - accuracy: 0.13 - ETA: 1s - loss: 2.1797 - accuracy: 0.14 - ETA: 1s - loss: 2.1628 - accuracy: 0.14 - ETA: 1s - loss: 2.1528 - accuracy: 0.15 - ETA: 1s - loss: 2.1410 - accuracy: 0.15 - ETA: 1s - loss: 2.1274 - accuracy: 0.16 - ETA: 1s - loss: 2.1159 - accuracy: 0.16 - ETA: 1s - loss: 2.1060 - accuracy: 0.16 - ETA: 1s - loss: 2.0969 - accuracy: 0.17 - ETA: 1s - loss: 2.0876 - accuracy: 0.17 - ETA: 1s - loss: 2.0765 - accuracy: 0.17 - ETA: 1s - loss: 2.0692 - accuracy: 0.18 - ETA: 1s - loss: 2.0603 - accuracy: 0.18 - ETA: 1s - loss: 2.0504 - accuracy: 0.18 - ETA: 0s - loss: 2.0432 - accuracy: 0.19 - ETA: 0s - loss: 2.0348 - accuracy: 0.19 - ETA: 0s - loss: 2.0264 - accuracy: 0.19 - ETA: 0s - loss: 2.0186 - accuracy: 0.20 - ETA: 0s - loss: 2.0103 - accuracy: 0.20 - ETA: 0s - loss: 2.0034 - accuracy: 0.21 - ETA: 0s - loss: 1.9933 - accuracy: 0.21 - ETA: 0s - loss: 1.9846 - accuracy: 0.22 - ETA: 0s - loss: 1.9756 - accuracy: 0.22 - ETA: 0s - loss: 1.9679 - accuracy: 0.22 - ETA: 0s - loss: 1.9607 - accuracy: 0.23 - ETA: 0s - loss: 1.9535 - accuracy: 0.23 - ETA: 0s - loss: 1.9459 - accuracy: 0.24 - ETA: 0s - loss: 1.9375 - accuracy: 0.24 - ETA: 0s - loss: 1.9286 - accuracy: 0.24 - ETA: 0s - loss: 1.9208 - accuracy: 0.25 - ETA: 0s - loss: 1.9141 - accuracy: 0.25 - ETA: 0s - loss: 1.9056 - accuracy: 0.25 - ETA: 0s - loss: 1.8984 - accuracy: 0.26 - 3s 1ms/step - loss: 1.8940 - accuracy: 0.2636 - val_loss: 1.3955 - val_accuracy: 0.5291\n",
      "Epoch 2/20\n",
      "1875/1875 [==============================] - ETA: 0s - loss: 1.7244 - accuracy: 0.40 - ETA: 2s - loss: 1.6058 - accuracy: 0.39 - ETA: 2s - loss: 1.5939 - accuracy: 0.38 - ETA: 1s - loss: 1.5813 - accuracy: 0.39 - ETA: 1s - loss: 1.5778 - accuracy: 0.39 - ETA: 1s - loss: 1.5762 - accuracy: 0.39 - ETA: 1s - loss: 1.5759 - accuracy: 0.39 - ETA: 1s - loss: 1.5715 - accuracy: 0.40 - ETA: 1s - loss: 1.5724 - accuracy: 0.40 - ETA: 1s - loss: 1.5667 - accuracy: 0.40 - ETA: 1s - loss: 1.5616 - accuracy: 0.40 - ETA: 1s - loss: 1.5647 - accuracy: 0.40 - ETA: 1s - loss: 1.5615 - accuracy: 0.40 - ETA: 1s - loss: 1.5602 - accuracy: 0.40 - ETA: 1s - loss: 1.5549 - accuracy: 0.41 - ETA: 1s - loss: 1.5543 - accuracy: 0.41 - ETA: 1s - loss: 1.5515 - accuracy: 0.41 - ETA: 1s - loss: 1.5477 - accuracy: 0.41 - ETA: 1s - loss: 1.5462 - accuracy: 0.41 - ETA: 1s - loss: 1.5461 - accuracy: 0.41 - ETA: 1s - loss: 1.5424 - accuracy: 0.41 - ETA: 1s - loss: 1.5415 - accuracy: 0.41 - ETA: 0s - loss: 1.5404 - accuracy: 0.41 - ETA: 0s - loss: 1.5379 - accuracy: 0.42 - ETA: 0s - loss: 1.5364 - accuracy: 0.42 - ETA: 0s - loss: 1.5350 - accuracy: 0.42 - ETA: 0s - loss: 1.5337 - accuracy: 0.42 - ETA: 0s - loss: 1.5313 - accuracy: 0.42 - ETA: 0s - loss: 1.5304 - accuracy: 0.42 - ETA: 0s - loss: 1.5302 - accuracy: 0.42 - ETA: 0s - loss: 1.5286 - accuracy: 0.42 - ETA: 0s - loss: 1.5271 - accuracy: 0.42 - ETA: 0s - loss: 1.5246 - accuracy: 0.42 - ETA: 0s - loss: 1.5241 - accuracy: 0.43 - ETA: 0s - loss: 1.5223 - accuracy: 0.43 - ETA: 0s - loss: 1.5200 - accuracy: 0.43 - ETA: 0s - loss: 1.5187 - accuracy: 0.43 - ETA: 0s - loss: 1.5202 - accuracy: 0.43 - ETA: 0s - loss: 1.5191 - accuracy: 0.43 - ETA: 0s - loss: 1.5174 - accuracy: 0.43 - ETA: 0s - loss: 1.5153 - accuracy: 0.43 - ETA: 0s - loss: 1.5143 - accuracy: 0.43 - 3s 1ms/step - loss: 1.5136 - accuracy: 0.4372 - val_loss: 1.2253 - val_accuracy: 0.6857\n",
      "Epoch 3/20\n",
      "1875/1875 [==============================] - ETA: 0s - loss: 1.3386 - accuracy: 0.50 - ETA: 2s - loss: 1.4100 - accuracy: 0.48 - ETA: 2s - loss: 1.4230 - accuracy: 0.47 - ETA: 2s - loss: 1.4229 - accuracy: 0.48 - ETA: 2s - loss: 1.4162 - accuracy: 0.48 - ETA: 1s - loss: 1.4161 - accuracy: 0.48 - ETA: 1s - loss: 1.4152 - accuracy: 0.48 - ETA: 1s - loss: 1.4128 - accuracy: 0.49 - ETA: 1s - loss: 1.4121 - accuracy: 0.49 - ETA: 1s - loss: 1.4106 - accuracy: 0.49 - ETA: 1s - loss: 1.4100 - accuracy: 0.49 - ETA: 1s - loss: 1.4096 - accuracy: 0.49 - ETA: 1s - loss: 1.4062 - accuracy: 0.49 - ETA: 1s - loss: 1.4053 - accuracy: 0.49 - ETA: 1s - loss: 1.4029 - accuracy: 0.49 - ETA: 1s - loss: 1.4038 - accuracy: 0.49 - ETA: 1s - loss: 1.4049 - accuracy: 0.49 - ETA: 1s - loss: 1.4093 - accuracy: 0.49 - ETA: 1s - loss: 1.4096 - accuracy: 0.49 - ETA: 1s - loss: 1.4135 - accuracy: 0.49 - ETA: 1s - loss: 1.4125 - accuracy: 0.49 - ETA: 1s - loss: 1.4134 - accuracy: 0.49 - ETA: 1s - loss: 1.4130 - accuracy: 0.49 - ETA: 0s - loss: 1.4114 - accuracy: 0.49 - ETA: 0s - loss: 1.4129 - accuracy: 0.49 - ETA: 0s - loss: 1.4124 - accuracy: 0.49 - ETA: 0s - loss: 1.4127 - accuracy: 0.49 - ETA: 0s - loss: 1.4126 - accuracy: 0.49 - ETA: 0s - loss: 1.4101 - accuracy: 0.49 - ETA: 0s - loss: 1.4071 - accuracy: 0.49 - ETA: 0s - loss: 1.4064 - accuracy: 0.49 - ETA: 0s - loss: 1.4060 - accuracy: 0.49 - ETA: 0s - loss: 1.4052 - accuracy: 0.49 - ETA: 0s - loss: 1.4042 - accuracy: 0.49 - ETA: 0s - loss: 1.4034 - accuracy: 0.50 - ETA: 0s - loss: 1.4007 - accuracy: 0.50 - ETA: 0s - loss: 1.3987 - accuracy: 0.50 - ETA: 0s - loss: 1.3979 - accuracy: 0.50 - ETA: 0s - loss: 1.3958 - accuracy: 0.50 - ETA: 0s - loss: 1.3940 - accuracy: 0.50 - ETA: 0s - loss: 1.3937 - accuracy: 0.50 - 3s 1ms/step - loss: 1.3930 - accuracy: 0.5052 - val_loss: 1.1121 - val_accuracy: 0.7050\n",
      "Epoch 4/20\n",
      "1875/1875 [==============================] - ETA: 0s - loss: 1.2998 - accuracy: 0.53 - ETA: 2s - loss: 1.2657 - accuracy: 0.54 - ETA: 2s - loss: 1.3251 - accuracy: 0.53 - ETA: 2s - loss: 1.3138 - accuracy: 0.53 - ETA: 2s - loss: 1.3113 - accuracy: 0.53 - ETA: 2s - loss: 1.3234 - accuracy: 0.53 - ETA: 2s - loss: 1.3363 - accuracy: 0.53 - ETA: 2s - loss: 1.3390 - accuracy: 0.53 - ETA: 2s - loss: 1.3431 - accuracy: 0.53 - ETA: 1s - loss: 1.3427 - accuracy: 0.53 - ETA: 1s - loss: 1.3354 - accuracy: 0.53 - ETA: 1s - loss: 1.3325 - accuracy: 0.53 - ETA: 1s - loss: 1.3368 - accuracy: 0.53 - ETA: 1s - loss: 1.3418 - accuracy: 0.53 - ETA: 1s - loss: 1.3409 - accuracy: 0.53 - ETA: 1s - loss: 1.3399 - accuracy: 0.53 - ETA: 1s - loss: 1.3401 - accuracy: 0.53 - ETA: 1s - loss: 1.3406 - accuracy: 0.53 - ETA: 1s - loss: 1.3414 - accuracy: 0.53 - ETA: 1s - loss: 1.3403 - accuracy: 0.53 - ETA: 1s - loss: 1.3411 - accuracy: 0.53 - ETA: 1s - loss: 1.3422 - accuracy: 0.53 - ETA: 1s - loss: 1.3407 - accuracy: 0.53 - ETA: 1s - loss: 1.3423 - accuracy: 0.53 - ETA: 1s - loss: 1.3406 - accuracy: 0.53 - ETA: 1s - loss: 1.3396 - accuracy: 0.53 - ETA: 0s - loss: 1.3369 - accuracy: 0.53 - ETA: 0s - loss: 1.3351 - accuracy: 0.53 - ETA: 0s - loss: 1.3342 - accuracy: 0.53 - ETA: 0s - loss: 1.3327 - accuracy: 0.53 - ETA: 0s - loss: 1.3321 - accuracy: 0.53 - ETA: 0s - loss: 1.3308 - accuracy: 0.54 - ETA: 0s - loss: 1.3300 - accuracy: 0.54 - ETA: 0s - loss: 1.3301 - accuracy: 0.54 - ETA: 0s - loss: 1.3294 - accuracy: 0.54 - ETA: 0s - loss: 1.3301 - accuracy: 0.54 - ETA: 0s - loss: 1.3287 - accuracy: 0.54 - ETA: 0s - loss: 1.3273 - accuracy: 0.54 - ETA: 0s - loss: 1.3276 - accuracy: 0.54 - ETA: 0s - loss: 1.3272 - accuracy: 0.54 - ETA: 0s - loss: 1.3254 - accuracy: 0.54 - ETA: 0s - loss: 1.3258 - accuracy: 0.54 - ETA: 0s - loss: 1.3254 - accuracy: 0.54 - ETA: 0s - loss: 1.3247 - accuracy: 0.54 - 3s 2ms/step - loss: 1.3239 - accuracy: 0.5474 - val_loss: 1.0550 - val_accuracy: 0.7066\n",
      "Epoch 5/20\n",
      "1875/1875 [==============================] - ETA: 0s - loss: 1.2759 - accuracy: 0.62 - ETA: 2s - loss: 1.3201 - accuracy: 0.56 - ETA: 2s - loss: 1.2738 - accuracy: 0.57 - ETA: 1s - loss: 1.2628 - accuracy: 0.57 - ETA: 1s - loss: 1.2616 - accuracy: 0.57 - ETA: 1s - loss: 1.2501 - accuracy: 0.57 - ETA: 1s - loss: 1.2466 - accuracy: 0.57 - ETA: 1s - loss: 1.2550 - accuracy: 0.57 - ETA: 1s - loss: 1.2592 - accuracy: 0.57 - ETA: 1s - loss: 1.2615 - accuracy: 0.57 - ETA: 1s - loss: 1.2619 - accuracy: 0.57 - ETA: 1s - loss: 1.2623 - accuracy: 0.57 - ETA: 1s - loss: 1.2631 - accuracy: 0.57 - ETA: 1s - loss: 1.2602 - accuracy: 0.57 - ETA: 1s - loss: 1.2603 - accuracy: 0.57 - ETA: 1s - loss: 1.2580 - accuracy: 0.57 - ETA: 1s - loss: 1.2577 - accuracy: 0.57 - ETA: 1s - loss: 1.2588 - accuracy: 0.57 - ETA: 1s - loss: 1.2632 - accuracy: 0.57 - ETA: 1s - loss: 1.2640 - accuracy: 0.57 - ETA: 1s - loss: 1.2649 - accuracy: 0.57 - ETA: 1s - loss: 1.2646 - accuracy: 0.57 - ETA: 1s - loss: 1.2637 - accuracy: 0.57 - ETA: 0s - loss: 1.2624 - accuracy: 0.57 - ETA: 0s - loss: 1.2641 - accuracy: 0.57 - ETA: 0s - loss: 1.2651 - accuracy: 0.57 - ETA: 0s - loss: 1.2657 - accuracy: 0.57 - ETA: 0s - loss: 1.2656 - accuracy: 0.57 - ETA: 0s - loss: 1.2655 - accuracy: 0.57 - ETA: 0s - loss: 1.2654 - accuracy: 0.57 - ETA: 0s - loss: 1.2659 - accuracy: 0.57 - ETA: 0s - loss: 1.2631 - accuracy: 0.57 - ETA: 0s - loss: 1.2631 - accuracy: 0.57 - ETA: 0s - loss: 1.2627 - accuracy: 0.57 - ETA: 0s - loss: 1.2631 - accuracy: 0.57 - ETA: 0s - loss: 1.2634 - accuracy: 0.57 - ETA: 0s - loss: 1.2629 - accuracy: 0.57 - ETA: 0s - loss: 1.2639 - accuracy: 0.57 - ETA: 0s - loss: 1.2638 - accuracy: 0.57 - ETA: 0s - loss: 1.2642 - accuracy: 0.57 - ETA: 0s - loss: 1.2644 - accuracy: 0.57 - ETA: 0s - loss: 1.2635 - accuracy: 0.57 - 3s 2ms/step - loss: 1.2634 - accuracy: 0.5773 - val_loss: 0.9949 - val_accuracy: 0.7286\n",
      "Epoch 6/20\n",
      "1875/1875 [==============================] - ETA: 0s - loss: 0.9209 - accuracy: 0.78 - ETA: 2s - loss: 1.2005 - accuracy: 0.60 - ETA: 2s - loss: 1.2427 - accuracy: 0.58 - ETA: 2s - loss: 1.2183 - accuracy: 0.59 - ETA: 2s - loss: 1.2294 - accuracy: 0.59 - ETA: 2s - loss: 1.2400 - accuracy: 0.59 - ETA: 2s - loss: 1.2417 - accuracy: 0.59 - ETA: 2s - loss: 1.2473 - accuracy: 0.58 - ETA: 2s - loss: 1.2469 - accuracy: 0.58 - ETA: 2s - loss: 1.2424 - accuracy: 0.58 - ETA: 2s - loss: 1.2392 - accuracy: 0.59 - ETA: 1s - loss: 1.2375 - accuracy: 0.59 - ETA: 1s - loss: 1.2351 - accuracy: 0.59 - ETA: 1s - loss: 1.2354 - accuracy: 0.59 - ETA: 1s - loss: 1.2374 - accuracy: 0.59 - ETA: 1s - loss: 1.2369 - accuracy: 0.59 - ETA: 1s - loss: 1.2313 - accuracy: 0.59 - ETA: 1s - loss: 1.2309 - accuracy: 0.59 - ETA: 1s - loss: 1.2312 - accuracy: 0.59 - ETA: 1s - loss: 1.2307 - accuracy: 0.59 - ETA: 1s - loss: 1.2300 - accuracy: 0.59 - ETA: 1s - loss: 1.2308 - accuracy: 0.59 - ETA: 1s - loss: 1.2288 - accuracy: 0.59 - ETA: 1s - loss: 1.2278 - accuracy: 0.59 - ETA: 1s - loss: 1.2263 - accuracy: 0.59 - ETA: 1s - loss: 1.2280 - accuracy: 0.59 - ETA: 1s - loss: 1.2280 - accuracy: 0.59 - ETA: 1s - loss: 1.2275 - accuracy: 0.59 - ETA: 1s - loss: 1.2270 - accuracy: 0.59 - ETA: 1s - loss: 1.2272 - accuracy: 0.59 - ETA: 1s - loss: 1.2277 - accuracy: 0.59 - ETA: 1s - loss: 1.2277 - accuracy: 0.59 - ETA: 1s - loss: 1.2279 - accuracy: 0.59 - ETA: 1s - loss: 1.2288 - accuracy: 0.59 - ETA: 1s - loss: 1.2285 - accuracy: 0.59 - ETA: 1s - loss: 1.2267 - accuracy: 0.59 - ETA: 0s - loss: 1.2277 - accuracy: 0.59 - ETA: 0s - loss: 1.2251 - accuracy: 0.59 - ETA: 0s - loss: 1.2252 - accuracy: 0.59 - ETA: 0s - loss: 1.2242 - accuracy: 0.59 - ETA: 0s - loss: 1.2262 - accuracy: 0.59 - ETA: 0s - loss: 1.2248 - accuracy: 0.59 - ETA: 0s - loss: 1.2258 - accuracy: 0.59 - ETA: 0s - loss: 1.2250 - accuracy: 0.59 - ETA: 0s - loss: 1.2252 - accuracy: 0.59 - ETA: 0s - loss: 1.2253 - accuracy: 0.59 - ETA: 0s - loss: 1.2251 - accuracy: 0.59 - ETA: 0s - loss: 1.2245 - accuracy: 0.59 - ETA: 0s - loss: 1.2238 - accuracy: 0.59 - ETA: 0s - loss: 1.2238 - accuracy: 0.59 - ETA: 0s - loss: 1.2224 - accuracy: 0.59 - ETA: 0s - loss: 1.2223 - accuracy: 0.59 - ETA: 0s - loss: 1.2207 - accuracy: 0.59 - ETA: 0s - loss: 1.2195 - accuracy: 0.59 - ETA: 0s - loss: 1.2189 - accuracy: 0.59 - 4s 2ms/step - loss: 1.2188 - accuracy: 0.5974 - val_loss: 0.9892 - val_accuracy: 0.7170\n",
      "Epoch 7/20\n",
      "1875/1875 [==============================] - ETA: 0s - loss: 1.5053 - accuracy: 0.50 - ETA: 2s - loss: 1.2433 - accuracy: 0.58 - ETA: 2s - loss: 1.2175 - accuracy: 0.59 - ETA: 2s - loss: 1.1932 - accuracy: 0.60 - ETA: 2s - loss: 1.1909 - accuracy: 0.60 - ETA: 2s - loss: 1.1853 - accuracy: 0.60 - ETA: 2s - loss: 1.1866 - accuracy: 0.60 - ETA: 2s - loss: 1.1821 - accuracy: 0.61 - ETA: 2s - loss: 1.1937 - accuracy: 0.60 - ETA: 2s - loss: 1.1913 - accuracy: 0.60 - ETA: 1s - loss: 1.1919 - accuracy: 0.60 - ETA: 1s - loss: 1.1902 - accuracy: 0.60 - ETA: 1s - loss: 1.1920 - accuracy: 0.60 - ETA: 1s - loss: 1.1944 - accuracy: 0.60 - ETA: 1s - loss: 1.2003 - accuracy: 0.60 - ETA: 1s - loss: 1.1989 - accuracy: 0.60 - ETA: 1s - loss: 1.1953 - accuracy: 0.60 - ETA: 1s - loss: 1.1949 - accuracy: 0.60 - ETA: 1s - loss: 1.1938 - accuracy: 0.60 - ETA: 1s - loss: 1.1961 - accuracy: 0.60 - ETA: 1s - loss: 1.1919 - accuracy: 0.60 - ETA: 1s - loss: 1.1928 - accuracy: 0.60 - ETA: 1s - loss: 1.1962 - accuracy: 0.60 - ETA: 1s - loss: 1.1942 - accuracy: 0.60 - ETA: 1s - loss: 1.1925 - accuracy: 0.60 - ETA: 1s - loss: 1.1930 - accuracy: 0.60 - ETA: 1s - loss: 1.1909 - accuracy: 0.61 - ETA: 0s - loss: 1.1940 - accuracy: 0.60 - ETA: 0s - loss: 1.1940 - accuracy: 0.60 - ETA: 0s - loss: 1.1922 - accuracy: 0.60 - ETA: 0s - loss: 1.1933 - accuracy: 0.60 - ETA: 0s - loss: 1.1942 - accuracy: 0.60 - ETA: 0s - loss: 1.1934 - accuracy: 0.60 - ETA: 0s - loss: 1.1917 - accuracy: 0.60 - ETA: 0s - loss: 1.1920 - accuracy: 0.60 - ETA: 0s - loss: 1.1908 - accuracy: 0.61 - ETA: 0s - loss: 1.1898 - accuracy: 0.61 - ETA: 0s - loss: 1.1892 - accuracy: 0.61 - ETA: 0s - loss: 1.1900 - accuracy: 0.61 - ETA: 0s - loss: 1.1884 - accuracy: 0.61 - ETA: 0s - loss: 1.1871 - accuracy: 0.61 - ETA: 0s - loss: 1.1864 - accuracy: 0.61 - ETA: 0s - loss: 1.1866 - accuracy: 0.61 - ETA: 0s - loss: 1.1870 - accuracy: 0.61 - ETA: 0s - loss: 1.1874 - accuracy: 0.61 - ETA: 0s - loss: 1.1875 - accuracy: 0.61 - 3s 2ms/step - loss: 1.1869 - accuracy: 0.6126 - val_loss: 1.0233 - val_accuracy: 0.6897\n",
      "Epoch 8/20\n"
     ]
    },
    {
     "name": "stdout",
     "output_type": "stream",
     "text": [
      "1875/1875 [==============================] - ETA: 0s - loss: 1.2944 - accuracy: 0.56 - ETA: 1s - loss: 1.2045 - accuracy: 0.59 - ETA: 1s - loss: 1.1629 - accuracy: 0.61 - ETA: 1s - loss: 1.1571 - accuracy: 0.62 - ETA: 1s - loss: 1.1543 - accuracy: 0.62 - ETA: 1s - loss: 1.1491 - accuracy: 0.62 - ETA: 1s - loss: 1.1555 - accuracy: 0.62 - ETA: 1s - loss: 1.1455 - accuracy: 0.62 - ETA: 1s - loss: 1.1462 - accuracy: 0.62 - ETA: 1s - loss: 1.1523 - accuracy: 0.62 - ETA: 1s - loss: 1.1541 - accuracy: 0.62 - ETA: 1s - loss: 1.1490 - accuracy: 0.62 - ETA: 1s - loss: 1.1551 - accuracy: 0.62 - ETA: 1s - loss: 1.1556 - accuracy: 0.62 - ETA: 1s - loss: 1.1557 - accuracy: 0.62 - ETA: 1s - loss: 1.1567 - accuracy: 0.62 - ETA: 1s - loss: 1.1596 - accuracy: 0.62 - ETA: 1s - loss: 1.1616 - accuracy: 0.62 - ETA: 1s - loss: 1.1602 - accuracy: 0.62 - ETA: 1s - loss: 1.1609 - accuracy: 0.62 - ETA: 0s - loss: 1.1618 - accuracy: 0.62 - ETA: 0s - loss: 1.1628 - accuracy: 0.62 - ETA: 0s - loss: 1.1631 - accuracy: 0.62 - ETA: 0s - loss: 1.1638 - accuracy: 0.62 - ETA: 0s - loss: 1.1622 - accuracy: 0.62 - ETA: 0s - loss: 1.1611 - accuracy: 0.62 - ETA: 0s - loss: 1.1611 - accuracy: 0.62 - ETA: 0s - loss: 1.1596 - accuracy: 0.62 - ETA: 0s - loss: 1.1599 - accuracy: 0.62 - ETA: 0s - loss: 1.1588 - accuracy: 0.62 - ETA: 0s - loss: 1.1579 - accuracy: 0.62 - ETA: 0s - loss: 1.1585 - accuracy: 0.62 - ETA: 0s - loss: 1.1579 - accuracy: 0.62 - ETA: 0s - loss: 1.1565 - accuracy: 0.62 - ETA: 0s - loss: 1.1551 - accuracy: 0.62 - ETA: 0s - loss: 1.1560 - accuracy: 0.62 - ETA: 0s - loss: 1.1550 - accuracy: 0.62 - ETA: 0s - loss: 1.1557 - accuracy: 0.62 - ETA: 0s - loss: 1.1550 - accuracy: 0.62 - ETA: 0s - loss: 1.1549 - accuracy: 0.62 - ETA: 0s - loss: 1.1548 - accuracy: 0.62 - ETA: 0s - loss: 1.1549 - accuracy: 0.62 - ETA: 0s - loss: 1.1556 - accuracy: 0.62 - 3s 2ms/step - loss: 1.1550 - accuracy: 0.6247 - val_loss: 0.9774 - val_accuracy: 0.7110\n",
      "Epoch 9/20\n",
      "1875/1875 [==============================] - ETA: 0s - loss: 1.3208 - accuracy: 0.59 - ETA: 2s - loss: 1.1102 - accuracy: 0.64 - ETA: 2s - loss: 1.1410 - accuracy: 0.63 - ETA: 2s - loss: 1.1496 - accuracy: 0.63 - ETA: 1s - loss: 1.1588 - accuracy: 0.63 - ETA: 1s - loss: 1.1644 - accuracy: 0.62 - ETA: 1s - loss: 1.1578 - accuracy: 0.62 - ETA: 1s - loss: 1.1527 - accuracy: 0.62 - ETA: 1s - loss: 1.1495 - accuracy: 0.62 - ETA: 1s - loss: 1.1462 - accuracy: 0.63 - ETA: 1s - loss: 1.1491 - accuracy: 0.62 - ETA: 1s - loss: 1.1509 - accuracy: 0.62 - ETA: 1s - loss: 1.1515 - accuracy: 0.62 - ETA: 1s - loss: 1.1500 - accuracy: 0.62 - ETA: 1s - loss: 1.1509 - accuracy: 0.62 - ETA: 1s - loss: 1.1505 - accuracy: 0.62 - ETA: 1s - loss: 1.1532 - accuracy: 0.62 - ETA: 1s - loss: 1.1525 - accuracy: 0.62 - ETA: 1s - loss: 1.1515 - accuracy: 0.62 - ETA: 1s - loss: 1.1486 - accuracy: 0.62 - ETA: 1s - loss: 1.1474 - accuracy: 0.62 - ETA: 1s - loss: 1.1447 - accuracy: 0.62 - ETA: 1s - loss: 1.1436 - accuracy: 0.62 - ETA: 1s - loss: 1.1438 - accuracy: 0.62 - ETA: 1s - loss: 1.1426 - accuracy: 0.62 - ETA: 1s - loss: 1.1418 - accuracy: 0.63 - ETA: 1s - loss: 1.1412 - accuracy: 0.63 - ETA: 0s - loss: 1.1409 - accuracy: 0.63 - ETA: 0s - loss: 1.1397 - accuracy: 0.63 - ETA: 0s - loss: 1.1379 - accuracy: 0.63 - ETA: 0s - loss: 1.1408 - accuracy: 0.63 - ETA: 0s - loss: 1.1404 - accuracy: 0.63 - ETA: 0s - loss: 1.1385 - accuracy: 0.63 - ETA: 0s - loss: 1.1388 - accuracy: 0.63 - ETA: 0s - loss: 1.1406 - accuracy: 0.63 - ETA: 0s - loss: 1.1399 - accuracy: 0.63 - ETA: 0s - loss: 1.1399 - accuracy: 0.63 - ETA: 0s - loss: 1.1400 - accuracy: 0.63 - ETA: 0s - loss: 1.1398 - accuracy: 0.63 - ETA: 0s - loss: 1.1387 - accuracy: 0.63 - ETA: 0s - loss: 1.1382 - accuracy: 0.63 - ETA: 0s - loss: 1.1387 - accuracy: 0.63 - ETA: 0s - loss: 1.1392 - accuracy: 0.63 - ETA: 0s - loss: 1.1368 - accuracy: 0.63 - ETA: 0s - loss: 1.1364 - accuracy: 0.63 - ETA: 0s - loss: 1.1343 - accuracy: 0.63 - 3s 2ms/step - loss: 1.1339 - accuracy: 0.6323 - val_loss: 1.0317 - val_accuracy: 0.6855\n",
      "Epoch 10/20\n",
      "1875/1875 [==============================] - ETA: 0s - loss: 0.8734 - accuracy: 0.71 - ETA: 2s - loss: 1.1291 - accuracy: 0.65 - ETA: 2s - loss: 1.1030 - accuracy: 0.64 - ETA: 2s - loss: 1.1109 - accuracy: 0.64 - ETA: 2s - loss: 1.1038 - accuracy: 0.64 - ETA: 2s - loss: 1.1077 - accuracy: 0.64 - ETA: 2s - loss: 1.1183 - accuracy: 0.63 - ETA: 2s - loss: 1.1172 - accuracy: 0.63 - ETA: 2s - loss: 1.1136 - accuracy: 0.63 - ETA: 1s - loss: 1.1075 - accuracy: 0.64 - ETA: 1s - loss: 1.1138 - accuracy: 0.64 - ETA: 1s - loss: 1.1133 - accuracy: 0.64 - ETA: 1s - loss: 1.1121 - accuracy: 0.63 - ETA: 1s - loss: 1.1145 - accuracy: 0.63 - ETA: 1s - loss: 1.1139 - accuracy: 0.63 - ETA: 1s - loss: 1.1135 - accuracy: 0.63 - ETA: 1s - loss: 1.1154 - accuracy: 0.63 - ETA: 1s - loss: 1.1168 - accuracy: 0.63 - ETA: 1s - loss: 1.1172 - accuracy: 0.63 - ETA: 1s - loss: 1.1155 - accuracy: 0.63 - ETA: 1s - loss: 1.1163 - accuracy: 0.63 - ETA: 1s - loss: 1.1144 - accuracy: 0.63 - ETA: 1s - loss: 1.1156 - accuracy: 0.63 - ETA: 0s - loss: 1.1158 - accuracy: 0.63 - ETA: 0s - loss: 1.1181 - accuracy: 0.63 - ETA: 0s - loss: 1.1149 - accuracy: 0.63 - ETA: 0s - loss: 1.1148 - accuracy: 0.63 - ETA: 0s - loss: 1.1141 - accuracy: 0.63 - ETA: 0s - loss: 1.1138 - accuracy: 0.64 - ETA: 0s - loss: 1.1157 - accuracy: 0.63 - ETA: 0s - loss: 1.1161 - accuracy: 0.64 - ETA: 0s - loss: 1.1151 - accuracy: 0.64 - ETA: 0s - loss: 1.1138 - accuracy: 0.64 - ETA: 0s - loss: 1.1148 - accuracy: 0.64 - ETA: 0s - loss: 1.1140 - accuracy: 0.64 - ETA: 0s - loss: 1.1149 - accuracy: 0.64 - ETA: 0s - loss: 1.1148 - accuracy: 0.64 - ETA: 0s - loss: 1.1154 - accuracy: 0.63 - ETA: 0s - loss: 1.1163 - accuracy: 0.63 - ETA: 0s - loss: 1.1164 - accuracy: 0.63 - ETA: 0s - loss: 1.1161 - accuracy: 0.64 - 3s 1ms/step - loss: 1.1160 - accuracy: 0.6402 - val_loss: 1.0657 - val_accuracy: 0.6624\n",
      "Epoch 11/20\n",
      "1875/1875 [==============================] - ETA: 0s - loss: 1.1070 - accuracy: 0.71 - ETA: 1s - loss: 1.0491 - accuracy: 0.65 - ETA: 1s - loss: 1.0955 - accuracy: 0.65 - ETA: 1s - loss: 1.0872 - accuracy: 0.65 - ETA: 1s - loss: 1.0971 - accuracy: 0.64 - ETA: 1s - loss: 1.1089 - accuracy: 0.64 - ETA: 1s - loss: 1.1094 - accuracy: 0.64 - ETA: 1s - loss: 1.1103 - accuracy: 0.64 - ETA: 1s - loss: 1.1015 - accuracy: 0.64 - ETA: 1s - loss: 1.1038 - accuracy: 0.64 - ETA: 1s - loss: 1.1026 - accuracy: 0.64 - ETA: 1s - loss: 1.1049 - accuracy: 0.64 - ETA: 1s - loss: 1.1046 - accuracy: 0.64 - ETA: 1s - loss: 1.1035 - accuracy: 0.64 - ETA: 1s - loss: 1.0983 - accuracy: 0.64 - ETA: 1s - loss: 1.1001 - accuracy: 0.64 - ETA: 1s - loss: 1.1038 - accuracy: 0.64 - ETA: 1s - loss: 1.1009 - accuracy: 0.64 - ETA: 1s - loss: 1.0996 - accuracy: 0.64 - ETA: 0s - loss: 1.1003 - accuracy: 0.64 - ETA: 0s - loss: 1.1006 - accuracy: 0.64 - ETA: 0s - loss: 1.1017 - accuracy: 0.64 - ETA: 0s - loss: 1.1003 - accuracy: 0.64 - ETA: 0s - loss: 1.1006 - accuracy: 0.64 - ETA: 0s - loss: 1.1014 - accuracy: 0.64 - ETA: 0s - loss: 1.1005 - accuracy: 0.64 - ETA: 0s - loss: 1.1005 - accuracy: 0.64 - ETA: 0s - loss: 1.0999 - accuracy: 0.64 - ETA: 0s - loss: 1.1020 - accuracy: 0.64 - ETA: 0s - loss: 1.1023 - accuracy: 0.64 - ETA: 0s - loss: 1.1022 - accuracy: 0.64 - ETA: 0s - loss: 1.1018 - accuracy: 0.64 - ETA: 0s - loss: 1.1025 - accuracy: 0.64 - ETA: 0s - loss: 1.1023 - accuracy: 0.64 - ETA: 0s - loss: 1.1010 - accuracy: 0.64 - ETA: 0s - loss: 1.1012 - accuracy: 0.64 - ETA: 0s - loss: 1.0999 - accuracy: 0.64 - ETA: 0s - loss: 1.0996 - accuracy: 0.64 - ETA: 0s - loss: 1.0992 - accuracy: 0.64 - 3s 1ms/step - loss: 1.0997 - accuracy: 0.6464 - val_loss: 1.0493 - val_accuracy: 0.6806\n",
      "Epoch 12/20\n",
      "1875/1875 [==============================] - ETA: 0s - loss: 0.9454 - accuracy: 0.68 - ETA: 1s - loss: 1.0893 - accuracy: 0.65 - ETA: 1s - loss: 1.0795 - accuracy: 0.65 - ETA: 1s - loss: 1.0663 - accuracy: 0.65 - ETA: 1s - loss: 1.0808 - accuracy: 0.65 - ETA: 1s - loss: 1.0713 - accuracy: 0.65 - ETA: 1s - loss: 1.0736 - accuracy: 0.65 - ETA: 1s - loss: 1.0725 - accuracy: 0.65 - ETA: 1s - loss: 1.0779 - accuracy: 0.65 - ETA: 1s - loss: 1.0803 - accuracy: 0.65 - ETA: 1s - loss: 1.0790 - accuracy: 0.65 - ETA: 1s - loss: 1.0789 - accuracy: 0.65 - ETA: 1s - loss: 1.0837 - accuracy: 0.64 - ETA: 1s - loss: 1.0815 - accuracy: 0.65 - ETA: 1s - loss: 1.0819 - accuracy: 0.64 - ETA: 1s - loss: 1.0801 - accuracy: 0.64 - ETA: 1s - loss: 1.0819 - accuracy: 0.64 - ETA: 1s - loss: 1.0836 - accuracy: 0.64 - ETA: 1s - loss: 1.0821 - accuracy: 0.64 - ETA: 1s - loss: 1.0831 - accuracy: 0.64 - ETA: 1s - loss: 1.0838 - accuracy: 0.65 - ETA: 0s - loss: 1.0839 - accuracy: 0.64 - ETA: 0s - loss: 1.0848 - accuracy: 0.65 - ETA: 0s - loss: 1.0855 - accuracy: 0.64 - ETA: 0s - loss: 1.0860 - accuracy: 0.64 - ETA: 0s - loss: 1.0855 - accuracy: 0.64 - ETA: 0s - loss: 1.0847 - accuracy: 0.65 - ETA: 0s - loss: 1.0850 - accuracy: 0.65 - ETA: 0s - loss: 1.0856 - accuracy: 0.64 - ETA: 0s - loss: 1.0864 - accuracy: 0.64 - ETA: 0s - loss: 1.0866 - accuracy: 0.64 - ETA: 0s - loss: 1.0862 - accuracy: 0.64 - ETA: 0s - loss: 1.0859 - accuracy: 0.64 - ETA: 0s - loss: 1.0856 - accuracy: 0.64 - ETA: 0s - loss: 1.0850 - accuracy: 0.64 - ETA: 0s - loss: 1.0841 - accuracy: 0.65 - ETA: 0s - loss: 1.0835 - accuracy: 0.64 - ETA: 0s - loss: 1.0827 - accuracy: 0.65 - ETA: 0s - loss: 1.0833 - accuracy: 0.64 - ETA: 0s - loss: 1.0827 - accuracy: 0.65 - 3s 1ms/step - loss: 1.0830 - accuracy: 0.6501 - val_loss: 1.0528 - val_accuracy: 0.6892\n",
      "Epoch 13/20\n",
      "1875/1875 [==============================] - ETA: 0s - loss: 0.9205 - accuracy: 0.71 - ETA: 1s - loss: 1.0257 - accuracy: 0.67 - ETA: 1s - loss: 1.0419 - accuracy: 0.66 - ETA: 1s - loss: 1.0482 - accuracy: 0.66 - ETA: 1s - loss: 1.0546 - accuracy: 0.66 - ETA: 1s - loss: 1.0650 - accuracy: 0.66 - ETA: 1s - loss: 1.0680 - accuracy: 0.66 - ETA: 1s - loss: 1.0679 - accuracy: 0.65 - ETA: 1s - loss: 1.0673 - accuracy: 0.65 - ETA: 1s - loss: 1.0647 - accuracy: 0.65 - ETA: 1s - loss: 1.0642 - accuracy: 0.65 - ETA: 1s - loss: 1.0613 - accuracy: 0.65 - ETA: 1s - loss: 1.0590 - accuracy: 0.65 - ETA: 1s - loss: 1.0574 - accuracy: 0.66 - ETA: 1s - loss: 1.0573 - accuracy: 0.65 - ETA: 1s - loss: 1.0577 - accuracy: 0.65 - ETA: 1s - loss: 1.0610 - accuracy: 0.65 - ETA: 1s - loss: 1.0624 - accuracy: 0.65 - ETA: 0s - loss: 1.0626 - accuracy: 0.65 - ETA: 0s - loss: 1.0617 - accuracy: 0.65 - ETA: 0s - loss: 1.0621 - accuracy: 0.65 - ETA: 0s - loss: 1.0628 - accuracy: 0.65 - ETA: 0s - loss: 1.0647 - accuracy: 0.65 - ETA: 0s - loss: 1.0641 - accuracy: 0.65 - ETA: 0s - loss: 1.0630 - accuracy: 0.65 - ETA: 0s - loss: 1.0646 - accuracy: 0.65 - ETA: 0s - loss: 1.0652 - accuracy: 0.65 - ETA: 0s - loss: 1.0685 - accuracy: 0.65 - ETA: 0s - loss: 1.0676 - accuracy: 0.65 - ETA: 0s - loss: 1.0702 - accuracy: 0.65 - ETA: 0s - loss: 1.0706 - accuracy: 0.65 - ETA: 0s - loss: 1.0705 - accuracy: 0.65 - ETA: 0s - loss: 1.0697 - accuracy: 0.65 - ETA: 0s - loss: 1.0700 - accuracy: 0.65 - ETA: 0s - loss: 1.0698 - accuracy: 0.65 - ETA: 0s - loss: 1.0700 - accuracy: 0.65 - ETA: 0s - loss: 1.0713 - accuracy: 0.65 - ETA: 0s - loss: 1.0705 - accuracy: 0.65 - ETA: 0s - loss: 1.0714 - accuracy: 0.65 - 3s 1ms/step - loss: 1.0705 - accuracy: 0.6557 - val_loss: 1.0758 - val_accuracy: 0.6661\n",
      "Epoch 14/20\n",
      "1875/1875 [==============================] - ETA: 0s - loss: 0.8396 - accuracy: 0.71 - ETA: 2s - loss: 1.0992 - accuracy: 0.65 - ETA: 2s - loss: 1.0699 - accuracy: 0.65 - ETA: 1s - loss: 1.0623 - accuracy: 0.65 - ETA: 1s - loss: 1.0744 - accuracy: 0.65 - ETA: 1s - loss: 1.0643 - accuracy: 0.66 - ETA: 1s - loss: 1.0636 - accuracy: 0.65 - ETA: 1s - loss: 1.0623 - accuracy: 0.66 - ETA: 1s - loss: 1.0623 - accuracy: 0.66 - ETA: 1s - loss: 1.0585 - accuracy: 0.66 - ETA: 1s - loss: 1.0563 - accuracy: 0.66 - ETA: 1s - loss: 1.0553 - accuracy: 0.66 - ETA: 1s - loss: 1.0586 - accuracy: 0.66 - ETA: 1s - loss: 1.0577 - accuracy: 0.66 - ETA: 1s - loss: 1.0547 - accuracy: 0.66 - ETA: 1s - loss: 1.0547 - accuracy: 0.66 - ETA: 1s - loss: 1.0541 - accuracy: 0.66 - ETA: 1s - loss: 1.0571 - accuracy: 0.66 - ETA: 1s - loss: 1.0566 - accuracy: 0.66 - ETA: 1s - loss: 1.0580 - accuracy: 0.66 - ETA: 1s - loss: 1.0598 - accuracy: 0.66 - ETA: 1s - loss: 1.0600 - accuracy: 0.66 - ETA: 1s - loss: 1.0597 - accuracy: 0.66 - ETA: 1s - loss: 1.0599 - accuracy: 0.66 - ETA: 0s - loss: 1.0596 - accuracy: 0.66 - ETA: 0s - loss: 1.0594 - accuracy: 0.66 - ETA: 0s - loss: 1.0613 - accuracy: 0.66 - ETA: 0s - loss: 1.0601 - accuracy: 0.66 - ETA: 0s - loss: 1.0586 - accuracy: 0.66 - ETA: 0s - loss: 1.0592 - accuracy: 0.65 - ETA: 0s - loss: 1.0573 - accuracy: 0.66 - ETA: 0s - loss: 1.0568 - accuracy: 0.66 - ETA: 0s - loss: 1.0591 - accuracy: 0.65 - ETA: 0s - loss: 1.0582 - accuracy: 0.66 - ETA: 0s - loss: 1.0579 - accuracy: 0.66 - ETA: 0s - loss: 1.0592 - accuracy: 0.66 - ETA: 0s - loss: 1.0574 - accuracy: 0.66 - ETA: 0s - loss: 1.0565 - accuracy: 0.66 - ETA: 0s - loss: 1.0573 - accuracy: 0.66 - ETA: 0s - loss: 1.0579 - accuracy: 0.66 - ETA: 0s - loss: 1.0563 - accuracy: 0.66 - ETA: 0s - loss: 1.0566 - accuracy: 0.66 - ETA: 0s - loss: 1.0562 - accuracy: 0.66 - ETA: 0s - loss: 1.0569 - accuracy: 0.66 - 3s 2ms/step - loss: 1.0567 - accuracy: 0.6610 - val_loss: 1.0494 - val_accuracy: 0.6766\n",
      "Epoch 15/20\n",
      "1875/1875 [==============================] - ETA: 0s - loss: 0.8893 - accuracy: 0.71 - ETA: 2s - loss: 1.0456 - accuracy: 0.66 - ETA: 2s - loss: 1.0425 - accuracy: 0.67 - ETA: 2s - loss: 1.0510 - accuracy: 0.66 - ETA: 1s - loss: 1.0453 - accuracy: 0.66 - ETA: 1s - loss: 1.0566 - accuracy: 0.65 - ETA: 1s - loss: 1.0564 - accuracy: 0.66 - ETA: 1s - loss: 1.0563 - accuracy: 0.66 - ETA: 1s - loss: 1.0537 - accuracy: 0.66 - ETA: 1s - loss: 1.0508 - accuracy: 0.66 - ETA: 1s - loss: 1.0452 - accuracy: 0.66 - ETA: 1s - loss: 1.0467 - accuracy: 0.66 - ETA: 1s - loss: 1.0484 - accuracy: 0.66 - ETA: 1s - loss: 1.0524 - accuracy: 0.66 - ETA: 1s - loss: 1.0530 - accuracy: 0.66 - ETA: 1s - loss: 1.0523 - accuracy: 0.66 - ETA: 1s - loss: 1.0502 - accuracy: 0.66 - ETA: 1s - loss: 1.0505 - accuracy: 0.66 - ETA: 1s - loss: 1.0473 - accuracy: 0.66 - ETA: 1s - loss: 1.0470 - accuracy: 0.66 - ETA: 1s - loss: 1.0464 - accuracy: 0.66 - ETA: 0s - loss: 1.0472 - accuracy: 0.66 - ETA: 0s - loss: 1.0477 - accuracy: 0.66 - ETA: 0s - loss: 1.0477 - accuracy: 0.66 - ETA: 0s - loss: 1.0495 - accuracy: 0.66 - ETA: 0s - loss: 1.0490 - accuracy: 0.66 - ETA: 0s - loss: 1.0487 - accuracy: 0.66 - ETA: 0s - loss: 1.0488 - accuracy: 0.66 - ETA: 0s - loss: 1.0501 - accuracy: 0.66 - ETA: 0s - loss: 1.0495 - accuracy: 0.66 - ETA: 0s - loss: 1.0510 - accuracy: 0.66 - ETA: 0s - loss: 1.0510 - accuracy: 0.66 - ETA: 0s - loss: 1.0492 - accuracy: 0.66 - ETA: 0s - loss: 1.0500 - accuracy: 0.66 - ETA: 0s - loss: 1.0508 - accuracy: 0.66 - ETA: 0s - loss: 1.0511 - accuracy: 0.66 - ETA: 0s - loss: 1.0514 - accuracy: 0.66 - ETA: 0s - loss: 1.0504 - accuracy: 0.66 - ETA: 0s - loss: 1.0507 - accuracy: 0.66 - ETA: 0s - loss: 1.0508 - accuracy: 0.66 - ETA: 0s - loss: 1.0501 - accuracy: 0.66 - 3s 1ms/step - loss: 1.0494 - accuracy: 0.6653 - val_loss: 1.0650 - val_accuracy: 0.6744\n",
      "Epoch 16/20\n"
     ]
    },
    {
     "name": "stdout",
     "output_type": "stream",
     "text": [
      "1875/1875 [==============================] - ETA: 0s - loss: 1.2569 - accuracy: 0.53 - ETA: 2s - loss: 1.0241 - accuracy: 0.66 - ETA: 1s - loss: 1.0416 - accuracy: 0.66 - ETA: 1s - loss: 1.0357 - accuracy: 0.66 - ETA: 1s - loss: 1.0320 - accuracy: 0.67 - ETA: 1s - loss: 1.0305 - accuracy: 0.66 - ETA: 1s - loss: 1.0322 - accuracy: 0.66 - ETA: 1s - loss: 1.0415 - accuracy: 0.66 - ETA: 1s - loss: 1.0355 - accuracy: 0.66 - ETA: 1s - loss: 1.0314 - accuracy: 0.66 - ETA: 1s - loss: 1.0308 - accuracy: 0.66 - ETA: 1s - loss: 1.0326 - accuracy: 0.66 - ETA: 1s - loss: 1.0306 - accuracy: 0.66 - ETA: 1s - loss: 1.0333 - accuracy: 0.66 - ETA: 1s - loss: 1.0323 - accuracy: 0.66 - ETA: 1s - loss: 1.0338 - accuracy: 0.66 - ETA: 1s - loss: 1.0317 - accuracy: 0.66 - ETA: 1s - loss: 1.0322 - accuracy: 0.66 - ETA: 1s - loss: 1.0361 - accuracy: 0.66 - ETA: 1s - loss: 1.0357 - accuracy: 0.66 - ETA: 0s - loss: 1.0369 - accuracy: 0.66 - ETA: 0s - loss: 1.0400 - accuracy: 0.66 - ETA: 0s - loss: 1.0403 - accuracy: 0.66 - ETA: 0s - loss: 1.0417 - accuracy: 0.66 - ETA: 0s - loss: 1.0396 - accuracy: 0.66 - ETA: 0s - loss: 1.0419 - accuracy: 0.66 - ETA: 0s - loss: 1.0440 - accuracy: 0.66 - ETA: 0s - loss: 1.0439 - accuracy: 0.66 - ETA: 0s - loss: 1.0433 - accuracy: 0.66 - ETA: 0s - loss: 1.0410 - accuracy: 0.66 - ETA: 0s - loss: 1.0413 - accuracy: 0.66 - ETA: 0s - loss: 1.0396 - accuracy: 0.66 - ETA: 0s - loss: 1.0387 - accuracy: 0.66 - ETA: 0s - loss: 1.0380 - accuracy: 0.66 - ETA: 0s - loss: 1.0392 - accuracy: 0.66 - ETA: 0s - loss: 1.0405 - accuracy: 0.66 - ETA: 0s - loss: 1.0405 - accuracy: 0.66 - ETA: 0s - loss: 1.0412 - accuracy: 0.66 - ETA: 0s - loss: 1.0401 - accuracy: 0.66 - ETA: 0s - loss: 1.0403 - accuracy: 0.66 - ETA: 0s - loss: 1.0402 - accuracy: 0.66 - 3s 2ms/step - loss: 1.0401 - accuracy: 0.6644 - val_loss: 1.0451 - val_accuracy: 0.6893\n",
      "Epoch 17/20\n",
      "1875/1875 [==============================] - ETA: 0s - loss: 1.0240 - accuracy: 0.62 - ETA: 2s - loss: 0.9804 - accuracy: 0.68 - ETA: 2s - loss: 1.0525 - accuracy: 0.66 - ETA: 2s - loss: 1.0348 - accuracy: 0.67 - ETA: 2s - loss: 1.0425 - accuracy: 0.67 - ETA: 2s - loss: 1.0432 - accuracy: 0.67 - ETA: 2s - loss: 1.0461 - accuracy: 0.67 - ETA: 2s - loss: 1.0444 - accuracy: 0.67 - ETA: 2s - loss: 1.0438 - accuracy: 0.67 - ETA: 2s - loss: 1.0528 - accuracy: 0.66 - ETA: 2s - loss: 1.0473 - accuracy: 0.66 - ETA: 2s - loss: 1.0444 - accuracy: 0.66 - ETA: 2s - loss: 1.0469 - accuracy: 0.66 - ETA: 2s - loss: 1.0479 - accuracy: 0.66 - ETA: 2s - loss: 1.0466 - accuracy: 0.66 - ETA: 1s - loss: 1.0437 - accuracy: 0.66 - ETA: 1s - loss: 1.0386 - accuracy: 0.67 - ETA: 1s - loss: 1.0384 - accuracy: 0.67 - ETA: 1s - loss: 1.0401 - accuracy: 0.66 - ETA: 1s - loss: 1.0404 - accuracy: 0.66 - ETA: 1s - loss: 1.0406 - accuracy: 0.66 - ETA: 1s - loss: 1.0406 - accuracy: 0.66 - ETA: 1s - loss: 1.0379 - accuracy: 0.67 - ETA: 1s - loss: 1.0390 - accuracy: 0.67 - ETA: 1s - loss: 1.0361 - accuracy: 0.67 - ETA: 1s - loss: 1.0374 - accuracy: 0.67 - ETA: 1s - loss: 1.0352 - accuracy: 0.67 - ETA: 1s - loss: 1.0328 - accuracy: 0.67 - ETA: 1s - loss: 1.0336 - accuracy: 0.67 - ETA: 0s - loss: 1.0321 - accuracy: 0.67 - ETA: 0s - loss: 1.0324 - accuracy: 0.67 - ETA: 0s - loss: 1.0321 - accuracy: 0.67 - ETA: 0s - loss: 1.0310 - accuracy: 0.67 - ETA: 0s - loss: 1.0295 - accuracy: 0.67 - ETA: 0s - loss: 1.0280 - accuracy: 0.67 - ETA: 0s - loss: 1.0280 - accuracy: 0.67 - ETA: 0s - loss: 1.0290 - accuracy: 0.67 - ETA: 0s - loss: 1.0306 - accuracy: 0.67 - ETA: 0s - loss: 1.0306 - accuracy: 0.67 - ETA: 0s - loss: 1.0321 - accuracy: 0.67 - ETA: 0s - loss: 1.0328 - accuracy: 0.67 - ETA: 0s - loss: 1.0321 - accuracy: 0.67 - ETA: 0s - loss: 1.0329 - accuracy: 0.67 - ETA: 0s - loss: 1.0335 - accuracy: 0.67 - ETA: 0s - loss: 1.0331 - accuracy: 0.67 - ETA: 0s - loss: 1.0327 - accuracy: 0.67 - ETA: 0s - loss: 1.0318 - accuracy: 0.67 - 3s 2ms/step - loss: 1.0316 - accuracy: 0.6716 - val_loss: 1.0914 - val_accuracy: 0.6689\n",
      "Epoch 18/20\n",
      "1875/1875 [==============================] - ETA: 0s - loss: 1.2189 - accuracy: 0.50 - ETA: 1s - loss: 1.0292 - accuracy: 0.66 - ETA: 1s - loss: 1.0238 - accuracy: 0.66 - ETA: 1s - loss: 1.0140 - accuracy: 0.66 - ETA: 1s - loss: 1.0159 - accuracy: 0.66 - ETA: 1s - loss: 1.0250 - accuracy: 0.66 - ETA: 1s - loss: 1.0303 - accuracy: 0.66 - ETA: 1s - loss: 1.0316 - accuracy: 0.66 - ETA: 1s - loss: 1.0292 - accuracy: 0.66 - ETA: 1s - loss: 1.0330 - accuracy: 0.66 - ETA: 1s - loss: 1.0287 - accuracy: 0.66 - ETA: 1s - loss: 1.0284 - accuracy: 0.67 - ETA: 1s - loss: 1.0261 - accuracy: 0.67 - ETA: 1s - loss: 1.0237 - accuracy: 0.67 - ETA: 1s - loss: 1.0254 - accuracy: 0.67 - ETA: 1s - loss: 1.0266 - accuracy: 0.67 - ETA: 1s - loss: 1.0261 - accuracy: 0.67 - ETA: 1s - loss: 1.0270 - accuracy: 0.67 - ETA: 1s - loss: 1.0289 - accuracy: 0.67 - ETA: 1s - loss: 1.0325 - accuracy: 0.66 - ETA: 1s - loss: 1.0317 - accuracy: 0.66 - ETA: 1s - loss: 1.0324 - accuracy: 0.66 - ETA: 0s - loss: 1.0332 - accuracy: 0.66 - ETA: 0s - loss: 1.0314 - accuracy: 0.66 - ETA: 0s - loss: 1.0320 - accuracy: 0.67 - ETA: 0s - loss: 1.0300 - accuracy: 0.67 - ETA: 0s - loss: 1.0302 - accuracy: 0.67 - ETA: 0s - loss: 1.0302 - accuracy: 0.67 - ETA: 0s - loss: 1.0314 - accuracy: 0.67 - ETA: 0s - loss: 1.0334 - accuracy: 0.66 - ETA: 0s - loss: 1.0321 - accuracy: 0.67 - ETA: 0s - loss: 1.0313 - accuracy: 0.67 - ETA: 0s - loss: 1.0315 - accuracy: 0.67 - ETA: 0s - loss: 1.0328 - accuracy: 0.67 - ETA: 0s - loss: 1.0337 - accuracy: 0.66 - ETA: 0s - loss: 1.0335 - accuracy: 0.67 - ETA: 0s - loss: 1.0333 - accuracy: 0.67 - ETA: 0s - loss: 1.0335 - accuracy: 0.67 - ETA: 0s - loss: 1.0325 - accuracy: 0.67 - ETA: 0s - loss: 1.0320 - accuracy: 0.67 - ETA: 0s - loss: 1.0312 - accuracy: 0.67 - ETA: 0s - loss: 1.0307 - accuracy: 0.67 - 3s 1ms/step - loss: 1.0303 - accuracy: 0.6721 - val_loss: 1.0508 - val_accuracy: 0.6988\n",
      "Epoch 19/20\n",
      "1875/1875 [==============================] - ETA: 0s - loss: 0.8092 - accuracy: 0.71 - ETA: 1s - loss: 0.9998 - accuracy: 0.68 - ETA: 1s - loss: 0.9935 - accuracy: 0.67 - ETA: 1s - loss: 1.0132 - accuracy: 0.67 - ETA: 1s - loss: 1.0082 - accuracy: 0.67 - ETA: 1s - loss: 1.0101 - accuracy: 0.67 - ETA: 1s - loss: 1.0127 - accuracy: 0.67 - ETA: 1s - loss: 1.0216 - accuracy: 0.67 - ETA: 1s - loss: 1.0224 - accuracy: 0.67 - ETA: 1s - loss: 1.0227 - accuracy: 0.67 - ETA: 1s - loss: 1.0244 - accuracy: 0.67 - ETA: 1s - loss: 1.0217 - accuracy: 0.67 - ETA: 1s - loss: 1.0231 - accuracy: 0.67 - ETA: 1s - loss: 1.0239 - accuracy: 0.67 - ETA: 1s - loss: 1.0250 - accuracy: 0.67 - ETA: 1s - loss: 1.0236 - accuracy: 0.67 - ETA: 1s - loss: 1.0249 - accuracy: 0.67 - ETA: 1s - loss: 1.0249 - accuracy: 0.67 - ETA: 1s - loss: 1.0273 - accuracy: 0.67 - ETA: 1s - loss: 1.0276 - accuracy: 0.67 - ETA: 1s - loss: 1.0290 - accuracy: 0.67 - ETA: 0s - loss: 1.0274 - accuracy: 0.67 - ETA: 0s - loss: 1.0246 - accuracy: 0.67 - ETA: 0s - loss: 1.0249 - accuracy: 0.67 - ETA: 0s - loss: 1.0226 - accuracy: 0.67 - ETA: 0s - loss: 1.0183 - accuracy: 0.67 - ETA: 0s - loss: 1.0199 - accuracy: 0.67 - ETA: 0s - loss: 1.0189 - accuracy: 0.67 - ETA: 0s - loss: 1.0195 - accuracy: 0.67 - ETA: 0s - loss: 1.0208 - accuracy: 0.67 - ETA: 0s - loss: 1.0187 - accuracy: 0.67 - ETA: 0s - loss: 1.0190 - accuracy: 0.67 - ETA: 0s - loss: 1.0176 - accuracy: 0.67 - ETA: 0s - loss: 1.0184 - accuracy: 0.67 - ETA: 0s - loss: 1.0189 - accuracy: 0.67 - ETA: 0s - loss: 1.0191 - accuracy: 0.67 - ETA: 0s - loss: 1.0202 - accuracy: 0.67 - ETA: 0s - loss: 1.0219 - accuracy: 0.67 - ETA: 0s - loss: 1.0224 - accuracy: 0.67 - ETA: 0s - loss: 1.0236 - accuracy: 0.67 - 3s 1ms/step - loss: 1.0230 - accuracy: 0.6748 - val_loss: 1.0468 - val_accuracy: 0.6851\n",
      "Epoch 20/20\n",
      "1875/1875 [==============================] - ETA: 0s - loss: 1.3507 - accuracy: 0.65 - ETA: 2s - loss: 1.0898 - accuracy: 0.66 - ETA: 1s - loss: 1.0252 - accuracy: 0.67 - ETA: 1s - loss: 1.0176 - accuracy: 0.67 - ETA: 1s - loss: 1.0164 - accuracy: 0.68 - ETA: 1s - loss: 1.0179 - accuracy: 0.68 - ETA: 1s - loss: 1.0135 - accuracy: 0.68 - ETA: 1s - loss: 1.0096 - accuracy: 0.68 - ETA: 1s - loss: 1.0068 - accuracy: 0.68 - ETA: 1s - loss: 1.0097 - accuracy: 0.68 - ETA: 1s - loss: 1.0122 - accuracy: 0.67 - ETA: 1s - loss: 1.0094 - accuracy: 0.67 - ETA: 1s - loss: 1.0120 - accuracy: 0.67 - ETA: 1s - loss: 1.0087 - accuracy: 0.68 - ETA: 1s - loss: 1.0033 - accuracy: 0.68 - ETA: 1s - loss: 1.0079 - accuracy: 0.68 - ETA: 1s - loss: 1.0099 - accuracy: 0.68 - ETA: 1s - loss: 1.0114 - accuracy: 0.68 - ETA: 1s - loss: 1.0090 - accuracy: 0.68 - ETA: 1s - loss: 1.0116 - accuracy: 0.68 - ETA: 0s - loss: 1.0122 - accuracy: 0.67 - ETA: 0s - loss: 1.0143 - accuracy: 0.67 - ETA: 0s - loss: 1.0150 - accuracy: 0.67 - ETA: 0s - loss: 1.0156 - accuracy: 0.67 - ETA: 0s - loss: 1.0155 - accuracy: 0.67 - ETA: 0s - loss: 1.0152 - accuracy: 0.67 - ETA: 0s - loss: 1.0157 - accuracy: 0.67 - ETA: 0s - loss: 1.0161 - accuracy: 0.67 - ETA: 0s - loss: 1.0185 - accuracy: 0.67 - ETA: 0s - loss: 1.0178 - accuracy: 0.67 - ETA: 0s - loss: 1.0172 - accuracy: 0.67 - ETA: 0s - loss: 1.0167 - accuracy: 0.67 - ETA: 0s - loss: 1.0160 - accuracy: 0.67 - ETA: 0s - loss: 1.0148 - accuracy: 0.67 - ETA: 0s - loss: 1.0132 - accuracy: 0.67 - ETA: 0s - loss: 1.0132 - accuracy: 0.67 - ETA: 0s - loss: 1.0135 - accuracy: 0.67 - ETA: 0s - loss: 1.0130 - accuracy: 0.67 - ETA: 0s - loss: 1.0125 - accuracy: 0.67 - ETA: 0s - loss: 1.0129 - accuracy: 0.67 - ETA: 0s - loss: 1.0150 - accuracy: 0.67 - 3s 1ms/step - loss: 1.0156 - accuracy: 0.6789 - val_loss: 1.0926 - val_accuracy: 0.6594\n",
      "Epoch 1/20\n",
      "1875/1875 [==============================] - ETA: 0s - loss: 2.3207 - accuracy: 0.06 - ETA: 1s - loss: 2.2727 - accuracy: 0.11 - ETA: 1s - loss: 2.2523 - accuracy: 0.12 - ETA: 1s - loss: 2.2297 - accuracy: 0.13 - ETA: 1s - loss: 2.2131 - accuracy: 0.14 - ETA: 1s - loss: 2.1909 - accuracy: 0.15 - ETA: 1s - loss: 2.1752 - accuracy: 0.15 - ETA: 1s - loss: 2.1555 - accuracy: 0.16 - ETA: 1s - loss: 2.1381 - accuracy: 0.17 - ETA: 1s - loss: 2.1229 - accuracy: 0.17 - ETA: 1s - loss: 2.1102 - accuracy: 0.18 - ETA: 1s - loss: 2.0928 - accuracy: 0.19 - ETA: 1s - loss: 2.0790 - accuracy: 0.19 - ETA: 1s - loss: 2.0635 - accuracy: 0.20 - ETA: 1s - loss: 2.0510 - accuracy: 0.21 - ETA: 1s - loss: 2.0365 - accuracy: 0.21 - ETA: 1s - loss: 2.0231 - accuracy: 0.22 - ETA: 1s - loss: 2.0100 - accuracy: 0.22 - ETA: 1s - loss: 1.9969 - accuracy: 0.23 - ETA: 1s - loss: 1.9879 - accuracy: 0.23 - ETA: 1s - loss: 1.9775 - accuracy: 0.24 - ETA: 1s - loss: 1.9658 - accuracy: 0.24 - ETA: 0s - loss: 1.9568 - accuracy: 0.25 - ETA: 0s - loss: 1.9485 - accuracy: 0.25 - ETA: 0s - loss: 1.9400 - accuracy: 0.25 - ETA: 0s - loss: 1.9316 - accuracy: 0.26 - ETA: 0s - loss: 1.9217 - accuracy: 0.26 - ETA: 0s - loss: 1.9146 - accuracy: 0.27 - ETA: 0s - loss: 1.9082 - accuracy: 0.27 - ETA: 0s - loss: 1.8993 - accuracy: 0.27 - ETA: 0s - loss: 1.8917 - accuracy: 0.28 - ETA: 0s - loss: 1.8842 - accuracy: 0.28 - ETA: 0s - loss: 1.8766 - accuracy: 0.28 - ETA: 0s - loss: 1.8699 - accuracy: 0.29 - ETA: 0s - loss: 1.8628 - accuracy: 0.29 - ETA: 0s - loss: 1.8553 - accuracy: 0.29 - ETA: 0s - loss: 1.8496 - accuracy: 0.30 - ETA: 0s - loss: 1.8440 - accuracy: 0.30 - ETA: 0s - loss: 1.8383 - accuracy: 0.30 - ETA: 0s - loss: 1.8324 - accuracy: 0.30 - ETA: 0s - loss: 1.8277 - accuracy: 0.30 - 3s 2ms/step - loss: 1.8238 - accuracy: 0.3113 - val_loss: 1.3958 - val_accuracy: 0.5568\n",
      "Epoch 2/20\n",
      "1875/1875 [==============================] - ETA: 0s - loss: 1.8046 - accuracy: 0.43 - ETA: 2s - loss: 1.6222 - accuracy: 0.39 - ETA: 2s - loss: 1.6159 - accuracy: 0.40 - ETA: 1s - loss: 1.6191 - accuracy: 0.39 - ETA: 2s - loss: 1.6147 - accuracy: 0.39 - ETA: 2s - loss: 1.6111 - accuracy: 0.39 - ETA: 2s - loss: 1.6101 - accuracy: 0.40 - ETA: 1s - loss: 1.6089 - accuracy: 0.40 - ETA: 1s - loss: 1.6103 - accuracy: 0.40 - ETA: 1s - loss: 1.6061 - accuracy: 0.40 - ETA: 1s - loss: 1.6026 - accuracy: 0.40 - ETA: 1s - loss: 1.6007 - accuracy: 0.40 - ETA: 1s - loss: 1.5963 - accuracy: 0.40 - ETA: 1s - loss: 1.5887 - accuracy: 0.41 - ETA: 1s - loss: 1.5886 - accuracy: 0.41 - ETA: 1s - loss: 1.5908 - accuracy: 0.41 - ETA: 1s - loss: 1.5880 - accuracy: 0.41 - ETA: 1s - loss: 1.5846 - accuracy: 0.41 - ETA: 1s - loss: 1.5815 - accuracy: 0.41 - ETA: 1s - loss: 1.5805 - accuracy: 0.41 - ETA: 1s - loss: 1.5780 - accuracy: 0.41 - ETA: 1s - loss: 1.5763 - accuracy: 0.41 - ETA: 1s - loss: 1.5736 - accuracy: 0.41 - ETA: 1s - loss: 1.5700 - accuracy: 0.41 - ETA: 1s - loss: 1.5669 - accuracy: 0.41 - ETA: 0s - loss: 1.5647 - accuracy: 0.42 - ETA: 0s - loss: 1.5634 - accuracy: 0.42 - ETA: 0s - loss: 1.5615 - accuracy: 0.42 - ETA: 0s - loss: 1.5592 - accuracy: 0.42 - ETA: 0s - loss: 1.5590 - accuracy: 0.42 - ETA: 0s - loss: 1.5568 - accuracy: 0.42 - ETA: 0s - loss: 1.5567 - accuracy: 0.42 - ETA: 0s - loss: 1.5568 - accuracy: 0.42 - ETA: 0s - loss: 1.5540 - accuracy: 0.42 - ETA: 0s - loss: 1.5531 - accuracy: 0.42 - ETA: 0s - loss: 1.5516 - accuracy: 0.42 - ETA: 0s - loss: 1.5503 - accuracy: 0.42 - ETA: 0s - loss: 1.5475 - accuracy: 0.42 - ETA: 0s - loss: 1.5466 - accuracy: 0.43 - ETA: 0s - loss: 1.5449 - accuracy: 0.43 - ETA: 0s - loss: 1.5430 - accuracy: 0.43 - ETA: 0s - loss: 1.5425 - accuracy: 0.43 - ETA: 0s - loss: 1.5423 - accuracy: 0.43 - ETA: 0s - loss: 1.5409 - accuracy: 0.43 - ETA: 0s - loss: 1.5409 - accuracy: 0.43 - 3s 2ms/step - loss: 1.5402 - accuracy: 0.4341 - val_loss: 1.2615 - val_accuracy: 0.5812\n",
      "Epoch 3/20\n",
      "1875/1875 [==============================] - ETA: 0s - loss: 1.9311 - accuracy: 0.43 - ETA: 1s - loss: 1.5099 - accuracy: 0.44 - ETA: 1s - loss: 1.5180 - accuracy: 0.45 - ETA: 1s - loss: 1.4896 - accuracy: 0.45 - ETA: 1s - loss: 1.4796 - accuracy: 0.45 - ETA: 1s - loss: 1.4731 - accuracy: 0.46 - ETA: 1s - loss: 1.4751 - accuracy: 0.46 - ETA: 1s - loss: 1.4669 - accuracy: 0.46 - ETA: 1s - loss: 1.4584 - accuracy: 0.46 - ETA: 1s - loss: 1.4599 - accuracy: 0.46 - ETA: 1s - loss: 1.4585 - accuracy: 0.46 - ETA: 1s - loss: 1.4567 - accuracy: 0.46 - ETA: 1s - loss: 1.4555 - accuracy: 0.46 - ETA: 1s - loss: 1.4569 - accuracy: 0.46 - ETA: 1s - loss: 1.4600 - accuracy: 0.46 - ETA: 1s - loss: 1.4579 - accuracy: 0.46 - ETA: 1s - loss: 1.4576 - accuracy: 0.46 - ETA: 1s - loss: 1.4563 - accuracy: 0.46 - ETA: 1s - loss: 1.4582 - accuracy: 0.46 - ETA: 1s - loss: 1.4549 - accuracy: 0.46 - ETA: 1s - loss: 1.4534 - accuracy: 0.47 - ETA: 1s - loss: 1.4510 - accuracy: 0.47 - ETA: 1s - loss: 1.4509 - accuracy: 0.47 - ETA: 1s - loss: 1.4522 - accuracy: 0.47 - ETA: 1s - loss: 1.4525 - accuracy: 0.47 - ETA: 0s - loss: 1.4521 - accuracy: 0.47 - ETA: 0s - loss: 1.4511 - accuracy: 0.47 - ETA: 0s - loss: 1.4512 - accuracy: 0.47 - ETA: 0s - loss: 1.4509 - accuracy: 0.47 - ETA: 0s - loss: 1.4509 - accuracy: 0.47 - ETA: 0s - loss: 1.4505 - accuracy: 0.47 - ETA: 0s - loss: 1.4501 - accuracy: 0.47 - ETA: 0s - loss: 1.4500 - accuracy: 0.47 - ETA: 0s - loss: 1.4495 - accuracy: 0.47 - ETA: 0s - loss: 1.4473 - accuracy: 0.47 - ETA: 0s - loss: 1.4472 - accuracy: 0.47 - ETA: 0s - loss: 1.4475 - accuracy: 0.47 - ETA: 0s - loss: 1.4454 - accuracy: 0.47 - ETA: 0s - loss: 1.4458 - accuracy: 0.47 - ETA: 0s - loss: 1.4453 - accuracy: 0.47 - ETA: 0s - loss: 1.4458 - accuracy: 0.47 - ETA: 0s - loss: 1.4451 - accuracy: 0.47 - ETA: 0s - loss: 1.4448 - accuracy: 0.47 - ETA: 0s - loss: 1.4427 - accuracy: 0.47 - ETA: 0s - loss: 1.4421 - accuracy: 0.47 - ETA: 0s - loss: 1.4410 - accuracy: 0.47 - ETA: 0s - loss: 1.4391 - accuracy: 0.47 - ETA: 0s - loss: 1.4380 - accuracy: 0.48 - 3s 2ms/step - loss: 1.4377 - accuracy: 0.4802 - val_loss: 1.1941 - val_accuracy: 0.5883\n",
      "Epoch 4/20\n"
     ]
    },
    {
     "name": "stdout",
     "output_type": "stream",
     "text": [
      "1875/1875 [==============================] - ETA: 0s - loss: 1.5731 - accuracy: 0.37 - ETA: 2s - loss: 1.3801 - accuracy: 0.51 - ETA: 2s - loss: 1.3537 - accuracy: 0.51 - ETA: 2s - loss: 1.3686 - accuracy: 0.50 - ETA: 2s - loss: 1.3695 - accuracy: 0.51 - ETA: 1s - loss: 1.3740 - accuracy: 0.51 - ETA: 1s - loss: 1.3729 - accuracy: 0.50 - ETA: 1s - loss: 1.3725 - accuracy: 0.50 - ETA: 1s - loss: 1.3682 - accuracy: 0.50 - ETA: 1s - loss: 1.3651 - accuracy: 0.50 - ETA: 1s - loss: 1.3727 - accuracy: 0.50 - ETA: 1s - loss: 1.3699 - accuracy: 0.50 - ETA: 1s - loss: 1.3693 - accuracy: 0.50 - ETA: 1s - loss: 1.3698 - accuracy: 0.50 - ETA: 1s - loss: 1.3669 - accuracy: 0.50 - ETA: 1s - loss: 1.3639 - accuracy: 0.50 - ETA: 1s - loss: 1.3672 - accuracy: 0.50 - ETA: 1s - loss: 1.3694 - accuracy: 0.50 - ETA: 1s - loss: 1.3707 - accuracy: 0.50 - ETA: 1s - loss: 1.3706 - accuracy: 0.50 - ETA: 1s - loss: 1.3719 - accuracy: 0.50 - ETA: 1s - loss: 1.3708 - accuracy: 0.50 - ETA: 1s - loss: 1.3692 - accuracy: 0.50 - ETA: 1s - loss: 1.3662 - accuracy: 0.50 - ETA: 1s - loss: 1.3685 - accuracy: 0.50 - ETA: 0s - loss: 1.3680 - accuracy: 0.50 - ETA: 0s - loss: 1.3665 - accuracy: 0.50 - ETA: 0s - loss: 1.3672 - accuracy: 0.50 - ETA: 0s - loss: 1.3680 - accuracy: 0.50 - ETA: 0s - loss: 1.3679 - accuracy: 0.50 - ETA: 0s - loss: 1.3679 - accuracy: 0.50 - ETA: 0s - loss: 1.3668 - accuracy: 0.51 - ETA: 0s - loss: 1.3665 - accuracy: 0.51 - ETA: 0s - loss: 1.3673 - accuracy: 0.51 - ETA: 0s - loss: 1.3667 - accuracy: 0.51 - ETA: 0s - loss: 1.3643 - accuracy: 0.51 - ETA: 0s - loss: 1.3651 - accuracy: 0.51 - ETA: 0s - loss: 1.3637 - accuracy: 0.51 - ETA: 0s - loss: 1.3644 - accuracy: 0.51 - ETA: 0s - loss: 1.3657 - accuracy: 0.51 - ETA: 0s - loss: 1.3657 - accuracy: 0.51 - ETA: 0s - loss: 1.3642 - accuracy: 0.51 - ETA: 0s - loss: 1.3624 - accuracy: 0.51 - ETA: 0s - loss: 1.3628 - accuracy: 0.51 - ETA: 0s - loss: 1.3625 - accuracy: 0.51 - ETA: 0s - loss: 1.3616 - accuracy: 0.51 - 3s 2ms/step - loss: 1.3616 - accuracy: 0.5134 - val_loss: 1.1654 - val_accuracy: 0.5489\n",
      "Epoch 5/20\n",
      "1875/1875 [==============================] - ETA: 0s - loss: 1.5983 - accuracy: 0.43 - ETA: 2s - loss: 1.3517 - accuracy: 0.53 - ETA: 1s - loss: 1.3209 - accuracy: 0.53 - ETA: 1s - loss: 1.3204 - accuracy: 0.53 - ETA: 1s - loss: 1.3385 - accuracy: 0.52 - ETA: 1s - loss: 1.3347 - accuracy: 0.52 - ETA: 1s - loss: 1.3338 - accuracy: 0.53 - ETA: 1s - loss: 1.3318 - accuracy: 0.53 - ETA: 1s - loss: 1.3275 - accuracy: 0.53 - ETA: 1s - loss: 1.3226 - accuracy: 0.53 - ETA: 1s - loss: 1.3244 - accuracy: 0.53 - ETA: 1s - loss: 1.3214 - accuracy: 0.53 - ETA: 1s - loss: 1.3185 - accuracy: 0.53 - ETA: 1s - loss: 1.3182 - accuracy: 0.53 - ETA: 1s - loss: 1.3209 - accuracy: 0.53 - ETA: 1s - loss: 1.3206 - accuracy: 0.53 - ETA: 1s - loss: 1.3217 - accuracy: 0.53 - ETA: 1s - loss: 1.3219 - accuracy: 0.53 - ETA: 1s - loss: 1.3207 - accuracy: 0.53 - ETA: 1s - loss: 1.3194 - accuracy: 0.53 - ETA: 1s - loss: 1.3164 - accuracy: 0.53 - ETA: 1s - loss: 1.3136 - accuracy: 0.53 - ETA: 1s - loss: 1.3130 - accuracy: 0.53 - ETA: 0s - loss: 1.3147 - accuracy: 0.53 - ETA: 0s - loss: 1.3134 - accuracy: 0.53 - ETA: 0s - loss: 1.3123 - accuracy: 0.53 - ETA: 0s - loss: 1.3126 - accuracy: 0.53 - ETA: 0s - loss: 1.3107 - accuracy: 0.53 - ETA: 0s - loss: 1.3086 - accuracy: 0.53 - ETA: 0s - loss: 1.3079 - accuracy: 0.53 - ETA: 0s - loss: 1.3075 - accuracy: 0.53 - ETA: 0s - loss: 1.3070 - accuracy: 0.53 - ETA: 0s - loss: 1.3064 - accuracy: 0.53 - ETA: 0s - loss: 1.3060 - accuracy: 0.53 - ETA: 0s - loss: 1.3062 - accuracy: 0.53 - ETA: 0s - loss: 1.3077 - accuracy: 0.53 - ETA: 0s - loss: 1.3089 - accuracy: 0.53 - ETA: 0s - loss: 1.3102 - accuracy: 0.53 - ETA: 0s - loss: 1.3104 - accuracy: 0.53 - ETA: 0s - loss: 1.3114 - accuracy: 0.53 - ETA: 0s - loss: 1.3118 - accuracy: 0.53 - ETA: 0s - loss: 1.3123 - accuracy: 0.53 - ETA: 0s - loss: 1.3124 - accuracy: 0.53 - ETA: 0s - loss: 1.3126 - accuracy: 0.53 - ETA: 0s - loss: 1.3126 - accuracy: 0.53 - ETA: 0s - loss: 1.3123 - accuracy: 0.53 - 3s 2ms/step - loss: 1.3116 - accuracy: 0.5355 - val_loss: 1.1445 - val_accuracy: 0.5753\n",
      "Epoch 6/20\n",
      "1875/1875 [==============================] - ETA: 0s - loss: 1.2632 - accuracy: 0.46 - ETA: 1s - loss: 1.2609 - accuracy: 0.55 - ETA: 1s - loss: 1.3118 - accuracy: 0.54 - ETA: 1s - loss: 1.2827 - accuracy: 0.55 - ETA: 1s - loss: 1.2871 - accuracy: 0.55 - ETA: 1s - loss: 1.2903 - accuracy: 0.55 - ETA: 1s - loss: 1.2893 - accuracy: 0.55 - ETA: 1s - loss: 1.2865 - accuracy: 0.55 - ETA: 1s - loss: 1.2783 - accuracy: 0.55 - ETA: 1s - loss: 1.2800 - accuracy: 0.55 - ETA: 1s - loss: 1.2843 - accuracy: 0.54 - ETA: 1s - loss: 1.2792 - accuracy: 0.55 - ETA: 1s - loss: 1.2751 - accuracy: 0.54 - ETA: 1s - loss: 1.2733 - accuracy: 0.55 - ETA: 1s - loss: 1.2715 - accuracy: 0.55 - ETA: 1s - loss: 1.2712 - accuracy: 0.55 - ETA: 1s - loss: 1.2704 - accuracy: 0.55 - ETA: 1s - loss: 1.2695 - accuracy: 0.55 - ETA: 1s - loss: 1.2673 - accuracy: 0.55 - ETA: 1s - loss: 1.2740 - accuracy: 0.55 - ETA: 1s - loss: 1.2760 - accuracy: 0.55 - ETA: 1s - loss: 1.2765 - accuracy: 0.55 - ETA: 0s - loss: 1.2757 - accuracy: 0.55 - ETA: 0s - loss: 1.2751 - accuracy: 0.55 - ETA: 0s - loss: 1.2736 - accuracy: 0.55 - ETA: 0s - loss: 1.2731 - accuracy: 0.55 - ETA: 0s - loss: 1.2745 - accuracy: 0.55 - ETA: 0s - loss: 1.2748 - accuracy: 0.55 - ETA: 0s - loss: 1.2733 - accuracy: 0.55 - ETA: 0s - loss: 1.2730 - accuracy: 0.55 - ETA: 0s - loss: 1.2715 - accuracy: 0.55 - ETA: 0s - loss: 1.2691 - accuracy: 0.55 - ETA: 0s - loss: 1.2679 - accuracy: 0.55 - ETA: 0s - loss: 1.2682 - accuracy: 0.55 - ETA: 0s - loss: 1.2675 - accuracy: 0.55 - ETA: 0s - loss: 1.2664 - accuracy: 0.55 - ETA: 0s - loss: 1.2655 - accuracy: 0.55 - ETA: 0s - loss: 1.2633 - accuracy: 0.55 - ETA: 0s - loss: 1.2645 - accuracy: 0.55 - ETA: 0s - loss: 1.2642 - accuracy: 0.55 - ETA: 0s - loss: 1.2636 - accuracy: 0.55 - ETA: 0s - loss: 1.2642 - accuracy: 0.55 - 3s 2ms/step - loss: 1.2639 - accuracy: 0.5571 - val_loss: 1.1286 - val_accuracy: 0.5786\n",
      "Epoch 7/20\n",
      "1875/1875 [==============================] - ETA: 0s - loss: 1.7273 - accuracy: 0.43 - ETA: 2s - loss: 1.2562 - accuracy: 0.56 - ETA: 2s - loss: 1.2621 - accuracy: 0.56 - ETA: 2s - loss: 1.2617 - accuracy: 0.55 - ETA: 1s - loss: 1.2520 - accuracy: 0.56 - ETA: 1s - loss: 1.2484 - accuracy: 0.56 - ETA: 1s - loss: 1.2516 - accuracy: 0.56 - ETA: 1s - loss: 1.2449 - accuracy: 0.56 - ETA: 1s - loss: 1.2414 - accuracy: 0.56 - ETA: 1s - loss: 1.2331 - accuracy: 0.56 - ETA: 1s - loss: 1.2349 - accuracy: 0.56 - ETA: 1s - loss: 1.2338 - accuracy: 0.56 - ETA: 1s - loss: 1.2340 - accuracy: 0.56 - ETA: 1s - loss: 1.2357 - accuracy: 0.56 - ETA: 1s - loss: 1.2346 - accuracy: 0.56 - ETA: 1s - loss: 1.2360 - accuracy: 0.56 - ETA: 1s - loss: 1.2348 - accuracy: 0.56 - ETA: 1s - loss: 1.2337 - accuracy: 0.56 - ETA: 1s - loss: 1.2321 - accuracy: 0.56 - ETA: 1s - loss: 1.2328 - accuracy: 0.56 - ETA: 1s - loss: 1.2337 - accuracy: 0.56 - ETA: 1s - loss: 1.2338 - accuracy: 0.56 - ETA: 1s - loss: 1.2365 - accuracy: 0.56 - ETA: 1s - loss: 1.2380 - accuracy: 0.56 - ETA: 0s - loss: 1.2395 - accuracy: 0.56 - ETA: 0s - loss: 1.2404 - accuracy: 0.56 - ETA: 0s - loss: 1.2399 - accuracy: 0.56 - ETA: 0s - loss: 1.2406 - accuracy: 0.56 - ETA: 0s - loss: 1.2418 - accuracy: 0.56 - ETA: 0s - loss: 1.2418 - accuracy: 0.56 - ETA: 0s - loss: 1.2402 - accuracy: 0.56 - ETA: 0s - loss: 1.2386 - accuracy: 0.56 - ETA: 0s - loss: 1.2387 - accuracy: 0.56 - ETA: 0s - loss: 1.2397 - accuracy: 0.56 - ETA: 0s - loss: 1.2404 - accuracy: 0.56 - ETA: 0s - loss: 1.2410 - accuracy: 0.56 - ETA: 0s - loss: 1.2413 - accuracy: 0.56 - ETA: 0s - loss: 1.2420 - accuracy: 0.56 - ETA: 0s - loss: 1.2415 - accuracy: 0.56 - ETA: 0s - loss: 1.2421 - accuracy: 0.56 - ETA: 0s - loss: 1.2429 - accuracy: 0.56 - ETA: 0s - loss: 1.2433 - accuracy: 0.56 - ETA: 0s - loss: 1.2429 - accuracy: 0.56 - 3s 2ms/step - loss: 1.2431 - accuracy: 0.5666 - val_loss: 1.1322 - val_accuracy: 0.5706\n",
      "Epoch 8/20\n",
      "1875/1875 [==============================] - ETA: 0s - loss: 1.3144 - accuracy: 0.53 - ETA: 2s - loss: 1.2063 - accuracy: 0.57 - ETA: 2s - loss: 1.1932 - accuracy: 0.58 - ETA: 2s - loss: 1.2011 - accuracy: 0.58 - ETA: 2s - loss: 1.2163 - accuracy: 0.58 - ETA: 1s - loss: 1.2188 - accuracy: 0.57 - ETA: 1s - loss: 1.1997 - accuracy: 0.58 - ETA: 1s - loss: 1.1952 - accuracy: 0.58 - ETA: 1s - loss: 1.2043 - accuracy: 0.57 - ETA: 1s - loss: 1.2037 - accuracy: 0.57 - ETA: 1s - loss: 1.2043 - accuracy: 0.57 - ETA: 1s - loss: 1.2051 - accuracy: 0.57 - ETA: 1s - loss: 1.2020 - accuracy: 0.57 - ETA: 1s - loss: 1.2052 - accuracy: 0.57 - ETA: 1s - loss: 1.2135 - accuracy: 0.57 - ETA: 1s - loss: 1.2141 - accuracy: 0.57 - ETA: 1s - loss: 1.2116 - accuracy: 0.57 - ETA: 1s - loss: 1.2116 - accuracy: 0.57 - ETA: 1s - loss: 1.2121 - accuracy: 0.57 - ETA: 1s - loss: 1.2134 - accuracy: 0.57 - ETA: 1s - loss: 1.2156 - accuracy: 0.57 - ETA: 1s - loss: 1.2165 - accuracy: 0.57 - ETA: 1s - loss: 1.2173 - accuracy: 0.57 - ETA: 1s - loss: 1.2186 - accuracy: 0.57 - ETA: 1s - loss: 1.2194 - accuracy: 0.57 - ETA: 1s - loss: 1.2190 - accuracy: 0.57 - ETA: 0s - loss: 1.2201 - accuracy: 0.57 - ETA: 0s - loss: 1.2197 - accuracy: 0.57 - ETA: 0s - loss: 1.2201 - accuracy: 0.57 - ETA: 0s - loss: 1.2185 - accuracy: 0.57 - ETA: 0s - loss: 1.2190 - accuracy: 0.57 - ETA: 0s - loss: 1.2184 - accuracy: 0.57 - ETA: 0s - loss: 1.2188 - accuracy: 0.57 - ETA: 0s - loss: 1.2187 - accuracy: 0.57 - ETA: 0s - loss: 1.2198 - accuracy: 0.57 - ETA: 0s - loss: 1.2195 - accuracy: 0.57 - ETA: 0s - loss: 1.2198 - accuracy: 0.57 - ETA: 0s - loss: 1.2198 - accuracy: 0.57 - ETA: 0s - loss: 1.2195 - accuracy: 0.57 - ETA: 0s - loss: 1.2203 - accuracy: 0.57 - ETA: 0s - loss: 1.2213 - accuracy: 0.57 - ETA: 0s - loss: 1.2207 - accuracy: 0.57 - ETA: 0s - loss: 1.2207 - accuracy: 0.57 - ETA: 0s - loss: 1.2199 - accuracy: 0.57 - ETA: 0s - loss: 1.2204 - accuracy: 0.57 - 3s 2ms/step - loss: 1.2205 - accuracy: 0.5749 - val_loss: 1.1688 - val_accuracy: 0.5822\n",
      "Epoch 9/20\n",
      "1875/1875 [==============================] - ETA: 0s - loss: 0.9513 - accuracy: 0.68 - ETA: 2s - loss: 1.1697 - accuracy: 0.58 - ETA: 2s - loss: 1.1642 - accuracy: 0.59 - ETA: 2s - loss: 1.1690 - accuracy: 0.59 - ETA: 2s - loss: 1.1955 - accuracy: 0.58 - ETA: 2s - loss: 1.2010 - accuracy: 0.58 - ETA: 2s - loss: 1.1977 - accuracy: 0.58 - ETA: 2s - loss: 1.1885 - accuracy: 0.58 - ETA: 1s - loss: 1.1948 - accuracy: 0.58 - ETA: 1s - loss: 1.1959 - accuracy: 0.58 - ETA: 1s - loss: 1.1931 - accuracy: 0.58 - ETA: 1s - loss: 1.1953 - accuracy: 0.58 - ETA: 1s - loss: 1.1903 - accuracy: 0.58 - ETA: 1s - loss: 1.1855 - accuracy: 0.58 - ETA: 1s - loss: 1.1877 - accuracy: 0.58 - ETA: 1s - loss: 1.1873 - accuracy: 0.58 - ETA: 1s - loss: 1.1842 - accuracy: 0.58 - ETA: 1s - loss: 1.1847 - accuracy: 0.58 - ETA: 1s - loss: 1.1807 - accuracy: 0.58 - ETA: 1s - loss: 1.1828 - accuracy: 0.58 - ETA: 1s - loss: 1.1820 - accuracy: 0.58 - ETA: 1s - loss: 1.1837 - accuracy: 0.58 - ETA: 1s - loss: 1.1859 - accuracy: 0.58 - ETA: 1s - loss: 1.1870 - accuracy: 0.58 - ETA: 1s - loss: 1.1887 - accuracy: 0.58 - ETA: 0s - loss: 1.1882 - accuracy: 0.58 - ETA: 0s - loss: 1.1911 - accuracy: 0.58 - ETA: 0s - loss: 1.1925 - accuracy: 0.58 - ETA: 0s - loss: 1.1944 - accuracy: 0.58 - ETA: 0s - loss: 1.1954 - accuracy: 0.58 - ETA: 0s - loss: 1.1963 - accuracy: 0.58 - ETA: 0s - loss: 1.1948 - accuracy: 0.58 - ETA: 0s - loss: 1.1948 - accuracy: 0.58 - ETA: 0s - loss: 1.1955 - accuracy: 0.58 - ETA: 0s - loss: 1.1953 - accuracy: 0.58 - ETA: 0s - loss: 1.1958 - accuracy: 0.58 - ETA: 0s - loss: 1.1971 - accuracy: 0.58 - ETA: 0s - loss: 1.1991 - accuracy: 0.58 - ETA: 0s - loss: 1.1995 - accuracy: 0.58 - ETA: 0s - loss: 1.1995 - accuracy: 0.58 - ETA: 0s - loss: 1.2006 - accuracy: 0.58 - ETA: 0s - loss: 1.2017 - accuracy: 0.58 - ETA: 0s - loss: 1.2025 - accuracy: 0.58 - ETA: 0s - loss: 1.2024 - accuracy: 0.58 - 3s 2ms/step - loss: 1.2026 - accuracy: 0.5847 - val_loss: 1.1132 - val_accuracy: 0.5951\n",
      "Epoch 10/20\n",
      "1875/1875 [==============================] - ETA: 0s - loss: 0.9090 - accuracy: 0.59 - ETA: 2s - loss: 1.1686 - accuracy: 0.58 - ETA: 2s - loss: 1.1820 - accuracy: 0.58 - ETA: 2s - loss: 1.1843 - accuracy: 0.58 - ETA: 2s - loss: 1.1850 - accuracy: 0.58 - ETA: 2s - loss: 1.2002 - accuracy: 0.57 - ETA: 2s - loss: 1.1970 - accuracy: 0.58 - ETA: 2s - loss: 1.1944 - accuracy: 0.58 - ETA: 1s - loss: 1.1933 - accuracy: 0.58 - ETA: 1s - loss: 1.1881 - accuracy: 0.58 - ETA: 1s - loss: 1.1920 - accuracy: 0.58 - ETA: 1s - loss: 1.1898 - accuracy: 0.58 - ETA: 1s - loss: 1.1877 - accuracy: 0.58 - ETA: 1s - loss: 1.1854 - accuracy: 0.59 - ETA: 1s - loss: 1.1863 - accuracy: 0.59 - ETA: 1s - loss: 1.1823 - accuracy: 0.59 - ETA: 1s - loss: 1.1808 - accuracy: 0.59 - ETA: 1s - loss: 1.1801 - accuracy: 0.59 - ETA: 1s - loss: 1.1806 - accuracy: 0.59 - ETA: 1s - loss: 1.1795 - accuracy: 0.59 - ETA: 1s - loss: 1.1780 - accuracy: 0.59 - ETA: 1s - loss: 1.1753 - accuracy: 0.59 - ETA: 1s - loss: 1.1773 - accuracy: 0.59 - ETA: 1s - loss: 1.1758 - accuracy: 0.59 - ETA: 1s - loss: 1.1740 - accuracy: 0.59 - ETA: 0s - loss: 1.1750 - accuracy: 0.59 - ETA: 0s - loss: 1.1755 - accuracy: 0.59 - ETA: 0s - loss: 1.1755 - accuracy: 0.59 - ETA: 0s - loss: 1.1779 - accuracy: 0.59 - ETA: 0s - loss: 1.1773 - accuracy: 0.59 - ETA: 0s - loss: 1.1778 - accuracy: 0.59 - ETA: 0s - loss: 1.1799 - accuracy: 0.59 - ETA: 0s - loss: 1.1793 - accuracy: 0.59 - ETA: 0s - loss: 1.1787 - accuracy: 0.59 - ETA: 0s - loss: 1.1801 - accuracy: 0.59 - ETA: 0s - loss: 1.1811 - accuracy: 0.59 - ETA: 0s - loss: 1.1817 - accuracy: 0.59 - ETA: 0s - loss: 1.1823 - accuracy: 0.59 - ETA: 0s - loss: 1.1817 - accuracy: 0.59 - ETA: 0s - loss: 1.1812 - accuracy: 0.59 - ETA: 0s - loss: 1.1803 - accuracy: 0.59 - ETA: 0s - loss: 1.1808 - accuracy: 0.59 - ETA: 0s - loss: 1.1814 - accuracy: 0.59 - ETA: 0s - loss: 1.1819 - accuracy: 0.59 - 3s 2ms/step - loss: 1.1812 - accuracy: 0.5935 - val_loss: 1.1368 - val_accuracy: 0.5949\n",
      "Epoch 11/20\n",
      "1875/1875 [==============================] - ETA: 0s - loss: 1.0151 - accuracy: 0.68 - ETA: 2s - loss: 1.1350 - accuracy: 0.60 - ETA: 2s - loss: 1.1394 - accuracy: 0.60 - ETA: 2s - loss: 1.1454 - accuracy: 0.60 - ETA: 2s - loss: 1.1409 - accuracy: 0.60 - ETA: 2s - loss: 1.1530 - accuracy: 0.60 - ETA: 2s - loss: 1.1698 - accuracy: 0.59 - ETA: 2s - loss: 1.1645 - accuracy: 0.60 - ETA: 2s - loss: 1.1611 - accuracy: 0.60 - ETA: 1s - loss: 1.1579 - accuracy: 0.60 - ETA: 1s - loss: 1.1572 - accuracy: 0.60 - ETA: 1s - loss: 1.1599 - accuracy: 0.60 - ETA: 1s - loss: 1.1602 - accuracy: 0.60 - ETA: 1s - loss: 1.1602 - accuracy: 0.60 - ETA: 1s - loss: 1.1570 - accuracy: 0.60 - ETA: 1s - loss: 1.1580 - accuracy: 0.60 - ETA: 1s - loss: 1.1605 - accuracy: 0.60 - ETA: 1s - loss: 1.1633 - accuracy: 0.60 - ETA: 1s - loss: 1.1619 - accuracy: 0.60 - ETA: 1s - loss: 1.1631 - accuracy: 0.60 - ETA: 1s - loss: 1.1668 - accuracy: 0.60 - ETA: 1s - loss: 1.1655 - accuracy: 0.60 - ETA: 1s - loss: 1.1647 - accuracy: 0.60 - ETA: 1s - loss: 1.1637 - accuracy: 0.60 - ETA: 1s - loss: 1.1654 - accuracy: 0.60 - ETA: 1s - loss: 1.1661 - accuracy: 0.60 - ETA: 0s - loss: 1.1664 - accuracy: 0.60 - ETA: 0s - loss: 1.1648 - accuracy: 0.60 - ETA: 0s - loss: 1.1641 - accuracy: 0.60 - ETA: 0s - loss: 1.1628 - accuracy: 0.60 - ETA: 0s - loss: 1.1633 - accuracy: 0.60 - ETA: 0s - loss: 1.1648 - accuracy: 0.60 - ETA: 0s - loss: 1.1638 - accuracy: 0.60 - ETA: 0s - loss: 1.1658 - accuracy: 0.60 - ETA: 0s - loss: 1.1670 - accuracy: 0.60 - ETA: 0s - loss: 1.1670 - accuracy: 0.60 - ETA: 0s - loss: 1.1674 - accuracy: 0.60 - ETA: 0s - loss: 1.1671 - accuracy: 0.60 - ETA: 0s - loss: 1.1672 - accuracy: 0.60 - ETA: 0s - loss: 1.1688 - accuracy: 0.60 - ETA: 0s - loss: 1.1708 - accuracy: 0.59 - ETA: 0s - loss: 1.1714 - accuracy: 0.59 - ETA: 0s - loss: 1.1714 - accuracy: 0.59 - ETA: 0s - loss: 1.1719 - accuracy: 0.59 - ETA: 0s - loss: 1.1724 - accuracy: 0.59 - 3s 2ms/step - loss: 1.1728 - accuracy: 0.5990 - val_loss: 1.1552 - val_accuracy: 0.5827\n",
      "Epoch 12/20\n"
     ]
    },
    {
     "name": "stdout",
     "output_type": "stream",
     "text": [
      "1875/1875 [==============================] - ETA: 0s - loss: 1.3609 - accuracy: 0.53 - ETA: 2s - loss: 1.1472 - accuracy: 0.61 - ETA: 2s - loss: 1.1764 - accuracy: 0.59 - ETA: 2s - loss: 1.1783 - accuracy: 0.60 - ETA: 2s - loss: 1.1771 - accuracy: 0.60 - ETA: 2s - loss: 1.1694 - accuracy: 0.60 - ETA: 2s - loss: 1.1545 - accuracy: 0.60 - ETA: 2s - loss: 1.1568 - accuracy: 0.60 - ETA: 1s - loss: 1.1601 - accuracy: 0.60 - ETA: 1s - loss: 1.1580 - accuracy: 0.60 - ETA: 1s - loss: 1.1590 - accuracy: 0.60 - ETA: 1s - loss: 1.1550 - accuracy: 0.60 - ETA: 1s - loss: 1.1543 - accuracy: 0.60 - ETA: 1s - loss: 1.1528 - accuracy: 0.60 - ETA: 1s - loss: 1.1501 - accuracy: 0.60 - ETA: 1s - loss: 1.1569 - accuracy: 0.60 - ETA: 1s - loss: 1.1565 - accuracy: 0.60 - ETA: 1s - loss: 1.1586 - accuracy: 0.60 - ETA: 1s - loss: 1.1590 - accuracy: 0.60 - ETA: 1s - loss: 1.1604 - accuracy: 0.60 - ETA: 1s - loss: 1.1589 - accuracy: 0.60 - ETA: 1s - loss: 1.1596 - accuracy: 0.60 - ETA: 1s - loss: 1.1589 - accuracy: 0.60 - ETA: 1s - loss: 1.1562 - accuracy: 0.60 - ETA: 1s - loss: 1.1591 - accuracy: 0.60 - ETA: 1s - loss: 1.1582 - accuracy: 0.60 - ETA: 1s - loss: 1.1562 - accuracy: 0.60 - ETA: 1s - loss: 1.1572 - accuracy: 0.60 - ETA: 0s - loss: 1.1579 - accuracy: 0.60 - ETA: 0s - loss: 1.1569 - accuracy: 0.60 - ETA: 0s - loss: 1.1560 - accuracy: 0.60 - ETA: 0s - loss: 1.1585 - accuracy: 0.60 - ETA: 0s - loss: 1.1594 - accuracy: 0.60 - ETA: 0s - loss: 1.1589 - accuracy: 0.60 - ETA: 0s - loss: 1.1598 - accuracy: 0.60 - ETA: 0s - loss: 1.1606 - accuracy: 0.60 - ETA: 0s - loss: 1.1612 - accuracy: 0.60 - ETA: 0s - loss: 1.1592 - accuracy: 0.60 - ETA: 0s - loss: 1.1581 - accuracy: 0.60 - ETA: 0s - loss: 1.1586 - accuracy: 0.60 - ETA: 0s - loss: 1.1585 - accuracy: 0.60 - ETA: 0s - loss: 1.1591 - accuracy: 0.60 - ETA: 0s - loss: 1.1579 - accuracy: 0.60 - ETA: 0s - loss: 1.1588 - accuracy: 0.60 - ETA: 0s - loss: 1.1599 - accuracy: 0.60 - 3s 2ms/step - loss: 1.1591 - accuracy: 0.6070 - val_loss: 1.1743 - val_accuracy: 0.5785\n",
      "Epoch 13/20\n",
      "1875/1875 [==============================] - ETA: 0s - loss: 1.5918 - accuracy: 0.46 - ETA: 1s - loss: 1.1395 - accuracy: 0.60 - ETA: 1s - loss: 1.1514 - accuracy: 0.60 - ETA: 1s - loss: 1.1461 - accuracy: 0.60 - ETA: 1s - loss: 1.1480 - accuracy: 0.60 - ETA: 1s - loss: 1.1559 - accuracy: 0.60 - ETA: 1s - loss: 1.1564 - accuracy: 0.60 - ETA: 1s - loss: 1.1498 - accuracy: 0.60 - ETA: 1s - loss: 1.1458 - accuracy: 0.60 - ETA: 1s - loss: 1.1410 - accuracy: 0.60 - ETA: 1s - loss: 1.1431 - accuracy: 0.60 - ETA: 1s - loss: 1.1409 - accuracy: 0.60 - ETA: 1s - loss: 1.1390 - accuracy: 0.60 - ETA: 1s - loss: 1.1391 - accuracy: 0.60 - ETA: 1s - loss: 1.1376 - accuracy: 0.61 - ETA: 1s - loss: 1.1361 - accuracy: 0.61 - ETA: 1s - loss: 1.1402 - accuracy: 0.60 - ETA: 1s - loss: 1.1427 - accuracy: 0.60 - ETA: 1s - loss: 1.1406 - accuracy: 0.60 - ETA: 1s - loss: 1.1417 - accuracy: 0.60 - ETA: 1s - loss: 1.1417 - accuracy: 0.60 - ETA: 0s - loss: 1.1420 - accuracy: 0.60 - ETA: 0s - loss: 1.1415 - accuracy: 0.60 - ETA: 0s - loss: 1.1412 - accuracy: 0.60 - ETA: 0s - loss: 1.1407 - accuracy: 0.60 - ETA: 0s - loss: 1.1432 - accuracy: 0.60 - ETA: 0s - loss: 1.1433 - accuracy: 0.60 - ETA: 0s - loss: 1.1437 - accuracy: 0.60 - ETA: 0s - loss: 1.1451 - accuracy: 0.60 - ETA: 0s - loss: 1.1435 - accuracy: 0.60 - ETA: 0s - loss: 1.1449 - accuracy: 0.60 - ETA: 0s - loss: 1.1460 - accuracy: 0.60 - ETA: 0s - loss: 1.1458 - accuracy: 0.60 - ETA: 0s - loss: 1.1443 - accuracy: 0.60 - ETA: 0s - loss: 1.1442 - accuracy: 0.60 - ETA: 0s - loss: 1.1462 - accuracy: 0.60 - ETA: 0s - loss: 1.1473 - accuracy: 0.60 - ETA: 0s - loss: 1.1461 - accuracy: 0.60 - ETA: 0s - loss: 1.1464 - accuracy: 0.60 - ETA: 0s - loss: 1.1465 - accuracy: 0.60 - ETA: 0s - loss: 1.1463 - accuracy: 0.60 - ETA: 0s - loss: 1.1461 - accuracy: 0.60 - ETA: 0s - loss: 1.1464 - accuracy: 0.60 - 3s 2ms/step - loss: 1.1457 - accuracy: 0.6094 - val_loss: 1.1676 - val_accuracy: 0.5877\n",
      "Epoch 14/20\n",
      "1875/1875 [==============================] - ETA: 0s - loss: 0.9356 - accuracy: 0.75 - ETA: 2s - loss: 1.1546 - accuracy: 0.61 - ETA: 1s - loss: 1.1324 - accuracy: 0.62 - ETA: 1s - loss: 1.1340 - accuracy: 0.62 - ETA: 1s - loss: 1.1374 - accuracy: 0.62 - ETA: 1s - loss: 1.1512 - accuracy: 0.61 - ETA: 1s - loss: 1.1462 - accuracy: 0.61 - ETA: 1s - loss: 1.1419 - accuracy: 0.62 - ETA: 1s - loss: 1.1402 - accuracy: 0.61 - ETA: 1s - loss: 1.1329 - accuracy: 0.62 - ETA: 1s - loss: 1.1331 - accuracy: 0.61 - ETA: 1s - loss: 1.1329 - accuracy: 0.61 - ETA: 1s - loss: 1.1344 - accuracy: 0.61 - ETA: 1s - loss: 1.1339 - accuracy: 0.61 - ETA: 1s - loss: 1.1284 - accuracy: 0.61 - ETA: 1s - loss: 1.1241 - accuracy: 0.61 - ETA: 1s - loss: 1.1232 - accuracy: 0.61 - ETA: 1s - loss: 1.1235 - accuracy: 0.61 - ETA: 1s - loss: 1.1283 - accuracy: 0.61 - ETA: 1s - loss: 1.1282 - accuracy: 0.61 - ETA: 1s - loss: 1.1300 - accuracy: 0.61 - ETA: 0s - loss: 1.1297 - accuracy: 0.61 - ETA: 0s - loss: 1.1307 - accuracy: 0.61 - ETA: 0s - loss: 1.1314 - accuracy: 0.61 - ETA: 0s - loss: 1.1301 - accuracy: 0.61 - ETA: 0s - loss: 1.1305 - accuracy: 0.61 - ETA: 0s - loss: 1.1326 - accuracy: 0.61 - ETA: 0s - loss: 1.1331 - accuracy: 0.61 - ETA: 0s - loss: 1.1332 - accuracy: 0.61 - ETA: 0s - loss: 1.1337 - accuracy: 0.61 - ETA: 0s - loss: 1.1332 - accuracy: 0.61 - ETA: 0s - loss: 1.1334 - accuracy: 0.61 - ETA: 0s - loss: 1.1309 - accuracy: 0.61 - ETA: 0s - loss: 1.1324 - accuracy: 0.61 - ETA: 0s - loss: 1.1316 - accuracy: 0.61 - ETA: 0s - loss: 1.1321 - accuracy: 0.61 - ETA: 0s - loss: 1.1320 - accuracy: 0.61 - ETA: 0s - loss: 1.1306 - accuracy: 0.61 - ETA: 0s - loss: 1.1290 - accuracy: 0.61 - ETA: 0s - loss: 1.1275 - accuracy: 0.61 - ETA: 0s - loss: 1.1269 - accuracy: 0.61 - ETA: 0s - loss: 1.1266 - accuracy: 0.61 - 3s 2ms/step - loss: 1.1271 - accuracy: 0.6169 - val_loss: 1.1395 - val_accuracy: 0.5937\n",
      "Epoch 15/20\n",
      "1875/1875 [==============================] - ETA: 0s - loss: 1.0093 - accuracy: 0.56 - ETA: 1s - loss: 1.0973 - accuracy: 0.63 - ETA: 1s - loss: 1.1302 - accuracy: 0.62 - ETA: 1s - loss: 1.1148 - accuracy: 0.62 - ETA: 1s - loss: 1.1147 - accuracy: 0.61 - ETA: 1s - loss: 1.1125 - accuracy: 0.62 - ETA: 1s - loss: 1.1057 - accuracy: 0.62 - ETA: 1s - loss: 1.0988 - accuracy: 0.62 - ETA: 1s - loss: 1.0989 - accuracy: 0.62 - ETA: 1s - loss: 1.0963 - accuracy: 0.62 - ETA: 1s - loss: 1.0980 - accuracy: 0.62 - ETA: 1s - loss: 1.1022 - accuracy: 0.62 - ETA: 1s - loss: 1.0969 - accuracy: 0.62 - ETA: 1s - loss: 1.0988 - accuracy: 0.62 - ETA: 1s - loss: 1.1064 - accuracy: 0.62 - ETA: 1s - loss: 1.1097 - accuracy: 0.62 - ETA: 1s - loss: 1.1086 - accuracy: 0.62 - ETA: 1s - loss: 1.1082 - accuracy: 0.62 - ETA: 1s - loss: 1.1081 - accuracy: 0.62 - ETA: 1s - loss: 1.1063 - accuracy: 0.62 - ETA: 1s - loss: 1.1077 - accuracy: 0.62 - ETA: 1s - loss: 1.1090 - accuracy: 0.62 - ETA: 1s - loss: 1.1090 - accuracy: 0.62 - ETA: 0s - loss: 1.1093 - accuracy: 0.62 - ETA: 0s - loss: 1.1133 - accuracy: 0.62 - ETA: 0s - loss: 1.1136 - accuracy: 0.62 - ETA: 0s - loss: 1.1141 - accuracy: 0.62 - ETA: 0s - loss: 1.1144 - accuracy: 0.62 - ETA: 0s - loss: 1.1153 - accuracy: 0.62 - ETA: 0s - loss: 1.1166 - accuracy: 0.62 - ETA: 0s - loss: 1.1175 - accuracy: 0.61 - ETA: 0s - loss: 1.1177 - accuracy: 0.61 - ETA: 0s - loss: 1.1179 - accuracy: 0.61 - ETA: 0s - loss: 1.1186 - accuracy: 0.61 - ETA: 0s - loss: 1.1196 - accuracy: 0.61 - ETA: 0s - loss: 1.1208 - accuracy: 0.61 - ETA: 0s - loss: 1.1224 - accuracy: 0.61 - ETA: 0s - loss: 1.1220 - accuracy: 0.61 - ETA: 0s - loss: 1.1230 - accuracy: 0.61 - ETA: 0s - loss: 1.1243 - accuracy: 0.61 - ETA: 0s - loss: 1.1239 - accuracy: 0.61 - ETA: 0s - loss: 1.1237 - accuracy: 0.61 - ETA: 0s - loss: 1.1237 - accuracy: 0.61 - 3s 2ms/step - loss: 1.1238 - accuracy: 0.6162 - val_loss: 1.1354 - val_accuracy: 0.6021\n",
      "Epoch 16/20\n",
      "1875/1875 [==============================] - ETA: 0s - loss: 0.8106 - accuracy: 0.81 - ETA: 2s - loss: 1.0794 - accuracy: 0.62 - ETA: 2s - loss: 1.0528 - accuracy: 0.62 - ETA: 2s - loss: 1.0727 - accuracy: 0.62 - ETA: 2s - loss: 1.0763 - accuracy: 0.62 - ETA: 2s - loss: 1.0877 - accuracy: 0.61 - ETA: 2s - loss: 1.0907 - accuracy: 0.61 - ETA: 1s - loss: 1.0947 - accuracy: 0.61 - ETA: 1s - loss: 1.0936 - accuracy: 0.62 - ETA: 1s - loss: 1.0998 - accuracy: 0.62 - ETA: 1s - loss: 1.0937 - accuracy: 0.62 - ETA: 1s - loss: 1.0894 - accuracy: 0.62 - ETA: 1s - loss: 1.0961 - accuracy: 0.62 - ETA: 1s - loss: 1.0946 - accuracy: 0.62 - ETA: 1s - loss: 1.0934 - accuracy: 0.62 - ETA: 1s - loss: 1.0963 - accuracy: 0.62 - ETA: 1s - loss: 1.0960 - accuracy: 0.62 - ETA: 1s - loss: 1.0955 - accuracy: 0.62 - ETA: 1s - loss: 1.0977 - accuracy: 0.62 - ETA: 1s - loss: 1.0977 - accuracy: 0.62 - ETA: 1s - loss: 1.0994 - accuracy: 0.62 - ETA: 1s - loss: 1.1010 - accuracy: 0.62 - ETA: 1s - loss: 1.1022 - accuracy: 0.62 - ETA: 1s - loss: 1.1058 - accuracy: 0.62 - ETA: 1s - loss: 1.1050 - accuracy: 0.62 - ETA: 1s - loss: 1.1055 - accuracy: 0.62 - ETA: 0s - loss: 1.1052 - accuracy: 0.62 - ETA: 0s - loss: 1.1055 - accuracy: 0.62 - ETA: 0s - loss: 1.1060 - accuracy: 0.62 - ETA: 0s - loss: 1.1047 - accuracy: 0.62 - ETA: 0s - loss: 1.1044 - accuracy: 0.62 - ETA: 0s - loss: 1.1035 - accuracy: 0.62 - ETA: 0s - loss: 1.1057 - accuracy: 0.62 - ETA: 0s - loss: 1.1068 - accuracy: 0.62 - ETA: 0s - loss: 1.1077 - accuracy: 0.62 - ETA: 0s - loss: 1.1085 - accuracy: 0.62 - ETA: 0s - loss: 1.1097 - accuracy: 0.62 - ETA: 0s - loss: 1.1111 - accuracy: 0.62 - ETA: 0s - loss: 1.1110 - accuracy: 0.62 - ETA: 0s - loss: 1.1105 - accuracy: 0.62 - ETA: 0s - loss: 1.1125 - accuracy: 0.62 - ETA: 0s - loss: 1.1116 - accuracy: 0.62 - ETA: 0s - loss: 1.1126 - accuracy: 0.62 - ETA: 0s - loss: 1.1126 - accuracy: 0.62 - ETA: 0s - loss: 1.1126 - accuracy: 0.62 - 3s 2ms/step - loss: 1.1144 - accuracy: 0.6204 - val_loss: 1.1916 - val_accuracy: 0.5842\n",
      "Epoch 17/20\n",
      "1875/1875 [==============================] - ETA: 0s - loss: 0.6754 - accuracy: 0.81 - ETA: 2s - loss: 1.0839 - accuracy: 0.63 - ETA: 2s - loss: 1.0838 - accuracy: 0.64 - ETA: 2s - loss: 1.0843 - accuracy: 0.63 - ETA: 1s - loss: 1.0810 - accuracy: 0.63 - ETA: 1s - loss: 1.0786 - accuracy: 0.63 - ETA: 1s - loss: 1.0909 - accuracy: 0.62 - ETA: 1s - loss: 1.0848 - accuracy: 0.63 - ETA: 1s - loss: 1.0904 - accuracy: 0.63 - ETA: 1s - loss: 1.0955 - accuracy: 0.62 - ETA: 1s - loss: 1.0982 - accuracy: 0.62 - ETA: 1s - loss: 1.1020 - accuracy: 0.62 - ETA: 1s - loss: 1.1037 - accuracy: 0.62 - ETA: 1s - loss: 1.1059 - accuracy: 0.62 - ETA: 1s - loss: 1.1066 - accuracy: 0.62 - ETA: 1s - loss: 1.1060 - accuracy: 0.62 - ETA: 1s - loss: 1.1035 - accuracy: 0.62 - ETA: 1s - loss: 1.1060 - accuracy: 0.62 - ETA: 1s - loss: 1.1075 - accuracy: 0.62 - ETA: 1s - loss: 1.1073 - accuracy: 0.62 - ETA: 1s - loss: 1.1052 - accuracy: 0.62 - ETA: 1s - loss: 1.1061 - accuracy: 0.62 - ETA: 0s - loss: 1.1069 - accuracy: 0.62 - ETA: 0s - loss: 1.1069 - accuracy: 0.62 - ETA: 0s - loss: 1.1068 - accuracy: 0.62 - ETA: 0s - loss: 1.1073 - accuracy: 0.62 - ETA: 0s - loss: 1.1071 - accuracy: 0.62 - ETA: 0s - loss: 1.1066 - accuracy: 0.62 - ETA: 0s - loss: 1.1090 - accuracy: 0.62 - ETA: 0s - loss: 1.1079 - accuracy: 0.62 - ETA: 0s - loss: 1.1086 - accuracy: 0.62 - ETA: 0s - loss: 1.1084 - accuracy: 0.62 - ETA: 0s - loss: 1.1082 - accuracy: 0.62 - ETA: 0s - loss: 1.1084 - accuracy: 0.62 - ETA: 0s - loss: 1.1092 - accuracy: 0.62 - ETA: 0s - loss: 1.1081 - accuracy: 0.62 - ETA: 0s - loss: 1.1073 - accuracy: 0.62 - ETA: 0s - loss: 1.1072 - accuracy: 0.62 - ETA: 0s - loss: 1.1059 - accuracy: 0.62 - ETA: 0s - loss: 1.1055 - accuracy: 0.62 - ETA: 0s - loss: 1.1050 - accuracy: 0.62 - ETA: 0s - loss: 1.1061 - accuracy: 0.62 - ETA: 0s - loss: 1.1063 - accuracy: 0.62 - ETA: 0s - loss: 1.1064 - accuracy: 0.62 - 3s 2ms/step - loss: 1.1059 - accuracy: 0.6251 - val_loss: 1.2317 - val_accuracy: 0.5676\n",
      "Epoch 18/20\n",
      "1875/1875 [==============================] - ETA: 0s - loss: 1.0868 - accuracy: 0.53 - ETA: 1s - loss: 1.0847 - accuracy: 0.64 - ETA: 1s - loss: 1.0581 - accuracy: 0.64 - ETA: 1s - loss: 1.0763 - accuracy: 0.64 - ETA: 1s - loss: 1.0737 - accuracy: 0.64 - ETA: 1s - loss: 1.0863 - accuracy: 0.63 - ETA: 1s - loss: 1.0851 - accuracy: 0.63 - ETA: 1s - loss: 1.0907 - accuracy: 0.63 - ETA: 1s - loss: 1.0893 - accuracy: 0.63 - ETA: 1s - loss: 1.0894 - accuracy: 0.63 - ETA: 1s - loss: 1.0880 - accuracy: 0.63 - ETA: 1s - loss: 1.0875 - accuracy: 0.63 - ETA: 1s - loss: 1.0912 - accuracy: 0.63 - ETA: 1s - loss: 1.0915 - accuracy: 0.63 - ETA: 1s - loss: 1.0935 - accuracy: 0.63 - ETA: 1s - loss: 1.0952 - accuracy: 0.63 - ETA: 1s - loss: 1.0975 - accuracy: 0.63 - ETA: 1s - loss: 1.1000 - accuracy: 0.63 - ETA: 1s - loss: 1.1002 - accuracy: 0.63 - ETA: 1s - loss: 1.0997 - accuracy: 0.63 - ETA: 1s - loss: 1.0990 - accuracy: 0.63 - ETA: 0s - loss: 1.0966 - accuracy: 0.63 - ETA: 0s - loss: 1.0982 - accuracy: 0.63 - ETA: 0s - loss: 1.0979 - accuracy: 0.62 - ETA: 0s - loss: 1.0995 - accuracy: 0.62 - ETA: 0s - loss: 1.0969 - accuracy: 0.62 - ETA: 0s - loss: 1.0961 - accuracy: 0.62 - ETA: 0s - loss: 1.0974 - accuracy: 0.62 - ETA: 0s - loss: 1.0984 - accuracy: 0.62 - ETA: 0s - loss: 1.1002 - accuracy: 0.62 - ETA: 0s - loss: 1.1001 - accuracy: 0.62 - ETA: 0s - loss: 1.1005 - accuracy: 0.62 - ETA: 0s - loss: 1.1008 - accuracy: 0.62 - ETA: 0s - loss: 1.1017 - accuracy: 0.62 - ETA: 0s - loss: 1.1013 - accuracy: 0.62 - ETA: 0s - loss: 1.1021 - accuracy: 0.62 - ETA: 0s - loss: 1.1018 - accuracy: 0.62 - ETA: 0s - loss: 1.1018 - accuracy: 0.62 - ETA: 0s - loss: 1.1026 - accuracy: 0.62 - ETA: 0s - loss: 1.1032 - accuracy: 0.62 - ETA: 0s - loss: 1.1021 - accuracy: 0.62 - ETA: 0s - loss: 1.1033 - accuracy: 0.62 - ETA: 0s - loss: 1.1046 - accuracy: 0.62 - 3s 2ms/step - loss: 1.1047 - accuracy: 0.6277 - val_loss: 1.2210 - val_accuracy: 0.5802\n",
      "Epoch 19/20\n",
      "1875/1875 [==============================] - ETA: 0s - loss: 1.2199 - accuracy: 0.65 - ETA: 2s - loss: 1.0823 - accuracy: 0.64 - ETA: 2s - loss: 1.0993 - accuracy: 0.62 - ETA: 1s - loss: 1.0992 - accuracy: 0.62 - ETA: 1s - loss: 1.0939 - accuracy: 0.63 - ETA: 1s - loss: 1.0919 - accuracy: 0.63 - ETA: 1s - loss: 1.0948 - accuracy: 0.63 - ETA: 1s - loss: 1.0924 - accuracy: 0.63 - ETA: 1s - loss: 1.0974 - accuracy: 0.62 - ETA: 1s - loss: 1.0918 - accuracy: 0.62 - ETA: 1s - loss: 1.0887 - accuracy: 0.62 - ETA: 1s - loss: 1.0846 - accuracy: 0.62 - ETA: 1s - loss: 1.0870 - accuracy: 0.62 - ETA: 1s - loss: 1.0888 - accuracy: 0.62 - ETA: 1s - loss: 1.0905 - accuracy: 0.62 - ETA: 1s - loss: 1.0909 - accuracy: 0.62 - ETA: 1s - loss: 1.0900 - accuracy: 0.62 - ETA: 1s - loss: 1.0891 - accuracy: 0.63 - ETA: 1s - loss: 1.0896 - accuracy: 0.63 - ETA: 1s - loss: 1.0892 - accuracy: 0.63 - ETA: 1s - loss: 1.0879 - accuracy: 0.63 - ETA: 1s - loss: 1.0893 - accuracy: 0.63 - ETA: 1s - loss: 1.0912 - accuracy: 0.63 - ETA: 0s - loss: 1.0894 - accuracy: 0.63 - ETA: 0s - loss: 1.0917 - accuracy: 0.63 - ETA: 0s - loss: 1.0926 - accuracy: 0.63 - ETA: 0s - loss: 1.0933 - accuracy: 0.62 - ETA: 0s - loss: 1.0926 - accuracy: 0.63 - ETA: 0s - loss: 1.0952 - accuracy: 0.62 - ETA: 0s - loss: 1.0942 - accuracy: 0.62 - ETA: 0s - loss: 1.0933 - accuracy: 0.63 - ETA: 0s - loss: 1.0913 - accuracy: 0.63 - ETA: 0s - loss: 1.0914 - accuracy: 0.62 - ETA: 0s - loss: 1.0906 - accuracy: 0.63 - ETA: 0s - loss: 1.0922 - accuracy: 0.62 - ETA: 0s - loss: 1.0920 - accuracy: 0.62 - ETA: 0s - loss: 1.0909 - accuracy: 0.62 - ETA: 0s - loss: 1.0903 - accuracy: 0.63 - ETA: 0s - loss: 1.0900 - accuracy: 0.63 - ETA: 0s - loss: 1.0907 - accuracy: 0.63 - ETA: 0s - loss: 1.0923 - accuracy: 0.63 - ETA: 0s - loss: 1.0929 - accuracy: 0.63 - ETA: 0s - loss: 1.0922 - accuracy: 0.63 - ETA: 0s - loss: 1.0929 - accuracy: 0.63 - ETA: 0s - loss: 1.0938 - accuracy: 0.63 - ETA: 0s - loss: 1.0943 - accuracy: 0.63 - 3s 2ms/step - loss: 1.0943 - accuracy: 0.6299 - val_loss: 1.2375 - val_accuracy: 0.5750\n",
      "Epoch 20/20\n"
     ]
    },
    {
     "name": "stdout",
     "output_type": "stream",
     "text": [
      "1875/1875 [==============================] - ETA: 0s - loss: 1.1388 - accuracy: 0.68 - ETA: 2s - loss: 1.0757 - accuracy: 0.62 - ETA: 2s - loss: 1.0832 - accuracy: 0.62 - ETA: 1s - loss: 1.0899 - accuracy: 0.62 - ETA: 1s - loss: 1.1082 - accuracy: 0.62 - ETA: 1s - loss: 1.1141 - accuracy: 0.61 - ETA: 1s - loss: 1.1055 - accuracy: 0.62 - ETA: 1s - loss: 1.1044 - accuracy: 0.62 - ETA: 1s - loss: 1.1034 - accuracy: 0.62 - ETA: 1s - loss: 1.1018 - accuracy: 0.62 - ETA: 1s - loss: 1.0958 - accuracy: 0.62 - ETA: 1s - loss: 1.0923 - accuracy: 0.62 - ETA: 1s - loss: 1.0920 - accuracy: 0.62 - ETA: 1s - loss: 1.0905 - accuracy: 0.62 - ETA: 1s - loss: 1.0891 - accuracy: 0.62 - ETA: 1s - loss: 1.0923 - accuracy: 0.62 - ETA: 1s - loss: 1.0913 - accuracy: 0.62 - ETA: 1s - loss: 1.0942 - accuracy: 0.62 - ETA: 1s - loss: 1.0908 - accuracy: 0.62 - ETA: 1s - loss: 1.0918 - accuracy: 0.62 - ETA: 1s - loss: 1.0912 - accuracy: 0.62 - ETA: 1s - loss: 1.0924 - accuracy: 0.62 - ETA: 1s - loss: 1.0948 - accuracy: 0.62 - ETA: 0s - loss: 1.0925 - accuracy: 0.62 - ETA: 0s - loss: 1.0902 - accuracy: 0.62 - ETA: 0s - loss: 1.0902 - accuracy: 0.62 - ETA: 0s - loss: 1.0890 - accuracy: 0.62 - ETA: 0s - loss: 1.0891 - accuracy: 0.62 - ETA: 0s - loss: 1.0880 - accuracy: 0.62 - ETA: 0s - loss: 1.0873 - accuracy: 0.62 - ETA: 0s - loss: 1.0890 - accuracy: 0.62 - ETA: 0s - loss: 1.0875 - accuracy: 0.62 - ETA: 0s - loss: 1.0876 - accuracy: 0.62 - ETA: 0s - loss: 1.0873 - accuracy: 0.62 - ETA: 0s - loss: 1.0884 - accuracy: 0.62 - ETA: 0s - loss: 1.0916 - accuracy: 0.62 - ETA: 0s - loss: 1.0922 - accuracy: 0.62 - ETA: 0s - loss: 1.0925 - accuracy: 0.62 - ETA: 0s - loss: 1.0936 - accuracy: 0.62 - ETA: 0s - loss: 1.0941 - accuracy: 0.62 - ETA: 0s - loss: 1.0950 - accuracy: 0.62 - ETA: 0s - loss: 1.0949 - accuracy: 0.62 - ETA: 0s - loss: 1.0940 - accuracy: 0.62 - 3s 2ms/step - loss: 1.0940 - accuracy: 0.6265 - val_loss: 1.1685 - val_accuracy: 0.5934\n"
     ]
    },
    {
     "data": {
      "text/html": [
       "<span style=\"color:#4527A0\"><h1 style=\"font-size:18px\">Trial complete</h1></span>"
      ],
      "text/plain": [
       "<IPython.core.display.HTML object>"
      ]
     },
     "metadata": {},
     "output_type": "display_data"
    },
    {
     "data": {
      "text/html": [
       "<span style=\"color:#4527A0\"><h1 style=\"font-size:18px\">Trial summary</h1></span>"
      ],
      "text/plain": [
       "<IPython.core.display.HTML object>"
      ]
     },
     "metadata": {},
     "output_type": "display_data"
    },
    {
     "data": {
      "text/html": [
       "<span style=\"color:cyan\"> |-Trial ID: 9caac5d829bb9eedfdb03d1fad005d75</span>"
      ],
      "text/plain": [
       "<IPython.core.display.HTML object>"
      ]
     },
     "metadata": {},
     "output_type": "display_data"
    },
    {
     "data": {
      "text/html": [
       "<span style=\"color:cyan\"> |-Score: 0.6653375029563904</span>"
      ],
      "text/plain": [
       "<IPython.core.display.HTML object>"
      ]
     },
     "metadata": {},
     "output_type": "display_data"
    },
    {
     "data": {
      "text/html": [
       "<span style=\"color:cyan\"> |-Best step: 0</span>"
      ],
      "text/plain": [
       "<IPython.core.display.HTML object>"
      ]
     },
     "metadata": {},
     "output_type": "display_data"
    },
    {
     "data": {
      "text/html": [
       "<span style=\"color:#7E57C2\"><h2 style=\"font-size:16px\">Hyperparameters:</h2></span>"
      ],
      "text/plain": [
       "<IPython.core.display.HTML object>"
      ]
     },
     "metadata": {},
     "output_type": "display_data"
    },
    {
     "data": {
      "text/html": [
       "<span style=\"color:cyan\"> |-drop_rate_0: 0.6</span>"
      ],
      "text/plain": [
       "<IPython.core.display.HTML object>"
      ]
     },
     "metadata": {},
     "output_type": "display_data"
    },
    {
     "data": {
      "text/html": [
       "<span style=\"color:blue\"> |-drop_rate_1: 0.0</span>"
      ],
      "text/plain": [
       "<IPython.core.display.HTML object>"
      ]
     },
     "metadata": {},
     "output_type": "display_data"
    },
    {
     "data": {
      "text/html": [
       "<span style=\"color:cyan\"> |-drop_rate_2: 0.0</span>"
      ],
      "text/plain": [
       "<IPython.core.display.HTML object>"
      ]
     },
     "metadata": {},
     "output_type": "display_data"
    },
    {
     "data": {
      "text/html": [
       "<span style=\"color:blue\"> |-drop_rate_3: 0.0</span>"
      ],
      "text/plain": [
       "<IPython.core.display.HTML object>"
      ]
     },
     "metadata": {},
     "output_type": "display_data"
    },
    {
     "data": {
      "text/html": [
       "<span style=\"color:cyan\"> |-num_layers: 4</span>"
      ],
      "text/plain": [
       "<IPython.core.display.HTML object>"
      ]
     },
     "metadata": {},
     "output_type": "display_data"
    },
    {
     "data": {
      "text/html": [
       "<span style=\"color:blue\"> |-units_0: 8</span>"
      ],
      "text/plain": [
       "<IPython.core.display.HTML object>"
      ]
     },
     "metadata": {},
     "output_type": "display_data"
    },
    {
     "data": {
      "text/html": [
       "<span style=\"color:cyan\"> |-units_1: 8</span>"
      ],
      "text/plain": [
       "<IPython.core.display.HTML object>"
      ]
     },
     "metadata": {},
     "output_type": "display_data"
    },
    {
     "data": {
      "text/html": [
       "<span style=\"color:blue\"> |-units_2: 8</span>"
      ],
      "text/plain": [
       "<IPython.core.display.HTML object>"
      ]
     },
     "metadata": {},
     "output_type": "display_data"
    },
    {
     "data": {
      "text/html": [
       "<span style=\"color:cyan\"> |-units_3: 8</span>"
      ],
      "text/plain": [
       "<IPython.core.display.HTML object>"
      ]
     },
     "metadata": {},
     "output_type": "display_data"
    },
    {
     "name": "stdout",
     "output_type": "stream",
     "text": [
      "Epoch 1/20\n",
      "1875/1875 [==============================] - ETA: 0s - loss: 2.2753 - accuracy: 0.21 - ETA: 2s - loss: 2.2446 - accuracy: 0.17 - ETA: 2s - loss: 2.1467 - accuracy: 0.23 - ETA: 2s - loss: 2.0460 - accuracy: 0.27 - ETA: 2s - loss: 1.9241 - accuracy: 0.31 - ETA: 2s - loss: 1.8291 - accuracy: 0.35 - ETA: 2s - loss: 1.7459 - accuracy: 0.38 - ETA: 2s - loss: 1.6681 - accuracy: 0.41 - ETA: 2s - loss: 1.6172 - accuracy: 0.43 - ETA: 2s - loss: 1.5864 - accuracy: 0.45 - ETA: 2s - loss: 1.5429 - accuracy: 0.46 - ETA: 2s - loss: 1.5044 - accuracy: 0.48 - ETA: 1s - loss: 1.4658 - accuracy: 0.49 - ETA: 1s - loss: 1.4321 - accuracy: 0.51 - ETA: 1s - loss: 1.3971 - accuracy: 0.52 - ETA: 1s - loss: 1.3685 - accuracy: 0.53 - ETA: 1s - loss: 1.3459 - accuracy: 0.54 - ETA: 1s - loss: 1.3311 - accuracy: 0.55 - ETA: 1s - loss: 1.3100 - accuracy: 0.56 - ETA: 1s - loss: 1.2880 - accuracy: 0.57 - ETA: 1s - loss: 1.2705 - accuracy: 0.57 - ETA: 1s - loss: 1.2515 - accuracy: 0.58 - ETA: 1s - loss: 1.2314 - accuracy: 0.59 - ETA: 1s - loss: 1.2144 - accuracy: 0.59 - ETA: 1s - loss: 1.1977 - accuracy: 0.60 - ETA: 1s - loss: 1.1826 - accuracy: 0.61 - ETA: 1s - loss: 1.1686 - accuracy: 0.61 - ETA: 0s - loss: 1.1530 - accuracy: 0.62 - ETA: 0s - loss: 1.1380 - accuracy: 0.62 - ETA: 0s - loss: 1.1265 - accuracy: 0.63 - ETA: 0s - loss: 1.1158 - accuracy: 0.63 - ETA: 0s - loss: 1.1052 - accuracy: 0.64 - ETA: 0s - loss: 1.0952 - accuracy: 0.64 - ETA: 0s - loss: 1.0871 - accuracy: 0.64 - ETA: 0s - loss: 1.0805 - accuracy: 0.65 - ETA: 0s - loss: 1.0708 - accuracy: 0.65 - ETA: 0s - loss: 1.0636 - accuracy: 0.65 - ETA: 0s - loss: 1.0541 - accuracy: 0.66 - ETA: 0s - loss: 1.0473 - accuracy: 0.66 - ETA: 0s - loss: 1.0398 - accuracy: 0.66 - ETA: 0s - loss: 1.0331 - accuracy: 0.67 - ETA: 0s - loss: 1.0262 - accuracy: 0.67 - ETA: 0s - loss: 1.0182 - accuracy: 0.67 - ETA: 0s - loss: 1.0117 - accuracy: 0.67 - ETA: 0s - loss: 1.0046 - accuracy: 0.68 - 3s 2ms/step - loss: 1.0022 - accuracy: 0.6822 - val_loss: 0.6207 - val_accuracy: 0.8132\n",
      "Epoch 2/20\n",
      "1875/1875 [==============================] - ETA: 0s - loss: 1.0831 - accuracy: 0.71 - ETA: 2s - loss: 0.6824 - accuracy: 0.79 - ETA: 2s - loss: 0.6741 - accuracy: 0.79 - ETA: 1s - loss: 0.6763 - accuracy: 0.79 - ETA: 1s - loss: 0.6838 - accuracy: 0.79 - ETA: 1s - loss: 0.6888 - accuracy: 0.79 - ETA: 1s - loss: 0.6927 - accuracy: 0.79 - ETA: 1s - loss: 0.6952 - accuracy: 0.78 - ETA: 1s - loss: 0.6902 - accuracy: 0.79 - ETA: 1s - loss: 0.6889 - accuracy: 0.79 - ETA: 1s - loss: 0.6857 - accuracy: 0.79 - ETA: 1s - loss: 0.6865 - accuracy: 0.79 - ETA: 1s - loss: 0.6858 - accuracy: 0.79 - ETA: 1s - loss: 0.6854 - accuracy: 0.79 - ETA: 1s - loss: 0.6882 - accuracy: 0.79 - ETA: 1s - loss: 0.6869 - accuracy: 0.79 - ETA: 1s - loss: 0.6848 - accuracy: 0.79 - ETA: 1s - loss: 0.6830 - accuracy: 0.79 - ETA: 1s - loss: 0.6844 - accuracy: 0.79 - ETA: 1s - loss: 0.6818 - accuracy: 0.79 - ETA: 1s - loss: 0.6822 - accuracy: 0.79 - ETA: 1s - loss: 0.6842 - accuracy: 0.79 - ETA: 1s - loss: 0.6820 - accuracy: 0.79 - ETA: 1s - loss: 0.6825 - accuracy: 0.79 - ETA: 1s - loss: 0.6814 - accuracy: 0.79 - ETA: 0s - loss: 0.6810 - accuracy: 0.79 - ETA: 0s - loss: 0.6808 - accuracy: 0.79 - ETA: 0s - loss: 0.6810 - accuracy: 0.79 - ETA: 0s - loss: 0.6811 - accuracy: 0.79 - ETA: 0s - loss: 0.6820 - accuracy: 0.79 - ETA: 0s - loss: 0.6815 - accuracy: 0.79 - ETA: 0s - loss: 0.6802 - accuracy: 0.79 - ETA: 0s - loss: 0.6804 - accuracy: 0.79 - ETA: 0s - loss: 0.6805 - accuracy: 0.79 - ETA: 0s - loss: 0.6793 - accuracy: 0.79 - ETA: 0s - loss: 0.6791 - accuracy: 0.79 - ETA: 0s - loss: 0.6780 - accuracy: 0.79 - ETA: 0s - loss: 0.6773 - accuracy: 0.79 - ETA: 0s - loss: 0.6759 - accuracy: 0.79 - ETA: 0s - loss: 0.6751 - accuracy: 0.79 - ETA: 0s - loss: 0.6729 - accuracy: 0.79 - ETA: 0s - loss: 0.6728 - accuracy: 0.79 - ETA: 0s - loss: 0.6718 - accuracy: 0.79 - ETA: 0s - loss: 0.6712 - accuracy: 0.79 - ETA: 0s - loss: 0.6694 - accuracy: 0.79 - ETA: 0s - loss: 0.6699 - accuracy: 0.79 - 3s 2ms/step - loss: 0.6693 - accuracy: 0.7992 - val_loss: 0.5517 - val_accuracy: 0.8323\n",
      "Epoch 3/20\n",
      "1875/1875 [==============================] - ETA: 0s - loss: 0.4658 - accuracy: 0.90 - ETA: 1s - loss: 0.6156 - accuracy: 0.81 - ETA: 2s - loss: 0.6223 - accuracy: 0.81 - ETA: 1s - loss: 0.6058 - accuracy: 0.81 - ETA: 1s - loss: 0.6024 - accuracy: 0.81 - ETA: 1s - loss: 0.6050 - accuracy: 0.81 - ETA: 1s - loss: 0.6042 - accuracy: 0.81 - ETA: 1s - loss: 0.6050 - accuracy: 0.81 - ETA: 1s - loss: 0.6035 - accuracy: 0.81 - ETA: 1s - loss: 0.6022 - accuracy: 0.82 - ETA: 1s - loss: 0.6024 - accuracy: 0.81 - ETA: 1s - loss: 0.6049 - accuracy: 0.81 - ETA: 1s - loss: 0.6039 - accuracy: 0.81 - ETA: 1s - loss: 0.5972 - accuracy: 0.82 - ETA: 1s - loss: 0.5953 - accuracy: 0.82 - ETA: 1s - loss: 0.5935 - accuracy: 0.82 - ETA: 1s - loss: 0.5931 - accuracy: 0.82 - ETA: 1s - loss: 0.5909 - accuracy: 0.82 - ETA: 1s - loss: 0.5912 - accuracy: 0.82 - ETA: 1s - loss: 0.5890 - accuracy: 0.82 - ETA: 1s - loss: 0.5881 - accuracy: 0.82 - ETA: 1s - loss: 0.5885 - accuracy: 0.82 - ETA: 1s - loss: 0.5888 - accuracy: 0.82 - ETA: 0s - loss: 0.5891 - accuracy: 0.82 - ETA: 0s - loss: 0.5892 - accuracy: 0.82 - ETA: 0s - loss: 0.5869 - accuracy: 0.82 - ETA: 0s - loss: 0.5875 - accuracy: 0.82 - ETA: 0s - loss: 0.5880 - accuracy: 0.82 - ETA: 0s - loss: 0.5861 - accuracy: 0.82 - ETA: 0s - loss: 0.5865 - accuracy: 0.82 - ETA: 0s - loss: 0.5850 - accuracy: 0.82 - ETA: 0s - loss: 0.5856 - accuracy: 0.82 - ETA: 0s - loss: 0.5856 - accuracy: 0.82 - ETA: 0s - loss: 0.5842 - accuracy: 0.82 - ETA: 0s - loss: 0.5841 - accuracy: 0.82 - ETA: 0s - loss: 0.5837 - accuracy: 0.82 - ETA: 0s - loss: 0.5829 - accuracy: 0.82 - ETA: 0s - loss: 0.5816 - accuracy: 0.82 - ETA: 0s - loss: 0.5811 - accuracy: 0.82 - ETA: 0s - loss: 0.5816 - accuracy: 0.82 - ETA: 0s - loss: 0.5818 - accuracy: 0.82 - ETA: 0s - loss: 0.5811 - accuracy: 0.82 - ETA: 0s - loss: 0.5807 - accuracy: 0.82 - 3s 2ms/step - loss: 0.5789 - accuracy: 0.8266 - val_loss: 0.5369 - val_accuracy: 0.8400\n",
      "Epoch 4/20\n",
      "1875/1875 [==============================] - ETA: 0s - loss: 0.2255 - accuracy: 0.96 - ETA: 1s - loss: 0.5242 - accuracy: 0.83 - ETA: 2s - loss: 0.5510 - accuracy: 0.83 - ETA: 1s - loss: 0.5393 - accuracy: 0.84 - ETA: 1s - loss: 0.5304 - accuracy: 0.84 - ETA: 1s - loss: 0.5254 - accuracy: 0.84 - ETA: 1s - loss: 0.5261 - accuracy: 0.84 - ETA: 1s - loss: 0.5291 - accuracy: 0.84 - ETA: 1s - loss: 0.5303 - accuracy: 0.84 - ETA: 1s - loss: 0.5363 - accuracy: 0.83 - ETA: 1s - loss: 0.5329 - accuracy: 0.84 - ETA: 1s - loss: 0.5369 - accuracy: 0.83 - ETA: 1s - loss: 0.5364 - accuracy: 0.83 - ETA: 1s - loss: 0.5406 - accuracy: 0.83 - ETA: 1s - loss: 0.5395 - accuracy: 0.83 - ETA: 1s - loss: 0.5360 - accuracy: 0.83 - ETA: 1s - loss: 0.5341 - accuracy: 0.83 - ETA: 1s - loss: 0.5331 - accuracy: 0.84 - ETA: 1s - loss: 0.5331 - accuracy: 0.83 - ETA: 1s - loss: 0.5349 - accuracy: 0.83 - ETA: 1s - loss: 0.5369 - accuracy: 0.83 - ETA: 1s - loss: 0.5363 - accuracy: 0.83 - ETA: 0s - loss: 0.5351 - accuracy: 0.83 - ETA: 0s - loss: 0.5347 - accuracy: 0.83 - ETA: 0s - loss: 0.5348 - accuracy: 0.83 - ETA: 0s - loss: 0.5346 - accuracy: 0.83 - ETA: 0s - loss: 0.5347 - accuracy: 0.83 - ETA: 0s - loss: 0.5342 - accuracy: 0.84 - ETA: 0s - loss: 0.5348 - accuracy: 0.83 - ETA: 0s - loss: 0.5347 - accuracy: 0.83 - ETA: 0s - loss: 0.5341 - accuracy: 0.84 - ETA: 0s - loss: 0.5343 - accuracy: 0.84 - ETA: 0s - loss: 0.5340 - accuracy: 0.84 - ETA: 0s - loss: 0.5335 - accuracy: 0.84 - ETA: 0s - loss: 0.5329 - accuracy: 0.84 - ETA: 0s - loss: 0.5328 - accuracy: 0.84 - ETA: 0s - loss: 0.5329 - accuracy: 0.84 - ETA: 0s - loss: 0.5332 - accuracy: 0.84 - ETA: 0s - loss: 0.5325 - accuracy: 0.84 - ETA: 0s - loss: 0.5314 - accuracy: 0.84 - ETA: 0s - loss: 0.5324 - accuracy: 0.84 - ETA: 0s - loss: 0.5322 - accuracy: 0.84 - ETA: 0s - loss: 0.5314 - accuracy: 0.84 - 3s 2ms/step - loss: 0.5312 - accuracy: 0.8419 - val_loss: 0.4974 - val_accuracy: 0.8500\n",
      "Epoch 5/20\n",
      "1875/1875 [==============================] - ETA: 0s - loss: 0.4570 - accuracy: 0.90 - ETA: 1s - loss: 0.4977 - accuracy: 0.85 - ETA: 2s - loss: 0.4964 - accuracy: 0.85 - ETA: 2s - loss: 0.4900 - accuracy: 0.85 - ETA: 1s - loss: 0.4962 - accuracy: 0.85 - ETA: 1s - loss: 0.4904 - accuracy: 0.85 - ETA: 1s - loss: 0.4935 - accuracy: 0.85 - ETA: 1s - loss: 0.4891 - accuracy: 0.85 - ETA: 1s - loss: 0.4894 - accuracy: 0.85 - ETA: 1s - loss: 0.4895 - accuracy: 0.85 - ETA: 1s - loss: 0.4871 - accuracy: 0.85 - ETA: 1s - loss: 0.4910 - accuracy: 0.85 - ETA: 1s - loss: 0.4870 - accuracy: 0.85 - ETA: 1s - loss: 0.4879 - accuracy: 0.85 - ETA: 1s - loss: 0.4892 - accuracy: 0.85 - ETA: 1s - loss: 0.4875 - accuracy: 0.85 - ETA: 1s - loss: 0.4888 - accuracy: 0.85 - ETA: 1s - loss: 0.4885 - accuracy: 0.85 - ETA: 1s - loss: 0.4878 - accuracy: 0.85 - ETA: 1s - loss: 0.4895 - accuracy: 0.85 - ETA: 1s - loss: 0.4913 - accuracy: 0.85 - ETA: 1s - loss: 0.4905 - accuracy: 0.85 - ETA: 1s - loss: 0.4911 - accuracy: 0.85 - ETA: 0s - loss: 0.4928 - accuracy: 0.85 - ETA: 0s - loss: 0.4924 - accuracy: 0.85 - ETA: 0s - loss: 0.4914 - accuracy: 0.85 - ETA: 0s - loss: 0.4909 - accuracy: 0.85 - ETA: 0s - loss: 0.4909 - accuracy: 0.85 - ETA: 0s - loss: 0.4930 - accuracy: 0.85 - ETA: 0s - loss: 0.4919 - accuracy: 0.85 - ETA: 0s - loss: 0.4923 - accuracy: 0.85 - ETA: 0s - loss: 0.4926 - accuracy: 0.85 - ETA: 0s - loss: 0.4927 - accuracy: 0.85 - ETA: 0s - loss: 0.4920 - accuracy: 0.85 - ETA: 0s - loss: 0.4916 - accuracy: 0.85 - ETA: 0s - loss: 0.4917 - accuracy: 0.85 - ETA: 0s - loss: 0.4922 - accuracy: 0.85 - ETA: 0s - loss: 0.4924 - accuracy: 0.85 - ETA: 0s - loss: 0.4917 - accuracy: 0.85 - ETA: 0s - loss: 0.4911 - accuracy: 0.85 - ETA: 0s - loss: 0.4916 - accuracy: 0.85 - ETA: 0s - loss: 0.4924 - accuracy: 0.85 - ETA: 0s - loss: 0.4928 - accuracy: 0.85 - 3s 2ms/step - loss: 0.4926 - accuracy: 0.8530 - val_loss: 0.4877 - val_accuracy: 0.8544\n",
      "Epoch 6/20\n",
      "1875/1875 [==============================] - ETA: 0s - loss: 0.5565 - accuracy: 0.81 - ETA: 1s - loss: 0.4796 - accuracy: 0.85 - ETA: 1s - loss: 0.4699 - accuracy: 0.86 - ETA: 1s - loss: 0.4725 - accuracy: 0.86 - ETA: 1s - loss: 0.4608 - accuracy: 0.86 - ETA: 1s - loss: 0.4579 - accuracy: 0.86 - ETA: 1s - loss: 0.4512 - accuracy: 0.86 - ETA: 1s - loss: 0.4450 - accuracy: 0.86 - ETA: 1s - loss: 0.4428 - accuracy: 0.86 - ETA: 1s - loss: 0.4466 - accuracy: 0.86 - ETA: 1s - loss: 0.4459 - accuracy: 0.86 - ETA: 1s - loss: 0.4453 - accuracy: 0.86 - ETA: 1s - loss: 0.4484 - accuracy: 0.86 - ETA: 1s - loss: 0.4464 - accuracy: 0.86 - ETA: 1s - loss: 0.4464 - accuracy: 0.86 - ETA: 1s - loss: 0.4507 - accuracy: 0.86 - ETA: 1s - loss: 0.4504 - accuracy: 0.86 - ETA: 1s - loss: 0.4518 - accuracy: 0.86 - ETA: 1s - loss: 0.4500 - accuracy: 0.86 - ETA: 1s - loss: 0.4510 - accuracy: 0.86 - ETA: 1s - loss: 0.4517 - accuracy: 0.86 - ETA: 1s - loss: 0.4528 - accuracy: 0.86 - ETA: 1s - loss: 0.4544 - accuracy: 0.86 - ETA: 1s - loss: 0.4552 - accuracy: 0.86 - ETA: 1s - loss: 0.4553 - accuracy: 0.86 - ETA: 1s - loss: 0.4562 - accuracy: 0.86 - ETA: 1s - loss: 0.4578 - accuracy: 0.86 - ETA: 1s - loss: 0.4585 - accuracy: 0.86 - ETA: 0s - loss: 0.4577 - accuracy: 0.86 - ETA: 0s - loss: 0.4594 - accuracy: 0.86 - ETA: 0s - loss: 0.4576 - accuracy: 0.86 - ETA: 0s - loss: 0.4597 - accuracy: 0.86 - ETA: 0s - loss: 0.4595 - accuracy: 0.86 - ETA: 0s - loss: 0.4604 - accuracy: 0.86 - ETA: 0s - loss: 0.4604 - accuracy: 0.86 - ETA: 0s - loss: 0.4619 - accuracy: 0.86 - ETA: 0s - loss: 0.4606 - accuracy: 0.86 - ETA: 0s - loss: 0.4615 - accuracy: 0.86 - ETA: 0s - loss: 0.4595 - accuracy: 0.86 - ETA: 0s - loss: 0.4600 - accuracy: 0.86 - ETA: 0s - loss: 0.4604 - accuracy: 0.86 - ETA: 0s - loss: 0.4620 - accuracy: 0.86 - ETA: 0s - loss: 0.4636 - accuracy: 0.86 - ETA: 0s - loss: 0.4631 - accuracy: 0.86 - ETA: 0s - loss: 0.4629 - accuracy: 0.86 - ETA: 0s - loss: 0.4625 - accuracy: 0.86 - 3s 2ms/step - loss: 0.4623 - accuracy: 0.8626 - val_loss: 0.4882 - val_accuracy: 0.8575\n",
      "Epoch 7/20\n",
      "1875/1875 [==============================] - ETA: 0s - loss: 0.9318 - accuracy: 0.78 - ETA: 1s - loss: 0.3994 - accuracy: 0.88 - ETA: 2s - loss: 0.3957 - accuracy: 0.88 - ETA: 2s - loss: 0.4189 - accuracy: 0.88 - ETA: 2s - loss: 0.4153 - accuracy: 0.88 - ETA: 2s - loss: 0.4191 - accuracy: 0.87 - ETA: 1s - loss: 0.4216 - accuracy: 0.87 - ETA: 1s - loss: 0.4216 - accuracy: 0.87 - ETA: 1s - loss: 0.4213 - accuracy: 0.87 - ETA: 1s - loss: 0.4229 - accuracy: 0.87 - ETA: 1s - loss: 0.4199 - accuracy: 0.87 - ETA: 1s - loss: 0.4192 - accuracy: 0.87 - ETA: 1s - loss: 0.4184 - accuracy: 0.87 - ETA: 1s - loss: 0.4209 - accuracy: 0.87 - ETA: 1s - loss: 0.4219 - accuracy: 0.87 - ETA: 1s - loss: 0.4231 - accuracy: 0.87 - ETA: 1s - loss: 0.4213 - accuracy: 0.87 - ETA: 1s - loss: 0.4221 - accuracy: 0.87 - ETA: 1s - loss: 0.4238 - accuracy: 0.87 - ETA: 1s - loss: 0.4247 - accuracy: 0.87 - ETA: 1s - loss: 0.4241 - accuracy: 0.87 - ETA: 1s - loss: 0.4230 - accuracy: 0.87 - ETA: 1s - loss: 0.4236 - accuracy: 0.87 - ETA: 1s - loss: 0.4250 - accuracy: 0.87 - ETA: 0s - loss: 0.4259 - accuracy: 0.87 - ETA: 0s - loss: 0.4290 - accuracy: 0.87 - ETA: 0s - loss: 0.4311 - accuracy: 0.87 - ETA: 0s - loss: 0.4311 - accuracy: 0.87 - ETA: 0s - loss: 0.4321 - accuracy: 0.87 - ETA: 0s - loss: 0.4323 - accuracy: 0.87 - ETA: 0s - loss: 0.4331 - accuracy: 0.87 - ETA: 0s - loss: 0.4339 - accuracy: 0.87 - ETA: 0s - loss: 0.4355 - accuracy: 0.87 - ETA: 0s - loss: 0.4349 - accuracy: 0.87 - ETA: 0s - loss: 0.4349 - accuracy: 0.87 - ETA: 0s - loss: 0.4346 - accuracy: 0.87 - ETA: 0s - loss: 0.4350 - accuracy: 0.87 - ETA: 0s - loss: 0.4354 - accuracy: 0.87 - ETA: 0s - loss: 0.4369 - accuracy: 0.86 - ETA: 0s - loss: 0.4373 - accuracy: 0.86 - ETA: 0s - loss: 0.4372 - accuracy: 0.86 - ETA: 0s - loss: 0.4381 - accuracy: 0.86 - ETA: 0s - loss: 0.4383 - accuracy: 0.86 - ETA: 0s - loss: 0.4386 - accuracy: 0.86 - ETA: 0s - loss: 0.4396 - accuracy: 0.86 - 3s 2ms/step - loss: 0.4395 - accuracy: 0.8693 - val_loss: 0.4899 - val_accuracy: 0.8575\n",
      "Epoch 8/20\n",
      "1875/1875 [==============================] - ETA: 0s - loss: 0.2795 - accuracy: 0.93 - ETA: 2s - loss: 0.4463 - accuracy: 0.86 - ETA: 2s - loss: 0.4051 - accuracy: 0.88 - ETA: 2s - loss: 0.4177 - accuracy: 0.87 - ETA: 1s - loss: 0.4023 - accuracy: 0.87 - ETA: 1s - loss: 0.4030 - accuracy: 0.87 - ETA: 1s - loss: 0.3998 - accuracy: 0.88 - ETA: 1s - loss: 0.3977 - accuracy: 0.88 - ETA: 1s - loss: 0.3953 - accuracy: 0.88 - ETA: 1s - loss: 0.3961 - accuracy: 0.88 - ETA: 1s - loss: 0.3925 - accuracy: 0.88 - ETA: 1s - loss: 0.4011 - accuracy: 0.88 - ETA: 1s - loss: 0.3995 - accuracy: 0.88 - ETA: 1s - loss: 0.3972 - accuracy: 0.88 - ETA: 1s - loss: 0.3994 - accuracy: 0.88 - ETA: 1s - loss: 0.4033 - accuracy: 0.87 - ETA: 1s - loss: 0.4091 - accuracy: 0.87 - ETA: 1s - loss: 0.4128 - accuracy: 0.87 - ETA: 1s - loss: 0.4115 - accuracy: 0.87 - ETA: 1s - loss: 0.4108 - accuracy: 0.87 - ETA: 1s - loss: 0.4132 - accuracy: 0.87 - ETA: 1s - loss: 0.4145 - accuracy: 0.87 - ETA: 1s - loss: 0.4144 - accuracy: 0.87 - ETA: 0s - loss: 0.4151 - accuracy: 0.87 - ETA: 0s - loss: 0.4139 - accuracy: 0.87 - ETA: 0s - loss: 0.4142 - accuracy: 0.87 - ETA: 0s - loss: 0.4158 - accuracy: 0.87 - ETA: 0s - loss: 0.4165 - accuracy: 0.87 - ETA: 0s - loss: 0.4181 - accuracy: 0.87 - ETA: 0s - loss: 0.4179 - accuracy: 0.87 - ETA: 0s - loss: 0.4180 - accuracy: 0.87 - ETA: 0s - loss: 0.4193 - accuracy: 0.87 - ETA: 0s - loss: 0.4181 - accuracy: 0.87 - ETA: 0s - loss: 0.4169 - accuracy: 0.87 - ETA: 0s - loss: 0.4173 - accuracy: 0.87 - ETA: 0s - loss: 0.4170 - accuracy: 0.87 - ETA: 0s - loss: 0.4166 - accuracy: 0.87 - ETA: 0s - loss: 0.4169 - accuracy: 0.87 - ETA: 0s - loss: 0.4177 - accuracy: 0.87 - ETA: 0s - loss: 0.4184 - accuracy: 0.87 - ETA: 0s - loss: 0.4184 - accuracy: 0.87 - ETA: 0s - loss: 0.4192 - accuracy: 0.87 - ETA: 0s - loss: 0.4193 - accuracy: 0.87 - 3s 2ms/step - loss: 0.4188 - accuracy: 0.8763 - val_loss: 0.4869 - val_accuracy: 0.8590\n",
      "Epoch 9/20\n"
     ]
    },
    {
     "name": "stdout",
     "output_type": "stream",
     "text": [
      "1875/1875 [==============================] - ETA: 0s - loss: 0.6025 - accuracy: 0.87 - ETA: 2s - loss: 0.3733 - accuracy: 0.89 - ETA: 2s - loss: 0.3749 - accuracy: 0.89 - ETA: 2s - loss: 0.3656 - accuracy: 0.89 - ETA: 2s - loss: 0.3703 - accuracy: 0.89 - ETA: 2s - loss: 0.3743 - accuracy: 0.89 - ETA: 2s - loss: 0.3655 - accuracy: 0.89 - ETA: 2s - loss: 0.3694 - accuracy: 0.89 - ETA: 2s - loss: 0.3745 - accuracy: 0.88 - ETA: 2s - loss: 0.3769 - accuracy: 0.88 - ETA: 1s - loss: 0.3832 - accuracy: 0.88 - ETA: 1s - loss: 0.3832 - accuracy: 0.88 - ETA: 1s - loss: 0.3849 - accuracy: 0.88 - ETA: 1s - loss: 0.3829 - accuracy: 0.88 - ETA: 1s - loss: 0.3828 - accuracy: 0.88 - ETA: 1s - loss: 0.3830 - accuracy: 0.88 - ETA: 1s - loss: 0.3817 - accuracy: 0.88 - ETA: 1s - loss: 0.3823 - accuracy: 0.88 - ETA: 1s - loss: 0.3827 - accuracy: 0.88 - ETA: 1s - loss: 0.3825 - accuracy: 0.88 - ETA: 1s - loss: 0.3821 - accuracy: 0.88 - ETA: 1s - loss: 0.3822 - accuracy: 0.88 - ETA: 1s - loss: 0.3830 - accuracy: 0.88 - ETA: 1s - loss: 0.3850 - accuracy: 0.88 - ETA: 1s - loss: 0.3854 - accuracy: 0.88 - ETA: 1s - loss: 0.3872 - accuracy: 0.88 - ETA: 1s - loss: 0.3864 - accuracy: 0.88 - ETA: 0s - loss: 0.3887 - accuracy: 0.88 - ETA: 0s - loss: 0.3877 - accuracy: 0.88 - ETA: 0s - loss: 0.3876 - accuracy: 0.88 - ETA: 0s - loss: 0.3881 - accuracy: 0.88 - ETA: 0s - loss: 0.3880 - accuracy: 0.88 - ETA: 0s - loss: 0.3895 - accuracy: 0.88 - ETA: 0s - loss: 0.3897 - accuracy: 0.88 - ETA: 0s - loss: 0.3906 - accuracy: 0.88 - ETA: 0s - loss: 0.3907 - accuracy: 0.88 - ETA: 0s - loss: 0.3913 - accuracy: 0.88 - ETA: 0s - loss: 0.3925 - accuracy: 0.88 - ETA: 0s - loss: 0.3934 - accuracy: 0.88 - ETA: 0s - loss: 0.3954 - accuracy: 0.88 - ETA: 0s - loss: 0.3946 - accuracy: 0.88 - ETA: 0s - loss: 0.3959 - accuracy: 0.88 - ETA: 0s - loss: 0.3962 - accuracy: 0.88 - ETA: 0s - loss: 0.3960 - accuracy: 0.88 - ETA: 0s - loss: 0.3965 - accuracy: 0.88 - 3s 2ms/step - loss: 0.3962 - accuracy: 0.8816 - val_loss: 0.4874 - val_accuracy: 0.8604\n",
      "Epoch 10/20\n",
      "1875/1875 [==============================] - ETA: 0s - loss: 0.2758 - accuracy: 0.90 - ETA: 2s - loss: 0.3557 - accuracy: 0.89 - ETA: 1s - loss: 0.3583 - accuracy: 0.89 - ETA: 1s - loss: 0.3603 - accuracy: 0.89 - ETA: 1s - loss: 0.3703 - accuracy: 0.89 - ETA: 1s - loss: 0.3622 - accuracy: 0.89 - ETA: 1s - loss: 0.3690 - accuracy: 0.89 - ETA: 1s - loss: 0.3639 - accuracy: 0.89 - ETA: 1s - loss: 0.3598 - accuracy: 0.89 - ETA: 1s - loss: 0.3596 - accuracy: 0.89 - ETA: 1s - loss: 0.3605 - accuracy: 0.89 - ETA: 1s - loss: 0.3578 - accuracy: 0.89 - ETA: 1s - loss: 0.3626 - accuracy: 0.89 - ETA: 1s - loss: 0.3642 - accuracy: 0.89 - ETA: 1s - loss: 0.3641 - accuracy: 0.89 - ETA: 1s - loss: 0.3651 - accuracy: 0.88 - ETA: 1s - loss: 0.3658 - accuracy: 0.88 - ETA: 1s - loss: 0.3675 - accuracy: 0.88 - ETA: 1s - loss: 0.3696 - accuracy: 0.88 - ETA: 1s - loss: 0.3724 - accuracy: 0.88 - ETA: 1s - loss: 0.3745 - accuracy: 0.88 - ETA: 1s - loss: 0.3746 - accuracy: 0.88 - ETA: 0s - loss: 0.3763 - accuracy: 0.88 - ETA: 0s - loss: 0.3776 - accuracy: 0.88 - ETA: 0s - loss: 0.3764 - accuracy: 0.88 - ETA: 0s - loss: 0.3755 - accuracy: 0.88 - ETA: 0s - loss: 0.3757 - accuracy: 0.88 - ETA: 0s - loss: 0.3763 - accuracy: 0.88 - ETA: 0s - loss: 0.3772 - accuracy: 0.88 - ETA: 0s - loss: 0.3763 - accuracy: 0.88 - ETA: 0s - loss: 0.3765 - accuracy: 0.88 - ETA: 0s - loss: 0.3775 - accuracy: 0.88 - ETA: 0s - loss: 0.3775 - accuracy: 0.88 - ETA: 0s - loss: 0.3763 - accuracy: 0.88 - ETA: 0s - loss: 0.3771 - accuracy: 0.88 - ETA: 0s - loss: 0.3779 - accuracy: 0.88 - ETA: 0s - loss: 0.3768 - accuracy: 0.88 - ETA: 0s - loss: 0.3769 - accuracy: 0.88 - ETA: 0s - loss: 0.3767 - accuracy: 0.88 - ETA: 0s - loss: 0.3774 - accuracy: 0.88 - ETA: 0s - loss: 0.3786 - accuracy: 0.88 - ETA: 0s - loss: 0.3788 - accuracy: 0.88 - ETA: 0s - loss: 0.3797 - accuracy: 0.88 - 3s 2ms/step - loss: 0.3797 - accuracy: 0.8863 - val_loss: 0.4916 - val_accuracy: 0.8599\n",
      "Epoch 11/20\n",
      "1875/1875 [==============================] - ETA: 0s - loss: 0.4377 - accuracy: 0.90 - ETA: 2s - loss: 0.3326 - accuracy: 0.89 - ETA: 3s - loss: 0.3639 - accuracy: 0.89 - ETA: 2s - loss: 0.3399 - accuracy: 0.89 - ETA: 2s - loss: 0.3513 - accuracy: 0.89 - ETA: 2s - loss: 0.3608 - accuracy: 0.89 - ETA: 1s - loss: 0.3596 - accuracy: 0.89 - ETA: 1s - loss: 0.3582 - accuracy: 0.89 - ETA: 1s - loss: 0.3558 - accuracy: 0.89 - ETA: 1s - loss: 0.3571 - accuracy: 0.89 - ETA: 1s - loss: 0.3614 - accuracy: 0.89 - ETA: 1s - loss: 0.3592 - accuracy: 0.89 - ETA: 1s - loss: 0.3600 - accuracy: 0.89 - ETA: 1s - loss: 0.3590 - accuracy: 0.89 - ETA: 1s - loss: 0.3609 - accuracy: 0.89 - ETA: 1s - loss: 0.3619 - accuracy: 0.89 - ETA: 1s - loss: 0.3619 - accuracy: 0.89 - ETA: 1s - loss: 0.3622 - accuracy: 0.89 - ETA: 1s - loss: 0.3659 - accuracy: 0.89 - ETA: 1s - loss: 0.3657 - accuracy: 0.89 - ETA: 1s - loss: 0.3651 - accuracy: 0.89 - ETA: 1s - loss: 0.3645 - accuracy: 0.89 - ETA: 1s - loss: 0.3657 - accuracy: 0.89 - ETA: 0s - loss: 0.3649 - accuracy: 0.89 - ETA: 0s - loss: 0.3650 - accuracy: 0.89 - ETA: 0s - loss: 0.3639 - accuracy: 0.89 - ETA: 0s - loss: 0.3641 - accuracy: 0.89 - ETA: 0s - loss: 0.3654 - accuracy: 0.89 - ETA: 0s - loss: 0.3665 - accuracy: 0.89 - ETA: 0s - loss: 0.3661 - accuracy: 0.89 - ETA: 0s - loss: 0.3654 - accuracy: 0.89 - ETA: 0s - loss: 0.3652 - accuracy: 0.89 - ETA: 0s - loss: 0.3652 - accuracy: 0.89 - ETA: 0s - loss: 0.3640 - accuracy: 0.89 - ETA: 0s - loss: 0.3644 - accuracy: 0.89 - ETA: 0s - loss: 0.3639 - accuracy: 0.89 - ETA: 0s - loss: 0.3653 - accuracy: 0.89 - ETA: 0s - loss: 0.3668 - accuracy: 0.89 - ETA: 0s - loss: 0.3676 - accuracy: 0.89 - ETA: 0s - loss: 0.3678 - accuracy: 0.89 - ETA: 0s - loss: 0.3670 - accuracy: 0.89 - ETA: 0s - loss: 0.3673 - accuracy: 0.89 - ETA: 0s - loss: 0.3678 - accuracy: 0.89 - 3s 2ms/step - loss: 0.3683 - accuracy: 0.8917 - val_loss: 0.4862 - val_accuracy: 0.8609\n",
      "Epoch 12/20\n",
      "1875/1875 [==============================] - ETA: 0s - loss: 0.4531 - accuracy: 0.87 - ETA: 2s - loss: 0.3314 - accuracy: 0.90 - ETA: 2s - loss: 0.3262 - accuracy: 0.90 - ETA: 2s - loss: 0.3531 - accuracy: 0.89 - ETA: 1s - loss: 0.3506 - accuracy: 0.89 - ETA: 1s - loss: 0.3489 - accuracy: 0.89 - ETA: 1s - loss: 0.3510 - accuracy: 0.89 - ETA: 1s - loss: 0.3455 - accuracy: 0.89 - ETA: 1s - loss: 0.3438 - accuracy: 0.89 - ETA: 1s - loss: 0.3476 - accuracy: 0.89 - ETA: 1s - loss: 0.3447 - accuracy: 0.89 - ETA: 1s - loss: 0.3443 - accuracy: 0.89 - ETA: 1s - loss: 0.3451 - accuracy: 0.89 - ETA: 1s - loss: 0.3477 - accuracy: 0.89 - ETA: 1s - loss: 0.3494 - accuracy: 0.89 - ETA: 1s - loss: 0.3447 - accuracy: 0.89 - ETA: 1s - loss: 0.3468 - accuracy: 0.89 - ETA: 1s - loss: 0.3487 - accuracy: 0.89 - ETA: 1s - loss: 0.3497 - accuracy: 0.89 - ETA: 1s - loss: 0.3505 - accuracy: 0.89 - ETA: 1s - loss: 0.3502 - accuracy: 0.89 - ETA: 1s - loss: 0.3491 - accuracy: 0.89 - ETA: 1s - loss: 0.3486 - accuracy: 0.89 - ETA: 1s - loss: 0.3472 - accuracy: 0.89 - ETA: 1s - loss: 0.3460 - accuracy: 0.89 - ETA: 1s - loss: 0.3463 - accuracy: 0.89 - ETA: 1s - loss: 0.3476 - accuracy: 0.89 - ETA: 1s - loss: 0.3468 - accuracy: 0.89 - ETA: 0s - loss: 0.3465 - accuracy: 0.89 - ETA: 0s - loss: 0.3471 - accuracy: 0.89 - ETA: 0s - loss: 0.3471 - accuracy: 0.89 - ETA: 0s - loss: 0.3474 - accuracy: 0.89 - ETA: 0s - loss: 0.3473 - accuracy: 0.89 - ETA: 0s - loss: 0.3476 - accuracy: 0.89 - ETA: 0s - loss: 0.3480 - accuracy: 0.89 - ETA: 0s - loss: 0.3484 - accuracy: 0.89 - ETA: 0s - loss: 0.3491 - accuracy: 0.89 - ETA: 0s - loss: 0.3494 - accuracy: 0.89 - ETA: 0s - loss: 0.3498 - accuracy: 0.89 - ETA: 0s - loss: 0.3506 - accuracy: 0.89 - ETA: 0s - loss: 0.3517 - accuracy: 0.89 - ETA: 0s - loss: 0.3512 - accuracy: 0.89 - ETA: 0s - loss: 0.3528 - accuracy: 0.89 - ETA: 0s - loss: 0.3536 - accuracy: 0.89 - ETA: 0s - loss: 0.3528 - accuracy: 0.89 - ETA: 0s - loss: 0.3533 - accuracy: 0.89 - ETA: 0s - loss: 0.3530 - accuracy: 0.89 - 3s 2ms/step - loss: 0.3531 - accuracy: 0.8953 - val_loss: 0.5120 - val_accuracy: 0.8596\n",
      "Epoch 13/20\n",
      "1875/1875 [==============================] - ETA: 0s - loss: 0.1539 - accuracy: 0.96 - ETA: 1s - loss: 0.3152 - accuracy: 0.90 - ETA: 1s - loss: 0.3068 - accuracy: 0.90 - ETA: 1s - loss: 0.3099 - accuracy: 0.90 - ETA: 1s - loss: 0.3209 - accuracy: 0.90 - ETA: 1s - loss: 0.3270 - accuracy: 0.90 - ETA: 1s - loss: 0.3220 - accuracy: 0.90 - ETA: 1s - loss: 0.3204 - accuracy: 0.90 - ETA: 1s - loss: 0.3187 - accuracy: 0.90 - ETA: 1s - loss: 0.3178 - accuracy: 0.90 - ETA: 1s - loss: 0.3186 - accuracy: 0.90 - ETA: 1s - loss: 0.3194 - accuracy: 0.90 - ETA: 1s - loss: 0.3207 - accuracy: 0.90 - ETA: 1s - loss: 0.3228 - accuracy: 0.90 - ETA: 1s - loss: 0.3255 - accuracy: 0.90 - ETA: 1s - loss: 0.3250 - accuracy: 0.90 - ETA: 1s - loss: 0.3253 - accuracy: 0.90 - ETA: 1s - loss: 0.3271 - accuracy: 0.90 - ETA: 1s - loss: 0.3274 - accuracy: 0.90 - ETA: 1s - loss: 0.3300 - accuracy: 0.90 - ETA: 1s - loss: 0.3313 - accuracy: 0.90 - ETA: 0s - loss: 0.3351 - accuracy: 0.89 - ETA: 0s - loss: 0.3347 - accuracy: 0.89 - ETA: 0s - loss: 0.3352 - accuracy: 0.89 - ETA: 0s - loss: 0.3372 - accuracy: 0.89 - ETA: 0s - loss: 0.3378 - accuracy: 0.89 - ETA: 0s - loss: 0.3375 - accuracy: 0.89 - ETA: 0s - loss: 0.3368 - accuracy: 0.89 - ETA: 0s - loss: 0.3371 - accuracy: 0.89 - ETA: 0s - loss: 0.3371 - accuracy: 0.89 - ETA: 0s - loss: 0.3356 - accuracy: 0.89 - ETA: 0s - loss: 0.3364 - accuracy: 0.89 - ETA: 0s - loss: 0.3374 - accuracy: 0.89 - ETA: 0s - loss: 0.3383 - accuracy: 0.89 - ETA: 0s - loss: 0.3379 - accuracy: 0.89 - ETA: 0s - loss: 0.3382 - accuracy: 0.89 - ETA: 0s - loss: 0.3378 - accuracy: 0.89 - ETA: 0s - loss: 0.3390 - accuracy: 0.89 - ETA: 0s - loss: 0.3388 - accuracy: 0.89 - ETA: 0s - loss: 0.3399 - accuracy: 0.89 - ETA: 0s - loss: 0.3396 - accuracy: 0.89 - 3s 2ms/step - loss: 0.3398 - accuracy: 0.8985 - val_loss: 0.5105 - val_accuracy: 0.8594\n",
      "Epoch 14/20\n",
      "1875/1875 [==============================] - ETA: 0s - loss: 0.3398 - accuracy: 0.90 - ETA: 2s - loss: 0.3268 - accuracy: 0.89 - ETA: 2s - loss: 0.3308 - accuracy: 0.89 - ETA: 2s - loss: 0.3333 - accuracy: 0.89 - ETA: 2s - loss: 0.3230 - accuracy: 0.90 - ETA: 2s - loss: 0.3204 - accuracy: 0.90 - ETA: 1s - loss: 0.3183 - accuracy: 0.90 - ETA: 1s - loss: 0.3237 - accuracy: 0.90 - ETA: 1s - loss: 0.3165 - accuracy: 0.90 - ETA: 1s - loss: 0.3160 - accuracy: 0.90 - ETA: 1s - loss: 0.3168 - accuracy: 0.90 - ETA: 1s - loss: 0.3163 - accuracy: 0.90 - ETA: 1s - loss: 0.3158 - accuracy: 0.90 - ETA: 1s - loss: 0.3165 - accuracy: 0.90 - ETA: 1s - loss: 0.3206 - accuracy: 0.90 - ETA: 1s - loss: 0.3220 - accuracy: 0.90 - ETA: 1s - loss: 0.3232 - accuracy: 0.90 - ETA: 1s - loss: 0.3230 - accuracy: 0.90 - ETA: 1s - loss: 0.3228 - accuracy: 0.90 - ETA: 1s - loss: 0.3223 - accuracy: 0.90 - ETA: 1s - loss: 0.3219 - accuracy: 0.90 - ETA: 1s - loss: 0.3223 - accuracy: 0.90 - ETA: 0s - loss: 0.3237 - accuracy: 0.90 - ETA: 0s - loss: 0.3251 - accuracy: 0.90 - ETA: 0s - loss: 0.3249 - accuracy: 0.90 - ETA: 0s - loss: 0.3247 - accuracy: 0.90 - ETA: 0s - loss: 0.3263 - accuracy: 0.90 - ETA: 0s - loss: 0.3268 - accuracy: 0.90 - ETA: 0s - loss: 0.3286 - accuracy: 0.90 - ETA: 0s - loss: 0.3296 - accuracy: 0.90 - ETA: 0s - loss: 0.3297 - accuracy: 0.90 - ETA: 0s - loss: 0.3304 - accuracy: 0.90 - ETA: 0s - loss: 0.3299 - accuracy: 0.90 - ETA: 0s - loss: 0.3310 - accuracy: 0.90 - ETA: 0s - loss: 0.3320 - accuracy: 0.90 - ETA: 0s - loss: 0.3315 - accuracy: 0.90 - ETA: 0s - loss: 0.3323 - accuracy: 0.90 - ETA: 0s - loss: 0.3322 - accuracy: 0.90 - ETA: 0s - loss: 0.3322 - accuracy: 0.90 - ETA: 0s - loss: 0.3313 - accuracy: 0.90 - ETA: 0s - loss: 0.3314 - accuracy: 0.90 - ETA: 0s - loss: 0.3320 - accuracy: 0.90 - ETA: 0s - loss: 0.3326 - accuracy: 0.90 - 3s 2ms/step - loss: 0.3326 - accuracy: 0.9014 - val_loss: 0.5111 - val_accuracy: 0.8599\n",
      "Epoch 15/20\n",
      "1875/1875 [==============================] - ETA: 0s - loss: 0.3583 - accuracy: 0.90 - ETA: 2s - loss: 0.2740 - accuracy: 0.91 - ETA: 2s - loss: 0.2841 - accuracy: 0.91 - ETA: 2s - loss: 0.2984 - accuracy: 0.91 - ETA: 2s - loss: 0.3103 - accuracy: 0.90 - ETA: 2s - loss: 0.3157 - accuracy: 0.90 - ETA: 2s - loss: 0.3126 - accuracy: 0.90 - ETA: 2s - loss: 0.3136 - accuracy: 0.90 - ETA: 2s - loss: 0.3134 - accuracy: 0.90 - ETA: 2s - loss: 0.3189 - accuracy: 0.90 - ETA: 1s - loss: 0.3169 - accuracy: 0.90 - ETA: 1s - loss: 0.3170 - accuracy: 0.90 - ETA: 1s - loss: 0.3214 - accuracy: 0.90 - ETA: 1s - loss: 0.3207 - accuracy: 0.90 - ETA: 1s - loss: 0.3231 - accuracy: 0.90 - ETA: 1s - loss: 0.3201 - accuracy: 0.90 - ETA: 1s - loss: 0.3187 - accuracy: 0.90 - ETA: 1s - loss: 0.3197 - accuracy: 0.90 - ETA: 1s - loss: 0.3173 - accuracy: 0.90 - ETA: 1s - loss: 0.3182 - accuracy: 0.90 - ETA: 1s - loss: 0.3180 - accuracy: 0.90 - ETA: 1s - loss: 0.3168 - accuracy: 0.90 - ETA: 1s - loss: 0.3186 - accuracy: 0.90 - ETA: 1s - loss: 0.3191 - accuracy: 0.90 - ETA: 1s - loss: 0.3177 - accuracy: 0.90 - ETA: 1s - loss: 0.3167 - accuracy: 0.90 - ETA: 0s - loss: 0.3172 - accuracy: 0.90 - ETA: 0s - loss: 0.3180 - accuracy: 0.90 - ETA: 0s - loss: 0.3173 - accuracy: 0.90 - ETA: 0s - loss: 0.3167 - accuracy: 0.90 - ETA: 0s - loss: 0.3186 - accuracy: 0.90 - ETA: 0s - loss: 0.3182 - accuracy: 0.90 - ETA: 0s - loss: 0.3185 - accuracy: 0.90 - ETA: 0s - loss: 0.3189 - accuracy: 0.90 - ETA: 0s - loss: 0.3198 - accuracy: 0.90 - ETA: 0s - loss: 0.3209 - accuracy: 0.90 - ETA: 0s - loss: 0.3214 - accuracy: 0.90 - ETA: 0s - loss: 0.3219 - accuracy: 0.90 - ETA: 0s - loss: 0.3217 - accuracy: 0.90 - ETA: 0s - loss: 0.3236 - accuracy: 0.90 - ETA: 0s - loss: 0.3220 - accuracy: 0.90 - ETA: 0s - loss: 0.3224 - accuracy: 0.90 - ETA: 0s - loss: 0.3230 - accuracy: 0.90 - ETA: 0s - loss: 0.3238 - accuracy: 0.90 - 3s 2ms/step - loss: 0.3237 - accuracy: 0.9044 - val_loss: 0.5221 - val_accuracy: 0.8572\n",
      "Epoch 16/20\n",
      "1875/1875 [==============================] - ETA: 0s - loss: 0.5889 - accuracy: 0.78 - ETA: 2s - loss: 0.2832 - accuracy: 0.91 - ETA: 1s - loss: 0.3044 - accuracy: 0.91 - ETA: 2s - loss: 0.3084 - accuracy: 0.90 - ETA: 1s - loss: 0.3050 - accuracy: 0.91 - ETA: 1s - loss: 0.2965 - accuracy: 0.91 - ETA: 1s - loss: 0.2977 - accuracy: 0.91 - ETA: 1s - loss: 0.2995 - accuracy: 0.91 - ETA: 1s - loss: 0.2965 - accuracy: 0.91 - ETA: 1s - loss: 0.2962 - accuracy: 0.91 - ETA: 1s - loss: 0.2974 - accuracy: 0.91 - ETA: 1s - loss: 0.2996 - accuracy: 0.91 - ETA: 1s - loss: 0.3002 - accuracy: 0.91 - ETA: 1s - loss: 0.3023 - accuracy: 0.91 - ETA: 1s - loss: 0.3022 - accuracy: 0.91 - ETA: 1s - loss: 0.3054 - accuracy: 0.91 - ETA: 1s - loss: 0.3069 - accuracy: 0.91 - ETA: 1s - loss: 0.3062 - accuracy: 0.91 - ETA: 1s - loss: 0.3074 - accuracy: 0.91 - ETA: 1s - loss: 0.3086 - accuracy: 0.91 - ETA: 1s - loss: 0.3087 - accuracy: 0.91 - ETA: 1s - loss: 0.3076 - accuracy: 0.91 - ETA: 0s - loss: 0.3064 - accuracy: 0.91 - ETA: 0s - loss: 0.3060 - accuracy: 0.91 - ETA: 0s - loss: 0.3082 - accuracy: 0.91 - ETA: 0s - loss: 0.3101 - accuracy: 0.90 - ETA: 0s - loss: 0.3094 - accuracy: 0.90 - ETA: 0s - loss: 0.3091 - accuracy: 0.90 - ETA: 0s - loss: 0.3092 - accuracy: 0.90 - ETA: 0s - loss: 0.3096 - accuracy: 0.90 - ETA: 0s - loss: 0.3113 - accuracy: 0.90 - ETA: 0s - loss: 0.3131 - accuracy: 0.90 - ETA: 0s - loss: 0.3128 - accuracy: 0.90 - ETA: 0s - loss: 0.3130 - accuracy: 0.90 - ETA: 0s - loss: 0.3128 - accuracy: 0.90 - ETA: 0s - loss: 0.3124 - accuracy: 0.90 - ETA: 0s - loss: 0.3128 - accuracy: 0.90 - ETA: 0s - loss: 0.3137 - accuracy: 0.90 - ETA: 0s - loss: 0.3135 - accuracy: 0.90 - ETA: 0s - loss: 0.3135 - accuracy: 0.90 - ETA: 0s - loss: 0.3131 - accuracy: 0.90 - ETA: 0s - loss: 0.3127 - accuracy: 0.90 - ETA: 0s - loss: 0.3128 - accuracy: 0.90 - ETA: 0s - loss: 0.3125 - accuracy: 0.90 - 3s 2ms/step - loss: 0.3124 - accuracy: 0.9076 - val_loss: 0.5168 - val_accuracy: 0.8617\n",
      "Epoch 17/20\n"
     ]
    },
    {
     "name": "stdout",
     "output_type": "stream",
     "text": [
      "1875/1875 [==============================] - ETA: 0s - loss: 0.2806 - accuracy: 0.87 - ETA: 2s - loss: 0.2644 - accuracy: 0.91 - ETA: 2s - loss: 0.2665 - accuracy: 0.91 - ETA: 1s - loss: 0.2718 - accuracy: 0.91 - ETA: 1s - loss: 0.2864 - accuracy: 0.91 - ETA: 1s - loss: 0.2953 - accuracy: 0.91 - ETA: 1s - loss: 0.2892 - accuracy: 0.91 - ETA: 1s - loss: 0.2900 - accuracy: 0.91 - ETA: 1s - loss: 0.2896 - accuracy: 0.91 - ETA: 1s - loss: 0.2886 - accuracy: 0.91 - ETA: 1s - loss: 0.2869 - accuracy: 0.91 - ETA: 1s - loss: 0.2927 - accuracy: 0.91 - ETA: 1s - loss: 0.2916 - accuracy: 0.91 - ETA: 1s - loss: 0.2915 - accuracy: 0.91 - ETA: 1s - loss: 0.2933 - accuracy: 0.91 - ETA: 1s - loss: 0.2955 - accuracy: 0.91 - ETA: 1s - loss: 0.2956 - accuracy: 0.91 - ETA: 1s - loss: 0.2952 - accuracy: 0.91 - ETA: 1s - loss: 0.2960 - accuracy: 0.91 - ETA: 1s - loss: 0.2987 - accuracy: 0.91 - ETA: 1s - loss: 0.2971 - accuracy: 0.91 - ETA: 1s - loss: 0.2979 - accuracy: 0.91 - ETA: 1s - loss: 0.2991 - accuracy: 0.91 - ETA: 0s - loss: 0.2988 - accuracy: 0.91 - ETA: 0s - loss: 0.2992 - accuracy: 0.91 - ETA: 0s - loss: 0.3010 - accuracy: 0.91 - ETA: 0s - loss: 0.3006 - accuracy: 0.91 - ETA: 0s - loss: 0.3013 - accuracy: 0.91 - ETA: 0s - loss: 0.3024 - accuracy: 0.91 - ETA: 0s - loss: 0.3022 - accuracy: 0.91 - ETA: 0s - loss: 0.3016 - accuracy: 0.91 - ETA: 0s - loss: 0.3008 - accuracy: 0.91 - ETA: 0s - loss: 0.3015 - accuracy: 0.91 - ETA: 0s - loss: 0.3019 - accuracy: 0.91 - ETA: 0s - loss: 0.3015 - accuracy: 0.91 - ETA: 0s - loss: 0.3023 - accuracy: 0.91 - ETA: 0s - loss: 0.3024 - accuracy: 0.90 - ETA: 0s - loss: 0.3024 - accuracy: 0.90 - ETA: 0s - loss: 0.3036 - accuracy: 0.90 - ETA: 0s - loss: 0.3038 - accuracy: 0.90 - ETA: 0s - loss: 0.3044 - accuracy: 0.90 - ETA: 0s - loss: 0.3054 - accuracy: 0.90 - ETA: 0s - loss: 0.3064 - accuracy: 0.90 - 3s 2ms/step - loss: 0.3060 - accuracy: 0.9094 - val_loss: 0.5251 - val_accuracy: 0.8620\n",
      "Epoch 18/20\n",
      "1875/1875 [==============================] - ETA: 0s - loss: 0.2774 - accuracy: 0.90 - ETA: 1s - loss: 0.3049 - accuracy: 0.91 - ETA: 1s - loss: 0.2928 - accuracy: 0.91 - ETA: 1s - loss: 0.2908 - accuracy: 0.91 - ETA: 1s - loss: 0.2929 - accuracy: 0.91 - ETA: 1s - loss: 0.2805 - accuracy: 0.91 - ETA: 1s - loss: 0.2858 - accuracy: 0.91 - ETA: 1s - loss: 0.2857 - accuracy: 0.91 - ETA: 1s - loss: 0.2824 - accuracy: 0.91 - ETA: 1s - loss: 0.2810 - accuracy: 0.91 - ETA: 1s - loss: 0.2842 - accuracy: 0.91 - ETA: 1s - loss: 0.2844 - accuracy: 0.91 - ETA: 1s - loss: 0.2866 - accuracy: 0.91 - ETA: 1s - loss: 0.2893 - accuracy: 0.91 - ETA: 1s - loss: 0.2879 - accuracy: 0.91 - ETA: 1s - loss: 0.2881 - accuracy: 0.91 - ETA: 1s - loss: 0.2885 - accuracy: 0.91 - ETA: 1s - loss: 0.2912 - accuracy: 0.91 - ETA: 1s - loss: 0.2904 - accuracy: 0.91 - ETA: 1s - loss: 0.2884 - accuracy: 0.91 - ETA: 1s - loss: 0.2906 - accuracy: 0.91 - ETA: 1s - loss: 0.2917 - accuracy: 0.91 - ETA: 1s - loss: 0.2922 - accuracy: 0.91 - ETA: 0s - loss: 0.2920 - accuracy: 0.91 - ETA: 0s - loss: 0.2945 - accuracy: 0.91 - ETA: 0s - loss: 0.2947 - accuracy: 0.91 - ETA: 0s - loss: 0.2953 - accuracy: 0.91 - ETA: 0s - loss: 0.2958 - accuracy: 0.91 - ETA: 0s - loss: 0.2960 - accuracy: 0.91 - ETA: 0s - loss: 0.2943 - accuracy: 0.91 - ETA: 0s - loss: 0.2939 - accuracy: 0.91 - ETA: 0s - loss: 0.2939 - accuracy: 0.91 - ETA: 0s - loss: 0.2942 - accuracy: 0.91 - ETA: 0s - loss: 0.2932 - accuracy: 0.91 - ETA: 0s - loss: 0.2935 - accuracy: 0.91 - ETA: 0s - loss: 0.2942 - accuracy: 0.91 - ETA: 0s - loss: 0.2940 - accuracy: 0.91 - ETA: 0s - loss: 0.2951 - accuracy: 0.91 - ETA: 0s - loss: 0.2953 - accuracy: 0.91 - ETA: 0s - loss: 0.2967 - accuracy: 0.91 - ETA: 0s - loss: 0.2972 - accuracy: 0.91 - ETA: 0s - loss: 0.2972 - accuracy: 0.91 - 3s 2ms/step - loss: 0.2975 - accuracy: 0.9120 - val_loss: 0.5303 - val_accuracy: 0.8599\n",
      "Epoch 19/20\n",
      "1875/1875 [==============================] - ETA: 0s - loss: 0.3015 - accuracy: 0.87 - ETA: 2s - loss: 0.2652 - accuracy: 0.92 - ETA: 2s - loss: 0.3061 - accuracy: 0.90 - ETA: 2s - loss: 0.3028 - accuracy: 0.90 - ETA: 2s - loss: 0.2937 - accuracy: 0.91 - ETA: 2s - loss: 0.2924 - accuracy: 0.91 - ETA: 2s - loss: 0.2904 - accuracy: 0.91 - ETA: 2s - loss: 0.2828 - accuracy: 0.91 - ETA: 2s - loss: 0.2854 - accuracy: 0.91 - ETA: 2s - loss: 0.2826 - accuracy: 0.91 - ETA: 2s - loss: 0.2809 - accuracy: 0.91 - ETA: 1s - loss: 0.2804 - accuracy: 0.91 - ETA: 1s - loss: 0.2775 - accuracy: 0.91 - ETA: 1s - loss: 0.2800 - accuracy: 0.91 - ETA: 1s - loss: 0.2805 - accuracy: 0.91 - ETA: 1s - loss: 0.2820 - accuracy: 0.91 - ETA: 1s - loss: 0.2808 - accuracy: 0.91 - ETA: 1s - loss: 0.2822 - accuracy: 0.91 - ETA: 1s - loss: 0.2812 - accuracy: 0.91 - ETA: 1s - loss: 0.2826 - accuracy: 0.91 - ETA: 1s - loss: 0.2827 - accuracy: 0.91 - ETA: 1s - loss: 0.2821 - accuracy: 0.91 - ETA: 1s - loss: 0.2832 - accuracy: 0.91 - ETA: 1s - loss: 0.2837 - accuracy: 0.91 - ETA: 1s - loss: 0.2853 - accuracy: 0.91 - ETA: 1s - loss: 0.2856 - accuracy: 0.91 - ETA: 1s - loss: 0.2850 - accuracy: 0.91 - ETA: 1s - loss: 0.2863 - accuracy: 0.91 - ETA: 1s - loss: 0.2855 - accuracy: 0.91 - ETA: 1s - loss: 0.2854 - accuracy: 0.91 - ETA: 1s - loss: 0.2854 - accuracy: 0.91 - ETA: 0s - loss: 0.2859 - accuracy: 0.91 - ETA: 0s - loss: 0.2854 - accuracy: 0.91 - ETA: 0s - loss: 0.2868 - accuracy: 0.91 - ETA: 0s - loss: 0.2877 - accuracy: 0.91 - ETA: 0s - loss: 0.2874 - accuracy: 0.91 - ETA: 0s - loss: 0.2873 - accuracy: 0.91 - ETA: 0s - loss: 0.2878 - accuracy: 0.91 - ETA: 0s - loss: 0.2882 - accuracy: 0.91 - ETA: 0s - loss: 0.2884 - accuracy: 0.91 - ETA: 0s - loss: 0.2880 - accuracy: 0.91 - ETA: 0s - loss: 0.2875 - accuracy: 0.91 - ETA: 0s - loss: 0.2874 - accuracy: 0.91 - ETA: 0s - loss: 0.2873 - accuracy: 0.91 - ETA: 0s - loss: 0.2883 - accuracy: 0.91 - ETA: 0s - loss: 0.2892 - accuracy: 0.91 - ETA: 0s - loss: 0.2899 - accuracy: 0.91 - ETA: 0s - loss: 0.2905 - accuracy: 0.91 - ETA: 0s - loss: 0.2908 - accuracy: 0.91 - ETA: 0s - loss: 0.2905 - accuracy: 0.91 - ETA: 0s - loss: 0.2907 - accuracy: 0.91 - ETA: 0s - loss: 0.2906 - accuracy: 0.91 - ETA: 0s - loss: 0.2912 - accuracy: 0.91 - 4s 2ms/step - loss: 0.2919 - accuracy: 0.9141 - val_loss: 0.5606 - val_accuracy: 0.8547\n",
      "Epoch 20/20\n",
      "1875/1875 [==============================] - ETA: 0s - loss: 0.7380 - accuracy: 0.87 - ETA: 3s - loss: 0.3382 - accuracy: 0.91 - ETA: 3s - loss: 0.2821 - accuracy: 0.92 - ETA: 2s - loss: 0.2790 - accuracy: 0.92 - ETA: 2s - loss: 0.2769 - accuracy: 0.92 - ETA: 2s - loss: 0.2748 - accuracy: 0.92 - ETA: 2s - loss: 0.2690 - accuracy: 0.92 - ETA: 2s - loss: 0.2715 - accuracy: 0.92 - ETA: 2s - loss: 0.2739 - accuracy: 0.92 - ETA: 2s - loss: 0.2755 - accuracy: 0.92 - ETA: 2s - loss: 0.2758 - accuracy: 0.92 - ETA: 2s - loss: 0.2796 - accuracy: 0.91 - ETA: 2s - loss: 0.2832 - accuracy: 0.91 - ETA: 2s - loss: 0.2830 - accuracy: 0.91 - ETA: 2s - loss: 0.2809 - accuracy: 0.91 - ETA: 2s - loss: 0.2794 - accuracy: 0.92 - ETA: 2s - loss: 0.2816 - accuracy: 0.91 - ETA: 2s - loss: 0.2828 - accuracy: 0.91 - ETA: 2s - loss: 0.2857 - accuracy: 0.91 - ETA: 2s - loss: 0.2870 - accuracy: 0.91 - ETA: 2s - loss: 0.2869 - accuracy: 0.91 - ETA: 2s - loss: 0.2867 - accuracy: 0.91 - ETA: 2s - loss: 0.2846 - accuracy: 0.91 - ETA: 2s - loss: 0.2832 - accuracy: 0.91 - ETA: 2s - loss: 0.2846 - accuracy: 0.91 - ETA: 1s - loss: 0.2858 - accuracy: 0.91 - ETA: 1s - loss: 0.2870 - accuracy: 0.91 - ETA: 1s - loss: 0.2866 - accuracy: 0.91 - ETA: 1s - loss: 0.2854 - accuracy: 0.91 - ETA: 1s - loss: 0.2856 - accuracy: 0.91 - ETA: 1s - loss: 0.2875 - accuracy: 0.91 - ETA: 1s - loss: 0.2884 - accuracy: 0.91 - ETA: 1s - loss: 0.2872 - accuracy: 0.91 - ETA: 1s - loss: 0.2866 - accuracy: 0.91 - ETA: 1s - loss: 0.2866 - accuracy: 0.91 - ETA: 1s - loss: 0.2870 - accuracy: 0.91 - ETA: 1s - loss: 0.2858 - accuracy: 0.91 - ETA: 1s - loss: 0.2860 - accuracy: 0.91 - ETA: 1s - loss: 0.2864 - accuracy: 0.91 - ETA: 1s - loss: 0.2866 - accuracy: 0.91 - ETA: 1s - loss: 0.2852 - accuracy: 0.91 - ETA: 0s - loss: 0.2857 - accuracy: 0.91 - ETA: 0s - loss: 0.2858 - accuracy: 0.91 - ETA: 0s - loss: 0.2855 - accuracy: 0.91 - ETA: 0s - loss: 0.2853 - accuracy: 0.91 - ETA: 0s - loss: 0.2857 - accuracy: 0.91 - ETA: 0s - loss: 0.2857 - accuracy: 0.91 - ETA: 0s - loss: 0.2859 - accuracy: 0.91 - ETA: 0s - loss: 0.2869 - accuracy: 0.91 - ETA: 0s - loss: 0.2864 - accuracy: 0.91 - ETA: 0s - loss: 0.2856 - accuracy: 0.91 - ETA: 0s - loss: 0.2857 - accuracy: 0.91 - ETA: 0s - loss: 0.2859 - accuracy: 0.91 - ETA: 0s - loss: 0.2858 - accuracy: 0.91 - ETA: 0s - loss: 0.2866 - accuracy: 0.91 - ETA: 0s - loss: 0.2875 - accuracy: 0.91 - ETA: 0s - loss: 0.2873 - accuracy: 0.91 - ETA: 0s - loss: 0.2870 - accuracy: 0.91 - 4s 2ms/step - loss: 0.2869 - accuracy: 0.9160 - val_loss: 0.5466 - val_accuracy: 0.8597\n",
      "Epoch 1/20\n",
      "1875/1875 [==============================] - ETA: 0s - loss: 2.3121 - accuracy: 0.03 - ETA: 2s - loss: 2.1839 - accuracy: 0.20 - ETA: 3s - loss: 2.1035 - accuracy: 0.24 - ETA: 3s - loss: 2.0030 - accuracy: 0.28 - ETA: 3s - loss: 1.9275 - accuracy: 0.31 - ETA: 2s - loss: 1.8293 - accuracy: 0.35 - ETA: 2s - loss: 1.7683 - accuracy: 0.38 - ETA: 2s - loss: 1.7066 - accuracy: 0.40 - ETA: 2s - loss: 1.6439 - accuracy: 0.43 - ETA: 2s - loss: 1.5882 - accuracy: 0.45 - ETA: 2s - loss: 1.5431 - accuracy: 0.47 - ETA: 2s - loss: 1.5120 - accuracy: 0.48 - ETA: 2s - loss: 1.4785 - accuracy: 0.49 - ETA: 2s - loss: 1.4529 - accuracy: 0.50 - ETA: 1s - loss: 1.4190 - accuracy: 0.51 - ETA: 1s - loss: 1.3813 - accuracy: 0.53 - ETA: 1s - loss: 1.3565 - accuracy: 0.54 - ETA: 1s - loss: 1.3450 - accuracy: 0.54 - ETA: 1s - loss: 1.3241 - accuracy: 0.55 - ETA: 1s - loss: 1.3040 - accuracy: 0.56 - ETA: 1s - loss: 1.2867 - accuracy: 0.57 - ETA: 1s - loss: 1.2754 - accuracy: 0.57 - ETA: 1s - loss: 1.2615 - accuracy: 0.58 - ETA: 1s - loss: 1.2441 - accuracy: 0.58 - ETA: 1s - loss: 1.2370 - accuracy: 0.59 - ETA: 1s - loss: 1.2232 - accuracy: 0.59 - ETA: 1s - loss: 1.2137 - accuracy: 0.60 - ETA: 1s - loss: 1.2080 - accuracy: 0.60 - ETA: 1s - loss: 1.2009 - accuracy: 0.60 - ETA: 1s - loss: 1.1947 - accuracy: 0.60 - ETA: 1s - loss: 1.1901 - accuracy: 0.61 - ETA: 1s - loss: 1.1824 - accuracy: 0.61 - ETA: 1s - loss: 1.1677 - accuracy: 0.61 - ETA: 1s - loss: 1.1544 - accuracy: 0.62 - ETA: 1s - loss: 1.1424 - accuracy: 0.62 - ETA: 1s - loss: 1.1324 - accuracy: 0.63 - ETA: 1s - loss: 1.1258 - accuracy: 0.63 - ETA: 0s - loss: 1.1208 - accuracy: 0.63 - ETA: 0s - loss: 1.1139 - accuracy: 0.63 - ETA: 0s - loss: 1.1052 - accuracy: 0.64 - ETA: 0s - loss: 1.0941 - accuracy: 0.64 - ETA: 0s - loss: 1.0867 - accuracy: 0.65 - ETA: 0s - loss: 1.0785 - accuracy: 0.65 - ETA: 0s - loss: 1.0727 - accuracy: 0.65 - ETA: 0s - loss: 1.0657 - accuracy: 0.65 - ETA: 0s - loss: 1.0594 - accuracy: 0.66 - ETA: 0s - loss: 1.0514 - accuracy: 0.66 - ETA: 0s - loss: 1.0445 - accuracy: 0.66 - ETA: 0s - loss: 1.0388 - accuracy: 0.66 - ETA: 0s - loss: 1.0334 - accuracy: 0.67 - ETA: 0s - loss: 1.0264 - accuracy: 0.67 - ETA: 0s - loss: 1.0213 - accuracy: 0.67 - ETA: 0s - loss: 1.0170 - accuracy: 0.67 - ETA: 0s - loss: 1.0127 - accuracy: 0.67 - 4s 2ms/step - loss: 1.0064 - accuracy: 0.6814 - val_loss: 0.6268 - val_accuracy: 0.8099\n",
      "Epoch 2/20\n",
      "1875/1875 [==============================] - ETA: 0s - loss: 0.5083 - accuracy: 0.84 - ETA: 2s - loss: 0.7496 - accuracy: 0.76 - ETA: 2s - loss: 0.7476 - accuracy: 0.77 - ETA: 2s - loss: 0.7436 - accuracy: 0.77 - ETA: 2s - loss: 0.7361 - accuracy: 0.77 - ETA: 2s - loss: 0.7363 - accuracy: 0.77 - ETA: 2s - loss: 0.7217 - accuracy: 0.78 - ETA: 2s - loss: 0.7195 - accuracy: 0.78 - ETA: 2s - loss: 0.7089 - accuracy: 0.78 - ETA: 2s - loss: 0.7098 - accuracy: 0.78 - ETA: 2s - loss: 0.7107 - accuracy: 0.78 - ETA: 2s - loss: 0.7056 - accuracy: 0.78 - ETA: 1s - loss: 0.7066 - accuracy: 0.78 - ETA: 1s - loss: 0.7034 - accuracy: 0.78 - ETA: 1s - loss: 0.7003 - accuracy: 0.78 - ETA: 1s - loss: 0.6992 - accuracy: 0.78 - ETA: 1s - loss: 0.7012 - accuracy: 0.78 - ETA: 1s - loss: 0.7040 - accuracy: 0.78 - ETA: 1s - loss: 0.7009 - accuracy: 0.78 - ETA: 1s - loss: 0.7024 - accuracy: 0.78 - ETA: 1s - loss: 0.7016 - accuracy: 0.78 - ETA: 1s - loss: 0.7023 - accuracy: 0.78 - ETA: 1s - loss: 0.7014 - accuracy: 0.78 - ETA: 1s - loss: 0.6980 - accuracy: 0.79 - ETA: 1s - loss: 0.6967 - accuracy: 0.79 - ETA: 1s - loss: 0.6966 - accuracy: 0.79 - ETA: 1s - loss: 0.6962 - accuracy: 0.79 - ETA: 1s - loss: 0.6928 - accuracy: 0.79 - ETA: 1s - loss: 0.6901 - accuracy: 0.79 - ETA: 1s - loss: 0.6885 - accuracy: 0.79 - ETA: 1s - loss: 0.6888 - accuracy: 0.79 - ETA: 1s - loss: 0.6895 - accuracy: 0.79 - ETA: 1s - loss: 0.6892 - accuracy: 0.79 - ETA: 1s - loss: 0.6872 - accuracy: 0.79 - ETA: 1s - loss: 0.6849 - accuracy: 0.79 - ETA: 0s - loss: 0.6831 - accuracy: 0.79 - ETA: 0s - loss: 0.6823 - accuracy: 0.79 - ETA: 0s - loss: 0.6806 - accuracy: 0.79 - ETA: 0s - loss: 0.6786 - accuracy: 0.79 - ETA: 0s - loss: 0.6781 - accuracy: 0.79 - ETA: 0s - loss: 0.6781 - accuracy: 0.79 - ETA: 0s - loss: 0.6803 - accuracy: 0.79 - ETA: 0s - loss: 0.6788 - accuracy: 0.79 - ETA: 0s - loss: 0.6789 - accuracy: 0.79 - ETA: 0s - loss: 0.6777 - accuracy: 0.79 - ETA: 0s - loss: 0.6765 - accuracy: 0.79 - ETA: 0s - loss: 0.6765 - accuracy: 0.79 - ETA: 0s - loss: 0.6764 - accuracy: 0.79 - ETA: 0s - loss: 0.6749 - accuracy: 0.79 - ETA: 0s - loss: 0.6738 - accuracy: 0.79 - ETA: 0s - loss: 0.6727 - accuracy: 0.79 - ETA: 0s - loss: 0.6730 - accuracy: 0.79 - ETA: 0s - loss: 0.6726 - accuracy: 0.79 - ETA: 0s - loss: 0.6730 - accuracy: 0.79 - ETA: 0s - loss: 0.6718 - accuracy: 0.80 - ETA: 0s - loss: 0.6712 - accuracy: 0.80 - ETA: 0s - loss: 0.6704 - accuracy: 0.80 - ETA: 0s - loss: 0.6687 - accuracy: 0.80 - ETA: 0s - loss: 0.6681 - accuracy: 0.80 - ETA: 0s - loss: 0.6689 - accuracy: 0.80 - ETA: 0s - loss: 0.6686 - accuracy: 0.80 - ETA: 0s - loss: 0.6682 - accuracy: 0.80 - ETA: 0s - loss: 0.6683 - accuracy: 0.80 - ETA: 0s - loss: 0.6675 - accuracy: 0.80 - 4s 2ms/step - loss: 0.6673 - accuracy: 0.8013 - val_loss: 0.5578 - val_accuracy: 0.8328\n",
      "Epoch 3/20\n"
     ]
    },
    {
     "name": "stdout",
     "output_type": "stream",
     "text": [
      "1875/1875 [==============================] - ETA: 0s - loss: 0.6591 - accuracy: 0.87 - ETA: 3s - loss: 0.6318 - accuracy: 0.82 - ETA: 3s - loss: 0.5966 - accuracy: 0.82 - ETA: 2s - loss: 0.5892 - accuracy: 0.82 - ETA: 2s - loss: 0.5924 - accuracy: 0.82 - ETA: 2s - loss: 0.6050 - accuracy: 0.82 - ETA: 2s - loss: 0.6052 - accuracy: 0.82 - ETA: 2s - loss: 0.6029 - accuracy: 0.82 - ETA: 2s - loss: 0.5999 - accuracy: 0.82 - ETA: 2s - loss: 0.5980 - accuracy: 0.82 - ETA: 2s - loss: 0.5977 - accuracy: 0.82 - ETA: 2s - loss: 0.5921 - accuracy: 0.82 - ETA: 2s - loss: 0.5958 - accuracy: 0.82 - ETA: 2s - loss: 0.5953 - accuracy: 0.82 - ETA: 2s - loss: 0.5933 - accuracy: 0.82 - ETA: 2s - loss: 0.5948 - accuracy: 0.82 - ETA: 2s - loss: 0.5948 - accuracy: 0.82 - ETA: 2s - loss: 0.5937 - accuracy: 0.82 - ETA: 2s - loss: 0.5895 - accuracy: 0.82 - ETA: 2s - loss: 0.5862 - accuracy: 0.82 - ETA: 2s - loss: 0.5866 - accuracy: 0.82 - ETA: 2s - loss: 0.5864 - accuracy: 0.82 - ETA: 2s - loss: 0.5876 - accuracy: 0.82 - ETA: 2s - loss: 0.5896 - accuracy: 0.82 - ETA: 2s - loss: 0.5899 - accuracy: 0.82 - ETA: 1s - loss: 0.5876 - accuracy: 0.82 - ETA: 1s - loss: 0.5858 - accuracy: 0.82 - ETA: 1s - loss: 0.5844 - accuracy: 0.82 - ETA: 1s - loss: 0.5803 - accuracy: 0.82 - ETA: 1s - loss: 0.5806 - accuracy: 0.82 - ETA: 1s - loss: 0.5811 - accuracy: 0.82 - ETA: 1s - loss: 0.5793 - accuracy: 0.82 - ETA: 1s - loss: 0.5792 - accuracy: 0.82 - ETA: 1s - loss: 0.5796 - accuracy: 0.82 - ETA: 1s - loss: 0.5803 - accuracy: 0.82 - ETA: 1s - loss: 0.5797 - accuracy: 0.82 - ETA: 1s - loss: 0.5813 - accuracy: 0.82 - ETA: 1s - loss: 0.5805 - accuracy: 0.82 - ETA: 1s - loss: 0.5814 - accuracy: 0.82 - ETA: 1s - loss: 0.5799 - accuracy: 0.82 - ETA: 0s - loss: 0.5788 - accuracy: 0.82 - ETA: 0s - loss: 0.5775 - accuracy: 0.82 - ETA: 0s - loss: 0.5768 - accuracy: 0.83 - ETA: 0s - loss: 0.5765 - accuracy: 0.83 - ETA: 0s - loss: 0.5765 - accuracy: 0.83 - ETA: 0s - loss: 0.5763 - accuracy: 0.83 - ETA: 0s - loss: 0.5756 - accuracy: 0.83 - ETA: 0s - loss: 0.5766 - accuracy: 0.83 - ETA: 0s - loss: 0.5766 - accuracy: 0.83 - ETA: 0s - loss: 0.5786 - accuracy: 0.82 - ETA: 0s - loss: 0.5781 - accuracy: 0.82 - ETA: 0s - loss: 0.5777 - accuracy: 0.82 - ETA: 0s - loss: 0.5773 - accuracy: 0.83 - ETA: 0s - loss: 0.5771 - accuracy: 0.83 - ETA: 0s - loss: 0.5778 - accuracy: 0.83 - ETA: 0s - loss: 0.5778 - accuracy: 0.83 - 4s 2ms/step - loss: 0.5775 - accuracy: 0.8301 - val_loss: 0.5154 - val_accuracy: 0.8440\n",
      "Epoch 4/20\n",
      "1875/1875 [==============================] - ETA: 0s - loss: 0.6158 - accuracy: 0.81 - ETA: 2s - loss: 0.5132 - accuracy: 0.84 - ETA: 2s - loss: 0.5091 - accuracy: 0.84 - ETA: 3s - loss: 0.5210 - accuracy: 0.84 - ETA: 2s - loss: 0.5222 - accuracy: 0.84 - ETA: 2s - loss: 0.5207 - accuracy: 0.84 - ETA: 2s - loss: 0.5263 - accuracy: 0.84 - ETA: 2s - loss: 0.5301 - accuracy: 0.83 - ETA: 2s - loss: 0.5269 - accuracy: 0.84 - ETA: 2s - loss: 0.5291 - accuracy: 0.84 - ETA: 2s - loss: 0.5242 - accuracy: 0.84 - ETA: 2s - loss: 0.5282 - accuracy: 0.84 - ETA: 2s - loss: 0.5293 - accuracy: 0.84 - ETA: 1s - loss: 0.5329 - accuracy: 0.83 - ETA: 1s - loss: 0.5338 - accuracy: 0.83 - ETA: 1s - loss: 0.5289 - accuracy: 0.84 - ETA: 1s - loss: 0.5296 - accuracy: 0.84 - ETA: 1s - loss: 0.5284 - accuracy: 0.84 - ETA: 1s - loss: 0.5280 - accuracy: 0.84 - ETA: 1s - loss: 0.5282 - accuracy: 0.83 - ETA: 1s - loss: 0.5268 - accuracy: 0.84 - ETA: 1s - loss: 0.5248 - accuracy: 0.84 - ETA: 1s - loss: 0.5253 - accuracy: 0.84 - ETA: 1s - loss: 0.5293 - accuracy: 0.84 - ETA: 1s - loss: 0.5274 - accuracy: 0.84 - ETA: 1s - loss: 0.5266 - accuracy: 0.84 - ETA: 1s - loss: 0.5262 - accuracy: 0.84 - ETA: 1s - loss: 0.5262 - accuracy: 0.84 - ETA: 1s - loss: 0.5247 - accuracy: 0.84 - ETA: 1s - loss: 0.5236 - accuracy: 0.84 - ETA: 0s - loss: 0.5238 - accuracy: 0.84 - ETA: 0s - loss: 0.5227 - accuracy: 0.84 - ETA: 0s - loss: 0.5231 - accuracy: 0.84 - ETA: 0s - loss: 0.5234 - accuracy: 0.84 - ETA: 0s - loss: 0.5254 - accuracy: 0.84 - ETA: 0s - loss: 0.5248 - accuracy: 0.84 - ETA: 0s - loss: 0.5243 - accuracy: 0.84 - ETA: 0s - loss: 0.5236 - accuracy: 0.84 - ETA: 0s - loss: 0.5238 - accuracy: 0.84 - ETA: 0s - loss: 0.5243 - accuracy: 0.84 - ETA: 0s - loss: 0.5241 - accuracy: 0.84 - ETA: 0s - loss: 0.5248 - accuracy: 0.84 - ETA: 0s - loss: 0.5248 - accuracy: 0.84 - ETA: 0s - loss: 0.5244 - accuracy: 0.84 - ETA: 0s - loss: 0.5244 - accuracy: 0.84 - ETA: 0s - loss: 0.5254 - accuracy: 0.84 - ETA: 0s - loss: 0.5249 - accuracy: 0.84 - ETA: 0s - loss: 0.5260 - accuracy: 0.84 - ETA: 0s - loss: 0.5274 - accuracy: 0.84 - ETA: 0s - loss: 0.5288 - accuracy: 0.84 - ETA: 0s - loss: 0.5291 - accuracy: 0.84 - ETA: 0s - loss: 0.5292 - accuracy: 0.84 - 4s 2ms/step - loss: 0.5292 - accuracy: 0.8422 - val_loss: 0.5051 - val_accuracy: 0.8498\n",
      "Epoch 5/20\n",
      "1875/1875 [==============================] - ETA: 0s - loss: 0.0931 - accuracy: 1.00 - ETA: 2s - loss: 0.4916 - accuracy: 0.86 - ETA: 2s - loss: 0.5079 - accuracy: 0.85 - ETA: 2s - loss: 0.4996 - accuracy: 0.85 - ETA: 2s - loss: 0.4937 - accuracy: 0.85 - ETA: 2s - loss: 0.4904 - accuracy: 0.85 - ETA: 2s - loss: 0.4899 - accuracy: 0.85 - ETA: 2s - loss: 0.4894 - accuracy: 0.85 - ETA: 2s - loss: 0.4871 - accuracy: 0.85 - ETA: 2s - loss: 0.4878 - accuracy: 0.85 - ETA: 2s - loss: 0.4854 - accuracy: 0.85 - ETA: 2s - loss: 0.4836 - accuracy: 0.85 - ETA: 1s - loss: 0.4885 - accuracy: 0.85 - ETA: 1s - loss: 0.4894 - accuracy: 0.85 - ETA: 1s - loss: 0.4892 - accuracy: 0.85 - ETA: 1s - loss: 0.4870 - accuracy: 0.85 - ETA: 1s - loss: 0.4844 - accuracy: 0.85 - ETA: 1s - loss: 0.4856 - accuracy: 0.85 - ETA: 1s - loss: 0.4863 - accuracy: 0.85 - ETA: 1s - loss: 0.4854 - accuracy: 0.85 - ETA: 1s - loss: 0.4869 - accuracy: 0.85 - ETA: 1s - loss: 0.4872 - accuracy: 0.85 - ETA: 1s - loss: 0.4884 - accuracy: 0.85 - ETA: 1s - loss: 0.4873 - accuracy: 0.85 - ETA: 1s - loss: 0.4870 - accuracy: 0.85 - ETA: 1s - loss: 0.4888 - accuracy: 0.85 - ETA: 1s - loss: 0.4880 - accuracy: 0.85 - ETA: 1s - loss: 0.4869 - accuracy: 0.85 - ETA: 0s - loss: 0.4868 - accuracy: 0.85 - ETA: 0s - loss: 0.4886 - accuracy: 0.85 - ETA: 0s - loss: 0.4886 - accuracy: 0.85 - ETA: 0s - loss: 0.4886 - accuracy: 0.85 - ETA: 0s - loss: 0.4881 - accuracy: 0.85 - ETA: 0s - loss: 0.4890 - accuracy: 0.85 - ETA: 0s - loss: 0.4894 - accuracy: 0.85 - ETA: 0s - loss: 0.4906 - accuracy: 0.85 - ETA: 0s - loss: 0.4914 - accuracy: 0.85 - ETA: 0s - loss: 0.4914 - accuracy: 0.85 - ETA: 0s - loss: 0.4907 - accuracy: 0.85 - ETA: 0s - loss: 0.4916 - accuracy: 0.85 - ETA: 0s - loss: 0.4918 - accuracy: 0.85 - ETA: 0s - loss: 0.4900 - accuracy: 0.85 - ETA: 0s - loss: 0.4903 - accuracy: 0.85 - ETA: 0s - loss: 0.4907 - accuracy: 0.85 - ETA: 0s - loss: 0.4913 - accuracy: 0.85 - ETA: 0s - loss: 0.4910 - accuracy: 0.85 - ETA: 0s - loss: 0.4903 - accuracy: 0.85 - ETA: 0s - loss: 0.4901 - accuracy: 0.85 - ETA: 0s - loss: 0.4901 - accuracy: 0.85 - 3s 2ms/step - loss: 0.4903 - accuracy: 0.8545 - val_loss: 0.4968 - val_accuracy: 0.8498\n",
      "Epoch 6/20\n",
      "1875/1875 [==============================] - ETA: 0s - loss: 0.4097 - accuracy: 0.84 - ETA: 2s - loss: 0.4049 - accuracy: 0.88 - ETA: 2s - loss: 0.4718 - accuracy: 0.86 - ETA: 2s - loss: 0.4798 - accuracy: 0.85 - ETA: 2s - loss: 0.4777 - accuracy: 0.85 - ETA: 2s - loss: 0.4782 - accuracy: 0.85 - ETA: 2s - loss: 0.4731 - accuracy: 0.85 - ETA: 2s - loss: 0.4778 - accuracy: 0.85 - ETA: 1s - loss: 0.4807 - accuracy: 0.85 - ETA: 1s - loss: 0.4725 - accuracy: 0.86 - ETA: 1s - loss: 0.4715 - accuracy: 0.85 - ETA: 1s - loss: 0.4722 - accuracy: 0.85 - ETA: 1s - loss: 0.4742 - accuracy: 0.85 - ETA: 1s - loss: 0.4696 - accuracy: 0.86 - ETA: 1s - loss: 0.4691 - accuracy: 0.86 - ETA: 1s - loss: 0.4678 - accuracy: 0.86 - ETA: 1s - loss: 0.4659 - accuracy: 0.86 - ETA: 1s - loss: 0.4659 - accuracy: 0.86 - ETA: 1s - loss: 0.4662 - accuracy: 0.86 - ETA: 1s - loss: 0.4652 - accuracy: 0.86 - ETA: 1s - loss: 0.4647 - accuracy: 0.86 - ETA: 1s - loss: 0.4626 - accuracy: 0.86 - ETA: 1s - loss: 0.4633 - accuracy: 0.86 - ETA: 1s - loss: 0.4663 - accuracy: 0.86 - ETA: 1s - loss: 0.4676 - accuracy: 0.86 - ETA: 1s - loss: 0.4671 - accuracy: 0.86 - ETA: 1s - loss: 0.4666 - accuracy: 0.86 - ETA: 1s - loss: 0.4654 - accuracy: 0.86 - ETA: 1s - loss: 0.4651 - accuracy: 0.86 - ETA: 0s - loss: 0.4651 - accuracy: 0.86 - ETA: 0s - loss: 0.4679 - accuracy: 0.86 - ETA: 0s - loss: 0.4669 - accuracy: 0.86 - ETA: 0s - loss: 0.4657 - accuracy: 0.86 - ETA: 0s - loss: 0.4643 - accuracy: 0.86 - ETA: 0s - loss: 0.4633 - accuracy: 0.86 - ETA: 0s - loss: 0.4622 - accuracy: 0.86 - ETA: 0s - loss: 0.4609 - accuracy: 0.86 - ETA: 0s - loss: 0.4601 - accuracy: 0.86 - ETA: 0s - loss: 0.4614 - accuracy: 0.86 - ETA: 0s - loss: 0.4616 - accuracy: 0.86 - ETA: 0s - loss: 0.4628 - accuracy: 0.86 - ETA: 0s - loss: 0.4633 - accuracy: 0.86 - ETA: 0s - loss: 0.4630 - accuracy: 0.86 - ETA: 0s - loss: 0.4608 - accuracy: 0.86 - ETA: 0s - loss: 0.4606 - accuracy: 0.86 - ETA: 0s - loss: 0.4601 - accuracy: 0.86 - ETA: 0s - loss: 0.4603 - accuracy: 0.86 - ETA: 0s - loss: 0.4613 - accuracy: 0.86 - ETA: 0s - loss: 0.4609 - accuracy: 0.86 - ETA: 0s - loss: 0.4609 - accuracy: 0.86 - 3s 2ms/step - loss: 0.4621 - accuracy: 0.8627 - val_loss: 0.4831 - val_accuracy: 0.8547\n",
      "Epoch 7/20\n",
      "1875/1875 [==============================] - ETA: 0s - loss: 0.2950 - accuracy: 0.90 - ETA: 2s - loss: 0.4275 - accuracy: 0.86 - ETA: 2s - loss: 0.4250 - accuracy: 0.87 - ETA: 2s - loss: 0.4305 - accuracy: 0.87 - ETA: 2s - loss: 0.4182 - accuracy: 0.87 - ETA: 1s - loss: 0.4166 - accuracy: 0.87 - ETA: 1s - loss: 0.4110 - accuracy: 0.87 - ETA: 1s - loss: 0.4116 - accuracy: 0.87 - ETA: 1s - loss: 0.4162 - accuracy: 0.87 - ETA: 1s - loss: 0.4183 - accuracy: 0.87 - ETA: 1s - loss: 0.4145 - accuracy: 0.87 - ETA: 1s - loss: 0.4150 - accuracy: 0.87 - ETA: 1s - loss: 0.4154 - accuracy: 0.87 - ETA: 1s - loss: 0.4183 - accuracy: 0.87 - ETA: 1s - loss: 0.4190 - accuracy: 0.87 - ETA: 1s - loss: 0.4253 - accuracy: 0.87 - ETA: 1s - loss: 0.4248 - accuracy: 0.87 - ETA: 1s - loss: 0.4243 - accuracy: 0.87 - ETA: 1s - loss: 0.4241 - accuracy: 0.87 - ETA: 1s - loss: 0.4280 - accuracy: 0.87 - ETA: 1s - loss: 0.4268 - accuracy: 0.87 - ETA: 1s - loss: 0.4281 - accuracy: 0.87 - ETA: 1s - loss: 0.4311 - accuracy: 0.87 - ETA: 0s - loss: 0.4329 - accuracy: 0.87 - ETA: 0s - loss: 0.4339 - accuracy: 0.87 - ETA: 0s - loss: 0.4346 - accuracy: 0.87 - ETA: 0s - loss: 0.4359 - accuracy: 0.87 - ETA: 0s - loss: 0.4358 - accuracy: 0.87 - ETA: 0s - loss: 0.4367 - accuracy: 0.87 - ETA: 0s - loss: 0.4370 - accuracy: 0.87 - ETA: 0s - loss: 0.4366 - accuracy: 0.87 - ETA: 0s - loss: 0.4371 - accuracy: 0.87 - ETA: 0s - loss: 0.4363 - accuracy: 0.87 - ETA: 0s - loss: 0.4377 - accuracy: 0.87 - ETA: 0s - loss: 0.4382 - accuracy: 0.87 - ETA: 0s - loss: 0.4386 - accuracy: 0.87 - ETA: 0s - loss: 0.4395 - accuracy: 0.87 - ETA: 0s - loss: 0.4390 - accuracy: 0.87 - ETA: 0s - loss: 0.4388 - accuracy: 0.87 - ETA: 0s - loss: 0.4378 - accuracy: 0.87 - ETA: 0s - loss: 0.4368 - accuracy: 0.87 - ETA: 0s - loss: 0.4369 - accuracy: 0.87 - ETA: 0s - loss: 0.4382 - accuracy: 0.87 - 3s 2ms/step - loss: 0.4386 - accuracy: 0.8701 - val_loss: 0.4737 - val_accuracy: 0.8585\n",
      "Epoch 8/20\n",
      "1875/1875 [==============================] - ETA: 0s - loss: 0.2671 - accuracy: 0.93 - ETA: 1s - loss: 0.3601 - accuracy: 0.90 - ETA: 1s - loss: 0.3858 - accuracy: 0.88 - ETA: 1s - loss: 0.3911 - accuracy: 0.88 - ETA: 1s - loss: 0.4001 - accuracy: 0.88 - ETA: 1s - loss: 0.3921 - accuracy: 0.88 - ETA: 1s - loss: 0.3998 - accuracy: 0.88 - ETA: 1s - loss: 0.3961 - accuracy: 0.88 - ETA: 1s - loss: 0.3936 - accuracy: 0.88 - ETA: 1s - loss: 0.3991 - accuracy: 0.88 - ETA: 1s - loss: 0.4032 - accuracy: 0.87 - ETA: 1s - loss: 0.4037 - accuracy: 0.87 - ETA: 1s - loss: 0.4023 - accuracy: 0.88 - ETA: 1s - loss: 0.4038 - accuracy: 0.88 - ETA: 1s - loss: 0.4021 - accuracy: 0.88 - ETA: 1s - loss: 0.4013 - accuracy: 0.88 - ETA: 1s - loss: 0.4017 - accuracy: 0.88 - ETA: 1s - loss: 0.4018 - accuracy: 0.88 - ETA: 1s - loss: 0.4021 - accuracy: 0.88 - ETA: 1s - loss: 0.4008 - accuracy: 0.88 - ETA: 1s - loss: 0.4049 - accuracy: 0.88 - ETA: 1s - loss: 0.4050 - accuracy: 0.88 - ETA: 1s - loss: 0.4074 - accuracy: 0.87 - ETA: 0s - loss: 0.4073 - accuracy: 0.87 - ETA: 0s - loss: 0.4070 - accuracy: 0.87 - ETA: 0s - loss: 0.4074 - accuracy: 0.87 - ETA: 0s - loss: 0.4100 - accuracy: 0.87 - ETA: 0s - loss: 0.4114 - accuracy: 0.87 - ETA: 0s - loss: 0.4116 - accuracy: 0.87 - ETA: 0s - loss: 0.4136 - accuracy: 0.87 - ETA: 0s - loss: 0.4135 - accuracy: 0.87 - ETA: 0s - loss: 0.4134 - accuracy: 0.87 - ETA: 0s - loss: 0.4129 - accuracy: 0.87 - ETA: 0s - loss: 0.4136 - accuracy: 0.87 - ETA: 0s - loss: 0.4131 - accuracy: 0.87 - ETA: 0s - loss: 0.4141 - accuracy: 0.87 - ETA: 0s - loss: 0.4137 - accuracy: 0.87 - ETA: 0s - loss: 0.4131 - accuracy: 0.87 - ETA: 0s - loss: 0.4124 - accuracy: 0.87 - ETA: 0s - loss: 0.4122 - accuracy: 0.87 - ETA: 0s - loss: 0.4129 - accuracy: 0.87 - ETA: 0s - loss: 0.4126 - accuracy: 0.87 - ETA: 0s - loss: 0.4131 - accuracy: 0.87 - ETA: 0s - loss: 0.4134 - accuracy: 0.87 - ETA: 0s - loss: 0.4133 - accuracy: 0.87 - ETA: 0s - loss: 0.4138 - accuracy: 0.87 - ETA: 0s - loss: 0.4141 - accuracy: 0.87 - 3s 2ms/step - loss: 0.4136 - accuracy: 0.8767 - val_loss: 0.4738 - val_accuracy: 0.8603\n",
      "Epoch 9/20\n"
     ]
    },
    {
     "name": "stdout",
     "output_type": "stream",
     "text": [
      "1875/1875 [==============================] - ETA: 0s - loss: 0.6319 - accuracy: 0.90 - ETA: 1s - loss: 0.4029 - accuracy: 0.88 - ETA: 2s - loss: 0.4000 - accuracy: 0.88 - ETA: 2s - loss: 0.3943 - accuracy: 0.88 - ETA: 2s - loss: 0.3841 - accuracy: 0.88 - ETA: 2s - loss: 0.3756 - accuracy: 0.88 - ETA: 2s - loss: 0.3786 - accuracy: 0.88 - ETA: 2s - loss: 0.3832 - accuracy: 0.88 - ETA: 2s - loss: 0.3849 - accuracy: 0.88 - ETA: 2s - loss: 0.3839 - accuracy: 0.88 - ETA: 2s - loss: 0.3861 - accuracy: 0.88 - ETA: 2s - loss: 0.3868 - accuracy: 0.88 - ETA: 2s - loss: 0.3871 - accuracy: 0.88 - ETA: 2s - loss: 0.3913 - accuracy: 0.88 - ETA: 2s - loss: 0.3929 - accuracy: 0.88 - ETA: 1s - loss: 0.3932 - accuracy: 0.88 - ETA: 1s - loss: 0.3935 - accuracy: 0.88 - ETA: 1s - loss: 0.3908 - accuracy: 0.88 - ETA: 1s - loss: 0.3913 - accuracy: 0.88 - ETA: 1s - loss: 0.3902 - accuracy: 0.88 - ETA: 1s - loss: 0.3874 - accuracy: 0.88 - ETA: 1s - loss: 0.3894 - accuracy: 0.88 - ETA: 1s - loss: 0.3898 - accuracy: 0.88 - ETA: 1s - loss: 0.3887 - accuracy: 0.88 - ETA: 1s - loss: 0.3892 - accuracy: 0.88 - ETA: 1s - loss: 0.3879 - accuracy: 0.88 - ETA: 1s - loss: 0.3865 - accuracy: 0.88 - ETA: 1s - loss: 0.3868 - accuracy: 0.88 - ETA: 1s - loss: 0.3875 - accuracy: 0.88 - ETA: 1s - loss: 0.3882 - accuracy: 0.88 - ETA: 1s - loss: 0.3897 - accuracy: 0.88 - ETA: 1s - loss: 0.3892 - accuracy: 0.88 - ETA: 1s - loss: 0.3907 - accuracy: 0.88 - ETA: 1s - loss: 0.3912 - accuracy: 0.88 - ETA: 1s - loss: 0.3911 - accuracy: 0.88 - ETA: 0s - loss: 0.3901 - accuracy: 0.88 - ETA: 0s - loss: 0.3895 - accuracy: 0.88 - ETA: 0s - loss: 0.3897 - accuracy: 0.88 - ETA: 0s - loss: 0.3906 - accuracy: 0.88 - ETA: 0s - loss: 0.3929 - accuracy: 0.88 - ETA: 0s - loss: 0.3931 - accuracy: 0.88 - ETA: 0s - loss: 0.3925 - accuracy: 0.88 - ETA: 0s - loss: 0.3917 - accuracy: 0.88 - ETA: 0s - loss: 0.3919 - accuracy: 0.88 - ETA: 0s - loss: 0.3930 - accuracy: 0.88 - ETA: 0s - loss: 0.3943 - accuracy: 0.88 - ETA: 0s - loss: 0.3946 - accuracy: 0.88 - ETA: 0s - loss: 0.3959 - accuracy: 0.88 - ETA: 0s - loss: 0.3969 - accuracy: 0.88 - ETA: 0s - loss: 0.3964 - accuracy: 0.88 - ETA: 0s - loss: 0.3968 - accuracy: 0.88 - ETA: 0s - loss: 0.3972 - accuracy: 0.88 - ETA: 0s - loss: 0.3970 - accuracy: 0.88 - 3s 2ms/step - loss: 0.3972 - accuracy: 0.8814 - val_loss: 0.4848 - val_accuracy: 0.8598\n",
      "Epoch 10/20\n",
      "1875/1875 [==============================] - ETA: 0s - loss: 0.6518 - accuracy: 0.81 - ETA: 2s - loss: 0.4006 - accuracy: 0.87 - ETA: 2s - loss: 0.3662 - accuracy: 0.88 - ETA: 2s - loss: 0.3497 - accuracy: 0.89 - ETA: 1s - loss: 0.3576 - accuracy: 0.89 - ETA: 1s - loss: 0.3695 - accuracy: 0.89 - ETA: 1s - loss: 0.3667 - accuracy: 0.89 - ETA: 1s - loss: 0.3739 - accuracy: 0.89 - ETA: 1s - loss: 0.3698 - accuracy: 0.89 - ETA: 1s - loss: 0.3718 - accuracy: 0.89 - ETA: 1s - loss: 0.3756 - accuracy: 0.89 - ETA: 1s - loss: 0.3739 - accuracy: 0.89 - ETA: 1s - loss: 0.3813 - accuracy: 0.88 - ETA: 1s - loss: 0.3802 - accuracy: 0.88 - ETA: 1s - loss: 0.3832 - accuracy: 0.88 - ETA: 1s - loss: 0.3846 - accuracy: 0.88 - ETA: 1s - loss: 0.3831 - accuracy: 0.88 - ETA: 1s - loss: 0.3809 - accuracy: 0.88 - ETA: 1s - loss: 0.3798 - accuracy: 0.88 - ETA: 1s - loss: 0.3777 - accuracy: 0.88 - ETA: 1s - loss: 0.3791 - accuracy: 0.88 - ETA: 1s - loss: 0.3802 - accuracy: 0.88 - ETA: 1s - loss: 0.3806 - accuracy: 0.88 - ETA: 0s - loss: 0.3802 - accuracy: 0.88 - ETA: 0s - loss: 0.3799 - accuracy: 0.88 - ETA: 0s - loss: 0.3791 - accuracy: 0.88 - ETA: 0s - loss: 0.3815 - accuracy: 0.88 - ETA: 0s - loss: 0.3818 - accuracy: 0.88 - ETA: 0s - loss: 0.3822 - accuracy: 0.88 - ETA: 0s - loss: 0.3841 - accuracy: 0.88 - ETA: 0s - loss: 0.3840 - accuracy: 0.88 - ETA: 0s - loss: 0.3848 - accuracy: 0.88 - ETA: 0s - loss: 0.3846 - accuracy: 0.88 - ETA: 0s - loss: 0.3853 - accuracy: 0.88 - ETA: 0s - loss: 0.3846 - accuracy: 0.88 - ETA: 0s - loss: 0.3843 - accuracy: 0.88 - ETA: 0s - loss: 0.3848 - accuracy: 0.88 - ETA: 0s - loss: 0.3842 - accuracy: 0.88 - ETA: 0s - loss: 0.3837 - accuracy: 0.88 - ETA: 0s - loss: 0.3830 - accuracy: 0.88 - ETA: 0s - loss: 0.3833 - accuracy: 0.88 - ETA: 0s - loss: 0.3841 - accuracy: 0.88 - ETA: 0s - loss: 0.3848 - accuracy: 0.88 - 3s 2ms/step - loss: 0.3852 - accuracy: 0.8854 - val_loss: 0.4847 - val_accuracy: 0.8607\n",
      "Epoch 11/20\n",
      "1875/1875 [==============================] - ETA: 0s - loss: 0.2155 - accuracy: 0.90 - ETA: 1s - loss: 0.3692 - accuracy: 0.88 - ETA: 2s - loss: 0.3639 - accuracy: 0.89 - ETA: 2s - loss: 0.3559 - accuracy: 0.89 - ETA: 1s - loss: 0.3474 - accuracy: 0.89 - ETA: 1s - loss: 0.3513 - accuracy: 0.89 - ETA: 1s - loss: 0.3559 - accuracy: 0.89 - ETA: 1s - loss: 0.3448 - accuracy: 0.89 - ETA: 1s - loss: 0.3473 - accuracy: 0.89 - ETA: 1s - loss: 0.3497 - accuracy: 0.89 - ETA: 1s - loss: 0.3482 - accuracy: 0.89 - ETA: 1s - loss: 0.3503 - accuracy: 0.89 - ETA: 1s - loss: 0.3523 - accuracy: 0.89 - ETA: 1s - loss: 0.3526 - accuracy: 0.89 - ETA: 1s - loss: 0.3513 - accuracy: 0.89 - ETA: 1s - loss: 0.3526 - accuracy: 0.89 - ETA: 1s - loss: 0.3512 - accuracy: 0.89 - ETA: 1s - loss: 0.3530 - accuracy: 0.89 - ETA: 1s - loss: 0.3567 - accuracy: 0.89 - ETA: 1s - loss: 0.3586 - accuracy: 0.89 - ETA: 1s - loss: 0.3591 - accuracy: 0.89 - ETA: 1s - loss: 0.3593 - accuracy: 0.89 - ETA: 0s - loss: 0.3593 - accuracy: 0.89 - ETA: 0s - loss: 0.3584 - accuracy: 0.89 - ETA: 0s - loss: 0.3595 - accuracy: 0.89 - ETA: 0s - loss: 0.3601 - accuracy: 0.89 - ETA: 0s - loss: 0.3624 - accuracy: 0.89 - ETA: 0s - loss: 0.3636 - accuracy: 0.89 - ETA: 0s - loss: 0.3633 - accuracy: 0.89 - ETA: 0s - loss: 0.3639 - accuracy: 0.89 - ETA: 0s - loss: 0.3634 - accuracy: 0.89 - ETA: 0s - loss: 0.3644 - accuracy: 0.89 - ETA: 0s - loss: 0.3653 - accuracy: 0.89 - ETA: 0s - loss: 0.3658 - accuracy: 0.89 - ETA: 0s - loss: 0.3656 - accuracy: 0.89 - ETA: 0s - loss: 0.3671 - accuracy: 0.89 - ETA: 0s - loss: 0.3672 - accuracy: 0.89 - ETA: 0s - loss: 0.3679 - accuracy: 0.89 - ETA: 0s - loss: 0.3685 - accuracy: 0.89 - ETA: 0s - loss: 0.3684 - accuracy: 0.89 - ETA: 0s - loss: 0.3684 - accuracy: 0.89 - ETA: 0s - loss: 0.3691 - accuracy: 0.89 - 3s 2ms/step - loss: 0.3696 - accuracy: 0.8916 - val_loss: 0.4887 - val_accuracy: 0.8606\n",
      "Epoch 12/20\n",
      "1875/1875 [==============================] - ETA: 0s - loss: 0.5067 - accuracy: 0.84 - ETA: 2s - loss: 0.3195 - accuracy: 0.90 - ETA: 1s - loss: 0.3558 - accuracy: 0.89 - ETA: 1s - loss: 0.3392 - accuracy: 0.89 - ETA: 1s - loss: 0.3468 - accuracy: 0.89 - ETA: 1s - loss: 0.3416 - accuracy: 0.89 - ETA: 1s - loss: 0.3435 - accuracy: 0.89 - ETA: 1s - loss: 0.3488 - accuracy: 0.89 - ETA: 1s - loss: 0.3523 - accuracy: 0.89 - ETA: 1s - loss: 0.3521 - accuracy: 0.89 - ETA: 1s - loss: 0.3516 - accuracy: 0.89 - ETA: 1s - loss: 0.3507 - accuracy: 0.89 - ETA: 1s - loss: 0.3486 - accuracy: 0.89 - ETA: 1s - loss: 0.3488 - accuracy: 0.89 - ETA: 1s - loss: 0.3483 - accuracy: 0.89 - ETA: 1s - loss: 0.3477 - accuracy: 0.89 - ETA: 1s - loss: 0.3462 - accuracy: 0.89 - ETA: 1s - loss: 0.3450 - accuracy: 0.89 - ETA: 1s - loss: 0.3446 - accuracy: 0.89 - ETA: 1s - loss: 0.3439 - accuracy: 0.89 - ETA: 1s - loss: 0.3437 - accuracy: 0.89 - ETA: 1s - loss: 0.3443 - accuracy: 0.89 - ETA: 1s - loss: 0.3467 - accuracy: 0.89 - ETA: 0s - loss: 0.3473 - accuracy: 0.89 - ETA: 0s - loss: 0.3490 - accuracy: 0.89 - ETA: 0s - loss: 0.3491 - accuracy: 0.89 - ETA: 0s - loss: 0.3502 - accuracy: 0.89 - ETA: 0s - loss: 0.3501 - accuracy: 0.89 - ETA: 0s - loss: 0.3514 - accuracy: 0.89 - ETA: 0s - loss: 0.3527 - accuracy: 0.89 - ETA: 0s - loss: 0.3519 - accuracy: 0.89 - ETA: 0s - loss: 0.3534 - accuracy: 0.89 - ETA: 0s - loss: 0.3535 - accuracy: 0.89 - ETA: 0s - loss: 0.3544 - accuracy: 0.89 - ETA: 0s - loss: 0.3559 - accuracy: 0.89 - ETA: 0s - loss: 0.3559 - accuracy: 0.89 - ETA: 0s - loss: 0.3568 - accuracy: 0.89 - ETA: 0s - loss: 0.3576 - accuracy: 0.89 - ETA: 0s - loss: 0.3593 - accuracy: 0.89 - ETA: 0s - loss: 0.3592 - accuracy: 0.89 - ETA: 0s - loss: 0.3592 - accuracy: 0.89 - ETA: 0s - loss: 0.3587 - accuracy: 0.89 - ETA: 0s - loss: 0.3587 - accuracy: 0.89 - 3s 2ms/step - loss: 0.3587 - accuracy: 0.8928 - val_loss: 0.4878 - val_accuracy: 0.8630\n",
      "Epoch 13/20\n",
      "1875/1875 [==============================] - ETA: 0s - loss: 0.3261 - accuracy: 0.87 - ETA: 1s - loss: 0.3557 - accuracy: 0.89 - ETA: 1s - loss: 0.3468 - accuracy: 0.89 - ETA: 1s - loss: 0.3367 - accuracy: 0.90 - ETA: 1s - loss: 0.3422 - accuracy: 0.89 - ETA: 1s - loss: 0.3447 - accuracy: 0.89 - ETA: 1s - loss: 0.3424 - accuracy: 0.89 - ETA: 1s - loss: 0.3423 - accuracy: 0.89 - ETA: 1s - loss: 0.3438 - accuracy: 0.89 - ETA: 1s - loss: 0.3460 - accuracy: 0.89 - ETA: 1s - loss: 0.3460 - accuracy: 0.89 - ETA: 1s - loss: 0.3420 - accuracy: 0.89 - ETA: 1s - loss: 0.3444 - accuracy: 0.89 - ETA: 1s - loss: 0.3426 - accuracy: 0.89 - ETA: 1s - loss: 0.3431 - accuracy: 0.89 - ETA: 1s - loss: 0.3429 - accuracy: 0.89 - ETA: 1s - loss: 0.3420 - accuracy: 0.89 - ETA: 1s - loss: 0.3435 - accuracy: 0.89 - ETA: 1s - loss: 0.3432 - accuracy: 0.89 - ETA: 1s - loss: 0.3414 - accuracy: 0.89 - ETA: 1s - loss: 0.3414 - accuracy: 0.89 - ETA: 0s - loss: 0.3420 - accuracy: 0.89 - ETA: 0s - loss: 0.3433 - accuracy: 0.89 - ETA: 0s - loss: 0.3422 - accuracy: 0.89 - ETA: 0s - loss: 0.3415 - accuracy: 0.89 - ETA: 0s - loss: 0.3425 - accuracy: 0.89 - ETA: 0s - loss: 0.3433 - accuracy: 0.89 - ETA: 0s - loss: 0.3435 - accuracy: 0.89 - ETA: 0s - loss: 0.3431 - accuracy: 0.89 - ETA: 0s - loss: 0.3433 - accuracy: 0.89 - ETA: 0s - loss: 0.3448 - accuracy: 0.89 - ETA: 0s - loss: 0.3456 - accuracy: 0.89 - ETA: 0s - loss: 0.3465 - accuracy: 0.89 - ETA: 0s - loss: 0.3458 - accuracy: 0.89 - ETA: 0s - loss: 0.3466 - accuracy: 0.89 - ETA: 0s - loss: 0.3467 - accuracy: 0.89 - ETA: 0s - loss: 0.3475 - accuracy: 0.89 - ETA: 0s - loss: 0.3464 - accuracy: 0.89 - ETA: 0s - loss: 0.3468 - accuracy: 0.89 - ETA: 0s - loss: 0.3470 - accuracy: 0.89 - ETA: 0s - loss: 0.3466 - accuracy: 0.89 - ETA: 0s - loss: 0.3462 - accuracy: 0.89 - ETA: 0s - loss: 0.3467 - accuracy: 0.89 - ETA: 0s - loss: 0.3466 - accuracy: 0.89 - ETA: 0s - loss: 0.3463 - accuracy: 0.89 - 3s 2ms/step - loss: 0.3461 - accuracy: 0.8981 - val_loss: 0.4996 - val_accuracy: 0.8627\n",
      "Epoch 14/20\n",
      "1875/1875 [==============================] - ETA: 0s - loss: 0.4760 - accuracy: 0.87 - ETA: 1s - loss: 0.3557 - accuracy: 0.89 - ETA: 1s - loss: 0.3447 - accuracy: 0.89 - ETA: 1s - loss: 0.3270 - accuracy: 0.90 - ETA: 1s - loss: 0.3257 - accuracy: 0.90 - ETA: 1s - loss: 0.3214 - accuracy: 0.90 - ETA: 1s - loss: 0.3277 - accuracy: 0.89 - ETA: 1s - loss: 0.3252 - accuracy: 0.89 - ETA: 1s - loss: 0.3261 - accuracy: 0.90 - ETA: 1s - loss: 0.3261 - accuracy: 0.90 - ETA: 1s - loss: 0.3232 - accuracy: 0.90 - ETA: 1s - loss: 0.3217 - accuracy: 0.90 - ETA: 1s - loss: 0.3209 - accuracy: 0.90 - ETA: 1s - loss: 0.3248 - accuracy: 0.90 - ETA: 1s - loss: 0.3278 - accuracy: 0.90 - ETA: 1s - loss: 0.3275 - accuracy: 0.90 - ETA: 1s - loss: 0.3284 - accuracy: 0.90 - ETA: 1s - loss: 0.3304 - accuracy: 0.90 - ETA: 1s - loss: 0.3300 - accuracy: 0.90 - ETA: 1s - loss: 0.3302 - accuracy: 0.89 - ETA: 1s - loss: 0.3308 - accuracy: 0.89 - ETA: 1s - loss: 0.3293 - accuracy: 0.89 - ETA: 0s - loss: 0.3310 - accuracy: 0.89 - ETA: 0s - loss: 0.3313 - accuracy: 0.89 - ETA: 0s - loss: 0.3321 - accuracy: 0.89 - ETA: 0s - loss: 0.3331 - accuracy: 0.89 - ETA: 0s - loss: 0.3345 - accuracy: 0.89 - ETA: 0s - loss: 0.3324 - accuracy: 0.89 - ETA: 0s - loss: 0.3339 - accuracy: 0.89 - ETA: 0s - loss: 0.3343 - accuracy: 0.89 - ETA: 0s - loss: 0.3342 - accuracy: 0.89 - ETA: 0s - loss: 0.3357 - accuracy: 0.89 - ETA: 0s - loss: 0.3357 - accuracy: 0.89 - ETA: 0s - loss: 0.3364 - accuracy: 0.89 - ETA: 0s - loss: 0.3361 - accuracy: 0.89 - ETA: 0s - loss: 0.3359 - accuracy: 0.89 - ETA: 0s - loss: 0.3348 - accuracy: 0.89 - ETA: 0s - loss: 0.3350 - accuracy: 0.89 - ETA: 0s - loss: 0.3353 - accuracy: 0.89 - ETA: 0s - loss: 0.3349 - accuracy: 0.89 - ETA: 0s - loss: 0.3348 - accuracy: 0.89 - ETA: 0s - loss: 0.3350 - accuracy: 0.89 - ETA: 0s - loss: 0.3360 - accuracy: 0.89 - 3s 2ms/step - loss: 0.3360 - accuracy: 0.8985 - val_loss: 0.5106 - val_accuracy: 0.8585\n",
      "Epoch 15/20\n",
      "1875/1875 [==============================] - ETA: 0s - loss: 0.3661 - accuracy: 0.87 - ETA: 2s - loss: 0.3044 - accuracy: 0.90 - ETA: 2s - loss: 0.2997 - accuracy: 0.91 - ETA: 2s - loss: 0.3141 - accuracy: 0.90 - ETA: 2s - loss: 0.3143 - accuracy: 0.90 - ETA: 1s - loss: 0.3113 - accuracy: 0.90 - ETA: 1s - loss: 0.3140 - accuracy: 0.90 - ETA: 1s - loss: 0.3150 - accuracy: 0.90 - ETA: 1s - loss: 0.3150 - accuracy: 0.90 - ETA: 1s - loss: 0.3157 - accuracy: 0.90 - ETA: 1s - loss: 0.3140 - accuracy: 0.90 - ETA: 1s - loss: 0.3137 - accuracy: 0.90 - ETA: 1s - loss: 0.3116 - accuracy: 0.90 - ETA: 1s - loss: 0.3134 - accuracy: 0.90 - ETA: 1s - loss: 0.3126 - accuracy: 0.90 - ETA: 1s - loss: 0.3124 - accuracy: 0.90 - ETA: 1s - loss: 0.3153 - accuracy: 0.90 - ETA: 1s - loss: 0.3163 - accuracy: 0.90 - ETA: 1s - loss: 0.3151 - accuracy: 0.90 - ETA: 1s - loss: 0.3147 - accuracy: 0.90 - ETA: 1s - loss: 0.3159 - accuracy: 0.90 - ETA: 1s - loss: 0.3169 - accuracy: 0.90 - ETA: 1s - loss: 0.3166 - accuracy: 0.90 - ETA: 0s - loss: 0.3182 - accuracy: 0.90 - ETA: 0s - loss: 0.3193 - accuracy: 0.90 - ETA: 0s - loss: 0.3199 - accuracy: 0.90 - ETA: 0s - loss: 0.3204 - accuracy: 0.90 - ETA: 0s - loss: 0.3198 - accuracy: 0.90 - ETA: 0s - loss: 0.3205 - accuracy: 0.90 - ETA: 0s - loss: 0.3204 - accuracy: 0.90 - ETA: 0s - loss: 0.3215 - accuracy: 0.90 - ETA: 0s - loss: 0.3216 - accuracy: 0.90 - ETA: 0s - loss: 0.3214 - accuracy: 0.90 - ETA: 0s - loss: 0.3231 - accuracy: 0.90 - ETA: 0s - loss: 0.3235 - accuracy: 0.90 - ETA: 0s - loss: 0.3234 - accuracy: 0.90 - ETA: 0s - loss: 0.3243 - accuracy: 0.90 - ETA: 0s - loss: 0.3251 - accuracy: 0.90 - ETA: 0s - loss: 0.3243 - accuracy: 0.90 - ETA: 0s - loss: 0.3244 - accuracy: 0.90 - ETA: 0s - loss: 0.3241 - accuracy: 0.90 - ETA: 0s - loss: 0.3237 - accuracy: 0.90 - ETA: 0s - loss: 0.3238 - accuracy: 0.90 - 3s 2ms/step - loss: 0.3243 - accuracy: 0.9038 - val_loss: 0.5090 - val_accuracy: 0.8626\n",
      "Epoch 16/20\n",
      "1875/1875 [==============================] - ETA: 0s - loss: 0.1755 - accuracy: 0.96 - ETA: 1s - loss: 0.3142 - accuracy: 0.90 - ETA: 1s - loss: 0.2987 - accuracy: 0.90 - ETA: 1s - loss: 0.2988 - accuracy: 0.90 - ETA: 1s - loss: 0.3067 - accuracy: 0.90 - ETA: 1s - loss: 0.3058 - accuracy: 0.90 - ETA: 1s - loss: 0.3048 - accuracy: 0.90 - ETA: 1s - loss: 0.3083 - accuracy: 0.90 - ETA: 1s - loss: 0.3063 - accuracy: 0.90 - ETA: 1s - loss: 0.3124 - accuracy: 0.90 - ETA: 1s - loss: 0.3154 - accuracy: 0.90 - ETA: 1s - loss: 0.3149 - accuracy: 0.90 - ETA: 1s - loss: 0.3168 - accuracy: 0.90 - ETA: 1s - loss: 0.3170 - accuracy: 0.90 - ETA: 1s - loss: 0.3155 - accuracy: 0.90 - ETA: 1s - loss: 0.3142 - accuracy: 0.90 - ETA: 1s - loss: 0.3139 - accuracy: 0.90 - ETA: 1s - loss: 0.3132 - accuracy: 0.90 - ETA: 1s - loss: 0.3134 - accuracy: 0.90 - ETA: 1s - loss: 0.3126 - accuracy: 0.90 - ETA: 1s - loss: 0.3128 - accuracy: 0.90 - ETA: 1s - loss: 0.3119 - accuracy: 0.90 - ETA: 0s - loss: 0.3148 - accuracy: 0.90 - ETA: 0s - loss: 0.3165 - accuracy: 0.90 - ETA: 0s - loss: 0.3176 - accuracy: 0.90 - ETA: 0s - loss: 0.3162 - accuracy: 0.90 - ETA: 0s - loss: 0.3154 - accuracy: 0.90 - ETA: 0s - loss: 0.3144 - accuracy: 0.90 - ETA: 0s - loss: 0.3154 - accuracy: 0.90 - ETA: 0s - loss: 0.3152 - accuracy: 0.90 - ETA: 0s - loss: 0.3151 - accuracy: 0.90 - ETA: 0s - loss: 0.3140 - accuracy: 0.90 - ETA: 0s - loss: 0.3140 - accuracy: 0.90 - ETA: 0s - loss: 0.3138 - accuracy: 0.90 - ETA: 0s - loss: 0.3131 - accuracy: 0.90 - ETA: 0s - loss: 0.3141 - accuracy: 0.90 - ETA: 0s - loss: 0.3131 - accuracy: 0.90 - ETA: 0s - loss: 0.3128 - accuracy: 0.90 - ETA: 0s - loss: 0.3131 - accuracy: 0.90 - ETA: 0s - loss: 0.3141 - accuracy: 0.90 - ETA: 0s - loss: 0.3146 - accuracy: 0.90 - ETA: 0s - loss: 0.3147 - accuracy: 0.90 - 3s 2ms/step - loss: 0.3148 - accuracy: 0.9066 - val_loss: 0.5053 - val_accuracy: 0.8622\n",
      "Epoch 17/20\n"
     ]
    },
    {
     "name": "stdout",
     "output_type": "stream",
     "text": [
      "1875/1875 [==============================] - ETA: 0s - loss: 0.1420 - accuracy: 0.96 - ETA: 1s - loss: 0.3270 - accuracy: 0.89 - ETA: 1s - loss: 0.2856 - accuracy: 0.90 - ETA: 1s - loss: 0.2845 - accuracy: 0.90 - ETA: 1s - loss: 0.2839 - accuracy: 0.91 - ETA: 1s - loss: 0.2808 - accuracy: 0.91 - ETA: 1s - loss: 0.2809 - accuracy: 0.91 - ETA: 1s - loss: 0.2832 - accuracy: 0.91 - ETA: 1s - loss: 0.2918 - accuracy: 0.91 - ETA: 1s - loss: 0.2950 - accuracy: 0.91 - ETA: 1s - loss: 0.2961 - accuracy: 0.91 - ETA: 1s - loss: 0.2993 - accuracy: 0.90 - ETA: 1s - loss: 0.2990 - accuracy: 0.90 - ETA: 1s - loss: 0.3009 - accuracy: 0.90 - ETA: 1s - loss: 0.3032 - accuracy: 0.90 - ETA: 1s - loss: 0.3029 - accuracy: 0.90 - ETA: 1s - loss: 0.3028 - accuracy: 0.90 - ETA: 1s - loss: 0.3016 - accuracy: 0.90 - ETA: 1s - loss: 0.3008 - accuracy: 0.91 - ETA: 1s - loss: 0.3011 - accuracy: 0.91 - ETA: 1s - loss: 0.3013 - accuracy: 0.91 - ETA: 1s - loss: 0.3023 - accuracy: 0.91 - ETA: 1s - loss: 0.3032 - accuracy: 0.90 - ETA: 1s - loss: 0.3042 - accuracy: 0.90 - ETA: 1s - loss: 0.3036 - accuracy: 0.90 - ETA: 0s - loss: 0.3028 - accuracy: 0.90 - ETA: 0s - loss: 0.3030 - accuracy: 0.90 - ETA: 0s - loss: 0.3017 - accuracy: 0.90 - ETA: 0s - loss: 0.3026 - accuracy: 0.90 - ETA: 0s - loss: 0.3037 - accuracy: 0.90 - ETA: 0s - loss: 0.3032 - accuracy: 0.90 - ETA: 0s - loss: 0.3047 - accuracy: 0.90 - ETA: 0s - loss: 0.3049 - accuracy: 0.90 - ETA: 0s - loss: 0.3041 - accuracy: 0.90 - ETA: 0s - loss: 0.3050 - accuracy: 0.90 - ETA: 0s - loss: 0.3062 - accuracy: 0.90 - ETA: 0s - loss: 0.3071 - accuracy: 0.90 - ETA: 0s - loss: 0.3074 - accuracy: 0.90 - ETA: 0s - loss: 0.3077 - accuracy: 0.90 - ETA: 0s - loss: 0.3075 - accuracy: 0.90 - ETA: 0s - loss: 0.3069 - accuracy: 0.90 - ETA: 0s - loss: 0.3071 - accuracy: 0.90 - ETA: 0s - loss: 0.3068 - accuracy: 0.90 - 3s 2ms/step - loss: 0.3082 - accuracy: 0.9078 - val_loss: 0.5138 - val_accuracy: 0.8597\n",
      "Epoch 18/20\n",
      "1875/1875 [==============================] - ETA: 0s - loss: 0.2281 - accuracy: 0.90 - ETA: 1s - loss: 0.2754 - accuracy: 0.92 - ETA: 1s - loss: 0.2772 - accuracy: 0.92 - ETA: 1s - loss: 0.2793 - accuracy: 0.91 - ETA: 1s - loss: 0.2712 - accuracy: 0.92 - ETA: 1s - loss: 0.2846 - accuracy: 0.91 - ETA: 1s - loss: 0.2880 - accuracy: 0.91 - ETA: 1s - loss: 0.2903 - accuracy: 0.91 - ETA: 1s - loss: 0.2853 - accuracy: 0.91 - ETA: 1s - loss: 0.2857 - accuracy: 0.91 - ETA: 1s - loss: 0.2849 - accuracy: 0.91 - ETA: 1s - loss: 0.2846 - accuracy: 0.91 - ETA: 1s - loss: 0.2859 - accuracy: 0.91 - ETA: 1s - loss: 0.2840 - accuracy: 0.91 - ETA: 1s - loss: 0.2869 - accuracy: 0.91 - ETA: 1s - loss: 0.2880 - accuracy: 0.91 - ETA: 1s - loss: 0.2900 - accuracy: 0.91 - ETA: 1s - loss: 0.2902 - accuracy: 0.91 - ETA: 1s - loss: 0.2916 - accuracy: 0.91 - ETA: 1s - loss: 0.2920 - accuracy: 0.91 - ETA: 1s - loss: 0.2922 - accuracy: 0.91 - ETA: 1s - loss: 0.2944 - accuracy: 0.91 - ETA: 1s - loss: 0.2961 - accuracy: 0.91 - ETA: 0s - loss: 0.2963 - accuracy: 0.91 - ETA: 0s - loss: 0.2966 - accuracy: 0.91 - ETA: 0s - loss: 0.2950 - accuracy: 0.91 - ETA: 0s - loss: 0.2963 - accuracy: 0.91 - ETA: 0s - loss: 0.2958 - accuracy: 0.91 - ETA: 0s - loss: 0.2967 - accuracy: 0.91 - ETA: 0s - loss: 0.2966 - accuracy: 0.91 - ETA: 0s - loss: 0.2969 - accuracy: 0.91 - ETA: 0s - loss: 0.2966 - accuracy: 0.91 - ETA: 0s - loss: 0.2974 - accuracy: 0.91 - ETA: 0s - loss: 0.2970 - accuracy: 0.91 - ETA: 0s - loss: 0.2985 - accuracy: 0.91 - ETA: 0s - loss: 0.2983 - accuracy: 0.91 - ETA: 0s - loss: 0.2987 - accuracy: 0.91 - ETA: 0s - loss: 0.2995 - accuracy: 0.91 - ETA: 0s - loss: 0.3002 - accuracy: 0.91 - ETA: 0s - loss: 0.2994 - accuracy: 0.91 - ETA: 0s - loss: 0.2985 - accuracy: 0.91 - ETA: 0s - loss: 0.2985 - accuracy: 0.91 - ETA: 0s - loss: 0.2979 - accuracy: 0.91 - ETA: 0s - loss: 0.2987 - accuracy: 0.91 - ETA: 0s - loss: 0.2995 - accuracy: 0.91 - ETA: 0s - loss: 0.2999 - accuracy: 0.91 - ETA: 0s - loss: 0.3001 - accuracy: 0.91 - 3s 2ms/step - loss: 0.3000 - accuracy: 0.9115 - val_loss: 0.5384 - val_accuracy: 0.8581\n",
      "Epoch 19/20\n",
      "1875/1875 [==============================] - ETA: 0s - loss: 0.4059 - accuracy: 0.93 - ETA: 1s - loss: 0.3087 - accuracy: 0.90 - ETA: 1s - loss: 0.3040 - accuracy: 0.90 - ETA: 1s - loss: 0.2972 - accuracy: 0.91 - ETA: 1s - loss: 0.2925 - accuracy: 0.91 - ETA: 1s - loss: 0.2868 - accuracy: 0.91 - ETA: 1s - loss: 0.2834 - accuracy: 0.91 - ETA: 1s - loss: 0.2826 - accuracy: 0.91 - ETA: 1s - loss: 0.2823 - accuracy: 0.91 - ETA: 1s - loss: 0.2847 - accuracy: 0.91 - ETA: 1s - loss: 0.2813 - accuracy: 0.91 - ETA: 1s - loss: 0.2804 - accuracy: 0.91 - ETA: 1s - loss: 0.2810 - accuracy: 0.91 - ETA: 1s - loss: 0.2818 - accuracy: 0.91 - ETA: 1s - loss: 0.2813 - accuracy: 0.91 - ETA: 1s - loss: 0.2795 - accuracy: 0.91 - ETA: 1s - loss: 0.2795 - accuracy: 0.91 - ETA: 1s - loss: 0.2820 - accuracy: 0.91 - ETA: 1s - loss: 0.2828 - accuracy: 0.91 - ETA: 1s - loss: 0.2829 - accuracy: 0.91 - ETA: 1s - loss: 0.2821 - accuracy: 0.91 - ETA: 1s - loss: 0.2815 - accuracy: 0.91 - ETA: 0s - loss: 0.2831 - accuracy: 0.91 - ETA: 0s - loss: 0.2827 - accuracy: 0.91 - ETA: 0s - loss: 0.2829 - accuracy: 0.91 - ETA: 0s - loss: 0.2835 - accuracy: 0.91 - ETA: 0s - loss: 0.2847 - accuracy: 0.91 - ETA: 0s - loss: 0.2850 - accuracy: 0.91 - ETA: 0s - loss: 0.2863 - accuracy: 0.91 - ETA: 0s - loss: 0.2875 - accuracy: 0.91 - ETA: 0s - loss: 0.2885 - accuracy: 0.91 - ETA: 0s - loss: 0.2892 - accuracy: 0.91 - ETA: 0s - loss: 0.2897 - accuracy: 0.91 - ETA: 0s - loss: 0.2903 - accuracy: 0.91 - ETA: 0s - loss: 0.2904 - accuracy: 0.91 - ETA: 0s - loss: 0.2906 - accuracy: 0.91 - ETA: 0s - loss: 0.2917 - accuracy: 0.91 - ETA: 0s - loss: 0.2919 - accuracy: 0.91 - ETA: 0s - loss: 0.2920 - accuracy: 0.91 - ETA: 0s - loss: 0.2921 - accuracy: 0.91 - ETA: 0s - loss: 0.2919 - accuracy: 0.91 - ETA: 0s - loss: 0.2919 - accuracy: 0.91 - ETA: 0s - loss: 0.2919 - accuracy: 0.91 - 3s 2ms/step - loss: 0.2921 - accuracy: 0.9137 - val_loss: 0.5453 - val_accuracy: 0.8613\n",
      "Epoch 20/20\n",
      "1875/1875 [==============================] - ETA: 0s - loss: 0.4176 - accuracy: 0.87 - ETA: 2s - loss: 0.2820 - accuracy: 0.91 - ETA: 2s - loss: 0.2805 - accuracy: 0.91 - ETA: 1s - loss: 0.2861 - accuracy: 0.91 - ETA: 1s - loss: 0.2871 - accuracy: 0.91 - ETA: 1s - loss: 0.2891 - accuracy: 0.91 - ETA: 1s - loss: 0.2893 - accuracy: 0.91 - ETA: 1s - loss: 0.2885 - accuracy: 0.91 - ETA: 1s - loss: 0.2864 - accuracy: 0.91 - ETA: 1s - loss: 0.2902 - accuracy: 0.91 - ETA: 1s - loss: 0.2841 - accuracy: 0.91 - ETA: 1s - loss: 0.2835 - accuracy: 0.91 - ETA: 1s - loss: 0.2809 - accuracy: 0.91 - ETA: 1s - loss: 0.2817 - accuracy: 0.91 - ETA: 1s - loss: 0.2808 - accuracy: 0.91 - ETA: 1s - loss: 0.2820 - accuracy: 0.91 - ETA: 1s - loss: 0.2832 - accuracy: 0.91 - ETA: 1s - loss: 0.2828 - accuracy: 0.91 - ETA: 1s - loss: 0.2833 - accuracy: 0.91 - ETA: 1s - loss: 0.2846 - accuracy: 0.91 - ETA: 1s - loss: 0.2835 - accuracy: 0.91 - ETA: 1s - loss: 0.2838 - accuracy: 0.91 - ETA: 0s - loss: 0.2837 - accuracy: 0.91 - ETA: 0s - loss: 0.2825 - accuracy: 0.91 - ETA: 0s - loss: 0.2822 - accuracy: 0.91 - ETA: 0s - loss: 0.2826 - accuracy: 0.91 - ETA: 0s - loss: 0.2820 - accuracy: 0.91 - ETA: 0s - loss: 0.2834 - accuracy: 0.91 - ETA: 0s - loss: 0.2840 - accuracy: 0.91 - ETA: 0s - loss: 0.2841 - accuracy: 0.91 - ETA: 0s - loss: 0.2850 - accuracy: 0.91 - ETA: 0s - loss: 0.2858 - accuracy: 0.91 - ETA: 0s - loss: 0.2855 - accuracy: 0.91 - ETA: 0s - loss: 0.2846 - accuracy: 0.91 - ETA: 0s - loss: 0.2848 - accuracy: 0.91 - ETA: 0s - loss: 0.2849 - accuracy: 0.91 - ETA: 0s - loss: 0.2859 - accuracy: 0.91 - ETA: 0s - loss: 0.2884 - accuracy: 0.91 - ETA: 0s - loss: 0.2886 - accuracy: 0.91 - ETA: 0s - loss: 0.2884 - accuracy: 0.91 - ETA: 0s - loss: 0.2887 - accuracy: 0.91 - ETA: 0s - loss: 0.2885 - accuracy: 0.91 - 3s 2ms/step - loss: 0.2883 - accuracy: 0.9151 - val_loss: 0.5444 - val_accuracy: 0.8607\n"
     ]
    },
    {
     "data": {
      "text/html": [
       "<span style=\"color:#4527A0\"><h1 style=\"font-size:18px\">Trial complete</h1></span>"
      ],
      "text/plain": [
       "<IPython.core.display.HTML object>"
      ]
     },
     "metadata": {},
     "output_type": "display_data"
    },
    {
     "data": {
      "text/html": [
       "<span style=\"color:#4527A0\"><h1 style=\"font-size:18px\">Trial summary</h1></span>"
      ],
      "text/plain": [
       "<IPython.core.display.HTML object>"
      ]
     },
     "metadata": {},
     "output_type": "display_data"
    },
    {
     "data": {
      "text/html": [
       "<span style=\"color:cyan\"> |-Trial ID: 6d5bc57b21de650dd1a3c6a532201c61</span>"
      ],
      "text/plain": [
       "<IPython.core.display.HTML object>"
      ]
     },
     "metadata": {},
     "output_type": "display_data"
    },
    {
     "data": {
      "text/html": [
       "<span style=\"color:cyan\"> |-Score: 0.8625249862670898</span>"
      ],
      "text/plain": [
       "<IPython.core.display.HTML object>"
      ]
     },
     "metadata": {},
     "output_type": "display_data"
    },
    {
     "data": {
      "text/html": [
       "<span style=\"color:cyan\"> |-Best step: 0</span>"
      ],
      "text/plain": [
       "<IPython.core.display.HTML object>"
      ]
     },
     "metadata": {},
     "output_type": "display_data"
    },
    {
     "data": {
      "text/html": [
       "<span style=\"color:#7E57C2\"><h2 style=\"font-size:16px\">Hyperparameters:</h2></span>"
      ],
      "text/plain": [
       "<IPython.core.display.HTML object>"
      ]
     },
     "metadata": {},
     "output_type": "display_data"
    },
    {
     "data": {
      "text/html": [
       "<span style=\"color:cyan\"> |-drop_rate_0: 0.5</span>"
      ],
      "text/plain": [
       "<IPython.core.display.HTML object>"
      ]
     },
     "metadata": {},
     "output_type": "display_data"
    },
    {
     "data": {
      "text/html": [
       "<span style=\"color:blue\"> |-drop_rate_1: 0.1</span>"
      ],
      "text/plain": [
       "<IPython.core.display.HTML object>"
      ]
     },
     "metadata": {},
     "output_type": "display_data"
    },
    {
     "data": {
      "text/html": [
       "<span style=\"color:cyan\"> |-drop_rate_2: 0.3</span>"
      ],
      "text/plain": [
       "<IPython.core.display.HTML object>"
      ]
     },
     "metadata": {},
     "output_type": "display_data"
    },
    {
     "data": {
      "text/html": [
       "<span style=\"color:blue\"> |-drop_rate_3: 0.9</span>"
      ],
      "text/plain": [
       "<IPython.core.display.HTML object>"
      ]
     },
     "metadata": {},
     "output_type": "display_data"
    },
    {
     "data": {
      "text/html": [
       "<span style=\"color:cyan\"> |-num_layers: 2</span>"
      ],
      "text/plain": [
       "<IPython.core.display.HTML object>"
      ]
     },
     "metadata": {},
     "output_type": "display_data"
    },
    {
     "data": {
      "text/html": [
       "<span style=\"color:blue\"> |-units_0: 56</span>"
      ],
      "text/plain": [
       "<IPython.core.display.HTML object>"
      ]
     },
     "metadata": {},
     "output_type": "display_data"
    },
    {
     "data": {
      "text/html": [
       "<span style=\"color:cyan\"> |-units_1: 40</span>"
      ],
      "text/plain": [
       "<IPython.core.display.HTML object>"
      ]
     },
     "metadata": {},
     "output_type": "display_data"
    },
    {
     "data": {
      "text/html": [
       "<span style=\"color:blue\"> |-units_2: 32</span>"
      ],
      "text/plain": [
       "<IPython.core.display.HTML object>"
      ]
     },
     "metadata": {},
     "output_type": "display_data"
    },
    {
     "data": {
      "text/html": [
       "<span style=\"color:cyan\"> |-units_3: 64</span>"
      ],
      "text/plain": [
       "<IPython.core.display.HTML object>"
      ]
     },
     "metadata": {},
     "output_type": "display_data"
    },
    {
     "data": {
      "text/html": [
       "<span style=\"color:#4527A0\"><h1 style=\"font-size:18px\">Results summary</h1></span>"
      ],
      "text/plain": [
       "<IPython.core.display.HTML object>"
      ]
     },
     "metadata": {},
     "output_type": "display_data"
    },
    {
     "data": {
      "text/html": [
       "<span style=\"color:cyan\"> |-Results in test_dir/tune_nn</span>"
      ],
      "text/plain": [
       "<IPython.core.display.HTML object>"
      ]
     },
     "metadata": {},
     "output_type": "display_data"
    },
    {
     "data": {
      "text/html": [
       "<span style=\"color:cyan\"> |-Showing 10 best trials</span>"
      ],
      "text/plain": [
       "<IPython.core.display.HTML object>"
      ]
     },
     "metadata": {},
     "output_type": "display_data"
    },
    {
     "data": {
      "text/html": [
       "<span style=\"color:cyan\"> |-Objective(name='val_accuracy', direction='max')</span>"
      ],
      "text/plain": [
       "<IPython.core.display.HTML object>"
      ]
     },
     "metadata": {},
     "output_type": "display_data"
    },
    {
     "data": {
      "text/html": [
       "<span style=\"color:#4527A0\"><h1 style=\"font-size:18px\">Trial summary</h1></span>"
      ],
      "text/plain": [
       "<IPython.core.display.HTML object>"
      ]
     },
     "metadata": {},
     "output_type": "display_data"
    },
    {
     "data": {
      "text/html": [
       "<span style=\"color:cyan\"> |-Trial ID: 6d5bc57b21de650dd1a3c6a532201c61</span>"
      ],
      "text/plain": [
       "<IPython.core.display.HTML object>"
      ]
     },
     "metadata": {},
     "output_type": "display_data"
    },
    {
     "data": {
      "text/html": [
       "<span style=\"color:cyan\"> |-Score: 0.8625249862670898</span>"
      ],
      "text/plain": [
       "<IPython.core.display.HTML object>"
      ]
     },
     "metadata": {},
     "output_type": "display_data"
    },
    {
     "data": {
      "text/html": [
       "<span style=\"color:cyan\"> |-Best step: 0</span>"
      ],
      "text/plain": [
       "<IPython.core.display.HTML object>"
      ]
     },
     "metadata": {},
     "output_type": "display_data"
    },
    {
     "data": {
      "text/html": [
       "<span style=\"color:#7E57C2\"><h2 style=\"font-size:16px\">Hyperparameters:</h2></span>"
      ],
      "text/plain": [
       "<IPython.core.display.HTML object>"
      ]
     },
     "metadata": {},
     "output_type": "display_data"
    },
    {
     "data": {
      "text/html": [
       "<span style=\"color:cyan\"> |-drop_rate_0: 0.5</span>"
      ],
      "text/plain": [
       "<IPython.core.display.HTML object>"
      ]
     },
     "metadata": {},
     "output_type": "display_data"
    },
    {
     "data": {
      "text/html": [
       "<span style=\"color:blue\"> |-drop_rate_1: 0.1</span>"
      ],
      "text/plain": [
       "<IPython.core.display.HTML object>"
      ]
     },
     "metadata": {},
     "output_type": "display_data"
    },
    {
     "data": {
      "text/html": [
       "<span style=\"color:cyan\"> |-drop_rate_2: 0.3</span>"
      ],
      "text/plain": [
       "<IPython.core.display.HTML object>"
      ]
     },
     "metadata": {},
     "output_type": "display_data"
    },
    {
     "data": {
      "text/html": [
       "<span style=\"color:blue\"> |-drop_rate_3: 0.9</span>"
      ],
      "text/plain": [
       "<IPython.core.display.HTML object>"
      ]
     },
     "metadata": {},
     "output_type": "display_data"
    },
    {
     "data": {
      "text/html": [
       "<span style=\"color:cyan\"> |-num_layers: 2</span>"
      ],
      "text/plain": [
       "<IPython.core.display.HTML object>"
      ]
     },
     "metadata": {},
     "output_type": "display_data"
    },
    {
     "data": {
      "text/html": [
       "<span style=\"color:blue\"> |-units_0: 56</span>"
      ],
      "text/plain": [
       "<IPython.core.display.HTML object>"
      ]
     },
     "metadata": {},
     "output_type": "display_data"
    },
    {
     "data": {
      "text/html": [
       "<span style=\"color:cyan\"> |-units_1: 40</span>"
      ],
      "text/plain": [
       "<IPython.core.display.HTML object>"
      ]
     },
     "metadata": {},
     "output_type": "display_data"
    },
    {
     "data": {
      "text/html": [
       "<span style=\"color:blue\"> |-units_2: 32</span>"
      ],
      "text/plain": [
       "<IPython.core.display.HTML object>"
      ]
     },
     "metadata": {},
     "output_type": "display_data"
    },
    {
     "data": {
      "text/html": [
       "<span style=\"color:cyan\"> |-units_3: 64</span>"
      ],
      "text/plain": [
       "<IPython.core.display.HTML object>"
      ]
     },
     "metadata": {},
     "output_type": "display_data"
    },
    {
     "data": {
      "text/html": [
       "<span style=\"color:#4527A0\"><h1 style=\"font-size:18px\">Trial summary</h1></span>"
      ],
      "text/plain": [
       "<IPython.core.display.HTML object>"
      ]
     },
     "metadata": {},
     "output_type": "display_data"
    },
    {
     "data": {
      "text/html": [
       "<span style=\"color:cyan\"> |-Trial ID: 9caac5d829bb9eedfdb03d1fad005d75</span>"
      ],
      "text/plain": [
       "<IPython.core.display.HTML object>"
      ]
     },
     "metadata": {},
     "output_type": "display_data"
    },
    {
     "data": {
      "text/html": [
       "<span style=\"color:cyan\"> |-Score: 0.6653375029563904</span>"
      ],
      "text/plain": [
       "<IPython.core.display.HTML object>"
      ]
     },
     "metadata": {},
     "output_type": "display_data"
    },
    {
     "data": {
      "text/html": [
       "<span style=\"color:cyan\"> |-Best step: 0</span>"
      ],
      "text/plain": [
       "<IPython.core.display.HTML object>"
      ]
     },
     "metadata": {},
     "output_type": "display_data"
    },
    {
     "data": {
      "text/html": [
       "<span style=\"color:#7E57C2\"><h2 style=\"font-size:16px\">Hyperparameters:</h2></span>"
      ],
      "text/plain": [
       "<IPython.core.display.HTML object>"
      ]
     },
     "metadata": {},
     "output_type": "display_data"
    },
    {
     "data": {
      "text/html": [
       "<span style=\"color:cyan\"> |-drop_rate_0: 0.6</span>"
      ],
      "text/plain": [
       "<IPython.core.display.HTML object>"
      ]
     },
     "metadata": {},
     "output_type": "display_data"
    },
    {
     "data": {
      "text/html": [
       "<span style=\"color:blue\"> |-drop_rate_1: 0.0</span>"
      ],
      "text/plain": [
       "<IPython.core.display.HTML object>"
      ]
     },
     "metadata": {},
     "output_type": "display_data"
    },
    {
     "data": {
      "text/html": [
       "<span style=\"color:cyan\"> |-drop_rate_2: 0.0</span>"
      ],
      "text/plain": [
       "<IPython.core.display.HTML object>"
      ]
     },
     "metadata": {},
     "output_type": "display_data"
    },
    {
     "data": {
      "text/html": [
       "<span style=\"color:blue\"> |-drop_rate_3: 0.0</span>"
      ],
      "text/plain": [
       "<IPython.core.display.HTML object>"
      ]
     },
     "metadata": {},
     "output_type": "display_data"
    },
    {
     "data": {
      "text/html": [
       "<span style=\"color:cyan\"> |-num_layers: 4</span>"
      ],
      "text/plain": [
       "<IPython.core.display.HTML object>"
      ]
     },
     "metadata": {},
     "output_type": "display_data"
    },
    {
     "data": {
      "text/html": [
       "<span style=\"color:blue\"> |-units_0: 8</span>"
      ],
      "text/plain": [
       "<IPython.core.display.HTML object>"
      ]
     },
     "metadata": {},
     "output_type": "display_data"
    },
    {
     "data": {
      "text/html": [
       "<span style=\"color:cyan\"> |-units_1: 8</span>"
      ],
      "text/plain": [
       "<IPython.core.display.HTML object>"
      ]
     },
     "metadata": {},
     "output_type": "display_data"
    },
    {
     "data": {
      "text/html": [
       "<span style=\"color:blue\"> |-units_2: 8</span>"
      ],
      "text/plain": [
       "<IPython.core.display.HTML object>"
      ]
     },
     "metadata": {},
     "output_type": "display_data"
    },
    {
     "data": {
      "text/html": [
       "<span style=\"color:cyan\"> |-units_3: 8</span>"
      ],
      "text/plain": [
       "<IPython.core.display.HTML object>"
      ]
     },
     "metadata": {},
     "output_type": "display_data"
    },
    {
     "name": "stdout",
     "output_type": "stream",
     "text": [
      "{'drop_rate_0': 0.5,\n",
      " 'drop_rate_1': 0.1,\n",
      " 'drop_rate_2': 0.3,\n",
      " 'drop_rate_3': 0.9,\n",
      " 'num_layers': 2,\n",
      " 'units_0': 56,\n",
      " 'units_1': 40,\n",
      " 'units_2': 32,\n",
      " 'units_3': 64}\n"
     ]
    }
   ],
   "source": [
    "random_search_params(tune_nn_model, \"tune_nn\")"
   ]
  },
  {
   "cell_type": "code",
   "execution_count": 62,
   "metadata": {
    "id": "pWeq1HoGbHC9"
   },
   "outputs": [
    {
     "data": {
      "text/html": [
       "<span style=\"color:#4527A0\"><h1 style=\"font-size:18px\">Search space summary</h1></span>"
      ],
      "text/plain": [
       "<IPython.core.display.HTML object>"
      ]
     },
     "metadata": {},
     "output_type": "display_data"
    },
    {
     "data": {
      "text/html": [
       "<span style=\"color:cyan\"> |-Default search space size: 3</span>"
      ],
      "text/plain": [
       "<IPython.core.display.HTML object>"
      ]
     },
     "metadata": {},
     "output_type": "display_data"
    },
    {
     "data": {
      "text/html": [
       "<span style=\"color:#7E57C2\"><h2 style=\"font-size:16px\">num_layers (Int)</h2></span>"
      ],
      "text/plain": [
       "<IPython.core.display.HTML object>"
      ]
     },
     "metadata": {},
     "output_type": "display_data"
    },
    {
     "data": {
      "text/html": [
       "<span style=\"color:cyan\"> |-default: None</span>"
      ],
      "text/plain": [
       "<IPython.core.display.HTML object>"
      ]
     },
     "metadata": {},
     "output_type": "display_data"
    },
    {
     "data": {
      "text/html": [
       "<span style=\"color:blue\"> |-max_value: 6</span>"
      ],
      "text/plain": [
       "<IPython.core.display.HTML object>"
      ]
     },
     "metadata": {},
     "output_type": "display_data"
    },
    {
     "data": {
      "text/html": [
       "<span style=\"color:cyan\"> |-min_value: 1</span>"
      ],
      "text/plain": [
       "<IPython.core.display.HTML object>"
      ]
     },
     "metadata": {},
     "output_type": "display_data"
    },
    {
     "data": {
      "text/html": [
       "<span style=\"color:blue\"> |-sampling: None</span>"
      ],
      "text/plain": [
       "<IPython.core.display.HTML object>"
      ]
     },
     "metadata": {},
     "output_type": "display_data"
    },
    {
     "data": {
      "text/html": [
       "<span style=\"color:cyan\"> |-step: 1</span>"
      ],
      "text/plain": [
       "<IPython.core.display.HTML object>"
      ]
     },
     "metadata": {},
     "output_type": "display_data"
    },
    {
     "data": {
      "text/html": [
       "<span style=\"color:#7E57C2\"><h2 style=\"font-size:16px\">units_0 (Int)</h2></span>"
      ],
      "text/plain": [
       "<IPython.core.display.HTML object>"
      ]
     },
     "metadata": {},
     "output_type": "display_data"
    },
    {
     "data": {
      "text/html": [
       "<span style=\"color:cyan\"> |-default: None</span>"
      ],
      "text/plain": [
       "<IPython.core.display.HTML object>"
      ]
     },
     "metadata": {},
     "output_type": "display_data"
    },
    {
     "data": {
      "text/html": [
       "<span style=\"color:blue\"> |-max_value: 64</span>"
      ],
      "text/plain": [
       "<IPython.core.display.HTML object>"
      ]
     },
     "metadata": {},
     "output_type": "display_data"
    },
    {
     "data": {
      "text/html": [
       "<span style=\"color:cyan\"> |-min_value: 8</span>"
      ],
      "text/plain": [
       "<IPython.core.display.HTML object>"
      ]
     },
     "metadata": {},
     "output_type": "display_data"
    },
    {
     "data": {
      "text/html": [
       "<span style=\"color:blue\"> |-sampling: None</span>"
      ],
      "text/plain": [
       "<IPython.core.display.HTML object>"
      ]
     },
     "metadata": {},
     "output_type": "display_data"
    },
    {
     "data": {
      "text/html": [
       "<span style=\"color:cyan\"> |-step: 8</span>"
      ],
      "text/plain": [
       "<IPython.core.display.HTML object>"
      ]
     },
     "metadata": {},
     "output_type": "display_data"
    },
    {
     "data": {
      "text/html": [
       "<span style=\"color:#7E57C2\"><h2 style=\"font-size:16px\">drop_rate_0 (Choice)</h2></span>"
      ],
      "text/plain": [
       "<IPython.core.display.HTML object>"
      ]
     },
     "metadata": {},
     "output_type": "display_data"
    },
    {
     "data": {
      "text/html": [
       "<span style=\"color:cyan\"> |-default: 0.0</span>"
      ],
      "text/plain": [
       "<IPython.core.display.HTML object>"
      ]
     },
     "metadata": {},
     "output_type": "display_data"
    },
    {
     "data": {
      "text/html": [
       "<span style=\"color:blue\"> |-ordered: True</span>"
      ],
      "text/plain": [
       "<IPython.core.display.HTML object>"
      ]
     },
     "metadata": {},
     "output_type": "display_data"
    },
    {
     "data": {
      "text/html": [
       "<span style=\"color:cyan\"> |-values: [0.0, 0.1, 0.2, 0.3, 0.4, 0.5, 0.6, 0.7, 0.8, 0.9]</span>"
      ],
      "text/plain": [
       "<IPython.core.display.HTML object>"
      ]
     },
     "metadata": {},
     "output_type": "display_data"
    }
   ],
   "source": [
    "b_tuner = BayesianOptimization(\n",
    "    tune_nn_model,\n",
    "    objective='val_accuracy',\n",
    "    max_trials=MAX_TRIALS,\n",
    "    executions_per_trial=EXECUTIONS_PER_TRIAL,\n",
    "    directory='test_dir', \n",
    "    project_name='b_tune_nn',\n",
    "    seed=RANDOM_SEED\n",
    ")\n",
    "\n",
    "b_tuner.search_space_summary()"
   ]
  },
  {
   "cell_type": "code",
   "execution_count": 63,
   "metadata": {
    "id": "g5nmiGvUtbBR"
   },
   "outputs": [
    {
     "name": "stdout",
     "output_type": "stream",
     "text": [
      "Epoch 1/20\n",
      "1875/1875 [==============================] - ETA: 0s - loss: 2.2702 - accuracy: 0.09 - ETA: 2s - loss: 2.2698 - accuracy: 0.12 - ETA: 2s - loss: 2.2497 - accuracy: 0.12 - ETA: 2s - loss: 2.2435 - accuracy: 0.14 - ETA: 2s - loss: 2.2244 - accuracy: 0.15 - ETA: 1s - loss: 2.2108 - accuracy: 0.15 - ETA: 1s - loss: 2.1972 - accuracy: 0.15 - ETA: 1s - loss: 2.1901 - accuracy: 0.15 - ETA: 1s - loss: 2.1791 - accuracy: 0.16 - ETA: 1s - loss: 2.1704 - accuracy: 0.16 - ETA: 1s - loss: 2.1590 - accuracy: 0.16 - ETA: 1s - loss: 2.1459 - accuracy: 0.16 - ETA: 1s - loss: 2.1389 - accuracy: 0.16 - ETA: 1s - loss: 2.1317 - accuracy: 0.16 - ETA: 1s - loss: 2.1226 - accuracy: 0.17 - ETA: 1s - loss: 2.1156 - accuracy: 0.17 - ETA: 1s - loss: 2.1107 - accuracy: 0.17 - ETA: 1s - loss: 2.1058 - accuracy: 0.17 - ETA: 1s - loss: 2.0996 - accuracy: 0.17 - ETA: 1s - loss: 2.0931 - accuracy: 0.17 - ETA: 1s - loss: 2.0840 - accuracy: 0.17 - ETA: 1s - loss: 2.0751 - accuracy: 0.18 - ETA: 1s - loss: 2.0673 - accuracy: 0.18 - ETA: 1s - loss: 2.0587 - accuracy: 0.18 - ETA: 0s - loss: 2.0493 - accuracy: 0.18 - ETA: 0s - loss: 2.0411 - accuracy: 0.18 - ETA: 0s - loss: 2.0318 - accuracy: 0.19 - ETA: 0s - loss: 2.0246 - accuracy: 0.19 - ETA: 0s - loss: 2.0167 - accuracy: 0.20 - ETA: 0s - loss: 2.0106 - accuracy: 0.20 - ETA: 0s - loss: 2.0039 - accuracy: 0.21 - ETA: 0s - loss: 1.9972 - accuracy: 0.21 - ETA: 0s - loss: 1.9897 - accuracy: 0.21 - ETA: 0s - loss: 1.9827 - accuracy: 0.22 - ETA: 0s - loss: 1.9761 - accuracy: 0.22 - ETA: 0s - loss: 1.9679 - accuracy: 0.23 - ETA: 0s - loss: 1.9611 - accuracy: 0.23 - ETA: 0s - loss: 1.9543 - accuracy: 0.23 - ETA: 0s - loss: 1.9480 - accuracy: 0.24 - ETA: 0s - loss: 1.9419 - accuracy: 0.24 - ETA: 0s - loss: 1.9361 - accuracy: 0.24 - ETA: 0s - loss: 1.9305 - accuracy: 0.25 - ETA: 0s - loss: 1.9256 - accuracy: 0.25 - 3s 2ms/step - loss: 1.9246 - accuracy: 0.2571 - val_loss: 1.5471 - val_accuracy: 0.5293\n",
      "Epoch 2/20\n",
      "1875/1875 [==============================] - ETA: 0s - loss: 1.7249 - accuracy: 0.34 - ETA: 2s - loss: 1.6515 - accuracy: 0.40 - ETA: 2s - loss: 1.6473 - accuracy: 0.41 - ETA: 2s - loss: 1.6436 - accuracy: 0.41 - ETA: 2s - loss: 1.6401 - accuracy: 0.41 - ETA: 2s - loss: 1.6431 - accuracy: 0.41 - ETA: 2s - loss: 1.6389 - accuracy: 0.41 - ETA: 2s - loss: 1.6364 - accuracy: 0.41 - ETA: 1s - loss: 1.6360 - accuracy: 0.41 - ETA: 1s - loss: 1.6391 - accuracy: 0.41 - ETA: 1s - loss: 1.6377 - accuracy: 0.41 - ETA: 1s - loss: 1.6366 - accuracy: 0.41 - ETA: 1s - loss: 1.6381 - accuracy: 0.41 - ETA: 1s - loss: 1.6380 - accuracy: 0.42 - ETA: 1s - loss: 1.6402 - accuracy: 0.42 - ETA: 1s - loss: 1.6384 - accuracy: 0.42 - ETA: 1s - loss: 1.6341 - accuracy: 0.42 - ETA: 1s - loss: 1.6373 - accuracy: 0.42 - ETA: 1s - loss: 1.6360 - accuracy: 0.42 - ETA: 1s - loss: 1.6320 - accuracy: 0.42 - ETA: 1s - loss: 1.6301 - accuracy: 0.42 - ETA: 1s - loss: 1.6303 - accuracy: 0.42 - ETA: 1s - loss: 1.6286 - accuracy: 0.43 - ETA: 1s - loss: 1.6275 - accuracy: 0.43 - ETA: 1s - loss: 1.6252 - accuracy: 0.43 - ETA: 0s - loss: 1.6229 - accuracy: 0.43 - ETA: 0s - loss: 1.6219 - accuracy: 0.43 - ETA: 0s - loss: 1.6194 - accuracy: 0.43 - ETA: 0s - loss: 1.6175 - accuracy: 0.43 - ETA: 0s - loss: 1.6160 - accuracy: 0.43 - ETA: 0s - loss: 1.6154 - accuracy: 0.43 - ETA: 0s - loss: 1.6140 - accuracy: 0.43 - ETA: 0s - loss: 1.6113 - accuracy: 0.43 - ETA: 0s - loss: 1.6079 - accuracy: 0.44 - ETA: 0s - loss: 1.6060 - accuracy: 0.44 - ETA: 0s - loss: 1.6024 - accuracy: 0.44 - ETA: 0s - loss: 1.6015 - accuracy: 0.44 - ETA: 0s - loss: 1.6005 - accuracy: 0.44 - ETA: 0s - loss: 1.5990 - accuracy: 0.44 - ETA: 0s - loss: 1.5980 - accuracy: 0.44 - ETA: 0s - loss: 1.5955 - accuracy: 0.44 - ETA: 0s - loss: 1.5948 - accuracy: 0.44 - ETA: 0s - loss: 1.5922 - accuracy: 0.44 - ETA: 0s - loss: 1.5905 - accuracy: 0.44 - 3s 2ms/step - loss: 1.5905 - accuracy: 0.4487 - val_loss: 1.2731 - val_accuracy: 0.6500\n",
      "Epoch 3/20\n",
      "1875/1875 [==============================] - ETA: 0s - loss: 1.8641 - accuracy: 0.40 - ETA: 2s - loss: 1.5541 - accuracy: 0.46 - ETA: 2s - loss: 1.5336 - accuracy: 0.46 - ETA: 2s - loss: 1.5189 - accuracy: 0.47 - ETA: 2s - loss: 1.5117 - accuracy: 0.48 - ETA: 2s - loss: 1.4952 - accuracy: 0.48 - ETA: 1s - loss: 1.5050 - accuracy: 0.48 - ETA: 1s - loss: 1.4958 - accuracy: 0.48 - ETA: 1s - loss: 1.4991 - accuracy: 0.48 - ETA: 1s - loss: 1.4968 - accuracy: 0.48 - ETA: 1s - loss: 1.4941 - accuracy: 0.48 - ETA: 1s - loss: 1.4919 - accuracy: 0.48 - ETA: 1s - loss: 1.4860 - accuracy: 0.49 - ETA: 1s - loss: 1.4855 - accuracy: 0.49 - ETA: 1s - loss: 1.4869 - accuracy: 0.49 - ETA: 1s - loss: 1.4865 - accuracy: 0.49 - ETA: 1s - loss: 1.4827 - accuracy: 0.49 - ETA: 1s - loss: 1.4847 - accuracy: 0.49 - ETA: 1s - loss: 1.4816 - accuracy: 0.49 - ETA: 1s - loss: 1.4826 - accuracy: 0.49 - ETA: 1s - loss: 1.4830 - accuracy: 0.49 - ETA: 1s - loss: 1.4793 - accuracy: 0.49 - ETA: 1s - loss: 1.4789 - accuracy: 0.49 - ETA: 1s - loss: 1.4772 - accuracy: 0.49 - ETA: 1s - loss: 1.4775 - accuracy: 0.49 - ETA: 0s - loss: 1.4781 - accuracy: 0.49 - ETA: 0s - loss: 1.4763 - accuracy: 0.49 - ETA: 0s - loss: 1.4783 - accuracy: 0.49 - ETA: 0s - loss: 1.4773 - accuracy: 0.49 - ETA: 0s - loss: 1.4752 - accuracy: 0.49 - ETA: 0s - loss: 1.4737 - accuracy: 0.49 - ETA: 0s - loss: 1.4719 - accuracy: 0.49 - ETA: 0s - loss: 1.4702 - accuracy: 0.49 - ETA: 0s - loss: 1.4701 - accuracy: 0.50 - ETA: 0s - loss: 1.4699 - accuracy: 0.50 - ETA: 0s - loss: 1.4688 - accuracy: 0.50 - ETA: 0s - loss: 1.4689 - accuracy: 0.50 - ETA: 0s - loss: 1.4686 - accuracy: 0.50 - ETA: 0s - loss: 1.4682 - accuracy: 0.50 - ETA: 0s - loss: 1.4676 - accuracy: 0.50 - ETA: 0s - loss: 1.4658 - accuracy: 0.50 - ETA: 0s - loss: 1.4661 - accuracy: 0.50 - ETA: 0s - loss: 1.4650 - accuracy: 0.50 - ETA: 0s - loss: 1.4648 - accuracy: 0.50 - ETA: 0s - loss: 1.4642 - accuracy: 0.50 - ETA: 0s - loss: 1.4630 - accuracy: 0.50 - 3s 2ms/step - loss: 1.4626 - accuracy: 0.5049 - val_loss: 1.1806 - val_accuracy: 0.6561\n",
      "Epoch 4/20\n",
      "1875/1875 [==============================] - ETA: 0s - loss: 1.2496 - accuracy: 0.62 - ETA: 1s - loss: 1.4174 - accuracy: 0.52 - ETA: 1s - loss: 1.4184 - accuracy: 0.52 - ETA: 1s - loss: 1.4148 - accuracy: 0.52 - ETA: 1s - loss: 1.4227 - accuracy: 0.52 - ETA: 1s - loss: 1.4225 - accuracy: 0.52 - ETA: 1s - loss: 1.4283 - accuracy: 0.52 - ETA: 1s - loss: 1.4246 - accuracy: 0.52 - ETA: 1s - loss: 1.4155 - accuracy: 0.52 - ETA: 1s - loss: 1.4127 - accuracy: 0.52 - ETA: 1s - loss: 1.4071 - accuracy: 0.52 - ETA: 1s - loss: 1.4111 - accuracy: 0.52 - ETA: 1s - loss: 1.4130 - accuracy: 0.52 - ETA: 1s - loss: 1.4105 - accuracy: 0.53 - ETA: 1s - loss: 1.4092 - accuracy: 0.53 - ETA: 1s - loss: 1.4111 - accuracy: 0.52 - ETA: 1s - loss: 1.4122 - accuracy: 0.52 - ETA: 1s - loss: 1.4115 - accuracy: 0.52 - ETA: 1s - loss: 1.4132 - accuracy: 0.52 - ETA: 1s - loss: 1.4149 - accuracy: 0.52 - ETA: 1s - loss: 1.4145 - accuracy: 0.52 - ETA: 0s - loss: 1.4126 - accuracy: 0.53 - ETA: 0s - loss: 1.4103 - accuracy: 0.53 - ETA: 0s - loss: 1.4097 - accuracy: 0.53 - ETA: 0s - loss: 1.4070 - accuracy: 0.53 - ETA: 0s - loss: 1.4068 - accuracy: 0.53 - ETA: 0s - loss: 1.4053 - accuracy: 0.53 - ETA: 0s - loss: 1.4057 - accuracy: 0.53 - ETA: 0s - loss: 1.4059 - accuracy: 0.53 - ETA: 0s - loss: 1.4059 - accuracy: 0.53 - ETA: 0s - loss: 1.4042 - accuracy: 0.53 - ETA: 0s - loss: 1.4041 - accuracy: 0.53 - ETA: 0s - loss: 1.4018 - accuracy: 0.53 - ETA: 0s - loss: 1.4014 - accuracy: 0.53 - ETA: 0s - loss: 1.4005 - accuracy: 0.53 - ETA: 0s - loss: 1.3996 - accuracy: 0.53 - ETA: 0s - loss: 1.3983 - accuracy: 0.53 - ETA: 0s - loss: 1.3980 - accuracy: 0.53 - ETA: 0s - loss: 1.3972 - accuracy: 0.53 - ETA: 0s - loss: 1.3971 - accuracy: 0.53 - ETA: 0s - loss: 1.3961 - accuracy: 0.53 - ETA: 0s - loss: 1.3949 - accuracy: 0.53 - ETA: 0s - loss: 1.3961 - accuracy: 0.53 - ETA: 0s - loss: 1.3955 - accuracy: 0.53 - ETA: 0s - loss: 1.3958 - accuracy: 0.53 - 3s 2ms/step - loss: 1.3954 - accuracy: 0.5370 - val_loss: 1.1989 - val_accuracy: 0.6413\n",
      "Epoch 5/20\n",
      "1875/1875 [==============================] - ETA: 0s - loss: 1.2759 - accuracy: 0.46 - ETA: 1s - loss: 1.3721 - accuracy: 0.55 - ETA: 1s - loss: 1.3540 - accuracy: 0.55 - ETA: 1s - loss: 1.3462 - accuracy: 0.55 - ETA: 1s - loss: 1.3466 - accuracy: 0.55 - ETA: 1s - loss: 1.3446 - accuracy: 0.56 - ETA: 1s - loss: 1.3431 - accuracy: 0.56 - ETA: 1s - loss: 1.3467 - accuracy: 0.56 - ETA: 1s - loss: 1.3513 - accuracy: 0.56 - ETA: 1s - loss: 1.3508 - accuracy: 0.56 - ETA: 1s - loss: 1.3523 - accuracy: 0.56 - ETA: 1s - loss: 1.3463 - accuracy: 0.56 - ETA: 1s - loss: 1.3448 - accuracy: 0.56 - ETA: 1s - loss: 1.3408 - accuracy: 0.56 - ETA: 1s - loss: 1.3405 - accuracy: 0.56 - ETA: 1s - loss: 1.3420 - accuracy: 0.56 - ETA: 1s - loss: 1.3409 - accuracy: 0.56 - ETA: 1s - loss: 1.3391 - accuracy: 0.56 - ETA: 1s - loss: 1.3345 - accuracy: 0.57 - ETA: 1s - loss: 1.3339 - accuracy: 0.57 - ETA: 1s - loss: 1.3335 - accuracy: 0.57 - ETA: 0s - loss: 1.3335 - accuracy: 0.57 - ETA: 0s - loss: 1.3308 - accuracy: 0.57 - ETA: 0s - loss: 1.3303 - accuracy: 0.57 - ETA: 0s - loss: 1.3298 - accuracy: 0.57 - ETA: 0s - loss: 1.3304 - accuracy: 0.57 - ETA: 0s - loss: 1.3284 - accuracy: 0.57 - ETA: 0s - loss: 1.3269 - accuracy: 0.57 - ETA: 0s - loss: 1.3254 - accuracy: 0.57 - ETA: 0s - loss: 1.3239 - accuracy: 0.58 - ETA: 0s - loss: 1.3241 - accuracy: 0.58 - ETA: 0s - loss: 1.3238 - accuracy: 0.58 - ETA: 0s - loss: 1.3224 - accuracy: 0.58 - ETA: 0s - loss: 1.3221 - accuracy: 0.58 - ETA: 0s - loss: 1.3209 - accuracy: 0.58 - ETA: 0s - loss: 1.3196 - accuracy: 0.58 - ETA: 0s - loss: 1.3189 - accuracy: 0.58 - ETA: 0s - loss: 1.3176 - accuracy: 0.58 - ETA: 0s - loss: 1.3167 - accuracy: 0.58 - ETA: 0s - loss: 1.3166 - accuracy: 0.58 - ETA: 0s - loss: 1.3154 - accuracy: 0.58 - 3s 2ms/step - loss: 1.3153 - accuracy: 0.5837 - val_loss: 1.1566 - val_accuracy: 0.6025\n",
      "Epoch 6/20\n",
      "1875/1875 [==============================] - ETA: 0s - loss: 1.4569 - accuracy: 0.46 - ETA: 2s - loss: 1.2776 - accuracy: 0.60 - ETA: 2s - loss: 1.2817 - accuracy: 0.60 - ETA: 2s - loss: 1.2828 - accuracy: 0.59 - ETA: 2s - loss: 1.2760 - accuracy: 0.60 - ETA: 2s - loss: 1.2865 - accuracy: 0.59 - ETA: 1s - loss: 1.2834 - accuracy: 0.59 - ETA: 1s - loss: 1.2829 - accuracy: 0.59 - ETA: 1s - loss: 1.2800 - accuracy: 0.59 - ETA: 1s - loss: 1.2746 - accuracy: 0.59 - ETA: 1s - loss: 1.2692 - accuracy: 0.60 - ETA: 1s - loss: 1.2667 - accuracy: 0.60 - ETA: 1s - loss: 1.2645 - accuracy: 0.60 - ETA: 1s - loss: 1.2612 - accuracy: 0.60 - ETA: 1s - loss: 1.2611 - accuracy: 0.60 - ETA: 1s - loss: 1.2652 - accuracy: 0.60 - ETA: 1s - loss: 1.2630 - accuracy: 0.60 - ETA: 1s - loss: 1.2642 - accuracy: 0.60 - ETA: 1s - loss: 1.2641 - accuracy: 0.60 - ETA: 1s - loss: 1.2629 - accuracy: 0.60 - ETA: 1s - loss: 1.2626 - accuracy: 0.60 - ETA: 1s - loss: 1.2621 - accuracy: 0.60 - ETA: 1s - loss: 1.2610 - accuracy: 0.60 - ETA: 0s - loss: 1.2604 - accuracy: 0.60 - ETA: 0s - loss: 1.2578 - accuracy: 0.60 - ETA: 0s - loss: 1.2584 - accuracy: 0.60 - ETA: 0s - loss: 1.2589 - accuracy: 0.60 - ETA: 0s - loss: 1.2591 - accuracy: 0.60 - ETA: 0s - loss: 1.2612 - accuracy: 0.60 - ETA: 0s - loss: 1.2617 - accuracy: 0.60 - ETA: 0s - loss: 1.2612 - accuracy: 0.60 - ETA: 0s - loss: 1.2606 - accuracy: 0.60 - ETA: 0s - loss: 1.2591 - accuracy: 0.60 - ETA: 0s - loss: 1.2585 - accuracy: 0.60 - ETA: 0s - loss: 1.2581 - accuracy: 0.60 - ETA: 0s - loss: 1.2579 - accuracy: 0.60 - ETA: 0s - loss: 1.2578 - accuracy: 0.60 - ETA: 0s - loss: 1.2563 - accuracy: 0.60 - ETA: 0s - loss: 1.2558 - accuracy: 0.60 - ETA: 0s - loss: 1.2543 - accuracy: 0.60 - ETA: 0s - loss: 1.2532 - accuracy: 0.60 - ETA: 0s - loss: 1.2536 - accuracy: 0.60 - ETA: 0s - loss: 1.2538 - accuracy: 0.60 - 3s 2ms/step - loss: 1.2536 - accuracy: 0.6054 - val_loss: 1.2998 - val_accuracy: 0.5464\n",
      "Epoch 7/20\n",
      "1875/1875 [==============================] - ETA: 0s - loss: 1.2248 - accuracy: 0.62 - ETA: 2s - loss: 1.2228 - accuracy: 0.62 - ETA: 2s - loss: 1.2233 - accuracy: 0.61 - ETA: 2s - loss: 1.2014 - accuracy: 0.62 - ETA: 2s - loss: 1.2114 - accuracy: 0.61 - ETA: 2s - loss: 1.2140 - accuracy: 0.61 - ETA: 2s - loss: 1.2083 - accuracy: 0.62 - ETA: 2s - loss: 1.2040 - accuracy: 0.61 - ETA: 2s - loss: 1.2028 - accuracy: 0.62 - ETA: 2s - loss: 1.2048 - accuracy: 0.62 - ETA: 1s - loss: 1.2050 - accuracy: 0.62 - ETA: 1s - loss: 1.2068 - accuracy: 0.62 - ETA: 1s - loss: 1.2069 - accuracy: 0.62 - ETA: 1s - loss: 1.2093 - accuracy: 0.62 - ETA: 1s - loss: 1.2083 - accuracy: 0.62 - ETA: 1s - loss: 1.2110 - accuracy: 0.61 - ETA: 1s - loss: 1.2104 - accuracy: 0.61 - ETA: 1s - loss: 1.2070 - accuracy: 0.62 - ETA: 1s - loss: 1.2083 - accuracy: 0.61 - ETA: 1s - loss: 1.2099 - accuracy: 0.61 - ETA: 1s - loss: 1.2135 - accuracy: 0.61 - ETA: 1s - loss: 1.2154 - accuracy: 0.61 - ETA: 1s - loss: 1.2168 - accuracy: 0.61 - ETA: 1s - loss: 1.2152 - accuracy: 0.61 - ETA: 1s - loss: 1.2168 - accuracy: 0.61 - ETA: 1s - loss: 1.2168 - accuracy: 0.61 - ETA: 1s - loss: 1.2178 - accuracy: 0.61 - ETA: 1s - loss: 1.2199 - accuracy: 0.61 - ETA: 1s - loss: 1.2199 - accuracy: 0.61 - ETA: 0s - loss: 1.2195 - accuracy: 0.61 - ETA: 0s - loss: 1.2196 - accuracy: 0.61 - ETA: 0s - loss: 1.2184 - accuracy: 0.61 - ETA: 0s - loss: 1.2187 - accuracy: 0.61 - ETA: 0s - loss: 1.2191 - accuracy: 0.61 - ETA: 0s - loss: 1.2190 - accuracy: 0.61 - ETA: 0s - loss: 1.2199 - accuracy: 0.61 - ETA: 0s - loss: 1.2197 - accuracy: 0.61 - ETA: 0s - loss: 1.2193 - accuracy: 0.61 - ETA: 0s - loss: 1.2188 - accuracy: 0.61 - ETA: 0s - loss: 1.2190 - accuracy: 0.61 - ETA: 0s - loss: 1.2195 - accuracy: 0.61 - ETA: 0s - loss: 1.2196 - accuracy: 0.61 - ETA: 0s - loss: 1.2200 - accuracy: 0.61 - ETA: 0s - loss: 1.2202 - accuracy: 0.61 - ETA: 0s - loss: 1.2195 - accuracy: 0.61 - ETA: 0s - loss: 1.2211 - accuracy: 0.61 - ETA: 0s - loss: 1.2196 - accuracy: 0.61 - 3s 2ms/step - loss: 1.2201 - accuracy: 0.6150 - val_loss: 1.2728 - val_accuracy: 0.5552\n",
      "Epoch 8/20\n",
      "1875/1875 [==============================] - ETA: 0s - loss: 1.0955 - accuracy: 0.68 - ETA: 2s - loss: 1.1712 - accuracy: 0.64 - ETA: 2s - loss: 1.1956 - accuracy: 0.63 - ETA: 2s - loss: 1.2029 - accuracy: 0.62 - ETA: 1s - loss: 1.2086 - accuracy: 0.62 - ETA: 1s - loss: 1.2026 - accuracy: 0.62 - ETA: 1s - loss: 1.2000 - accuracy: 0.62 - ETA: 1s - loss: 1.2041 - accuracy: 0.62 - ETA: 1s - loss: 1.1993 - accuracy: 0.62 - ETA: 1s - loss: 1.1980 - accuracy: 0.62 - ETA: 1s - loss: 1.1987 - accuracy: 0.62 - ETA: 1s - loss: 1.1975 - accuracy: 0.62 - ETA: 1s - loss: 1.1986 - accuracy: 0.62 - ETA: 1s - loss: 1.2046 - accuracy: 0.62 - ETA: 1s - loss: 1.2011 - accuracy: 0.62 - ETA: 1s - loss: 1.2017 - accuracy: 0.62 - ETA: 1s - loss: 1.1978 - accuracy: 0.62 - ETA: 1s - loss: 1.1974 - accuracy: 0.62 - ETA: 1s - loss: 1.1937 - accuracy: 0.62 - ETA: 1s - loss: 1.1942 - accuracy: 0.62 - ETA: 1s - loss: 1.1950 - accuracy: 0.62 - ETA: 1s - loss: 1.1955 - accuracy: 0.62 - ETA: 1s - loss: 1.1952 - accuracy: 0.62 - ETA: 0s - loss: 1.1972 - accuracy: 0.62 - ETA: 0s - loss: 1.1965 - accuracy: 0.62 - ETA: 0s - loss: 1.1951 - accuracy: 0.62 - ETA: 0s - loss: 1.1946 - accuracy: 0.62 - ETA: 0s - loss: 1.1947 - accuracy: 0.62 - ETA: 0s - loss: 1.1947 - accuracy: 0.62 - ETA: 0s - loss: 1.1954 - accuracy: 0.62 - ETA: 0s - loss: 1.1957 - accuracy: 0.62 - ETA: 0s - loss: 1.1956 - accuracy: 0.62 - ETA: 0s - loss: 1.1948 - accuracy: 0.62 - ETA: 0s - loss: 1.1950 - accuracy: 0.62 - ETA: 0s - loss: 1.1961 - accuracy: 0.62 - ETA: 0s - loss: 1.1953 - accuracy: 0.62 - ETA: 0s - loss: 1.1956 - accuracy: 0.62 - ETA: 0s - loss: 1.1972 - accuracy: 0.62 - ETA: 0s - loss: 1.1958 - accuracy: 0.62 - ETA: 0s - loss: 1.1956 - accuracy: 0.62 - ETA: 0s - loss: 1.1959 - accuracy: 0.62 - ETA: 0s - loss: 1.1946 - accuracy: 0.62 - ETA: 0s - loss: 1.1939 - accuracy: 0.62 - ETA: 0s - loss: 1.1933 - accuracy: 0.62 - 3s 2ms/step - loss: 1.1930 - accuracy: 0.6246 - val_loss: 1.2126 - val_accuracy: 0.5821\n",
      "Epoch 9/20\n"
     ]
    },
    {
     "name": "stdout",
     "output_type": "stream",
     "text": [
      "1875/1875 [==============================] - ETA: 0s - loss: 1.4331 - accuracy: 0.50 - ETA: 2s - loss: 1.1834 - accuracy: 0.62 - ETA: 2s - loss: 1.1664 - accuracy: 0.62 - ETA: 2s - loss: 1.1671 - accuracy: 0.62 - ETA: 2s - loss: 1.1660 - accuracy: 0.63 - ETA: 2s - loss: 1.1633 - accuracy: 0.63 - ETA: 1s - loss: 1.1736 - accuracy: 0.62 - ETA: 1s - loss: 1.1756 - accuracy: 0.62 - ETA: 1s - loss: 1.1734 - accuracy: 0.62 - ETA: 1s - loss: 1.1732 - accuracy: 0.62 - ETA: 1s - loss: 1.1698 - accuracy: 0.63 - ETA: 1s - loss: 1.1674 - accuracy: 0.63 - ETA: 1s - loss: 1.1687 - accuracy: 0.63 - ETA: 1s - loss: 1.1710 - accuracy: 0.62 - ETA: 1s - loss: 1.1690 - accuracy: 0.63 - ETA: 1s - loss: 1.1731 - accuracy: 0.63 - ETA: 1s - loss: 1.1742 - accuracy: 0.63 - ETA: 1s - loss: 1.1736 - accuracy: 0.63 - ETA: 1s - loss: 1.1755 - accuracy: 0.62 - ETA: 1s - loss: 1.1761 - accuracy: 0.62 - ETA: 1s - loss: 1.1763 - accuracy: 0.62 - ETA: 1s - loss: 1.1740 - accuracy: 0.62 - ETA: 1s - loss: 1.1762 - accuracy: 0.62 - ETA: 0s - loss: 1.1735 - accuracy: 0.62 - ETA: 0s - loss: 1.1735 - accuracy: 0.62 - ETA: 0s - loss: 1.1731 - accuracy: 0.62 - ETA: 0s - loss: 1.1729 - accuracy: 0.62 - ETA: 0s - loss: 1.1729 - accuracy: 0.62 - ETA: 0s - loss: 1.1722 - accuracy: 0.62 - ETA: 0s - loss: 1.1727 - accuracy: 0.62 - ETA: 0s - loss: 1.1716 - accuracy: 0.62 - ETA: 0s - loss: 1.1704 - accuracy: 0.63 - ETA: 0s - loss: 1.1704 - accuracy: 0.63 - ETA: 0s - loss: 1.1707 - accuracy: 0.63 - ETA: 0s - loss: 1.1711 - accuracy: 0.63 - ETA: 0s - loss: 1.1706 - accuracy: 0.63 - ETA: 0s - loss: 1.1686 - accuracy: 0.63 - ETA: 0s - loss: 1.1682 - accuracy: 0.63 - ETA: 0s - loss: 1.1679 - accuracy: 0.63 - ETA: 0s - loss: 1.1677 - accuracy: 0.63 - ETA: 0s - loss: 1.1686 - accuracy: 0.63 - ETA: 0s - loss: 1.1680 - accuracy: 0.63 - ETA: 0s - loss: 1.1684 - accuracy: 0.63 - 3s 2ms/step - loss: 1.1692 - accuracy: 0.6316 - val_loss: 1.3043 - val_accuracy: 0.5505\n",
      "Epoch 10/20\n",
      "1875/1875 [==============================] - ETA: 0s - loss: 1.2916 - accuracy: 0.56 - ETA: 2s - loss: 1.1344 - accuracy: 0.64 - ETA: 2s - loss: 1.1252 - accuracy: 0.65 - ETA: 1s - loss: 1.1405 - accuracy: 0.64 - ETA: 1s - loss: 1.1563 - accuracy: 0.64 - ETA: 1s - loss: 1.1537 - accuracy: 0.64 - ETA: 1s - loss: 1.1624 - accuracy: 0.64 - ETA: 1s - loss: 1.1635 - accuracy: 0.63 - ETA: 1s - loss: 1.1709 - accuracy: 0.63 - ETA: 1s - loss: 1.1658 - accuracy: 0.63 - ETA: 1s - loss: 1.1630 - accuracy: 0.63 - ETA: 1s - loss: 1.1656 - accuracy: 0.63 - ETA: 1s - loss: 1.1651 - accuracy: 0.63 - ETA: 1s - loss: 1.1613 - accuracy: 0.63 - ETA: 1s - loss: 1.1581 - accuracy: 0.63 - ETA: 1s - loss: 1.1579 - accuracy: 0.63 - ETA: 1s - loss: 1.1553 - accuracy: 0.63 - ETA: 1s - loss: 1.1545 - accuracy: 0.63 - ETA: 1s - loss: 1.1552 - accuracy: 0.63 - ETA: 1s - loss: 1.1546 - accuracy: 0.63 - ETA: 1s - loss: 1.1544 - accuracy: 0.63 - ETA: 1s - loss: 1.1546 - accuracy: 0.63 - ETA: 1s - loss: 1.1577 - accuracy: 0.63 - ETA: 1s - loss: 1.1579 - accuracy: 0.63 - ETA: 1s - loss: 1.1581 - accuracy: 0.63 - ETA: 1s - loss: 1.1554 - accuracy: 0.63 - ETA: 0s - loss: 1.1564 - accuracy: 0.63 - ETA: 0s - loss: 1.1555 - accuracy: 0.63 - ETA: 0s - loss: 1.1527 - accuracy: 0.63 - ETA: 0s - loss: 1.1515 - accuracy: 0.63 - ETA: 0s - loss: 1.1540 - accuracy: 0.63 - ETA: 0s - loss: 1.1547 - accuracy: 0.63 - ETA: 0s - loss: 1.1543 - accuracy: 0.63 - ETA: 0s - loss: 1.1563 - accuracy: 0.63 - ETA: 0s - loss: 1.1563 - accuracy: 0.63 - ETA: 0s - loss: 1.1564 - accuracy: 0.63 - ETA: 0s - loss: 1.1553 - accuracy: 0.63 - ETA: 0s - loss: 1.1553 - accuracy: 0.63 - ETA: 0s - loss: 1.1570 - accuracy: 0.63 - ETA: 0s - loss: 1.1565 - accuracy: 0.63 - ETA: 0s - loss: 1.1580 - accuracy: 0.63 - ETA: 0s - loss: 1.1578 - accuracy: 0.63 - ETA: 0s - loss: 1.1572 - accuracy: 0.63 - ETA: 0s - loss: 1.1547 - accuracy: 0.63 - ETA: 0s - loss: 1.1551 - accuracy: 0.63 - ETA: 0s - loss: 1.1549 - accuracy: 0.63 - 3s 2ms/step - loss: 1.1550 - accuracy: 0.6386 - val_loss: 1.2627 - val_accuracy: 0.5529\n",
      "Epoch 11/20\n",
      "1875/1875 [==============================] - ETA: 0s - loss: 1.0473 - accuracy: 0.65 - ETA: 2s - loss: 1.1038 - accuracy: 0.64 - ETA: 2s - loss: 1.1002 - accuracy: 0.65 - ETA: 2s - loss: 1.1101 - accuracy: 0.65 - ETA: 2s - loss: 1.1165 - accuracy: 0.64 - ETA: 2s - loss: 1.1225 - accuracy: 0.64 - ETA: 2s - loss: 1.1299 - accuracy: 0.64 - ETA: 2s - loss: 1.1207 - accuracy: 0.64 - ETA: 2s - loss: 1.1171 - accuracy: 0.64 - ETA: 2s - loss: 1.1182 - accuracy: 0.64 - ETA: 2s - loss: 1.1151 - accuracy: 0.64 - ETA: 1s - loss: 1.1159 - accuracy: 0.64 - ETA: 1s - loss: 1.1175 - accuracy: 0.64 - ETA: 1s - loss: 1.1197 - accuracy: 0.64 - ETA: 1s - loss: 1.1209 - accuracy: 0.64 - ETA: 1s - loss: 1.1222 - accuracy: 0.64 - ETA: 1s - loss: 1.1246 - accuracy: 0.64 - ETA: 1s - loss: 1.1279 - accuracy: 0.64 - ETA: 1s - loss: 1.1318 - accuracy: 0.64 - ETA: 1s - loss: 1.1314 - accuracy: 0.64 - ETA: 1s - loss: 1.1329 - accuracy: 0.64 - ETA: 1s - loss: 1.1301 - accuracy: 0.64 - ETA: 1s - loss: 1.1328 - accuracy: 0.64 - ETA: 1s - loss: 1.1332 - accuracy: 0.64 - ETA: 1s - loss: 1.1340 - accuracy: 0.64 - ETA: 1s - loss: 1.1356 - accuracy: 0.64 - ETA: 1s - loss: 1.1366 - accuracy: 0.64 - ETA: 0s - loss: 1.1376 - accuracy: 0.64 - ETA: 0s - loss: 1.1375 - accuracy: 0.64 - ETA: 0s - loss: 1.1350 - accuracy: 0.64 - ETA: 0s - loss: 1.1344 - accuracy: 0.64 - ETA: 0s - loss: 1.1364 - accuracy: 0.64 - ETA: 0s - loss: 1.1344 - accuracy: 0.64 - ETA: 0s - loss: 1.1342 - accuracy: 0.64 - ETA: 0s - loss: 1.1346 - accuracy: 0.64 - ETA: 0s - loss: 1.1343 - accuracy: 0.64 - ETA: 0s - loss: 1.1370 - accuracy: 0.64 - ETA: 0s - loss: 1.1376 - accuracy: 0.64 - ETA: 0s - loss: 1.1380 - accuracy: 0.64 - ETA: 0s - loss: 1.1371 - accuracy: 0.64 - ETA: 0s - loss: 1.1366 - accuracy: 0.64 - ETA: 0s - loss: 1.1361 - accuracy: 0.64 - ETA: 0s - loss: 1.1354 - accuracy: 0.64 - ETA: 0s - loss: 1.1358 - accuracy: 0.64 - ETA: 0s - loss: 1.1344 - accuracy: 0.64 - 3s 2ms/step - loss: 1.1356 - accuracy: 0.6460 - val_loss: 1.2456 - val_accuracy: 0.5952\n",
      "Epoch 12/20\n",
      "1875/1875 [==============================] - ETA: 0s - loss: 1.2147 - accuracy: 0.53 - ETA: 2s - loss: 1.0917 - accuracy: 0.64 - ETA: 2s - loss: 1.1086 - accuracy: 0.65 - ETA: 2s - loss: 1.1060 - accuracy: 0.65 - ETA: 2s - loss: 1.1100 - accuracy: 0.64 - ETA: 2s - loss: 1.1158 - accuracy: 0.64 - ETA: 2s - loss: 1.1174 - accuracy: 0.64 - ETA: 2s - loss: 1.1202 - accuracy: 0.64 - ETA: 2s - loss: 1.1174 - accuracy: 0.64 - ETA: 2s - loss: 1.1198 - accuracy: 0.64 - ETA: 1s - loss: 1.1210 - accuracy: 0.64 - ETA: 1s - loss: 1.1231 - accuracy: 0.64 - ETA: 1s - loss: 1.1210 - accuracy: 0.64 - ETA: 1s - loss: 1.1184 - accuracy: 0.64 - ETA: 1s - loss: 1.1168 - accuracy: 0.65 - ETA: 1s - loss: 1.1169 - accuracy: 0.65 - ETA: 1s - loss: 1.1162 - accuracy: 0.65 - ETA: 1s - loss: 1.1191 - accuracy: 0.65 - ETA: 1s - loss: 1.1183 - accuracy: 0.64 - ETA: 1s - loss: 1.1181 - accuracy: 0.64 - ETA: 1s - loss: 1.1217 - accuracy: 0.64 - ETA: 1s - loss: 1.1210 - accuracy: 0.64 - ETA: 1s - loss: 1.1224 - accuracy: 0.64 - ETA: 1s - loss: 1.1199 - accuracy: 0.65 - ETA: 1s - loss: 1.1194 - accuracy: 0.65 - ETA: 1s - loss: 1.1175 - accuracy: 0.65 - ETA: 1s - loss: 1.1209 - accuracy: 0.64 - ETA: 1s - loss: 1.1232 - accuracy: 0.64 - ETA: 1s - loss: 1.1248 - accuracy: 0.64 - ETA: 1s - loss: 1.1224 - accuracy: 0.64 - ETA: 1s - loss: 1.1225 - accuracy: 0.65 - ETA: 1s - loss: 1.1227 - accuracy: 0.65 - ETA: 0s - loss: 1.1218 - accuracy: 0.65 - ETA: 0s - loss: 1.1244 - accuracy: 0.65 - ETA: 0s - loss: 1.1253 - accuracy: 0.64 - ETA: 0s - loss: 1.1255 - accuracy: 0.64 - ETA: 0s - loss: 1.1251 - accuracy: 0.64 - ETA: 0s - loss: 1.1247 - accuracy: 0.64 - ETA: 0s - loss: 1.1252 - accuracy: 0.64 - ETA: 0s - loss: 1.1239 - accuracy: 0.64 - ETA: 0s - loss: 1.1240 - accuracy: 0.64 - ETA: 0s - loss: 1.1244 - accuracy: 0.64 - ETA: 0s - loss: 1.1247 - accuracy: 0.64 - ETA: 0s - loss: 1.1242 - accuracy: 0.65 - ETA: 0s - loss: 1.1243 - accuracy: 0.65 - ETA: 0s - loss: 1.1244 - accuracy: 0.65 - ETA: 0s - loss: 1.1254 - accuracy: 0.65 - ETA: 0s - loss: 1.1247 - accuracy: 0.65 - ETA: 0s - loss: 1.1252 - accuracy: 0.65 - 3s 2ms/step - loss: 1.1260 - accuracy: 0.6499 - val_loss: 1.2272 - val_accuracy: 0.5922\n"
     ]
    },
    {
     "name": "stdout",
     "output_type": "stream",
     "text": [
      "Epoch 13/20\n",
      "1875/1875 [==============================] - ETA: 0s - loss: 0.8010 - accuracy: 0.68 - ETA: 2s - loss: 1.1596 - accuracy: 0.64 - ETA: 2s - loss: 1.1560 - accuracy: 0.63 - ETA: 2s - loss: 1.1241 - accuracy: 0.64 - ETA: 1s - loss: 1.1102 - accuracy: 0.64 - ETA: 1s - loss: 1.1099 - accuracy: 0.65 - ETA: 1s - loss: 1.1071 - accuracy: 0.65 - ETA: 1s - loss: 1.1152 - accuracy: 0.64 - ETA: 1s - loss: 1.1127 - accuracy: 0.65 - ETA: 1s - loss: 1.1108 - accuracy: 0.65 - ETA: 1s - loss: 1.1109 - accuracy: 0.65 - ETA: 1s - loss: 1.1070 - accuracy: 0.65 - ETA: 1s - loss: 1.1093 - accuracy: 0.65 - ETA: 1s - loss: 1.1085 - accuracy: 0.65 - ETA: 1s - loss: 1.1076 - accuracy: 0.65 - ETA: 1s - loss: 1.1058 - accuracy: 0.65 - ETA: 1s - loss: 1.1044 - accuracy: 0.65 - ETA: 1s - loss: 1.1050 - accuracy: 0.65 - ETA: 1s - loss: 1.1041 - accuracy: 0.65 - ETA: 1s - loss: 1.1044 - accuracy: 0.65 - ETA: 1s - loss: 1.1008 - accuracy: 0.65 - ETA: 1s - loss: 1.1019 - accuracy: 0.65 - ETA: 1s - loss: 1.1015 - accuracy: 0.65 - ETA: 1s - loss: 1.1014 - accuracy: 0.65 - ETA: 1s - loss: 1.1054 - accuracy: 0.65 - ETA: 0s - loss: 1.1066 - accuracy: 0.65 - ETA: 0s - loss: 1.1082 - accuracy: 0.65 - ETA: 0s - loss: 1.1077 - accuracy: 0.65 - ETA: 0s - loss: 1.1070 - accuracy: 0.65 - ETA: 0s - loss: 1.1068 - accuracy: 0.65 - ETA: 0s - loss: 1.1084 - accuracy: 0.65 - ETA: 0s - loss: 1.1103 - accuracy: 0.65 - ETA: 0s - loss: 1.1131 - accuracy: 0.65 - ETA: 0s - loss: 1.1135 - accuracy: 0.65 - ETA: 0s - loss: 1.1128 - accuracy: 0.65 - ETA: 0s - loss: 1.1128 - accuracy: 0.65 - ETA: 0s - loss: 1.1132 - accuracy: 0.65 - ETA: 0s - loss: 1.1135 - accuracy: 0.65 - ETA: 0s - loss: 1.1131 - accuracy: 0.65 - ETA: 0s - loss: 1.1143 - accuracy: 0.65 - ETA: 0s - loss: 1.1142 - accuracy: 0.65 - ETA: 0s - loss: 1.1148 - accuracy: 0.65 - ETA: 0s - loss: 1.1146 - accuracy: 0.65 - ETA: 0s - loss: 1.1145 - accuracy: 0.65 - ETA: 0s - loss: 1.1144 - accuracy: 0.65 - ETA: 0s - loss: 1.1153 - accuracy: 0.65 - 3s 2ms/step - loss: 1.1150 - accuracy: 0.6530 - val_loss: 1.2205 - val_accuracy: 0.5655\n",
      "Epoch 14/20\n",
      "1875/1875 [==============================] - ETA: 0s - loss: 1.0924 - accuracy: 0.65 - ETA: 2s - loss: 1.1139 - accuracy: 0.65 - ETA: 2s - loss: 1.1263 - accuracy: 0.65 - ETA: 1s - loss: 1.1096 - accuracy: 0.66 - ETA: 1s - loss: 1.1163 - accuracy: 0.65 - ETA: 1s - loss: 1.1280 - accuracy: 0.65 - ETA: 1s - loss: 1.1178 - accuracy: 0.65 - ETA: 1s - loss: 1.1145 - accuracy: 0.65 - ETA: 1s - loss: 1.1046 - accuracy: 0.65 - ETA: 1s - loss: 1.1023 - accuracy: 0.65 - ETA: 1s - loss: 1.0996 - accuracy: 0.65 - ETA: 1s - loss: 1.1019 - accuracy: 0.65 - ETA: 1s - loss: 1.0997 - accuracy: 0.65 - ETA: 1s - loss: 1.1027 - accuracy: 0.65 - ETA: 1s - loss: 1.1018 - accuracy: 0.65 - ETA: 1s - loss: 1.1059 - accuracy: 0.65 - ETA: 1s - loss: 1.1081 - accuracy: 0.65 - ETA: 1s - loss: 1.1083 - accuracy: 0.65 - ETA: 1s - loss: 1.1077 - accuracy: 0.65 - ETA: 1s - loss: 1.1083 - accuracy: 0.65 - ETA: 1s - loss: 1.1080 - accuracy: 0.65 - ETA: 1s - loss: 1.1089 - accuracy: 0.65 - ETA: 1s - loss: 1.1074 - accuracy: 0.65 - ETA: 0s - loss: 1.1075 - accuracy: 0.65 - ETA: 0s - loss: 1.1071 - accuracy: 0.65 - ETA: 0s - loss: 1.1075 - accuracy: 0.65 - ETA: 0s - loss: 1.1082 - accuracy: 0.65 - ETA: 0s - loss: 1.1075 - accuracy: 0.65 - ETA: 0s - loss: 1.1068 - accuracy: 0.65 - ETA: 0s - loss: 1.1066 - accuracy: 0.65 - ETA: 0s - loss: 1.1060 - accuracy: 0.65 - ETA: 0s - loss: 1.1075 - accuracy: 0.65 - ETA: 0s - loss: 1.1062 - accuracy: 0.65 - ETA: 0s - loss: 1.1069 - accuracy: 0.65 - ETA: 0s - loss: 1.1079 - accuracy: 0.65 - ETA: 0s - loss: 1.1073 - accuracy: 0.65 - ETA: 0s - loss: 1.1059 - accuracy: 0.65 - ETA: 0s - loss: 1.1057 - accuracy: 0.65 - ETA: 0s - loss: 1.1041 - accuracy: 0.65 - ETA: 0s - loss: 1.1042 - accuracy: 0.65 - ETA: 0s - loss: 1.1036 - accuracy: 0.65 - ETA: 0s - loss: 1.1034 - accuracy: 0.65 - 3s 2ms/step - loss: 1.1028 - accuracy: 0.6555 - val_loss: 1.2016 - val_accuracy: 0.6054\n",
      "Epoch 15/20\n",
      "1875/1875 [==============================] - ETA: 0s - loss: 0.8948 - accuracy: 0.68 - ETA: 3s - loss: 0.9774 - accuracy: 0.69 - ETA: 2s - loss: 1.0388 - accuracy: 0.67 - ETA: 2s - loss: 1.0618 - accuracy: 0.67 - ETA: 2s - loss: 1.0827 - accuracy: 0.67 - ETA: 2s - loss: 1.0863 - accuracy: 0.66 - ETA: 1s - loss: 1.0892 - accuracy: 0.66 - ETA: 1s - loss: 1.0947 - accuracy: 0.66 - ETA: 1s - loss: 1.0953 - accuracy: 0.66 - ETA: 1s - loss: 1.0952 - accuracy: 0.66 - ETA: 1s - loss: 1.0957 - accuracy: 0.66 - ETA: 1s - loss: 1.1010 - accuracy: 0.66 - ETA: 1s - loss: 1.1000 - accuracy: 0.66 - ETA: 1s - loss: 1.0961 - accuracy: 0.66 - ETA: 1s - loss: 1.1022 - accuracy: 0.66 - ETA: 1s - loss: 1.1014 - accuracy: 0.66 - ETA: 1s - loss: 1.1013 - accuracy: 0.66 - ETA: 1s - loss: 1.1018 - accuracy: 0.66 - ETA: 1s - loss: 1.1008 - accuracy: 0.66 - ETA: 1s - loss: 1.1031 - accuracy: 0.66 - ETA: 1s - loss: 1.1053 - accuracy: 0.66 - ETA: 1s - loss: 1.1021 - accuracy: 0.66 - ETA: 0s - loss: 1.1007 - accuracy: 0.66 - ETA: 0s - loss: 1.1018 - accuracy: 0.66 - ETA: 0s - loss: 1.1027 - accuracy: 0.66 - ETA: 0s - loss: 1.1021 - accuracy: 0.66 - ETA: 0s - loss: 1.1018 - accuracy: 0.66 - ETA: 0s - loss: 1.1010 - accuracy: 0.66 - ETA: 0s - loss: 1.1013 - accuracy: 0.66 - ETA: 0s - loss: 1.1020 - accuracy: 0.66 - ETA: 0s - loss: 1.1016 - accuracy: 0.65 - ETA: 0s - loss: 1.1017 - accuracy: 0.66 - ETA: 0s - loss: 1.1026 - accuracy: 0.66 - ETA: 0s - loss: 1.1017 - accuracy: 0.66 - ETA: 0s - loss: 1.0998 - accuracy: 0.66 - ETA: 0s - loss: 1.0986 - accuracy: 0.66 - ETA: 0s - loss: 1.0991 - accuracy: 0.66 - ETA: 0s - loss: 1.0987 - accuracy: 0.66 - ETA: 0s - loss: 1.0983 - accuracy: 0.66 - ETA: 0s - loss: 1.0985 - accuracy: 0.66 - ETA: 0s - loss: 1.1016 - accuracy: 0.65 - 3s 1ms/step - loss: 1.1020 - accuracy: 0.6593 - val_loss: 1.1292 - val_accuracy: 0.6383\n",
      "Epoch 16/20\n",
      "1875/1875 [==============================] - ETA: 0s - loss: 0.9359 - accuracy: 0.68 - ETA: 2s - loss: 1.1588 - accuracy: 0.63 - ETA: 1s - loss: 1.1162 - accuracy: 0.64 - ETA: 1s - loss: 1.1206 - accuracy: 0.65 - ETA: 1s - loss: 1.0986 - accuracy: 0.65 - ETA: 1s - loss: 1.1021 - accuracy: 0.65 - ETA: 1s - loss: 1.0985 - accuracy: 0.65 - ETA: 1s - loss: 1.0955 - accuracy: 0.65 - ETA: 1s - loss: 1.0987 - accuracy: 0.66 - ETA: 1s - loss: 1.1042 - accuracy: 0.65 - ETA: 1s - loss: 1.1080 - accuracy: 0.65 - ETA: 1s - loss: 1.1034 - accuracy: 0.65 - ETA: 1s - loss: 1.1024 - accuracy: 0.65 - ETA: 1s - loss: 1.0988 - accuracy: 0.66 - ETA: 1s - loss: 1.1010 - accuracy: 0.66 - ETA: 1s - loss: 1.1021 - accuracy: 0.65 - ETA: 1s - loss: 1.0966 - accuracy: 0.65 - ETA: 1s - loss: 1.0977 - accuracy: 0.65 - ETA: 1s - loss: 1.0941 - accuracy: 0.66 - ETA: 1s - loss: 1.0942 - accuracy: 0.66 - ETA: 1s - loss: 1.0945 - accuracy: 0.66 - ETA: 1s - loss: 1.0936 - accuracy: 0.66 - ETA: 1s - loss: 1.0955 - accuracy: 0.66 - ETA: 1s - loss: 1.0981 - accuracy: 0.66 - ETA: 1s - loss: 1.0968 - accuracy: 0.66 - ETA: 0s - loss: 1.0952 - accuracy: 0.66 - ETA: 0s - loss: 1.0952 - accuracy: 0.66 - ETA: 0s - loss: 1.0954 - accuracy: 0.66 - ETA: 0s - loss: 1.0959 - accuracy: 0.66 - ETA: 0s - loss: 1.0973 - accuracy: 0.66 - ETA: 0s - loss: 1.0996 - accuracy: 0.65 - ETA: 0s - loss: 1.0995 - accuracy: 0.65 - ETA: 0s - loss: 1.0982 - accuracy: 0.65 - ETA: 0s - loss: 1.0967 - accuracy: 0.66 - ETA: 0s - loss: 1.0966 - accuracy: 0.66 - ETA: 0s - loss: 1.0965 - accuracy: 0.66 - ETA: 0s - loss: 1.0957 - accuracy: 0.66 - ETA: 0s - loss: 1.0957 - accuracy: 0.66 - ETA: 0s - loss: 1.0956 - accuracy: 0.66 - ETA: 0s - loss: 1.0957 - accuracy: 0.66 - ETA: 0s - loss: 1.0958 - accuracy: 0.66 - ETA: 0s - loss: 1.0963 - accuracy: 0.66 - ETA: 0s - loss: 1.0963 - accuracy: 0.66 - ETA: 0s - loss: 1.0967 - accuracy: 0.66 - 3s 2ms/step - loss: 1.0960 - accuracy: 0.6606 - val_loss: 1.2194 - val_accuracy: 0.6030\n",
      "Epoch 17/20\n",
      "1875/1875 [==============================] - ETA: 0s - loss: 1.1080 - accuracy: 0.71 - ETA: 1s - loss: 1.1336 - accuracy: 0.65 - ETA: 1s - loss: 1.0733 - accuracy: 0.66 - ETA: 2s - loss: 1.0803 - accuracy: 0.66 - ETA: 1s - loss: 1.0739 - accuracy: 0.67 - ETA: 1s - loss: 1.0726 - accuracy: 0.66 - ETA: 1s - loss: 1.0697 - accuracy: 0.67 - ETA: 1s - loss: 1.0676 - accuracy: 0.67 - ETA: 1s - loss: 1.0664 - accuracy: 0.67 - ETA: 1s - loss: 1.0737 - accuracy: 0.66 - ETA: 1s - loss: 1.0766 - accuracy: 0.66 - ETA: 1s - loss: 1.0762 - accuracy: 0.67 - ETA: 1s - loss: 1.0760 - accuracy: 0.67 - ETA: 1s - loss: 1.0756 - accuracy: 0.67 - ETA: 1s - loss: 1.0741 - accuracy: 0.67 - ETA: 1s - loss: 1.0719 - accuracy: 0.67 - ETA: 1s - loss: 1.0738 - accuracy: 0.66 - ETA: 1s - loss: 1.0719 - accuracy: 0.67 - ETA: 1s - loss: 1.0711 - accuracy: 0.67 - ETA: 1s - loss: 1.0728 - accuracy: 0.66 - ETA: 1s - loss: 1.0722 - accuracy: 0.66 - ETA: 1s - loss: 1.0717 - accuracy: 0.67 - ETA: 1s - loss: 1.0736 - accuracy: 0.66 - ETA: 1s - loss: 1.0730 - accuracy: 0.66 - ETA: 0s - loss: 1.0743 - accuracy: 0.66 - ETA: 0s - loss: 1.0745 - accuracy: 0.66 - ETA: 0s - loss: 1.0747 - accuracy: 0.66 - ETA: 0s - loss: 1.0745 - accuracy: 0.66 - ETA: 0s - loss: 1.0751 - accuracy: 0.66 - ETA: 0s - loss: 1.0756 - accuracy: 0.66 - ETA: 0s - loss: 1.0779 - accuracy: 0.66 - ETA: 0s - loss: 1.0747 - accuracy: 0.66 - ETA: 0s - loss: 1.0741 - accuracy: 0.66 - ETA: 0s - loss: 1.0743 - accuracy: 0.66 - ETA: 0s - loss: 1.0741 - accuracy: 0.66 - ETA: 0s - loss: 1.0744 - accuracy: 0.66 - ETA: 0s - loss: 1.0747 - accuracy: 0.66 - ETA: 0s - loss: 1.0757 - accuracy: 0.66 - ETA: 0s - loss: 1.0762 - accuracy: 0.66 - ETA: 0s - loss: 1.0769 - accuracy: 0.66 - ETA: 0s - loss: 1.0764 - accuracy: 0.66 - ETA: 0s - loss: 1.0755 - accuracy: 0.66 - ETA: 0s - loss: 1.0758 - accuracy: 0.66 - ETA: 0s - loss: 1.0757 - accuracy: 0.66 - ETA: 0s - loss: 1.0754 - accuracy: 0.66 - 3s 2ms/step - loss: 1.0762 - accuracy: 0.6678 - val_loss: 1.1961 - val_accuracy: 0.5988\n",
      "Epoch 18/20\n",
      "1875/1875 [==============================] - ETA: 0s - loss: 1.0768 - accuracy: 0.62 - ETA: 1s - loss: 1.0625 - accuracy: 0.66 - ETA: 1s - loss: 1.0728 - accuracy: 0.66 - ETA: 1s - loss: 1.0616 - accuracy: 0.66 - ETA: 1s - loss: 1.0555 - accuracy: 0.66 - ETA: 1s - loss: 1.0549 - accuracy: 0.66 - ETA: 1s - loss: 1.0610 - accuracy: 0.66 - ETA: 1s - loss: 1.0683 - accuracy: 0.66 - ETA: 1s - loss: 1.0706 - accuracy: 0.66 - ETA: 1s - loss: 1.0794 - accuracy: 0.66 - ETA: 1s - loss: 1.0827 - accuracy: 0.66 - ETA: 1s - loss: 1.0806 - accuracy: 0.66 - ETA: 1s - loss: 1.0804 - accuracy: 0.66 - ETA: 1s - loss: 1.0789 - accuracy: 0.66 - ETA: 1s - loss: 1.0799 - accuracy: 0.66 - ETA: 1s - loss: 1.0778 - accuracy: 0.66 - ETA: 1s - loss: 1.0740 - accuracy: 0.66 - ETA: 1s - loss: 1.0744 - accuracy: 0.66 - ETA: 1s - loss: 1.0757 - accuracy: 0.66 - ETA: 1s - loss: 1.0752 - accuracy: 0.66 - ETA: 1s - loss: 1.0757 - accuracy: 0.66 - ETA: 0s - loss: 1.0745 - accuracy: 0.66 - ETA: 0s - loss: 1.0742 - accuracy: 0.66 - ETA: 0s - loss: 1.0730 - accuracy: 0.66 - ETA: 0s - loss: 1.0756 - accuracy: 0.66 - ETA: 0s - loss: 1.0761 - accuracy: 0.66 - ETA: 0s - loss: 1.0743 - accuracy: 0.66 - ETA: 0s - loss: 1.0746 - accuracy: 0.66 - ETA: 0s - loss: 1.0746 - accuracy: 0.66 - ETA: 0s - loss: 1.0741 - accuracy: 0.66 - ETA: 0s - loss: 1.0758 - accuracy: 0.66 - ETA: 0s - loss: 1.0765 - accuracy: 0.66 - ETA: 0s - loss: 1.0778 - accuracy: 0.66 - ETA: 0s - loss: 1.0763 - accuracy: 0.66 - ETA: 0s - loss: 1.0787 - accuracy: 0.66 - ETA: 0s - loss: 1.0790 - accuracy: 0.66 - ETA: 0s - loss: 1.0791 - accuracy: 0.66 - ETA: 0s - loss: 1.0785 - accuracy: 0.66 - ETA: 0s - loss: 1.0774 - accuracy: 0.66 - ETA: 0s - loss: 1.0763 - accuracy: 0.66 - 3s 1ms/step - loss: 1.0750 - accuracy: 0.6672 - val_loss: 1.2351 - val_accuracy: 0.5951\n",
      "Epoch 19/20\n",
      "1875/1875 [==============================] - ETA: 0s - loss: 0.7952 - accuracy: 0.71 - ETA: 1s - loss: 1.0887 - accuracy: 0.66 - ETA: 1s - loss: 1.0987 - accuracy: 0.65 - ETA: 1s - loss: 1.0850 - accuracy: 0.66 - ETA: 1s - loss: 1.0705 - accuracy: 0.67 - ETA: 1s - loss: 1.0730 - accuracy: 0.66 - ETA: 1s - loss: 1.0719 - accuracy: 0.66 - ETA: 1s - loss: 1.0687 - accuracy: 0.66 - ETA: 1s - loss: 1.0622 - accuracy: 0.66 - ETA: 1s - loss: 1.0624 - accuracy: 0.67 - ETA: 1s - loss: 1.0591 - accuracy: 0.67 - ETA: 1s - loss: 1.0604 - accuracy: 0.66 - ETA: 1s - loss: 1.0618 - accuracy: 0.66 - ETA: 1s - loss: 1.0604 - accuracy: 0.66 - ETA: 1s - loss: 1.0595 - accuracy: 0.67 - ETA: 1s - loss: 1.0625 - accuracy: 0.66 - ETA: 1s - loss: 1.0622 - accuracy: 0.67 - ETA: 1s - loss: 1.0626 - accuracy: 0.67 - ETA: 1s - loss: 1.0622 - accuracy: 0.67 - ETA: 1s - loss: 1.0597 - accuracy: 0.67 - ETA: 1s - loss: 1.0617 - accuracy: 0.67 - ETA: 1s - loss: 1.0622 - accuracy: 0.67 - ETA: 1s - loss: 1.0632 - accuracy: 0.67 - ETA: 1s - loss: 1.0638 - accuracy: 0.67 - ETA: 1s - loss: 1.0655 - accuracy: 0.67 - ETA: 1s - loss: 1.0640 - accuracy: 0.67 - ETA: 0s - loss: 1.0661 - accuracy: 0.67 - ETA: 0s - loss: 1.0665 - accuracy: 0.67 - ETA: 0s - loss: 1.0662 - accuracy: 0.67 - ETA: 0s - loss: 1.0657 - accuracy: 0.67 - ETA: 0s - loss: 1.0647 - accuracy: 0.67 - ETA: 0s - loss: 1.0641 - accuracy: 0.67 - ETA: 0s - loss: 1.0649 - accuracy: 0.67 - ETA: 0s - loss: 1.0644 - accuracy: 0.67 - ETA: 0s - loss: 1.0655 - accuracy: 0.67 - ETA: 0s - loss: 1.0659 - accuracy: 0.67 - ETA: 0s - loss: 1.0657 - accuracy: 0.67 - ETA: 0s - loss: 1.0674 - accuracy: 0.67 - ETA: 0s - loss: 1.0659 - accuracy: 0.67 - ETA: 0s - loss: 1.0649 - accuracy: 0.67 - ETA: 0s - loss: 1.0636 - accuracy: 0.67 - ETA: 0s - loss: 1.0623 - accuracy: 0.67 - ETA: 0s - loss: 1.0625 - accuracy: 0.67 - ETA: 0s - loss: 1.0625 - accuracy: 0.67 - 3s 2ms/step - loss: 1.0632 - accuracy: 0.6725 - val_loss: 1.2071 - val_accuracy: 0.6202\n",
      "Epoch 20/20\n",
      "1875/1875 [==============================] - ETA: 0s - loss: 1.0959 - accuracy: 0.71 - ETA: 1s - loss: 1.0652 - accuracy: 0.67 - ETA: 1s - loss: 1.0908 - accuracy: 0.67 - ETA: 1s - loss: 1.0747 - accuracy: 0.67 - ETA: 1s - loss: 1.0555 - accuracy: 0.68 - ETA: 1s - loss: 1.0564 - accuracy: 0.68 - ETA: 1s - loss: 1.0478 - accuracy: 0.68 - ETA: 1s - loss: 1.0494 - accuracy: 0.68 - ETA: 1s - loss: 1.0540 - accuracy: 0.68 - ETA: 1s - loss: 1.0524 - accuracy: 0.67 - ETA: 1s - loss: 1.0573 - accuracy: 0.67 - ETA: 1s - loss: 1.0630 - accuracy: 0.67 - ETA: 1s - loss: 1.0658 - accuracy: 0.67 - ETA: 1s - loss: 1.0672 - accuracy: 0.67 - ETA: 1s - loss: 1.0668 - accuracy: 0.67 - ETA: 1s - loss: 1.0644 - accuracy: 0.67 - ETA: 1s - loss: 1.0610 - accuracy: 0.67 - ETA: 1s - loss: 1.0574 - accuracy: 0.67 - ETA: 1s - loss: 1.0554 - accuracy: 0.67 - ETA: 1s - loss: 1.0567 - accuracy: 0.67 - ETA: 1s - loss: 1.0575 - accuracy: 0.67 - ETA: 0s - loss: 1.0570 - accuracy: 0.67 - ETA: 0s - loss: 1.0584 - accuracy: 0.67 - ETA: 0s - loss: 1.0568 - accuracy: 0.67 - ETA: 0s - loss: 1.0574 - accuracy: 0.67 - ETA: 0s - loss: 1.0568 - accuracy: 0.67 - ETA: 0s - loss: 1.0571 - accuracy: 0.67 - ETA: 0s - loss: 1.0553 - accuracy: 0.67 - ETA: 0s - loss: 1.0554 - accuracy: 0.67 - ETA: 0s - loss: 1.0579 - accuracy: 0.67 - ETA: 0s - loss: 1.0587 - accuracy: 0.67 - ETA: 0s - loss: 1.0608 - accuracy: 0.67 - ETA: 0s - loss: 1.0593 - accuracy: 0.67 - ETA: 0s - loss: 1.0590 - accuracy: 0.67 - ETA: 0s - loss: 1.0583 - accuracy: 0.67 - ETA: 0s - loss: 1.0573 - accuracy: 0.67 - ETA: 0s - loss: 1.0569 - accuracy: 0.67 - ETA: 0s - loss: 1.0581 - accuracy: 0.67 - ETA: 0s - loss: 1.0591 - accuracy: 0.67 - ETA: 0s - loss: 1.0588 - accuracy: 0.67 - ETA: 0s - loss: 1.0578 - accuracy: 0.67 - 3s 1ms/step - loss: 1.0576 - accuracy: 0.6758 - val_loss: 1.1728 - val_accuracy: 0.6292\n",
      "Epoch 1/20\n"
     ]
    },
    {
     "name": "stdout",
     "output_type": "stream",
     "text": [
      "1875/1875 [==============================] - ETA: 0s - loss: 2.3017 - accuracy: 0.06 - ETA: 2s - loss: 2.2660 - accuracy: 0.12 - ETA: 2s - loss: 2.2421 - accuracy: 0.13 - ETA: 2s - loss: 2.2146 - accuracy: 0.14 - ETA: 2s - loss: 2.2025 - accuracy: 0.14 - ETA: 2s - loss: 2.1747 - accuracy: 0.16 - ETA: 2s - loss: 2.1559 - accuracy: 0.16 - ETA: 2s - loss: 2.1363 - accuracy: 0.17 - ETA: 2s - loss: 2.1188 - accuracy: 0.18 - ETA: 2s - loss: 2.1015 - accuracy: 0.18 - ETA: 1s - loss: 2.0894 - accuracy: 0.19 - ETA: 1s - loss: 2.0739 - accuracy: 0.19 - ETA: 1s - loss: 2.0573 - accuracy: 0.20 - ETA: 1s - loss: 2.0485 - accuracy: 0.20 - ETA: 1s - loss: 2.0392 - accuracy: 0.20 - ETA: 1s - loss: 2.0300 - accuracy: 0.20 - ETA: 1s - loss: 2.0210 - accuracy: 0.21 - ETA: 1s - loss: 2.0131 - accuracy: 0.21 - ETA: 1s - loss: 2.0086 - accuracy: 0.21 - ETA: 1s - loss: 2.0032 - accuracy: 0.21 - ETA: 1s - loss: 1.9956 - accuracy: 0.21 - ETA: 1s - loss: 1.9905 - accuracy: 0.21 - ETA: 1s - loss: 1.9845 - accuracy: 0.22 - ETA: 1s - loss: 1.9797 - accuracy: 0.22 - ETA: 0s - loss: 1.9728 - accuracy: 0.22 - ETA: 0s - loss: 1.9667 - accuracy: 0.22 - ETA: 0s - loss: 1.9608 - accuracy: 0.22 - ETA: 0s - loss: 1.9561 - accuracy: 0.22 - ETA: 0s - loss: 1.9515 - accuracy: 0.23 - ETA: 0s - loss: 1.9466 - accuracy: 0.23 - ETA: 0s - loss: 1.9414 - accuracy: 0.23 - ETA: 0s - loss: 1.9369 - accuracy: 0.23 - ETA: 0s - loss: 1.9324 - accuracy: 0.23 - ETA: 0s - loss: 1.9272 - accuracy: 0.23 - ETA: 0s - loss: 1.9232 - accuracy: 0.23 - ETA: 0s - loss: 1.9196 - accuracy: 0.23 - ETA: 0s - loss: 1.9167 - accuracy: 0.24 - ETA: 0s - loss: 1.9133 - accuracy: 0.24 - ETA: 0s - loss: 1.9105 - accuracy: 0.24 - ETA: 0s - loss: 1.9072 - accuracy: 0.24 - ETA: 0s - loss: 1.9040 - accuracy: 0.24 - ETA: 0s - loss: 1.9007 - accuracy: 0.24 - ETA: 0s - loss: 1.8957 - accuracy: 0.24 - 3s 2ms/step - loss: 1.8950 - accuracy: 0.2456 - val_loss: 1.5903 - val_accuracy: 0.3809\n",
      "Epoch 2/20\n",
      "1875/1875 [==============================] - ETA: 0s - loss: 1.7968 - accuracy: 0.21 - ETA: 2s - loss: 1.7323 - accuracy: 0.29 - ETA: 2s - loss: 1.7312 - accuracy: 0.28 - ETA: 1s - loss: 1.7267 - accuracy: 0.27 - ETA: 1s - loss: 1.7161 - accuracy: 0.28 - ETA: 1s - loss: 1.7193 - accuracy: 0.27 - ETA: 1s - loss: 1.7203 - accuracy: 0.28 - ETA: 1s - loss: 1.7173 - accuracy: 0.28 - ETA: 1s - loss: 1.7165 - accuracy: 0.28 - ETA: 1s - loss: 1.7170 - accuracy: 0.28 - ETA: 1s - loss: 1.7161 - accuracy: 0.28 - ETA: 1s - loss: 1.7145 - accuracy: 0.28 - ETA: 1s - loss: 1.7149 - accuracy: 0.28 - ETA: 1s - loss: 1.7098 - accuracy: 0.29 - ETA: 1s - loss: 1.7086 - accuracy: 0.29 - ETA: 1s - loss: 1.7071 - accuracy: 0.29 - ETA: 1s - loss: 1.7069 - accuracy: 0.29 - ETA: 1s - loss: 1.7044 - accuracy: 0.29 - ETA: 1s - loss: 1.7038 - accuracy: 0.29 - ETA: 1s - loss: 1.7028 - accuracy: 0.29 - ETA: 1s - loss: 1.7009 - accuracy: 0.29 - ETA: 1s - loss: 1.6994 - accuracy: 0.29 - ETA: 1s - loss: 1.6993 - accuracy: 0.29 - ETA: 1s - loss: 1.6987 - accuracy: 0.29 - ETA: 1s - loss: 1.6987 - accuracy: 0.29 - ETA: 0s - loss: 1.6991 - accuracy: 0.29 - ETA: 0s - loss: 1.6977 - accuracy: 0.29 - ETA: 0s - loss: 1.6966 - accuracy: 0.29 - ETA: 0s - loss: 1.6960 - accuracy: 0.29 - ETA: 0s - loss: 1.6949 - accuracy: 0.29 - ETA: 0s - loss: 1.6955 - accuracy: 0.29 - ETA: 0s - loss: 1.6936 - accuracy: 0.30 - ETA: 0s - loss: 1.6914 - accuracy: 0.30 - ETA: 0s - loss: 1.6908 - accuracy: 0.30 - ETA: 0s - loss: 1.6888 - accuracy: 0.30 - ETA: 0s - loss: 1.6884 - accuracy: 0.30 - ETA: 0s - loss: 1.6879 - accuracy: 0.30 - ETA: 0s - loss: 1.6876 - accuracy: 0.30 - ETA: 0s - loss: 1.6868 - accuracy: 0.30 - ETA: 0s - loss: 1.6864 - accuracy: 0.30 - ETA: 0s - loss: 1.6855 - accuracy: 0.30 - ETA: 0s - loss: 1.6851 - accuracy: 0.30 - ETA: 0s - loss: 1.6842 - accuracy: 0.30 - ETA: 0s - loss: 1.6836 - accuracy: 0.30 - ETA: 0s - loss: 1.6830 - accuracy: 0.30 - 3s 2ms/step - loss: 1.6830 - accuracy: 0.3062 - val_loss: 1.4682 - val_accuracy: 0.4352\n",
      "Epoch 3/20\n",
      "1875/1875 [==============================] - ETA: 0s - loss: 1.6363 - accuracy: 0.37 - ETA: 1s - loss: 1.6108 - accuracy: 0.33 - ETA: 1s - loss: 1.6123 - accuracy: 0.33 - ETA: 1s - loss: 1.6202 - accuracy: 0.32 - ETA: 1s - loss: 1.6196 - accuracy: 0.32 - ETA: 1s - loss: 1.6185 - accuracy: 0.32 - ETA: 1s - loss: 1.6191 - accuracy: 0.32 - ETA: 1s - loss: 1.6241 - accuracy: 0.32 - ETA: 1s - loss: 1.6193 - accuracy: 0.32 - ETA: 1s - loss: 1.6203 - accuracy: 0.32 - ETA: 1s - loss: 1.6174 - accuracy: 0.32 - ETA: 1s - loss: 1.6154 - accuracy: 0.32 - ETA: 1s - loss: 1.6128 - accuracy: 0.32 - ETA: 1s - loss: 1.6127 - accuracy: 0.32 - ETA: 1s - loss: 1.6110 - accuracy: 0.32 - ETA: 1s - loss: 1.6148 - accuracy: 0.32 - ETA: 1s - loss: 1.6159 - accuracy: 0.32 - ETA: 1s - loss: 1.6156 - accuracy: 0.32 - ETA: 1s - loss: 1.6145 - accuracy: 0.32 - ETA: 1s - loss: 1.6145 - accuracy: 0.32 - ETA: 0s - loss: 1.6166 - accuracy: 0.32 - ETA: 0s - loss: 1.6148 - accuracy: 0.32 - ETA: 0s - loss: 1.6148 - accuracy: 0.32 - ETA: 0s - loss: 1.6148 - accuracy: 0.32 - ETA: 0s - loss: 1.6148 - accuracy: 0.32 - ETA: 0s - loss: 1.6136 - accuracy: 0.32 - ETA: 0s - loss: 1.6130 - accuracy: 0.32 - ETA: 0s - loss: 1.6119 - accuracy: 0.32 - ETA: 0s - loss: 1.6098 - accuracy: 0.32 - ETA: 0s - loss: 1.6092 - accuracy: 0.32 - ETA: 0s - loss: 1.6083 - accuracy: 0.32 - ETA: 0s - loss: 1.6075 - accuracy: 0.32 - ETA: 0s - loss: 1.6064 - accuracy: 0.32 - ETA: 0s - loss: 1.6050 - accuracy: 0.33 - ETA: 0s - loss: 1.6030 - accuracy: 0.33 - ETA: 0s - loss: 1.6034 - accuracy: 0.33 - ETA: 0s - loss: 1.6020 - accuracy: 0.33 - ETA: 0s - loss: 1.6010 - accuracy: 0.33 - ETA: 0s - loss: 1.6004 - accuracy: 0.33 - ETA: 0s - loss: 1.6001 - accuracy: 0.33 - ETA: 0s - loss: 1.5995 - accuracy: 0.33 - ETA: 0s - loss: 1.5984 - accuracy: 0.33 - 3s 2ms/step - loss: 1.5982 - accuracy: 0.3342 - val_loss: 1.4179 - val_accuracy: 0.4426\n",
      "Epoch 4/20\n",
      "1875/1875 [==============================] - ETA: 0s - loss: 1.6872 - accuracy: 0.28 - ETA: 2s - loss: 1.5618 - accuracy: 0.32 - ETA: 2s - loss: 1.5747 - accuracy: 0.32 - ETA: 2s - loss: 1.5603 - accuracy: 0.32 - ETA: 2s - loss: 1.5591 - accuracy: 0.33 - ETA: 1s - loss: 1.5575 - accuracy: 0.33 - ETA: 1s - loss: 1.5526 - accuracy: 0.34 - ETA: 1s - loss: 1.5510 - accuracy: 0.34 - ETA: 1s - loss: 1.5447 - accuracy: 0.34 - ETA: 1s - loss: 1.5442 - accuracy: 0.34 - ETA: 1s - loss: 1.5462 - accuracy: 0.34 - ETA: 1s - loss: 1.5467 - accuracy: 0.34 - ETA: 1s - loss: 1.5469 - accuracy: 0.35 - ETA: 1s - loss: 1.5414 - accuracy: 0.35 - ETA: 1s - loss: 1.5395 - accuracy: 0.35 - ETA: 1s - loss: 1.5406 - accuracy: 0.35 - ETA: 1s - loss: 1.5388 - accuracy: 0.35 - ETA: 1s - loss: 1.5348 - accuracy: 0.35 - ETA: 1s - loss: 1.5340 - accuracy: 0.35 - ETA: 1s - loss: 1.5343 - accuracy: 0.35 - ETA: 1s - loss: 1.5335 - accuracy: 0.35 - ETA: 1s - loss: 1.5329 - accuracy: 0.35 - ETA: 1s - loss: 1.5329 - accuracy: 0.35 - ETA: 0s - loss: 1.5328 - accuracy: 0.35 - ETA: 0s - loss: 1.5335 - accuracy: 0.35 - ETA: 0s - loss: 1.5355 - accuracy: 0.35 - ETA: 0s - loss: 1.5368 - accuracy: 0.36 - ETA: 0s - loss: 1.5392 - accuracy: 0.35 - ETA: 0s - loss: 1.5395 - accuracy: 0.35 - ETA: 0s - loss: 1.5398 - accuracy: 0.35 - ETA: 0s - loss: 1.5393 - accuracy: 0.36 - ETA: 0s - loss: 1.5406 - accuracy: 0.36 - ETA: 0s - loss: 1.5397 - accuracy: 0.36 - ETA: 0s - loss: 1.5392 - accuracy: 0.36 - ETA: 0s - loss: 1.5381 - accuracy: 0.36 - ETA: 0s - loss: 1.5381 - accuracy: 0.36 - ETA: 0s - loss: 1.5364 - accuracy: 0.36 - ETA: 0s - loss: 1.5365 - accuracy: 0.36 - ETA: 0s - loss: 1.5369 - accuracy: 0.36 - ETA: 0s - loss: 1.5370 - accuracy: 0.36 - ETA: 0s - loss: 1.5363 - accuracy: 0.36 - ETA: 0s - loss: 1.5347 - accuracy: 0.36 - ETA: 0s - loss: 1.5343 - accuracy: 0.36 - 3s 2ms/step - loss: 1.5336 - accuracy: 0.3661 - val_loss: 1.3983 - val_accuracy: 0.4080\n",
      "Epoch 5/20\n",
      "1875/1875 [==============================] - ETA: 0s - loss: 1.3111 - accuracy: 0.34 - ETA: 2s - loss: 1.4886 - accuracy: 0.37 - ETA: 2s - loss: 1.4717 - accuracy: 0.38 - ETA: 2s - loss: 1.4826 - accuracy: 0.38 - ETA: 2s - loss: 1.4885 - accuracy: 0.38 - ETA: 2s - loss: 1.4947 - accuracy: 0.38 - ETA: 1s - loss: 1.4845 - accuracy: 0.38 - ETA: 1s - loss: 1.4880 - accuracy: 0.38 - ETA: 1s - loss: 1.4913 - accuracy: 0.38 - ETA: 1s - loss: 1.4959 - accuracy: 0.38 - ETA: 1s - loss: 1.4955 - accuracy: 0.38 - ETA: 1s - loss: 1.4911 - accuracy: 0.38 - ETA: 1s - loss: 1.4911 - accuracy: 0.38 - ETA: 1s - loss: 1.4914 - accuracy: 0.38 - ETA: 1s - loss: 1.4898 - accuracy: 0.38 - ETA: 1s - loss: 1.4926 - accuracy: 0.38 - ETA: 1s - loss: 1.4917 - accuracy: 0.38 - ETA: 1s - loss: 1.4916 - accuracy: 0.38 - ETA: 1s - loss: 1.4891 - accuracy: 0.38 - ETA: 1s - loss: 1.4879 - accuracy: 0.38 - ETA: 1s - loss: 1.4885 - accuracy: 0.38 - ETA: 1s - loss: 1.4863 - accuracy: 0.38 - ETA: 1s - loss: 1.4860 - accuracy: 0.38 - ETA: 1s - loss: 1.4858 - accuracy: 0.38 - ETA: 0s - loss: 1.4857 - accuracy: 0.38 - ETA: 0s - loss: 1.4865 - accuracy: 0.38 - ETA: 0s - loss: 1.4868 - accuracy: 0.38 - ETA: 0s - loss: 1.4864 - accuracy: 0.38 - ETA: 0s - loss: 1.4865 - accuracy: 0.38 - ETA: 0s - loss: 1.4865 - accuracy: 0.38 - ETA: 0s - loss: 1.4856 - accuracy: 0.38 - ETA: 0s - loss: 1.4848 - accuracy: 0.38 - ETA: 0s - loss: 1.4829 - accuracy: 0.38 - ETA: 0s - loss: 1.4813 - accuracy: 0.38 - ETA: 0s - loss: 1.4802 - accuracy: 0.38 - ETA: 0s - loss: 1.4795 - accuracy: 0.39 - ETA: 0s - loss: 1.4781 - accuracy: 0.39 - ETA: 0s - loss: 1.4765 - accuracy: 0.39 - ETA: 0s - loss: 1.4762 - accuracy: 0.39 - ETA: 0s - loss: 1.4769 - accuracy: 0.39 - ETA: 0s - loss: 1.4756 - accuracy: 0.39 - ETA: 0s - loss: 1.4750 - accuracy: 0.39 - ETA: 0s - loss: 1.4748 - accuracy: 0.39 - 3s 2ms/step - loss: 1.4750 - accuracy: 0.3922 - val_loss: 1.4405 - val_accuracy: 0.3790\n",
      "Epoch 6/20\n",
      "1875/1875 [==============================] - ETA: 0s - loss: 1.4017 - accuracy: 0.40 - ETA: 2s - loss: 1.4977 - accuracy: 0.37 - ETA: 2s - loss: 1.4743 - accuracy: 0.39 - ETA: 2s - loss: 1.4652 - accuracy: 0.39 - ETA: 2s - loss: 1.4546 - accuracy: 0.39 - ETA: 2s - loss: 1.4594 - accuracy: 0.39 - ETA: 2s - loss: 1.4530 - accuracy: 0.39 - ETA: 2s - loss: 1.4462 - accuracy: 0.40 - ETA: 2s - loss: 1.4479 - accuracy: 0.40 - ETA: 2s - loss: 1.4491 - accuracy: 0.40 - ETA: 1s - loss: 1.4476 - accuracy: 0.40 - ETA: 1s - loss: 1.4431 - accuracy: 0.40 - ETA: 1s - loss: 1.4377 - accuracy: 0.40 - ETA: 1s - loss: 1.4391 - accuracy: 0.40 - ETA: 1s - loss: 1.4399 - accuracy: 0.40 - ETA: 1s - loss: 1.4401 - accuracy: 0.40 - ETA: 1s - loss: 1.4379 - accuracy: 0.40 - ETA: 1s - loss: 1.4376 - accuracy: 0.40 - ETA: 1s - loss: 1.4369 - accuracy: 0.40 - ETA: 1s - loss: 1.4361 - accuracy: 0.40 - ETA: 1s - loss: 1.4382 - accuracy: 0.40 - ETA: 1s - loss: 1.4417 - accuracy: 0.40 - ETA: 1s - loss: 1.4418 - accuracy: 0.40 - ETA: 1s - loss: 1.4400 - accuracy: 0.40 - ETA: 1s - loss: 1.4387 - accuracy: 0.40 - ETA: 1s - loss: 1.4380 - accuracy: 0.40 - ETA: 1s - loss: 1.4383 - accuracy: 0.40 - ETA: 1s - loss: 1.4390 - accuracy: 0.40 - ETA: 0s - loss: 1.4377 - accuracy: 0.40 - ETA: 0s - loss: 1.4366 - accuracy: 0.40 - ETA: 0s - loss: 1.4357 - accuracy: 0.40 - ETA: 0s - loss: 1.4359 - accuracy: 0.40 - ETA: 0s - loss: 1.4369 - accuracy: 0.40 - ETA: 0s - loss: 1.4379 - accuracy: 0.40 - ETA: 0s - loss: 1.4373 - accuracy: 0.40 - ETA: 0s - loss: 1.4369 - accuracy: 0.40 - ETA: 0s - loss: 1.4361 - accuracy: 0.40 - ETA: 0s - loss: 1.4359 - accuracy: 0.40 - ETA: 0s - loss: 1.4349 - accuracy: 0.40 - ETA: 0s - loss: 1.4347 - accuracy: 0.40 - ETA: 0s - loss: 1.4338 - accuracy: 0.40 - ETA: 0s - loss: 1.4327 - accuracy: 0.40 - ETA: 0s - loss: 1.4313 - accuracy: 0.40 - ETA: 0s - loss: 1.4304 - accuracy: 0.40 - ETA: 0s - loss: 1.4302 - accuracy: 0.40 - 3s 2ms/step - loss: 1.4305 - accuracy: 0.4076 - val_loss: 1.4730 - val_accuracy: 0.3778\n",
      "Epoch 7/20\n",
      "1875/1875 [==============================] - ETA: 0s - loss: 1.3278 - accuracy: 0.43 - ETA: 1s - loss: 1.4145 - accuracy: 0.42 - ETA: 1s - loss: 1.4139 - accuracy: 0.43 - ETA: 1s - loss: 1.4218 - accuracy: 0.42 - ETA: 1s - loss: 1.4152 - accuracy: 0.42 - ETA: 1s - loss: 1.4144 - accuracy: 0.42 - ETA: 1s - loss: 1.4152 - accuracy: 0.41 - ETA: 1s - loss: 1.4158 - accuracy: 0.41 - ETA: 1s - loss: 1.4089 - accuracy: 0.42 - ETA: 1s - loss: 1.4105 - accuracy: 0.41 - ETA: 1s - loss: 1.4115 - accuracy: 0.42 - ETA: 1s - loss: 1.4090 - accuracy: 0.42 - ETA: 1s - loss: 1.4094 - accuracy: 0.42 - ETA: 1s - loss: 1.4054 - accuracy: 0.42 - ETA: 1s - loss: 1.4063 - accuracy: 0.42 - ETA: 1s - loss: 1.4058 - accuracy: 0.42 - ETA: 1s - loss: 1.4063 - accuracy: 0.42 - ETA: 1s - loss: 1.4075 - accuracy: 0.42 - ETA: 1s - loss: 1.4079 - accuracy: 0.42 - ETA: 1s - loss: 1.4082 - accuracy: 0.42 - ETA: 1s - loss: 1.4066 - accuracy: 0.42 - ETA: 0s - loss: 1.4053 - accuracy: 0.42 - ETA: 0s - loss: 1.4053 - accuracy: 0.42 - ETA: 0s - loss: 1.4070 - accuracy: 0.42 - ETA: 0s - loss: 1.4066 - accuracy: 0.42 - ETA: 0s - loss: 1.4062 - accuracy: 0.42 - ETA: 0s - loss: 1.4063 - accuracy: 0.42 - ETA: 0s - loss: 1.4052 - accuracy: 0.42 - ETA: 0s - loss: 1.4051 - accuracy: 0.42 - ETA: 0s - loss: 1.4074 - accuracy: 0.42 - ETA: 0s - loss: 1.4059 - accuracy: 0.42 - ETA: 0s - loss: 1.4074 - accuracy: 0.42 - ETA: 0s - loss: 1.4081 - accuracy: 0.42 - ETA: 0s - loss: 1.4084 - accuracy: 0.42 - ETA: 0s - loss: 1.4093 - accuracy: 0.42 - ETA: 0s - loss: 1.4082 - accuracy: 0.42 - ETA: 0s - loss: 1.4070 - accuracy: 0.42 - ETA: 0s - loss: 1.4076 - accuracy: 0.42 - ETA: 0s - loss: 1.4069 - accuracy: 0.42 - ETA: 0s - loss: 1.4051 - accuracy: 0.42 - ETA: 0s - loss: 1.4061 - accuracy: 0.42 - ETA: 0s - loss: 1.4049 - accuracy: 0.42 - 3s 2ms/step - loss: 1.4049 - accuracy: 0.4231 - val_loss: 1.4380 - val_accuracy: 0.3567\n",
      "Epoch 8/20\n",
      "1875/1875 [==============================] - ETA: 0s - loss: 1.5233 - accuracy: 0.56 - ETA: 1s - loss: 1.3912 - accuracy: 0.43 - ETA: 1s - loss: 1.3628 - accuracy: 0.45 - ETA: 1s - loss: 1.3516 - accuracy: 0.45 - ETA: 1s - loss: 1.3561 - accuracy: 0.45 - ETA: 1s - loss: 1.3584 - accuracy: 0.44 - ETA: 1s - loss: 1.3682 - accuracy: 0.44 - ETA: 1s - loss: 1.3697 - accuracy: 0.44 - ETA: 1s - loss: 1.3673 - accuracy: 0.44 - ETA: 1s - loss: 1.3684 - accuracy: 0.44 - ETA: 1s - loss: 1.3693 - accuracy: 0.44 - ETA: 1s - loss: 1.3653 - accuracy: 0.45 - ETA: 1s - loss: 1.3658 - accuracy: 0.44 - ETA: 1s - loss: 1.3674 - accuracy: 0.44 - ETA: 1s - loss: 1.3692 - accuracy: 0.44 - ETA: 1s - loss: 1.3700 - accuracy: 0.44 - ETA: 1s - loss: 1.3724 - accuracy: 0.44 - ETA: 1s - loss: 1.3721 - accuracy: 0.44 - ETA: 1s - loss: 1.3743 - accuracy: 0.44 - ETA: 1s - loss: 1.3756 - accuracy: 0.44 - ETA: 1s - loss: 1.3767 - accuracy: 0.44 - ETA: 0s - loss: 1.3771 - accuracy: 0.44 - ETA: 0s - loss: 1.3778 - accuracy: 0.44 - ETA: 0s - loss: 1.3803 - accuracy: 0.44 - ETA: 0s - loss: 1.3817 - accuracy: 0.44 - ETA: 0s - loss: 1.3813 - accuracy: 0.44 - ETA: 0s - loss: 1.3821 - accuracy: 0.44 - ETA: 0s - loss: 1.3824 - accuracy: 0.44 - ETA: 0s - loss: 1.3811 - accuracy: 0.44 - ETA: 0s - loss: 1.3797 - accuracy: 0.44 - ETA: 0s - loss: 1.3802 - accuracy: 0.44 - ETA: 0s - loss: 1.3809 - accuracy: 0.44 - ETA: 0s - loss: 1.3812 - accuracy: 0.44 - ETA: 0s - loss: 1.3817 - accuracy: 0.44 - ETA: 0s - loss: 1.3807 - accuracy: 0.44 - ETA: 0s - loss: 1.3796 - accuracy: 0.44 - ETA: 0s - loss: 1.3786 - accuracy: 0.44 - ETA: 0s - loss: 1.3788 - accuracy: 0.44 - ETA: 0s - loss: 1.3791 - accuracy: 0.44 - ETA: 0s - loss: 1.3787 - accuracy: 0.44 - ETA: 0s - loss: 1.3780 - accuracy: 0.44 - 3s 1ms/step - loss: 1.3780 - accuracy: 0.4434 - val_loss: 1.4804 - val_accuracy: 0.3661\n",
      "Epoch 9/20\n"
     ]
    },
    {
     "name": "stdout",
     "output_type": "stream",
     "text": [
      "1875/1875 [==============================] - ETA: 0s - loss: 1.4287 - accuracy: 0.50 - ETA: 1s - loss: 1.3543 - accuracy: 0.44 - ETA: 1s - loss: 1.3497 - accuracy: 0.46 - ETA: 1s - loss: 1.3541 - accuracy: 0.46 - ETA: 1s - loss: 1.3530 - accuracy: 0.45 - ETA: 1s - loss: 1.3632 - accuracy: 0.45 - ETA: 1s - loss: 1.3592 - accuracy: 0.45 - ETA: 1s - loss: 1.3587 - accuracy: 0.45 - ETA: 1s - loss: 1.3603 - accuracy: 0.45 - ETA: 1s - loss: 1.3612 - accuracy: 0.45 - ETA: 1s - loss: 1.3559 - accuracy: 0.45 - ETA: 1s - loss: 1.3539 - accuracy: 0.45 - ETA: 1s - loss: 1.3545 - accuracy: 0.45 - ETA: 1s - loss: 1.3553 - accuracy: 0.45 - ETA: 1s - loss: 1.3530 - accuracy: 0.45 - ETA: 1s - loss: 1.3522 - accuracy: 0.45 - ETA: 1s - loss: 1.3522 - accuracy: 0.45 - ETA: 1s - loss: 1.3520 - accuracy: 0.45 - ETA: 1s - loss: 1.3525 - accuracy: 0.45 - ETA: 1s - loss: 1.3516 - accuracy: 0.45 - ETA: 1s - loss: 1.3499 - accuracy: 0.45 - ETA: 0s - loss: 1.3517 - accuracy: 0.45 - ETA: 0s - loss: 1.3523 - accuracy: 0.45 - ETA: 0s - loss: 1.3503 - accuracy: 0.45 - ETA: 0s - loss: 1.3503 - accuracy: 0.45 - ETA: 0s - loss: 1.3503 - accuracy: 0.45 - ETA: 0s - loss: 1.3504 - accuracy: 0.45 - ETA: 0s - loss: 1.3496 - accuracy: 0.45 - ETA: 0s - loss: 1.3492 - accuracy: 0.45 - ETA: 0s - loss: 1.3490 - accuracy: 0.45 - ETA: 0s - loss: 1.3482 - accuracy: 0.46 - ETA: 0s - loss: 1.3480 - accuracy: 0.46 - ETA: 0s - loss: 1.3479 - accuracy: 0.46 - ETA: 0s - loss: 1.3494 - accuracy: 0.45 - ETA: 0s - loss: 1.3499 - accuracy: 0.45 - ETA: 0s - loss: 1.3503 - accuracy: 0.45 - ETA: 0s - loss: 1.3519 - accuracy: 0.45 - ETA: 0s - loss: 1.3523 - accuracy: 0.45 - ETA: 0s - loss: 1.3510 - accuracy: 0.46 - ETA: 0s - loss: 1.3512 - accuracy: 0.45 - ETA: 0s - loss: 1.3510 - accuracy: 0.45 - 3s 1ms/step - loss: 1.3516 - accuracy: 0.4598 - val_loss: 1.3958 - val_accuracy: 0.4113\n",
      "Epoch 10/20\n",
      "1875/1875 [==============================] - ETA: 0s - loss: 0.7042 - accuracy: 0.81 - ETA: 1s - loss: 1.3549 - accuracy: 0.45 - ETA: 1s - loss: 1.3342 - accuracy: 0.47 - ETA: 1s - loss: 1.3426 - accuracy: 0.46 - ETA: 1s - loss: 1.3351 - accuracy: 0.46 - ETA: 1s - loss: 1.3378 - accuracy: 0.46 - ETA: 1s - loss: 1.3345 - accuracy: 0.46 - ETA: 1s - loss: 1.3315 - accuracy: 0.46 - ETA: 1s - loss: 1.3356 - accuracy: 0.46 - ETA: 1s - loss: 1.3366 - accuracy: 0.46 - ETA: 1s - loss: 1.3320 - accuracy: 0.46 - ETA: 1s - loss: 1.3309 - accuracy: 0.46 - ETA: 1s - loss: 1.3321 - accuracy: 0.46 - ETA: 1s - loss: 1.3325 - accuracy: 0.46 - ETA: 1s - loss: 1.3325 - accuracy: 0.46 - ETA: 1s - loss: 1.3337 - accuracy: 0.46 - ETA: 1s - loss: 1.3327 - accuracy: 0.46 - ETA: 1s - loss: 1.3312 - accuracy: 0.46 - ETA: 1s - loss: 1.3318 - accuracy: 0.46 - ETA: 1s - loss: 1.3309 - accuracy: 0.46 - ETA: 1s - loss: 1.3315 - accuracy: 0.46 - ETA: 0s - loss: 1.3310 - accuracy: 0.46 - ETA: 0s - loss: 1.3318 - accuracy: 0.46 - ETA: 0s - loss: 1.3312 - accuracy: 0.46 - ETA: 0s - loss: 1.3310 - accuracy: 0.46 - ETA: 0s - loss: 1.3295 - accuracy: 0.46 - ETA: 0s - loss: 1.3283 - accuracy: 0.46 - ETA: 0s - loss: 1.3297 - accuracy: 0.46 - ETA: 0s - loss: 1.3292 - accuracy: 0.46 - ETA: 0s - loss: 1.3268 - accuracy: 0.46 - ETA: 0s - loss: 1.3270 - accuracy: 0.46 - ETA: 0s - loss: 1.3263 - accuracy: 0.46 - ETA: 0s - loss: 1.3266 - accuracy: 0.46 - ETA: 0s - loss: 1.3263 - accuracy: 0.46 - ETA: 0s - loss: 1.3260 - accuracy: 0.46 - ETA: 0s - loss: 1.3266 - accuracy: 0.46 - ETA: 0s - loss: 1.3252 - accuracy: 0.46 - ETA: 0s - loss: 1.3257 - accuracy: 0.46 - ETA: 0s - loss: 1.3255 - accuracy: 0.46 - ETA: 0s - loss: 1.3257 - accuracy: 0.46 - ETA: 0s - loss: 1.3260 - accuracy: 0.46 - 3s 2ms/step - loss: 1.3261 - accuracy: 0.4688 - val_loss: 1.3864 - val_accuracy: 0.4062\n",
      "Epoch 11/20\n",
      "1875/1875 [==============================] - ETA: 0s - loss: 1.1389 - accuracy: 0.62 - ETA: 2s - loss: 1.2988 - accuracy: 0.47 - ETA: 2s - loss: 1.2956 - accuracy: 0.47 - ETA: 1s - loss: 1.3050 - accuracy: 0.47 - ETA: 1s - loss: 1.3174 - accuracy: 0.46 - ETA: 1s - loss: 1.3138 - accuracy: 0.46 - ETA: 1s - loss: 1.3129 - accuracy: 0.47 - ETA: 1s - loss: 1.3170 - accuracy: 0.47 - ETA: 1s - loss: 1.3230 - accuracy: 0.47 - ETA: 1s - loss: 1.3240 - accuracy: 0.47 - ETA: 1s - loss: 1.3234 - accuracy: 0.47 - ETA: 1s - loss: 1.3187 - accuracy: 0.46 - ETA: 1s - loss: 1.3165 - accuracy: 0.46 - ETA: 1s - loss: 1.3157 - accuracy: 0.46 - ETA: 1s - loss: 1.3131 - accuracy: 0.47 - ETA: 1s - loss: 1.3107 - accuracy: 0.47 - ETA: 1s - loss: 1.3115 - accuracy: 0.47 - ETA: 1s - loss: 1.3136 - accuracy: 0.47 - ETA: 1s - loss: 1.3164 - accuracy: 0.47 - ETA: 1s - loss: 1.3162 - accuracy: 0.47 - ETA: 1s - loss: 1.3169 - accuracy: 0.47 - ETA: 1s - loss: 1.3174 - accuracy: 0.47 - ETA: 1s - loss: 1.3157 - accuracy: 0.47 - ETA: 0s - loss: 1.3177 - accuracy: 0.47 - ETA: 0s - loss: 1.3185 - accuracy: 0.47 - ETA: 0s - loss: 1.3182 - accuracy: 0.47 - ETA: 0s - loss: 1.3174 - accuracy: 0.47 - ETA: 0s - loss: 1.3178 - accuracy: 0.47 - ETA: 0s - loss: 1.3190 - accuracy: 0.47 - ETA: 0s - loss: 1.3192 - accuracy: 0.47 - ETA: 0s - loss: 1.3196 - accuracy: 0.47 - ETA: 0s - loss: 1.3174 - accuracy: 0.47 - ETA: 0s - loss: 1.3162 - accuracy: 0.47 - ETA: 0s - loss: 1.3157 - accuracy: 0.47 - ETA: 0s - loss: 1.3150 - accuracy: 0.47 - ETA: 0s - loss: 1.3142 - accuracy: 0.47 - ETA: 0s - loss: 1.3145 - accuracy: 0.47 - ETA: 0s - loss: 1.3152 - accuracy: 0.47 - ETA: 0s - loss: 1.3144 - accuracy: 0.47 - ETA: 0s - loss: 1.3131 - accuracy: 0.47 - ETA: 0s - loss: 1.3136 - accuracy: 0.47 - ETA: 0s - loss: 1.3130 - accuracy: 0.47 - 3s 2ms/step - loss: 1.3134 - accuracy: 0.4754 - val_loss: 1.4281 - val_accuracy: 0.3944\n",
      "Epoch 12/20\n",
      "1875/1875 [==============================] - ETA: 0s - loss: 1.4748 - accuracy: 0.37 - ETA: 1s - loss: 1.2609 - accuracy: 0.50 - ETA: 2s - loss: 1.2887 - accuracy: 0.48 - ETA: 1s - loss: 1.2957 - accuracy: 0.47 - ETA: 1s - loss: 1.2951 - accuracy: 0.47 - ETA: 1s - loss: 1.2979 - accuracy: 0.47 - ETA: 1s - loss: 1.2985 - accuracy: 0.47 - ETA: 1s - loss: 1.2973 - accuracy: 0.47 - ETA: 1s - loss: 1.3030 - accuracy: 0.47 - ETA: 1s - loss: 1.3069 - accuracy: 0.47 - ETA: 1s - loss: 1.3020 - accuracy: 0.48 - ETA: 1s - loss: 1.3069 - accuracy: 0.47 - ETA: 1s - loss: 1.3065 - accuracy: 0.48 - ETA: 1s - loss: 1.3057 - accuracy: 0.48 - ETA: 1s - loss: 1.3027 - accuracy: 0.48 - ETA: 1s - loss: 1.3022 - accuracy: 0.48 - ETA: 1s - loss: 1.2998 - accuracy: 0.48 - ETA: 1s - loss: 1.3011 - accuracy: 0.48 - ETA: 1s - loss: 1.3006 - accuracy: 0.48 - ETA: 1s - loss: 1.2997 - accuracy: 0.48 - ETA: 1s - loss: 1.2963 - accuracy: 0.48 - ETA: 1s - loss: 1.2941 - accuracy: 0.48 - ETA: 0s - loss: 1.2926 - accuracy: 0.48 - ETA: 0s - loss: 1.2898 - accuracy: 0.48 - ETA: 0s - loss: 1.2905 - accuracy: 0.48 - ETA: 0s - loss: 1.2909 - accuracy: 0.48 - ETA: 0s - loss: 1.2919 - accuracy: 0.48 - ETA: 0s - loss: 1.2915 - accuracy: 0.48 - ETA: 0s - loss: 1.2913 - accuracy: 0.48 - ETA: 0s - loss: 1.2913 - accuracy: 0.48 - ETA: 0s - loss: 1.2901 - accuracy: 0.48 - ETA: 0s - loss: 1.2904 - accuracy: 0.48 - ETA: 0s - loss: 1.2918 - accuracy: 0.48 - ETA: 0s - loss: 1.2922 - accuracy: 0.48 - ETA: 0s - loss: 1.2925 - accuracy: 0.48 - ETA: 0s - loss: 1.2926 - accuracy: 0.48 - ETA: 0s - loss: 1.2929 - accuracy: 0.48 - ETA: 0s - loss: 1.2942 - accuracy: 0.48 - ETA: 0s - loss: 1.2927 - accuracy: 0.48 - ETA: 0s - loss: 1.2931 - accuracy: 0.48 - ETA: 0s - loss: 1.2924 - accuracy: 0.48 - ETA: 0s - loss: 1.2927 - accuracy: 0.48 - 3s 2ms/step - loss: 1.2928 - accuracy: 0.4845 - val_loss: 1.4199 - val_accuracy: 0.4150\n",
      "Epoch 13/20\n",
      "1875/1875 [==============================] - ETA: 0s - loss: 1.2564 - accuracy: 0.53 - ETA: 1s - loss: 1.2583 - accuracy: 0.50 - ETA: 1s - loss: 1.2843 - accuracy: 0.49 - ETA: 1s - loss: 1.2896 - accuracy: 0.48 - ETA: 1s - loss: 1.2872 - accuracy: 0.48 - ETA: 1s - loss: 1.2867 - accuracy: 0.49 - ETA: 1s - loss: 1.2871 - accuracy: 0.49 - ETA: 1s - loss: 1.2872 - accuracy: 0.48 - ETA: 1s - loss: 1.2825 - accuracy: 0.49 - ETA: 1s - loss: 1.2855 - accuracy: 0.49 - ETA: 1s - loss: 1.2814 - accuracy: 0.49 - ETA: 1s - loss: 1.2816 - accuracy: 0.49 - ETA: 1s - loss: 1.2826 - accuracy: 0.49 - ETA: 1s - loss: 1.2823 - accuracy: 0.49 - ETA: 1s - loss: 1.2817 - accuracy: 0.49 - ETA: 1s - loss: 1.2805 - accuracy: 0.49 - ETA: 1s - loss: 1.2818 - accuracy: 0.49 - ETA: 1s - loss: 1.2777 - accuracy: 0.49 - ETA: 1s - loss: 1.2783 - accuracy: 0.49 - ETA: 1s - loss: 1.2776 - accuracy: 0.49 - ETA: 1s - loss: 1.2787 - accuracy: 0.49 - ETA: 0s - loss: 1.2796 - accuracy: 0.49 - ETA: 0s - loss: 1.2806 - accuracy: 0.49 - ETA: 0s - loss: 1.2832 - accuracy: 0.49 - ETA: 0s - loss: 1.2825 - accuracy: 0.49 - ETA: 0s - loss: 1.2811 - accuracy: 0.49 - ETA: 0s - loss: 1.2835 - accuracy: 0.49 - ETA: 0s - loss: 1.2836 - accuracy: 0.49 - ETA: 0s - loss: 1.2828 - accuracy: 0.49 - ETA: 0s - loss: 1.2825 - accuracy: 0.49 - ETA: 0s - loss: 1.2809 - accuracy: 0.49 - ETA: 0s - loss: 1.2784 - accuracy: 0.49 - ETA: 0s - loss: 1.2779 - accuracy: 0.49 - ETA: 0s - loss: 1.2773 - accuracy: 0.49 - ETA: 0s - loss: 1.2761 - accuracy: 0.49 - ETA: 0s - loss: 1.2748 - accuracy: 0.49 - ETA: 0s - loss: 1.2752 - accuracy: 0.49 - ETA: 0s - loss: 1.2756 - accuracy: 0.49 - ETA: 0s - loss: 1.2752 - accuracy: 0.49 - ETA: 0s - loss: 1.2757 - accuracy: 0.49 - ETA: 0s - loss: 1.2762 - accuracy: 0.49 - 3s 1ms/step - loss: 1.2759 - accuracy: 0.4934 - val_loss: 1.5091 - val_accuracy: 0.4195\n",
      "Epoch 14/20\n",
      "1875/1875 [==============================] - ETA: 0s - loss: 1.1979 - accuracy: 0.50 - ETA: 1s - loss: 1.2990 - accuracy: 0.50 - ETA: 1s - loss: 1.2978 - accuracy: 0.49 - ETA: 1s - loss: 1.2816 - accuracy: 0.49 - ETA: 1s - loss: 1.2792 - accuracy: 0.50 - ETA: 1s - loss: 1.2705 - accuracy: 0.50 - ETA: 1s - loss: 1.2703 - accuracy: 0.50 - ETA: 1s - loss: 1.2634 - accuracy: 0.50 - ETA: 1s - loss: 1.2628 - accuracy: 0.50 - ETA: 1s - loss: 1.2593 - accuracy: 0.50 - ETA: 1s - loss: 1.2588 - accuracy: 0.50 - ETA: 1s - loss: 1.2612 - accuracy: 0.50 - ETA: 1s - loss: 1.2627 - accuracy: 0.50 - ETA: 1s - loss: 1.2631 - accuracy: 0.50 - ETA: 1s - loss: 1.2637 - accuracy: 0.50 - ETA: 1s - loss: 1.2647 - accuracy: 0.50 - ETA: 1s - loss: 1.2643 - accuracy: 0.50 - ETA: 1s - loss: 1.2628 - accuracy: 0.50 - ETA: 1s - loss: 1.2637 - accuracy: 0.50 - ETA: 1s - loss: 1.2674 - accuracy: 0.50 - ETA: 1s - loss: 1.2690 - accuracy: 0.50 - ETA: 1s - loss: 1.2723 - accuracy: 0.50 - ETA: 0s - loss: 1.2697 - accuracy: 0.50 - ETA: 0s - loss: 1.2709 - accuracy: 0.50 - ETA: 0s - loss: 1.2712 - accuracy: 0.50 - ETA: 0s - loss: 1.2691 - accuracy: 0.50 - ETA: 0s - loss: 1.2686 - accuracy: 0.50 - ETA: 0s - loss: 1.2707 - accuracy: 0.49 - ETA: 0s - loss: 1.2711 - accuracy: 0.49 - ETA: 0s - loss: 1.2715 - accuracy: 0.49 - ETA: 0s - loss: 1.2708 - accuracy: 0.49 - ETA: 0s - loss: 1.2715 - accuracy: 0.49 - ETA: 0s - loss: 1.2711 - accuracy: 0.49 - ETA: 0s - loss: 1.2716 - accuracy: 0.49 - ETA: 0s - loss: 1.2720 - accuracy: 0.49 - ETA: 0s - loss: 1.2719 - accuracy: 0.49 - ETA: 0s - loss: 1.2719 - accuracy: 0.49 - ETA: 0s - loss: 1.2710 - accuracy: 0.49 - ETA: 0s - loss: 1.2699 - accuracy: 0.49 - ETA: 0s - loss: 1.2699 - accuracy: 0.49 - ETA: 0s - loss: 1.2690 - accuracy: 0.49 - 3s 1ms/step - loss: 1.2686 - accuracy: 0.4990 - val_loss: 1.4304 - val_accuracy: 0.4230\n",
      "Epoch 15/20\n",
      "1875/1875 [==============================] - ETA: 0s - loss: 1.1469 - accuracy: 0.53 - ETA: 2s - loss: 1.3005 - accuracy: 0.48 - ETA: 1s - loss: 1.2667 - accuracy: 0.49 - ETA: 1s - loss: 1.2597 - accuracy: 0.50 - ETA: 1s - loss: 1.2590 - accuracy: 0.50 - ETA: 1s - loss: 1.2522 - accuracy: 0.49 - ETA: 1s - loss: 1.2485 - accuracy: 0.50 - ETA: 1s - loss: 1.2496 - accuracy: 0.50 - ETA: 1s - loss: 1.2493 - accuracy: 0.50 - ETA: 1s - loss: 1.2524 - accuracy: 0.50 - ETA: 1s - loss: 1.2497 - accuracy: 0.50 - ETA: 1s - loss: 1.2478 - accuracy: 0.50 - ETA: 1s - loss: 1.2505 - accuracy: 0.50 - ETA: 1s - loss: 1.2507 - accuracy: 0.50 - ETA: 1s - loss: 1.2498 - accuracy: 0.50 - ETA: 1s - loss: 1.2513 - accuracy: 0.50 - ETA: 1s - loss: 1.2494 - accuracy: 0.50 - ETA: 1s - loss: 1.2483 - accuracy: 0.50 - ETA: 1s - loss: 1.2483 - accuracy: 0.50 - ETA: 1s - loss: 1.2482 - accuracy: 0.50 - ETA: 1s - loss: 1.2488 - accuracy: 0.50 - ETA: 0s - loss: 1.2490 - accuracy: 0.50 - ETA: 0s - loss: 1.2489 - accuracy: 0.50 - ETA: 0s - loss: 1.2476 - accuracy: 0.50 - ETA: 0s - loss: 1.2486 - accuracy: 0.50 - ETA: 0s - loss: 1.2492 - accuracy: 0.50 - ETA: 0s - loss: 1.2483 - accuracy: 0.50 - ETA: 0s - loss: 1.2479 - accuracy: 0.50 - ETA: 0s - loss: 1.2495 - accuracy: 0.50 - ETA: 0s - loss: 1.2525 - accuracy: 0.50 - ETA: 0s - loss: 1.2521 - accuracy: 0.50 - ETA: 0s - loss: 1.2530 - accuracy: 0.50 - ETA: 0s - loss: 1.2529 - accuracy: 0.50 - ETA: 0s - loss: 1.2546 - accuracy: 0.50 - ETA: 0s - loss: 1.2572 - accuracy: 0.50 - ETA: 0s - loss: 1.2577 - accuracy: 0.50 - ETA: 0s - loss: 1.2584 - accuracy: 0.50 - ETA: 0s - loss: 1.2583 - accuracy: 0.50 - ETA: 0s - loss: 1.2587 - accuracy: 0.50 - ETA: 0s - loss: 1.2602 - accuracy: 0.50 - ETA: 0s - loss: 1.2610 - accuracy: 0.50 - 3s 1ms/step - loss: 1.2616 - accuracy: 0.5045 - val_loss: 1.4732 - val_accuracy: 0.3801\n",
      "Epoch 16/20\n",
      "1875/1875 [==============================] - ETA: 0s - loss: 0.9195 - accuracy: 0.62 - ETA: 1s - loss: 1.1954 - accuracy: 0.53 - ETA: 1s - loss: 1.2273 - accuracy: 0.51 - ETA: 1s - loss: 1.2485 - accuracy: 0.50 - ETA: 1s - loss: 1.2429 - accuracy: 0.50 - ETA: 1s - loss: 1.2459 - accuracy: 0.50 - ETA: 1s - loss: 1.2440 - accuracy: 0.50 - ETA: 1s - loss: 1.2442 - accuracy: 0.50 - ETA: 1s - loss: 1.2462 - accuracy: 0.50 - ETA: 1s - loss: 1.2486 - accuracy: 0.50 - ETA: 1s - loss: 1.2484 - accuracy: 0.50 - ETA: 1s - loss: 1.2481 - accuracy: 0.50 - ETA: 1s - loss: 1.2511 - accuracy: 0.50 - ETA: 1s - loss: 1.2506 - accuracy: 0.50 - ETA: 1s - loss: 1.2495 - accuracy: 0.50 - ETA: 1s - loss: 1.2501 - accuracy: 0.50 - ETA: 1s - loss: 1.2506 - accuracy: 0.50 - ETA: 1s - loss: 1.2466 - accuracy: 0.50 - ETA: 1s - loss: 1.2468 - accuracy: 0.50 - ETA: 1s - loss: 1.2500 - accuracy: 0.50 - ETA: 1s - loss: 1.2521 - accuracy: 0.50 - ETA: 0s - loss: 1.2541 - accuracy: 0.50 - ETA: 0s - loss: 1.2534 - accuracy: 0.50 - ETA: 0s - loss: 1.2544 - accuracy: 0.50 - ETA: 0s - loss: 1.2540 - accuracy: 0.50 - ETA: 0s - loss: 1.2518 - accuracy: 0.50 - ETA: 0s - loss: 1.2507 - accuracy: 0.50 - ETA: 0s - loss: 1.2521 - accuracy: 0.50 - ETA: 0s - loss: 1.2514 - accuracy: 0.50 - ETA: 0s - loss: 1.2492 - accuracy: 0.50 - ETA: 0s - loss: 1.2492 - accuracy: 0.50 - ETA: 0s - loss: 1.2492 - accuracy: 0.50 - ETA: 0s - loss: 1.2499 - accuracy: 0.50 - ETA: 0s - loss: 1.2505 - accuracy: 0.50 - ETA: 0s - loss: 1.2501 - accuracy: 0.50 - ETA: 0s - loss: 1.2500 - accuracy: 0.50 - ETA: 0s - loss: 1.2503 - accuracy: 0.50 - ETA: 0s - loss: 1.2513 - accuracy: 0.50 - ETA: 0s - loss: 1.2514 - accuracy: 0.50 - ETA: 0s - loss: 1.2506 - accuracy: 0.50 - ETA: 0s - loss: 1.2494 - accuracy: 0.50 - 3s 2ms/step - loss: 1.2492 - accuracy: 0.5092 - val_loss: 1.4540 - val_accuracy: 0.4347\n",
      "Epoch 17/20\n"
     ]
    },
    {
     "name": "stdout",
     "output_type": "stream",
     "text": [
      "1875/1875 [==============================] - ETA: 0s - loss: 1.4417 - accuracy: 0.46 - ETA: 2s - loss: 1.2763 - accuracy: 0.48 - ETA: 2s - loss: 1.2262 - accuracy: 0.51 - ETA: 2s - loss: 1.2344 - accuracy: 0.51 - ETA: 2s - loss: 1.2297 - accuracy: 0.51 - ETA: 1s - loss: 1.2278 - accuracy: 0.51 - ETA: 1s - loss: 1.2358 - accuracy: 0.51 - ETA: 1s - loss: 1.2386 - accuracy: 0.51 - ETA: 1s - loss: 1.2351 - accuracy: 0.51 - ETA: 1s - loss: 1.2356 - accuracy: 0.51 - ETA: 1s - loss: 1.2369 - accuracy: 0.51 - ETA: 1s - loss: 1.2380 - accuracy: 0.51 - ETA: 1s - loss: 1.2418 - accuracy: 0.51 - ETA: 1s - loss: 1.2421 - accuracy: 0.51 - ETA: 1s - loss: 1.2425 - accuracy: 0.51 - ETA: 1s - loss: 1.2445 - accuracy: 0.51 - ETA: 1s - loss: 1.2476 - accuracy: 0.51 - ETA: 1s - loss: 1.2471 - accuracy: 0.51 - ETA: 1s - loss: 1.2475 - accuracy: 0.51 - ETA: 1s - loss: 1.2453 - accuracy: 0.51 - ETA: 1s - loss: 1.2437 - accuracy: 0.51 - ETA: 1s - loss: 1.2450 - accuracy: 0.51 - ETA: 1s - loss: 1.2458 - accuracy: 0.51 - ETA: 1s - loss: 1.2465 - accuracy: 0.51 - ETA: 0s - loss: 1.2465 - accuracy: 0.51 - ETA: 0s - loss: 1.2458 - accuracy: 0.51 - ETA: 0s - loss: 1.2446 - accuracy: 0.51 - ETA: 0s - loss: 1.2432 - accuracy: 0.51 - ETA: 0s - loss: 1.2430 - accuracy: 0.51 - ETA: 0s - loss: 1.2417 - accuracy: 0.51 - ETA: 0s - loss: 1.2407 - accuracy: 0.51 - ETA: 0s - loss: 1.2391 - accuracy: 0.51 - ETA: 0s - loss: 1.2395 - accuracy: 0.51 - ETA: 0s - loss: 1.2389 - accuracy: 0.51 - ETA: 0s - loss: 1.2385 - accuracy: 0.51 - ETA: 0s - loss: 1.2390 - accuracy: 0.51 - ETA: 0s - loss: 1.2384 - accuracy: 0.51 - ETA: 0s - loss: 1.2369 - accuracy: 0.51 - ETA: 0s - loss: 1.2362 - accuracy: 0.51 - ETA: 0s - loss: 1.2353 - accuracy: 0.51 - ETA: 0s - loss: 1.2340 - accuracy: 0.51 - ETA: 0s - loss: 1.2318 - accuracy: 0.51 - ETA: 0s - loss: 1.2304 - accuracy: 0.51 - 3s 2ms/step - loss: 1.2301 - accuracy: 0.5180 - val_loss: 1.4159 - val_accuracy: 0.4082\n",
      "Epoch 18/20\n",
      "1875/1875 [==============================] - ETA: 0s - loss: 1.5361 - accuracy: 0.53 - ETA: 1s - loss: 1.2166 - accuracy: 0.52 - ETA: 1s - loss: 1.2097 - accuracy: 0.52 - ETA: 1s - loss: 1.2101 - accuracy: 0.51 - ETA: 1s - loss: 1.2096 - accuracy: 0.51 - ETA: 1s - loss: 1.2059 - accuracy: 0.52 - ETA: 1s - loss: 1.1976 - accuracy: 0.52 - ETA: 1s - loss: 1.1910 - accuracy: 0.52 - ETA: 1s - loss: 1.1920 - accuracy: 0.52 - ETA: 1s - loss: 1.1930 - accuracy: 0.52 - ETA: 1s - loss: 1.1936 - accuracy: 0.52 - ETA: 1s - loss: 1.1914 - accuracy: 0.52 - ETA: 1s - loss: 1.1862 - accuracy: 0.52 - ETA: 1s - loss: 1.1822 - accuracy: 0.52 - ETA: 1s - loss: 1.1854 - accuracy: 0.52 - ETA: 1s - loss: 1.1902 - accuracy: 0.52 - ETA: 1s - loss: 1.1885 - accuracy: 0.52 - ETA: 1s - loss: 1.1868 - accuracy: 0.52 - ETA: 1s - loss: 1.1905 - accuracy: 0.52 - ETA: 1s - loss: 1.1933 - accuracy: 0.52 - ETA: 1s - loss: 1.1950 - accuracy: 0.52 - ETA: 0s - loss: 1.1956 - accuracy: 0.52 - ETA: 0s - loss: 1.1952 - accuracy: 0.52 - ETA: 0s - loss: 1.1940 - accuracy: 0.52 - ETA: 0s - loss: 1.1929 - accuracy: 0.52 - ETA: 0s - loss: 1.1902 - accuracy: 0.52 - ETA: 0s - loss: 1.1893 - accuracy: 0.52 - ETA: 0s - loss: 1.1886 - accuracy: 0.52 - ETA: 0s - loss: 1.1884 - accuracy: 0.52 - ETA: 0s - loss: 1.1869 - accuracy: 0.52 - ETA: 0s - loss: 1.1870 - accuracy: 0.52 - ETA: 0s - loss: 1.1882 - accuracy: 0.52 - ETA: 0s - loss: 1.1881 - accuracy: 0.52 - ETA: 0s - loss: 1.1871 - accuracy: 0.52 - ETA: 0s - loss: 1.1877 - accuracy: 0.52 - ETA: 0s - loss: 1.1873 - accuracy: 0.52 - ETA: 0s - loss: 1.1874 - accuracy: 0.52 - ETA: 0s - loss: 1.1871 - accuracy: 0.52 - ETA: 0s - loss: 1.1878 - accuracy: 0.52 - ETA: 0s - loss: 1.1862 - accuracy: 0.52 - ETA: 0s - loss: 1.1866 - accuracy: 0.52 - ETA: 0s - loss: 1.1878 - accuracy: 0.52 - 3s 2ms/step - loss: 1.1878 - accuracy: 0.5294 - val_loss: 1.3488 - val_accuracy: 0.4295\n",
      "Epoch 19/20\n",
      "1875/1875 [==============================] - ETA: 0s - loss: 1.3360 - accuracy: 0.46 - ETA: 2s - loss: 1.1424 - accuracy: 0.53 - ETA: 2s - loss: 1.1819 - accuracy: 0.53 - ETA: 1s - loss: 1.1769 - accuracy: 0.53 - ETA: 1s - loss: 1.1691 - accuracy: 0.53 - ETA: 1s - loss: 1.1701 - accuracy: 0.53 - ETA: 1s - loss: 1.1753 - accuracy: 0.53 - ETA: 1s - loss: 1.1680 - accuracy: 0.54 - ETA: 1s - loss: 1.1643 - accuracy: 0.54 - ETA: 1s - loss: 1.1672 - accuracy: 0.54 - ETA: 1s - loss: 1.1680 - accuracy: 0.54 - ETA: 1s - loss: 1.1705 - accuracy: 0.54 - ETA: 1s - loss: 1.1642 - accuracy: 0.54 - ETA: 1s - loss: 1.1605 - accuracy: 0.54 - ETA: 1s - loss: 1.1631 - accuracy: 0.54 - ETA: 1s - loss: 1.1620 - accuracy: 0.54 - ETA: 1s - loss: 1.1608 - accuracy: 0.53 - ETA: 1s - loss: 1.1647 - accuracy: 0.53 - ETA: 1s - loss: 1.1643 - accuracy: 0.53 - ETA: 1s - loss: 1.1662 - accuracy: 0.53 - ETA: 1s - loss: 1.1655 - accuracy: 0.53 - ETA: 0s - loss: 1.1651 - accuracy: 0.53 - ETA: 0s - loss: 1.1645 - accuracy: 0.53 - ETA: 0s - loss: 1.1652 - accuracy: 0.53 - ETA: 0s - loss: 1.1675 - accuracy: 0.53 - ETA: 0s - loss: 1.1679 - accuracy: 0.53 - ETA: 0s - loss: 1.1682 - accuracy: 0.53 - ETA: 0s - loss: 1.1670 - accuracy: 0.53 - ETA: 0s - loss: 1.1676 - accuracy: 0.53 - ETA: 0s - loss: 1.1682 - accuracy: 0.53 - ETA: 0s - loss: 1.1686 - accuracy: 0.53 - ETA: 0s - loss: 1.1665 - accuracy: 0.53 - ETA: 0s - loss: 1.1655 - accuracy: 0.53 - ETA: 0s - loss: 1.1659 - accuracy: 0.53 - ETA: 0s - loss: 1.1654 - accuracy: 0.53 - ETA: 0s - loss: 1.1659 - accuracy: 0.53 - ETA: 0s - loss: 1.1676 - accuracy: 0.53 - ETA: 0s - loss: 1.1675 - accuracy: 0.53 - ETA: 0s - loss: 1.1680 - accuracy: 0.53 - ETA: 0s - loss: 1.1681 - accuracy: 0.53 - ETA: 0s - loss: 1.1680 - accuracy: 0.53 - ETA: 0s - loss: 1.1670 - accuracy: 0.53 - 3s 2ms/step - loss: 1.1665 - accuracy: 0.5379 - val_loss: 1.4875 - val_accuracy: 0.4069\n",
      "Epoch 20/20\n",
      "1875/1875 [==============================] - ETA: 0s - loss: 0.8574 - accuracy: 0.71 - ETA: 2s - loss: 1.1702 - accuracy: 0.55 - ETA: 2s - loss: 1.1483 - accuracy: 0.53 - ETA: 1s - loss: 1.1465 - accuracy: 0.54 - ETA: 1s - loss: 1.1560 - accuracy: 0.54 - ETA: 1s - loss: 1.1467 - accuracy: 0.54 - ETA: 1s - loss: 1.1402 - accuracy: 0.55 - ETA: 1s - loss: 1.1350 - accuracy: 0.54 - ETA: 1s - loss: 1.1455 - accuracy: 0.54 - ETA: 1s - loss: 1.1473 - accuracy: 0.54 - ETA: 1s - loss: 1.1499 - accuracy: 0.54 - ETA: 1s - loss: 1.1524 - accuracy: 0.54 - ETA: 1s - loss: 1.1535 - accuracy: 0.54 - ETA: 1s - loss: 1.1532 - accuracy: 0.54 - ETA: 1s - loss: 1.1507 - accuracy: 0.54 - ETA: 1s - loss: 1.1512 - accuracy: 0.54 - ETA: 1s - loss: 1.1522 - accuracy: 0.54 - ETA: 1s - loss: 1.1522 - accuracy: 0.54 - ETA: 1s - loss: 1.1514 - accuracy: 0.54 - ETA: 1s - loss: 1.1525 - accuracy: 0.54 - ETA: 1s - loss: 1.1558 - accuracy: 0.54 - ETA: 1s - loss: 1.1565 - accuracy: 0.54 - ETA: 1s - loss: 1.1566 - accuracy: 0.54 - ETA: 0s - loss: 1.1563 - accuracy: 0.54 - ETA: 0s - loss: 1.1569 - accuracy: 0.54 - ETA: 0s - loss: 1.1576 - accuracy: 0.54 - ETA: 0s - loss: 1.1562 - accuracy: 0.54 - ETA: 0s - loss: 1.1556 - accuracy: 0.54 - ETA: 0s - loss: 1.1571 - accuracy: 0.54 - ETA: 0s - loss: 1.1559 - accuracy: 0.54 - ETA: 0s - loss: 1.1554 - accuracy: 0.54 - ETA: 0s - loss: 1.1563 - accuracy: 0.54 - ETA: 0s - loss: 1.1570 - accuracy: 0.54 - ETA: 0s - loss: 1.1578 - accuracy: 0.54 - ETA: 0s - loss: 1.1585 - accuracy: 0.54 - ETA: 0s - loss: 1.1580 - accuracy: 0.54 - ETA: 0s - loss: 1.1569 - accuracy: 0.54 - ETA: 0s - loss: 1.1571 - accuracy: 0.54 - ETA: 0s - loss: 1.1571 - accuracy: 0.54 - ETA: 0s - loss: 1.1571 - accuracy: 0.54 - ETA: 0s - loss: 1.1567 - accuracy: 0.54 - ETA: 0s - loss: 1.1559 - accuracy: 0.54 - ETA: 0s - loss: 1.1562 - accuracy: 0.54 - 3s 2ms/step - loss: 1.1567 - accuracy: 0.5426 - val_loss: 1.4756 - val_accuracy: 0.3994\n"
     ]
    },
    {
     "data": {
      "text/html": [
       "<span style=\"color:#4527A0\"><h1 style=\"font-size:18px\">Trial complete</h1></span>"
      ],
      "text/plain": [
       "<IPython.core.display.HTML object>"
      ]
     },
     "metadata": {},
     "output_type": "display_data"
    },
    {
     "data": {
      "text/html": [
       "<span style=\"color:#4527A0\"><h1 style=\"font-size:18px\">Trial summary</h1></span>"
      ],
      "text/plain": [
       "<IPython.core.display.HTML object>"
      ]
     },
     "metadata": {},
     "output_type": "display_data"
    },
    {
     "data": {
      "text/html": [
       "<span style=\"color:cyan\"> |-Trial ID: 46bae81bd1f388268d289ebf123bdbac</span>"
      ],
      "text/plain": [
       "<IPython.core.display.HTML object>"
      ]
     },
     "metadata": {},
     "output_type": "display_data"
    },
    {
     "data": {
      "text/html": [
       "<span style=\"color:cyan\"> |-Score: 0.5493624806404114</span>"
      ],
      "text/plain": [
       "<IPython.core.display.HTML object>"
      ]
     },
     "metadata": {},
     "output_type": "display_data"
    },
    {
     "data": {
      "text/html": [
       "<span style=\"color:cyan\"> |-Best step: 0</span>"
      ],
      "text/plain": [
       "<IPython.core.display.HTML object>"
      ]
     },
     "metadata": {},
     "output_type": "display_data"
    },
    {
     "data": {
      "text/html": [
       "<span style=\"color:#7E57C2\"><h2 style=\"font-size:16px\">Hyperparameters:</h2></span>"
      ],
      "text/plain": [
       "<IPython.core.display.HTML object>"
      ]
     },
     "metadata": {},
     "output_type": "display_data"
    },
    {
     "data": {
      "text/html": [
       "<span style=\"color:cyan\"> |-drop_rate_0: 0.6</span>"
      ],
      "text/plain": [
       "<IPython.core.display.HTML object>"
      ]
     },
     "metadata": {},
     "output_type": "display_data"
    },
    {
     "data": {
      "text/html": [
       "<span style=\"color:blue\"> |-drop_rate_1: 0.0</span>"
      ],
      "text/plain": [
       "<IPython.core.display.HTML object>"
      ]
     },
     "metadata": {},
     "output_type": "display_data"
    },
    {
     "data": {
      "text/html": [
       "<span style=\"color:cyan\"> |-drop_rate_2: 0.0</span>"
      ],
      "text/plain": [
       "<IPython.core.display.HTML object>"
      ]
     },
     "metadata": {},
     "output_type": "display_data"
    },
    {
     "data": {
      "text/html": [
       "<span style=\"color:blue\"> |-drop_rate_3: 0.0</span>"
      ],
      "text/plain": [
       "<IPython.core.display.HTML object>"
      ]
     },
     "metadata": {},
     "output_type": "display_data"
    },
    {
     "data": {
      "text/html": [
       "<span style=\"color:cyan\"> |-num_layers: 4</span>"
      ],
      "text/plain": [
       "<IPython.core.display.HTML object>"
      ]
     },
     "metadata": {},
     "output_type": "display_data"
    },
    {
     "data": {
      "text/html": [
       "<span style=\"color:blue\"> |-units_0: 8</span>"
      ],
      "text/plain": [
       "<IPython.core.display.HTML object>"
      ]
     },
     "metadata": {},
     "output_type": "display_data"
    },
    {
     "data": {
      "text/html": [
       "<span style=\"color:cyan\"> |-units_1: 8</span>"
      ],
      "text/plain": [
       "<IPython.core.display.HTML object>"
      ]
     },
     "metadata": {},
     "output_type": "display_data"
    },
    {
     "data": {
      "text/html": [
       "<span style=\"color:blue\"> |-units_2: 8</span>"
      ],
      "text/plain": [
       "<IPython.core.display.HTML object>"
      ]
     },
     "metadata": {},
     "output_type": "display_data"
    },
    {
     "data": {
      "text/html": [
       "<span style=\"color:cyan\"> |-units_3: 8</span>"
      ],
      "text/plain": [
       "<IPython.core.display.HTML object>"
      ]
     },
     "metadata": {},
     "output_type": "display_data"
    },
    {
     "name": "stdout",
     "output_type": "stream",
     "text": [
      "Epoch 1/20\n",
      "1875/1875 [==============================] - ETA: 0s - loss: 2.2924 - accuracy: 0.18 - ETA: 2s - loss: 2.1511 - accuracy: 0.21 - ETA: 2s - loss: 1.9867 - accuracy: 0.29 - ETA: 1s - loss: 1.8725 - accuracy: 0.34 - ETA: 1s - loss: 1.7776 - accuracy: 0.38 - ETA: 1s - loss: 1.6788 - accuracy: 0.42 - ETA: 1s - loss: 1.6193 - accuracy: 0.44 - ETA: 1s - loss: 1.5603 - accuracy: 0.46 - ETA: 1s - loss: 1.5128 - accuracy: 0.48 - ETA: 1s - loss: 1.4678 - accuracy: 0.50 - ETA: 1s - loss: 1.4301 - accuracy: 0.51 - ETA: 1s - loss: 1.3946 - accuracy: 0.53 - ETA: 1s - loss: 1.3637 - accuracy: 0.54 - ETA: 1s - loss: 1.3392 - accuracy: 0.55 - ETA: 1s - loss: 1.3141 - accuracy: 0.56 - ETA: 1s - loss: 1.2901 - accuracy: 0.57 - ETA: 1s - loss: 1.2707 - accuracy: 0.58 - ETA: 1s - loss: 1.2515 - accuracy: 0.58 - ETA: 1s - loss: 1.2328 - accuracy: 0.59 - ETA: 1s - loss: 1.2186 - accuracy: 0.60 - ETA: 0s - loss: 1.2035 - accuracy: 0.60 - ETA: 0s - loss: 1.1845 - accuracy: 0.61 - ETA: 0s - loss: 1.1713 - accuracy: 0.62 - ETA: 0s - loss: 1.1593 - accuracy: 0.62 - ETA: 0s - loss: 1.1431 - accuracy: 0.63 - ETA: 0s - loss: 1.1291 - accuracy: 0.63 - ETA: 0s - loss: 1.1157 - accuracy: 0.64 - ETA: 0s - loss: 1.1085 - accuracy: 0.64 - ETA: 0s - loss: 1.1024 - accuracy: 0.64 - ETA: 0s - loss: 1.0938 - accuracy: 0.65 - ETA: 0s - loss: 1.0835 - accuracy: 0.65 - ETA: 0s - loss: 1.0718 - accuracy: 0.65 - ETA: 0s - loss: 1.0626 - accuracy: 0.66 - ETA: 0s - loss: 1.0526 - accuracy: 0.66 - ETA: 0s - loss: 1.0450 - accuracy: 0.66 - ETA: 0s - loss: 1.0361 - accuracy: 0.67 - ETA: 0s - loss: 1.0274 - accuracy: 0.67 - ETA: 0s - loss: 1.0232 - accuracy: 0.67 - ETA: 0s - loss: 1.0159 - accuracy: 0.67 - ETA: 0s - loss: 1.0100 - accuracy: 0.68 - 3s 2ms/step - loss: 1.0032 - accuracy: 0.6837 - val_loss: 0.6179 - val_accuracy: 0.8128\n",
      "Epoch 2/20\n",
      "1875/1875 [==============================] - ETA: 0s - loss: 0.8199 - accuracy: 0.75 - ETA: 1s - loss: 0.7263 - accuracy: 0.77 - ETA: 1s - loss: 0.7390 - accuracy: 0.77 - ETA: 1s - loss: 0.7284 - accuracy: 0.77 - ETA: 1s - loss: 0.7154 - accuracy: 0.78 - ETA: 1s - loss: 0.7210 - accuracy: 0.78 - ETA: 1s - loss: 0.7116 - accuracy: 0.78 - ETA: 1s - loss: 0.7093 - accuracy: 0.78 - ETA: 1s - loss: 0.6990 - accuracy: 0.78 - ETA: 1s - loss: 0.6999 - accuracy: 0.78 - ETA: 1s - loss: 0.6984 - accuracy: 0.79 - ETA: 1s - loss: 0.6974 - accuracy: 0.79 - ETA: 1s - loss: 0.6972 - accuracy: 0.79 - ETA: 1s - loss: 0.6941 - accuracy: 0.79 - ETA: 1s - loss: 0.6942 - accuracy: 0.79 - ETA: 1s - loss: 0.6905 - accuracy: 0.79 - ETA: 1s - loss: 0.6900 - accuracy: 0.79 - ETA: 1s - loss: 0.6876 - accuracy: 0.79 - ETA: 1s - loss: 0.6837 - accuracy: 0.79 - ETA: 1s - loss: 0.6790 - accuracy: 0.79 - ETA: 1s - loss: 0.6794 - accuracy: 0.79 - ETA: 0s - loss: 0.6747 - accuracy: 0.79 - ETA: 0s - loss: 0.6767 - accuracy: 0.79 - ETA: 0s - loss: 0.6729 - accuracy: 0.79 - ETA: 0s - loss: 0.6757 - accuracy: 0.79 - ETA: 0s - loss: 0.6761 - accuracy: 0.79 - ETA: 0s - loss: 0.6761 - accuracy: 0.79 - ETA: 0s - loss: 0.6750 - accuracy: 0.79 - ETA: 0s - loss: 0.6760 - accuracy: 0.79 - ETA: 0s - loss: 0.6745 - accuracy: 0.80 - ETA: 0s - loss: 0.6722 - accuracy: 0.80 - ETA: 0s - loss: 0.6722 - accuracy: 0.80 - ETA: 0s - loss: 0.6707 - accuracy: 0.80 - ETA: 0s - loss: 0.6713 - accuracy: 0.80 - ETA: 0s - loss: 0.6709 - accuracy: 0.80 - ETA: 0s - loss: 0.6716 - accuracy: 0.80 - ETA: 0s - loss: 0.6712 - accuracy: 0.80 - ETA: 0s - loss: 0.6714 - accuracy: 0.80 - ETA: 0s - loss: 0.6692 - accuracy: 0.80 - ETA: 0s - loss: 0.6676 - accuracy: 0.80 - ETA: 0s - loss: 0.6673 - accuracy: 0.80 - 3s 1ms/step - loss: 0.6673 - accuracy: 0.8023 - val_loss: 0.5653 - val_accuracy: 0.8275\n",
      "Epoch 3/20\n",
      "1875/1875 [==============================] - ETA: 0s - loss: 0.7486 - accuracy: 0.68 - ETA: 2s - loss: 0.5743 - accuracy: 0.83 - ETA: 1s - loss: 0.5677 - accuracy: 0.82 - ETA: 1s - loss: 0.5785 - accuracy: 0.82 - ETA: 1s - loss: 0.5821 - accuracy: 0.82 - ETA: 1s - loss: 0.5870 - accuracy: 0.82 - ETA: 1s - loss: 0.5972 - accuracy: 0.81 - ETA: 1s - loss: 0.6009 - accuracy: 0.81 - ETA: 1s - loss: 0.5964 - accuracy: 0.82 - ETA: 1s - loss: 0.6007 - accuracy: 0.81 - ETA: 1s - loss: 0.5998 - accuracy: 0.81 - ETA: 1s - loss: 0.5981 - accuracy: 0.81 - ETA: 1s - loss: 0.5933 - accuracy: 0.81 - ETA: 1s - loss: 0.5936 - accuracy: 0.82 - ETA: 1s - loss: 0.5949 - accuracy: 0.82 - ETA: 1s - loss: 0.5955 - accuracy: 0.82 - ETA: 1s - loss: 0.5928 - accuracy: 0.82 - ETA: 1s - loss: 0.5893 - accuracy: 0.82 - ETA: 1s - loss: 0.5871 - accuracy: 0.82 - ETA: 1s - loss: 0.5872 - accuracy: 0.82 - ETA: 1s - loss: 0.5862 - accuracy: 0.82 - ETA: 1s - loss: 0.5861 - accuracy: 0.82 - ETA: 0s - loss: 0.5836 - accuracy: 0.82 - ETA: 0s - loss: 0.5826 - accuracy: 0.82 - ETA: 0s - loss: 0.5830 - accuracy: 0.82 - ETA: 0s - loss: 0.5816 - accuracy: 0.82 - ETA: 0s - loss: 0.5839 - accuracy: 0.82 - ETA: 0s - loss: 0.5851 - accuracy: 0.82 - ETA: 0s - loss: 0.5839 - accuracy: 0.82 - ETA: 0s - loss: 0.5832 - accuracy: 0.82 - ETA: 0s - loss: 0.5817 - accuracy: 0.82 - ETA: 0s - loss: 0.5822 - accuracy: 0.82 - ETA: 0s - loss: 0.5822 - accuracy: 0.82 - ETA: 0s - loss: 0.5819 - accuracy: 0.82 - ETA: 0s - loss: 0.5821 - accuracy: 0.82 - ETA: 0s - loss: 0.5806 - accuracy: 0.82 - ETA: 0s - loss: 0.5797 - accuracy: 0.82 - ETA: 0s - loss: 0.5798 - accuracy: 0.82 - ETA: 0s - loss: 0.5791 - accuracy: 0.82 - ETA: 0s - loss: 0.5774 - accuracy: 0.82 - ETA: 0s - loss: 0.5776 - accuracy: 0.82 - ETA: 0s - loss: 0.5782 - accuracy: 0.82 - 3s 2ms/step - loss: 0.5780 - accuracy: 0.8267 - val_loss: 0.5114 - val_accuracy: 0.8461\n",
      "Epoch 4/20\n",
      "1875/1875 [==============================] - ETA: 0s - loss: 0.5635 - accuracy: 0.81 - ETA: 1s - loss: 0.5115 - accuracy: 0.84 - ETA: 1s - loss: 0.5101 - accuracy: 0.84 - ETA: 1s - loss: 0.5341 - accuracy: 0.83 - ETA: 1s - loss: 0.5278 - accuracy: 0.83 - ETA: 1s - loss: 0.5342 - accuracy: 0.84 - ETA: 1s - loss: 0.5265 - accuracy: 0.84 - ETA: 1s - loss: 0.5204 - accuracy: 0.84 - ETA: 1s - loss: 0.5159 - accuracy: 0.84 - ETA: 1s - loss: 0.5241 - accuracy: 0.84 - ETA: 1s - loss: 0.5272 - accuracy: 0.84 - ETA: 1s - loss: 0.5273 - accuracy: 0.84 - ETA: 1s - loss: 0.5268 - accuracy: 0.84 - ETA: 1s - loss: 0.5246 - accuracy: 0.84 - ETA: 1s - loss: 0.5263 - accuracy: 0.84 - ETA: 1s - loss: 0.5248 - accuracy: 0.84 - ETA: 1s - loss: 0.5249 - accuracy: 0.84 - ETA: 1s - loss: 0.5251 - accuracy: 0.84 - ETA: 1s - loss: 0.5255 - accuracy: 0.84 - ETA: 1s - loss: 0.5270 - accuracy: 0.84 - ETA: 1s - loss: 0.5265 - accuracy: 0.84 - ETA: 0s - loss: 0.5286 - accuracy: 0.84 - ETA: 0s - loss: 0.5308 - accuracy: 0.84 - ETA: 0s - loss: 0.5299 - accuracy: 0.84 - ETA: 0s - loss: 0.5331 - accuracy: 0.84 - ETA: 0s - loss: 0.5318 - accuracy: 0.84 - ETA: 0s - loss: 0.5295 - accuracy: 0.84 - ETA: 0s - loss: 0.5292 - accuracy: 0.84 - ETA: 0s - loss: 0.5294 - accuracy: 0.84 - ETA: 0s - loss: 0.5292 - accuracy: 0.84 - ETA: 0s - loss: 0.5304 - accuracy: 0.84 - ETA: 0s - loss: 0.5297 - accuracy: 0.84 - ETA: 0s - loss: 0.5306 - accuracy: 0.84 - ETA: 0s - loss: 0.5304 - accuracy: 0.84 - ETA: 0s - loss: 0.5291 - accuracy: 0.84 - ETA: 0s - loss: 0.5282 - accuracy: 0.84 - ETA: 0s - loss: 0.5283 - accuracy: 0.84 - ETA: 0s - loss: 0.5290 - accuracy: 0.84 - ETA: 0s - loss: 0.5279 - accuracy: 0.84 - ETA: 0s - loss: 0.5287 - accuracy: 0.84 - 3s 1ms/step - loss: 0.5266 - accuracy: 0.8437 - val_loss: 0.5236 - val_accuracy: 0.8472\n",
      "Epoch 5/20\n",
      "1875/1875 [==============================] - ETA: 0s - loss: 0.5595 - accuracy: 0.90 - ETA: 1s - loss: 0.4816 - accuracy: 0.85 - ETA: 1s - loss: 0.4762 - accuracy: 0.85 - ETA: 1s - loss: 0.4973 - accuracy: 0.85 - ETA: 1s - loss: 0.4843 - accuracy: 0.85 - ETA: 1s - loss: 0.4778 - accuracy: 0.85 - ETA: 1s - loss: 0.4749 - accuracy: 0.85 - ETA: 1s - loss: 0.4763 - accuracy: 0.85 - ETA: 1s - loss: 0.4743 - accuracy: 0.85 - ETA: 1s - loss: 0.4779 - accuracy: 0.85 - ETA: 1s - loss: 0.4760 - accuracy: 0.85 - ETA: 1s - loss: 0.4750 - accuracy: 0.85 - ETA: 1s - loss: 0.4784 - accuracy: 0.85 - ETA: 1s - loss: 0.4818 - accuracy: 0.85 - ETA: 1s - loss: 0.4820 - accuracy: 0.85 - ETA: 1s - loss: 0.4837 - accuracy: 0.85 - ETA: 1s - loss: 0.4852 - accuracy: 0.85 - ETA: 1s - loss: 0.4846 - accuracy: 0.85 - ETA: 1s - loss: 0.4857 - accuracy: 0.85 - ETA: 1s - loss: 0.4852 - accuracy: 0.85 - ETA: 1s - loss: 0.4841 - accuracy: 0.85 - ETA: 0s - loss: 0.4817 - accuracy: 0.85 - ETA: 0s - loss: 0.4811 - accuracy: 0.85 - ETA: 0s - loss: 0.4817 - accuracy: 0.85 - ETA: 0s - loss: 0.4823 - accuracy: 0.85 - ETA: 0s - loss: 0.4844 - accuracy: 0.85 - ETA: 0s - loss: 0.4849 - accuracy: 0.85 - ETA: 0s - loss: 0.4860 - accuracy: 0.85 - ETA: 0s - loss: 0.4870 - accuracy: 0.85 - ETA: 0s - loss: 0.4888 - accuracy: 0.85 - ETA: 0s - loss: 0.4904 - accuracy: 0.85 - ETA: 0s - loss: 0.4914 - accuracy: 0.85 - ETA: 0s - loss: 0.4917 - accuracy: 0.85 - ETA: 0s - loss: 0.4927 - accuracy: 0.85 - ETA: 0s - loss: 0.4926 - accuracy: 0.85 - ETA: 0s - loss: 0.4923 - accuracy: 0.85 - ETA: 0s - loss: 0.4922 - accuracy: 0.85 - ETA: 0s - loss: 0.4903 - accuracy: 0.85 - ETA: 0s - loss: 0.4907 - accuracy: 0.85 - ETA: 0s - loss: 0.4899 - accuracy: 0.85 - ETA: 0s - loss: 0.4898 - accuracy: 0.85 - 3s 2ms/step - loss: 0.4897 - accuracy: 0.8547 - val_loss: 0.4958 - val_accuracy: 0.8541\n",
      "Epoch 6/20\n",
      "1875/1875 [==============================] - ETA: 0s - loss: 0.2852 - accuracy: 0.93 - ETA: 1s - loss: 0.4698 - accuracy: 0.86 - ETA: 1s - loss: 0.4631 - accuracy: 0.85 - ETA: 1s - loss: 0.4503 - accuracy: 0.86 - ETA: 1s - loss: 0.4387 - accuracy: 0.86 - ETA: 1s - loss: 0.4450 - accuracy: 0.86 - ETA: 1s - loss: 0.4478 - accuracy: 0.86 - ETA: 1s - loss: 0.4549 - accuracy: 0.86 - ETA: 1s - loss: 0.4606 - accuracy: 0.86 - ETA: 1s - loss: 0.4613 - accuracy: 0.86 - ETA: 1s - loss: 0.4581 - accuracy: 0.86 - ETA: 1s - loss: 0.4553 - accuracy: 0.86 - ETA: 1s - loss: 0.4550 - accuracy: 0.86 - ETA: 1s - loss: 0.4574 - accuracy: 0.86 - ETA: 1s - loss: 0.4568 - accuracy: 0.86 - ETA: 1s - loss: 0.4570 - accuracy: 0.86 - ETA: 1s - loss: 0.4581 - accuracy: 0.86 - ETA: 1s - loss: 0.4582 - accuracy: 0.86 - ETA: 1s - loss: 0.4586 - accuracy: 0.86 - ETA: 1s - loss: 0.4569 - accuracy: 0.86 - ETA: 1s - loss: 0.4581 - accuracy: 0.86 - ETA: 1s - loss: 0.4604 - accuracy: 0.86 - ETA: 0s - loss: 0.4607 - accuracy: 0.86 - ETA: 0s - loss: 0.4593 - accuracy: 0.86 - ETA: 0s - loss: 0.4591 - accuracy: 0.86 - ETA: 0s - loss: 0.4585 - accuracy: 0.86 - ETA: 0s - loss: 0.4595 - accuracy: 0.86 - ETA: 0s - loss: 0.4597 - accuracy: 0.86 - ETA: 0s - loss: 0.4614 - accuracy: 0.86 - ETA: 0s - loss: 0.4611 - accuracy: 0.86 - ETA: 0s - loss: 0.4603 - accuracy: 0.86 - ETA: 0s - loss: 0.4615 - accuracy: 0.86 - ETA: 0s - loss: 0.4608 - accuracy: 0.86 - ETA: 0s - loss: 0.4605 - accuracy: 0.86 - ETA: 0s - loss: 0.4618 - accuracy: 0.86 - ETA: 0s - loss: 0.4624 - accuracy: 0.86 - ETA: 0s - loss: 0.4621 - accuracy: 0.86 - ETA: 0s - loss: 0.4614 - accuracy: 0.86 - ETA: 0s - loss: 0.4625 - accuracy: 0.86 - ETA: 0s - loss: 0.4634 - accuracy: 0.86 - ETA: 0s - loss: 0.4635 - accuracy: 0.86 - ETA: 0s - loss: 0.4638 - accuracy: 0.86 - 3s 2ms/step - loss: 0.4647 - accuracy: 0.8623 - val_loss: 0.4908 - val_accuracy: 0.8539\n",
      "Epoch 7/20\n",
      "1875/1875 [==============================] - ETA: 0s - loss: 0.1999 - accuracy: 0.96 - ETA: 1s - loss: 0.4409 - accuracy: 0.86 - ETA: 1s - loss: 0.4580 - accuracy: 0.86 - ETA: 1s - loss: 0.4456 - accuracy: 0.86 - ETA: 1s - loss: 0.4275 - accuracy: 0.87 - ETA: 1s - loss: 0.4269 - accuracy: 0.87 - ETA: 1s - loss: 0.4338 - accuracy: 0.87 - ETA: 1s - loss: 0.4315 - accuracy: 0.87 - ETA: 1s - loss: 0.4285 - accuracy: 0.87 - ETA: 1s - loss: 0.4327 - accuracy: 0.87 - ETA: 1s - loss: 0.4316 - accuracy: 0.87 - ETA: 1s - loss: 0.4335 - accuracy: 0.87 - ETA: 1s - loss: 0.4351 - accuracy: 0.87 - ETA: 1s - loss: 0.4334 - accuracy: 0.87 - ETA: 1s - loss: 0.4320 - accuracy: 0.87 - ETA: 1s - loss: 0.4338 - accuracy: 0.87 - ETA: 1s - loss: 0.4342 - accuracy: 0.87 - ETA: 1s - loss: 0.4348 - accuracy: 0.86 - ETA: 1s - loss: 0.4346 - accuracy: 0.87 - ETA: 1s - loss: 0.4348 - accuracy: 0.87 - ETA: 1s - loss: 0.4343 - accuracy: 0.87 - ETA: 0s - loss: 0.4344 - accuracy: 0.87 - ETA: 0s - loss: 0.4344 - accuracy: 0.86 - ETA: 0s - loss: 0.4368 - accuracy: 0.86 - ETA: 0s - loss: 0.4359 - accuracy: 0.86 - ETA: 0s - loss: 0.4353 - accuracy: 0.87 - ETA: 0s - loss: 0.4352 - accuracy: 0.87 - ETA: 0s - loss: 0.4334 - accuracy: 0.87 - ETA: 0s - loss: 0.4340 - accuracy: 0.87 - ETA: 0s - loss: 0.4332 - accuracy: 0.87 - ETA: 0s - loss: 0.4334 - accuracy: 0.87 - ETA: 0s - loss: 0.4339 - accuracy: 0.87 - ETA: 0s - loss: 0.4342 - accuracy: 0.87 - ETA: 0s - loss: 0.4340 - accuracy: 0.87 - ETA: 0s - loss: 0.4337 - accuracy: 0.87 - ETA: 0s - loss: 0.4341 - accuracy: 0.87 - ETA: 0s - loss: 0.4347 - accuracy: 0.87 - ETA: 0s - loss: 0.4365 - accuracy: 0.87 - ETA: 0s - loss: 0.4367 - accuracy: 0.87 - ETA: 0s - loss: 0.4352 - accuracy: 0.87 - 3s 1ms/step - loss: 0.4349 - accuracy: 0.8710 - val_loss: 0.4866 - val_accuracy: 0.8563\n",
      "Epoch 8/20\n",
      "1875/1875 [==============================] - ETA: 0s - loss: 0.6647 - accuracy: 0.75 - ETA: 1s - loss: 0.4072 - accuracy: 0.87 - ETA: 2s - loss: 0.3710 - accuracy: 0.88 - ETA: 1s - loss: 0.3769 - accuracy: 0.88 - ETA: 1s - loss: 0.4007 - accuracy: 0.87 - ETA: 1s - loss: 0.4120 - accuracy: 0.87 - ETA: 1s - loss: 0.4125 - accuracy: 0.87 - ETA: 1s - loss: 0.4063 - accuracy: 0.87 - ETA: 1s - loss: 0.4115 - accuracy: 0.87 - ETA: 1s - loss: 0.4079 - accuracy: 0.87 - ETA: 1s - loss: 0.4033 - accuracy: 0.87 - ETA: 1s - loss: 0.4053 - accuracy: 0.87 - ETA: 1s - loss: 0.4049 - accuracy: 0.87 - ETA: 1s - loss: 0.4070 - accuracy: 0.87 - ETA: 1s - loss: 0.4079 - accuracy: 0.87 - ETA: 1s - loss: 0.4097 - accuracy: 0.87 - ETA: 1s - loss: 0.4088 - accuracy: 0.87 - ETA: 1s - loss: 0.4086 - accuracy: 0.87 - ETA: 1s - loss: 0.4086 - accuracy: 0.87 - ETA: 1s - loss: 0.4065 - accuracy: 0.87 - ETA: 1s - loss: 0.4073 - accuracy: 0.87 - ETA: 0s - loss: 0.4063 - accuracy: 0.87 - ETA: 0s - loss: 0.4062 - accuracy: 0.87 - ETA: 0s - loss: 0.4079 - accuracy: 0.87 - ETA: 0s - loss: 0.4073 - accuracy: 0.87 - ETA: 0s - loss: 0.4067 - accuracy: 0.87 - ETA: 0s - loss: 0.4061 - accuracy: 0.87 - ETA: 0s - loss: 0.4063 - accuracy: 0.87 - ETA: 0s - loss: 0.4067 - accuracy: 0.87 - ETA: 0s - loss: 0.4068 - accuracy: 0.87 - ETA: 0s - loss: 0.4071 - accuracy: 0.87 - ETA: 0s - loss: 0.4086 - accuracy: 0.87 - ETA: 0s - loss: 0.4090 - accuracy: 0.87 - ETA: 0s - loss: 0.4104 - accuracy: 0.87 - ETA: 0s - loss: 0.4110 - accuracy: 0.87 - ETA: 0s - loss: 0.4117 - accuracy: 0.87 - ETA: 0s - loss: 0.4121 - accuracy: 0.87 - ETA: 0s - loss: 0.4123 - accuracy: 0.87 - ETA: 0s - loss: 0.4130 - accuracy: 0.87 - ETA: 0s - loss: 0.4135 - accuracy: 0.87 - ETA: 0s - loss: 0.4136 - accuracy: 0.87 - 3s 2ms/step - loss: 0.4138 - accuracy: 0.8768 - val_loss: 0.4862 - val_accuracy: 0.8568\n",
      "Epoch 9/20\n"
     ]
    },
    {
     "name": "stdout",
     "output_type": "stream",
     "text": [
      "1875/1875 [==============================] - ETA: 0s - loss: 0.3880 - accuracy: 0.90 - ETA: 2s - loss: 0.3922 - accuracy: 0.88 - ETA: 2s - loss: 0.4083 - accuracy: 0.87 - ETA: 1s - loss: 0.3910 - accuracy: 0.88 - ETA: 1s - loss: 0.3847 - accuracy: 0.88 - ETA: 1s - loss: 0.3829 - accuracy: 0.88 - ETA: 1s - loss: 0.3846 - accuracy: 0.88 - ETA: 1s - loss: 0.3797 - accuracy: 0.88 - ETA: 1s - loss: 0.3800 - accuracy: 0.88 - ETA: 1s - loss: 0.3854 - accuracy: 0.88 - ETA: 1s - loss: 0.3857 - accuracy: 0.88 - ETA: 1s - loss: 0.3827 - accuracy: 0.88 - ETA: 1s - loss: 0.3859 - accuracy: 0.88 - ETA: 1s - loss: 0.3835 - accuracy: 0.88 - ETA: 1s - loss: 0.3847 - accuracy: 0.88 - ETA: 1s - loss: 0.3862 - accuracy: 0.88 - ETA: 1s - loss: 0.3862 - accuracy: 0.88 - ETA: 1s - loss: 0.3831 - accuracy: 0.88 - ETA: 1s - loss: 0.3842 - accuracy: 0.88 - ETA: 1s - loss: 0.3845 - accuracy: 0.88 - ETA: 1s - loss: 0.3847 - accuracy: 0.88 - ETA: 1s - loss: 0.3835 - accuracy: 0.88 - ETA: 1s - loss: 0.3843 - accuracy: 0.88 - ETA: 0s - loss: 0.3864 - accuracy: 0.88 - ETA: 0s - loss: 0.3859 - accuracy: 0.88 - ETA: 0s - loss: 0.3856 - accuracy: 0.88 - ETA: 0s - loss: 0.3858 - accuracy: 0.88 - ETA: 0s - loss: 0.3857 - accuracy: 0.88 - ETA: 0s - loss: 0.3871 - accuracy: 0.88 - ETA: 0s - loss: 0.3876 - accuracy: 0.88 - ETA: 0s - loss: 0.3869 - accuracy: 0.88 - ETA: 0s - loss: 0.3884 - accuracy: 0.88 - ETA: 0s - loss: 0.3880 - accuracy: 0.88 - ETA: 0s - loss: 0.3889 - accuracy: 0.88 - ETA: 0s - loss: 0.3901 - accuracy: 0.88 - ETA: 0s - loss: 0.3901 - accuracy: 0.88 - ETA: 0s - loss: 0.3904 - accuracy: 0.88 - ETA: 0s - loss: 0.3902 - accuracy: 0.88 - ETA: 0s - loss: 0.3925 - accuracy: 0.88 - ETA: 0s - loss: 0.3936 - accuracy: 0.88 - ETA: 0s - loss: 0.3947 - accuracy: 0.88 - ETA: 0s - loss: 0.3942 - accuracy: 0.88 - ETA: 0s - loss: 0.3960 - accuracy: 0.88 - 3s 2ms/step - loss: 0.3960 - accuracy: 0.8825 - val_loss: 0.4882 - val_accuracy: 0.8595\n",
      "Epoch 10/20\n",
      "1875/1875 [==============================] - ETA: 0s - loss: 0.3878 - accuracy: 0.90 - ETA: 1s - loss: 0.3517 - accuracy: 0.89 - ETA: 1s - loss: 0.3386 - accuracy: 0.89 - ETA: 1s - loss: 0.3438 - accuracy: 0.89 - ETA: 1s - loss: 0.3471 - accuracy: 0.89 - ETA: 1s - loss: 0.3429 - accuracy: 0.89 - ETA: 1s - loss: 0.3430 - accuracy: 0.89 - ETA: 1s - loss: 0.3492 - accuracy: 0.89 - ETA: 1s - loss: 0.3536 - accuracy: 0.89 - ETA: 1s - loss: 0.3545 - accuracy: 0.89 - ETA: 1s - loss: 0.3610 - accuracy: 0.89 - ETA: 1s - loss: 0.3606 - accuracy: 0.89 - ETA: 1s - loss: 0.3618 - accuracy: 0.89 - ETA: 1s - loss: 0.3645 - accuracy: 0.89 - ETA: 1s - loss: 0.3639 - accuracy: 0.89 - ETA: 1s - loss: 0.3639 - accuracy: 0.89 - ETA: 1s - loss: 0.3640 - accuracy: 0.89 - ETA: 1s - loss: 0.3634 - accuracy: 0.89 - ETA: 1s - loss: 0.3641 - accuracy: 0.89 - ETA: 1s - loss: 0.3641 - accuracy: 0.89 - ETA: 1s - loss: 0.3666 - accuracy: 0.89 - ETA: 1s - loss: 0.3672 - accuracy: 0.89 - ETA: 1s - loss: 0.3677 - accuracy: 0.89 - ETA: 0s - loss: 0.3682 - accuracy: 0.89 - ETA: 0s - loss: 0.3687 - accuracy: 0.89 - ETA: 0s - loss: 0.3669 - accuracy: 0.89 - ETA: 0s - loss: 0.3695 - accuracy: 0.89 - ETA: 0s - loss: 0.3696 - accuracy: 0.89 - ETA: 0s - loss: 0.3709 - accuracy: 0.88 - ETA: 0s - loss: 0.3743 - accuracy: 0.88 - ETA: 0s - loss: 0.3747 - accuracy: 0.88 - ETA: 0s - loss: 0.3747 - accuracy: 0.88 - ETA: 0s - loss: 0.3756 - accuracy: 0.88 - ETA: 0s - loss: 0.3744 - accuracy: 0.88 - ETA: 0s - loss: 0.3752 - accuracy: 0.88 - ETA: 0s - loss: 0.3763 - accuracy: 0.88 - ETA: 0s - loss: 0.3760 - accuracy: 0.88 - ETA: 0s - loss: 0.3771 - accuracy: 0.88 - ETA: 0s - loss: 0.3771 - accuracy: 0.88 - ETA: 0s - loss: 0.3772 - accuracy: 0.88 - ETA: 0s - loss: 0.3772 - accuracy: 0.88 - ETA: 0s - loss: 0.3772 - accuracy: 0.88 - ETA: 0s - loss: 0.3780 - accuracy: 0.88 - 3s 2ms/step - loss: 0.3783 - accuracy: 0.8876 - val_loss: 0.4861 - val_accuracy: 0.8607\n",
      "Epoch 11/20\n",
      "1875/1875 [==============================] - ETA: 0s - loss: 0.6091 - accuracy: 0.84 - ETA: 1s - loss: 0.3248 - accuracy: 0.89 - ETA: 1s - loss: 0.3269 - accuracy: 0.89 - ETA: 1s - loss: 0.3434 - accuracy: 0.89 - ETA: 1s - loss: 0.3515 - accuracy: 0.89 - ETA: 1s - loss: 0.3466 - accuracy: 0.89 - ETA: 1s - loss: 0.3514 - accuracy: 0.89 - ETA: 1s - loss: 0.3529 - accuracy: 0.89 - ETA: 1s - loss: 0.3554 - accuracy: 0.89 - ETA: 1s - loss: 0.3569 - accuracy: 0.89 - ETA: 1s - loss: 0.3577 - accuracy: 0.89 - ETA: 1s - loss: 0.3607 - accuracy: 0.89 - ETA: 1s - loss: 0.3582 - accuracy: 0.89 - ETA: 1s - loss: 0.3570 - accuracy: 0.89 - ETA: 1s - loss: 0.3602 - accuracy: 0.89 - ETA: 1s - loss: 0.3593 - accuracy: 0.89 - ETA: 1s - loss: 0.3613 - accuracy: 0.89 - ETA: 1s - loss: 0.3622 - accuracy: 0.89 - ETA: 1s - loss: 0.3609 - accuracy: 0.89 - ETA: 1s - loss: 0.3624 - accuracy: 0.89 - ETA: 1s - loss: 0.3626 - accuracy: 0.89 - ETA: 0s - loss: 0.3626 - accuracy: 0.89 - ETA: 0s - loss: 0.3650 - accuracy: 0.89 - ETA: 0s - loss: 0.3645 - accuracy: 0.89 - ETA: 0s - loss: 0.3654 - accuracy: 0.89 - ETA: 0s - loss: 0.3655 - accuracy: 0.89 - ETA: 0s - loss: 0.3644 - accuracy: 0.89 - ETA: 0s - loss: 0.3648 - accuracy: 0.89 - ETA: 0s - loss: 0.3647 - accuracy: 0.89 - ETA: 0s - loss: 0.3641 - accuracy: 0.89 - ETA: 0s - loss: 0.3636 - accuracy: 0.89 - ETA: 0s - loss: 0.3623 - accuracy: 0.89 - ETA: 0s - loss: 0.3623 - accuracy: 0.89 - ETA: 0s - loss: 0.3631 - accuracy: 0.89 - ETA: 0s - loss: 0.3622 - accuracy: 0.89 - ETA: 0s - loss: 0.3623 - accuracy: 0.89 - ETA: 0s - loss: 0.3625 - accuracy: 0.89 - ETA: 0s - loss: 0.3632 - accuracy: 0.89 - ETA: 0s - loss: 0.3634 - accuracy: 0.89 - ETA: 0s - loss: 0.3643 - accuracy: 0.89 - 3s 1ms/step - loss: 0.3645 - accuracy: 0.8909 - val_loss: 0.4835 - val_accuracy: 0.8606\n",
      "Epoch 12/20\n",
      "1875/1875 [==============================] - ETA: 0s - loss: 0.3708 - accuracy: 0.87 - ETA: 1s - loss: 0.4160 - accuracy: 0.87 - ETA: 1s - loss: 0.3808 - accuracy: 0.89 - ETA: 1s - loss: 0.3587 - accuracy: 0.89 - ETA: 1s - loss: 0.3543 - accuracy: 0.89 - ETA: 1s - loss: 0.3501 - accuracy: 0.89 - ETA: 1s - loss: 0.3517 - accuracy: 0.89 - ETA: 1s - loss: 0.3513 - accuracy: 0.89 - ETA: 1s - loss: 0.3539 - accuracy: 0.89 - ETA: 1s - loss: 0.3506 - accuracy: 0.89 - ETA: 1s - loss: 0.3511 - accuracy: 0.89 - ETA: 1s - loss: 0.3520 - accuracy: 0.89 - ETA: 1s - loss: 0.3511 - accuracy: 0.89 - ETA: 1s - loss: 0.3518 - accuracy: 0.89 - ETA: 1s - loss: 0.3526 - accuracy: 0.89 - ETA: 1s - loss: 0.3505 - accuracy: 0.89 - ETA: 1s - loss: 0.3523 - accuracy: 0.89 - ETA: 1s - loss: 0.3514 - accuracy: 0.89 - ETA: 1s - loss: 0.3492 - accuracy: 0.89 - ETA: 1s - loss: 0.3505 - accuracy: 0.89 - ETA: 1s - loss: 0.3505 - accuracy: 0.89 - ETA: 0s - loss: 0.3526 - accuracy: 0.89 - ETA: 0s - loss: 0.3555 - accuracy: 0.89 - ETA: 0s - loss: 0.3564 - accuracy: 0.89 - ETA: 0s - loss: 0.3558 - accuracy: 0.89 - ETA: 0s - loss: 0.3559 - accuracy: 0.89 - ETA: 0s - loss: 0.3571 - accuracy: 0.89 - ETA: 0s - loss: 0.3557 - accuracy: 0.89 - ETA: 0s - loss: 0.3570 - accuracy: 0.89 - ETA: 0s - loss: 0.3565 - accuracy: 0.89 - ETA: 0s - loss: 0.3560 - accuracy: 0.89 - ETA: 0s - loss: 0.3547 - accuracy: 0.89 - ETA: 0s - loss: 0.3547 - accuracy: 0.89 - ETA: 0s - loss: 0.3530 - accuracy: 0.89 - ETA: 0s - loss: 0.3537 - accuracy: 0.89 - ETA: 0s - loss: 0.3536 - accuracy: 0.89 - ETA: 0s - loss: 0.3543 - accuracy: 0.89 - ETA: 0s - loss: 0.3549 - accuracy: 0.89 - ETA: 0s - loss: 0.3554 - accuracy: 0.89 - ETA: 0s - loss: 0.3549 - accuracy: 0.89 - ETA: 0s - loss: 0.3555 - accuracy: 0.89 - 3s 2ms/step - loss: 0.3550 - accuracy: 0.8952 - val_loss: 0.4960 - val_accuracy: 0.8633\n",
      "Epoch 13/20\n",
      "1875/1875 [==============================] - ETA: 0s - loss: 0.1952 - accuracy: 0.93 - ETA: 1s - loss: 0.2984 - accuracy: 0.91 - ETA: 1s - loss: 0.3078 - accuracy: 0.90 - ETA: 1s - loss: 0.3094 - accuracy: 0.90 - ETA: 1s - loss: 0.3089 - accuracy: 0.90 - ETA: 1s - loss: 0.3178 - accuracy: 0.90 - ETA: 1s - loss: 0.3167 - accuracy: 0.90 - ETA: 1s - loss: 0.3120 - accuracy: 0.90 - ETA: 1s - loss: 0.3138 - accuracy: 0.90 - ETA: 1s - loss: 0.3216 - accuracy: 0.90 - ETA: 1s - loss: 0.3222 - accuracy: 0.90 - ETA: 1s - loss: 0.3254 - accuracy: 0.90 - ETA: 1s - loss: 0.3251 - accuracy: 0.90 - ETA: 1s - loss: 0.3255 - accuracy: 0.90 - ETA: 1s - loss: 0.3255 - accuracy: 0.90 - ETA: 1s - loss: 0.3251 - accuracy: 0.90 - ETA: 1s - loss: 0.3264 - accuracy: 0.90 - ETA: 1s - loss: 0.3277 - accuracy: 0.90 - ETA: 1s - loss: 0.3285 - accuracy: 0.90 - ETA: 1s - loss: 0.3275 - accuracy: 0.90 - ETA: 1s - loss: 0.3287 - accuracy: 0.90 - ETA: 1s - loss: 0.3308 - accuracy: 0.90 - ETA: 0s - loss: 0.3319 - accuracy: 0.90 - ETA: 0s - loss: 0.3329 - accuracy: 0.90 - ETA: 0s - loss: 0.3346 - accuracy: 0.90 - ETA: 0s - loss: 0.3348 - accuracy: 0.90 - ETA: 0s - loss: 0.3370 - accuracy: 0.90 - ETA: 0s - loss: 0.3368 - accuracy: 0.90 - ETA: 0s - loss: 0.3376 - accuracy: 0.90 - ETA: 0s - loss: 0.3369 - accuracy: 0.90 - ETA: 0s - loss: 0.3364 - accuracy: 0.90 - ETA: 0s - loss: 0.3373 - accuracy: 0.89 - ETA: 0s - loss: 0.3384 - accuracy: 0.89 - ETA: 0s - loss: 0.3386 - accuracy: 0.89 - ETA: 0s - loss: 0.3396 - accuracy: 0.89 - ETA: 0s - loss: 0.3396 - accuracy: 0.89 - ETA: 0s - loss: 0.3407 - accuracy: 0.89 - ETA: 0s - loss: 0.3413 - accuracy: 0.89 - ETA: 0s - loss: 0.3425 - accuracy: 0.89 - ETA: 0s - loss: 0.3432 - accuracy: 0.89 - ETA: 0s - loss: 0.3429 - accuracy: 0.89 - ETA: 0s - loss: 0.3427 - accuracy: 0.89 - ETA: 0s - loss: 0.3433 - accuracy: 0.89 - 3s 2ms/step - loss: 0.3433 - accuracy: 0.8984 - val_loss: 0.5091 - val_accuracy: 0.8611\n",
      "Epoch 14/20\n",
      "1875/1875 [==============================] - ETA: 0s - loss: 0.5903 - accuracy: 0.87 - ETA: 2s - loss: 0.3220 - accuracy: 0.90 - ETA: 2s - loss: 0.3076 - accuracy: 0.90 - ETA: 1s - loss: 0.3172 - accuracy: 0.90 - ETA: 1s - loss: 0.3142 - accuracy: 0.90 - ETA: 1s - loss: 0.3245 - accuracy: 0.90 - ETA: 1s - loss: 0.3204 - accuracy: 0.90 - ETA: 1s - loss: 0.3179 - accuracy: 0.90 - ETA: 1s - loss: 0.3168 - accuracy: 0.90 - ETA: 1s - loss: 0.3172 - accuracy: 0.90 - ETA: 1s - loss: 0.3244 - accuracy: 0.90 - ETA: 1s - loss: 0.3203 - accuracy: 0.90 - ETA: 1s - loss: 0.3232 - accuracy: 0.90 - ETA: 1s - loss: 0.3271 - accuracy: 0.90 - ETA: 1s - loss: 0.3288 - accuracy: 0.90 - ETA: 1s - loss: 0.3278 - accuracy: 0.90 - ETA: 1s - loss: 0.3265 - accuracy: 0.90 - ETA: 1s - loss: 0.3255 - accuracy: 0.90 - ETA: 1s - loss: 0.3267 - accuracy: 0.90 - ETA: 1s - loss: 0.3278 - accuracy: 0.90 - ETA: 1s - loss: 0.3281 - accuracy: 0.90 - ETA: 1s - loss: 0.3299 - accuracy: 0.90 - ETA: 0s - loss: 0.3313 - accuracy: 0.90 - ETA: 0s - loss: 0.3303 - accuracy: 0.90 - ETA: 0s - loss: 0.3293 - accuracy: 0.90 - ETA: 0s - loss: 0.3298 - accuracy: 0.90 - ETA: 0s - loss: 0.3310 - accuracy: 0.90 - ETA: 0s - loss: 0.3325 - accuracy: 0.90 - ETA: 0s - loss: 0.3321 - accuracy: 0.90 - ETA: 0s - loss: 0.3326 - accuracy: 0.90 - ETA: 0s - loss: 0.3339 - accuracy: 0.90 - ETA: 0s - loss: 0.3337 - accuracy: 0.90 - ETA: 0s - loss: 0.3330 - accuracy: 0.90 - ETA: 0s - loss: 0.3335 - accuracy: 0.90 - ETA: 0s - loss: 0.3330 - accuracy: 0.90 - ETA: 0s - loss: 0.3337 - accuracy: 0.90 - ETA: 0s - loss: 0.3331 - accuracy: 0.90 - ETA: 0s - loss: 0.3339 - accuracy: 0.90 - ETA: 0s - loss: 0.3336 - accuracy: 0.90 - ETA: 0s - loss: 0.3328 - accuracy: 0.90 - ETA: 0s - loss: 0.3330 - accuracy: 0.90 - ETA: 0s - loss: 0.3333 - accuracy: 0.90 - 3s 2ms/step - loss: 0.3335 - accuracy: 0.9009 - val_loss: 0.5117 - val_accuracy: 0.8629\n",
      "Epoch 15/20\n",
      "1875/1875 [==============================] - ETA: 0s - loss: 0.1913 - accuracy: 0.96 - ETA: 2s - loss: 0.3129 - accuracy: 0.90 - ETA: 2s - loss: 0.3349 - accuracy: 0.90 - ETA: 1s - loss: 0.3255 - accuracy: 0.90 - ETA: 1s - loss: 0.3222 - accuracy: 0.90 - ETA: 1s - loss: 0.3197 - accuracy: 0.90 - ETA: 1s - loss: 0.3153 - accuracy: 0.90 - ETA: 1s - loss: 0.3143 - accuracy: 0.90 - ETA: 1s - loss: 0.3119 - accuracy: 0.90 - ETA: 1s - loss: 0.3093 - accuracy: 0.90 - ETA: 1s - loss: 0.3099 - accuracy: 0.90 - ETA: 1s - loss: 0.3088 - accuracy: 0.90 - ETA: 1s - loss: 0.3053 - accuracy: 0.90 - ETA: 1s - loss: 0.3068 - accuracy: 0.90 - ETA: 1s - loss: 0.3086 - accuracy: 0.90 - ETA: 1s - loss: 0.3094 - accuracy: 0.90 - ETA: 1s - loss: 0.3104 - accuracy: 0.90 - ETA: 1s - loss: 0.3108 - accuracy: 0.90 - ETA: 1s - loss: 0.3120 - accuracy: 0.90 - ETA: 1s - loss: 0.3139 - accuracy: 0.90 - ETA: 1s - loss: 0.3131 - accuracy: 0.90 - ETA: 1s - loss: 0.3148 - accuracy: 0.90 - ETA: 0s - loss: 0.3145 - accuracy: 0.90 - ETA: 0s - loss: 0.3148 - accuracy: 0.90 - ETA: 0s - loss: 0.3160 - accuracy: 0.90 - ETA: 0s - loss: 0.3158 - accuracy: 0.90 - ETA: 0s - loss: 0.3176 - accuracy: 0.90 - ETA: 0s - loss: 0.3192 - accuracy: 0.90 - ETA: 0s - loss: 0.3193 - accuracy: 0.90 - ETA: 0s - loss: 0.3192 - accuracy: 0.90 - ETA: 0s - loss: 0.3191 - accuracy: 0.90 - ETA: 0s - loss: 0.3184 - accuracy: 0.90 - ETA: 0s - loss: 0.3188 - accuracy: 0.90 - ETA: 0s - loss: 0.3203 - accuracy: 0.90 - ETA: 0s - loss: 0.3203 - accuracy: 0.90 - ETA: 0s - loss: 0.3204 - accuracy: 0.90 - ETA: 0s - loss: 0.3202 - accuracy: 0.90 - ETA: 0s - loss: 0.3203 - accuracy: 0.90 - ETA: 0s - loss: 0.3220 - accuracy: 0.90 - ETA: 0s - loss: 0.3216 - accuracy: 0.90 - ETA: 0s - loss: 0.3215 - accuracy: 0.90 - ETA: 0s - loss: 0.3210 - accuracy: 0.90 - 3s 2ms/step - loss: 0.3214 - accuracy: 0.9042 - val_loss: 0.5215 - val_accuracy: 0.8608\n",
      "Epoch 16/20\n",
      "1875/1875 [==============================] - ETA: 0s - loss: 0.1864 - accuracy: 0.93 - ETA: 1s - loss: 0.3148 - accuracy: 0.91 - ETA: 1s - loss: 0.3375 - accuracy: 0.90 - ETA: 1s - loss: 0.3191 - accuracy: 0.90 - ETA: 1s - loss: 0.3081 - accuracy: 0.91 - ETA: 1s - loss: 0.3007 - accuracy: 0.91 - ETA: 1s - loss: 0.2991 - accuracy: 0.91 - ETA: 1s - loss: 0.2970 - accuracy: 0.91 - ETA: 1s - loss: 0.3008 - accuracy: 0.91 - ETA: 1s - loss: 0.3002 - accuracy: 0.91 - ETA: 1s - loss: 0.3021 - accuracy: 0.91 - ETA: 1s - loss: 0.3023 - accuracy: 0.91 - ETA: 1s - loss: 0.3046 - accuracy: 0.90 - ETA: 1s - loss: 0.3029 - accuracy: 0.90 - ETA: 1s - loss: 0.3016 - accuracy: 0.91 - ETA: 1s - loss: 0.3012 - accuracy: 0.91 - ETA: 1s - loss: 0.3039 - accuracy: 0.90 - ETA: 1s - loss: 0.3024 - accuracy: 0.90 - ETA: 1s - loss: 0.3024 - accuracy: 0.90 - ETA: 1s - loss: 0.3016 - accuracy: 0.90 - ETA: 1s - loss: 0.3026 - accuracy: 0.90 - ETA: 0s - loss: 0.3051 - accuracy: 0.90 - ETA: 0s - loss: 0.3063 - accuracy: 0.90 - ETA: 0s - loss: 0.3069 - accuracy: 0.90 - ETA: 0s - loss: 0.3061 - accuracy: 0.90 - ETA: 0s - loss: 0.3062 - accuracy: 0.90 - ETA: 0s - loss: 0.3079 - accuracy: 0.90 - ETA: 0s - loss: 0.3092 - accuracy: 0.90 - ETA: 0s - loss: 0.3094 - accuracy: 0.90 - ETA: 0s - loss: 0.3098 - accuracy: 0.90 - ETA: 0s - loss: 0.3099 - accuracy: 0.90 - ETA: 0s - loss: 0.3090 - accuracy: 0.90 - ETA: 0s - loss: 0.3110 - accuracy: 0.90 - ETA: 0s - loss: 0.3123 - accuracy: 0.90 - ETA: 0s - loss: 0.3113 - accuracy: 0.90 - ETA: 0s - loss: 0.3123 - accuracy: 0.90 - ETA: 0s - loss: 0.3144 - accuracy: 0.90 - ETA: 0s - loss: 0.3134 - accuracy: 0.90 - ETA: 0s - loss: 0.3132 - accuracy: 0.90 - ETA: 0s - loss: 0.3133 - accuracy: 0.90 - 3s 1ms/step - loss: 0.3129 - accuracy: 0.9067 - val_loss: 0.5475 - val_accuracy: 0.8578\n",
      "Epoch 17/20\n"
     ]
    },
    {
     "name": "stdout",
     "output_type": "stream",
     "text": [
      "1875/1875 [==============================] - ETA: 0s - loss: 0.4526 - accuracy: 0.81 - ETA: 1s - loss: 0.3107 - accuracy: 0.90 - ETA: 1s - loss: 0.2987 - accuracy: 0.91 - ETA: 1s - loss: 0.2956 - accuracy: 0.91 - ETA: 1s - loss: 0.2940 - accuracy: 0.91 - ETA: 1s - loss: 0.2937 - accuracy: 0.91 - ETA: 1s - loss: 0.2909 - accuracy: 0.91 - ETA: 1s - loss: 0.2899 - accuracy: 0.91 - ETA: 1s - loss: 0.2931 - accuracy: 0.91 - ETA: 1s - loss: 0.2909 - accuracy: 0.91 - ETA: 1s - loss: 0.2916 - accuracy: 0.91 - ETA: 1s - loss: 0.2954 - accuracy: 0.91 - ETA: 1s - loss: 0.2948 - accuracy: 0.91 - ETA: 1s - loss: 0.2931 - accuracy: 0.91 - ETA: 1s - loss: 0.2928 - accuracy: 0.91 - ETA: 1s - loss: 0.2937 - accuracy: 0.91 - ETA: 1s - loss: 0.2951 - accuracy: 0.91 - ETA: 1s - loss: 0.2949 - accuracy: 0.91 - ETA: 1s - loss: 0.2945 - accuracy: 0.91 - ETA: 1s - loss: 0.2953 - accuracy: 0.91 - ETA: 0s - loss: 0.2954 - accuracy: 0.91 - ETA: 0s - loss: 0.2977 - accuracy: 0.91 - ETA: 0s - loss: 0.2960 - accuracy: 0.91 - ETA: 0s - loss: 0.2953 - accuracy: 0.91 - ETA: 0s - loss: 0.2958 - accuracy: 0.91 - ETA: 0s - loss: 0.2968 - accuracy: 0.91 - ETA: 0s - loss: 0.2977 - accuracy: 0.91 - ETA: 0s - loss: 0.2987 - accuracy: 0.91 - ETA: 0s - loss: 0.2984 - accuracy: 0.91 - ETA: 0s - loss: 0.2984 - accuracy: 0.91 - ETA: 0s - loss: 0.2986 - accuracy: 0.91 - ETA: 0s - loss: 0.2991 - accuracy: 0.91 - ETA: 0s - loss: 0.2998 - accuracy: 0.91 - ETA: 0s - loss: 0.3003 - accuracy: 0.91 - ETA: 0s - loss: 0.3006 - accuracy: 0.91 - ETA: 0s - loss: 0.3013 - accuracy: 0.91 - ETA: 0s - loss: 0.3022 - accuracy: 0.91 - ETA: 0s - loss: 0.3030 - accuracy: 0.91 - ETA: 0s - loss: 0.3039 - accuracy: 0.90 - 3s 1ms/step - loss: 0.3055 - accuracy: 0.9093 - val_loss: 0.5410 - val_accuracy: 0.8615\n",
      "Epoch 18/20\n",
      "1875/1875 [==============================] - ETA: 0s - loss: 0.7000 - accuracy: 0.84 - ETA: 1s - loss: 0.2642 - accuracy: 0.92 - ETA: 1s - loss: 0.2645 - accuracy: 0.92 - ETA: 2s - loss: 0.2728 - accuracy: 0.91 - ETA: 2s - loss: 0.2780 - accuracy: 0.91 - ETA: 2s - loss: 0.2743 - accuracy: 0.91 - ETA: 2s - loss: 0.2758 - accuracy: 0.91 - ETA: 1s - loss: 0.2776 - accuracy: 0.91 - ETA: 1s - loss: 0.2827 - accuracy: 0.91 - ETA: 1s - loss: 0.2805 - accuracy: 0.91 - ETA: 1s - loss: 0.2792 - accuracy: 0.91 - ETA: 1s - loss: 0.2809 - accuracy: 0.91 - ETA: 1s - loss: 0.2809 - accuracy: 0.91 - ETA: 1s - loss: 0.2830 - accuracy: 0.91 - ETA: 1s - loss: 0.2859 - accuracy: 0.91 - ETA: 1s - loss: 0.2867 - accuracy: 0.91 - ETA: 1s - loss: 0.2873 - accuracy: 0.91 - ETA: 1s - loss: 0.2870 - accuracy: 0.91 - ETA: 1s - loss: 0.2863 - accuracy: 0.91 - ETA: 1s - loss: 0.2867 - accuracy: 0.91 - ETA: 1s - loss: 0.2887 - accuracy: 0.91 - ETA: 1s - loss: 0.2896 - accuracy: 0.91 - ETA: 0s - loss: 0.2898 - accuracy: 0.91 - ETA: 0s - loss: 0.2895 - accuracy: 0.91 - ETA: 0s - loss: 0.2906 - accuracy: 0.91 - ETA: 0s - loss: 0.2908 - accuracy: 0.91 - ETA: 0s - loss: 0.2918 - accuracy: 0.91 - ETA: 0s - loss: 0.2914 - accuracy: 0.91 - ETA: 0s - loss: 0.2914 - accuracy: 0.91 - ETA: 0s - loss: 0.2927 - accuracy: 0.91 - ETA: 0s - loss: 0.2929 - accuracy: 0.91 - ETA: 0s - loss: 0.2914 - accuracy: 0.91 - ETA: 0s - loss: 0.2914 - accuracy: 0.91 - ETA: 0s - loss: 0.2924 - accuracy: 0.91 - ETA: 0s - loss: 0.2929 - accuracy: 0.91 - ETA: 0s - loss: 0.2938 - accuracy: 0.91 - ETA: 0s - loss: 0.2945 - accuracy: 0.91 - ETA: 0s - loss: 0.2936 - accuracy: 0.91 - ETA: 0s - loss: 0.2936 - accuracy: 0.91 - ETA: 0s - loss: 0.2945 - accuracy: 0.91 - ETA: 0s - loss: 0.2954 - accuracy: 0.91 - 3s 1ms/step - loss: 0.2967 - accuracy: 0.9128 - val_loss: 0.5368 - val_accuracy: 0.8602\n",
      "Epoch 19/20\n",
      "1875/1875 [==============================] - ETA: 0s - loss: 0.1383 - accuracy: 0.96 - ETA: 2s - loss: 0.2818 - accuracy: 0.91 - ETA: 2s - loss: 0.2973 - accuracy: 0.91 - ETA: 1s - loss: 0.2778 - accuracy: 0.91 - ETA: 1s - loss: 0.2820 - accuracy: 0.91 - ETA: 2s - loss: 0.2850 - accuracy: 0.91 - ETA: 1s - loss: 0.2829 - accuracy: 0.91 - ETA: 1s - loss: 0.2790 - accuracy: 0.91 - ETA: 1s - loss: 0.2808 - accuracy: 0.91 - ETA: 1s - loss: 0.2771 - accuracy: 0.91 - ETA: 1s - loss: 0.2774 - accuracy: 0.91 - ETA: 1s - loss: 0.2786 - accuracy: 0.91 - ETA: 1s - loss: 0.2799 - accuracy: 0.91 - ETA: 1s - loss: 0.2821 - accuracy: 0.91 - ETA: 1s - loss: 0.2846 - accuracy: 0.91 - ETA: 1s - loss: 0.2837 - accuracy: 0.91 - ETA: 1s - loss: 0.2834 - accuracy: 0.91 - ETA: 1s - loss: 0.2856 - accuracy: 0.91 - ETA: 1s - loss: 0.2851 - accuracy: 0.91 - ETA: 1s - loss: 0.2872 - accuracy: 0.91 - ETA: 1s - loss: 0.2874 - accuracy: 0.91 - ETA: 1s - loss: 0.2877 - accuracy: 0.91 - ETA: 1s - loss: 0.2881 - accuracy: 0.91 - ETA: 0s - loss: 0.2872 - accuracy: 0.91 - ETA: 0s - loss: 0.2889 - accuracy: 0.91 - ETA: 0s - loss: 0.2899 - accuracy: 0.91 - ETA: 0s - loss: 0.2888 - accuracy: 0.91 - ETA: 0s - loss: 0.2903 - accuracy: 0.91 - ETA: 0s - loss: 0.2904 - accuracy: 0.91 - ETA: 0s - loss: 0.2922 - accuracy: 0.91 - ETA: 0s - loss: 0.2911 - accuracy: 0.91 - ETA: 0s - loss: 0.2909 - accuracy: 0.91 - ETA: 0s - loss: 0.2916 - accuracy: 0.91 - ETA: 0s - loss: 0.2922 - accuracy: 0.91 - ETA: 0s - loss: 0.2916 - accuracy: 0.91 - ETA: 0s - loss: 0.2927 - accuracy: 0.91 - ETA: 0s - loss: 0.2928 - accuracy: 0.91 - ETA: 0s - loss: 0.2925 - accuracy: 0.91 - ETA: 0s - loss: 0.2925 - accuracy: 0.91 - ETA: 0s - loss: 0.2920 - accuracy: 0.91 - ETA: 0s - loss: 0.2928 - accuracy: 0.91 - ETA: 0s - loss: 0.2925 - accuracy: 0.91 - 3s 2ms/step - loss: 0.2929 - accuracy: 0.9130 - val_loss: 0.5401 - val_accuracy: 0.8600\n",
      "Epoch 20/20\n",
      "1875/1875 [==============================] - ETA: 0s - loss: 0.3855 - accuracy: 0.90 - ETA: 1s - loss: 0.2612 - accuracy: 0.91 - ETA: 1s - loss: 0.2581 - accuracy: 0.91 - ETA: 1s - loss: 0.2747 - accuracy: 0.91 - ETA: 1s - loss: 0.2752 - accuracy: 0.91 - ETA: 1s - loss: 0.2697 - accuracy: 0.91 - ETA: 1s - loss: 0.2715 - accuracy: 0.92 - ETA: 1s - loss: 0.2679 - accuracy: 0.92 - ETA: 1s - loss: 0.2711 - accuracy: 0.91 - ETA: 1s - loss: 0.2721 - accuracy: 0.91 - ETA: 1s - loss: 0.2715 - accuracy: 0.91 - ETA: 1s - loss: 0.2744 - accuracy: 0.91 - ETA: 1s - loss: 0.2759 - accuracy: 0.91 - ETA: 1s - loss: 0.2777 - accuracy: 0.91 - ETA: 1s - loss: 0.2785 - accuracy: 0.91 - ETA: 1s - loss: 0.2796 - accuracy: 0.91 - ETA: 1s - loss: 0.2785 - accuracy: 0.91 - ETA: 1s - loss: 0.2791 - accuracy: 0.91 - ETA: 1s - loss: 0.2796 - accuracy: 0.91 - ETA: 1s - loss: 0.2780 - accuracy: 0.91 - ETA: 0s - loss: 0.2791 - accuracy: 0.91 - ETA: 0s - loss: 0.2795 - accuracy: 0.91 - ETA: 0s - loss: 0.2801 - accuracy: 0.91 - ETA: 0s - loss: 0.2794 - accuracy: 0.91 - ETA: 0s - loss: 0.2794 - accuracy: 0.91 - ETA: 0s - loss: 0.2800 - accuracy: 0.91 - ETA: 0s - loss: 0.2795 - accuracy: 0.91 - ETA: 0s - loss: 0.2800 - accuracy: 0.91 - ETA: 0s - loss: 0.2803 - accuracy: 0.91 - ETA: 0s - loss: 0.2801 - accuracy: 0.91 - ETA: 0s - loss: 0.2805 - accuracy: 0.91 - ETA: 0s - loss: 0.2815 - accuracy: 0.91 - ETA: 0s - loss: 0.2819 - accuracy: 0.91 - ETA: 0s - loss: 0.2831 - accuracy: 0.91 - ETA: 0s - loss: 0.2846 - accuracy: 0.91 - ETA: 0s - loss: 0.2848 - accuracy: 0.91 - ETA: 0s - loss: 0.2842 - accuracy: 0.91 - ETA: 0s - loss: 0.2848 - accuracy: 0.91 - ETA: 0s - loss: 0.2845 - accuracy: 0.91 - ETA: 0s - loss: 0.2849 - accuracy: 0.91 - 3s 1ms/step - loss: 0.2854 - accuracy: 0.9145 - val_loss: 0.5442 - val_accuracy: 0.8636\n",
      "Epoch 1/20\n",
      "1875/1875 [==============================] - ETA: 0s - loss: 2.3477 - accuracy: 0.12 - ETA: 1s - loss: 2.1500 - accuracy: 0.18 - ETA: 1s - loss: 2.0167 - accuracy: 0.25 - ETA: 1s - loss: 1.9122 - accuracy: 0.30 - ETA: 1s - loss: 1.8027 - accuracy: 0.35 - ETA: 1s - loss: 1.7115 - accuracy: 0.38 - ETA: 1s - loss: 1.6452 - accuracy: 0.41 - ETA: 1s - loss: 1.5878 - accuracy: 0.44 - ETA: 1s - loss: 1.5349 - accuracy: 0.46 - ETA: 1s - loss: 1.4892 - accuracy: 0.48 - ETA: 1s - loss: 1.4486 - accuracy: 0.49 - ETA: 1s - loss: 1.4098 - accuracy: 0.51 - ETA: 1s - loss: 1.3746 - accuracy: 0.52 - ETA: 1s - loss: 1.3447 - accuracy: 0.53 - ETA: 1s - loss: 1.3147 - accuracy: 0.55 - ETA: 1s - loss: 1.2889 - accuracy: 0.56 - ETA: 1s - loss: 1.2618 - accuracy: 0.57 - ETA: 1s - loss: 1.2420 - accuracy: 0.58 - ETA: 1s - loss: 1.2232 - accuracy: 0.58 - ETA: 1s - loss: 1.2073 - accuracy: 0.59 - ETA: 0s - loss: 1.1917 - accuracy: 0.60 - ETA: 0s - loss: 1.1741 - accuracy: 0.60 - ETA: 0s - loss: 1.1618 - accuracy: 0.61 - ETA: 0s - loss: 1.1470 - accuracy: 0.62 - ETA: 0s - loss: 1.1346 - accuracy: 0.62 - ETA: 0s - loss: 1.1230 - accuracy: 0.63 - ETA: 0s - loss: 1.1110 - accuracy: 0.63 - ETA: 0s - loss: 1.0966 - accuracy: 0.64 - ETA: 0s - loss: 1.0891 - accuracy: 0.64 - ETA: 0s - loss: 1.0796 - accuracy: 0.64 - ETA: 0s - loss: 1.0691 - accuracy: 0.65 - ETA: 0s - loss: 1.0608 - accuracy: 0.65 - ETA: 0s - loss: 1.0510 - accuracy: 0.66 - ETA: 0s - loss: 1.0420 - accuracy: 0.66 - ETA: 0s - loss: 1.0332 - accuracy: 0.66 - ETA: 0s - loss: 1.0248 - accuracy: 0.67 - ETA: 0s - loss: 1.0165 - accuracy: 0.67 - ETA: 0s - loss: 1.0090 - accuracy: 0.67 - ETA: 0s - loss: 1.0025 - accuracy: 0.67 - ETA: 0s - loss: 0.9953 - accuracy: 0.68 - 3s 2ms/step - loss: 0.9909 - accuracy: 0.6837 - val_loss: 0.6283 - val_accuracy: 0.8093\n",
      "Epoch 2/20\n",
      "1875/1875 [==============================] - ETA: 0s - loss: 1.0099 - accuracy: 0.68 - ETA: 2s - loss: 0.7590 - accuracy: 0.77 - ETA: 1s - loss: 0.7412 - accuracy: 0.78 - ETA: 1s - loss: 0.7285 - accuracy: 0.79 - ETA: 1s - loss: 0.7166 - accuracy: 0.79 - ETA: 1s - loss: 0.7069 - accuracy: 0.79 - ETA: 1s - loss: 0.7019 - accuracy: 0.79 - ETA: 1s - loss: 0.7012 - accuracy: 0.79 - ETA: 1s - loss: 0.7007 - accuracy: 0.79 - ETA: 1s - loss: 0.7008 - accuracy: 0.79 - ETA: 1s - loss: 0.6949 - accuracy: 0.79 - ETA: 1s - loss: 0.6975 - accuracy: 0.79 - ETA: 1s - loss: 0.6895 - accuracy: 0.79 - ETA: 1s - loss: 0.6883 - accuracy: 0.79 - ETA: 1s - loss: 0.6862 - accuracy: 0.79 - ETA: 1s - loss: 0.6835 - accuracy: 0.79 - ETA: 1s - loss: 0.6836 - accuracy: 0.79 - ETA: 1s - loss: 0.6814 - accuracy: 0.79 - ETA: 1s - loss: 0.6829 - accuracy: 0.79 - ETA: 1s - loss: 0.6807 - accuracy: 0.80 - ETA: 1s - loss: 0.6807 - accuracy: 0.80 - ETA: 0s - loss: 0.6793 - accuracy: 0.80 - ETA: 0s - loss: 0.6765 - accuracy: 0.80 - ETA: 0s - loss: 0.6743 - accuracy: 0.80 - ETA: 0s - loss: 0.6763 - accuracy: 0.80 - ETA: 0s - loss: 0.6747 - accuracy: 0.80 - ETA: 0s - loss: 0.6719 - accuracy: 0.80 - ETA: 0s - loss: 0.6699 - accuracy: 0.80 - ETA: 0s - loss: 0.6698 - accuracy: 0.80 - ETA: 0s - loss: 0.6682 - accuracy: 0.80 - ETA: 0s - loss: 0.6692 - accuracy: 0.80 - ETA: 0s - loss: 0.6687 - accuracy: 0.80 - ETA: 0s - loss: 0.6674 - accuracy: 0.80 - ETA: 0s - loss: 0.6672 - accuracy: 0.80 - ETA: 0s - loss: 0.6665 - accuracy: 0.80 - ETA: 0s - loss: 0.6662 - accuracy: 0.80 - ETA: 0s - loss: 0.6650 - accuracy: 0.80 - ETA: 0s - loss: 0.6629 - accuracy: 0.80 - ETA: 0s - loss: 0.6620 - accuracy: 0.80 - ETA: 0s - loss: 0.6623 - accuracy: 0.80 - ETA: 0s - loss: 0.6610 - accuracy: 0.80 - 3s 1ms/step - loss: 0.6601 - accuracy: 0.8067 - val_loss: 0.5470 - val_accuracy: 0.8374\n",
      "Epoch 3/20\n",
      "1875/1875 [==============================] - ETA: 0s - loss: 0.4784 - accuracy: 0.84 - ETA: 1s - loss: 0.5623 - accuracy: 0.83 - ETA: 1s - loss: 0.5466 - accuracy: 0.83 - ETA: 1s - loss: 0.5393 - accuracy: 0.83 - ETA: 1s - loss: 0.5495 - accuracy: 0.83 - ETA: 1s - loss: 0.5634 - accuracy: 0.83 - ETA: 1s - loss: 0.5649 - accuracy: 0.83 - ETA: 1s - loss: 0.5693 - accuracy: 0.82 - ETA: 1s - loss: 0.5683 - accuracy: 0.83 - ETA: 1s - loss: 0.5734 - accuracy: 0.82 - ETA: 1s - loss: 0.5776 - accuracy: 0.82 - ETA: 1s - loss: 0.5781 - accuracy: 0.82 - ETA: 1s - loss: 0.5798 - accuracy: 0.82 - ETA: 1s - loss: 0.5788 - accuracy: 0.82 - ETA: 1s - loss: 0.5805 - accuracy: 0.82 - ETA: 1s - loss: 0.5808 - accuracy: 0.82 - ETA: 1s - loss: 0.5809 - accuracy: 0.82 - ETA: 1s - loss: 0.5782 - accuracy: 0.82 - ETA: 1s - loss: 0.5795 - accuracy: 0.82 - ETA: 1s - loss: 0.5794 - accuracy: 0.82 - ETA: 1s - loss: 0.5793 - accuracy: 0.82 - ETA: 0s - loss: 0.5787 - accuracy: 0.82 - ETA: 0s - loss: 0.5764 - accuracy: 0.82 - ETA: 0s - loss: 0.5785 - accuracy: 0.82 - ETA: 0s - loss: 0.5801 - accuracy: 0.82 - ETA: 0s - loss: 0.5790 - accuracy: 0.82 - ETA: 0s - loss: 0.5800 - accuracy: 0.82 - ETA: 0s - loss: 0.5778 - accuracy: 0.82 - ETA: 0s - loss: 0.5783 - accuracy: 0.82 - ETA: 0s - loss: 0.5781 - accuracy: 0.82 - ETA: 0s - loss: 0.5783 - accuracy: 0.82 - ETA: 0s - loss: 0.5788 - accuracy: 0.82 - ETA: 0s - loss: 0.5787 - accuracy: 0.82 - ETA: 0s - loss: 0.5800 - accuracy: 0.82 - ETA: 0s - loss: 0.5795 - accuracy: 0.82 - ETA: 0s - loss: 0.5795 - accuracy: 0.82 - ETA: 0s - loss: 0.5787 - accuracy: 0.82 - ETA: 0s - loss: 0.5790 - accuracy: 0.82 - ETA: 0s - loss: 0.5778 - accuracy: 0.82 - ETA: 0s - loss: 0.5778 - accuracy: 0.82 - ETA: 0s - loss: 0.5783 - accuracy: 0.82 - ETA: 0s - loss: 0.5776 - accuracy: 0.82 - 3s 2ms/step - loss: 0.5777 - accuracy: 0.8298 - val_loss: 0.5180 - val_accuracy: 0.8460\n",
      "Epoch 4/20\n",
      "1875/1875 [==============================] - ETA: 0s - loss: 0.7318 - accuracy: 0.78 - ETA: 2s - loss: 0.5043 - accuracy: 0.84 - ETA: 2s - loss: 0.5168 - accuracy: 0.84 - ETA: 2s - loss: 0.5138 - accuracy: 0.84 - ETA: 1s - loss: 0.5142 - accuracy: 0.84 - ETA: 1s - loss: 0.5115 - accuracy: 0.84 - ETA: 1s - loss: 0.5161 - accuracy: 0.84 - ETA: 1s - loss: 0.5155 - accuracy: 0.84 - ETA: 1s - loss: 0.5181 - accuracy: 0.84 - ETA: 1s - loss: 0.5211 - accuracy: 0.84 - ETA: 1s - loss: 0.5221 - accuracy: 0.84 - ETA: 1s - loss: 0.5210 - accuracy: 0.84 - ETA: 1s - loss: 0.5253 - accuracy: 0.84 - ETA: 1s - loss: 0.5252 - accuracy: 0.84 - ETA: 1s - loss: 0.5255 - accuracy: 0.84 - ETA: 1s - loss: 0.5275 - accuracy: 0.84 - ETA: 1s - loss: 0.5285 - accuracy: 0.84 - ETA: 1s - loss: 0.5303 - accuracy: 0.84 - ETA: 1s - loss: 0.5299 - accuracy: 0.84 - ETA: 1s - loss: 0.5281 - accuracy: 0.84 - ETA: 1s - loss: 0.5309 - accuracy: 0.84 - ETA: 1s - loss: 0.5312 - accuracy: 0.84 - ETA: 0s - loss: 0.5296 - accuracy: 0.84 - ETA: 0s - loss: 0.5291 - accuracy: 0.84 - ETA: 0s - loss: 0.5310 - accuracy: 0.84 - ETA: 0s - loss: 0.5301 - accuracy: 0.84 - ETA: 0s - loss: 0.5303 - accuracy: 0.84 - ETA: 0s - loss: 0.5281 - accuracy: 0.84 - ETA: 0s - loss: 0.5273 - accuracy: 0.84 - ETA: 0s - loss: 0.5266 - accuracy: 0.84 - ETA: 0s - loss: 0.5273 - accuracy: 0.84 - ETA: 0s - loss: 0.5284 - accuracy: 0.84 - ETA: 0s - loss: 0.5275 - accuracy: 0.84 - ETA: 0s - loss: 0.5282 - accuracy: 0.84 - ETA: 0s - loss: 0.5283 - accuracy: 0.84 - ETA: 0s - loss: 0.5281 - accuracy: 0.84 - ETA: 0s - loss: 0.5284 - accuracy: 0.84 - ETA: 0s - loss: 0.5279 - accuracy: 0.84 - ETA: 0s - loss: 0.5269 - accuracy: 0.84 - ETA: 0s - loss: 0.5275 - accuracy: 0.84 - ETA: 0s - loss: 0.5272 - accuracy: 0.84 - ETA: 0s - loss: 0.5274 - accuracy: 0.84 - 3s 2ms/step - loss: 0.5277 - accuracy: 0.8445 - val_loss: 0.5108 - val_accuracy: 0.8490\n",
      "Epoch 5/20\n"
     ]
    },
    {
     "name": "stdout",
     "output_type": "stream",
     "text": [
      "1875/1875 [==============================] - ETA: 0s - loss: 0.5012 - accuracy: 0.87 - ETA: 2s - loss: 0.4464 - accuracy: 0.86 - ETA: 2s - loss: 0.4657 - accuracy: 0.85 - ETA: 1s - loss: 0.4560 - accuracy: 0.86 - ETA: 1s - loss: 0.4511 - accuracy: 0.85 - ETA: 1s - loss: 0.4577 - accuracy: 0.86 - ETA: 1s - loss: 0.4641 - accuracy: 0.85 - ETA: 1s - loss: 0.4706 - accuracy: 0.85 - ETA: 1s - loss: 0.4736 - accuracy: 0.85 - ETA: 1s - loss: 0.4799 - accuracy: 0.85 - ETA: 1s - loss: 0.4824 - accuracy: 0.85 - ETA: 1s - loss: 0.4799 - accuracy: 0.85 - ETA: 1s - loss: 0.4815 - accuracy: 0.85 - ETA: 1s - loss: 0.4792 - accuracy: 0.85 - ETA: 1s - loss: 0.4822 - accuracy: 0.85 - ETA: 1s - loss: 0.4836 - accuracy: 0.85 - ETA: 1s - loss: 0.4817 - accuracy: 0.85 - ETA: 1s - loss: 0.4831 - accuracy: 0.85 - ETA: 1s - loss: 0.4821 - accuracy: 0.85 - ETA: 1s - loss: 0.4839 - accuracy: 0.85 - ETA: 1s - loss: 0.4843 - accuracy: 0.85 - ETA: 1s - loss: 0.4865 - accuracy: 0.85 - ETA: 0s - loss: 0.4875 - accuracy: 0.85 - ETA: 0s - loss: 0.4858 - accuracy: 0.85 - ETA: 0s - loss: 0.4855 - accuracy: 0.85 - ETA: 0s - loss: 0.4858 - accuracy: 0.85 - ETA: 0s - loss: 0.4874 - accuracy: 0.85 - ETA: 0s - loss: 0.4881 - accuracy: 0.85 - ETA: 0s - loss: 0.4895 - accuracy: 0.85 - ETA: 0s - loss: 0.4903 - accuracy: 0.85 - ETA: 0s - loss: 0.4901 - accuracy: 0.85 - ETA: 0s - loss: 0.4920 - accuracy: 0.85 - ETA: 0s - loss: 0.4918 - accuracy: 0.85 - ETA: 0s - loss: 0.4911 - accuracy: 0.85 - ETA: 0s - loss: 0.4911 - accuracy: 0.85 - ETA: 0s - loss: 0.4912 - accuracy: 0.85 - ETA: 0s - loss: 0.4906 - accuracy: 0.85 - ETA: 0s - loss: 0.4906 - accuracy: 0.85 - ETA: 0s - loss: 0.4909 - accuracy: 0.85 - ETA: 0s - loss: 0.4905 - accuracy: 0.85 - ETA: 0s - loss: 0.4909 - accuracy: 0.85 - ETA: 0s - loss: 0.4922 - accuracy: 0.85 - 3s 2ms/step - loss: 0.4917 - accuracy: 0.8542 - val_loss: 0.4996 - val_accuracy: 0.8516\n",
      "Epoch 6/20\n",
      "1875/1875 [==============================] - ETA: 0s - loss: 0.1941 - accuracy: 0.96 - ETA: 1s - loss: 0.4330 - accuracy: 0.87 - ETA: 1s - loss: 0.4361 - accuracy: 0.87 - ETA: 1s - loss: 0.4371 - accuracy: 0.87 - ETA: 1s - loss: 0.4294 - accuracy: 0.87 - ETA: 1s - loss: 0.4291 - accuracy: 0.87 - ETA: 1s - loss: 0.4325 - accuracy: 0.87 - ETA: 1s - loss: 0.4322 - accuracy: 0.87 - ETA: 1s - loss: 0.4356 - accuracy: 0.87 - ETA: 1s - loss: 0.4358 - accuracy: 0.87 - ETA: 1s - loss: 0.4349 - accuracy: 0.87 - ETA: 1s - loss: 0.4361 - accuracy: 0.87 - ETA: 1s - loss: 0.4391 - accuracy: 0.86 - ETA: 1s - loss: 0.4397 - accuracy: 0.86 - ETA: 1s - loss: 0.4402 - accuracy: 0.86 - ETA: 1s - loss: 0.4406 - accuracy: 0.86 - ETA: 1s - loss: 0.4431 - accuracy: 0.86 - ETA: 1s - loss: 0.4440 - accuracy: 0.86 - ETA: 1s - loss: 0.4481 - accuracy: 0.86 - ETA: 1s - loss: 0.4494 - accuracy: 0.86 - ETA: 1s - loss: 0.4523 - accuracy: 0.86 - ETA: 0s - loss: 0.4539 - accuracy: 0.86 - ETA: 0s - loss: 0.4543 - accuracy: 0.86 - ETA: 0s - loss: 0.4560 - accuracy: 0.86 - ETA: 0s - loss: 0.4573 - accuracy: 0.86 - ETA: 0s - loss: 0.4563 - accuracy: 0.86 - ETA: 0s - loss: 0.4571 - accuracy: 0.86 - ETA: 0s - loss: 0.4583 - accuracy: 0.86 - ETA: 0s - loss: 0.4572 - accuracy: 0.86 - ETA: 0s - loss: 0.4584 - accuracy: 0.86 - ETA: 0s - loss: 0.4577 - accuracy: 0.86 - ETA: 0s - loss: 0.4581 - accuracy: 0.86 - ETA: 0s - loss: 0.4584 - accuracy: 0.86 - ETA: 0s - loss: 0.4589 - accuracy: 0.86 - ETA: 0s - loss: 0.4590 - accuracy: 0.86 - ETA: 0s - loss: 0.4598 - accuracy: 0.86 - ETA: 0s - loss: 0.4597 - accuracy: 0.86 - ETA: 0s - loss: 0.4592 - accuracy: 0.86 - ETA: 0s - loss: 0.4594 - accuracy: 0.86 - ETA: 0s - loss: 0.4589 - accuracy: 0.86 - ETA: 0s - loss: 0.4598 - accuracy: 0.86 - 3s 1ms/step - loss: 0.4603 - accuracy: 0.8634 - val_loss: 0.4998 - val_accuracy: 0.8533\n",
      "Epoch 7/20\n",
      "1875/1875 [==============================] - ETA: 0s - loss: 0.3021 - accuracy: 0.90 - ETA: 1s - loss: 0.3949 - accuracy: 0.88 - ETA: 1s - loss: 0.4079 - accuracy: 0.87 - ETA: 1s - loss: 0.4049 - accuracy: 0.87 - ETA: 1s - loss: 0.4067 - accuracy: 0.87 - ETA: 1s - loss: 0.4100 - accuracy: 0.87 - ETA: 1s - loss: 0.4154 - accuracy: 0.87 - ETA: 1s - loss: 0.4202 - accuracy: 0.87 - ETA: 1s - loss: 0.4186 - accuracy: 0.87 - ETA: 1s - loss: 0.4221 - accuracy: 0.87 - ETA: 1s - loss: 0.4241 - accuracy: 0.87 - ETA: 1s - loss: 0.4271 - accuracy: 0.87 - ETA: 1s - loss: 0.4282 - accuracy: 0.87 - ETA: 1s - loss: 0.4308 - accuracy: 0.87 - ETA: 1s - loss: 0.4287 - accuracy: 0.87 - ETA: 1s - loss: 0.4313 - accuracy: 0.87 - ETA: 1s - loss: 0.4308 - accuracy: 0.87 - ETA: 1s - loss: 0.4335 - accuracy: 0.87 - ETA: 1s - loss: 0.4345 - accuracy: 0.87 - ETA: 1s - loss: 0.4337 - accuracy: 0.87 - ETA: 1s - loss: 0.4363 - accuracy: 0.86 - ETA: 0s - loss: 0.4383 - accuracy: 0.86 - ETA: 0s - loss: 0.4387 - accuracy: 0.86 - ETA: 0s - loss: 0.4384 - accuracy: 0.86 - ETA: 0s - loss: 0.4372 - accuracy: 0.87 - ETA: 0s - loss: 0.4370 - accuracy: 0.86 - ETA: 0s - loss: 0.4385 - accuracy: 0.86 - ETA: 0s - loss: 0.4384 - accuracy: 0.86 - ETA: 0s - loss: 0.4389 - accuracy: 0.86 - ETA: 0s - loss: 0.4393 - accuracy: 0.86 - ETA: 0s - loss: 0.4386 - accuracy: 0.86 - ETA: 0s - loss: 0.4372 - accuracy: 0.86 - ETA: 0s - loss: 0.4360 - accuracy: 0.87 - ETA: 0s - loss: 0.4354 - accuracy: 0.87 - ETA: 0s - loss: 0.4357 - accuracy: 0.87 - ETA: 0s - loss: 0.4361 - accuracy: 0.87 - ETA: 0s - loss: 0.4357 - accuracy: 0.87 - ETA: 0s - loss: 0.4370 - accuracy: 0.87 - ETA: 0s - loss: 0.4373 - accuracy: 0.87 - ETA: 0s - loss: 0.4376 - accuracy: 0.86 - ETA: 0s - loss: 0.4388 - accuracy: 0.86 - 3s 1ms/step - loss: 0.4395 - accuracy: 0.8693 - val_loss: 0.4901 - val_accuracy: 0.8546\n",
      "Epoch 8/20\n",
      "1875/1875 [==============================] - ETA: 0s - loss: 0.4615 - accuracy: 0.84 - ETA: 2s - loss: 0.3758 - accuracy: 0.88 - ETA: 2s - loss: 0.3750 - accuracy: 0.88 - ETA: 1s - loss: 0.3728 - accuracy: 0.88 - ETA: 1s - loss: 0.3857 - accuracy: 0.88 - ETA: 1s - loss: 0.3952 - accuracy: 0.88 - ETA: 1s - loss: 0.3977 - accuracy: 0.88 - ETA: 1s - loss: 0.4057 - accuracy: 0.87 - ETA: 1s - loss: 0.4044 - accuracy: 0.87 - ETA: 1s - loss: 0.4044 - accuracy: 0.87 - ETA: 1s - loss: 0.4076 - accuracy: 0.87 - ETA: 1s - loss: 0.4099 - accuracy: 0.87 - ETA: 1s - loss: 0.4068 - accuracy: 0.87 - ETA: 1s - loss: 0.4025 - accuracy: 0.88 - ETA: 1s - loss: 0.4086 - accuracy: 0.87 - ETA: 1s - loss: 0.4083 - accuracy: 0.87 - ETA: 1s - loss: 0.4085 - accuracy: 0.87 - ETA: 1s - loss: 0.4078 - accuracy: 0.87 - ETA: 1s - loss: 0.4076 - accuracy: 0.87 - ETA: 1s - loss: 0.4081 - accuracy: 0.87 - ETA: 1s - loss: 0.4072 - accuracy: 0.87 - ETA: 1s - loss: 0.4076 - accuracy: 0.87 - ETA: 0s - loss: 0.4069 - accuracy: 0.87 - ETA: 0s - loss: 0.4067 - accuracy: 0.87 - ETA: 0s - loss: 0.4060 - accuracy: 0.87 - ETA: 0s - loss: 0.4070 - accuracy: 0.87 - ETA: 0s - loss: 0.4073 - accuracy: 0.87 - ETA: 0s - loss: 0.4072 - accuracy: 0.87 - ETA: 0s - loss: 0.4093 - accuracy: 0.87 - ETA: 0s - loss: 0.4097 - accuracy: 0.87 - ETA: 0s - loss: 0.4108 - accuracy: 0.87 - ETA: 0s - loss: 0.4104 - accuracy: 0.87 - ETA: 0s - loss: 0.4104 - accuracy: 0.87 - ETA: 0s - loss: 0.4114 - accuracy: 0.87 - ETA: 0s - loss: 0.4125 - accuracy: 0.87 - ETA: 0s - loss: 0.4135 - accuracy: 0.87 - ETA: 0s - loss: 0.4139 - accuracy: 0.87 - ETA: 0s - loss: 0.4134 - accuracy: 0.87 - ETA: 0s - loss: 0.4142 - accuracy: 0.87 - ETA: 0s - loss: 0.4151 - accuracy: 0.87 - ETA: 0s - loss: 0.4143 - accuracy: 0.87 - ETA: 0s - loss: 0.4152 - accuracy: 0.87 - 3s 2ms/step - loss: 0.4150 - accuracy: 0.8770 - val_loss: 0.4968 - val_accuracy: 0.8589\n",
      "Epoch 9/20\n",
      "1875/1875 [==============================] - ETA: 0s - loss: 0.2527 - accuracy: 0.93 - ETA: 1s - loss: 0.4016 - accuracy: 0.87 - ETA: 1s - loss: 0.3799 - accuracy: 0.88 - ETA: 1s - loss: 0.3855 - accuracy: 0.88 - ETA: 1s - loss: 0.3979 - accuracy: 0.87 - ETA: 1s - loss: 0.3957 - accuracy: 0.87 - ETA: 1s - loss: 0.3955 - accuracy: 0.88 - ETA: 1s - loss: 0.3925 - accuracy: 0.88 - ETA: 1s - loss: 0.3935 - accuracy: 0.88 - ETA: 1s - loss: 0.3922 - accuracy: 0.88 - ETA: 1s - loss: 0.3918 - accuracy: 0.88 - ETA: 1s - loss: 0.3900 - accuracy: 0.88 - ETA: 1s - loss: 0.3889 - accuracy: 0.88 - ETA: 1s - loss: 0.3906 - accuracy: 0.88 - ETA: 1s - loss: 0.3898 - accuracy: 0.88 - ETA: 1s - loss: 0.3867 - accuracy: 0.88 - ETA: 1s - loss: 0.3853 - accuracy: 0.88 - ETA: 1s - loss: 0.3851 - accuracy: 0.88 - ETA: 1s - loss: 0.3835 - accuracy: 0.88 - ETA: 1s - loss: 0.3838 - accuracy: 0.88 - ETA: 0s - loss: 0.3837 - accuracy: 0.88 - ETA: 0s - loss: 0.3864 - accuracy: 0.88 - ETA: 0s - loss: 0.3870 - accuracy: 0.88 - ETA: 0s - loss: 0.3879 - accuracy: 0.88 - ETA: 0s - loss: 0.3882 - accuracy: 0.88 - ETA: 0s - loss: 0.3881 - accuracy: 0.88 - ETA: 0s - loss: 0.3902 - accuracy: 0.88 - ETA: 0s - loss: 0.3916 - accuracy: 0.88 - ETA: 0s - loss: 0.3931 - accuracy: 0.88 - ETA: 0s - loss: 0.3924 - accuracy: 0.88 - ETA: 0s - loss: 0.3928 - accuracy: 0.88 - ETA: 0s - loss: 0.3946 - accuracy: 0.88 - ETA: 0s - loss: 0.3945 - accuracy: 0.88 - ETA: 0s - loss: 0.3954 - accuracy: 0.88 - ETA: 0s - loss: 0.3953 - accuracy: 0.88 - ETA: 0s - loss: 0.3960 - accuracy: 0.88 - ETA: 0s - loss: 0.3969 - accuracy: 0.88 - ETA: 0s - loss: 0.3980 - accuracy: 0.88 - ETA: 0s - loss: 0.3981 - accuracy: 0.88 - ETA: 0s - loss: 0.3976 - accuracy: 0.88 - 3s 1ms/step - loss: 0.3977 - accuracy: 0.8806 - val_loss: 0.4975 - val_accuracy: 0.8604\n",
      "Epoch 10/20\n",
      "1875/1875 [==============================] - ETA: 0s - loss: 0.3511 - accuracy: 0.90 - ETA: 1s - loss: 0.3984 - accuracy: 0.88 - ETA: 1s - loss: 0.3845 - accuracy: 0.88 - ETA: 1s - loss: 0.3760 - accuracy: 0.88 - ETA: 1s - loss: 0.3657 - accuracy: 0.89 - ETA: 1s - loss: 0.3664 - accuracy: 0.89 - ETA: 1s - loss: 0.3634 - accuracy: 0.89 - ETA: 1s - loss: 0.3640 - accuracy: 0.89 - ETA: 1s - loss: 0.3652 - accuracy: 0.89 - ETA: 1s - loss: 0.3626 - accuracy: 0.89 - ETA: 1s - loss: 0.3674 - accuracy: 0.89 - ETA: 1s - loss: 0.3707 - accuracy: 0.89 - ETA: 1s - loss: 0.3712 - accuracy: 0.89 - ETA: 1s - loss: 0.3729 - accuracy: 0.89 - ETA: 1s - loss: 0.3759 - accuracy: 0.88 - ETA: 1s - loss: 0.3759 - accuracy: 0.88 - ETA: 1s - loss: 0.3786 - accuracy: 0.88 - ETA: 1s - loss: 0.3811 - accuracy: 0.88 - ETA: 1s - loss: 0.3815 - accuracy: 0.88 - ETA: 1s - loss: 0.3805 - accuracy: 0.88 - ETA: 1s - loss: 0.3805 - accuracy: 0.88 - ETA: 0s - loss: 0.3815 - accuracy: 0.88 - ETA: 0s - loss: 0.3839 - accuracy: 0.88 - ETA: 0s - loss: 0.3828 - accuracy: 0.88 - ETA: 0s - loss: 0.3821 - accuracy: 0.88 - ETA: 0s - loss: 0.3816 - accuracy: 0.88 - ETA: 0s - loss: 0.3828 - accuracy: 0.88 - ETA: 0s - loss: 0.3847 - accuracy: 0.88 - ETA: 0s - loss: 0.3855 - accuracy: 0.88 - ETA: 0s - loss: 0.3870 - accuracy: 0.88 - ETA: 0s - loss: 0.3866 - accuracy: 0.88 - ETA: 0s - loss: 0.3867 - accuracy: 0.88 - ETA: 0s - loss: 0.3867 - accuracy: 0.88 - ETA: 0s - loss: 0.3866 - accuracy: 0.88 - ETA: 0s - loss: 0.3865 - accuracy: 0.88 - ETA: 0s - loss: 0.3857 - accuracy: 0.88 - ETA: 0s - loss: 0.3860 - accuracy: 0.88 - ETA: 0s - loss: 0.3861 - accuracy: 0.88 - ETA: 0s - loss: 0.3854 - accuracy: 0.88 - ETA: 0s - loss: 0.3857 - accuracy: 0.88 - ETA: 0s - loss: 0.3856 - accuracy: 0.88 - 3s 1ms/step - loss: 0.3858 - accuracy: 0.8860 - val_loss: 0.5109 - val_accuracy: 0.8556\n",
      "Epoch 11/20\n",
      "1875/1875 [==============================] - ETA: 0s - loss: 0.2218 - accuracy: 0.93 - ETA: 2s - loss: 0.3158 - accuracy: 0.90 - ETA: 2s - loss: 0.3206 - accuracy: 0.90 - ETA: 1s - loss: 0.3286 - accuracy: 0.90 - ETA: 1s - loss: 0.3368 - accuracy: 0.90 - ETA: 1s - loss: 0.3387 - accuracy: 0.89 - ETA: 1s - loss: 0.3387 - accuracy: 0.89 - ETA: 1s - loss: 0.3413 - accuracy: 0.89 - ETA: 1s - loss: 0.3469 - accuracy: 0.89 - ETA: 1s - loss: 0.3489 - accuracy: 0.89 - ETA: 1s - loss: 0.3497 - accuracy: 0.89 - ETA: 1s - loss: 0.3514 - accuracy: 0.89 - ETA: 1s - loss: 0.3513 - accuracy: 0.89 - ETA: 1s - loss: 0.3524 - accuracy: 0.89 - ETA: 1s - loss: 0.3535 - accuracy: 0.89 - ETA: 1s - loss: 0.3560 - accuracy: 0.89 - ETA: 1s - loss: 0.3581 - accuracy: 0.89 - ETA: 1s - loss: 0.3601 - accuracy: 0.89 - ETA: 1s - loss: 0.3595 - accuracy: 0.89 - ETA: 1s - loss: 0.3628 - accuracy: 0.89 - ETA: 1s - loss: 0.3643 - accuracy: 0.89 - ETA: 1s - loss: 0.3641 - accuracy: 0.89 - ETA: 1s - loss: 0.3641 - accuracy: 0.89 - ETA: 1s - loss: 0.3631 - accuracy: 0.89 - ETA: 0s - loss: 0.3641 - accuracy: 0.89 - ETA: 0s - loss: 0.3642 - accuracy: 0.89 - ETA: 0s - loss: 0.3640 - accuracy: 0.89 - ETA: 0s - loss: 0.3646 - accuracy: 0.89 - ETA: 0s - loss: 0.3653 - accuracy: 0.89 - ETA: 0s - loss: 0.3664 - accuracy: 0.89 - ETA: 0s - loss: 0.3659 - accuracy: 0.89 - ETA: 0s - loss: 0.3659 - accuracy: 0.89 - ETA: 0s - loss: 0.3679 - accuracy: 0.89 - ETA: 0s - loss: 0.3687 - accuracy: 0.89 - ETA: 0s - loss: 0.3690 - accuracy: 0.89 - ETA: 0s - loss: 0.3696 - accuracy: 0.89 - ETA: 0s - loss: 0.3708 - accuracy: 0.89 - ETA: 0s - loss: 0.3698 - accuracy: 0.89 - ETA: 0s - loss: 0.3692 - accuracy: 0.89 - ETA: 0s - loss: 0.3703 - accuracy: 0.89 - ETA: 0s - loss: 0.3685 - accuracy: 0.89 - ETA: 0s - loss: 0.3706 - accuracy: 0.89 - ETA: 0s - loss: 0.3705 - accuracy: 0.89 - 3s 2ms/step - loss: 0.3708 - accuracy: 0.8910 - val_loss: 0.5187 - val_accuracy: 0.8563\n",
      "Epoch 12/20\n",
      "1875/1875 [==============================] - ETA: 0s - loss: 0.4791 - accuracy: 0.90 - ETA: 1s - loss: 0.3759 - accuracy: 0.88 - ETA: 1s - loss: 0.3373 - accuracy: 0.89 - ETA: 1s - loss: 0.3370 - accuracy: 0.89 - ETA: 1s - loss: 0.3325 - accuracy: 0.89 - ETA: 1s - loss: 0.3295 - accuracy: 0.89 - ETA: 1s - loss: 0.3365 - accuracy: 0.89 - ETA: 1s - loss: 0.3417 - accuracy: 0.89 - ETA: 1s - loss: 0.3446 - accuracy: 0.89 - ETA: 1s - loss: 0.3428 - accuracy: 0.89 - ETA: 1s - loss: 0.3406 - accuracy: 0.89 - ETA: 1s - loss: 0.3420 - accuracy: 0.89 - ETA: 1s - loss: 0.3420 - accuracy: 0.89 - ETA: 1s - loss: 0.3409 - accuracy: 0.89 - ETA: 1s - loss: 0.3432 - accuracy: 0.89 - ETA: 1s - loss: 0.3452 - accuracy: 0.89 - ETA: 1s - loss: 0.3472 - accuracy: 0.89 - ETA: 1s - loss: 0.3483 - accuracy: 0.89 - ETA: 1s - loss: 0.3480 - accuracy: 0.89 - ETA: 0s - loss: 0.3474 - accuracy: 0.89 - ETA: 0s - loss: 0.3482 - accuracy: 0.89 - ETA: 0s - loss: 0.3502 - accuracy: 0.89 - ETA: 0s - loss: 0.3516 - accuracy: 0.89 - ETA: 0s - loss: 0.3518 - accuracy: 0.89 - ETA: 0s - loss: 0.3526 - accuracy: 0.89 - ETA: 0s - loss: 0.3518 - accuracy: 0.89 - ETA: 0s - loss: 0.3522 - accuracy: 0.89 - ETA: 0s - loss: 0.3522 - accuracy: 0.89 - ETA: 0s - loss: 0.3514 - accuracy: 0.89 - ETA: 0s - loss: 0.3528 - accuracy: 0.89 - ETA: 0s - loss: 0.3529 - accuracy: 0.89 - ETA: 0s - loss: 0.3529 - accuracy: 0.89 - ETA: 0s - loss: 0.3530 - accuracy: 0.89 - ETA: 0s - loss: 0.3520 - accuracy: 0.89 - ETA: 0s - loss: 0.3520 - accuracy: 0.89 - ETA: 0s - loss: 0.3532 - accuracy: 0.89 - ETA: 0s - loss: 0.3541 - accuracy: 0.89 - ETA: 0s - loss: 0.3546 - accuracy: 0.89 - ETA: 0s - loss: 0.3558 - accuracy: 0.89 - 3s 1ms/step - loss: 0.3558 - accuracy: 0.8942 - val_loss: 0.5002 - val_accuracy: 0.8590\n",
      "Epoch 13/20\n"
     ]
    },
    {
     "name": "stdout",
     "output_type": "stream",
     "text": [
      "1875/1875 [==============================] - ETA: 0s - loss: 0.3773 - accuracy: 0.87 - ETA: 1s - loss: 0.3349 - accuracy: 0.90 - ETA: 1s - loss: 0.3217 - accuracy: 0.91 - ETA: 2s - loss: 0.3262 - accuracy: 0.90 - ETA: 2s - loss: 0.3356 - accuracy: 0.90 - ETA: 2s - loss: 0.3354 - accuracy: 0.90 - ETA: 2s - loss: 0.3313 - accuracy: 0.90 - ETA: 2s - loss: 0.3274 - accuracy: 0.90 - ETA: 2s - loss: 0.3277 - accuracy: 0.90 - ETA: 1s - loss: 0.3330 - accuracy: 0.90 - ETA: 1s - loss: 0.3336 - accuracy: 0.90 - ETA: 1s - loss: 0.3334 - accuracy: 0.90 - ETA: 1s - loss: 0.3365 - accuracy: 0.90 - ETA: 1s - loss: 0.3362 - accuracy: 0.90 - ETA: 1s - loss: 0.3375 - accuracy: 0.90 - ETA: 1s - loss: 0.3398 - accuracy: 0.90 - ETA: 1s - loss: 0.3361 - accuracy: 0.90 - ETA: 1s - loss: 0.3368 - accuracy: 0.90 - ETA: 1s - loss: 0.3359 - accuracy: 0.90 - ETA: 1s - loss: 0.3394 - accuracy: 0.90 - ETA: 1s - loss: 0.3413 - accuracy: 0.89 - ETA: 1s - loss: 0.3419 - accuracy: 0.89 - ETA: 1s - loss: 0.3434 - accuracy: 0.89 - ETA: 1s - loss: 0.3427 - accuracy: 0.89 - ETA: 0s - loss: 0.3430 - accuracy: 0.89 - ETA: 0s - loss: 0.3420 - accuracy: 0.89 - ETA: 0s - loss: 0.3458 - accuracy: 0.89 - ETA: 0s - loss: 0.3461 - accuracy: 0.89 - ETA: 0s - loss: 0.3457 - accuracy: 0.89 - ETA: 0s - loss: 0.3432 - accuracy: 0.89 - ETA: 0s - loss: 0.3436 - accuracy: 0.89 - ETA: 0s - loss: 0.3444 - accuracy: 0.89 - ETA: 0s - loss: 0.3433 - accuracy: 0.89 - ETA: 0s - loss: 0.3431 - accuracy: 0.89 - ETA: 0s - loss: 0.3428 - accuracy: 0.89 - ETA: 0s - loss: 0.3429 - accuracy: 0.89 - ETA: 0s - loss: 0.3429 - accuracy: 0.89 - ETA: 0s - loss: 0.3422 - accuracy: 0.89 - ETA: 0s - loss: 0.3422 - accuracy: 0.89 - ETA: 0s - loss: 0.3427 - accuracy: 0.89 - ETA: 0s - loss: 0.3430 - accuracy: 0.89 - ETA: 0s - loss: 0.3444 - accuracy: 0.89 - ETA: 0s - loss: 0.3450 - accuracy: 0.89 - 3s 2ms/step - loss: 0.3459 - accuracy: 0.8983 - val_loss: 0.5194 - val_accuracy: 0.8571\n",
      "Epoch 14/20\n",
      "1875/1875 [==============================] - ETA: 0s - loss: 0.0744 - accuracy: 0.96 - ETA: 1s - loss: 0.3383 - accuracy: 0.89 - ETA: 1s - loss: 0.3394 - accuracy: 0.89 - ETA: 1s - loss: 0.3197 - accuracy: 0.90 - ETA: 1s - loss: 0.3210 - accuracy: 0.90 - ETA: 1s - loss: 0.3203 - accuracy: 0.90 - ETA: 1s - loss: 0.3201 - accuracy: 0.90 - ETA: 1s - loss: 0.3174 - accuracy: 0.90 - ETA: 1s - loss: 0.3160 - accuracy: 0.90 - ETA: 1s - loss: 0.3138 - accuracy: 0.90 - ETA: 1s - loss: 0.3233 - accuracy: 0.90 - ETA: 1s - loss: 0.3199 - accuracy: 0.90 - ETA: 1s - loss: 0.3170 - accuracy: 0.90 - ETA: 1s - loss: 0.3179 - accuracy: 0.90 - ETA: 1s - loss: 0.3205 - accuracy: 0.90 - ETA: 1s - loss: 0.3223 - accuracy: 0.90 - ETA: 1s - loss: 0.3209 - accuracy: 0.90 - ETA: 1s - loss: 0.3216 - accuracy: 0.90 - ETA: 1s - loss: 0.3235 - accuracy: 0.90 - ETA: 1s - loss: 0.3238 - accuracy: 0.90 - ETA: 1s - loss: 0.3256 - accuracy: 0.90 - ETA: 1s - loss: 0.3264 - accuracy: 0.90 - ETA: 1s - loss: 0.3263 - accuracy: 0.90 - ETA: 0s - loss: 0.3267 - accuracy: 0.90 - ETA: 0s - loss: 0.3268 - accuracy: 0.90 - ETA: 0s - loss: 0.3261 - accuracy: 0.90 - ETA: 0s - loss: 0.3271 - accuracy: 0.90 - ETA: 0s - loss: 0.3271 - accuracy: 0.90 - ETA: 0s - loss: 0.3269 - accuracy: 0.90 - ETA: 0s - loss: 0.3276 - accuracy: 0.90 - ETA: 0s - loss: 0.3269 - accuracy: 0.90 - ETA: 0s - loss: 0.3280 - accuracy: 0.90 - ETA: 0s - loss: 0.3285 - accuracy: 0.90 - ETA: 0s - loss: 0.3296 - accuracy: 0.90 - ETA: 0s - loss: 0.3311 - accuracy: 0.90 - ETA: 0s - loss: 0.3323 - accuracy: 0.90 - ETA: 0s - loss: 0.3332 - accuracy: 0.90 - ETA: 0s - loss: 0.3331 - accuracy: 0.90 - ETA: 0s - loss: 0.3348 - accuracy: 0.90 - ETA: 0s - loss: 0.3344 - accuracy: 0.90 - ETA: 0s - loss: 0.3351 - accuracy: 0.90 - ETA: 0s - loss: 0.3354 - accuracy: 0.90 - ETA: 0s - loss: 0.3357 - accuracy: 0.90 - 3s 2ms/step - loss: 0.3358 - accuracy: 0.9003 - val_loss: 0.5077 - val_accuracy: 0.8609\n",
      "Epoch 15/20\n",
      "1875/1875 [==============================] - ETA: 0s - loss: 0.4232 - accuracy: 0.84 - ETA: 2s - loss: 0.3367 - accuracy: 0.89 - ETA: 2s - loss: 0.3353 - accuracy: 0.89 - ETA: 1s - loss: 0.3314 - accuracy: 0.90 - ETA: 1s - loss: 0.3203 - accuracy: 0.90 - ETA: 1s - loss: 0.3244 - accuracy: 0.90 - ETA: 1s - loss: 0.3215 - accuracy: 0.90 - ETA: 1s - loss: 0.3174 - accuracy: 0.90 - ETA: 1s - loss: 0.3191 - accuracy: 0.90 - ETA: 1s - loss: 0.3156 - accuracy: 0.90 - ETA: 1s - loss: 0.3163 - accuracy: 0.90 - ETA: 1s - loss: 0.3121 - accuracy: 0.90 - ETA: 1s - loss: 0.3112 - accuracy: 0.90 - ETA: 1s - loss: 0.3121 - accuracy: 0.90 - ETA: 1s - loss: 0.3102 - accuracy: 0.90 - ETA: 1s - loss: 0.3093 - accuracy: 0.90 - ETA: 1s - loss: 0.3090 - accuracy: 0.90 - ETA: 1s - loss: 0.3094 - accuracy: 0.90 - ETA: 1s - loss: 0.3107 - accuracy: 0.90 - ETA: 1s - loss: 0.3119 - accuracy: 0.90 - ETA: 1s - loss: 0.3119 - accuracy: 0.90 - ETA: 1s - loss: 0.3114 - accuracy: 0.90 - ETA: 1s - loss: 0.3120 - accuracy: 0.90 - ETA: 1s - loss: 0.3119 - accuracy: 0.90 - ETA: 1s - loss: 0.3114 - accuracy: 0.90 - ETA: 1s - loss: 0.3135 - accuracy: 0.90 - ETA: 1s - loss: 0.3145 - accuracy: 0.90 - ETA: 0s - loss: 0.3142 - accuracy: 0.90 - ETA: 0s - loss: 0.3170 - accuracy: 0.90 - ETA: 0s - loss: 0.3173 - accuracy: 0.90 - ETA: 0s - loss: 0.3174 - accuracy: 0.90 - ETA: 0s - loss: 0.3170 - accuracy: 0.90 - ETA: 0s - loss: 0.3173 - accuracy: 0.90 - ETA: 0s - loss: 0.3182 - accuracy: 0.90 - ETA: 0s - loss: 0.3202 - accuracy: 0.90 - ETA: 0s - loss: 0.3196 - accuracy: 0.90 - ETA: 0s - loss: 0.3195 - accuracy: 0.90 - ETA: 0s - loss: 0.3210 - accuracy: 0.90 - ETA: 0s - loss: 0.3203 - accuracy: 0.90 - ETA: 0s - loss: 0.3211 - accuracy: 0.90 - ETA: 0s - loss: 0.3219 - accuracy: 0.90 - ETA: 0s - loss: 0.3234 - accuracy: 0.90 - ETA: 0s - loss: 0.3245 - accuracy: 0.90 - ETA: 0s - loss: 0.3254 - accuracy: 0.90 - ETA: 0s - loss: 0.3258 - accuracy: 0.90 - ETA: 0s - loss: 0.3254 - accuracy: 0.90 - ETA: 0s - loss: 0.3256 - accuracy: 0.90 - 3s 2ms/step - loss: 0.3263 - accuracy: 0.9031 - val_loss: 0.5230 - val_accuracy: 0.8595\n",
      "Epoch 16/20\n",
      "1875/1875 [==============================] - ETA: 0s - loss: 0.1998 - accuracy: 0.90 - ETA: 2s - loss: 0.2633 - accuracy: 0.92 - ETA: 2s - loss: 0.2968 - accuracy: 0.91 - ETA: 2s - loss: 0.2956 - accuracy: 0.91 - ETA: 2s - loss: 0.3020 - accuracy: 0.91 - ETA: 2s - loss: 0.3038 - accuracy: 0.90 - ETA: 2s - loss: 0.3141 - accuracy: 0.90 - ETA: 2s - loss: 0.3117 - accuracy: 0.90 - ETA: 2s - loss: 0.3119 - accuracy: 0.90 - ETA: 2s - loss: 0.3114 - accuracy: 0.90 - ETA: 2s - loss: 0.3092 - accuracy: 0.90 - ETA: 2s - loss: 0.3074 - accuracy: 0.91 - ETA: 2s - loss: 0.3101 - accuracy: 0.90 - ETA: 2s - loss: 0.3094 - accuracy: 0.90 - ETA: 2s - loss: 0.3108 - accuracy: 0.90 - ETA: 2s - loss: 0.3113 - accuracy: 0.90 - ETA: 2s - loss: 0.3123 - accuracy: 0.90 - ETA: 2s - loss: 0.3142 - accuracy: 0.90 - ETA: 2s - loss: 0.3117 - accuracy: 0.90 - ETA: 2s - loss: 0.3109 - accuracy: 0.90 - ETA: 2s - loss: 0.3111 - accuracy: 0.90 - ETA: 2s - loss: 0.3112 - accuracy: 0.90 - ETA: 2s - loss: 0.3116 - accuracy: 0.90 - ETA: 2s - loss: 0.3129 - accuracy: 0.90 - ETA: 2s - loss: 0.3130 - accuracy: 0.90 - ETA: 2s - loss: 0.3105 - accuracy: 0.90 - ETA: 2s - loss: 0.3083 - accuracy: 0.91 - ETA: 1s - loss: 0.3112 - accuracy: 0.90 - ETA: 1s - loss: 0.3099 - accuracy: 0.90 - ETA: 1s - loss: 0.3093 - accuracy: 0.90 - ETA: 1s - loss: 0.3118 - accuracy: 0.90 - ETA: 1s - loss: 0.3118 - accuracy: 0.90 - ETA: 1s - loss: 0.3121 - accuracy: 0.90 - ETA: 1s - loss: 0.3125 - accuracy: 0.90 - ETA: 1s - loss: 0.3126 - accuracy: 0.90 - ETA: 1s - loss: 0.3138 - accuracy: 0.90 - ETA: 1s - loss: 0.3136 - accuracy: 0.90 - ETA: 1s - loss: 0.3128 - accuracy: 0.90 - ETA: 1s - loss: 0.3128 - accuracy: 0.90 - ETA: 1s - loss: 0.3122 - accuracy: 0.90 - ETA: 1s - loss: 0.3139 - accuracy: 0.90 - ETA: 1s - loss: 0.3127 - accuracy: 0.90 - ETA: 1s - loss: 0.3125 - accuracy: 0.90 - ETA: 1s - loss: 0.3142 - accuracy: 0.90 - ETA: 1s - loss: 0.3141 - accuracy: 0.90 - ETA: 0s - loss: 0.3143 - accuracy: 0.90 - ETA: 0s - loss: 0.3145 - accuracy: 0.90 - ETA: 0s - loss: 0.3149 - accuracy: 0.90 - ETA: 0s - loss: 0.3146 - accuracy: 0.90 - ETA: 0s - loss: 0.3138 - accuracy: 0.90 - ETA: 0s - loss: 0.3140 - accuracy: 0.90 - ETA: 0s - loss: 0.3146 - accuracy: 0.90 - ETA: 0s - loss: 0.3150 - accuracy: 0.90 - ETA: 0s - loss: 0.3149 - accuracy: 0.90 - ETA: 0s - loss: 0.3151 - accuracy: 0.90 - ETA: 0s - loss: 0.3155 - accuracy: 0.90 - ETA: 0s - loss: 0.3159 - accuracy: 0.90 - ETA: 0s - loss: 0.3167 - accuracy: 0.90 - ETA: 0s - loss: 0.3168 - accuracy: 0.90 - ETA: 0s - loss: 0.3176 - accuracy: 0.90 - ETA: 0s - loss: 0.3176 - accuracy: 0.90 - ETA: 0s - loss: 0.3172 - accuracy: 0.90 - ETA: 0s - loss: 0.3176 - accuracy: 0.90 - ETA: 0s - loss: 0.3172 - accuracy: 0.90 - ETA: 0s - loss: 0.3174 - accuracy: 0.90 - ETA: 0s - loss: 0.3165 - accuracy: 0.90 - ETA: 0s - loss: 0.3165 - accuracy: 0.90 - ETA: 0s - loss: 0.3171 - accuracy: 0.90 - 5s 2ms/step - loss: 0.3171 - accuracy: 0.9066 - val_loss: 0.5318 - val_accuracy: 0.8594\n",
      "Epoch 17/20\n",
      "1875/1875 [==============================] - ETA: 0s - loss: 0.4716 - accuracy: 0.84 - ETA: 2s - loss: 0.3473 - accuracy: 0.89 - ETA: 2s - loss: 0.3136 - accuracy: 0.91 - ETA: 2s - loss: 0.2977 - accuracy: 0.91 - ETA: 2s - loss: 0.2840 - accuracy: 0.91 - ETA: 2s - loss: 0.2858 - accuracy: 0.91 - ETA: 2s - loss: 0.2808 - accuracy: 0.91 - ETA: 2s - loss: 0.2826 - accuracy: 0.91 - ETA: 2s - loss: 0.2863 - accuracy: 0.91 - ETA: 2s - loss: 0.2880 - accuracy: 0.91 - ETA: 2s - loss: 0.2899 - accuracy: 0.91 - ETA: 2s - loss: 0.2854 - accuracy: 0.91 - ETA: 2s - loss: 0.2890 - accuracy: 0.91 - ETA: 2s - loss: 0.2906 - accuracy: 0.91 - ETA: 2s - loss: 0.2907 - accuracy: 0.91 - ETA: 2s - loss: 0.2935 - accuracy: 0.91 - ETA: 2s - loss: 0.2952 - accuracy: 0.91 - ETA: 2s - loss: 0.2937 - accuracy: 0.91 - ETA: 1s - loss: 0.2951 - accuracy: 0.91 - ETA: 1s - loss: 0.2946 - accuracy: 0.91 - ETA: 1s - loss: 0.2965 - accuracy: 0.91 - ETA: 1s - loss: 0.2987 - accuracy: 0.91 - ETA: 1s - loss: 0.2995 - accuracy: 0.91 - ETA: 1s - loss: 0.2995 - accuracy: 0.91 - ETA: 1s - loss: 0.2989 - accuracy: 0.91 - ETA: 1s - loss: 0.2992 - accuracy: 0.91 - ETA: 1s - loss: 0.2994 - accuracy: 0.91 - ETA: 1s - loss: 0.3008 - accuracy: 0.91 - ETA: 1s - loss: 0.3008 - accuracy: 0.90 - ETA: 1s - loss: 0.3007 - accuracy: 0.90 - ETA: 1s - loss: 0.3028 - accuracy: 0.90 - ETA: 1s - loss: 0.3015 - accuracy: 0.90 - ETA: 1s - loss: 0.3019 - accuracy: 0.90 - ETA: 1s - loss: 0.3015 - accuracy: 0.90 - ETA: 1s - loss: 0.3022 - accuracy: 0.90 - ETA: 1s - loss: 0.3034 - accuracy: 0.90 - ETA: 1s - loss: 0.3046 - accuracy: 0.90 - ETA: 1s - loss: 0.3046 - accuracy: 0.90 - ETA: 0s - loss: 0.3046 - accuracy: 0.90 - ETA: 0s - loss: 0.3059 - accuracy: 0.90 - ETA: 0s - loss: 0.3056 - accuracy: 0.90 - ETA: 0s - loss: 0.3050 - accuracy: 0.90 - ETA: 0s - loss: 0.3052 - accuracy: 0.90 - ETA: 0s - loss: 0.3059 - accuracy: 0.90 - ETA: 0s - loss: 0.3060 - accuracy: 0.90 - ETA: 0s - loss: 0.3067 - accuracy: 0.90 - ETA: 0s - loss: 0.3063 - accuracy: 0.90 - ETA: 0s - loss: 0.3068 - accuracy: 0.90 - ETA: 0s - loss: 0.3066 - accuracy: 0.90 - ETA: 0s - loss: 0.3075 - accuracy: 0.90 - ETA: 0s - loss: 0.3080 - accuracy: 0.90 - ETA: 0s - loss: 0.3076 - accuracy: 0.90 - ETA: 0s - loss: 0.3071 - accuracy: 0.90 - ETA: 0s - loss: 0.3071 - accuracy: 0.90 - ETA: 0s - loss: 0.3073 - accuracy: 0.90 - ETA: 0s - loss: 0.3073 - accuracy: 0.90 - ETA: 0s - loss: 0.3071 - accuracy: 0.90 - 4s 2ms/step - loss: 0.3072 - accuracy: 0.9084 - val_loss: 0.5503 - val_accuracy: 0.8579\n",
      "Epoch 18/20\n",
      "1875/1875 [==============================] - ETA: 0s - loss: 0.1638 - accuracy: 0.90 - ETA: 2s - loss: 0.2716 - accuracy: 0.92 - ETA: 2s - loss: 0.2768 - accuracy: 0.92 - ETA: 2s - loss: 0.2747 - accuracy: 0.92 - ETA: 2s - loss: 0.2735 - accuracy: 0.91 - ETA: 2s - loss: 0.2696 - accuracy: 0.92 - ETA: 2s - loss: 0.2815 - accuracy: 0.91 - ETA: 2s - loss: 0.2836 - accuracy: 0.91 - ETA: 2s - loss: 0.2820 - accuracy: 0.91 - ETA: 1s - loss: 0.2814 - accuracy: 0.91 - ETA: 1s - loss: 0.2845 - accuracy: 0.91 - ETA: 1s - loss: 0.2850 - accuracy: 0.91 - ETA: 1s - loss: 0.2888 - accuracy: 0.91 - ETA: 1s - loss: 0.2865 - accuracy: 0.91 - ETA: 1s - loss: 0.2882 - accuracy: 0.91 - ETA: 1s - loss: 0.2890 - accuracy: 0.91 - ETA: 1s - loss: 0.2864 - accuracy: 0.91 - ETA: 1s - loss: 0.2869 - accuracy: 0.91 - ETA: 1s - loss: 0.2860 - accuracy: 0.91 - ETA: 1s - loss: 0.2849 - accuracy: 0.91 - ETA: 1s - loss: 0.2861 - accuracy: 0.91 - ETA: 1s - loss: 0.2869 - accuracy: 0.91 - ETA: 1s - loss: 0.2886 - accuracy: 0.91 - ETA: 1s - loss: 0.2885 - accuracy: 0.91 - ETA: 1s - loss: 0.2903 - accuracy: 0.91 - ETA: 1s - loss: 0.2916 - accuracy: 0.91 - ETA: 1s - loss: 0.2917 - accuracy: 0.91 - ETA: 1s - loss: 0.2932 - accuracy: 0.91 - ETA: 1s - loss: 0.2935 - accuracy: 0.91 - ETA: 0s - loss: 0.2931 - accuracy: 0.91 - ETA: 0s - loss: 0.2938 - accuracy: 0.91 - ETA: 0s - loss: 0.2942 - accuracy: 0.91 - ETA: 0s - loss: 0.2940 - accuracy: 0.91 - ETA: 0s - loss: 0.2946 - accuracy: 0.91 - ETA: 0s - loss: 0.2946 - accuracy: 0.91 - ETA: 0s - loss: 0.2950 - accuracy: 0.91 - ETA: 0s - loss: 0.2950 - accuracy: 0.91 - ETA: 0s - loss: 0.2960 - accuracy: 0.91 - ETA: 0s - loss: 0.2955 - accuracy: 0.91 - ETA: 0s - loss: 0.2966 - accuracy: 0.91 - ETA: 0s - loss: 0.2969 - accuracy: 0.91 - ETA: 0s - loss: 0.2972 - accuracy: 0.91 - ETA: 0s - loss: 0.2977 - accuracy: 0.91 - ETA: 0s - loss: 0.2981 - accuracy: 0.91 - ETA: 0s - loss: 0.2981 - accuracy: 0.91 - ETA: 0s - loss: 0.2987 - accuracy: 0.91 - ETA: 0s - loss: 0.2991 - accuracy: 0.91 - ETA: 0s - loss: 0.2995 - accuracy: 0.91 - ETA: 0s - loss: 0.2991 - accuracy: 0.91 - ETA: 0s - loss: 0.2996 - accuracy: 0.91 - ETA: 0s - loss: 0.3003 - accuracy: 0.91 - ETA: 0s - loss: 0.3012 - accuracy: 0.91 - 4s 2ms/step - loss: 0.3013 - accuracy: 0.9111 - val_loss: 0.5307 - val_accuracy: 0.8609\n",
      "Epoch 19/20\n"
     ]
    },
    {
     "name": "stdout",
     "output_type": "stream",
     "text": [
      "1875/1875 [==============================] - ETA: 0s - loss: 0.4007 - accuracy: 0.87 - ETA: 2s - loss: 0.2726 - accuracy: 0.91 - ETA: 2s - loss: 0.2674 - accuracy: 0.91 - ETA: 2s - loss: 0.2736 - accuracy: 0.91 - ETA: 2s - loss: 0.2721 - accuracy: 0.92 - ETA: 2s - loss: 0.2743 - accuracy: 0.92 - ETA: 2s - loss: 0.2736 - accuracy: 0.92 - ETA: 2s - loss: 0.2723 - accuracy: 0.92 - ETA: 2s - loss: 0.2705 - accuracy: 0.92 - ETA: 2s - loss: 0.2758 - accuracy: 0.92 - ETA: 2s - loss: 0.2752 - accuracy: 0.92 - ETA: 2s - loss: 0.2766 - accuracy: 0.91 - ETA: 2s - loss: 0.2776 - accuracy: 0.91 - ETA: 2s - loss: 0.2776 - accuracy: 0.91 - ETA: 2s - loss: 0.2812 - accuracy: 0.91 - ETA: 2s - loss: 0.2816 - accuracy: 0.91 - ETA: 2s - loss: 0.2833 - accuracy: 0.91 - ETA: 2s - loss: 0.2856 - accuracy: 0.91 - ETA: 2s - loss: 0.2865 - accuracy: 0.91 - ETA: 2s - loss: 0.2885 - accuracy: 0.91 - ETA: 1s - loss: 0.2908 - accuracy: 0.91 - ETA: 1s - loss: 0.2918 - accuracy: 0.91 - ETA: 1s - loss: 0.2892 - accuracy: 0.91 - ETA: 1s - loss: 0.2901 - accuracy: 0.91 - ETA: 1s - loss: 0.2921 - accuracy: 0.91 - ETA: 1s - loss: 0.2922 - accuracy: 0.91 - ETA: 1s - loss: 0.2896 - accuracy: 0.91 - ETA: 1s - loss: 0.2886 - accuracy: 0.91 - ETA: 1s - loss: 0.2878 - accuracy: 0.91 - ETA: 1s - loss: 0.2867 - accuracy: 0.91 - ETA: 1s - loss: 0.2855 - accuracy: 0.91 - ETA: 1s - loss: 0.2862 - accuracy: 0.91 - ETA: 1s - loss: 0.2855 - accuracy: 0.91 - ETA: 1s - loss: 0.2850 - accuracy: 0.91 - ETA: 1s - loss: 0.2850 - accuracy: 0.91 - ETA: 1s - loss: 0.2861 - accuracy: 0.91 - ETA: 1s - loss: 0.2864 - accuracy: 0.91 - ETA: 1s - loss: 0.2872 - accuracy: 0.91 - ETA: 0s - loss: 0.2885 - accuracy: 0.91 - ETA: 0s - loss: 0.2886 - accuracy: 0.91 - ETA: 0s - loss: 0.2884 - accuracy: 0.91 - ETA: 0s - loss: 0.2891 - accuracy: 0.91 - ETA: 0s - loss: 0.2893 - accuracy: 0.91 - ETA: 0s - loss: 0.2897 - accuracy: 0.91 - ETA: 0s - loss: 0.2904 - accuracy: 0.91 - ETA: 0s - loss: 0.2908 - accuracy: 0.91 - ETA: 0s - loss: 0.2913 - accuracy: 0.91 - ETA: 0s - loss: 0.2921 - accuracy: 0.91 - ETA: 0s - loss: 0.2927 - accuracy: 0.91 - ETA: 0s - loss: 0.2933 - accuracy: 0.91 - ETA: 0s - loss: 0.2926 - accuracy: 0.91 - ETA: 0s - loss: 0.2928 - accuracy: 0.91 - ETA: 0s - loss: 0.2935 - accuracy: 0.91 - ETA: 0s - loss: 0.2940 - accuracy: 0.91 - ETA: 0s - loss: 0.2944 - accuracy: 0.91 - ETA: 0s - loss: 0.2945 - accuracy: 0.91 - 4s 2ms/step - loss: 0.2942 - accuracy: 0.9128 - val_loss: 0.5419 - val_accuracy: 0.8608\n",
      "Epoch 20/20\n",
      "1875/1875 [==============================] - ETA: 0s - loss: 0.3287 - accuracy: 0.87 - ETA: 2s - loss: 0.2762 - accuracy: 0.91 - ETA: 2s - loss: 0.2814 - accuracy: 0.91 - ETA: 2s - loss: 0.2754 - accuracy: 0.91 - ETA: 2s - loss: 0.2781 - accuracy: 0.91 - ETA: 2s - loss: 0.2761 - accuracy: 0.91 - ETA: 2s - loss: 0.2774 - accuracy: 0.91 - ETA: 2s - loss: 0.2749 - accuracy: 0.92 - ETA: 2s - loss: 0.2756 - accuracy: 0.92 - ETA: 2s - loss: 0.2760 - accuracy: 0.91 - ETA: 2s - loss: 0.2751 - accuracy: 0.91 - ETA: 2s - loss: 0.2722 - accuracy: 0.91 - ETA: 2s - loss: 0.2737 - accuracy: 0.91 - ETA: 2s - loss: 0.2709 - accuracy: 0.91 - ETA: 2s - loss: 0.2711 - accuracy: 0.91 - ETA: 1s - loss: 0.2688 - accuracy: 0.92 - ETA: 1s - loss: 0.2694 - accuracy: 0.92 - ETA: 1s - loss: 0.2680 - accuracy: 0.92 - ETA: 1s - loss: 0.2690 - accuracy: 0.91 - ETA: 1s - loss: 0.2717 - accuracy: 0.91 - ETA: 1s - loss: 0.2747 - accuracy: 0.91 - ETA: 1s - loss: 0.2757 - accuracy: 0.91 - ETA: 1s - loss: 0.2760 - accuracy: 0.91 - ETA: 1s - loss: 0.2776 - accuracy: 0.91 - ETA: 1s - loss: 0.2805 - accuracy: 0.91 - ETA: 1s - loss: 0.2827 - accuracy: 0.91 - ETA: 1s - loss: 0.2822 - accuracy: 0.91 - ETA: 1s - loss: 0.2824 - accuracy: 0.91 - ETA: 1s - loss: 0.2830 - accuracy: 0.91 - ETA: 1s - loss: 0.2832 - accuracy: 0.91 - ETA: 1s - loss: 0.2836 - accuracy: 0.91 - ETA: 0s - loss: 0.2834 - accuracy: 0.91 - ETA: 0s - loss: 0.2835 - accuracy: 0.91 - ETA: 0s - loss: 0.2833 - accuracy: 0.91 - ETA: 0s - loss: 0.2839 - accuracy: 0.91 - ETA: 0s - loss: 0.2840 - accuracy: 0.91 - ETA: 0s - loss: 0.2846 - accuracy: 0.91 - ETA: 0s - loss: 0.2844 - accuracy: 0.91 - ETA: 0s - loss: 0.2846 - accuracy: 0.91 - ETA: 0s - loss: 0.2849 - accuracy: 0.91 - ETA: 0s - loss: 0.2861 - accuracy: 0.91 - ETA: 0s - loss: 0.2867 - accuracy: 0.91 - ETA: 0s - loss: 0.2867 - accuracy: 0.91 - ETA: 0s - loss: 0.2881 - accuracy: 0.91 - ETA: 0s - loss: 0.2875 - accuracy: 0.91 - ETA: 0s - loss: 0.2875 - accuracy: 0.91 - ETA: 0s - loss: 0.2890 - accuracy: 0.91 - ETA: 0s - loss: 0.2886 - accuracy: 0.91 - ETA: 0s - loss: 0.2886 - accuracy: 0.91 - ETA: 0s - loss: 0.2886 - accuracy: 0.91 - 3s 2ms/step - loss: 0.2890 - accuracy: 0.9142 - val_loss: 0.5421 - val_accuracy: 0.8608\n"
     ]
    },
    {
     "data": {
      "text/html": [
       "<span style=\"color:#4527A0\"><h1 style=\"font-size:18px\">Trial complete</h1></span>"
      ],
      "text/plain": [
       "<IPython.core.display.HTML object>"
      ]
     },
     "metadata": {},
     "output_type": "display_data"
    },
    {
     "data": {
      "text/html": [
       "<span style=\"color:#4527A0\"><h1 style=\"font-size:18px\">Trial summary</h1></span>"
      ],
      "text/plain": [
       "<IPython.core.display.HTML object>"
      ]
     },
     "metadata": {},
     "output_type": "display_data"
    },
    {
     "data": {
      "text/html": [
       "<span style=\"color:cyan\"> |-Trial ID: 3c2fa606d19dd1a0859d0d92efb0176c</span>"
      ],
      "text/plain": [
       "<IPython.core.display.HTML object>"
      ]
     },
     "metadata": {},
     "output_type": "display_data"
    },
    {
     "data": {
      "text/html": [
       "<span style=\"color:cyan\"> |-Score: 0.8622750043869019</span>"
      ],
      "text/plain": [
       "<IPython.core.display.HTML object>"
      ]
     },
     "metadata": {},
     "output_type": "display_data"
    },
    {
     "data": {
      "text/html": [
       "<span style=\"color:cyan\"> |-Best step: 0</span>"
      ],
      "text/plain": [
       "<IPython.core.display.HTML object>"
      ]
     },
     "metadata": {},
     "output_type": "display_data"
    },
    {
     "data": {
      "text/html": [
       "<span style=\"color:#7E57C2\"><h2 style=\"font-size:16px\">Hyperparameters:</h2></span>"
      ],
      "text/plain": [
       "<IPython.core.display.HTML object>"
      ]
     },
     "metadata": {},
     "output_type": "display_data"
    },
    {
     "data": {
      "text/html": [
       "<span style=\"color:cyan\"> |-drop_rate_0: 0.5</span>"
      ],
      "text/plain": [
       "<IPython.core.display.HTML object>"
      ]
     },
     "metadata": {},
     "output_type": "display_data"
    },
    {
     "data": {
      "text/html": [
       "<span style=\"color:blue\"> |-drop_rate_1: 0.1</span>"
      ],
      "text/plain": [
       "<IPython.core.display.HTML object>"
      ]
     },
     "metadata": {},
     "output_type": "display_data"
    },
    {
     "data": {
      "text/html": [
       "<span style=\"color:cyan\"> |-drop_rate_2: 0.3</span>"
      ],
      "text/plain": [
       "<IPython.core.display.HTML object>"
      ]
     },
     "metadata": {},
     "output_type": "display_data"
    },
    {
     "data": {
      "text/html": [
       "<span style=\"color:blue\"> |-drop_rate_3: 0.9</span>"
      ],
      "text/plain": [
       "<IPython.core.display.HTML object>"
      ]
     },
     "metadata": {},
     "output_type": "display_data"
    },
    {
     "data": {
      "text/html": [
       "<span style=\"color:cyan\"> |-num_layers: 2</span>"
      ],
      "text/plain": [
       "<IPython.core.display.HTML object>"
      ]
     },
     "metadata": {},
     "output_type": "display_data"
    },
    {
     "data": {
      "text/html": [
       "<span style=\"color:blue\"> |-units_0: 56</span>"
      ],
      "text/plain": [
       "<IPython.core.display.HTML object>"
      ]
     },
     "metadata": {},
     "output_type": "display_data"
    },
    {
     "data": {
      "text/html": [
       "<span style=\"color:cyan\"> |-units_1: 40</span>"
      ],
      "text/plain": [
       "<IPython.core.display.HTML object>"
      ]
     },
     "metadata": {},
     "output_type": "display_data"
    },
    {
     "data": {
      "text/html": [
       "<span style=\"color:blue\"> |-units_2: 32</span>"
      ],
      "text/plain": [
       "<IPython.core.display.HTML object>"
      ]
     },
     "metadata": {},
     "output_type": "display_data"
    },
    {
     "data": {
      "text/html": [
       "<span style=\"color:cyan\"> |-units_3: 64</span>"
      ],
      "text/plain": [
       "<IPython.core.display.HTML object>"
      ]
     },
     "metadata": {},
     "output_type": "display_data"
    },
    {
     "data": {
      "text/html": [
       "<span style=\"color:#4527A0\"><h1 style=\"font-size:18px\">Results summary</h1></span>"
      ],
      "text/plain": [
       "<IPython.core.display.HTML object>"
      ]
     },
     "metadata": {},
     "output_type": "display_data"
    },
    {
     "data": {
      "text/html": [
       "<span style=\"color:cyan\"> |-Results in test_dir/b_tune_nn</span>"
      ],
      "text/plain": [
       "<IPython.core.display.HTML object>"
      ]
     },
     "metadata": {},
     "output_type": "display_data"
    },
    {
     "data": {
      "text/html": [
       "<span style=\"color:cyan\"> |-Showing 10 best trials</span>"
      ],
      "text/plain": [
       "<IPython.core.display.HTML object>"
      ]
     },
     "metadata": {},
     "output_type": "display_data"
    },
    {
     "data": {
      "text/html": [
       "<span style=\"color:cyan\"> |-Objective(name='val_accuracy', direction='max')</span>"
      ],
      "text/plain": [
       "<IPython.core.display.HTML object>"
      ]
     },
     "metadata": {},
     "output_type": "display_data"
    },
    {
     "data": {
      "text/html": [
       "<span style=\"color:#4527A0\"><h1 style=\"font-size:18px\">Trial summary</h1></span>"
      ],
      "text/plain": [
       "<IPython.core.display.HTML object>"
      ]
     },
     "metadata": {},
     "output_type": "display_data"
    },
    {
     "data": {
      "text/html": [
       "<span style=\"color:cyan\"> |-Trial ID: 3c2fa606d19dd1a0859d0d92efb0176c</span>"
      ],
      "text/plain": [
       "<IPython.core.display.HTML object>"
      ]
     },
     "metadata": {},
     "output_type": "display_data"
    },
    {
     "data": {
      "text/html": [
       "<span style=\"color:cyan\"> |-Score: 0.8622750043869019</span>"
      ],
      "text/plain": [
       "<IPython.core.display.HTML object>"
      ]
     },
     "metadata": {},
     "output_type": "display_data"
    },
    {
     "data": {
      "text/html": [
       "<span style=\"color:cyan\"> |-Best step: 0</span>"
      ],
      "text/plain": [
       "<IPython.core.display.HTML object>"
      ]
     },
     "metadata": {},
     "output_type": "display_data"
    },
    {
     "data": {
      "text/html": [
       "<span style=\"color:#7E57C2\"><h2 style=\"font-size:16px\">Hyperparameters:</h2></span>"
      ],
      "text/plain": [
       "<IPython.core.display.HTML object>"
      ]
     },
     "metadata": {},
     "output_type": "display_data"
    },
    {
     "data": {
      "text/html": [
       "<span style=\"color:cyan\"> |-drop_rate_0: 0.5</span>"
      ],
      "text/plain": [
       "<IPython.core.display.HTML object>"
      ]
     },
     "metadata": {},
     "output_type": "display_data"
    },
    {
     "data": {
      "text/html": [
       "<span style=\"color:blue\"> |-drop_rate_1: 0.1</span>"
      ],
      "text/plain": [
       "<IPython.core.display.HTML object>"
      ]
     },
     "metadata": {},
     "output_type": "display_data"
    },
    {
     "data": {
      "text/html": [
       "<span style=\"color:cyan\"> |-drop_rate_2: 0.3</span>"
      ],
      "text/plain": [
       "<IPython.core.display.HTML object>"
      ]
     },
     "metadata": {},
     "output_type": "display_data"
    },
    {
     "data": {
      "text/html": [
       "<span style=\"color:blue\"> |-drop_rate_3: 0.9</span>"
      ],
      "text/plain": [
       "<IPython.core.display.HTML object>"
      ]
     },
     "metadata": {},
     "output_type": "display_data"
    },
    {
     "data": {
      "text/html": [
       "<span style=\"color:cyan\"> |-num_layers: 2</span>"
      ],
      "text/plain": [
       "<IPython.core.display.HTML object>"
      ]
     },
     "metadata": {},
     "output_type": "display_data"
    },
    {
     "data": {
      "text/html": [
       "<span style=\"color:blue\"> |-units_0: 56</span>"
      ],
      "text/plain": [
       "<IPython.core.display.HTML object>"
      ]
     },
     "metadata": {},
     "output_type": "display_data"
    },
    {
     "data": {
      "text/html": [
       "<span style=\"color:cyan\"> |-units_1: 40</span>"
      ],
      "text/plain": [
       "<IPython.core.display.HTML object>"
      ]
     },
     "metadata": {},
     "output_type": "display_data"
    },
    {
     "data": {
      "text/html": [
       "<span style=\"color:blue\"> |-units_2: 32</span>"
      ],
      "text/plain": [
       "<IPython.core.display.HTML object>"
      ]
     },
     "metadata": {},
     "output_type": "display_data"
    },
    {
     "data": {
      "text/html": [
       "<span style=\"color:cyan\"> |-units_3: 64</span>"
      ],
      "text/plain": [
       "<IPython.core.display.HTML object>"
      ]
     },
     "metadata": {},
     "output_type": "display_data"
    },
    {
     "data": {
      "text/html": [
       "<span style=\"color:#4527A0\"><h1 style=\"font-size:18px\">Trial summary</h1></span>"
      ],
      "text/plain": [
       "<IPython.core.display.HTML object>"
      ]
     },
     "metadata": {},
     "output_type": "display_data"
    },
    {
     "data": {
      "text/html": [
       "<span style=\"color:cyan\"> |-Trial ID: 46bae81bd1f388268d289ebf123bdbac</span>"
      ],
      "text/plain": [
       "<IPython.core.display.HTML object>"
      ]
     },
     "metadata": {},
     "output_type": "display_data"
    },
    {
     "data": {
      "text/html": [
       "<span style=\"color:cyan\"> |-Score: 0.5493624806404114</span>"
      ],
      "text/plain": [
       "<IPython.core.display.HTML object>"
      ]
     },
     "metadata": {},
     "output_type": "display_data"
    },
    {
     "data": {
      "text/html": [
       "<span style=\"color:cyan\"> |-Best step: 0</span>"
      ],
      "text/plain": [
       "<IPython.core.display.HTML object>"
      ]
     },
     "metadata": {},
     "output_type": "display_data"
    },
    {
     "data": {
      "text/html": [
       "<span style=\"color:#7E57C2\"><h2 style=\"font-size:16px\">Hyperparameters:</h2></span>"
      ],
      "text/plain": [
       "<IPython.core.display.HTML object>"
      ]
     },
     "metadata": {},
     "output_type": "display_data"
    },
    {
     "data": {
      "text/html": [
       "<span style=\"color:cyan\"> |-drop_rate_0: 0.6</span>"
      ],
      "text/plain": [
       "<IPython.core.display.HTML object>"
      ]
     },
     "metadata": {},
     "output_type": "display_data"
    },
    {
     "data": {
      "text/html": [
       "<span style=\"color:blue\"> |-drop_rate_1: 0.0</span>"
      ],
      "text/plain": [
       "<IPython.core.display.HTML object>"
      ]
     },
     "metadata": {},
     "output_type": "display_data"
    },
    {
     "data": {
      "text/html": [
       "<span style=\"color:cyan\"> |-drop_rate_2: 0.0</span>"
      ],
      "text/plain": [
       "<IPython.core.display.HTML object>"
      ]
     },
     "metadata": {},
     "output_type": "display_data"
    },
    {
     "data": {
      "text/html": [
       "<span style=\"color:blue\"> |-drop_rate_3: 0.0</span>"
      ],
      "text/plain": [
       "<IPython.core.display.HTML object>"
      ]
     },
     "metadata": {},
     "output_type": "display_data"
    },
    {
     "data": {
      "text/html": [
       "<span style=\"color:cyan\"> |-num_layers: 4</span>"
      ],
      "text/plain": [
       "<IPython.core.display.HTML object>"
      ]
     },
     "metadata": {},
     "output_type": "display_data"
    },
    {
     "data": {
      "text/html": [
       "<span style=\"color:blue\"> |-units_0: 8</span>"
      ],
      "text/plain": [
       "<IPython.core.display.HTML object>"
      ]
     },
     "metadata": {},
     "output_type": "display_data"
    },
    {
     "data": {
      "text/html": [
       "<span style=\"color:cyan\"> |-units_1: 8</span>"
      ],
      "text/plain": [
       "<IPython.core.display.HTML object>"
      ]
     },
     "metadata": {},
     "output_type": "display_data"
    },
    {
     "data": {
      "text/html": [
       "<span style=\"color:blue\"> |-units_2: 8</span>"
      ],
      "text/plain": [
       "<IPython.core.display.HTML object>"
      ]
     },
     "metadata": {},
     "output_type": "display_data"
    },
    {
     "data": {
      "text/html": [
       "<span style=\"color:cyan\"> |-units_3: 8</span>"
      ],
      "text/plain": [
       "<IPython.core.display.HTML object>"
      ]
     },
     "metadata": {},
     "output_type": "display_data"
    },
    {
     "name": "stdout",
     "output_type": "stream",
     "text": [
      "{'drop_rate_0': 0.5,\n",
      " 'drop_rate_1': 0.1,\n",
      " 'drop_rate_2': 0.3,\n",
      " 'drop_rate_3': 0.9,\n",
      " 'num_layers': 2,\n",
      " 'units_0': 56,\n",
      " 'units_1': 40,\n",
      " 'units_2': 32,\n",
      " 'units_3': 64}\n"
     ]
    }
   ],
   "source": [
    "b_tuner.search(x=X_train,\n",
    "             y=y_train,\n",
    "             epochs=TRAIN_EPOCHS,\n",
    "             validation_data=(X_test, y_test))\n",
    "  \n",
    "b_tuner.results_summary()\n",
    "\n",
    "pprint(b_tuner.oracle.get_best_trials(num_trials=1)[0].hyperparameters.values)"
   ]
  },
  {
   "cell_type": "code",
   "execution_count": 64,
   "metadata": {
    "id": "VDVWT-7QuMJh"
   },
   "outputs": [],
   "source": [
    "import kerastuner as kt\n",
    "from sklearn import ensemble\n",
    "from sklearn import metrics\n",
    "from sklearn import datasets\n",
    "from sklearn import model_selection"
   ]
  },
  {
   "cell_type": "code",
   "execution_count": 65,
   "metadata": {
    "id": "rOeIl7qovSog"
   },
   "outputs": [],
   "source": [
    "def build_tree_model(hp):      \n",
    "  return ensemble.RandomForestClassifier(\n",
    "      n_estimators=hp.Int('n_estimators', 10, 80, step=5),\n",
    "      max_depth=hp.Int('max_depth', 3, 10, step=1),\n",
    "      max_features=hp.Choice('max_features', ['auto', 'sqrt', 'log2'])\n",
    "  )\n",
    "\n",
    "sk_tuner = kt.tuners.Sklearn(\n",
    "  oracle=kt.oracles.BayesianOptimization(\n",
    "      objective=kt.Objective('score', 'max'),\n",
    "      max_trials=MAX_TRIALS,\n",
    "      seed=RANDOM_SEED\n",
    "  ),\n",
    "  hypermodel=build_tree_model,\n",
    "  scoring=metrics.make_scorer(metrics.accuracy_score),\n",
    "  cv=model_selection.StratifiedKFold(5),\n",
    "  directory='test_dir',\n",
    "  project_name='tune_rf'\n",
    ")"
   ]
  },
  {
   "cell_type": "code",
   "execution_count": 69,
   "metadata": {
    "id": "MDUAFESvvqE7"
   },
   "outputs": [
    {
     "data": {
      "text/html": [
       "<span style=\"color:#4527A0\"><h1 style=\"font-size:18px\">Trial complete</h1></span>"
      ],
      "text/plain": [
       "<IPython.core.display.HTML object>"
      ]
     },
     "metadata": {},
     "output_type": "display_data"
    },
    {
     "data": {
      "text/html": [
       "<span style=\"color:#4527A0\"><h1 style=\"font-size:18px\">Trial summary</h1></span>"
      ],
      "text/plain": [
       "<IPython.core.display.HTML object>"
      ]
     },
     "metadata": {},
     "output_type": "display_data"
    },
    {
     "data": {
      "text/html": [
       "<span style=\"color:cyan\"> |-Trial ID: f1c832ff048ac9ea32d6fc39482787e0</span>"
      ],
      "text/plain": [
       "<IPython.core.display.HTML object>"
      ]
     },
     "metadata": {},
     "output_type": "display_data"
    },
    {
     "data": {
      "text/html": [
       "<span style=\"color:cyan\"> |-Score: 0.5420666666666667</span>"
      ],
      "text/plain": [
       "<IPython.core.display.HTML object>"
      ]
     },
     "metadata": {},
     "output_type": "display_data"
    },
    {
     "data": {
      "text/html": [
       "<span style=\"color:cyan\"> |-Best step: 0</span>"
      ],
      "text/plain": [
       "<IPython.core.display.HTML object>"
      ]
     },
     "metadata": {},
     "output_type": "display_data"
    },
    {
     "data": {
      "text/html": [
       "<span style=\"color:#7E57C2\"><h2 style=\"font-size:16px\">Hyperparameters:</h2></span>"
      ],
      "text/plain": [
       "<IPython.core.display.HTML object>"
      ]
     },
     "metadata": {},
     "output_type": "display_data"
    },
    {
     "data": {
      "text/html": [
       "<span style=\"color:cyan\"> |-max_depth: 3</span>"
      ],
      "text/plain": [
       "<IPython.core.display.HTML object>"
      ]
     },
     "metadata": {},
     "output_type": "display_data"
    },
    {
     "data": {
      "text/html": [
       "<span style=\"color:blue\"> |-max_features: sqrt</span>"
      ],
      "text/plain": [
       "<IPython.core.display.HTML object>"
      ]
     },
     "metadata": {},
     "output_type": "display_data"
    },
    {
     "data": {
      "text/html": [
       "<span style=\"color:cyan\"> |-n_estimators: 55</span>"
      ],
      "text/plain": [
       "<IPython.core.display.HTML object>"
      ]
     },
     "metadata": {},
     "output_type": "display_data"
    },
    {
     "data": {
      "text/html": [
       "<span style=\"color:#4527A0\"><h1 style=\"font-size:18px\">Trial complete</h1></span>"
      ],
      "text/plain": [
       "<IPython.core.display.HTML object>"
      ]
     },
     "metadata": {},
     "output_type": "display_data"
    },
    {
     "data": {
      "text/html": [
       "<span style=\"color:#4527A0\"><h1 style=\"font-size:18px\">Trial summary</h1></span>"
      ],
      "text/plain": [
       "<IPython.core.display.HTML object>"
      ]
     },
     "metadata": {},
     "output_type": "display_data"
    },
    {
     "data": {
      "text/html": [
       "<span style=\"color:cyan\"> |-Trial ID: 8b8b0c2bf3c0671492540f714cfd9415</span>"
      ],
      "text/plain": [
       "<IPython.core.display.HTML object>"
      ]
     },
     "metadata": {},
     "output_type": "display_data"
    },
    {
     "data": {
      "text/html": [
       "<span style=\"color:cyan\"> |-Score: 0.7872</span>"
      ],
      "text/plain": [
       "<IPython.core.display.HTML object>"
      ]
     },
     "metadata": {},
     "output_type": "display_data"
    },
    {
     "data": {
      "text/html": [
       "<span style=\"color:cyan\"> |-Best step: 0</span>"
      ],
      "text/plain": [
       "<IPython.core.display.HTML object>"
      ]
     },
     "metadata": {},
     "output_type": "display_data"
    },
    {
     "data": {
      "text/html": [
       "<span style=\"color:#7E57C2\"><h2 style=\"font-size:16px\">Hyperparameters:</h2></span>"
      ],
      "text/plain": [
       "<IPython.core.display.HTML object>"
      ]
     },
     "metadata": {},
     "output_type": "display_data"
    },
    {
     "data": {
      "text/html": [
       "<span style=\"color:cyan\"> |-max_depth: 9</span>"
      ],
      "text/plain": [
       "<IPython.core.display.HTML object>"
      ]
     },
     "metadata": {},
     "output_type": "display_data"
    },
    {
     "data": {
      "text/html": [
       "<span style=\"color:blue\"> |-max_features: sqrt</span>"
      ],
      "text/plain": [
       "<IPython.core.display.HTML object>"
      ]
     },
     "metadata": {},
     "output_type": "display_data"
    },
    {
     "data": {
      "text/html": [
       "<span style=\"color:cyan\"> |-n_estimators: 30</span>"
      ],
      "text/plain": [
       "<IPython.core.display.HTML object>"
      ]
     },
     "metadata": {},
     "output_type": "display_data"
    }
   ],
   "source": [
    "sk_tuner.search(X_train, y_train)"
   ]
  },
  {
   "cell_type": "code",
   "execution_count": 70,
   "metadata": {
    "id": "UJTs0SUV4d8q"
   },
   "outputs": [
    {
     "data": {
      "text/html": [
       "<span style=\"color:#4527A0\"><h1 style=\"font-size:18px\">Results summary</h1></span>"
      ],
      "text/plain": [
       "<IPython.core.display.HTML object>"
      ]
     },
     "metadata": {},
     "output_type": "display_data"
    },
    {
     "data": {
      "text/html": [
       "<span style=\"color:cyan\"> |-Results in test_dir/tune_rf</span>"
      ],
      "text/plain": [
       "<IPython.core.display.HTML object>"
      ]
     },
     "metadata": {},
     "output_type": "display_data"
    },
    {
     "data": {
      "text/html": [
       "<span style=\"color:cyan\"> |-Showing 10 best trials</span>"
      ],
      "text/plain": [
       "<IPython.core.display.HTML object>"
      ]
     },
     "metadata": {},
     "output_type": "display_data"
    },
    {
     "data": {
      "text/html": [
       "<span style=\"color:cyan\"> |-Objective(name='score', direction='max')</span>"
      ],
      "text/plain": [
       "<IPython.core.display.HTML object>"
      ]
     },
     "metadata": {},
     "output_type": "display_data"
    },
    {
     "data": {
      "text/html": [
       "<span style=\"color:#4527A0\"><h1 style=\"font-size:18px\">Trial summary</h1></span>"
      ],
      "text/plain": [
       "<IPython.core.display.HTML object>"
      ]
     },
     "metadata": {},
     "output_type": "display_data"
    },
    {
     "data": {
      "text/html": [
       "<span style=\"color:cyan\"> |-Trial ID: 8b8b0c2bf3c0671492540f714cfd9415</span>"
      ],
      "text/plain": [
       "<IPython.core.display.HTML object>"
      ]
     },
     "metadata": {},
     "output_type": "display_data"
    },
    {
     "data": {
      "text/html": [
       "<span style=\"color:cyan\"> |-Score: 0.7872</span>"
      ],
      "text/plain": [
       "<IPython.core.display.HTML object>"
      ]
     },
     "metadata": {},
     "output_type": "display_data"
    },
    {
     "data": {
      "text/html": [
       "<span style=\"color:cyan\"> |-Best step: 0</span>"
      ],
      "text/plain": [
       "<IPython.core.display.HTML object>"
      ]
     },
     "metadata": {},
     "output_type": "display_data"
    },
    {
     "data": {
      "text/html": [
       "<span style=\"color:#7E57C2\"><h2 style=\"font-size:16px\">Hyperparameters:</h2></span>"
      ],
      "text/plain": [
       "<IPython.core.display.HTML object>"
      ]
     },
     "metadata": {},
     "output_type": "display_data"
    },
    {
     "data": {
      "text/html": [
       "<span style=\"color:cyan\"> |-max_depth: 9</span>"
      ],
      "text/plain": [
       "<IPython.core.display.HTML object>"
      ]
     },
     "metadata": {},
     "output_type": "display_data"
    },
    {
     "data": {
      "text/html": [
       "<span style=\"color:blue\"> |-max_features: sqrt</span>"
      ],
      "text/plain": [
       "<IPython.core.display.HTML object>"
      ]
     },
     "metadata": {},
     "output_type": "display_data"
    },
    {
     "data": {
      "text/html": [
       "<span style=\"color:cyan\"> |-n_estimators: 30</span>"
      ],
      "text/plain": [
       "<IPython.core.display.HTML object>"
      ]
     },
     "metadata": {},
     "output_type": "display_data"
    },
    {
     "data": {
      "text/html": [
       "<span style=\"color:#4527A0\"><h1 style=\"font-size:18px\">Trial summary</h1></span>"
      ],
      "text/plain": [
       "<IPython.core.display.HTML object>"
      ]
     },
     "metadata": {},
     "output_type": "display_data"
    },
    {
     "data": {
      "text/html": [
       "<span style=\"color:cyan\"> |-Trial ID: f1c832ff048ac9ea32d6fc39482787e0</span>"
      ],
      "text/plain": [
       "<IPython.core.display.HTML object>"
      ]
     },
     "metadata": {},
     "output_type": "display_data"
    },
    {
     "data": {
      "text/html": [
       "<span style=\"color:cyan\"> |-Score: 0.5420666666666667</span>"
      ],
      "text/plain": [
       "<IPython.core.display.HTML object>"
      ]
     },
     "metadata": {},
     "output_type": "display_data"
    },
    {
     "data": {
      "text/html": [
       "<span style=\"color:cyan\"> |-Best step: 0</span>"
      ],
      "text/plain": [
       "<IPython.core.display.HTML object>"
      ]
     },
     "metadata": {},
     "output_type": "display_data"
    },
    {
     "data": {
      "text/html": [
       "<span style=\"color:#7E57C2\"><h2 style=\"font-size:16px\">Hyperparameters:</h2></span>"
      ],
      "text/plain": [
       "<IPython.core.display.HTML object>"
      ]
     },
     "metadata": {},
     "output_type": "display_data"
    },
    {
     "data": {
      "text/html": [
       "<span style=\"color:cyan\"> |-max_depth: 3</span>"
      ],
      "text/plain": [
       "<IPython.core.display.HTML object>"
      ]
     },
     "metadata": {},
     "output_type": "display_data"
    },
    {
     "data": {
      "text/html": [
       "<span style=\"color:blue\"> |-max_features: sqrt</span>"
      ],
      "text/plain": [
       "<IPython.core.display.HTML object>"
      ]
     },
     "metadata": {},
     "output_type": "display_data"
    },
    {
     "data": {
      "text/html": [
       "<span style=\"color:cyan\"> |-n_estimators: 55</span>"
      ],
      "text/plain": [
       "<IPython.core.display.HTML object>"
      ]
     },
     "metadata": {},
     "output_type": "display_data"
    }
   ],
   "source": [
    "sk_tuner.results_summary()"
   ]
  },
  {
   "cell_type": "code",
   "execution_count": 71,
   "metadata": {
    "id": "u2bfgrNawVbW"
   },
   "outputs": [
    {
     "name": "stdout",
     "output_type": "stream",
     "text": [
      "{'max_depth': 9, 'max_features': 'sqrt', 'n_estimators': 30}\n"
     ]
    }
   ],
   "source": [
    "pprint(sk_tuner.oracle.get_best_trials(num_trials=1)[0].hyperparameters.values)"
   ]
  },
  {
   "cell_type": "code",
   "execution_count": null,
   "metadata": {
    "id": "F8iJkPM2mDDV"
   },
   "outputs": [],
   "source": [
    "# tuner.search(X_train, y_train, epochs = 10, validation_data = (X_test, y_test), callbacks = [ClearTrainingOutput()])\n",
    "\n",
    "# # Get the optimal hyperparameters\n",
    "# best_hps = tuner.get_best_hyperparameters(num_trials = 1)[0]\n",
    "\n",
    "# print(f\"\"\"\n",
    "# The hyperparameter search is complete. The optimal number of units in the first densely-connected\n",
    "# layer is {best_hps.get('units')} and the optimal learning rate for the optimizer\n",
    "# is {best_hps.get('learning_rate')}.\n",
    "# \"\"\")"
   ]
  },
  {
   "cell_type": "code",
   "execution_count": null,
   "metadata": {
    "id": "ZDe-k-_sn71g"
   },
   "outputs": [],
   "source": [
    "from datetime import datetime\n",
    "from packaging import version\n",
    "from tensorboard.plugins.hparams import api as hp\n",
    "\n",
    "# Define the Keras TensorBoard callback.\n",
    "logdir=\"logs/fit/\" + datetime.now().strftime(\"%Y%m%d-%H%M%S\")\n",
    "callback = keras.callbacks.TensorBoard(log_dir=logdir)\n",
    "# Clear any logs from previous runs\n",
    "!rm -rf ./logs/\n",
    "\n",
    "model = tuner.hypermodel.build(best_hps)\n",
    "model.fit(X_train, y_train, epochs = 10, validation_data = (X_train, y_train), callbacks=[\n",
    "        tf.keras.callbacks.TensorBoard(logdir)])"
   ]
  },
  {
   "cell_type": "code",
   "execution_count": null,
   "metadata": {
    "id": "tDahtKfcsGSM"
   },
   "outputs": [],
   "source": [
    "# %tensorboard --logdir logs"
   ]
  },
  {
   "cell_type": "markdown",
   "metadata": {
    "id": "pScpa3nRRxCN"
   },
   "source": [
    "## Deploy\n",
    "\n",
    "Save your model's weights using the Checkpoint function. Try reloading the model and making inference on your validation dataset."
   ]
  },
  {
   "cell_type": "markdown",
   "metadata": {
    "id": "LKbr1gRg9BXs"
   },
   "source": [
    "### Stretch Goals\n",
    "- Mount your Google Drive to Colab to persist your model checkpoint files. \n",
    "- Research L2 normalization (weight decay)\n",
    "- Write a custom callback function to stop training after you reach .88 validation accuracy. \n",
    "- Select a new dataset and apply a neural network to it.\n",
    "- Research TensorFlow Serving\n",
    "- Play [QuickDraw](https://quickdraw.withgoogle.com/data)\n",
    "- Create a static webpage using TensorFlow.js to serve a model. Check out [Teachable Machine Learning](https://teachablemachine.withgoogle.com/) for ideas. "
   ]
  },
  {
   "cell_type": "code",
   "execution_count": 72,
   "metadata": {
    "id": "0hLuNZfGka74"
   },
   "outputs": [
    {
     "ename": "NameError",
     "evalue": "name 'sweep_config' is not defined",
     "output_type": "error",
     "traceback": [
      "\u001b[0;31m---------------------------------------------------------------------------\u001b[0m",
      "\u001b[0;31mNameError\u001b[0m                                 Traceback (most recent call last)",
      "\u001b[0;32m<ipython-input-72-7dc15ecef50f>\u001b[0m in \u001b[0;36m<module>\u001b[0;34m\u001b[0m\n\u001b[1;32m     36\u001b[0m \u001b[0;34m\u001b[0m\u001b[0m\n\u001b[1;32m     37\u001b[0m \u001b[0;31m# Initializing new sweep\u001b[0m\u001b[0;34m\u001b[0m\u001b[0;34m\u001b[0m\u001b[0;34m\u001b[0m\u001b[0m\n\u001b[0;32m---> 38\u001b[0;31m \u001b[0msweep_id\u001b[0m \u001b[0;34m=\u001b[0m \u001b[0mwandb\u001b[0m\u001b[0;34m.\u001b[0m\u001b[0msweep\u001b[0m\u001b[0;34m(\u001b[0m\u001b[0msweep_config\u001b[0m\u001b[0;34m,\u001b[0m \u001b[0mentity\u001b[0m\u001b[0;34m=\u001b[0m\u001b[0;34m\"reece323\"\u001b[0m\u001b[0;34m,\u001b[0m \u001b[0mproject\u001b[0m\u001b[0;34m=\u001b[0m\u001b[0mwandb_project\u001b[0m\u001b[0;34m)\u001b[0m\u001b[0;34m\u001b[0m\u001b[0;34m\u001b[0m\u001b[0m\n\u001b[0m\u001b[1;32m     39\u001b[0m \u001b[0;31m#training model\u001b[0m\u001b[0;34m\u001b[0m\u001b[0;34m\u001b[0m\u001b[0;34m\u001b[0m\u001b[0m\n\u001b[1;32m     40\u001b[0m \u001b[0;34m\u001b[0m\u001b[0m\n",
      "\u001b[0;31mNameError\u001b[0m: name 'sweep_config' is not defined"
     ]
    }
   ],
   "source": [
    "# # Configuring sweep\n",
    "\n",
    "# hp = {\n",
    "#     'method': 'random', #grid, random\n",
    "#     'metric': {\n",
    "#       'name': 'accuracy',\n",
    "#       'goal': 'maximize'   \n",
    "#     },\n",
    "#     'parameters': {\n",
    "#         'epochs': {\n",
    "#             'values': [1, 2]\n",
    "#         },\n",
    "#         'batch_size': {\n",
    "#             'values': [2560, 1280, 640, 500]\n",
    "#         },\n",
    "#         'dropout': {\n",
    "#             'values': [0.3, 0.4, 0.5]\n",
    "#         },\n",
    "#         'conv_layer_size': {\n",
    "#             'values': [16, 32, 64]\n",
    "#         },\n",
    "#         'weight_decay': {\n",
    "#             'values': [0.0005, 0.005, 0.05]\n",
    "#         },\n",
    "#         'learning_rate': {\n",
    "#             'values': [1e-2, 1e-3, 1e-4, 3e-4, 3e-5, 1e-5]\n",
    "#         },\n",
    "#         'optimizer': {\n",
    "#             'values': ['adam', 'nadam', 'sgd', 'rmsprop']\n",
    "#         },\n",
    "#         'activation': {\n",
    "#             'values': ['relu', 'elu', 'selu', 'softmax']\n",
    "#         }\n",
    "#     }\n",
    "# }\n",
    "\n",
    "# # Initializing new sweep\n",
    "# sweep_id = wandb.sweep(sweep_config, entity=\"reece323\", project=wandb_project)\n",
    "# #training model\n",
    "\n",
    "# def train():\n",
    "#     config_defaults = {\n",
    "#         'epochs': 5,     \n",
    "#         'batch_size': 1280,\n",
    "#         'weight_decay': 0.0005,\n",
    "#         'learning_rate': 1e-3,\n",
    "#         'activation': 'relu',\n",
    "#         'optimizer': 'nadam',\n",
    "#         'hidden_layer_size': 64,\n",
    "#         'conv_layer_size': 8,\n",
    "#         'dropout': 0.5,\n",
    "#         'momentum': 0.9,\n",
    "#         'seed': 42\n",
    "#     }\n",
    "\n",
    "#     wandb.init(config=config_defaults)\n",
    "\n",
    "#     config = wandb.config\n",
    "    \n",
    "#     model = Sequential()\n",
    "    \n",
    "#     model.add(Conv2D(filters = config.conv_layer_size, kernel_size = (3, 3), padding = 'same', \n",
    "#                      activation ='relu', input_shape=(img_width, img_height,1)))\n",
    "#     model.add(Dropout(config.dropout))\n",
    "\n",
    "#     model.add(Conv2D(filters = config.conv_layer_size, kernel_size = (3, 3),\n",
    "#                      padding = 'same', activation ='relu'))\n",
    "#     model.add(MaxPooling2D(pool_size=(2, 2)))\n",
    "\n",
    "#     model.add(Flatten())\n",
    "#     model.add(Dense(config.hidden_layer_size, activation ='relu'))\n",
    "\n",
    "#     model.add(Dense(num_classes, activation = \"softmax\"))\n",
    "\n",
    "#     if config.optimizer=='sgd':\n",
    "#       optimizer = SGD(lr=config.learning_rate, decay=1e-5, momentum=config.momentum, nesterov=True)\n",
    "#     elif config.optimizer=='rmsprop':\n",
    "#       optimizer = RMSprop(lr=config.learning_rate, decay=1e-5)\n",
    "#     elif config.optimizer=='adam':\n",
    "#       optimizer = Adam(lr=config.learning_rate, beta_1=0.9, beta_2=0.999, clipnorm=1.0)\n",
    "#     elif config.optimizer=='nadam':\n",
    "#       optimizer = Nadam(lr=config.learning_rate, beta_1=0.9, beta_2=0.999, clipnorm=1.0)\n",
    "\n",
    "#     model.compile(loss = \"categorical_crossentropy\", optimizer = optimizer, metrics=['accuracy'])\n",
    "\n",
    "#     model.fit(X_train, y_train, batch_size=config.batch_size,\n",
    "#               epochs=config.epochs,\n",
    "#               validation_data=(X_test, y_test),\n",
    "#               callbacks=[WandbCallback(data_type=\"image\", validation_data=(X_test, y_test), labels=class_names),\n",
    "#                           EarlyStopping(patience=10, restore_best_weights=True)])\n",
    "# # initializing sweep\n",
    "# wandb.agent(sweep_id, train)"
   ]
  },
  {
   "cell_type": "code",
   "execution_count": null,
   "metadata": {},
   "outputs": [],
   "source": []
  }
 ],
 "metadata": {
  "accelerator": "GPU",
  "colab": {
   "collapsed_sections": [],
   "name": "LS_DS_424_Deploy_Assignment.ipynb",
   "provenance": []
  },
  "kernelspec": {
   "display_name": "U4-S1-NLP",
   "language": "python",
   "name": "u4-s1-nlp"
  },
  "language_info": {
   "codemirror_mode": {
    "name": "ipython",
    "version": 3
   },
   "file_extension": ".py",
   "mimetype": "text/x-python",
   "name": "python",
   "nbconvert_exporter": "python",
   "pygments_lexer": "ipython3",
   "version": "3.8.6"
  },
  "nteract": {
   "version": "0.22.4"
  }
 },
 "nbformat": 4,
 "nbformat_minor": 1
}
